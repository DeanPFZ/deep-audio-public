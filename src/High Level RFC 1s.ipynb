{
 "cells": [
  {
   "cell_type": "code",
   "execution_count": 1,
   "metadata": {},
   "outputs": [
    {
     "name": "stderr",
     "output_type": "stream",
     "text": [
      "Using TensorFlow backend.\n"
     ]
    },
    {
     "name": "stdout",
     "output_type": "stream",
     "text": [
      "WARNING:tensorflow:From /usr/local/lib/python3.5/dist-packages/magenta/models/nsynth/wavenet/masked.py:115: UniformUnitScaling.__init__ (from tensorflow.python.ops.init_ops) is deprecated and will be removed in a future version.\n",
      "Instructions for updating:\n",
      "Use tf.initializers.variance_scaling instead with distribution=uniform to get equivalent behavior.\n"
     ]
    },
    {
     "name": "stderr",
     "output_type": "stream",
     "text": [
      "/usr/lib/python3.5/importlib/_bootstrap.py:222: RuntimeWarning: numpy.dtype size changed, may indicate binary incompatibility. Expected 96, got 88\n",
      "  return f(*args, **kwds)\n"
     ]
    }
   ],
   "source": [
    "import pandas as pd\n",
    "from preprocess import Audio_Processor\n",
    "from sklearn import metrics\n",
    "from classification_plots import plot_confusion_matrix, plot_learning_curve\n",
    "import matplotlib.pyplot as plt\n",
    "import os\n",
    "from sklearn.ensemble import RandomForestClassifier"
   ]
  },
  {
   "cell_type": "code",
   "execution_count": 2,
   "metadata": {},
   "outputs": [],
   "source": [
    "# Able to specify which GPU to use\n",
    "os.environ[\"CUDA_VISIBLE_DEVICES\"]=\"1\"\n",
    "\n",
    "SR = 16000\n",
    "blocksize = int(SR)\n",
    "overlap = int(SR/2)"
   ]
  },
  {
   "cell_type": "code",
   "execution_count": 3,
   "metadata": {},
   "outputs": [],
   "source": [
    "import warnings\n",
    "warnings.filterwarnings('ignore')"
   ]
  },
  {
   "cell_type": "markdown",
   "metadata": {},
   "source": [
    "# Setup"
   ]
  },
  {
   "cell_type": "code",
   "execution_count": 4,
   "metadata": {},
   "outputs": [],
   "source": [
    "path_to_db='../ESC-50/'\n",
    "ps = Audio_Processor(path_to_db + 'audio/')\n",
    "dataset = pd.read_csv(path_to_db + 'meta/esc50.csv')"
   ]
  },
  {
   "cell_type": "code",
   "execution_count": 5,
   "metadata": {},
   "outputs": [],
   "source": [
    "mapping = {'dog': 0,'rooster': 0,'pig': 0,'cow': 0,'frog': 0,'cat': 0,'hen': 0,\n",
    "            'insects': 0,'sheep': 0,'crow': 0,'rain': 1,'sea_waves': 1,'crackling_fire': 1,\n",
    "            'crickets': 0,'chirping_birds': 0,'water_drops': 1,'wind': 1,'pouring_water': 1,\n",
    "            'toilet_flush': 1,'thunderstorm': 1,'crying_baby': 0,'sneezing': 0,'clapping': 0,\n",
    "            'breathing': 0,'coughing': 0,'footsteps': 1,'laughing': 0,'brushing_teeth': 1,\n",
    "            'snoring': 0,'drinking_sipping': 1,'door_wood_knock': 1,'mouse_click': 1,\n",
    "            'keyboard_typing': 1,'door_wood_creaks': 1,'can_opening': 1,'washing_machine': 1,\n",
    "            'vacuum_cleaner': 1,'clock_alarm': 1,'clock_tick': 1,'glass_breaking':1,'helicopter': 1,\n",
    "            'chainsaw': 1,'siren': 1,'car_horn': 1,'engine': 1,'train': 1,'church_bells': 1,\n",
    "            'airplane': 1,'fireworks': 1,'hand_saw': 1,\n",
    "            }\n",
    "dataset['h_target'] = None\n",
    "classes = [None] * 50\n",
    "for index, row in dataset.iterrows():\n",
    "    target = row['target']\n",
    "    classes[target] = row['category']\n",
    "    dataset.loc[index, 'h_target'] = mapping[row['category']]"
   ]
  },
  {
   "cell_type": "code",
   "execution_count": 6,
   "metadata": {},
   "outputs": [],
   "source": [
    "h_classes = ['Human & Animal', 'Interacting Materials']"
   ]
  },
  {
   "cell_type": "markdown",
   "metadata": {},
   "source": [
    "## Getting Preprocessed Data\n",
    "We allow for previously preprocessed data to be retrieved for faster training turnaround. If the fold has been preprocessed, it is loaded but if not it is processed and saved."
   ]
  },
  {
   "cell_type": "code",
   "execution_count": 7,
   "metadata": {},
   "outputs": [],
   "source": [
    "df = ps.preprocess_fold(dataset, \n",
    "                        kind='mfcc', \n",
    "                        fld=None,\n",
    "                        blocksize=blocksize, \n",
    "                        overlap=overlap)"
   ]
  },
  {
   "cell_type": "code",
   "execution_count": 8,
   "metadata": {},
   "outputs": [
    {
     "data": {
      "text/html": [
       "<div>\n",
       "<style scoped>\n",
       "    .dataframe tbody tr th:only-of-type {\n",
       "        vertical-align: middle;\n",
       "    }\n",
       "\n",
       "    .dataframe tbody tr th {\n",
       "        vertical-align: top;\n",
       "    }\n",
       "\n",
       "    .dataframe thead th {\n",
       "        text-align: right;\n",
       "    }\n",
       "</style>\n",
       "<table border=\"1\" class=\"dataframe\">\n",
       "  <thead>\n",
       "    <tr style=\"text-align: right;\">\n",
       "      <th></th>\n",
       "      <th>mfcc_2_std</th>\n",
       "      <th>mfcc_2_mean</th>\n",
       "      <th>mfcc_2_noise</th>\n",
       "      <th>mfcc_3_std</th>\n",
       "      <th>mfcc_3_mean</th>\n",
       "      <th>mfcc_3_noise</th>\n",
       "      <th>mfcc_4_std</th>\n",
       "      <th>mfcc_4_mean</th>\n",
       "      <th>mfcc_4_noise</th>\n",
       "      <th>mfcc_5_std</th>\n",
       "      <th>...</th>\n",
       "      <th>sflat_noise</th>\n",
       "      <th>sroll_std</th>\n",
       "      <th>sroll_mean</th>\n",
       "      <th>sroll_noise</th>\n",
       "      <th>rmse_std</th>\n",
       "      <th>rmse_mean</th>\n",
       "      <th>rmse_noise</th>\n",
       "      <th>h_target</th>\n",
       "      <th>target</th>\n",
       "      <th>fold</th>\n",
       "    </tr>\n",
       "  </thead>\n",
       "  <tbody>\n",
       "    <tr>\n",
       "      <th>count</th>\n",
       "      <td>2000.000000</td>\n",
       "      <td>2000.000000</td>\n",
       "      <td>2000.000000</td>\n",
       "      <td>2000.000000</td>\n",
       "      <td>2000.000000</td>\n",
       "      <td>2000.000000</td>\n",
       "      <td>2000.000000</td>\n",
       "      <td>2000.000000</td>\n",
       "      <td>2000.000000</td>\n",
       "      <td>2000.000000</td>\n",
       "      <td>...</td>\n",
       "      <td>2000.000000</td>\n",
       "      <td>2000.000000</td>\n",
       "      <td>2000.000000</td>\n",
       "      <td>2000.000000</td>\n",
       "      <td>2000.000000</td>\n",
       "      <td>2.000000e+03</td>\n",
       "      <td>2000.000000</td>\n",
       "      <td>2000.00000</td>\n",
       "      <td>2000.000000</td>\n",
       "      <td>2000.000000</td>\n",
       "    </tr>\n",
       "    <tr>\n",
       "      <th>mean</th>\n",
       "      <td>68.458234</td>\n",
       "      <td>41.711876</td>\n",
       "      <td>34.493312</td>\n",
       "      <td>29.603907</td>\n",
       "      <td>26.785781</td>\n",
       "      <td>26.477625</td>\n",
       "      <td>26.070203</td>\n",
       "      <td>26.029718</td>\n",
       "      <td>25.661683</td>\n",
       "      <td>25.149039</td>\n",
       "      <td>...</td>\n",
       "      <td>-0.025905</td>\n",
       "      <td>-0.023763</td>\n",
       "      <td>16.919189</td>\n",
       "      <td>29.299233</td>\n",
       "      <td>6.230198</td>\n",
       "      <td>9.204081e+11</td>\n",
       "      <td>4.409686</td>\n",
       "      <td>0.64000</td>\n",
       "      <td>24.500000</td>\n",
       "      <td>3.000000</td>\n",
       "    </tr>\n",
       "    <tr>\n",
       "      <th>std</th>\n",
       "      <td>26.404973</td>\n",
       "      <td>15.747895</td>\n",
       "      <td>16.224605</td>\n",
       "      <td>14.679204</td>\n",
       "      <td>14.933875</td>\n",
       "      <td>15.371118</td>\n",
       "      <td>15.328749</td>\n",
       "      <td>15.849333</td>\n",
       "      <td>15.871806</td>\n",
       "      <td>15.503510</td>\n",
       "      <td>...</td>\n",
       "      <td>0.062447</td>\n",
       "      <td>0.059585</td>\n",
       "      <td>52.761289</td>\n",
       "      <td>51.213696</td>\n",
       "      <td>16.108084</td>\n",
       "      <td>4.116190e+13</td>\n",
       "      <td>2.586990</td>\n",
       "      <td>0.48012</td>\n",
       "      <td>14.434479</td>\n",
       "      <td>1.414567</td>\n",
       "    </tr>\n",
       "    <tr>\n",
       "      <th>min</th>\n",
       "      <td>0.116061</td>\n",
       "      <td>0.138651</td>\n",
       "      <td>0.109184</td>\n",
       "      <td>0.185506</td>\n",
       "      <td>0.140898</td>\n",
       "      <td>0.199093</td>\n",
       "      <td>0.121979</td>\n",
       "      <td>0.136089</td>\n",
       "      <td>0.089897</td>\n",
       "      <td>0.075556</td>\n",
       "      <td>...</td>\n",
       "      <td>-0.401249</td>\n",
       "      <td>-0.356166</td>\n",
       "      <td>5.815685</td>\n",
       "      <td>11.600177</td>\n",
       "      <td>1.845860</td>\n",
       "      <td>8.430859e+00</td>\n",
       "      <td>0.372545</td>\n",
       "      <td>0.00000</td>\n",
       "      <td>0.000000</td>\n",
       "      <td>1.000000</td>\n",
       "    </tr>\n",
       "    <tr>\n",
       "      <th>25%</th>\n",
       "      <td>47.177445</td>\n",
       "      <td>29.895114</td>\n",
       "      <td>20.717070</td>\n",
       "      <td>16.013040</td>\n",
       "      <td>12.344110</td>\n",
       "      <td>11.573773</td>\n",
       "      <td>11.247905</td>\n",
       "      <td>10.476102</td>\n",
       "      <td>10.181782</td>\n",
       "      <td>9.668703</td>\n",
       "      <td>...</td>\n",
       "      <td>-0.063543</td>\n",
       "      <td>-0.059884</td>\n",
       "      <td>10.586711</td>\n",
       "      <td>20.305736</td>\n",
       "      <td>3.840916</td>\n",
       "      <td>1.702619e+01</td>\n",
       "      <td>2.522802</td>\n",
       "      <td>0.00000</td>\n",
       "      <td>12.000000</td>\n",
       "      <td>2.000000</td>\n",
       "    </tr>\n",
       "    <tr>\n",
       "      <th>50%</th>\n",
       "      <td>67.773387</td>\n",
       "      <td>41.225949</td>\n",
       "      <td>32.221844</td>\n",
       "      <td>27.930916</td>\n",
       "      <td>25.225453</td>\n",
       "      <td>24.370674</td>\n",
       "      <td>24.861090</td>\n",
       "      <td>24.837549</td>\n",
       "      <td>24.902718</td>\n",
       "      <td>24.756536</td>\n",
       "      <td>...</td>\n",
       "      <td>-0.019454</td>\n",
       "      <td>-0.018041</td>\n",
       "      <td>13.681475</td>\n",
       "      <td>24.745671</td>\n",
       "      <td>4.952721</td>\n",
       "      <td>2.174831e+01</td>\n",
       "      <td>4.123728</td>\n",
       "      <td>1.00000</td>\n",
       "      <td>24.500000</td>\n",
       "      <td>3.000000</td>\n",
       "    </tr>\n",
       "    <tr>\n",
       "      <th>75%</th>\n",
       "      <td>87.348496</td>\n",
       "      <td>52.391729</td>\n",
       "      <td>46.118609</td>\n",
       "      <td>41.677510</td>\n",
       "      <td>39.980926</td>\n",
       "      <td>40.545697</td>\n",
       "      <td>40.132695</td>\n",
       "      <td>40.162835</td>\n",
       "      <td>39.707970</td>\n",
       "      <td>39.142280</td>\n",
       "      <td>...</td>\n",
       "      <td>0.016168</td>\n",
       "      <td>0.014900</td>\n",
       "      <td>18.839947</td>\n",
       "      <td>33.486224</td>\n",
       "      <td>6.957205</td>\n",
       "      <td>2.905295e+01</td>\n",
       "      <td>5.780436</td>\n",
       "      <td>1.00000</td>\n",
       "      <td>37.000000</td>\n",
       "      <td>4.000000</td>\n",
       "    </tr>\n",
       "    <tr>\n",
       "      <th>max</th>\n",
       "      <td>152.990931</td>\n",
       "      <td>94.887900</td>\n",
       "      <td>92.678212</td>\n",
       "      <td>76.212504</td>\n",
       "      <td>75.001668</td>\n",
       "      <td>76.185901</td>\n",
       "      <td>84.761325</td>\n",
       "      <td>94.589380</td>\n",
       "      <td>106.607614</td>\n",
       "      <td>105.094272</td>\n",
       "      <td>...</td>\n",
       "      <td>0.162462</td>\n",
       "      <td>0.210591</td>\n",
       "      <td>2349.723324</td>\n",
       "      <td>2248.951556</td>\n",
       "      <td>709.768565</td>\n",
       "      <td>1.840816e+15</td>\n",
       "      <td>24.324563</td>\n",
       "      <td>1.00000</td>\n",
       "      <td>49.000000</td>\n",
       "      <td>5.000000</td>\n",
       "    </tr>\n",
       "  </tbody>\n",
       "</table>\n",
       "<p>8 rows × 132 columns</p>\n",
       "</div>"
      ],
      "text/plain": [
       "        mfcc_2_std  mfcc_2_mean  mfcc_2_noise   mfcc_3_std  mfcc_3_mean  \\\n",
       "count  2000.000000  2000.000000   2000.000000  2000.000000  2000.000000   \n",
       "mean     68.458234    41.711876     34.493312    29.603907    26.785781   \n",
       "std      26.404973    15.747895     16.224605    14.679204    14.933875   \n",
       "min       0.116061     0.138651      0.109184     0.185506     0.140898   \n",
       "25%      47.177445    29.895114     20.717070    16.013040    12.344110   \n",
       "50%      67.773387    41.225949     32.221844    27.930916    25.225453   \n",
       "75%      87.348496    52.391729     46.118609    41.677510    39.980926   \n",
       "max     152.990931    94.887900     92.678212    76.212504    75.001668   \n",
       "\n",
       "       mfcc_3_noise   mfcc_4_std  mfcc_4_mean  mfcc_4_noise   mfcc_5_std  \\\n",
       "count   2000.000000  2000.000000  2000.000000   2000.000000  2000.000000   \n",
       "mean      26.477625    26.070203    26.029718     25.661683    25.149039   \n",
       "std       15.371118    15.328749    15.849333     15.871806    15.503510   \n",
       "min        0.199093     0.121979     0.136089      0.089897     0.075556   \n",
       "25%       11.573773    11.247905    10.476102     10.181782     9.668703   \n",
       "50%       24.370674    24.861090    24.837549     24.902718    24.756536   \n",
       "75%       40.545697    40.132695    40.162835     39.707970    39.142280   \n",
       "max       76.185901    84.761325    94.589380    106.607614   105.094272   \n",
       "\n",
       "          ...       sflat_noise    sroll_std   sroll_mean  sroll_noise  \\\n",
       "count     ...       2000.000000  2000.000000  2000.000000  2000.000000   \n",
       "mean      ...         -0.025905    -0.023763    16.919189    29.299233   \n",
       "std       ...          0.062447     0.059585    52.761289    51.213696   \n",
       "min       ...         -0.401249    -0.356166     5.815685    11.600177   \n",
       "25%       ...         -0.063543    -0.059884    10.586711    20.305736   \n",
       "50%       ...         -0.019454    -0.018041    13.681475    24.745671   \n",
       "75%       ...          0.016168     0.014900    18.839947    33.486224   \n",
       "max       ...          0.162462     0.210591  2349.723324  2248.951556   \n",
       "\n",
       "          rmse_std     rmse_mean   rmse_noise    h_target       target  \\\n",
       "count  2000.000000  2.000000e+03  2000.000000  2000.00000  2000.000000   \n",
       "mean      6.230198  9.204081e+11     4.409686     0.64000    24.500000   \n",
       "std      16.108084  4.116190e+13     2.586990     0.48012    14.434479   \n",
       "min       1.845860  8.430859e+00     0.372545     0.00000     0.000000   \n",
       "25%       3.840916  1.702619e+01     2.522802     0.00000    12.000000   \n",
       "50%       4.952721  2.174831e+01     4.123728     1.00000    24.500000   \n",
       "75%       6.957205  2.905295e+01     5.780436     1.00000    37.000000   \n",
       "max     709.768565  1.840816e+15    24.324563     1.00000    49.000000   \n",
       "\n",
       "              fold  \n",
       "count  2000.000000  \n",
       "mean      3.000000  \n",
       "std       1.414567  \n",
       "min       1.000000  \n",
       "25%       2.000000  \n",
       "50%       3.000000  \n",
       "75%       4.000000  \n",
       "max       5.000000  \n",
       "\n",
       "[8 rows x 132 columns]"
      ]
     },
     "execution_count": 8,
     "metadata": {},
     "output_type": "execute_result"
    }
   ],
   "source": [
    "df.describe()"
   ]
  },
  {
   "cell_type": "code",
   "execution_count": 9,
   "metadata": {},
   "outputs": [],
   "source": [
    "from sklearn.model_selection import train_test_split\n",
    "train, test, = train_test_split(\n",
    "                        df[df.fold != 1], test_size=0.20, random_state=42)"
   ]
  },
  {
   "cell_type": "code",
   "execution_count": 10,
   "metadata": {},
   "outputs": [],
   "source": [
    "train_X = train.drop(['target', 'h_target', 'fold'], axis=1)\n",
    "train_y = train['h_target']\n",
    "test_X = test.drop(['target', 'h_target', 'fold'], axis=1)\n",
    "test_y = test['h_target']"
   ]
  },
  {
   "cell_type": "markdown",
   "metadata": {},
   "source": [
    "# Training"
   ]
  },
  {
   "cell_type": "code",
   "execution_count": 11,
   "metadata": {},
   "outputs": [
    {
     "data": {
      "text/plain": [
       "GridSearchCV(cv=5, error_score='raise-deprecating',\n",
       "       estimator=RandomForestClassifier(bootstrap=True, class_weight=None, criterion='gini',\n",
       "            max_depth=None, max_features='auto', max_leaf_nodes=None,\n",
       "            min_impurity_decrease=0.0, min_impurity_split=None,\n",
       "            min_samples_leaf=1, min_samples_split=2,\n",
       "            min_weight_fraction_leaf=0.0, n_estimators='warn', n_jobs=None,\n",
       "            oob_score=False, random_state=None, verbose=0,\n",
       "            warm_start=False),\n",
       "       fit_params=None, iid='warn', n_jobs=None,\n",
       "       param_grid={'criterion': ('gini', 'entropy'), 'n_estimators': range(5, 25)},\n",
       "       pre_dispatch='2*n_jobs', refit=True, return_train_score='warn',\n",
       "       scoring=None, verbose=0)"
      ]
     },
     "execution_count": 11,
     "metadata": {},
     "output_type": "execute_result"
    }
   ],
   "source": [
    "from sklearn.model_selection import GridSearchCV\n",
    "from sklearn.decomposition import PCA\n",
    "from sklearn.discriminant_analysis import LinearDiscriminantAnalysis\n",
    "from sklearn.feature_selection import SelectKBest, chi2, mutual_info_regression\n",
    "from sklearn.preprocessing import MinMaxScaler\n",
    "\n",
    "scaler = MinMaxScaler()\n",
    "train_X = scaler.fit_transform(train_X)\n",
    "feat_red = PCA(n_components=30)\n",
    "feat_red.fit(train_X,y=train_y)\n",
    "train_X = feat_red.transform(train_X)\n",
    "\n",
    "params = {\n",
    "          'n_estimators': range(5,25,1),\n",
    "          'criterion': ('gini', 'entropy')\n",
    "         }\n",
    "\n",
    "rfc = RandomForestClassifier()\n",
    "\n",
    "clf = GridSearchCV(rfc, params, cv=5)\n",
    "\n",
    "clf.fit(train_X, train_y)"
   ]
  },
  {
   "cell_type": "code",
   "execution_count": 12,
   "metadata": {},
   "outputs": [
    {
     "data": {
      "text/plain": [
       "['mean_fit_time',\n",
       " 'mean_score_time',\n",
       " 'mean_test_score',\n",
       " 'mean_train_score',\n",
       " 'param_criterion',\n",
       " 'param_n_estimators',\n",
       " 'params',\n",
       " 'rank_test_score',\n",
       " 'split0_test_score',\n",
       " 'split0_train_score',\n",
       " 'split1_test_score',\n",
       " 'split1_train_score',\n",
       " 'split2_test_score',\n",
       " 'split2_train_score',\n",
       " 'split3_test_score',\n",
       " 'split3_train_score',\n",
       " 'split4_test_score',\n",
       " 'split4_train_score',\n",
       " 'std_fit_time',\n",
       " 'std_score_time',\n",
       " 'std_test_score',\n",
       " 'std_train_score']"
      ]
     },
     "execution_count": 12,
     "metadata": {},
     "output_type": "execute_result"
    }
   ],
   "source": [
    "sorted(clf.cv_results_.keys())"
   ]
  },
  {
   "cell_type": "code",
   "execution_count": 13,
   "metadata": {},
   "outputs": [
    {
     "name": "stdout",
     "output_type": "stream",
     "text": [
      "0.71875\n",
      "Confusion matrix, without normalization\n",
      "[[ 51  65]\n",
      " [ 25 179]]\n"
     ]
    },
    {
     "data": {
      "image/png": "[encoded data removed]",
      "text/plain": [
       "<Figure size 720x720 with 2 Axes>"
      ]
     },
     "metadata": {
      "needs_background": "light"
     },
     "output_type": "display_data"
    }
   ],
   "source": [
    "test_X = scaler.transform(test_X)\n",
    "test_X = feat_red.transform(test_X)\n",
    "pred = clf.predict(test_X)\n",
    "print(metrics.accuracy_score(test_y, pred))\n",
    "cm = metrics.confusion_matrix(test_y, pred)\n",
    "plt.figure(figsize=(10,10))\n",
    "plot_confusion_matrix(cm, h_classes)\n",
    "plt.show()"
   ]
  },
  {
   "cell_type": "markdown",
   "metadata": {},
   "source": [
    "# All Data"
   ]
  },
  {
   "cell_type": "code",
   "execution_count": 14,
   "metadata": {},
   "outputs": [],
   "source": [
    "all_df = df[df.fold == 1]"
   ]
  },
  {
   "cell_type": "code",
   "execution_count": 15,
   "metadata": {},
   "outputs": [
    {
     "data": {
      "text/html": [
       "<div>\n",
       "<style scoped>\n",
       "    .dataframe tbody tr th:only-of-type {\n",
       "        vertical-align: middle;\n",
       "    }\n",
       "\n",
       "    .dataframe tbody tr th {\n",
       "        vertical-align: top;\n",
       "    }\n",
       "\n",
       "    .dataframe thead th {\n",
       "        text-align: right;\n",
       "    }\n",
       "</style>\n",
       "<table border=\"1\" class=\"dataframe\">\n",
       "  <thead>\n",
       "    <tr style=\"text-align: right;\">\n",
       "      <th></th>\n",
       "      <th>mfcc_2_std</th>\n",
       "      <th>mfcc_2_mean</th>\n",
       "      <th>mfcc_2_noise</th>\n",
       "      <th>mfcc_3_std</th>\n",
       "      <th>mfcc_3_mean</th>\n",
       "      <th>mfcc_3_noise</th>\n",
       "      <th>mfcc_4_std</th>\n",
       "      <th>mfcc_4_mean</th>\n",
       "      <th>mfcc_4_noise</th>\n",
       "      <th>mfcc_5_std</th>\n",
       "      <th>...</th>\n",
       "      <th>sflat_noise</th>\n",
       "      <th>sroll_std</th>\n",
       "      <th>sroll_mean</th>\n",
       "      <th>sroll_noise</th>\n",
       "      <th>rmse_std</th>\n",
       "      <th>rmse_mean</th>\n",
       "      <th>rmse_noise</th>\n",
       "      <th>h_target</th>\n",
       "      <th>target</th>\n",
       "      <th>fold</th>\n",
       "    </tr>\n",
       "  </thead>\n",
       "  <tbody>\n",
       "    <tr>\n",
       "      <th>0</th>\n",
       "      <td>40.966990</td>\n",
       "      <td>26.258012</td>\n",
       "      <td>12.927575</td>\n",
       "      <td>13.748385</td>\n",
       "      <td>8.883775</td>\n",
       "      <td>5.561329</td>\n",
       "      <td>4.560276</td>\n",
       "      <td>7.306209</td>\n",
       "      <td>6.977689</td>\n",
       "      <td>7.903446</td>\n",
       "      <td>...</td>\n",
       "      <td>-0.401249</td>\n",
       "      <td>-0.356166</td>\n",
       "      <td>29.119574</td>\n",
       "      <td>25.008716</td>\n",
       "      <td>7.213768</td>\n",
       "      <td>31.710370</td>\n",
       "      <td>1.593856</td>\n",
       "      <td>0</td>\n",
       "      <td>0</td>\n",
       "      <td>1</td>\n",
       "    </tr>\n",
       "    <tr>\n",
       "      <th>1</th>\n",
       "      <td>58.869103</td>\n",
       "      <td>67.327057</td>\n",
       "      <td>44.134853</td>\n",
       "      <td>41.709899</td>\n",
       "      <td>46.205963</td>\n",
       "      <td>49.339181</td>\n",
       "      <td>56.324964</td>\n",
       "      <td>47.998394</td>\n",
       "      <td>54.018006</td>\n",
       "      <td>49.417586</td>\n",
       "      <td>...</td>\n",
       "      <td>-0.007047</td>\n",
       "      <td>-0.036911</td>\n",
       "      <td>16.238196</td>\n",
       "      <td>19.072190</td>\n",
       "      <td>4.976296</td>\n",
       "      <td>22.600347</td>\n",
       "      <td>7.369922</td>\n",
       "      <td>0</td>\n",
       "      <td>14</td>\n",
       "      <td>1</td>\n",
       "    </tr>\n",
       "    <tr>\n",
       "      <th>2</th>\n",
       "      <td>83.836738</td>\n",
       "      <td>54.627161</td>\n",
       "      <td>58.381023</td>\n",
       "      <td>49.516300</td>\n",
       "      <td>46.733215</td>\n",
       "      <td>45.306550</td>\n",
       "      <td>44.329287</td>\n",
       "      <td>40.751034</td>\n",
       "      <td>41.713781</td>\n",
       "      <td>44.541769</td>\n",
       "      <td>...</td>\n",
       "      <td>-0.001077</td>\n",
       "      <td>0.018140</td>\n",
       "      <td>15.451926</td>\n",
       "      <td>22.335173</td>\n",
       "      <td>4.331329</td>\n",
       "      <td>20.983961</td>\n",
       "      <td>4.313574</td>\n",
       "      <td>1</td>\n",
       "      <td>36</td>\n",
       "      <td>1</td>\n",
       "    </tr>\n",
       "    <tr>\n",
       "      <th>3</th>\n",
       "      <td>76.253088</td>\n",
       "      <td>58.427143</td>\n",
       "      <td>56.373360</td>\n",
       "      <td>46.296457</td>\n",
       "      <td>45.477336</td>\n",
       "      <td>47.587907</td>\n",
       "      <td>42.043968</td>\n",
       "      <td>44.252065</td>\n",
       "      <td>44.236598</td>\n",
       "      <td>48.171842</td>\n",
       "      <td>...</td>\n",
       "      <td>0.015215</td>\n",
       "      <td>-0.009535</td>\n",
       "      <td>14.044341</td>\n",
       "      <td>21.830457</td>\n",
       "      <td>4.555005</td>\n",
       "      <td>19.493051</td>\n",
       "      <td>5.333361</td>\n",
       "      <td>1</td>\n",
       "      <td>36</td>\n",
       "      <td>1</td>\n",
       "    </tr>\n",
       "    <tr>\n",
       "      <th>4</th>\n",
       "      <td>74.482026</td>\n",
       "      <td>57.172355</td>\n",
       "      <td>56.553450</td>\n",
       "      <td>46.430592</td>\n",
       "      <td>41.032768</td>\n",
       "      <td>42.444785</td>\n",
       "      <td>38.699774</td>\n",
       "      <td>38.342245</td>\n",
       "      <td>38.612357</td>\n",
       "      <td>39.772041</td>\n",
       "      <td>...</td>\n",
       "      <td>0.039366</td>\n",
       "      <td>-0.029240</td>\n",
       "      <td>12.366682</td>\n",
       "      <td>19.022622</td>\n",
       "      <td>4.046185</td>\n",
       "      <td>18.591737</td>\n",
       "      <td>4.606312</td>\n",
       "      <td>1</td>\n",
       "      <td>19</td>\n",
       "      <td>1</td>\n",
       "    </tr>\n",
       "  </tbody>\n",
       "</table>\n",
       "<p>5 rows × 132 columns</p>\n",
       "</div>"
      ],
      "text/plain": [
       "   mfcc_2_std  mfcc_2_mean  mfcc_2_noise  mfcc_3_std  mfcc_3_mean  \\\n",
       "0   40.966990    26.258012     12.927575   13.748385     8.883775   \n",
       "1   58.869103    67.327057     44.134853   41.709899    46.205963   \n",
       "2   83.836738    54.627161     58.381023   49.516300    46.733215   \n",
       "3   76.253088    58.427143     56.373360   46.296457    45.477336   \n",
       "4   74.482026    57.172355     56.553450   46.430592    41.032768   \n",
       "\n",
       "   mfcc_3_noise  mfcc_4_std  mfcc_4_mean  mfcc_4_noise  mfcc_5_std  ...   \\\n",
       "0      5.561329    4.560276     7.306209      6.977689    7.903446  ...    \n",
       "1     49.339181   56.324964    47.998394     54.018006   49.417586  ...    \n",
       "2     45.306550   44.329287    40.751034     41.713781   44.541769  ...    \n",
       "3     47.587907   42.043968    44.252065     44.236598   48.171842  ...    \n",
       "4     42.444785   38.699774    38.342245     38.612357   39.772041  ...    \n",
       "\n",
       "   sflat_noise  sroll_std  sroll_mean  sroll_noise  rmse_std  rmse_mean  \\\n",
       "0    -0.401249  -0.356166   29.119574    25.008716  7.213768  31.710370   \n",
       "1    -0.007047  -0.036911   16.238196    19.072190  4.976296  22.600347   \n",
       "2    -0.001077   0.018140   15.451926    22.335173  4.331329  20.983961   \n",
       "3     0.015215  -0.009535   14.044341    21.830457  4.555005  19.493051   \n",
       "4     0.039366  -0.029240   12.366682    19.022622  4.046185  18.591737   \n",
       "\n",
       "   rmse_noise  h_target  target  fold  \n",
       "0    1.593856         0       0     1  \n",
       "1    7.369922         0      14     1  \n",
       "2    4.313574         1      36     1  \n",
       "3    5.333361         1      36     1  \n",
       "4    4.606312         1      19     1  \n",
       "\n",
       "[5 rows x 132 columns]"
      ]
     },
     "execution_count": 15,
     "metadata": {},
     "output_type": "execute_result"
    }
   ],
   "source": [
    "all_df.head()"
   ]
  },
  {
   "cell_type": "code",
   "execution_count": 16,
   "metadata": {},
   "outputs": [],
   "source": [
    "X = all_df.drop(['target', 'h_target', 'fold'], axis=1)\n",
    "y = all_df['h_target']\n",
    "X = scaler.transform(X)\n",
    "X = feat_red.transform(X)"
   ]
  },
  {
   "cell_type": "code",
   "execution_count": 17,
   "metadata": {},
   "outputs": [
    {
     "name": "stdout",
     "output_type": "stream",
     "text": [
      "0.6725\n",
      "Confusion matrix, without normalization\n",
      "[[ 57  87]\n",
      " [ 44 212]]\n"
     ]
    },
    {
     "data": {
      "image/png": "[encoded data removed]",
      "text/plain": [
       "<Figure size 720x720 with 2 Axes>"
      ]
     },
     "metadata": {
      "needs_background": "light"
     },
     "output_type": "display_data"
    }
   ],
   "source": [
    "pred = clf.predict(X)\n",
    "pred_prob = clf.predict_proba(X)\n",
    "print(metrics.accuracy_score(y, pred))\n",
    "cm = metrics.confusion_matrix(y, pred)\n",
    "plt.figure(figsize=(10,10))\n",
    "plot_confusion_matrix(cm, h_classes)\n",
    "plt.show()"
   ]
  },
  {
   "cell_type": "code",
   "execution_count": 18,
   "metadata": {},
   "outputs": [
    {
     "data": {
      "text/plain": [
       "RandomForestClassifier(bootstrap=True, class_weight=None, criterion='entropy',\n",
       "            max_depth=None, max_features='auto', max_leaf_nodes=None,\n",
       "            min_impurity_decrease=0.0, min_impurity_split=None,\n",
       "            min_samples_leaf=1, min_samples_split=2,\n",
       "            min_weight_fraction_leaf=0.0, n_estimators=23, n_jobs=None,\n",
       "            oob_score=False, random_state=None, verbose=0,\n",
       "            warm_start=False)"
      ]
     },
     "execution_count": 18,
     "metadata": {},
     "output_type": "execute_result"
    }
   ],
   "source": [
    "clf.best_estimator_ "
   ]
  },
  {
   "cell_type": "code",
   "execution_count": 19,
   "metadata": {},
   "outputs": [
    {
     "data": {
      "text/html": [
       "<div>\n",
       "<style scoped>\n",
       "    .dataframe tbody tr th:only-of-type {\n",
       "        vertical-align: middle;\n",
       "    }\n",
       "\n",
       "    .dataframe tbody tr th {\n",
       "        vertical-align: top;\n",
       "    }\n",
       "\n",
       "    .dataframe thead th {\n",
       "        text-align: right;\n",
       "    }\n",
       "</style>\n",
       "<table border=\"1\" class=\"dataframe\">\n",
       "  <thead>\n",
       "    <tr style=\"text-align: right;\">\n",
       "      <th></th>\n",
       "      <th>h_target</th>\n",
       "      <th>prob_0</th>\n",
       "      <th>prob_1</th>\n",
       "      <th>target</th>\n",
       "    </tr>\n",
       "  </thead>\n",
       "  <tbody>\n",
       "    <tr>\n",
       "      <th>0</th>\n",
       "      <td>Interacting Materials</td>\n",
       "      <td>0.347826</td>\n",
       "      <td>0.652174</td>\n",
       "      <td>dog</td>\n",
       "    </tr>\n",
       "    <tr>\n",
       "      <th>1</th>\n",
       "      <td>Interacting Materials</td>\n",
       "      <td>0.478261</td>\n",
       "      <td>0.521739</td>\n",
       "      <td>chirping_birds</td>\n",
       "    </tr>\n",
       "    <tr>\n",
       "      <th>2</th>\n",
       "      <td>Interacting Materials</td>\n",
       "      <td>0.434783</td>\n",
       "      <td>0.565217</td>\n",
       "      <td>crow</td>\n",
       "    </tr>\n",
       "    <tr>\n",
       "      <th>3</th>\n",
       "      <td>Human &amp; Animal</td>\n",
       "      <td>0.521739</td>\n",
       "      <td>0.478261</td>\n",
       "      <td>door_wood_knock</td>\n",
       "    </tr>\n",
       "    <tr>\n",
       "      <th>4</th>\n",
       "      <td>Human &amp; Animal</td>\n",
       "      <td>0.652174</td>\n",
       "      <td>0.347826</td>\n",
       "      <td>clapping</td>\n",
       "    </tr>\n",
       "  </tbody>\n",
       "</table>\n",
       "</div>"
      ],
      "text/plain": [
       "                h_target    prob_0    prob_1           target\n",
       "0  Interacting Materials  0.347826  0.652174              dog\n",
       "1  Interacting Materials  0.478261  0.521739   chirping_birds\n",
       "2  Interacting Materials  0.434783  0.565217             crow\n",
       "3         Human & Animal  0.521739  0.478261  door_wood_knock\n",
       "4         Human & Animal  0.652174  0.347826         clapping"
      ]
     },
     "execution_count": 19,
     "metadata": {},
     "output_type": "execute_result"
    }
   ],
   "source": [
    "import seaborn as sns\n",
    "misclassified = {\n",
    "    'h_target': [],\n",
    "    'target': [],\n",
    "    'prob_0': [],\n",
    "    'prob_1': []\n",
    "}\n",
    "for row, p, prob, Y in zip(all_df.iterrows(), pred, pred_prob, y):\n",
    "    Y = int(Y)\n",
    "    p = int(p)\n",
    "    if p!=Y:\n",
    "        misclassified['target'].append(classes[int(row[1]['target'])])\n",
    "        misclassified['h_target'].append(h_classes[p])\n",
    "        misclassified['prob_0'].append(prob[0])\n",
    "        misclassified['prob_1'].append(prob[1])\n",
    "\n",
    "misclassified = pd.DataFrame.from_dict(misclassified)\n",
    "misclassified.head()"
   ]
  },
  {
   "cell_type": "code",
   "execution_count": 20,
   "metadata": {},
   "outputs": [
    {
     "data": {
      "text/html": [
       "<div>\n",
       "<style scoped>\n",
       "    .dataframe tbody tr th:only-of-type {\n",
       "        vertical-align: middle;\n",
       "    }\n",
       "\n",
       "    .dataframe tbody tr th {\n",
       "        vertical-align: top;\n",
       "    }\n",
       "\n",
       "    .dataframe thead th {\n",
       "        text-align: right;\n",
       "    }\n",
       "</style>\n",
       "<table border=\"1\" class=\"dataframe\">\n",
       "  <thead>\n",
       "    <tr style=\"text-align: right;\">\n",
       "      <th></th>\n",
       "      <th>prob_0</th>\n",
       "      <th>prob_1</th>\n",
       "    </tr>\n",
       "    <tr>\n",
       "      <th>h_target</th>\n",
       "      <th></th>\n",
       "      <th></th>\n",
       "    </tr>\n",
       "  </thead>\n",
       "  <tbody>\n",
       "    <tr>\n",
       "      <th>Human &amp; Animal</th>\n",
       "      <td>0.611660</td>\n",
       "      <td>0.388340</td>\n",
       "    </tr>\n",
       "    <tr>\n",
       "      <th>Interacting Materials</th>\n",
       "      <td>0.316342</td>\n",
       "      <td>0.683658</td>\n",
       "    </tr>\n",
       "  </tbody>\n",
       "</table>\n",
       "</div>"
      ],
      "text/plain": [
       "                         prob_0    prob_1\n",
       "h_target                                 \n",
       "Human & Animal         0.611660  0.388340\n",
       "Interacting Materials  0.316342  0.683658"
      ]
     },
     "execution_count": 20,
     "metadata": {},
     "output_type": "execute_result"
    }
   ],
   "source": [
    "average_prob = misclassified.groupby('h_target').mean()\n",
    "average_prob.head()"
   ]
  },
  {
   "cell_type": "code",
   "execution_count": 21,
   "metadata": {},
   "outputs": [
    {
     "data": {
      "text/plain": [
       "<matplotlib.axes._subplots.AxesSubplot at 0x7f0e3c8b1198>"
      ]
     },
     "execution_count": 21,
     "metadata": {},
     "output_type": "execute_result"
    },
    {
     "data": {
      "image/png": "[encoded data removed]",
      "text/plain": [
       "<Figure size 3600x720 with 1 Axes>"
      ]
     },
     "metadata": {
      "needs_background": "light"
     },
     "output_type": "display_data"
    }
   ],
   "source": [
    "from matplotlib import pyplot as plt\n",
    "fig, ax = plt.subplots(figsize=(50,10))\n",
    "sns.countplot(x='target', hue='h_target',data=misclassified)"
   ]
  },
  {
   "cell_type": "code",
   "execution_count": null,
   "metadata": {},
   "outputs": [],
   "source": []
  }
 ],
 "metadata": {
  "kernelspec": {
   "display_name": "Python 3",
   "language": "python",
   "name": "python3"
  },
  "language_info": {
   "codemirror_mode": {
    "name": "ipython",
    "version": 3
   },
   "file_extension": ".py",
   "mimetype": "text/x-python",
   "name": "python",
   "nbconvert_exporter": "python",
   "pygments_lexer": "ipython3",
   "version": "3.5.2"
  }
 },
 "nbformat": 4,
 "nbformat_minor": 2
}
