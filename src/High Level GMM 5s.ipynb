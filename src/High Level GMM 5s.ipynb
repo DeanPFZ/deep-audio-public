{
 "cells": [
  {
   "cell_type": "code",
   "execution_count": 1,
   "metadata": {},
   "outputs": [
    {
     "name": "stderr",
     "output_type": "stream",
     "text": [
      "Using TensorFlow backend.\n"
     ]
    },
    {
     "name": "stdout",
     "output_type": "stream",
     "text": [
      "WARNING:tensorflow:From /usr/local/lib/python3.5/dist-packages/magenta/models/nsynth/wavenet/masked.py:116: UniformUnitScaling.__init__ (from tensorflow.python.ops.init_ops) is deprecated and will be removed in a future version.\n",
      "Instructions for updating:\n",
      "Use tf.initializers.variance_scaling instead with distribution=uniform to get equivalent behavior.\n"
     ]
    }
   ],
   "source": [
    "import pandas as pd\n",
    "from preprocess import Audio_Processor\n",
    "from sklearn import metrics\n",
    "from classification_plots import plot_confusion_matrix, plot_learning_curve\n",
    "import matplotlib.pyplot as plt\n",
    "import os\n",
    "from sklearn.mixture import GaussianMixture as GMM"
   ]
  },
  {
   "cell_type": "code",
   "execution_count": 2,
   "metadata": {},
   "outputs": [],
   "source": [
    "# Able to specify which GPU to use\n",
    "os.environ[\"CUDA_VISIBLE_DEVICES\"]=\"1\"\n",
    "\n",
    "SR = 44100\n",
    "blocksize = 220500\n",
    "overlap = 0"
   ]
  },
  {
   "cell_type": "code",
   "execution_count": 3,
   "metadata": {},
   "outputs": [],
   "source": [
    "import warnings\n",
    "warnings.filterwarnings('ignore')"
   ]
  },
  {
   "cell_type": "markdown",
   "metadata": {},
   "source": [
    "# Setup"
   ]
  },
  {
   "cell_type": "code",
   "execution_count": 4,
   "metadata": {},
   "outputs": [],
   "source": [
    "audio_dir = '../ESC-50/audio/'"
   ]
  },
  {
   "cell_type": "code",
   "execution_count": 5,
   "metadata": {},
   "outputs": [],
   "source": [
    "path_to_db='../ESC-50/'\n",
    "ps = Audio_Processor(path_to_db + 'audio/')"
   ]
  },
  {
   "cell_type": "markdown",
   "metadata": {},
   "source": [
    "# Load Dataset\n",
    "Here we load the csv that describes each file in the dataset. We add a high level category that is defined in the ESC-50 documentation. This we realize is anthetical to true training, it is a stopgap for when we use NLP to classify tags into these categories."
   ]
  },
  {
   "cell_type": "code",
   "execution_count": 6,
   "metadata": {},
   "outputs": [],
   "source": [
    "dataset = pd.read_csv(path_to_db + 'meta/esc50.csv')\n",
    "classes = [None] * 50"
   ]
  },
  {
   "cell_type": "code",
   "execution_count": 7,
   "metadata": {},
   "outputs": [],
   "source": [
    "h_classes = ['Human & Animal', 'Interacting Materials']\n",
    "mapping = {'dog': 0,'rooster': 0,'pig': 0,'cow': 0,'frog': 0,'cat': 0,'hen': 0,\n",
    "            'insects': 0,'sheep': 0,'crow': 0,'rain': 1,'sea_waves': 1,'crackling_fire': 1,\n",
    "            'crickets': 0,'chirping_birds': 0,'water_drops': 1,'wind': 1,'pouring_water': 1,\n",
    "            'toilet_flush': 1,'thunderstorm': 1,'crying_baby': 0,'sneezing': 0,'clapping': 0,\n",
    "            'breathing': 0,'coughing': 0,'footsteps': 1,'laughing': 0,'brushing_teeth': 1,\n",
    "            'snoring': 0,'drinking_sipping': 1,'door_wood_knock': 1,'mouse_click': 1,\n",
    "            'keyboard_typing': 1,'door_wood_creaks': 1,'can_opening': 1,'washing_machine': 1,\n",
    "            'vacuum_cleaner': 1,'clock_alarm': 1,'clock_tick': 1,'glass_breaking':1,'helicopter': 1,\n",
    "            'chainsaw': 1,'siren': 1,'car_horn': 1,'engine': 1,'train': 1,'church_bells': 1,\n",
    "            'airplane': 1,'fireworks': 1,'hand_saw': 1,\n",
    "            }"
   ]
  },
  {
   "cell_type": "code",
   "execution_count": 8,
   "metadata": {},
   "outputs": [],
   "source": [
    "dataset['h_category'] = None\n",
    "for index, row in dataset.iterrows():\n",
    "    target = row['target']\n",
    "    classes[target] = row['category']\n",
    "    dataset.loc[index, 'h_category'] = mapping[row['category']]"
   ]
  },
  {
   "cell_type": "code",
   "execution_count": 9,
   "metadata": {},
   "outputs": [
    {
     "data": {
      "text/html": [
       "<div>\n",
       "<style scoped>\n",
       "    .dataframe tbody tr th:only-of-type {\n",
       "        vertical-align: middle;\n",
       "    }\n",
       "\n",
       "    .dataframe tbody tr th {\n",
       "        vertical-align: top;\n",
       "    }\n",
       "\n",
       "    .dataframe thead th {\n",
       "        text-align: right;\n",
       "    }\n",
       "</style>\n",
       "<table border=\"1\" class=\"dataframe\">\n",
       "  <thead>\n",
       "    <tr style=\"text-align: right;\">\n",
       "      <th></th>\n",
       "      <th>filename</th>\n",
       "      <th>fold</th>\n",
       "      <th>target</th>\n",
       "      <th>category</th>\n",
       "      <th>esc10</th>\n",
       "      <th>src_file</th>\n",
       "      <th>take</th>\n",
       "      <th>h_category</th>\n",
       "    </tr>\n",
       "  </thead>\n",
       "  <tbody>\n",
       "    <tr>\n",
       "      <th>0</th>\n",
       "      <td>1-100032-A-0.wav</td>\n",
       "      <td>1</td>\n",
       "      <td>0</td>\n",
       "      <td>dog</td>\n",
       "      <td>True</td>\n",
       "      <td>100032</td>\n",
       "      <td>A</td>\n",
       "      <td>0</td>\n",
       "    </tr>\n",
       "    <tr>\n",
       "      <th>1</th>\n",
       "      <td>1-100038-A-14.wav</td>\n",
       "      <td>1</td>\n",
       "      <td>14</td>\n",
       "      <td>chirping_birds</td>\n",
       "      <td>False</td>\n",
       "      <td>100038</td>\n",
       "      <td>A</td>\n",
       "      <td>0</td>\n",
       "    </tr>\n",
       "    <tr>\n",
       "      <th>2</th>\n",
       "      <td>1-100210-A-36.wav</td>\n",
       "      <td>1</td>\n",
       "      <td>36</td>\n",
       "      <td>vacuum_cleaner</td>\n",
       "      <td>False</td>\n",
       "      <td>100210</td>\n",
       "      <td>A</td>\n",
       "      <td>1</td>\n",
       "    </tr>\n",
       "    <tr>\n",
       "      <th>3</th>\n",
       "      <td>1-100210-B-36.wav</td>\n",
       "      <td>1</td>\n",
       "      <td>36</td>\n",
       "      <td>vacuum_cleaner</td>\n",
       "      <td>False</td>\n",
       "      <td>100210</td>\n",
       "      <td>B</td>\n",
       "      <td>1</td>\n",
       "    </tr>\n",
       "    <tr>\n",
       "      <th>4</th>\n",
       "      <td>1-101296-A-19.wav</td>\n",
       "      <td>1</td>\n",
       "      <td>19</td>\n",
       "      <td>thunderstorm</td>\n",
       "      <td>False</td>\n",
       "      <td>101296</td>\n",
       "      <td>A</td>\n",
       "      <td>1</td>\n",
       "    </tr>\n",
       "  </tbody>\n",
       "</table>\n",
       "</div>"
      ],
      "text/plain": [
       "            filename  fold  target        category  esc10  src_file take  \\\n",
       "0   1-100032-A-0.wav     1       0             dog   True    100032    A   \n",
       "1  1-100038-A-14.wav     1      14  chirping_birds  False    100038    A   \n",
       "2  1-100210-A-36.wav     1      36  vacuum_cleaner  False    100210    A   \n",
       "3  1-100210-B-36.wav     1      36  vacuum_cleaner  False    100210    B   \n",
       "4  1-101296-A-19.wav     1      19    thunderstorm  False    101296    A   \n",
       "\n",
       "   h_category  \n",
       "0           0  \n",
       "1           0  \n",
       "2           1  \n",
       "3           1  \n",
       "4           1  "
      ]
     },
     "execution_count": 9,
     "metadata": {},
     "output_type": "execute_result"
    }
   ],
   "source": [
    "dataset.head()"
   ]
  },
  {
   "cell_type": "markdown",
   "metadata": {},
   "source": [
    "## Getting Preprocessed Data\n",
    "We allow for previously preprocessed data to be retrieved for faster training turnaround. If the fold has been preprocessed, it is loaded but if not it is processed and saved."
   ]
  },
  {
   "cell_type": "code",
   "execution_count": 10,
   "metadata": {},
   "outputs": [],
   "source": [
    "df = ps.preprocess_fold(dataset, \n",
    "                        kind='mfcc', \n",
    "                        fld=range(2,6), \n",
    "                        blocksize=blocksize, \n",
    "                        overlap=overlap)"
   ]
  },
  {
   "cell_type": "code",
   "execution_count": 11,
   "metadata": {},
   "outputs": [
    {
     "data": {
      "text/html": [
       "<div>\n",
       "<style scoped>\n",
       "    .dataframe tbody tr th:only-of-type {\n",
       "        vertical-align: middle;\n",
       "    }\n",
       "\n",
       "    .dataframe tbody tr th {\n",
       "        vertical-align: top;\n",
       "    }\n",
       "\n",
       "    .dataframe thead th {\n",
       "        text-align: right;\n",
       "    }\n",
       "</style>\n",
       "<table border=\"1\" class=\"dataframe\">\n",
       "  <thead>\n",
       "    <tr style=\"text-align: right;\">\n",
       "      <th></th>\n",
       "      <th>0</th>\n",
       "      <th>1</th>\n",
       "      <th>2</th>\n",
       "      <th>3</th>\n",
       "      <th>4</th>\n",
       "      <th>5</th>\n",
       "      <th>6</th>\n",
       "      <th>7</th>\n",
       "      <th>8</th>\n",
       "      <th>9</th>\n",
       "      <th>...</th>\n",
       "      <th>106</th>\n",
       "      <th>107</th>\n",
       "      <th>108</th>\n",
       "      <th>109</th>\n",
       "      <th>110</th>\n",
       "      <th>111</th>\n",
       "      <th>112</th>\n",
       "      <th>113</th>\n",
       "      <th>l_target</th>\n",
       "      <th>h_target</th>\n",
       "    </tr>\n",
       "  </thead>\n",
       "  <tbody>\n",
       "    <tr>\n",
       "      <th>count</th>\n",
       "      <td>1600.000000</td>\n",
       "      <td>1600.000000</td>\n",
       "      <td>1600.000000</td>\n",
       "      <td>1600.000000</td>\n",
       "      <td>1600.000000</td>\n",
       "      <td>1600.000000</td>\n",
       "      <td>1600.000000</td>\n",
       "      <td>1600.000000</td>\n",
       "      <td>1600.000000</td>\n",
       "      <td>1600.000000</td>\n",
       "      <td>...</td>\n",
       "      <td>1600.000000</td>\n",
       "      <td>1600.000000</td>\n",
       "      <td>1600.000000</td>\n",
       "      <td>1600.000000</td>\n",
       "      <td>1600.000000</td>\n",
       "      <td>1600.000000</td>\n",
       "      <td>1600.000000</td>\n",
       "      <td>1.600000e+03</td>\n",
       "      <td>1600.000000</td>\n",
       "      <td>1600.000000</td>\n",
       "    </tr>\n",
       "    <tr>\n",
       "      <th>mean</th>\n",
       "      <td>51.308986</td>\n",
       "      <td>55.436622</td>\n",
       "      <td>37.072319</td>\n",
       "      <td>32.665469</td>\n",
       "      <td>29.089603</td>\n",
       "      <td>27.197671</td>\n",
       "      <td>25.194174</td>\n",
       "      <td>25.108523</td>\n",
       "      <td>23.179477</td>\n",
       "      <td>22.828157</td>\n",
       "      <td>...</td>\n",
       "      <td>-0.003767</td>\n",
       "      <td>0.002611</td>\n",
       "      <td>-0.002889</td>\n",
       "      <td>0.002254</td>\n",
       "      <td>-0.002463</td>\n",
       "      <td>0.001378</td>\n",
       "      <td>-0.001494</td>\n",
       "      <td>7.538308e-04</td>\n",
       "      <td>0.620000</td>\n",
       "      <td>24.500000</td>\n",
       "    </tr>\n",
       "    <tr>\n",
       "      <th>std</th>\n",
       "      <td>23.801254</td>\n",
       "      <td>28.183104</td>\n",
       "      <td>15.718001</td>\n",
       "      <td>13.332764</td>\n",
       "      <td>11.160740</td>\n",
       "      <td>10.515712</td>\n",
       "      <td>9.637630</td>\n",
       "      <td>9.675467</td>\n",
       "      <td>8.789096</td>\n",
       "      <td>8.545873</td>\n",
       "      <td>...</td>\n",
       "      <td>0.011821</td>\n",
       "      <td>0.011696</td>\n",
       "      <td>0.010898</td>\n",
       "      <td>0.010615</td>\n",
       "      <td>0.010112</td>\n",
       "      <td>0.009818</td>\n",
       "      <td>0.009729</td>\n",
       "      <td>9.453870e-03</td>\n",
       "      <td>0.485538</td>\n",
       "      <td>14.435381</td>\n",
       "    </tr>\n",
       "    <tr>\n",
       "      <th>min</th>\n",
       "      <td>1.747074</td>\n",
       "      <td>1.479881</td>\n",
       "      <td>1.615058</td>\n",
       "      <td>1.539040</td>\n",
       "      <td>1.437081</td>\n",
       "      <td>1.393894</td>\n",
       "      <td>1.404186</td>\n",
       "      <td>1.518345</td>\n",
       "      <td>1.486071</td>\n",
       "      <td>1.272155</td>\n",
       "      <td>...</td>\n",
       "      <td>-0.075351</td>\n",
       "      <td>-0.043938</td>\n",
       "      <td>-0.075981</td>\n",
       "      <td>-0.041356</td>\n",
       "      <td>-0.070834</td>\n",
       "      <td>-0.038708</td>\n",
       "      <td>-0.071320</td>\n",
       "      <td>-4.075538e-02</td>\n",
       "      <td>0.000000</td>\n",
       "      <td>0.000000</td>\n",
       "    </tr>\n",
       "    <tr>\n",
       "      <th>25%</th>\n",
       "      <td>33.332886</td>\n",
       "      <td>32.550216</td>\n",
       "      <td>25.569366</td>\n",
       "      <td>22.457447</td>\n",
       "      <td>20.671324</td>\n",
       "      <td>19.468957</td>\n",
       "      <td>18.142160</td>\n",
       "      <td>18.336386</td>\n",
       "      <td>16.718161</td>\n",
       "      <td>16.513697</td>\n",
       "      <td>...</td>\n",
       "      <td>-0.009462</td>\n",
       "      <td>-0.003002</td>\n",
       "      <td>-0.008140</td>\n",
       "      <td>-0.003326</td>\n",
       "      <td>-0.007607</td>\n",
       "      <td>-0.003619</td>\n",
       "      <td>-0.006616</td>\n",
       "      <td>-4.387224e-03</td>\n",
       "      <td>0.000000</td>\n",
       "      <td>12.000000</td>\n",
       "    </tr>\n",
       "    <tr>\n",
       "      <th>50%</th>\n",
       "      <td>49.849501</td>\n",
       "      <td>52.401495</td>\n",
       "      <td>36.549704</td>\n",
       "      <td>32.329287</td>\n",
       "      <td>29.294185</td>\n",
       "      <td>27.021204</td>\n",
       "      <td>24.971081</td>\n",
       "      <td>24.817577</td>\n",
       "      <td>23.047764</td>\n",
       "      <td>22.483568</td>\n",
       "      <td>...</td>\n",
       "      <td>-0.001737</td>\n",
       "      <td>0.000776</td>\n",
       "      <td>-0.001195</td>\n",
       "      <td>0.000719</td>\n",
       "      <td>-0.001023</td>\n",
       "      <td>0.000192</td>\n",
       "      <td>-0.000428</td>\n",
       "      <td>9.772273e-10</td>\n",
       "      <td>1.000000</td>\n",
       "      <td>24.500000</td>\n",
       "    </tr>\n",
       "    <tr>\n",
       "      <th>75%</th>\n",
       "      <td>67.509731</td>\n",
       "      <td>75.187595</td>\n",
       "      <td>48.118331</td>\n",
       "      <td>41.837019</td>\n",
       "      <td>36.495502</td>\n",
       "      <td>34.406650</td>\n",
       "      <td>31.754910</td>\n",
       "      <td>31.376616</td>\n",
       "      <td>29.460840</td>\n",
       "      <td>28.974748</td>\n",
       "      <td>...</td>\n",
       "      <td>0.002094</td>\n",
       "      <td>0.007613</td>\n",
       "      <td>0.002531</td>\n",
       "      <td>0.006822</td>\n",
       "      <td>0.002604</td>\n",
       "      <td>0.005863</td>\n",
       "      <td>0.003657</td>\n",
       "      <td>5.833929e-03</td>\n",
       "      <td>1.000000</td>\n",
       "      <td>37.000000</td>\n",
       "    </tr>\n",
       "    <tr>\n",
       "      <th>max</th>\n",
       "      <td>138.338211</td>\n",
       "      <td>143.565491</td>\n",
       "      <td>93.059975</td>\n",
       "      <td>82.682236</td>\n",
       "      <td>65.922852</td>\n",
       "      <td>69.506638</td>\n",
       "      <td>54.715382</td>\n",
       "      <td>79.771935</td>\n",
       "      <td>55.127274</td>\n",
       "      <td>53.718040</td>\n",
       "      <td>...</td>\n",
       "      <td>0.033273</td>\n",
       "      <td>0.075946</td>\n",
       "      <td>0.033666</td>\n",
       "      <td>0.073340</td>\n",
       "      <td>0.041846</td>\n",
       "      <td>0.061704</td>\n",
       "      <td>0.062855</td>\n",
       "      <td>7.767285e-02</td>\n",
       "      <td>1.000000</td>\n",
       "      <td>49.000000</td>\n",
       "    </tr>\n",
       "  </tbody>\n",
       "</table>\n",
       "<p>8 rows × 116 columns</p>\n",
       "</div>"
      ],
      "text/plain": [
       "                 0            1            2            3            4  \\\n",
       "count  1600.000000  1600.000000  1600.000000  1600.000000  1600.000000   \n",
       "mean     51.308986    55.436622    37.072319    32.665469    29.089603   \n",
       "std      23.801254    28.183104    15.718001    13.332764    11.160740   \n",
       "min       1.747074     1.479881     1.615058     1.539040     1.437081   \n",
       "25%      33.332886    32.550216    25.569366    22.457447    20.671324   \n",
       "50%      49.849501    52.401495    36.549704    32.329287    29.294185   \n",
       "75%      67.509731    75.187595    48.118331    41.837019    36.495502   \n",
       "max     138.338211   143.565491    93.059975    82.682236    65.922852   \n",
       "\n",
       "                 5            6            7            8            9  \\\n",
       "count  1600.000000  1600.000000  1600.000000  1600.000000  1600.000000   \n",
       "mean     27.197671    25.194174    25.108523    23.179477    22.828157   \n",
       "std      10.515712     9.637630     9.675467     8.789096     8.545873   \n",
       "min       1.393894     1.404186     1.518345     1.486071     1.272155   \n",
       "25%      19.468957    18.142160    18.336386    16.718161    16.513697   \n",
       "50%      27.021204    24.971081    24.817577    23.047764    22.483568   \n",
       "75%      34.406650    31.754910    31.376616    29.460840    28.974748   \n",
       "max      69.506638    54.715382    79.771935    55.127274    53.718040   \n",
       "\n",
       "          ...               106          107          108          109  \\\n",
       "count     ...       1600.000000  1600.000000  1600.000000  1600.000000   \n",
       "mean      ...         -0.003767     0.002611    -0.002889     0.002254   \n",
       "std       ...          0.011821     0.011696     0.010898     0.010615   \n",
       "min       ...         -0.075351    -0.043938    -0.075981    -0.041356   \n",
       "25%       ...         -0.009462    -0.003002    -0.008140    -0.003326   \n",
       "50%       ...         -0.001737     0.000776    -0.001195     0.000719   \n",
       "75%       ...          0.002094     0.007613     0.002531     0.006822   \n",
       "max       ...          0.033273     0.075946     0.033666     0.073340   \n",
       "\n",
       "               110          111          112           113     l_target  \\\n",
       "count  1600.000000  1600.000000  1600.000000  1.600000e+03  1600.000000   \n",
       "mean     -0.002463     0.001378    -0.001494  7.538308e-04     0.620000   \n",
       "std       0.010112     0.009818     0.009729  9.453870e-03     0.485538   \n",
       "min      -0.070834    -0.038708    -0.071320 -4.075538e-02     0.000000   \n",
       "25%      -0.007607    -0.003619    -0.006616 -4.387224e-03     0.000000   \n",
       "50%      -0.001023     0.000192    -0.000428  9.772273e-10     1.000000   \n",
       "75%       0.002604     0.005863     0.003657  5.833929e-03     1.000000   \n",
       "max       0.041846     0.061704     0.062855  7.767285e-02     1.000000   \n",
       "\n",
       "          h_target  \n",
       "count  1600.000000  \n",
       "mean     24.500000  \n",
       "std      14.435381  \n",
       "min       0.000000  \n",
       "25%      12.000000  \n",
       "50%      24.500000  \n",
       "75%      37.000000  \n",
       "max      49.000000  \n",
       "\n",
       "[8 rows x 116 columns]"
      ]
     },
     "execution_count": 11,
     "metadata": {},
     "output_type": "execute_result"
    }
   ],
   "source": [
    "df.describe()"
   ]
  },
  {
   "cell_type": "code",
   "execution_count": 12,
   "metadata": {},
   "outputs": [],
   "source": [
    "from sklearn.model_selection import train_test_split\n",
    "train, test, = train_test_split(\n",
    "                        df, test_size=0.20, random_state=42)"
   ]
  },
  {
   "cell_type": "code",
   "execution_count": 13,
   "metadata": {},
   "outputs": [],
   "source": [
    "train_X = train.drop(['l_target', 'h_target'], axis=1)\n",
    "train_y = train['l_target']\n",
    "test_X = test.drop(['l_target', 'h_target'], axis=1)\n",
    "test_y = test['l_target']"
   ]
  },
  {
   "cell_type": "markdown",
   "metadata": {},
   "source": [
    "# Shallow Net\n",
    "Separate into classes"
   ]
  },
  {
   "cell_type": "code",
   "execution_count": 14,
   "metadata": {},
   "outputs": [
    {
     "data": {
      "text/plain": [
       "GridSearchCV(cv=5, error_score='raise-deprecating',\n",
       "       estimator=GaussianMixture(covariance_type='full', init_params='kmeans', max_iter=300,\n",
       "        means_init=None, n_components=1, n_init=1, precisions_init=None,\n",
       "        random_state=None, reg_covar=1e-06, tol=0.001, verbose=0,\n",
       "        verbose_interval=10, warm_start=False, weights_init=None),\n",
       "       fit_params=None, iid='warn', n_jobs=None,\n",
       "       param_grid={'covariance_type': ('full', 'tied', 'diag', 'spherical'), 'n_components': range(2, 20, 2), 'init_params': ('kmeans', 'random')},\n",
       "       pre_dispatch='2*n_jobs', refit=True, return_train_score='warn',\n",
       "       scoring=None, verbose=0)"
      ]
     },
     "execution_count": 14,
     "metadata": {},
     "output_type": "execute_result"
    }
   ],
   "source": [
    "from sklearn.model_selection import GridSearchCV\n",
    "params = {\n",
    "          'n_components': range(2,20,2),\n",
    "          'covariance_type': ('full', 'tied', 'diag', 'spherical'),\n",
    "          'init_params': ('kmeans', 'random')\n",
    "         }\n",
    "\n",
    "gmm = GMM(max_iter=300)\n",
    "\n",
    "clf = GridSearchCV(gmm, params, cv=5)\n",
    "\n",
    "clf.fit(train_X, train_y)"
   ]
  },
  {
   "cell_type": "code",
   "execution_count": 15,
   "metadata": {},
   "outputs": [
    {
     "name": "stdout",
     "output_type": "stream",
     "text": [
      "0.14375\n",
      "Confusion matrix, without normalization\n",
      "[[24  9 84  9]\n",
      " [58 22 71 43]\n",
      " [ 0  0  0  0]\n",
      " [ 0  0  0  0]]\n"
     ]
    },
    {
     "data": {
      "image/png": "[encoded data removed]",
      "text/plain": [
       "<Figure size 720x720 with 2 Axes>"
      ]
     },
     "metadata": {
      "needs_background": "light"
     },
     "output_type": "display_data"
    }
   ],
   "source": [
    "pred = clf.predict(test_X)\n",
    "print(metrics.accuracy_score(test_y, pred))\n",
    "cm = metrics.confusion_matrix(test_y, pred)\n",
    "plt.figure(figsize=(10,10))\n",
    "plot_confusion_matrix(cm, h_classes)\n",
    "plt.show()"
   ]
  },
  {
   "cell_type": "markdown",
   "metadata": {},
   "source": [
    "# All Data"
   ]
  },
  {
   "cell_type": "code",
   "execution_count": 16,
   "metadata": {},
   "outputs": [],
   "source": [
    "all_df = ps.preprocess_fold(dataset, \n",
    "                        kind='mfcc', \n",
    "                        fld=1, \n",
    "                        blocksize=blocksize, \n",
    "                        overlap=overlap)"
   ]
  },
  {
   "cell_type": "code",
   "execution_count": 17,
   "metadata": {},
   "outputs": [],
   "source": [
    "X = all_df.drop(['l_target', 'h_target'], axis=1)\n",
    "y = all_df['l_target']"
   ]
  },
  {
   "cell_type": "code",
   "execution_count": null,
   "metadata": {},
   "outputs": [],
   "source": [
    "pred = clf.predict(X)\n",
    "print(metrics.accuracy_score(y, pred))\n",
    "cm = metrics.confusion_matrix(y, pred)\n",
    "plt.figure(figsize=(20,20))\n",
    "plot_confusion_matrix(cm, h_classes)\n",
    "plt.show()"
   ]
  },
  {
   "cell_type": "code",
   "execution_count": null,
   "metadata": {},
   "outputs": [],
   "source": []
  }
 ],
 "metadata": {
  "kernelspec": {
   "display_name": "Python 3",
   "language": "python",
   "name": "python3"
  },
  "language_info": {
   "codemirror_mode": {
    "name": "ipython",
    "version": 3
   },
   "file_extension": ".py",
   "mimetype": "text/x-python",
   "name": "python",
   "nbconvert_exporter": "python",
   "pygments_lexer": "ipython3",
   "version": "3.5.2"
  }
 },
 "nbformat": 4,
 "nbformat_minor": 2
}
