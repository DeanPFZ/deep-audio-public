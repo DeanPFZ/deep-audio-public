{
 "cells": [
  {
   "cell_type": "code",
   "execution_count": 1,
   "metadata": {},
   "outputs": [
    {
     "name": "stderr",
     "output_type": "stream",
     "text": [
      "Using TensorFlow backend.\n"
     ]
    }
   ],
   "source": [
    "import pandas as pd\n",
    "from preprocess import Audio_Processor\n",
    "import data_utils as du\n",
    "from sklearn import metrics\n",
    "from keras.wrappers.scikit_learn import KerasClassifier\n",
    "from classification_plots import plot_confusion_matrix, plot_learning_curve\n",
    "import matplotlib.pyplot as plt\n",
    "import os\n",
    "import mdn"
   ]
  },
  {
   "cell_type": "code",
   "execution_count": 2,
   "metadata": {},
   "outputs": [],
   "source": [
    "# Able to specify which GPU to use\n",
    "os.environ[\"CUDA_VISIBLE_DEVICES\"]=\"3\"\n",
    "\n",
    "SR = 44100\n",
    "blocksize = 11025\n",
    "overlap = 5512"
   ]
  },
  {
   "cell_type": "code",
   "execution_count": 3,
   "metadata": {},
   "outputs": [],
   "source": [
    "import warnings\n",
    "warnings.filterwarnings('ignore')"
   ]
  },
  {
   "cell_type": "markdown",
   "metadata": {},
   "source": [
    "# Setup"
   ]
  },
  {
   "cell_type": "code",
   "execution_count": 4,
   "metadata": {},
   "outputs": [],
   "source": [
    "audio_dir = '../ESC-50/audio/'"
   ]
  },
  {
   "cell_type": "code",
   "execution_count": 5,
   "metadata": {},
   "outputs": [],
   "source": [
    "path_to_db='../ESC-50/'\n",
    "ps = Audio_Processor(path_to_db + 'audio/')"
   ]
  },
  {
   "cell_type": "markdown",
   "metadata": {},
   "source": [
    "# Load Dataset\n",
    "Here we load the csv that describes each file in the dataset. We add a high level category that is defined in the ESC-50 documentation. This we realize is anthetical to true training, it is a stopgap for when we use NLP to classify tags into these categories."
   ]
  },
  {
   "cell_type": "code",
   "execution_count": 6,
   "metadata": {},
   "outputs": [],
   "source": [
    "dataset = pd.read_csv(path_to_db + 'meta/esc50.csv')\n",
    "classes = [None] * 50\n",
    "h_classes = ['Human & Animal', 'Interacting Materials']"
   ]
  },
  {
   "cell_type": "code",
   "execution_count": 7,
   "metadata": {},
   "outputs": [],
   "source": [
    "mapping = {\n",
    "    'dog': 0,\n",
    "    'rooster': 0,\n",
    "    'pig': 0,\n",
    "    'cow': 0,\n",
    "    'frog': 0,\n",
    "    'cat': 0,\n",
    "    'hen': 0,\n",
    "    'insects': 0,\n",
    "    'sheep': 0,\n",
    "    'crow': 0,\n",
    "    'rain': 1,\n",
    "    'sea_waves': 1,\n",
    "    'crackling_fire': 1,\n",
    "    'crickets': 0,\n",
    "    'chirping_birds': 0,\n",
    "    'water_drops': 1,\n",
    "    'wind': 1,\n",
    "    'pouring_water': 1,\n",
    "    'toilet_flush': 1,\n",
    "    'thunderstorm': 1,\n",
    "    'crying_baby': 0,\n",
    "    'sneezing': 0,\n",
    "    'clapping': 0,\n",
    "    'breathing': 0,\n",
    "    'coughing': 0,\n",
    "    'footsteps': 1,\n",
    "    'laughing': 0,\n",
    "    'brushing_teeth': 1,\n",
    "    'snoring': 0,\n",
    "    'drinking_sipping': 1,\n",
    "    'door_wood_knock': 1,\n",
    "    'mouse_click': 1,\n",
    "    'keyboard_typing': 1,\n",
    "    'door_wood_creaks': 1,\n",
    "    'can_opening': 1,\n",
    "    'washing_machine': 1,\n",
    "    'vacuum_cleaner': 1,\n",
    "    'clock_alarm': 1,\n",
    "    'clock_tick': 1,\n",
    "    'glass_breaking':1 ,\n",
    "    'helicopter': 1,\n",
    "    'chainsaw': 1,\n",
    "    'siren': 1,\n",
    "    'car_horn': 1,\n",
    "    'engine': 1,\n",
    "    'train': 1,\n",
    "    'church_bells': 1,\n",
    "    'airplane': 1,\n",
    "    'fireworks': 1,\n",
    "    'hand_saw': 1,\n",
    "}"
   ]
  },
  {
   "cell_type": "code",
   "execution_count": 8,
   "metadata": {},
   "outputs": [],
   "source": [
    "dataset['h_category'] = None\n",
    "for index, row in dataset.iterrows():\n",
    "    target = row['target']\n",
    "    classes[target] = row['category']\n",
    "    dataset.loc[index, 'h_category'] = mapping[row['category']]"
   ]
  },
  {
   "cell_type": "code",
   "execution_count": 9,
   "metadata": {},
   "outputs": [
    {
     "data": {
      "text/html": [
       "<div>\n",
       "<style scoped>\n",
       "    .dataframe tbody tr th:only-of-type {\n",
       "        vertical-align: middle;\n",
       "    }\n",
       "\n",
       "    .dataframe tbody tr th {\n",
       "        vertical-align: top;\n",
       "    }\n",
       "\n",
       "    .dataframe thead th {\n",
       "        text-align: right;\n",
       "    }\n",
       "</style>\n",
       "<table border=\"1\" class=\"dataframe\">\n",
       "  <thead>\n",
       "    <tr style=\"text-align: right;\">\n",
       "      <th></th>\n",
       "      <th>filename</th>\n",
       "      <th>fold</th>\n",
       "      <th>target</th>\n",
       "      <th>category</th>\n",
       "      <th>esc10</th>\n",
       "      <th>src_file</th>\n",
       "      <th>take</th>\n",
       "      <th>h_category</th>\n",
       "    </tr>\n",
       "  </thead>\n",
       "  <tbody>\n",
       "    <tr>\n",
       "      <th>0</th>\n",
       "      <td>1-100032-A-0.wav</td>\n",
       "      <td>1</td>\n",
       "      <td>0</td>\n",
       "      <td>dog</td>\n",
       "      <td>True</td>\n",
       "      <td>100032</td>\n",
       "      <td>A</td>\n",
       "      <td>0</td>\n",
       "    </tr>\n",
       "    <tr>\n",
       "      <th>1</th>\n",
       "      <td>1-100038-A-14.wav</td>\n",
       "      <td>1</td>\n",
       "      <td>14</td>\n",
       "      <td>chirping_birds</td>\n",
       "      <td>False</td>\n",
       "      <td>100038</td>\n",
       "      <td>A</td>\n",
       "      <td>0</td>\n",
       "    </tr>\n",
       "    <tr>\n",
       "      <th>2</th>\n",
       "      <td>1-100210-A-36.wav</td>\n",
       "      <td>1</td>\n",
       "      <td>36</td>\n",
       "      <td>vacuum_cleaner</td>\n",
       "      <td>False</td>\n",
       "      <td>100210</td>\n",
       "      <td>A</td>\n",
       "      <td>1</td>\n",
       "    </tr>\n",
       "    <tr>\n",
       "      <th>3</th>\n",
       "      <td>1-100210-B-36.wav</td>\n",
       "      <td>1</td>\n",
       "      <td>36</td>\n",
       "      <td>vacuum_cleaner</td>\n",
       "      <td>False</td>\n",
       "      <td>100210</td>\n",
       "      <td>B</td>\n",
       "      <td>1</td>\n",
       "    </tr>\n",
       "    <tr>\n",
       "      <th>4</th>\n",
       "      <td>1-101296-A-19.wav</td>\n",
       "      <td>1</td>\n",
       "      <td>19</td>\n",
       "      <td>thunderstorm</td>\n",
       "      <td>False</td>\n",
       "      <td>101296</td>\n",
       "      <td>A</td>\n",
       "      <td>1</td>\n",
       "    </tr>\n",
       "  </tbody>\n",
       "</table>\n",
       "</div>"
      ],
      "text/plain": [
       "            filename  fold  target        category  esc10  src_file take  \\\n",
       "0   1-100032-A-0.wav     1       0             dog   True    100032    A   \n",
       "1  1-100038-A-14.wav     1      14  chirping_birds  False    100038    A   \n",
       "2  1-100210-A-36.wav     1      36  vacuum_cleaner  False    100210    A   \n",
       "3  1-100210-B-36.wav     1      36  vacuum_cleaner  False    100210    B   \n",
       "4  1-101296-A-19.wav     1      19    thunderstorm  False    101296    A   \n",
       "\n",
       "   h_category  \n",
       "0           0  \n",
       "1           0  \n",
       "2           1  \n",
       "3           1  \n",
       "4           1  "
      ]
     },
     "execution_count": 9,
     "metadata": {},
     "output_type": "execute_result"
    }
   ],
   "source": [
    "dataset.head()"
   ]
  },
  {
   "cell_type": "markdown",
   "metadata": {},
   "source": [
    "## Getting Preprocessed Data\n",
    "We allow for previously preprocessed data to be retrieved for faster training turnaround. If the fold has been preprocessed, it is loaded but if not it is processed and saved."
   ]
  },
  {
   "cell_type": "code",
   "execution_count": 10,
   "metadata": {},
   "outputs": [],
   "source": [
    "import time\n",
    "import librosa\n",
    "import numpy as np\n",
    "import soundfile as sf\n",
    "\n",
    "def load_fold_audio_blockwise(fld, data, blocksize=1024, overlap=512, debug=False):\n",
    "    start_time = time.time()\n",
    "    f_df = data[data['fold'] == fld]\n",
    "    items = []\n",
    "    h_cat = []\n",
    "    cat = []\n",
    "    for i, sample in f_df.iterrows():\n",
    "        if debug:\n",
    "            print(\"File Processing\", end=\"\", flush=True)\n",
    "        blockgen = sf.blocks(audio_dir + sample['filename'], \n",
    "                             blocksize=blocksize, \n",
    "                             overlap=overlap, \n",
    "                             always_2d=True, \n",
    "                             fill_value=0.0)\n",
    "        SR = sf.info(audio_dir + sample['filename']).samplerate\n",
    "        for bl in blockgen:\n",
    "            if not np.any(bl):\n",
    "                continue\n",
    "            if debug:\n",
    "                print(\".\", end=\"\", flush=True)\n",
    "            y = bl.transpose()\n",
    "            y = y[:int(blocksize)]\n",
    "            y = y[np.newaxis, :]\n",
    "            items.append(y)\n",
    "            h_cat.append(sample.h_category)\n",
    "            cat.append(sample.target)\n",
    "        if debug:\n",
    "            print(\"Done\")\n",
    "\n",
    "    print(\"\\tProcessing Time: \" + str(time.time() - start_time))\n",
    "    return np.vstack(items), np.array(h_cat), np.array(cat)"
   ]
  },
  {
   "cell_type": "code",
   "execution_count": 11,
   "metadata": {},
   "outputs": [
    {
     "name": "stdout",
     "output_type": "stream",
     "text": [
      "\tProcessing Time: 6.5172741413116455\n",
      "(14019, 1, 11025)\n"
     ]
    }
   ],
   "source": [
    "c_data, targets, c_targets = load_fold_audio_blockwise(1, dataset, blocksize, overlap)\n",
    "# c_data, targets = load_fold_audio(1, dataset)\n",
    "print(c_data.shape)"
   ]
  },
  {
   "cell_type": "code",
   "execution_count": 12,
   "metadata": {},
   "outputs": [],
   "source": [
    "%matplotlib inline\n",
    "import matplotlib.pyplot as plt\n",
    "plt.style.use('ggplot')\n",
    "import keras\n",
    "import kapre\n",
    "from datetime import datetime\n",
    "now = datetime.now()\n",
    "import librosa\n",
    "from librosa import display\n",
    "\n",
    "def check_model(model):\n",
    "    model.summary(line_length=80, positions=[.33, .65, .8, 1.])\n",
    "\n",
    "    batch_input_shape = (2,) + model.input_shape[1:]\n",
    "    batch_output_shape = (2,) + model.output_shape[1:]\n",
    "    model.compile('sgd', 'mse')\n",
    "    model.fit(np.random.uniform(size=batch_input_shape), np.random.uniform(size=batch_output_shape), epochs=1)\n",
    "\n",
    "def visualise_model(model, src, logam=False):\n",
    "    n_ch, nsp_src = model.input_shape[1:]\n",
    "    print(src.shape)\n",
    "    src = src[:nsp_src]\n",
    "    src_batch = src[np.newaxis, :]\n",
    "    pred = model.predict(x=src_batch)\n",
    "    if keras.backend.image_data_format == 'channels_first':\n",
    "        result = pred[0, 0]\n",
    "    else:\n",
    "        result = pred[0, :, :, 0]\n",
    "    display.specshow(result, y_axis='linear', fmin=800, fmax=8000, sr=SR)\n",
    "    plt.show()\n",
    "    \n",
    "def evaluate_model(model, c_data):\n",
    "    pred = model.predict(x=c_data)\n",
    "    if keras.backend.image_data_format == 'channels_first':\n",
    "        result = pred[0, 0]\n",
    "    else:\n",
    "        result = pred[:, :, :, 0]\n",
    "#     result = np.swapaxes(result, 1, 2)\n",
    "    print(result.shape)\n",
    "    return result"
   ]
  },
  {
   "cell_type": "code",
   "execution_count": 13,
   "metadata": {},
   "outputs": [
    {
     "name": "stdout",
     "output_type": "stream",
     "text": [
      "________________________________________________________________________________\n",
      "Layer (type)              Output Shape              Param #     \n",
      "================================================================================\n",
      "melspectrogram_1 (Melspec (None, 128, 44, 1)        296064      \n",
      "================================================================================\n",
      "Total params: 296,064\n",
      "Trainable params: 0\n",
      "Non-trainable params: 296,064\n",
      "________________________________________________________________________________\n",
      "Epoch 1/1\n",
      "2/2 [==============================] - 5s 3s/step - loss: 1413.7520\n",
      "(1, 11025)\n"
     ]
    },
    {
     "data": {
      "image/png": "[encoded data removed]",
      "text/plain": [
       "<Figure size 432x288 with 1 Axes>"
      ]
     },
     "metadata": {},
     "output_type": "display_data"
    },
    {
     "name": "stdout",
     "output_type": "stream",
     "text": [
      "(14019, 128, 44)\n",
      "________________________________________________________________________________\n",
      "Layer (type)              Output Shape              Param #     \n",
      "================================================================================\n",
      "spectrogram_1 (Spectrogra (None, 257, 44, 1)        263168      \n",
      "================================================================================\n",
      "Total params: 263,168\n",
      "Trainable params: 0\n",
      "Non-trainable params: 263,168\n",
      "________________________________________________________________________________\n",
      "Epoch 1/1\n",
      "2/2 [==============================] - 0s 71ms/step - loss: 1161.9492\n",
      "(1, 11025)\n"
     ]
    },
    {
     "data": {
      "image/png": "[encoded data removed]",
      "text/plain": [
       "<Figure size 432x288 with 1 Axes>"
      ]
     },
     "metadata": {},
     "output_type": "display_data"
    },
    {
     "name": "stdout",
     "output_type": "stream",
     "text": [
      "(14019, 257, 44)\n"
     ]
    }
   ],
   "source": [
    "import keras\n",
    "import kapre\n",
    "from keras.models import Sequential\n",
    "from kapre.time_frequency import Melspectrogram, Spectrogram\n",
    "from kapre.filterbank import Filterbank\n",
    "import numpy as np\n",
    "\n",
    "model = Sequential()\n",
    "model.add(Melspectrogram(\n",
    "    sr=44100,\n",
    "    n_mels=128,\n",
    "    power_melgram=2.0,\n",
    "    return_decibel_melgram = True,\n",
    "    input_shape=(1, blocksize),\n",
    "    trainable_fb=False\n",
    "))\n",
    "\n",
    "check_model(model)\n",
    "visualise_model(model, c_data[1])\n",
    "mfccs = evaluate_model(model, c_data)\n",
    "\n",
    "model = Sequential()\n",
    "model.add(Spectrogram(\n",
    "    return_decibel_spectrogram = True,\n",
    "    input_shape=(1, blocksize)\n",
    "))\n",
    "\n",
    "check_model(model)\n",
    "visualise_model(model, c_data[1])\n",
    "spec = evaluate_model(model, c_data)"
   ]
  },
  {
   "cell_type": "markdown",
   "metadata": {},
   "source": [
    "# Shallow Net\n",
    "Separate into classes"
   ]
  },
  {
   "cell_type": "code",
   "execution_count": 14,
   "metadata": {},
   "outputs": [],
   "source": [
    "import librosa\n",
    "\n",
    "def preprocess(mel_spec, spec):\n",
    "    # Calculate the first 13 mfcc's\n",
    "    mfccs = librosa.feature.mfcc(S=mel_spec, n_mfcc=13)\n",
    "    # Get first derivative of the mfccs\n",
    "    delta = librosa.feature.delta(mfccs)\n",
    "    # Get second derivative of mfccs\n",
    "    delta_2 = librosa.feature.delta(mfccs, order=2)\n",
    "    \n",
    "    spec_contrast = librosa.feature.spectral_contrast(S=spec)\n",
    "    \n",
    "    return np.vstack((mfccs[1:], delta, delta_2, spec_contrast)).transpose()"
   ]
  },
  {
   "cell_type": "code",
   "execution_count": 16,
   "metadata": {},
   "outputs": [
    {
     "name": "stdout",
     "output_type": "stream",
     "text": [
      "(44, 45)\n",
      "\tProcessing Time: 86.63370895385742\n"
     ]
    }
   ],
   "source": [
    "start_time = time.time()\n",
    "\n",
    "new_dat = []\n",
    "for i in range(0, spec.shape[0]):\n",
    "    new_dat.append(preprocess(mfccs[i], spec[i]))\n",
    "\n",
    "print(new_dat[0].shape)\n",
    "print(\"\\tProcessing Time: \" + str(time.time() - start_time))"
   ]
  },
  {
   "cell_type": "code",
   "execution_count": 17,
   "metadata": {},
   "outputs": [
    {
     "name": "stdout",
     "output_type": "stream",
     "text": [
      "(14019, 45)\n"
     ]
    }
   ],
   "source": [
    "new_dat = np.average(new_dat, axis=1)\n",
    "print(new_dat.shape)"
   ]
  },
  {
   "cell_type": "code",
   "execution_count": 18,
   "metadata": {},
   "outputs": [
    {
     "name": "stdout",
     "output_type": "stream",
     "text": [
      "(14019, 45)\n"
     ]
    }
   ],
   "source": [
    "new_dat = np.vstack(new_dat)\n",
    "print(new_dat.shape)"
   ]
  },
  {
   "cell_type": "code",
   "execution_count": 19,
   "metadata": {},
   "outputs": [
    {
     "name": "stdout",
     "output_type": "stream",
     "text": [
      "(14019,)\n"
     ]
    }
   ],
   "source": [
    "print(targets.shape)"
   ]
  },
  {
   "cell_type": "code",
   "execution_count": 20,
   "metadata": {},
   "outputs": [],
   "source": [
    "from sklearn.model_selection import train_test_split\n",
    "train_X, test_X, train_y, test_y = train_test_split(\n",
    "                        new_dat, targets, test_size=0.20, random_state=42)"
   ]
  },
  {
   "cell_type": "code",
   "execution_count": 26,
   "metadata": {},
   "outputs": [],
   "source": [
    "from keras.layers import Dense, Dropout\n",
    "\n",
    "def gpu_mfcc_deep_net_a():\n",
    "    # Create Model\n",
    "    model = Sequential()\n",
    "    model.add(Dense(128, activation='relu', input_shape=(45,)))\n",
    "    model.add(Dense(32, activation='relu'))\n",
    "    model.add(Dropout(0.2))\n",
    "    model.add(Dense(32, activation='relu'))\n",
    "    model.add(Dense(1, kernel_initializer='normal', activation='softmax'))\n",
    "    \n",
    "    # Compile model\n",
    "    model.compile(loss='binary_crossentropy',\n",
    "                  optimizer='adam',\n",
    "                  metrics=['accuracy'])\n",
    "    \n",
    "    model.summary()\n",
    "\n",
    "    \n",
    "    return model"
   ]
  },
  {
   "cell_type": "code",
   "execution_count": 27,
   "metadata": {
    "scrolled": true
   },
   "outputs": [
    {
     "name": "stdout",
     "output_type": "stream",
     "text": [
      "_________________________________________________________________\n",
      "Layer (type)                 Output Shape              Param #   \n",
      "=================================================================\n",
      "dense_17 (Dense)             (None, 128)               5888      \n",
      "_________________________________________________________________\n",
      "dense_18 (Dense)             (None, 32)                4128      \n",
      "_________________________________________________________________\n",
      "dropout_9 (Dropout)          (None, 32)                0         \n",
      "_________________________________________________________________\n",
      "dense_19 (Dense)             (None, 32)                1056      \n",
      "_________________________________________________________________\n",
      "dense_20 (Dense)             (None, 1)                 33        \n",
      "=================================================================\n",
      "Total params: 11,105\n",
      "Trainable params: 11,105\n",
      "Non-trainable params: 0\n",
      "_________________________________________________________________\n",
      "Train on 10654 samples, validate on 561 samples\n",
      "Epoch 1/100\n",
      "10654/10654 [==============================] - 3s 269us/step - loss: 5.8628 - acc: 0.6323 - val_loss: 5.9677 - val_acc: 0.6257\n",
      "Epoch 2/100\n",
      "10654/10654 [==============================] - 0s 45us/step - loss: 5.8628 - acc: 0.6323 - val_loss: 5.9677 - val_acc: 0.6257\n",
      "Epoch 3/100\n",
      "10654/10654 [==============================] - 0s 47us/step - loss: 5.8628 - acc: 0.6323 - val_loss: 5.9677 - val_acc: 0.6257\n",
      "Epoch 4/100\n",
      "10654/10654 [==============================] - 0s 44us/step - loss: 5.8628 - acc: 0.6323 - val_loss: 5.9677 - val_acc: 0.6257\n",
      "Epoch 5/100\n",
      "10654/10654 [==============================] - 1s 50us/step - loss: 5.8628 - acc: 0.6323 - val_loss: 5.9677 - val_acc: 0.6257\n",
      "Epoch 6/100\n",
      "10654/10654 [==============================] - 0s 44us/step - loss: 5.8628 - acc: 0.6323 - val_loss: 5.9677 - val_acc: 0.6257\n",
      "Epoch 7/100\n",
      "10654/10654 [==============================] - 0s 45us/step - loss: 5.8628 - acc: 0.6323 - val_loss: 5.9677 - val_acc: 0.6257\n",
      "Epoch 8/100\n",
      "10654/10654 [==============================] - 0s 46us/step - loss: 5.8628 - acc: 0.6323 - val_loss: 5.9677 - val_acc: 0.6257\n",
      "Epoch 9/100\n",
      "10654/10654 [==============================] - 0s 44us/step - loss: 5.8628 - acc: 0.6323 - val_loss: 5.9677 - val_acc: 0.6257\n",
      "Epoch 10/100\n",
      "10654/10654 [==============================] - 0s 43us/step - loss: 5.8628 - acc: 0.6323 - val_loss: 5.9677 - val_acc: 0.6257\n",
      "Epoch 11/100\n",
      "10654/10654 [==============================] - 0s 43us/step - loss: 5.8628 - acc: 0.6323 - val_loss: 5.9677 - val_acc: 0.6257\n",
      "Epoch 12/100\n",
      "10654/10654 [==============================] - 1s 52us/step - loss: 5.8628 - acc: 0.6323 - val_loss: 5.9677 - val_acc: 0.6257\n",
      "Epoch 13/100\n",
      "10654/10654 [==============================] - 0s 45us/step - loss: 5.8628 - acc: 0.6323 - val_loss: 5.9677 - val_acc: 0.6257\n",
      "Epoch 14/100\n",
      "10654/10654 [==============================] - 0s 39us/step - loss: 5.8628 - acc: 0.6323 - val_loss: 5.9677 - val_acc: 0.6257\n",
      "Epoch 15/100\n",
      "10654/10654 [==============================] - 0s 43us/step - loss: 5.8628 - acc: 0.6323 - val_loss: 5.9677 - val_acc: 0.6257\n",
      "Epoch 16/100\n",
      "10654/10654 [==============================] - 0s 46us/step - loss: 5.8628 - acc: 0.6323 - val_loss: 5.9677 - val_acc: 0.6257\n",
      "Epoch 17/100\n",
      "10654/10654 [==============================] - 0s 43us/step - loss: 5.8628 - acc: 0.6323 - val_loss: 5.9677 - val_acc: 0.6257\n",
      "Epoch 18/100\n",
      "10654/10654 [==============================] - 0s 40us/step - loss: 5.8628 - acc: 0.6323 - val_loss: 5.9677 - val_acc: 0.6257\n",
      "Epoch 19/100\n",
      "10654/10654 [==============================] - 0s 40us/step - loss: 5.8628 - acc: 0.6323 - val_loss: 5.9677 - val_acc: 0.6257\n",
      "Epoch 20/100\n",
      "10654/10654 [==============================] - 0s 39us/step - loss: 5.8628 - acc: 0.6323 - val_loss: 5.9677 - val_acc: 0.6257\n",
      "Epoch 21/100\n",
      "10654/10654 [==============================] - 0s 43us/step - loss: 5.8628 - acc: 0.6323 - val_loss: 5.9677 - val_acc: 0.6257\n",
      "Epoch 22/100\n",
      "10654/10654 [==============================] - 0s 41us/step - loss: 5.8628 - acc: 0.6323 - val_loss: 5.9677 - val_acc: 0.6257\n",
      "Epoch 23/100\n",
      "10654/10654 [==============================] - 0s 45us/step - loss: 5.8628 - acc: 0.6323 - val_loss: 5.9677 - val_acc: 0.6257\n",
      "Epoch 24/100\n",
      "10654/10654 [==============================] - 0s 40us/step - loss: 5.8628 - acc: 0.6323 - val_loss: 5.9677 - val_acc: 0.6257\n",
      "Epoch 25/100\n",
      "10654/10654 [==============================] - 0s 43us/step - loss: 5.8628 - acc: 0.6323 - val_loss: 5.9677 - val_acc: 0.6257\n",
      "Epoch 26/100\n",
      "10654/10654 [==============================] - 0s 45us/step - loss: 5.8628 - acc: 0.6323 - val_loss: 5.9677 - val_acc: 0.6257\n",
      "Epoch 27/100\n",
      "10654/10654 [==============================] - 0s 40us/step - loss: 5.8628 - acc: 0.6323 - val_loss: 5.9677 - val_acc: 0.6257\n",
      "Epoch 28/100\n",
      "10654/10654 [==============================] - 0s 39us/step - loss: 5.8628 - acc: 0.6323 - val_loss: 5.9677 - val_acc: 0.6257\n",
      "Epoch 29/100\n",
      "10654/10654 [==============================] - 0s 39us/step - loss: 5.8628 - acc: 0.6323 - val_loss: 5.9677 - val_acc: 0.6257\n",
      "Epoch 30/100\n",
      "10654/10654 [==============================] - 0s 44us/step - loss: 5.8628 - acc: 0.6323 - val_loss: 5.9677 - val_acc: 0.6257\n",
      "Epoch 31/100\n",
      "10654/10654 [==============================] - 0s 41us/step - loss: 5.8628 - acc: 0.6323 - val_loss: 5.9677 - val_acc: 0.6257\n",
      "Epoch 32/100\n",
      "10654/10654 [==============================] - 0s 39us/step - loss: 5.8628 - acc: 0.6323 - val_loss: 5.9677 - val_acc: 0.6257\n",
      "Epoch 33/100\n",
      "10654/10654 [==============================] - 0s 43us/step - loss: 5.8628 - acc: 0.6323 - val_loss: 5.9677 - val_acc: 0.6257\n",
      "Epoch 34/100\n",
      "10654/10654 [==============================] - 0s 46us/step - loss: 5.8628 - acc: 0.6323 - val_loss: 5.9677 - val_acc: 0.6257\n",
      "Epoch 35/100\n",
      "10654/10654 [==============================] - 0s 46us/step - loss: 5.8628 - acc: 0.6323 - val_loss: 5.9677 - val_acc: 0.6257\n",
      "Epoch 36/100\n",
      "10654/10654 [==============================] - 0s 40us/step - loss: 5.8628 - acc: 0.6323 - val_loss: 5.9677 - val_acc: 0.6257\n",
      "Epoch 37/100\n",
      "10654/10654 [==============================] - 0s 46us/step - loss: 5.8628 - acc: 0.6323 - val_loss: 5.9677 - val_acc: 0.6257\n",
      "Epoch 38/100\n",
      "10654/10654 [==============================] - 0s 39us/step - loss: 5.8628 - acc: 0.6323 - val_loss: 5.9677 - val_acc: 0.6257\n",
      "Epoch 39/100\n",
      "10654/10654 [==============================] - 0s 39us/step - loss: 5.8628 - acc: 0.6323 - val_loss: 5.9677 - val_acc: 0.6257\n",
      "Epoch 40/100\n",
      "10654/10654 [==============================] - 0s 39us/step - loss: 5.8628 - acc: 0.6323 - val_loss: 5.9677 - val_acc: 0.6257\n",
      "Epoch 41/100\n",
      "10654/10654 [==============================] - 0s 42us/step - loss: 5.8628 - acc: 0.6323 - val_loss: 5.9677 - val_acc: 0.6257\n",
      "Epoch 42/100\n",
      "10654/10654 [==============================] - 0s 39us/step - loss: 5.8628 - acc: 0.6323 - val_loss: 5.9677 - val_acc: 0.6257\n",
      "Epoch 43/100\n",
      "10654/10654 [==============================] - 0s 39us/step - loss: 5.8628 - acc: 0.6323 - val_loss: 5.9677 - val_acc: 0.6257\n",
      "Epoch 44/100\n",
      "10654/10654 [==============================] - 0s 39us/step - loss: 5.8628 - acc: 0.6323 - val_loss: 5.9677 - val_acc: 0.6257\n",
      "Epoch 45/100\n",
      "10654/10654 [==============================] - 0s 43us/step - loss: 5.8628 - acc: 0.6323 - val_loss: 5.9677 - val_acc: 0.6257\n",
      "Epoch 46/100\n",
      "10654/10654 [==============================] - 0s 46us/step - loss: 5.8628 - acc: 0.6323 - val_loss: 5.9677 - val_acc: 0.6257\n",
      "Epoch 47/100\n",
      "10654/10654 [==============================] - 0s 42us/step - loss: 5.8628 - acc: 0.6323 - val_loss: 5.9677 - val_acc: 0.6257\n",
      "Epoch 48/100\n",
      "10654/10654 [==============================] - 0s 42us/step - loss: 5.8628 - acc: 0.6323 - val_loss: 5.9677 - val_acc: 0.6257\n",
      "Epoch 49/100\n",
      "10654/10654 [==============================] - 0s 44us/step - loss: 5.8628 - acc: 0.6323 - val_loss: 5.9677 - val_acc: 0.6257\n",
      "Epoch 50/100\n",
      "10654/10654 [==============================] - 0s 40us/step - loss: 5.8628 - acc: 0.6323 - val_loss: 5.9677 - val_acc: 0.6257\n",
      "Epoch 51/100\n",
      "10654/10654 [==============================] - 0s 41us/step - loss: 5.8628 - acc: 0.6323 - val_loss: 5.9677 - val_acc: 0.6257\n",
      "Epoch 52/100\n",
      "10654/10654 [==============================] - 0s 39us/step - loss: 5.8628 - acc: 0.6323 - val_loss: 5.9677 - val_acc: 0.6257\n",
      "Epoch 53/100\n",
      "10654/10654 [==============================] - 1s 85us/step - loss: 5.8628 - acc: 0.6323 - val_loss: 5.9677 - val_acc: 0.6257\n",
      "Epoch 54/100\n",
      "10654/10654 [==============================] - 1s 80us/step - loss: 5.8628 - acc: 0.6323 - val_loss: 5.9677 - val_acc: 0.6257\n",
      "Epoch 55/100\n",
      "10654/10654 [==============================] - 1s 49us/step - loss: 5.8628 - acc: 0.6323 - val_loss: 5.9677 - val_acc: 0.6257\n",
      "Epoch 56/100\n",
      "10654/10654 [==============================] - 1s 47us/step - loss: 5.8628 - acc: 0.6323 - val_loss: 5.9677 - val_acc: 0.6257\n",
      "Epoch 57/100\n",
      "10654/10654 [==============================] - 0s 44us/step - loss: 5.8628 - acc: 0.6323 - val_loss: 5.9677 - val_acc: 0.6257\n",
      "Epoch 58/100\n",
      "10654/10654 [==============================] - 0s 44us/step - loss: 5.8628 - acc: 0.6323 - val_loss: 5.9677 - val_acc: 0.6257\n",
      "Epoch 59/100\n",
      "10654/10654 [==============================] - 0s 46us/step - loss: 5.8628 - acc: 0.6323 - val_loss: 5.9677 - val_acc: 0.6257\n",
      "Epoch 60/100\n",
      "10654/10654 [==============================] - 0s 46us/step - loss: 5.8628 - acc: 0.6323 - val_loss: 5.9677 - val_acc: 0.6257\n",
      "Epoch 61/100\n",
      "10654/10654 [==============================] - 0s 42us/step - loss: 5.8628 - acc: 0.6323 - val_loss: 5.9677 - val_acc: 0.6257\n",
      "Epoch 62/100\n",
      "10654/10654 [==============================] - 0s 41us/step - loss: 5.8628 - acc: 0.6323 - val_loss: 5.9677 - val_acc: 0.6257\n",
      "Epoch 63/100\n",
      "10654/10654 [==============================] - 0s 40us/step - loss: 5.8628 - acc: 0.6323 - val_loss: 5.9677 - val_acc: 0.6257\n",
      "Epoch 64/100\n",
      "10654/10654 [==============================] - 0s 41us/step - loss: 5.8628 - acc: 0.6323 - val_loss: 5.9677 - val_acc: 0.6257\n",
      "Epoch 65/100\n",
      "10654/10654 [==============================] - 0s 42us/step - loss: 5.8628 - acc: 0.6323 - val_loss: 5.9677 - val_acc: 0.6257\n",
      "Epoch 66/100\n",
      "10654/10654 [==============================] - 0s 41us/step - loss: 5.8628 - acc: 0.6323 - val_loss: 5.9677 - val_acc: 0.6257\n",
      "Epoch 67/100\n",
      "10654/10654 [==============================] - 1s 56us/step - loss: 5.8628 - acc: 0.6323 - val_loss: 5.9677 - val_acc: 0.6257\n",
      "Epoch 68/100\n",
      "10654/10654 [==============================] - 0s 43us/step - loss: 5.8628 - acc: 0.6323 - val_loss: 5.9677 - val_acc: 0.6257\n",
      "Epoch 69/100\n",
      "10654/10654 [==============================] - 0s 44us/step - loss: 5.8628 - acc: 0.6323 - val_loss: 5.9677 - val_acc: 0.6257\n",
      "Epoch 70/100\n",
      "10654/10654 [==============================] - 0s 39us/step - loss: 5.8628 - acc: 0.6323 - val_loss: 5.9677 - val_acc: 0.6257\n",
      "Epoch 71/100\n",
      "10654/10654 [==============================] - 0s 39us/step - loss: 5.8628 - acc: 0.6323 - val_loss: 5.9677 - val_acc: 0.6257\n",
      "Epoch 72/100\n",
      "10654/10654 [==============================] - 0s 41us/step - loss: 5.8628 - acc: 0.6323 - val_loss: 5.9677 - val_acc: 0.6257\n",
      "Epoch 73/100\n",
      "10654/10654 [==============================] - 0s 44us/step - loss: 5.8628 - acc: 0.6323 - val_loss: 5.9677 - val_acc: 0.6257\n",
      "Epoch 74/100\n",
      "10654/10654 [==============================] - 0s 43us/step - loss: 5.8628 - acc: 0.6323 - val_loss: 5.9677 - val_acc: 0.6257\n",
      "Epoch 75/100\n",
      "10654/10654 [==============================] - 0s 39us/step - loss: 5.8628 - acc: 0.6323 - val_loss: 5.9677 - val_acc: 0.6257\n",
      "Epoch 76/100\n",
      "10654/10654 [==============================] - 0s 41us/step - loss: 5.8628 - acc: 0.6323 - val_loss: 5.9677 - val_acc: 0.6257\n",
      "Epoch 77/100\n",
      "10654/10654 [==============================] - 0s 42us/step - loss: 5.8628 - acc: 0.6323 - val_loss: 5.9677 - val_acc: 0.6257\n",
      "Epoch 78/100\n",
      "10654/10654 [==============================] - 0s 40us/step - loss: 5.8628 - acc: 0.6323 - val_loss: 5.9677 - val_acc: 0.6257\n",
      "Epoch 79/100\n",
      "10654/10654 [==============================] - 0s 41us/step - loss: 5.8628 - acc: 0.6323 - val_loss: 5.9677 - val_acc: 0.6257\n",
      "Epoch 80/100\n",
      "10654/10654 [==============================] - 0s 42us/step - loss: 5.8628 - acc: 0.6323 - val_loss: 5.9677 - val_acc: 0.6257\n",
      "Epoch 81/100\n",
      "10654/10654 [==============================] - 0s 39us/step - loss: 5.8628 - acc: 0.6323 - val_loss: 5.9677 - val_acc: 0.6257\n",
      "Epoch 82/100\n",
      "10654/10654 [==============================] - 0s 41us/step - loss: 5.8628 - acc: 0.6323 - val_loss: 5.9677 - val_acc: 0.6257\n",
      "Epoch 83/100\n",
      "10654/10654 [==============================] - 0s 43us/step - loss: 5.8628 - acc: 0.6323 - val_loss: 5.9677 - val_acc: 0.6257\n",
      "Epoch 84/100\n",
      "10654/10654 [==============================] - 0s 41us/step - loss: 5.8628 - acc: 0.6323 - val_loss: 5.9677 - val_acc: 0.6257\n",
      "Epoch 85/100\n",
      "10654/10654 [==============================] - 0s 46us/step - loss: 5.8628 - acc: 0.6323 - val_loss: 5.9677 - val_acc: 0.6257\n",
      "Epoch 86/100\n",
      "10654/10654 [==============================] - 0s 39us/step - loss: 5.8628 - acc: 0.6323 - val_loss: 5.9677 - val_acc: 0.6257\n",
      "Epoch 87/100\n",
      "10654/10654 [==============================] - 0s 41us/step - loss: 5.8628 - acc: 0.6323 - val_loss: 5.9677 - val_acc: 0.6257\n",
      "Epoch 88/100\n",
      "10654/10654 [==============================] - 0s 43us/step - loss: 5.8628 - acc: 0.6323 - val_loss: 5.9677 - val_acc: 0.6257\n",
      "Epoch 89/100\n",
      "10654/10654 [==============================] - 0s 41us/step - loss: 5.8628 - acc: 0.6323 - val_loss: 5.9677 - val_acc: 0.6257\n",
      "Epoch 90/100\n",
      "10654/10654 [==============================] - 0s 39us/step - loss: 5.8628 - acc: 0.6323 - val_loss: 5.9677 - val_acc: 0.6257\n",
      "Epoch 91/100\n",
      "10654/10654 [==============================] - 0s 38us/step - loss: 5.8628 - acc: 0.6323 - val_loss: 5.9677 - val_acc: 0.6257\n",
      "Epoch 92/100\n",
      "10654/10654 [==============================] - 0s 43us/step - loss: 5.8628 - acc: 0.6323 - val_loss: 5.9677 - val_acc: 0.6257\n",
      "Epoch 93/100\n",
      "10654/10654 [==============================] - 0s 40us/step - loss: 5.8628 - acc: 0.6323 - val_loss: 5.9677 - val_acc: 0.6257\n",
      "Epoch 94/100\n",
      "10654/10654 [==============================] - 0s 42us/step - loss: 5.8628 - acc: 0.6323 - val_loss: 5.9677 - val_acc: 0.6257\n",
      "Epoch 95/100\n",
      "10654/10654 [==============================] - 0s 40us/step - loss: 5.8628 - acc: 0.6323 - val_loss: 5.9677 - val_acc: 0.6257\n",
      "Epoch 96/100\n",
      "10654/10654 [==============================] - 0s 39us/step - loss: 5.8628 - acc: 0.6323 - val_loss: 5.9677 - val_acc: 0.6257\n",
      "Epoch 97/100\n",
      "10654/10654 [==============================] - 0s 44us/step - loss: 5.8628 - acc: 0.6323 - val_loss: 5.9677 - val_acc: 0.6257\n",
      "Epoch 98/100\n",
      "10654/10654 [==============================] - 1s 47us/step - loss: 5.8628 - acc: 0.6323 - val_loss: 5.9677 - val_acc: 0.6257\n",
      "Epoch 99/100\n",
      "10654/10654 [==============================] - 0s 39us/step - loss: 5.8628 - acc: 0.6323 - val_loss: 5.9677 - val_acc: 0.6257\n",
      "Epoch 100/100\n",
      "10654/10654 [==============================] - 0s 42us/step - loss: 5.8628 - acc: 0.6323 - val_loss: 5.9677 - val_acc: 0.6257\n"
     ]
    }
   ],
   "source": [
    "anim = KerasClassifier(build_fn=gpu_mfcc_deep_net_a, \n",
    "                       epochs=100,\n",
    "                       batch_size=200, \n",
    "                       shuffle=True,\n",
    "                       validation_split=0.05)\n",
    "history = anim.fit(train_X, train_y)"
   ]
  },
  {
   "cell_type": "code",
   "execution_count": 28,
   "metadata": {
    "scrolled": true
   },
   "outputs": [
    {
     "data": {
      "image/png": "[encoded data removed]",
      "text/plain": [
       "<Figure size 720x360 with 1 Axes>"
      ]
     },
     "metadata": {},
     "output_type": "display_data"
    }
   ],
   "source": [
    "plt.figure(figsize=(10, 5))\n",
    "# plt.ylim([0,9])\n",
    "plt.plot(history.history['loss'])\n",
    "plt.plot(history.history['val_loss'])\n",
    "plt.show()"
   ]
  },
  {
   "cell_type": "code",
   "execution_count": 29,
   "metadata": {},
   "outputs": [
    {
     "data": {
      "image/png": "[encoded data removed]",
      "text/plain": [
       "<Figure size 720x360 with 1 Axes>"
      ]
     },
     "metadata": {},
     "output_type": "display_data"
    }
   ],
   "source": [
    "plt.figure(figsize=(10, 5))\n",
    "# plt.ylim([0,9])\n",
    "plt.plot(history.history['acc'])\n",
    "plt.plot(history.history['val_acc'])\n",
    "plt.show()"
   ]
  },
  {
   "cell_type": "code",
   "execution_count": 30,
   "metadata": {},
   "outputs": [
    {
     "name": "stdout",
     "output_type": "stream",
     "text": [
      "0.6280313837375179\n",
      "Confusion matrix, without normalization\n",
      "[[   0 1043]\n",
      " [   0 1761]]\n"
     ]
    },
    {
     "data": {
      "image/png": "[encoded data removed]",
      "text/plain": [
       "<Figure size 720x720 with 2 Axes>"
      ]
     },
     "metadata": {},
     "output_type": "display_data"
    }
   ],
   "source": [
    "pred = anim.predict(test_X)\n",
    "print(metrics.accuracy_score(test_y, pred))\n",
    "cm = metrics.confusion_matrix(test_y, pred)\n",
    "plt.figure(figsize=(10,10))\n",
    "plot_confusion_matrix(cm, h_classes)\n",
    "plt.show()"
   ]
  },
  {
   "cell_type": "markdown",
   "metadata": {},
   "source": [
    "# All Data"
   ]
  },
  {
   "cell_type": "code",
   "execution_count": null,
   "metadata": {},
   "outputs": [],
   "source": [
    "X2, y2, yy2 = load_fold_audio_blockwise(2, dataset, blocksize, overlap)\n",
    "X3, y3, yy3 = load_fold_audio_blockwise(3, dataset, blocksize, overlap)\n",
    "X4, y4, yy4 = load_fold_audio_blockwise(4, dataset, blocksize, overlap)\n",
    "X5, y5, yy5 = load_fold_audio_blockwise(5, dataset, blocksize, overlap)"
   ]
  },
  {
   "cell_type": "code",
   "execution_count": null,
   "metadata": {},
   "outputs": [],
   "source": [
    "X = np.vstack((X2, X3, X4, X5))\n",
    "print(X.shape)"
   ]
  },
  {
   "cell_type": "code",
   "execution_count": null,
   "metadata": {},
   "outputs": [],
   "source": [
    "y = np.concatenate((y2, y3, y4, y5))\n",
    "print(y.shape)"
   ]
  },
  {
   "cell_type": "code",
   "execution_count": null,
   "metadata": {},
   "outputs": [],
   "source": [
    "yy = np.concatenate((yy2, yy3, yy4, yy5))\n",
    "print(yy.shape)"
   ]
  },
  {
   "cell_type": "code",
   "execution_count": null,
   "metadata": {},
   "outputs": [],
   "source": [
    "model = Sequential()\n",
    "model.add(Melspectrogram(\n",
    "    sr=44100,\n",
    "    n_mels=128,\n",
    "    power_melgram=2.0,\n",
    "    return_decibel_melgram = True,\n",
    "    input_shape=(1, blocksize),\n",
    "    trainable_fb=False\n",
    "))\n",
    "\n",
    "check_model(model)\n",
    "visualise_model(model, X[1])\n",
    "mfccs = evaluate_model(model, X)\n",
    "\n",
    "model = Sequential()\n",
    "model.add(Spectrogram(\n",
    "    return_decibel_spectrogram = True,\n",
    "    input_shape=(1, blocksize)\n",
    "))\n",
    "\n",
    "check_model(model)\n",
    "visualise_model(model, X[1])\n",
    "spec = evaluate_model(model, X)"
   ]
  },
  {
   "cell_type": "code",
   "execution_count": null,
   "metadata": {},
   "outputs": [],
   "source": [
    "start_time = time.time()\n",
    "\n",
    "new_dat = []\n",
    "for i in range(0, spec.shape[0]):\n",
    "    new_dat.append(preprocess(mfccs[i], spec[i]))\n",
    "\n",
    "print(new_dat[0].shape)\n",
    "print(\"\\tProcessing Time: \" + str(time.time() - start_time))\n",
    "\n",
    "start_time = time.time()"
   ]
  },
  {
   "cell_type": "code",
   "execution_count": null,
   "metadata": {},
   "outputs": [],
   "source": [
    "new_dat = np.average(new_dat, axis=1)\n",
    "print(new_dat.shape)"
   ]
  },
  {
   "cell_type": "code",
   "execution_count": null,
   "metadata": {},
   "outputs": [],
   "source": [
    "print(targets.shape)"
   ]
  },
  {
   "cell_type": "code",
   "execution_count": null,
   "metadata": {
    "scrolled": true
   },
   "outputs": [],
   "source": [
    "pred = anim.predict(new_dat)\n",
    "print(metrics.accuracy_score(y, pred))\n",
    "cm = metrics.confusion_matrix(y, pred)\n",
    "plt.figure(figsize=(10,10))\n",
    "plot_confusion_matrix(cm, h_classes)\n",
    "plt.show()"
   ]
  },
  {
   "cell_type": "code",
   "execution_count": null,
   "metadata": {},
   "outputs": [],
   "source": []
  }
 ],
 "metadata": {
  "kernelspec": {
   "display_name": "Python 3",
   "language": "python",
   "name": "python3"
  },
  "language_info": {
   "codemirror_mode": {
    "name": "ipython",
    "version": 3
   },
   "file_extension": ".py",
   "mimetype": "text/x-python",
   "name": "python",
   "nbconvert_exporter": "python",
   "pygments_lexer": "ipython3",
   "version": "3.5.2"
  }
 },
 "nbformat": 4,
 "nbformat_minor": 2
}
