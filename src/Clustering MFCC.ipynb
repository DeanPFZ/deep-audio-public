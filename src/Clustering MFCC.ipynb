{
 "cells": [
  {
   "cell_type": "code",
   "execution_count": 1,
   "metadata": {},
   "outputs": [
    {
     "name": "stderr",
     "output_type": "stream",
     "text": [
      "Using TensorFlow backend.\n"
     ]
    },
    {
     "name": "stdout",
     "output_type": "stream",
     "text": [
      "WARNING:tensorflow:From /usr/local/lib/python3.5/dist-packages/magenta/models/nsynth/wavenet/masked.py:115: UniformUnitScaling.__init__ (from tensorflow.python.ops.init_ops) is deprecated and will be removed in a future version.\n",
      "Instructions for updating:\n",
      "Use tf.initializers.variance_scaling instead with distribution=uniform to get equivalent behavior.\n"
     ]
    }
   ],
   "source": [
    "import pandas as pd\n",
    "from preprocess import Audio_Processor\n",
    "from classification_plots import plot_confusion_matrix, plot_learning_curve\n",
    "import matplotlib.pyplot as plt\n",
    "import os\n",
    "import pylab as pl\n",
    "from sklearn.preprocessing import normalize"
   ]
  },
  {
   "cell_type": "code",
   "execution_count": 2,
   "metadata": {},
   "outputs": [],
   "source": [
    "# Able to specify which GPU to use\n",
    "os.environ[\"CUDA_VISIBLE_DEVICES\"]=\"1\"\n",
    "\n",
    "SR = 44100\n",
    "blocksize = 88200\n",
    "overlap = 22050"
   ]
  },
  {
   "cell_type": "code",
   "execution_count": 3,
   "metadata": {},
   "outputs": [],
   "source": [
    "import warnings\n",
    "warnings.filterwarnings('ignore')"
   ]
  },
  {
   "cell_type": "markdown",
   "metadata": {},
   "source": [
    "# Setup"
   ]
  },
  {
   "cell_type": "code",
   "execution_count": 4,
   "metadata": {},
   "outputs": [],
   "source": [
    "audio_dir = '../ESC-50/audio/'"
   ]
  },
  {
   "cell_type": "code",
   "execution_count": 5,
   "metadata": {},
   "outputs": [],
   "source": [
    "path_to_db='../ESC-50/'\n",
    "ps = Audio_Processor(path_to_db + 'audio/')"
   ]
  },
  {
   "cell_type": "markdown",
   "metadata": {},
   "source": [
    "# Load Dataset\n",
    "Here we load the csv that describes each file in the dataset. We add a high level category that is defined in the ESC-50 documentation. This we realize is anthetical to true training, it is a stopgap for when we use NLP to classify tags into these categories."
   ]
  },
  {
   "cell_type": "code",
   "execution_count": 6,
   "metadata": {},
   "outputs": [],
   "source": [
    "dataset = pd.read_csv(path_to_db + 'meta/esc50.csv')\n",
    "classes = [None] * 50"
   ]
  },
  {
   "cell_type": "code",
   "execution_count": 7,
   "metadata": {},
   "outputs": [],
   "source": [
    "h_classes = ['Human & Animal', 'Interacting Materials']\n",
    "mapping = {'dog': 0,'rooster': 0,'pig': 0,'cow': 0,'frog': 0,'cat': 0,'hen': 0,\n",
    "            'insects': 0,'sheep': 0,'crow': 0,'rain': 1,'sea_waves': 1,'crackling_fire': 1,\n",
    "            'crickets': 0,'chirping_birds': 0,'water_drops': 1,'wind': 1,'pouring_water': 1,\n",
    "            'toilet_flush': 1,'thunderstorm': 1,'crying_baby': 0,'sneezing': 0,'clapping': 0,\n",
    "            'breathing': 0,'coughing': 0,'footsteps': 1,'laughing': 0,'brushing_teeth': 1,\n",
    "            'snoring': 0,'drinking_sipping': 1,'door_wood_knock': 1,'mouse_click': 1,\n",
    "            'keyboard_typing': 1,'door_wood_creaks': 1,'can_opening': 1,'washing_machine': 1,\n",
    "            'vacuum_cleaner': 1,'clock_alarm': 1,'clock_tick': 1,'glass_breaking':1,'helicopter': 1,\n",
    "            'chainsaw': 1,'siren': 1,'car_horn': 1,'engine': 1,'train': 1,'church_bells': 1,\n",
    "            'airplane': 1,'fireworks': 1,'hand_saw': 1,\n",
    "            }"
   ]
  },
  {
   "cell_type": "code",
   "execution_count": 8,
   "metadata": {},
   "outputs": [],
   "source": [
    "dataset['h_category'] = None\n",
    "for index, row in dataset.iterrows():\n",
    "    target = row['target']\n",
    "    classes[target] = row['category']\n",
    "    dataset.loc[index, 'h_category'] = mapping[row['category']]"
   ]
  },
  {
   "cell_type": "code",
   "execution_count": 9,
   "metadata": {},
   "outputs": [
    {
     "data": {
      "text/html": [
       "<div>\n",
       "<style scoped>\n",
       "    .dataframe tbody tr th:only-of-type {\n",
       "        vertical-align: middle;\n",
       "    }\n",
       "\n",
       "    .dataframe tbody tr th {\n",
       "        vertical-align: top;\n",
       "    }\n",
       "\n",
       "    .dataframe thead th {\n",
       "        text-align: right;\n",
       "    }\n",
       "</style>\n",
       "<table border=\"1\" class=\"dataframe\">\n",
       "  <thead>\n",
       "    <tr style=\"text-align: right;\">\n",
       "      <th></th>\n",
       "      <th>filename</th>\n",
       "      <th>fold</th>\n",
       "      <th>target</th>\n",
       "      <th>category</th>\n",
       "      <th>esc10</th>\n",
       "      <th>src_file</th>\n",
       "      <th>take</th>\n",
       "      <th>h_category</th>\n",
       "    </tr>\n",
       "  </thead>\n",
       "  <tbody>\n",
       "    <tr>\n",
       "      <th>0</th>\n",
       "      <td>1-100032-A-0.wav</td>\n",
       "      <td>1</td>\n",
       "      <td>0</td>\n",
       "      <td>dog</td>\n",
       "      <td>True</td>\n",
       "      <td>100032</td>\n",
       "      <td>A</td>\n",
       "      <td>0</td>\n",
       "    </tr>\n",
       "    <tr>\n",
       "      <th>1</th>\n",
       "      <td>1-100038-A-14.wav</td>\n",
       "      <td>1</td>\n",
       "      <td>14</td>\n",
       "      <td>chirping_birds</td>\n",
       "      <td>False</td>\n",
       "      <td>100038</td>\n",
       "      <td>A</td>\n",
       "      <td>0</td>\n",
       "    </tr>\n",
       "    <tr>\n",
       "      <th>2</th>\n",
       "      <td>1-100210-A-36.wav</td>\n",
       "      <td>1</td>\n",
       "      <td>36</td>\n",
       "      <td>vacuum_cleaner</td>\n",
       "      <td>False</td>\n",
       "      <td>100210</td>\n",
       "      <td>A</td>\n",
       "      <td>1</td>\n",
       "    </tr>\n",
       "    <tr>\n",
       "      <th>3</th>\n",
       "      <td>1-100210-B-36.wav</td>\n",
       "      <td>1</td>\n",
       "      <td>36</td>\n",
       "      <td>vacuum_cleaner</td>\n",
       "      <td>False</td>\n",
       "      <td>100210</td>\n",
       "      <td>B</td>\n",
       "      <td>1</td>\n",
       "    </tr>\n",
       "    <tr>\n",
       "      <th>4</th>\n",
       "      <td>1-101296-A-19.wav</td>\n",
       "      <td>1</td>\n",
       "      <td>19</td>\n",
       "      <td>thunderstorm</td>\n",
       "      <td>False</td>\n",
       "      <td>101296</td>\n",
       "      <td>A</td>\n",
       "      <td>1</td>\n",
       "    </tr>\n",
       "  </tbody>\n",
       "</table>\n",
       "</div>"
      ],
      "text/plain": [
       "            filename  fold  target        category  esc10  src_file take  \\\n",
       "0   1-100032-A-0.wav     1       0             dog   True    100032    A   \n",
       "1  1-100038-A-14.wav     1      14  chirping_birds  False    100038    A   \n",
       "2  1-100210-A-36.wav     1      36  vacuum_cleaner  False    100210    A   \n",
       "3  1-100210-B-36.wav     1      36  vacuum_cleaner  False    100210    B   \n",
       "4  1-101296-A-19.wav     1      19    thunderstorm  False    101296    A   \n",
       "\n",
       "   h_category  \n",
       "0           0  \n",
       "1           0  \n",
       "2           1  \n",
       "3           1  \n",
       "4           1  "
      ]
     },
     "execution_count": 9,
     "metadata": {},
     "output_type": "execute_result"
    }
   ],
   "source": [
    "dataset.head()"
   ]
  },
  {
   "cell_type": "markdown",
   "metadata": {},
   "source": [
    "## Getting Preprocessed Data\n",
    "We allow for previously preprocessed data to be retrieved for faster training turnaround. If the fold has been preprocessed, it is loaded but if not it is processed and saved."
   ]
  },
  {
   "cell_type": "code",
   "execution_count": 10,
   "metadata": {},
   "outputs": [],
   "source": [
    "df = ps.preprocess_fold(dataset, \n",
    "                        kind='mfcc', \n",
    "                        fld=range(2,6), \n",
    "                        blocksize=blocksize, \n",
    "                        overlap=overlap)"
   ]
  },
  {
   "cell_type": "code",
   "execution_count": 11,
   "metadata": {},
   "outputs": [
    {
     "data": {
      "text/html": [
       "<div>\n",
       "<style scoped>\n",
       "    .dataframe tbody tr th:only-of-type {\n",
       "        vertical-align: middle;\n",
       "    }\n",
       "\n",
       "    .dataframe tbody tr th {\n",
       "        vertical-align: top;\n",
       "    }\n",
       "\n",
       "    .dataframe thead th {\n",
       "        text-align: right;\n",
       "    }\n",
       "</style>\n",
       "<table border=\"1\" class=\"dataframe\">\n",
       "  <thead>\n",
       "    <tr style=\"text-align: right;\">\n",
       "      <th></th>\n",
       "      <th>0</th>\n",
       "      <th>1</th>\n",
       "      <th>2</th>\n",
       "      <th>3</th>\n",
       "      <th>4</th>\n",
       "      <th>5</th>\n",
       "      <th>6</th>\n",
       "      <th>7</th>\n",
       "      <th>8</th>\n",
       "      <th>9</th>\n",
       "      <th>...</th>\n",
       "      <th>106</th>\n",
       "      <th>107</th>\n",
       "      <th>108</th>\n",
       "      <th>109</th>\n",
       "      <th>110</th>\n",
       "      <th>111</th>\n",
       "      <th>112</th>\n",
       "      <th>113</th>\n",
       "      <th>l_target</th>\n",
       "      <th>h_target</th>\n",
       "    </tr>\n",
       "  </thead>\n",
       "  <tbody>\n",
       "    <tr>\n",
       "      <th>count</th>\n",
       "      <td>4538.000000</td>\n",
       "      <td>4538.000000</td>\n",
       "      <td>4538.000000</td>\n",
       "      <td>4538.000000</td>\n",
       "      <td>4538.000000</td>\n",
       "      <td>4538.000000</td>\n",
       "      <td>4538.000000</td>\n",
       "      <td>4538.000000</td>\n",
       "      <td>4538.000000</td>\n",
       "      <td>4538.000000</td>\n",
       "      <td>...</td>\n",
       "      <td>4538.000000</td>\n",
       "      <td>4538.000000</td>\n",
       "      <td>4538.000000</td>\n",
       "      <td>4538.000000</td>\n",
       "      <td>4538.000000</td>\n",
       "      <td>4538.000000</td>\n",
       "      <td>4538.000000</td>\n",
       "      <td>4538.000000</td>\n",
       "      <td>4538.000000</td>\n",
       "      <td>4538.000000</td>\n",
       "    </tr>\n",
       "    <tr>\n",
       "      <th>mean</th>\n",
       "      <td>0.271778</td>\n",
       "      <td>0.277427</td>\n",
       "      <td>0.196409</td>\n",
       "      <td>0.172584</td>\n",
       "      <td>0.155856</td>\n",
       "      <td>0.147383</td>\n",
       "      <td>0.137123</td>\n",
       "      <td>0.137427</td>\n",
       "      <td>0.127727</td>\n",
       "      <td>0.125805</td>\n",
       "      <td>...</td>\n",
       "      <td>-0.000042</td>\n",
       "      <td>0.000060</td>\n",
       "      <td>-0.000030</td>\n",
       "      <td>0.000046</td>\n",
       "      <td>-0.000036</td>\n",
       "      <td>0.000034</td>\n",
       "      <td>-0.000015</td>\n",
       "      <td>0.000021</td>\n",
       "      <td>0.623402</td>\n",
       "      <td>24.497135</td>\n",
       "    </tr>\n",
       "    <tr>\n",
       "      <th>std</th>\n",
       "      <td>0.152690</td>\n",
       "      <td>0.154592</td>\n",
       "      <td>0.088349</td>\n",
       "      <td>0.075266</td>\n",
       "      <td>0.066213</td>\n",
       "      <td>0.060945</td>\n",
       "      <td>0.056277</td>\n",
       "      <td>0.057575</td>\n",
       "      <td>0.051265</td>\n",
       "      <td>0.050852</td>\n",
       "      <td>...</td>\n",
       "      <td>0.000670</td>\n",
       "      <td>0.000621</td>\n",
       "      <td>0.000643</td>\n",
       "      <td>0.000617</td>\n",
       "      <td>0.000649</td>\n",
       "      <td>0.000603</td>\n",
       "      <td>0.000628</td>\n",
       "      <td>0.000569</td>\n",
       "      <td>0.484586</td>\n",
       "      <td>14.519294</td>\n",
       "    </tr>\n",
       "    <tr>\n",
       "      <th>min</th>\n",
       "      <td>0.000000</td>\n",
       "      <td>0.000000</td>\n",
       "      <td>0.000000</td>\n",
       "      <td>0.000000</td>\n",
       "      <td>0.000000</td>\n",
       "      <td>0.000000</td>\n",
       "      <td>0.000000</td>\n",
       "      <td>0.000000</td>\n",
       "      <td>0.000000</td>\n",
       "      <td>0.000000</td>\n",
       "      <td>...</td>\n",
       "      <td>-0.017461</td>\n",
       "      <td>-0.005907</td>\n",
       "      <td>-0.005809</td>\n",
       "      <td>-0.009156</td>\n",
       "      <td>-0.016274</td>\n",
       "      <td>-0.005280</td>\n",
       "      <td>-0.003952</td>\n",
       "      <td>-0.006403</td>\n",
       "      <td>0.000000</td>\n",
       "      <td>0.000000</td>\n",
       "    </tr>\n",
       "    <tr>\n",
       "      <th>25%</th>\n",
       "      <td>0.146685</td>\n",
       "      <td>0.143912</td>\n",
       "      <td>0.133364</td>\n",
       "      <td>0.120063</td>\n",
       "      <td>0.111619</td>\n",
       "      <td>0.106004</td>\n",
       "      <td>0.100349</td>\n",
       "      <td>0.097655</td>\n",
       "      <td>0.094181</td>\n",
       "      <td>0.091991</td>\n",
       "      <td>...</td>\n",
       "      <td>-0.000126</td>\n",
       "      <td>-0.000040</td>\n",
       "      <td>-0.000111</td>\n",
       "      <td>-0.000045</td>\n",
       "      <td>-0.000105</td>\n",
       "      <td>-0.000051</td>\n",
       "      <td>-0.000093</td>\n",
       "      <td>-0.000049</td>\n",
       "      <td>0.000000</td>\n",
       "      <td>12.000000</td>\n",
       "    </tr>\n",
       "    <tr>\n",
       "      <th>50%</th>\n",
       "      <td>0.255615</td>\n",
       "      <td>0.270452</td>\n",
       "      <td>0.197800</td>\n",
       "      <td>0.172240</td>\n",
       "      <td>0.155154</td>\n",
       "      <td>0.147672</td>\n",
       "      <td>0.136195</td>\n",
       "      <td>0.137088</td>\n",
       "      <td>0.127714</td>\n",
       "      <td>0.125865</td>\n",
       "      <td>...</td>\n",
       "      <td>-0.000029</td>\n",
       "      <td>0.000025</td>\n",
       "      <td>-0.000024</td>\n",
       "      <td>0.000015</td>\n",
       "      <td>-0.000021</td>\n",
       "      <td>0.000007</td>\n",
       "      <td>-0.000014</td>\n",
       "      <td>0.000004</td>\n",
       "      <td>1.000000</td>\n",
       "      <td>24.000000</td>\n",
       "    </tr>\n",
       "    <tr>\n",
       "      <th>75%</th>\n",
       "      <td>0.372589</td>\n",
       "      <td>0.387784</td>\n",
       "      <td>0.252908</td>\n",
       "      <td>0.220791</td>\n",
       "      <td>0.197310</td>\n",
       "      <td>0.184662</td>\n",
       "      <td>0.170713</td>\n",
       "      <td>0.173707</td>\n",
       "      <td>0.158522</td>\n",
       "      <td>0.156500</td>\n",
       "      <td>...</td>\n",
       "      <td>0.000032</td>\n",
       "      <td>0.000121</td>\n",
       "      <td>0.000035</td>\n",
       "      <td>0.000100</td>\n",
       "      <td>0.000036</td>\n",
       "      <td>0.000087</td>\n",
       "      <td>0.000043</td>\n",
       "      <td>0.000082</td>\n",
       "      <td>1.000000</td>\n",
       "      <td>37.000000</td>\n",
       "    </tr>\n",
       "    <tr>\n",
       "      <th>max</th>\n",
       "      <td>0.782623</td>\n",
       "      <td>0.839244</td>\n",
       "      <td>0.561361</td>\n",
       "      <td>0.483876</td>\n",
       "      <td>0.458426</td>\n",
       "      <td>0.454676</td>\n",
       "      <td>0.490386</td>\n",
       "      <td>0.424678</td>\n",
       "      <td>0.377254</td>\n",
       "      <td>0.407372</td>\n",
       "      <td>...</td>\n",
       "      <td>0.030503</td>\n",
       "      <td>0.030503</td>\n",
       "      <td>0.030503</td>\n",
       "      <td>0.030503</td>\n",
       "      <td>0.030503</td>\n",
       "      <td>0.030503</td>\n",
       "      <td>0.030503</td>\n",
       "      <td>0.030503</td>\n",
       "      <td>1.000000</td>\n",
       "      <td>49.000000</td>\n",
       "    </tr>\n",
       "  </tbody>\n",
       "</table>\n",
       "<p>8 rows × 116 columns</p>\n",
       "</div>"
      ],
      "text/plain": [
       "                 0            1            2            3            4  \\\n",
       "count  4538.000000  4538.000000  4538.000000  4538.000000  4538.000000   \n",
       "mean      0.271778     0.277427     0.196409     0.172584     0.155856   \n",
       "std       0.152690     0.154592     0.088349     0.075266     0.066213   \n",
       "min       0.000000     0.000000     0.000000     0.000000     0.000000   \n",
       "25%       0.146685     0.143912     0.133364     0.120063     0.111619   \n",
       "50%       0.255615     0.270452     0.197800     0.172240     0.155154   \n",
       "75%       0.372589     0.387784     0.252908     0.220791     0.197310   \n",
       "max       0.782623     0.839244     0.561361     0.483876     0.458426   \n",
       "\n",
       "                 5            6            7            8            9  \\\n",
       "count  4538.000000  4538.000000  4538.000000  4538.000000  4538.000000   \n",
       "mean      0.147383     0.137123     0.137427     0.127727     0.125805   \n",
       "std       0.060945     0.056277     0.057575     0.051265     0.050852   \n",
       "min       0.000000     0.000000     0.000000     0.000000     0.000000   \n",
       "25%       0.106004     0.100349     0.097655     0.094181     0.091991   \n",
       "50%       0.147672     0.136195     0.137088     0.127714     0.125865   \n",
       "75%       0.184662     0.170713     0.173707     0.158522     0.156500   \n",
       "max       0.454676     0.490386     0.424678     0.377254     0.407372   \n",
       "\n",
       "          ...               106          107          108          109  \\\n",
       "count     ...       4538.000000  4538.000000  4538.000000  4538.000000   \n",
       "mean      ...         -0.000042     0.000060    -0.000030     0.000046   \n",
       "std       ...          0.000670     0.000621     0.000643     0.000617   \n",
       "min       ...         -0.017461    -0.005907    -0.005809    -0.009156   \n",
       "25%       ...         -0.000126    -0.000040    -0.000111    -0.000045   \n",
       "50%       ...         -0.000029     0.000025    -0.000024     0.000015   \n",
       "75%       ...          0.000032     0.000121     0.000035     0.000100   \n",
       "max       ...          0.030503     0.030503     0.030503     0.030503   \n",
       "\n",
       "               110          111          112          113     l_target  \\\n",
       "count  4538.000000  4538.000000  4538.000000  4538.000000  4538.000000   \n",
       "mean     -0.000036     0.000034    -0.000015     0.000021     0.623402   \n",
       "std       0.000649     0.000603     0.000628     0.000569     0.484586   \n",
       "min      -0.016274    -0.005280    -0.003952    -0.006403     0.000000   \n",
       "25%      -0.000105    -0.000051    -0.000093    -0.000049     0.000000   \n",
       "50%      -0.000021     0.000007    -0.000014     0.000004     1.000000   \n",
       "75%       0.000036     0.000087     0.000043     0.000082     1.000000   \n",
       "max       0.030503     0.030503     0.030503     0.030503     1.000000   \n",
       "\n",
       "          h_target  \n",
       "count  4538.000000  \n",
       "mean     24.497135  \n",
       "std      14.519294  \n",
       "min       0.000000  \n",
       "25%      12.000000  \n",
       "50%      24.000000  \n",
       "75%      37.000000  \n",
       "max      49.000000  \n",
       "\n",
       "[8 rows x 116 columns]"
      ]
     },
     "execution_count": 11,
     "metadata": {},
     "output_type": "execute_result"
    }
   ],
   "source": [
    "df.describe()"
   ]
  },
  {
   "cell_type": "code",
   "execution_count": 12,
   "metadata": {},
   "outputs": [],
   "source": [
    "X = df.drop(['l_target', 'h_target'], axis=1)\n",
    "y_h = df['h_target']\n",
    "y_l = df['l_target']"
   ]
  },
  {
   "cell_type": "code",
   "execution_count": 13,
   "metadata": {},
   "outputs": [
    {
     "data": {
      "text/html": [
       "<div>\n",
       "<style scoped>\n",
       "    .dataframe tbody tr th:only-of-type {\n",
       "        vertical-align: middle;\n",
       "    }\n",
       "\n",
       "    .dataframe tbody tr th {\n",
       "        vertical-align: top;\n",
       "    }\n",
       "\n",
       "    .dataframe thead th {\n",
       "        text-align: right;\n",
       "    }\n",
       "</style>\n",
       "<table border=\"1\" class=\"dataframe\">\n",
       "  <thead>\n",
       "    <tr style=\"text-align: right;\">\n",
       "      <th></th>\n",
       "      <th>0</th>\n",
       "      <th>1</th>\n",
       "      <th>2</th>\n",
       "      <th>3</th>\n",
       "      <th>4</th>\n",
       "      <th>5</th>\n",
       "      <th>6</th>\n",
       "      <th>7</th>\n",
       "      <th>8</th>\n",
       "      <th>9</th>\n",
       "      <th>...</th>\n",
       "      <th>104</th>\n",
       "      <th>105</th>\n",
       "      <th>106</th>\n",
       "      <th>107</th>\n",
       "      <th>108</th>\n",
       "      <th>109</th>\n",
       "      <th>110</th>\n",
       "      <th>111</th>\n",
       "      <th>112</th>\n",
       "      <th>113</th>\n",
       "    </tr>\n",
       "  </thead>\n",
       "  <tbody>\n",
       "    <tr>\n",
       "      <th>0</th>\n",
       "      <td>0.296656</td>\n",
       "      <td>0.205606</td>\n",
       "      <td>0.197069</td>\n",
       "      <td>0.168955</td>\n",
       "      <td>0.137761</td>\n",
       "      <td>0.129281</td>\n",
       "      <td>0.111632</td>\n",
       "      <td>0.097124</td>\n",
       "      <td>0.089658</td>\n",
       "      <td>0.092757</td>\n",
       "      <td>...</td>\n",
       "      <td>-0.000053</td>\n",
       "      <td>0.000398</td>\n",
       "      <td>-0.000203</td>\n",
       "      <td>-0.000136</td>\n",
       "      <td>-0.000163</td>\n",
       "      <td>0.000040</td>\n",
       "      <td>0.000116</td>\n",
       "      <td>-0.000005</td>\n",
       "      <td>0.000016</td>\n",
       "      <td>-0.000031</td>\n",
       "    </tr>\n",
       "    <tr>\n",
       "      <th>1</th>\n",
       "      <td>0.115999</td>\n",
       "      <td>0.083582</td>\n",
       "      <td>0.079749</td>\n",
       "      <td>0.070916</td>\n",
       "      <td>0.058944</td>\n",
       "      <td>0.056832</td>\n",
       "      <td>0.058462</td>\n",
       "      <td>0.053653</td>\n",
       "      <td>0.051140</td>\n",
       "      <td>0.048414</td>\n",
       "      <td>...</td>\n",
       "      <td>0.000061</td>\n",
       "      <td>-0.000026</td>\n",
       "      <td>-0.000028</td>\n",
       "      <td>0.000037</td>\n",
       "      <td>0.000102</td>\n",
       "      <td>0.000095</td>\n",
       "      <td>0.000036</td>\n",
       "      <td>-0.000015</td>\n",
       "      <td>-0.000047</td>\n",
       "      <td>-0.000013</td>\n",
       "    </tr>\n",
       "    <tr>\n",
       "      <th>2</th>\n",
       "      <td>0.041990</td>\n",
       "      <td>0.039584</td>\n",
       "      <td>0.028341</td>\n",
       "      <td>0.025473</td>\n",
       "      <td>0.019239</td>\n",
       "      <td>0.017714</td>\n",
       "      <td>0.020639</td>\n",
       "      <td>0.025923</td>\n",
       "      <td>0.028015</td>\n",
       "      <td>0.031259</td>\n",
       "      <td>...</td>\n",
       "      <td>-0.000083</td>\n",
       "      <td>0.000043</td>\n",
       "      <td>-0.000142</td>\n",
       "      <td>0.000199</td>\n",
       "      <td>-0.000121</td>\n",
       "      <td>0.000046</td>\n",
       "      <td>-0.000120</td>\n",
       "      <td>0.000049</td>\n",
       "      <td>-0.000063</td>\n",
       "      <td>0.000053</td>\n",
       "    </tr>\n",
       "    <tr>\n",
       "      <th>3</th>\n",
       "      <td>0.156614</td>\n",
       "      <td>0.172797</td>\n",
       "      <td>0.135143</td>\n",
       "      <td>0.111294</td>\n",
       "      <td>0.095981</td>\n",
       "      <td>0.088002</td>\n",
       "      <td>0.092330</td>\n",
       "      <td>0.111427</td>\n",
       "      <td>0.093202</td>\n",
       "      <td>0.100551</td>\n",
       "      <td>...</td>\n",
       "      <td>0.000172</td>\n",
       "      <td>0.000054</td>\n",
       "      <td>0.000130</td>\n",
       "      <td>0.000067</td>\n",
       "      <td>-0.000039</td>\n",
       "      <td>0.000093</td>\n",
       "      <td>-0.000128</td>\n",
       "      <td>0.000011</td>\n",
       "      <td>-0.000008</td>\n",
       "      <td>-0.000073</td>\n",
       "    </tr>\n",
       "    <tr>\n",
       "      <th>4</th>\n",
       "      <td>0.251794</td>\n",
       "      <td>0.485264</td>\n",
       "      <td>0.325349</td>\n",
       "      <td>0.209234</td>\n",
       "      <td>0.148810</td>\n",
       "      <td>0.192249</td>\n",
       "      <td>0.129964</td>\n",
       "      <td>0.135709</td>\n",
       "      <td>0.085262</td>\n",
       "      <td>0.136532</td>\n",
       "      <td>...</td>\n",
       "      <td>0.000269</td>\n",
       "      <td>0.000210</td>\n",
       "      <td>0.000152</td>\n",
       "      <td>-0.000154</td>\n",
       "      <td>0.000264</td>\n",
       "      <td>-0.000018</td>\n",
       "      <td>-0.000111</td>\n",
       "      <td>0.000152</td>\n",
       "      <td>-0.000153</td>\n",
       "      <td>-0.000124</td>\n",
       "    </tr>\n",
       "  </tbody>\n",
       "</table>\n",
       "<p>5 rows × 114 columns</p>\n",
       "</div>"
      ],
      "text/plain": [
       "          0         1         2         3         4         5         6  \\\n",
       "0  0.296656  0.205606  0.197069  0.168955  0.137761  0.129281  0.111632   \n",
       "1  0.115999  0.083582  0.079749  0.070916  0.058944  0.056832  0.058462   \n",
       "2  0.041990  0.039584  0.028341  0.025473  0.019239  0.017714  0.020639   \n",
       "3  0.156614  0.172797  0.135143  0.111294  0.095981  0.088002  0.092330   \n",
       "4  0.251794  0.485264  0.325349  0.209234  0.148810  0.192249  0.129964   \n",
       "\n",
       "          7         8         9    ...          104       105       106  \\\n",
       "0  0.097124  0.089658  0.092757    ...    -0.000053  0.000398 -0.000203   \n",
       "1  0.053653  0.051140  0.048414    ...     0.000061 -0.000026 -0.000028   \n",
       "2  0.025923  0.028015  0.031259    ...    -0.000083  0.000043 -0.000142   \n",
       "3  0.111427  0.093202  0.100551    ...     0.000172  0.000054  0.000130   \n",
       "4  0.135709  0.085262  0.136532    ...     0.000269  0.000210  0.000152   \n",
       "\n",
       "        107       108       109       110       111       112       113  \n",
       "0 -0.000136 -0.000163  0.000040  0.000116 -0.000005  0.000016 -0.000031  \n",
       "1  0.000037  0.000102  0.000095  0.000036 -0.000015 -0.000047 -0.000013  \n",
       "2  0.000199 -0.000121  0.000046 -0.000120  0.000049 -0.000063  0.000053  \n",
       "3  0.000067 -0.000039  0.000093 -0.000128  0.000011 -0.000008 -0.000073  \n",
       "4 -0.000154  0.000264 -0.000018 -0.000111  0.000152 -0.000153 -0.000124  \n",
       "\n",
       "[5 rows x 114 columns]"
      ]
     },
     "execution_count": 13,
     "metadata": {},
     "output_type": "execute_result"
    }
   ],
   "source": [
    "X.head()"
   ]
  },
  {
   "cell_type": "code",
   "execution_count": 14,
   "metadata": {},
   "outputs": [
    {
     "data": {
      "text/html": [
       "<div>\n",
       "<style scoped>\n",
       "    .dataframe tbody tr th:only-of-type {\n",
       "        vertical-align: middle;\n",
       "    }\n",
       "\n",
       "    .dataframe tbody tr th {\n",
       "        vertical-align: top;\n",
       "    }\n",
       "\n",
       "    .dataframe thead th {\n",
       "        text-align: right;\n",
       "    }\n",
       "</style>\n",
       "<table border=\"1\" class=\"dataframe\">\n",
       "  <thead>\n",
       "    <tr style=\"text-align: right;\">\n",
       "      <th></th>\n",
       "      <th>0</th>\n",
       "      <th>1</th>\n",
       "      <th>2</th>\n",
       "      <th>3</th>\n",
       "      <th>4</th>\n",
       "      <th>5</th>\n",
       "      <th>6</th>\n",
       "      <th>7</th>\n",
       "      <th>8</th>\n",
       "      <th>9</th>\n",
       "      <th>...</th>\n",
       "      <th>104</th>\n",
       "      <th>105</th>\n",
       "      <th>106</th>\n",
       "      <th>107</th>\n",
       "      <th>108</th>\n",
       "      <th>109</th>\n",
       "      <th>110</th>\n",
       "      <th>111</th>\n",
       "      <th>112</th>\n",
       "      <th>113</th>\n",
       "    </tr>\n",
       "  </thead>\n",
       "  <tbody>\n",
       "    <tr>\n",
       "      <th>0</th>\n",
       "      <td>0.014127</td>\n",
       "      <td>0.009611</td>\n",
       "      <td>0.013584</td>\n",
       "      <td>0.013321</td>\n",
       "      <td>0.012077</td>\n",
       "      <td>0.012033</td>\n",
       "      <td>0.011180</td>\n",
       "      <td>0.009676</td>\n",
       "      <td>0.009670</td>\n",
       "      <td>0.010148</td>\n",
       "      <td>...</td>\n",
       "      <td>-0.001265</td>\n",
       "      <td>0.009334</td>\n",
       "      <td>-0.004493</td>\n",
       "      <td>-0.003244</td>\n",
       "      <td>-0.003752</td>\n",
       "      <td>0.000953</td>\n",
       "      <td>0.002646</td>\n",
       "      <td>-0.000131</td>\n",
       "      <td>0.000376</td>\n",
       "      <td>-0.000806</td>\n",
       "    </tr>\n",
       "    <tr>\n",
       "      <th>1</th>\n",
       "      <td>0.005524</td>\n",
       "      <td>0.003907</td>\n",
       "      <td>0.005497</td>\n",
       "      <td>0.005591</td>\n",
       "      <td>0.005167</td>\n",
       "      <td>0.005290</td>\n",
       "      <td>0.005855</td>\n",
       "      <td>0.005345</td>\n",
       "      <td>0.005516</td>\n",
       "      <td>0.005296</td>\n",
       "      <td>...</td>\n",
       "      <td>0.001472</td>\n",
       "      <td>-0.000619</td>\n",
       "      <td>-0.000617</td>\n",
       "      <td>0.000892</td>\n",
       "      <td>0.002351</td>\n",
       "      <td>0.002282</td>\n",
       "      <td>0.000829</td>\n",
       "      <td>-0.000366</td>\n",
       "      <td>-0.001103</td>\n",
       "      <td>-0.000332</td>\n",
       "    </tr>\n",
       "    <tr>\n",
       "      <th>2</th>\n",
       "      <td>0.002000</td>\n",
       "      <td>0.001850</td>\n",
       "      <td>0.001954</td>\n",
       "      <td>0.002008</td>\n",
       "      <td>0.001687</td>\n",
       "      <td>0.001649</td>\n",
       "      <td>0.002067</td>\n",
       "      <td>0.002583</td>\n",
       "      <td>0.003022</td>\n",
       "      <td>0.003420</td>\n",
       "      <td>...</td>\n",
       "      <td>-0.001993</td>\n",
       "      <td>0.001013</td>\n",
       "      <td>-0.003138</td>\n",
       "      <td>0.004729</td>\n",
       "      <td>-0.002786</td>\n",
       "      <td>0.001108</td>\n",
       "      <td>-0.002747</td>\n",
       "      <td>0.001205</td>\n",
       "      <td>-0.001492</td>\n",
       "      <td>0.001377</td>\n",
       "    </tr>\n",
       "    <tr>\n",
       "      <th>3</th>\n",
       "      <td>0.007458</td>\n",
       "      <td>0.008077</td>\n",
       "      <td>0.009315</td>\n",
       "      <td>0.008775</td>\n",
       "      <td>0.008414</td>\n",
       "      <td>0.008191</td>\n",
       "      <td>0.009247</td>\n",
       "      <td>0.011101</td>\n",
       "      <td>0.010053</td>\n",
       "      <td>0.011000</td>\n",
       "      <td>...</td>\n",
       "      <td>0.004121</td>\n",
       "      <td>0.001268</td>\n",
       "      <td>0.002885</td>\n",
       "      <td>0.001597</td>\n",
       "      <td>-0.000899</td>\n",
       "      <td>0.002234</td>\n",
       "      <td>-0.002932</td>\n",
       "      <td>0.000268</td>\n",
       "      <td>-0.000187</td>\n",
       "      <td>-0.001898</td>\n",
       "    </tr>\n",
       "    <tr>\n",
       "      <th>4</th>\n",
       "      <td>0.011991</td>\n",
       "      <td>0.022682</td>\n",
       "      <td>0.022426</td>\n",
       "      <td>0.016497</td>\n",
       "      <td>0.013045</td>\n",
       "      <td>0.017894</td>\n",
       "      <td>0.013016</td>\n",
       "      <td>0.013521</td>\n",
       "      <td>0.009196</td>\n",
       "      <td>0.014936</td>\n",
       "      <td>...</td>\n",
       "      <td>0.006440</td>\n",
       "      <td>0.004934</td>\n",
       "      <td>0.003364</td>\n",
       "      <td>-0.003661</td>\n",
       "      <td>0.006090</td>\n",
       "      <td>-0.000441</td>\n",
       "      <td>-0.002535</td>\n",
       "      <td>0.003750</td>\n",
       "      <td>-0.003619</td>\n",
       "      <td>-0.003243</td>\n",
       "    </tr>\n",
       "  </tbody>\n",
       "</table>\n",
       "<p>5 rows × 114 columns</p>\n",
       "</div>"
      ],
      "text/plain": [
       "        0         1         2         3         4         5         6    \\\n",
       "0  0.014127  0.009611  0.013584  0.013321  0.012077  0.012033  0.011180   \n",
       "1  0.005524  0.003907  0.005497  0.005591  0.005167  0.005290  0.005855   \n",
       "2  0.002000  0.001850  0.001954  0.002008  0.001687  0.001649  0.002067   \n",
       "3  0.007458  0.008077  0.009315  0.008775  0.008414  0.008191  0.009247   \n",
       "4  0.011991  0.022682  0.022426  0.016497  0.013045  0.017894  0.013016   \n",
       "\n",
       "        7         8         9      ...          104       105       106  \\\n",
       "0  0.009676  0.009670  0.010148    ...    -0.001265  0.009334 -0.004493   \n",
       "1  0.005345  0.005516  0.005296    ...     0.001472 -0.000619 -0.000617   \n",
       "2  0.002583  0.003022  0.003420    ...    -0.001993  0.001013 -0.003138   \n",
       "3  0.011101  0.010053  0.011000    ...     0.004121  0.001268  0.002885   \n",
       "4  0.013521  0.009196  0.014936    ...     0.006440  0.004934  0.003364   \n",
       "\n",
       "        107       108       109       110       111       112       113  \n",
       "0 -0.003244 -0.003752  0.000953  0.002646 -0.000131  0.000376 -0.000806  \n",
       "1  0.000892  0.002351  0.002282  0.000829 -0.000366 -0.001103 -0.000332  \n",
       "2  0.004729 -0.002786  0.001108 -0.002747  0.001205 -0.001492  0.001377  \n",
       "3  0.001597 -0.000899  0.002234 -0.002932  0.000268 -0.000187 -0.001898  \n",
       "4 -0.003661  0.006090 -0.000441 -0.002535  0.003750 -0.003619 -0.003243  \n",
       "\n",
       "[5 rows x 114 columns]"
      ]
     },
     "execution_count": 14,
     "metadata": {},
     "output_type": "execute_result"
    }
   ],
   "source": [
    "X_norm = pd.DataFrame(normalize(X, axis=0))\n",
    "X_norm.head()"
   ]
  },
  {
   "cell_type": "markdown",
   "metadata": {},
   "source": [
    "# PCA"
   ]
  },
  {
   "cell_type": "code",
   "execution_count": 15,
   "metadata": {},
   "outputs": [],
   "source": [
    "from sklearn.decomposition import PCA\n",
    "pca = PCA(n_components=2).fit(X_norm)"
   ]
  },
  {
   "cell_type": "code",
   "execution_count": 16,
   "metadata": {},
   "outputs": [],
   "source": [
    "pca_2d = pca.transform(X_norm)"
   ]
  },
  {
   "cell_type": "code",
   "execution_count": 17,
   "metadata": {},
   "outputs": [
    {
     "data": {
      "text/plain": [
       "<matplotlib.collections.PathCollection at 0x7f391e734a58>"
      ]
     },
     "execution_count": 17,
     "metadata": {},
     "output_type": "execute_result"
    },
    {
     "data": {
      "image/png": "[encoded data removed]",
      "text/plain": [
       "<Figure size 432x288 with 1 Axes>"
      ]
     },
     "metadata": {
      "needs_background": "light"
     },
     "output_type": "display_data"
    }
   ],
   "source": [
    "pl.figure('reference plot')\n",
    "pl.scatter(pca_2d[:,0], pca_2d[:,1], c=y_h)"
   ]
  },
  {
   "cell_type": "code",
   "execution_count": 18,
   "metadata": {},
   "outputs": [
    {
     "data": {
      "text/plain": [
       "<matplotlib.collections.PathCollection at 0x7f391e732588>"
      ]
     },
     "execution_count": 18,
     "metadata": {},
     "output_type": "execute_result"
    },
    {
     "data": {
      "image/png": "[encoded data removed]",
      "text/plain": [
       "<Figure size 432x288 with 1 Axes>"
      ]
     },
     "metadata": {
      "needs_background": "light"
     },
     "output_type": "display_data"
    }
   ],
   "source": [
    "pl.figure('reference plot')\n",
    "pl.scatter(pca_2d[:,0], pca_2d[:,1], c=y_l)"
   ]
  },
  {
   "cell_type": "markdown",
   "metadata": {},
   "source": [
    "# ICA"
   ]
  },
  {
   "cell_type": "code",
   "execution_count": 19,
   "metadata": {},
   "outputs": [],
   "source": [
    "from sklearn.decomposition import FastICA as ICA\n",
    "ica = ICA(n_components=2).fit(X_norm)"
   ]
  },
  {
   "cell_type": "code",
   "execution_count": 20,
   "metadata": {},
   "outputs": [],
   "source": [
    "ica_2d = ica.transform(X_norm)"
   ]
  },
  {
   "cell_type": "code",
   "execution_count": 21,
   "metadata": {},
   "outputs": [
    {
     "data": {
      "text/plain": [
       "<matplotlib.collections.PathCollection at 0x7f391eaa87f0>"
      ]
     },
     "execution_count": 21,
     "metadata": {},
     "output_type": "execute_result"
    },
    {
     "data": {
      "image/png": "[encoded data removed]",
      "text/plain": [
       "<Figure size 432x288 with 1 Axes>"
      ]
     },
     "metadata": {
      "needs_background": "light"
     },
     "output_type": "display_data"
    }
   ],
   "source": [
    "pl.figure('reference plot')\n",
    "pl.scatter(ica_2d[:,0], ica_2d[:,1], c=y_h)"
   ]
  },
  {
   "cell_type": "code",
   "execution_count": 22,
   "metadata": {},
   "outputs": [
    {
     "data": {
      "text/plain": [
       "<matplotlib.collections.PathCollection at 0x7f391ea68860>"
      ]
     },
     "execution_count": 22,
     "metadata": {},
     "output_type": "execute_result"
    },
    {
     "data": {
      "image/png": "[encoded data removed]",
      "text/plain": [
       "<Figure size 432x288 with 1 Axes>"
      ]
     },
     "metadata": {
      "needs_background": "light"
     },
     "output_type": "display_data"
    }
   ],
   "source": [
    "pl.figure('reference plot')\n",
    "pl.scatter(ica_2d[:,0], ica_2d[:,1], c=y_l)"
   ]
  },
  {
   "cell_type": "markdown",
   "metadata": {},
   "source": [
    "# SVD"
   ]
  },
  {
   "cell_type": "code",
   "execution_count": 23,
   "metadata": {},
   "outputs": [],
   "source": [
    "from sklearn.decomposition import TruncatedSVD as SVD\n",
    "svd = SVD(n_components=2).fit(X_norm)"
   ]
  },
  {
   "cell_type": "code",
   "execution_count": 24,
   "metadata": {},
   "outputs": [],
   "source": [
    "svd_2d = svd.transform(X_norm)"
   ]
  },
  {
   "cell_type": "code",
   "execution_count": 25,
   "metadata": {},
   "outputs": [
    {
     "data": {
      "text/plain": [
       "<matplotlib.collections.PathCollection at 0x7f391ea294a8>"
      ]
     },
     "execution_count": 25,
     "metadata": {},
     "output_type": "execute_result"
    },
    {
     "data": {
      "image/png": "[encoded data removed]",
      "text/plain": [
       "<Figure size 432x288 with 1 Axes>"
      ]
     },
     "metadata": {
      "needs_background": "light"
     },
     "output_type": "display_data"
    }
   ],
   "source": [
    "pl.figure('reference plot')\n",
    "pl.scatter(svd_2d[:,0], svd_2d[:,1], c=y_h)"
   ]
  },
  {
   "cell_type": "code",
   "execution_count": 26,
   "metadata": {},
   "outputs": [
    {
     "data": {
      "text/plain": [
       "<matplotlib.collections.PathCollection at 0x7f391e9e93c8>"
      ]
     },
     "execution_count": 26,
     "metadata": {},
     "output_type": "execute_result"
    },
    {
     "data": {
      "image/png": "[encoded data removed]",
      "text/plain": [
       "<Figure size 432x288 with 1 Axes>"
      ]
     },
     "metadata": {
      "needs_background": "light"
     },
     "output_type": "display_data"
    }
   ],
   "source": [
    "pl.figure('reference plot')\n",
    "pl.scatter(svd_2d[:,0], svd_2d[:,1], c=y_l)"
   ]
  },
  {
   "cell_type": "markdown",
   "metadata": {},
   "source": [
    "# LDA"
   ]
  },
  {
   "cell_type": "code",
   "execution_count": 27,
   "metadata": {},
   "outputs": [
    {
     "data": {
      "text/html": [
       "<div>\n",
       "<style scoped>\n",
       "    .dataframe tbody tr th:only-of-type {\n",
       "        vertical-align: middle;\n",
       "    }\n",
       "\n",
       "    .dataframe tbody tr th {\n",
       "        vertical-align: top;\n",
       "    }\n",
       "\n",
       "    .dataframe thead th {\n",
       "        text-align: right;\n",
       "    }\n",
       "</style>\n",
       "<table border=\"1\" class=\"dataframe\">\n",
       "  <thead>\n",
       "    <tr style=\"text-align: right;\">\n",
       "      <th></th>\n",
       "      <th>0</th>\n",
       "      <th>1</th>\n",
       "      <th>2</th>\n",
       "      <th>3</th>\n",
       "      <th>4</th>\n",
       "      <th>5</th>\n",
       "      <th>6</th>\n",
       "      <th>7</th>\n",
       "      <th>8</th>\n",
       "      <th>9</th>\n",
       "      <th>...</th>\n",
       "      <th>104</th>\n",
       "      <th>105</th>\n",
       "      <th>106</th>\n",
       "      <th>107</th>\n",
       "      <th>108</th>\n",
       "      <th>109</th>\n",
       "      <th>110</th>\n",
       "      <th>111</th>\n",
       "      <th>112</th>\n",
       "      <th>113</th>\n",
       "    </tr>\n",
       "  </thead>\n",
       "  <tbody>\n",
       "    <tr>\n",
       "      <th>0</th>\n",
       "      <td>0.379054</td>\n",
       "      <td>0.244990</td>\n",
       "      <td>0.351057</td>\n",
       "      <td>0.349170</td>\n",
       "      <td>0.300508</td>\n",
       "      <td>0.284336</td>\n",
       "      <td>0.227642</td>\n",
       "      <td>0.228702</td>\n",
       "      <td>0.237659</td>\n",
       "      <td>0.227696</td>\n",
       "      <td>...</td>\n",
       "      <td>0.131258</td>\n",
       "      <td>0.259914</td>\n",
       "      <td>0.359809</td>\n",
       "      <td>0.158479</td>\n",
       "      <td>0.155499</td>\n",
       "      <td>0.231870</td>\n",
       "      <td>0.350377</td>\n",
       "      <td>0.147400</td>\n",
       "      <td>0.115157</td>\n",
       "      <td>0.172651</td>\n",
       "    </tr>\n",
       "    <tr>\n",
       "      <th>1</th>\n",
       "      <td>0.148218</td>\n",
       "      <td>0.099592</td>\n",
       "      <td>0.142064</td>\n",
       "      <td>0.146558</td>\n",
       "      <td>0.128578</td>\n",
       "      <td>0.124994</td>\n",
       "      <td>0.119217</td>\n",
       "      <td>0.126338</td>\n",
       "      <td>0.135558</td>\n",
       "      <td>0.118845</td>\n",
       "      <td>...</td>\n",
       "      <td>0.134503</td>\n",
       "      <td>0.249484</td>\n",
       "      <td>0.363463</td>\n",
       "      <td>0.163255</td>\n",
       "      <td>0.162791</td>\n",
       "      <td>0.233266</td>\n",
       "      <td>0.348675</td>\n",
       "      <td>0.147134</td>\n",
       "      <td>0.113341</td>\n",
       "      <td>0.173143</td>\n",
       "    </tr>\n",
       "    <tr>\n",
       "      <th>2</th>\n",
       "      <td>0.053654</td>\n",
       "      <td>0.047166</td>\n",
       "      <td>0.050487</td>\n",
       "      <td>0.052643</td>\n",
       "      <td>0.041967</td>\n",
       "      <td>0.038960</td>\n",
       "      <td>0.042088</td>\n",
       "      <td>0.061042</td>\n",
       "      <td>0.074261</td>\n",
       "      <td>0.076734</td>\n",
       "      <td>...</td>\n",
       "      <td>0.130395</td>\n",
       "      <td>0.251194</td>\n",
       "      <td>0.361087</td>\n",
       "      <td>0.167687</td>\n",
       "      <td>0.156654</td>\n",
       "      <td>0.232032</td>\n",
       "      <td>0.345327</td>\n",
       "      <td>0.148918</td>\n",
       "      <td>0.112863</td>\n",
       "      <td>0.174921</td>\n",
       "    </tr>\n",
       "    <tr>\n",
       "      <th>3</th>\n",
       "      <td>0.200114</td>\n",
       "      <td>0.205896</td>\n",
       "      <td>0.240741</td>\n",
       "      <td>0.230005</td>\n",
       "      <td>0.209371</td>\n",
       "      <td>0.193549</td>\n",
       "      <td>0.188280</td>\n",
       "      <td>0.262381</td>\n",
       "      <td>0.247054</td>\n",
       "      <td>0.246827</td>\n",
       "      <td>...</td>\n",
       "      <td>0.137645</td>\n",
       "      <td>0.251461</td>\n",
       "      <td>0.366766</td>\n",
       "      <td>0.164069</td>\n",
       "      <td>0.158908</td>\n",
       "      <td>0.233215</td>\n",
       "      <td>0.345153</td>\n",
       "      <td>0.147854</td>\n",
       "      <td>0.114465</td>\n",
       "      <td>0.171517</td>\n",
       "    </tr>\n",
       "    <tr>\n",
       "      <th>4</th>\n",
       "      <td>0.321731</td>\n",
       "      <td>0.578216</td>\n",
       "      <td>0.579573</td>\n",
       "      <td>0.432413</td>\n",
       "      <td>0.324612</td>\n",
       "      <td>0.422826</td>\n",
       "      <td>0.265023</td>\n",
       "      <td>0.319557</td>\n",
       "      <td>0.226007</td>\n",
       "      <td>0.335153</td>\n",
       "      <td>...</td>\n",
       "      <td>0.140395</td>\n",
       "      <td>0.255303</td>\n",
       "      <td>0.367218</td>\n",
       "      <td>0.157998</td>\n",
       "      <td>0.167258</td>\n",
       "      <td>0.230406</td>\n",
       "      <td>0.345525</td>\n",
       "      <td>0.151810</td>\n",
       "      <td>0.110251</td>\n",
       "      <td>0.170118</td>\n",
       "    </tr>\n",
       "  </tbody>\n",
       "</table>\n",
       "<p>5 rows × 114 columns</p>\n",
       "</div>"
      ],
      "text/plain": [
       "        0         1         2         3         4         5         6    \\\n",
       "0  0.379054  0.244990  0.351057  0.349170  0.300508  0.284336  0.227642   \n",
       "1  0.148218  0.099592  0.142064  0.146558  0.128578  0.124994  0.119217   \n",
       "2  0.053654  0.047166  0.050487  0.052643  0.041967  0.038960  0.042088   \n",
       "3  0.200114  0.205896  0.240741  0.230005  0.209371  0.193549  0.188280   \n",
       "4  0.321731  0.578216  0.579573  0.432413  0.324612  0.422826  0.265023   \n",
       "\n",
       "        7         8         9      ...          104       105       106  \\\n",
       "0  0.228702  0.237659  0.227696    ...     0.131258  0.259914  0.359809   \n",
       "1  0.126338  0.135558  0.118845    ...     0.134503  0.249484  0.363463   \n",
       "2  0.061042  0.074261  0.076734    ...     0.130395  0.251194  0.361087   \n",
       "3  0.262381  0.247054  0.246827    ...     0.137645  0.251461  0.366766   \n",
       "4  0.319557  0.226007  0.335153    ...     0.140395  0.255303  0.367218   \n",
       "\n",
       "        107       108       109       110       111       112       113  \n",
       "0  0.158479  0.155499  0.231870  0.350377  0.147400  0.115157  0.172651  \n",
       "1  0.163255  0.162791  0.233266  0.348675  0.147134  0.113341  0.173143  \n",
       "2  0.167687  0.156654  0.232032  0.345327  0.148918  0.112863  0.174921  \n",
       "3  0.164069  0.158908  0.233215  0.345153  0.147854  0.114465  0.171517  \n",
       "4  0.157998  0.167258  0.230406  0.345525  0.151810  0.110251  0.170118  \n",
       "\n",
       "[5 rows x 114 columns]"
      ]
     },
     "execution_count": 27,
     "metadata": {},
     "output_type": "execute_result"
    }
   ],
   "source": [
    "from sklearn.decomposition import LatentDirichletAllocation as LDA\n",
    "from sklearn.preprocessing import minmax_scale\n",
    "X_scale = pd.DataFrame(minmax_scale(X_norm))\n",
    "X_scale.head()"
   ]
  },
  {
   "cell_type": "code",
   "execution_count": 28,
   "metadata": {},
   "outputs": [],
   "source": [
    "lda = LDA(n_components=2).fit(X_scale)"
   ]
  },
  {
   "cell_type": "code",
   "execution_count": 29,
   "metadata": {},
   "outputs": [],
   "source": [
    "lda_2d = lda.transform(X_scale)"
   ]
  },
  {
   "cell_type": "code",
   "execution_count": 30,
   "metadata": {},
   "outputs": [
    {
     "data": {
      "text/plain": [
       "<matplotlib.collections.PathCollection at 0x7f391e9a8c18>"
      ]
     },
     "execution_count": 30,
     "metadata": {},
     "output_type": "execute_result"
    },
    {
     "data": {
      "image/png": "[encoded data removed]",
      "text/plain": [
       "<Figure size 432x288 with 1 Axes>"
      ]
     },
     "metadata": {
      "needs_background": "light"
     },
     "output_type": "display_data"
    }
   ],
   "source": [
    "pl.figure('reference plot')\n",
    "pl.scatter(lda_2d[:,0], svd_2d[:,1], c=y_h)"
   ]
  },
  {
   "cell_type": "code",
   "execution_count": 31,
   "metadata": {},
   "outputs": [
    {
     "data": {
      "text/plain": [
       "<matplotlib.collections.PathCollection at 0x7f391e96dd30>"
      ]
     },
     "execution_count": 31,
     "metadata": {},
     "output_type": "execute_result"
    },
    {
     "data": {
      "image/png": "[encoded data removed]",
      "text/plain": [
       "<Figure size 432x288 with 1 Axes>"
      ]
     },
     "metadata": {
      "needs_background": "light"
     },
     "output_type": "display_data"
    }
   ],
   "source": [
    "pl.figure('reference plot')\n",
    "pl.scatter(lda_2d[:,0], svd_2d[:,1], c=y_l)"
   ]
  },
  {
   "cell_type": "code",
   "execution_count": null,
   "metadata": {},
   "outputs": [],
   "source": []
  }
 ],
 "metadata": {
  "kernelspec": {
   "display_name": "Python 3",
   "language": "python",
   "name": "python3"
  },
  "language_info": {
   "codemirror_mode": {
    "name": "ipython",
    "version": 3
   },
   "file_extension": ".py",
   "mimetype": "text/x-python",
   "name": "python",
   "nbconvert_exporter": "python",
   "pygments_lexer": "ipython3",
   "version": "3.5.2"
  }
 },
 "nbformat": 4,
 "nbformat_minor": 2
}
