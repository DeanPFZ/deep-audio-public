{
 "cells": [
  {
   "cell_type": "code",
   "execution_count": 1,
   "metadata": {},
   "outputs": [
    {
     "name": "stderr",
     "output_type": "stream",
     "text": [
      "Using TensorFlow backend.\n"
     ]
    }
   ],
   "source": [
    "import pandas as pd\n",
    "from sklearn import metrics\n",
    "from keras.wrappers.scikit_learn import KerasClassifier\n",
    "from classification_plots import plot_confusion_matrix\n",
    "import matplotlib.pyplot as plt\n",
    "import os\n",
    "import mdn\n",
    "import tensorflow as tf"
   ]
  },
  {
   "cell_type": "code",
   "execution_count": 2,
   "metadata": {},
   "outputs": [],
   "source": [
    "# Able to specify which GPU to use\n",
    "os.environ[\"CUDA_VISIBLE_DEVICES\"]=\"1\"\n",
    "\n",
    "SR = 44100\n",
    "blocksize = 44100\n",
    "overlap = 2756"
   ]
  },
  {
   "cell_type": "code",
   "execution_count": 3,
   "metadata": {},
   "outputs": [],
   "source": [
    "import warnings\n",
    "warnings.filterwarnings('ignore')"
   ]
  },
  {
   "cell_type": "markdown",
   "metadata": {},
   "source": [
    "# Setup"
   ]
  },
  {
   "cell_type": "code",
   "execution_count": 4,
   "metadata": {},
   "outputs": [],
   "source": [
    "audio_dir = '../ESC-50/audio/'"
   ]
  },
  {
   "cell_type": "code",
   "execution_count": 5,
   "metadata": {},
   "outputs": [],
   "source": [
    "path_to_db='../ESC-50/'"
   ]
  },
  {
   "cell_type": "markdown",
   "metadata": {},
   "source": [
    "# Load Dataset\n",
    "Here we load the csv that describes each file in the dataset. We add a high level category that is defined in the ESC-50 documentation. This we realize is anthetical to true training, it is a stopgap for when we use NLP to classify tags into these categories."
   ]
  },
  {
   "cell_type": "code",
   "execution_count": 6,
   "metadata": {},
   "outputs": [],
   "source": [
    "dataset = pd.read_csv(path_to_db + 'meta/esc50.csv')\n",
    "classes = [None] * 50\n",
    "h_classes = ['Human & Animal', 'Interacting Materials']"
   ]
  },
  {
   "cell_type": "code",
   "execution_count": 7,
   "metadata": {},
   "outputs": [],
   "source": [
    "mapping = {\n",
    "    'dog': 0,\n",
    "    'rooster': 0,\n",
    "    'pig': 0,\n",
    "    'cow': 0,\n",
    "    'frog': 0,\n",
    "    'cat': 0,\n",
    "    'hen': 0,\n",
    "    'insects': 0,\n",
    "    'sheep': 0,\n",
    "    'crow': 0,\n",
    "    'rain': 1,\n",
    "    'sea_waves': 1,\n",
    "    'crackling_fire': 1,\n",
    "    'crickets': 0,\n",
    "    'chirping_birds': 0,\n",
    "    'water_drops': 1,\n",
    "    'wind': 1,\n",
    "    'pouring_water': 1,\n",
    "    'toilet_flush': 1,\n",
    "    'thunderstorm': 1,\n",
    "    'crying_baby': 0,\n",
    "    'sneezing': 0,\n",
    "    'clapping': 0,\n",
    "    'breathing': 0,\n",
    "    'coughing': 0,\n",
    "    'footsteps': 1,\n",
    "    'laughing': 0,\n",
    "    'brushing_teeth': 1,\n",
    "    'snoring': 0,\n",
    "    'drinking_sipping': 1,\n",
    "    'door_wood_knock': 1,\n",
    "    'mouse_click': 1,\n",
    "    'keyboard_typing': 1,\n",
    "    'door_wood_creaks': 1,\n",
    "    'can_opening': 1,\n",
    "    'washing_machine': 1,\n",
    "    'vacuum_cleaner': 1,\n",
    "    'clock_alarm': 1,\n",
    "    'clock_tick': 1,\n",
    "    'glass_breaking':1 ,\n",
    "    'helicopter': 1,\n",
    "    'chainsaw': 1,\n",
    "    'siren': 1,\n",
    "    'car_horn': 1,\n",
    "    'engine': 1,\n",
    "    'train': 1,\n",
    "    'church_bells': 1,\n",
    "    'airplane': 1,\n",
    "    'fireworks': 1,\n",
    "    'hand_saw': 1,\n",
    "}"
   ]
  },
  {
   "cell_type": "code",
   "execution_count": 8,
   "metadata": {},
   "outputs": [],
   "source": [
    "dataset['h_category'] = None\n",
    "for index, row in dataset.iterrows():\n",
    "    target = row['target']\n",
    "    classes[target] = row['category']\n",
    "    dataset.loc[index, 'h_category'] = mapping[row['category']]"
   ]
  },
  {
   "cell_type": "code",
   "execution_count": 9,
   "metadata": {},
   "outputs": [],
   "source": [
    "import time\n",
    "import librosa\n",
    "import numpy as np\n",
    "import soundfile as sf\n",
    "\n",
    "def load_fold_audio(fld, data, debug=False):\n",
    "    start_time = time.time()\n",
    "    f_df = data[data['fold'] == fld]\n",
    "    items = []\n",
    "    target = []\n",
    "    for i, sample in f_df.iterrows():\n",
    "        if debug: print(\"File Processing\", end=\"\", flush=True)\n",
    "        y, sr = librosa.load(audio_dir + sample['filename'], sr=SR, mono=True)\n",
    "        len_second = 5.0\n",
    "        if debug: print(\".\", end=\"\", flush=True)\n",
    "        y = y[:int(sr*len_second)]\n",
    "        y = y[np.newaxis, :]\n",
    "        if debug: print(\".\", end=\"\", flush=True)\n",
    "        items.append(y)\n",
    "        target.append(sample.target)\n",
    "        if debug: print(\"Done\")\n",
    "\n",
    "    print(\"\\tProcessing Time: \" + str(time.time() - start_time))\n",
    "    return np.array(items), np.array(target)\n",
    "\n",
    "def load_all_audio(data):\n",
    "    start_time = time.time()\n",
    "    items = []\n",
    "    target = []\n",
    "    for i, sample in data.iterrows():\n",
    "        y, sr = librosa.load(audio_dir + sample['filename'], sr=SR, mono=True)\n",
    "        len_second = 5.0\n",
    "        y = y[:int(sr*len_second)]\n",
    "        y = y[np.newaxis, :]\n",
    "        items.append(y)\n",
    "        target.append(sample.target)\n",
    "    print(\"\\tProcessing Time: \" + str(time.time() - start_time))\n",
    "    return np.array(items), np.array(target)\n",
    "\n",
    "def load_fold_audio_blockwise(fld, data, blocksize=1024, overlap=512, debug=False):\n",
    "    start_time = time.time()\n",
    "    f_df = data[data['fold'] == fld]\n",
    "    items = []\n",
    "    target = []\n",
    "    for i, sample in f_df.iterrows():\n",
    "        if debug:\n",
    "            print(\"File Processing\", end=\"\", flush=True)\n",
    "        blockgen = sf.blocks(audio_dir + sample['filename'], \n",
    "                             blocksize=blocksize, \n",
    "                             overlap=overlap, \n",
    "                             always_2d=True, \n",
    "                             fill_value=0.0)\n",
    "        SR = sf.info(audio_dir + sample['filename']).samplerate\n",
    "        for bl in blockgen:\n",
    "            if not np.any(bl):\n",
    "                continue\n",
    "            if debug:\n",
    "                print(\".\", end=\"\", flush=True)\n",
    "            y = bl.transpose()\n",
    "            y = y[:int(blocksize)]\n",
    "            y = y[np.newaxis, :]\n",
    "            items.append(y)\n",
    "            target.append(sample.h_category)\n",
    "        if debug:\n",
    "            print(\"Done\")\n",
    "\n",
    "    print(\"\\tProcessing Time: \" + str(time.time() - start_time))\n",
    "    return np.vstack(items), np.array(target)\n",
    "\n",
    "def load_audio_blockwise(data, blocksize=1024, overlap=512, debug=False):\n",
    "    start_time = time.time()\n",
    "    items = []\n",
    "    target = []\n",
    "    for i, sample in data.iterrows():\n",
    "        if debug:\n",
    "            print(\"File Processing\", end=\"\", flush=True)\n",
    "        blockgen = sf.blocks(audio_dir + sample['filename'], \n",
    "                             blocksize=blocksize, \n",
    "                             overlap=overlap, \n",
    "                             always_2d=True, \n",
    "                             fill_value=0.0)\n",
    "        sr = sf.info(audio_dir + sample['filename']).samplerate\n",
    "        for bl in blockgen:\n",
    "            if not np.any(bl):\n",
    "                continue\n",
    "            if debug:\n",
    "                print(\".\", end=\"\", flush=True)\n",
    "            y = bl.transpose()\n",
    "            y = y[:int(blocksize)]\n",
    "            y = y[np.newaxis, :]\n",
    "            items.append(y)\n",
    "            target.append(sample.h_category)\n",
    "        if debug:\n",
    "            print(\"Done\")\n",
    "    print(\"\\tProcessing Time: \" + str(time.time() - start_time))\n",
    "    return np.vstack(items), np.array(target)"
   ]
  },
  {
   "cell_type": "code",
   "execution_count": 10,
   "metadata": {
    "scrolled": true
   },
   "outputs": [
    {
     "name": "stdout",
     "output_type": "stream",
     "text": [
      "\tProcessing Time: 2.5535762310028076\n",
      "(2166, 1, 44100)\n"
     ]
    }
   ],
   "source": [
    "c_data, targets = load_fold_audio_blockwise(1, dataset, blocksize, overlap)\n",
    "# c_data, targets = load_fold_audio(1, dataset)\n",
    "print(c_data.shape)"
   ]
  },
  {
   "cell_type": "markdown",
   "metadata": {},
   "source": [
    "# MFCC Visualizer"
   ]
  },
  {
   "cell_type": "code",
   "execution_count": 11,
   "metadata": {},
   "outputs": [],
   "source": [
    "%matplotlib inline\n",
    "import matplotlib.pyplot as plt\n",
    "plt.style.use('ggplot')\n",
    "import keras\n",
    "import kapre\n",
    "from datetime import datetime\n",
    "now = datetime.now()\n",
    "import librosa\n",
    "from librosa import display\n",
    "\n",
    "def check_model(model):\n",
    "    model.summary(line_length=80, positions=[.33, .65, .8, 1.])\n",
    "\n",
    "    batch_input_shape = (2,) + model.input_shape[1:]\n",
    "    batch_output_shape = (2,) + model.output_shape[1:]\n",
    "    model.compile('sgd', 'mse')\n",
    "    model.fit(np.random.uniform(size=batch_input_shape), np.random.uniform(size=batch_output_shape), epochs=1)\n",
    "\n",
    "def visualise_model(model, src, logam=False):\n",
    "    n_ch, nsp_src = model.input_shape[1:]\n",
    "    print(src.shape)\n",
    "    src = src[:nsp_src]\n",
    "    src_batch = src[np.newaxis, :]\n",
    "    pred = model.predict(x=src_batch)\n",
    "    if keras.backend.image_data_format == 'channels_first':\n",
    "        result = pred[0, 0]\n",
    "    else:\n",
    "        result = pred[0, :, :, 0]\n",
    "    display.specshow(result, y_axis='linear', sr=SR)\n",
    "    plt.show()\n",
    "    \n",
    "def evaluate_model(model, c_data):\n",
    "    pred = model.predict(x=c_data)\n",
    "    if keras.backend.image_data_format == 'channels_first':\n",
    "        result = pred[0, 0]\n",
    "    else:\n",
    "        result = pred[:, :, :, 0]\n",
    "    result = np.swapaxes(result, 1, 2)\n",
    "    print(result.shape)\n",
    "    return result"
   ]
  },
  {
   "cell_type": "code",
   "execution_count": 12,
   "metadata": {
    "scrolled": true
   },
   "outputs": [
    {
     "name": "stdout",
     "output_type": "stream",
     "text": [
      "WARNING:tensorflow:From /usr/local/lib/python3.5/dist-packages/tensorflow/python/framework/op_def_library.py:263: colocate_with (from tensorflow.python.framework.ops) is deprecated and will be removed in a future version.\n",
      "Instructions for updating:\n",
      "Colocations handled automatically by placer.\n",
      "________________________________________________________________________________\n",
      "Layer (type)              Output Shape              Param #     \n",
      "================================================================================\n",
      "static_stft (Spectrogram) (None, 513, 173, 1)       1050624     \n",
      "________________________________________________________________________________\n",
      "mel_bank (Filterbank)     (None, 100, 173, 1)       51300       \n",
      "================================================================================\n",
      "Total params: 1,101,924\n",
      "Trainable params: 0\n",
      "Non-trainable params: 1,101,924\n",
      "________________________________________________________________________________\n",
      "Epoch 1/1\n",
      "2/2 [==============================] - 5s 3s/step - loss: 1.8606\n",
      "(1, 44100)\n"
     ]
    },
    {
     "data": {
      "image/png": "[encoded data removed]",
      "text/plain": [
       "<Figure size 432x288 with 1 Axes>"
      ]
     },
     "metadata": {},
     "output_type": "display_data"
    },
    {
     "name": "stdout",
     "output_type": "stream",
     "text": [
      "(2166, 173, 100)\n"
     ]
    }
   ],
   "source": [
    "import keras\n",
    "import kapre\n",
    "from keras.models import Sequential\n",
    "from kapre.time_frequency import Melspectrogram, Spectrogram\n",
    "from kapre.filterbank import Filterbank\n",
    "import numpy as np\n",
    "\n",
    "src = np.random.random((1, blocksize))\n",
    "model = Sequential()\n",
    "model.add(Spectrogram(n_dft=1024, n_hop=256, input_shape=src.shape, \n",
    "          return_decibel_spectrogram=True, power_spectrogram=2.0, \n",
    "          trainable_kernel=False, name='static_stft'))\n",
    "model.add(Filterbank(n_fbs=100, trainable_fb=False, sr=SR, init='mel', fmin=0, fmax=SR//2, bins_per_octave=12,\n",
    "                    name='mel_bank'))\n",
    "check_model(model)\n",
    "# for src in c_data:\n",
    "visualise_model(model, c_data[1])\n",
    "mfccs = evaluate_model(model, c_data)\n",
    "n_targets = np.repeat(targets, mfccs.shape[1])"
   ]
  },
  {
   "cell_type": "code",
   "execution_count": 13,
   "metadata": {},
   "outputs": [],
   "source": [
    "# Divide audio samples into dilated spectral buffers\n",
    "def make_dilated_spectral_frames(spectrogram,\n",
    "                                 num_frames, \n",
    "                                 dilation_factor):\n",
    "    dilated_frames = np.zeros((len(spectrogram), \n",
    "                              num_frames, \n",
    "                              len(spectrogram[0])))\n",
    "\n",
    "    for i in range(len(spectrogram)):\n",
    "        for j in range(num_frames):\n",
    "            dilation = np.power(dilation_factor, j)\n",
    "\n",
    "            if i - dilation < 0:\n",
    "                dilated_frames[i][j] = spectrogram[0]\n",
    "            else:\n",
    "                dilated_frames[i][j] = spectrogram[i - dilation]\n",
    "\n",
    "    return dilated_frames"
   ]
  },
  {
   "cell_type": "code",
   "execution_count": 14,
   "metadata": {},
   "outputs": [],
   "source": [
    "frames = []\n",
    "for frame in mfccs:\n",
    "    frames.append(make_dilated_spectral_frames(frame, 8, 2))"
   ]
  },
  {
   "cell_type": "code",
   "execution_count": 15,
   "metadata": {},
   "outputs": [
    {
     "name": "stdout",
     "output_type": "stream",
     "text": [
      "(374718, 8, 100)\n"
     ]
    }
   ],
   "source": [
    "frames = np.vstack(frames)\n",
    "print(frames.shape)"
   ]
  },
  {
   "cell_type": "code",
   "execution_count": 16,
   "metadata": {},
   "outputs": [],
   "source": [
    "from sklearn.model_selection import train_test_split\n",
    "train_X, test_X, train_y, test_y = train_test_split(\n",
    "                        frames, frames, test_size=0.20, random_state=42)"
   ]
  },
  {
   "cell_type": "markdown",
   "metadata": {},
   "source": [
    "# Dimension Sanity Check"
   ]
  },
  {
   "cell_type": "code",
   "execution_count": 17,
   "metadata": {},
   "outputs": [
    {
     "name": "stdout",
     "output_type": "stream",
     "text": [
      "Frames: (299774, 8, 100)\n",
      "Target: (299774, 8, 100)\n"
     ]
    }
   ],
   "source": [
    "print(\"Frames: \" + str(train_X.shape))\n",
    "print(\"Target: \" + str(train_y.shape))"
   ]
  },
  {
   "cell_type": "markdown",
   "metadata": {},
   "source": [
    "## Autoencoder"
   ]
  },
  {
   "cell_type": "code",
   "execution_count": 18,
   "metadata": {},
   "outputs": [],
   "source": [
    "from keras.models import Model\n",
    "from keras.layers import InputLayer, RepeatVector, Flatten, Dense, Reshape, Conv2D, MaxPool2D, Conv2DTranspose, Input\n",
    "\n",
    "def build_pca_autoencoder(img_shape,code_size=32, optimizer_type='adam', loss_type='mse'):\n",
    "    \"\"\"\n",
    "    Here we define a simple linear autoencoder as described above.\n",
    "    We also flatten and un-flatten data to be compatible with image shapes\n",
    "    \"\"\"\n",
    "    \n",
    "    encoder = keras.models.Sequential(name='encoder')\n",
    "    encoder.add(InputLayer(img_shape))\n",
    "    encoder.add(Flatten())                  #flatten image to vector\n",
    "    encoder.add(Dense(code_size*8, activation='relu'))\n",
    "    encoder.add(Dense(code_size*4, activation='tanh'))\n",
    "    encoder.add(Dense(code_size*2, activation='tanh'))\n",
    "    encoder.add(Dense(code_size))\n",
    "    encoder.add(Dense(code_size))           #actual encoder\n",
    "\n",
    "    decoder = keras.models.Sequential(name='decoder')\n",
    "    decoder.add(InputLayer((code_size,)))\n",
    "    decoder.add(Dense(code_size*2, activation='tanh'))\n",
    "    decoder.add(Dense(code_size*4, activation='tanh'))\n",
    "    decoder.add(Dense(code_size*8, activation='relu'))\n",
    "    decoder.add(Dense(np.prod(img_shape)))  #actual decoder, height*width*3 units\n",
    "    decoder.add(Reshape(img_shape))         #un-flatten\n",
    "    \n",
    "    decoder.compile(optimizer=optimizer_type,\n",
    "                        loss = loss_type,\n",
    "                        metrics=['acc'])\n",
    "    \n",
    "    inp = Input(img_shape)\n",
    "    code = encoder(inp)\n",
    "    reconstruction = decoder(code)\n",
    "    \n",
    "    autoencoder = Model(inp, reconstruction)\n",
    "    autoencoder.compile(optimizer_type, loss_type, metrics=['acc'])\n",
    "    \n",
    "    autoencoder.summary()\n",
    "    \n",
    "    return autoencoder\n",
    "\n",
    "def build_deep_conv_autoencoder(code_size, img_shape=(44, 44, 3)):\n",
    "    H,W,C = img_shape\n",
    "    \n",
    "    # encoder\n",
    "    encoder = keras.models.Sequential()\n",
    "    encoder.add(InputLayer(img_shape))\n",
    "    encoder.add(Conv2D(32, kernel_size=(3, 3),strides=1, padding='same', activation='elu'))\n",
    "    encoder.add(MaxPool2D(pool_size=(2, 2)))\n",
    "    encoder.add(Conv2D(64, kernel_size=(3, 3),strides=1, padding='same', activation='elu'))\n",
    "    encoder.add(MaxPool2D(pool_size=(2, 2)))\n",
    "    encoder.add(Conv2D(128, kernel_size=(3, 3),strides=1, padding='same', activation='elu'))\n",
    "    encoder.add(MaxPool2D(pool_size=(2, 2)))\n",
    "    encoder.add(Conv2D(256, kernel_size=(3, 3),strides=1, padding='same', activation='elu'))\n",
    "    encoder.add(MaxPool2D(pool_size=(2, 2)))\n",
    "    encoder.add(Flatten())\n",
    "    encoder.add(Dense(code_size))\n",
    "    \n",
    "\n",
    "    # decoder\n",
    "    decoder = keras.models.Sequential()\n",
    "    decoder.add(InputLayer((code_size,)))\n",
    "    decoder.add(Dense(1024))\n",
    "    decoder.add(Reshape((2, 2, 256)))\n",
    "    decoder.add(Conv2DTranspose(filters=128, kernel_size=(3, 3), strides=2, activation='elu', padding='valid'))\n",
    "    decoder.add(Conv2DTranspose(filters=64, kernel_size=(3, 3), strides=2, activation='elu', padding='valid'))\n",
    "    decoder.add(Conv2DTranspose(filters=32, kernel_size=(3, 3), strides=2, activation='elu', padding='same'))\n",
    "    decoder.add(Conv2DTranspose(filters=3, kernel_size=(3, 3), strides=2, activation=None, padding='same'))\n",
    "    return encoder, decoder"
   ]
  },
  {
   "cell_type": "code",
   "execution_count": 19,
   "metadata": {},
   "outputs": [
    {
     "name": "stdout",
     "output_type": "stream",
     "text": [
      "Loading Previously Trained Model\n",
      "Couldn't find model, training new one\n",
      "_________________________________________________________________\n",
      "Layer (type)                 Output Shape              Param #   \n",
      "=================================================================\n",
      "input_3 (InputLayer)         (None, 8, 100)            0         \n",
      "_________________________________________________________________\n",
      "encoder (Sequential)         (None, 32)                249344    \n",
      "_________________________________________________________________\n",
      "decoder (Sequential)         (None, 8, 100)            249056    \n",
      "=================================================================\n",
      "Total params: 498,400\n",
      "Trainable params: 498,400\n",
      "Non-trainable params: 0\n",
      "_________________________________________________________________\n",
      "Epoch 1/20\n",
      "299774/299774 [==============================] - 102s 340us/step - loss: 0.0215 - acc: 0.2669\n",
      "Epoch 2/20\n",
      "299774/299774 [==============================] - 97s 322us/step - loss: 0.0114 - acc: 0.3478\n",
      "Epoch 3/20\n",
      "299774/299774 [==============================] - 95s 318us/step - loss: 0.0101 - acc: 0.3806\n",
      "Epoch 4/20\n",
      "299774/299774 [==============================] - 95s 316us/step - loss: 0.0095 - acc: 0.3957\n",
      "Epoch 5/20\n",
      "299774/299774 [==============================] - 95s 316us/step - loss: 0.0091 - acc: 0.4061\n",
      "Epoch 6/20\n",
      "299774/299774 [==============================] - 94s 315us/step - loss: 0.0088 - acc: 0.4150\n",
      "Epoch 7/20\n",
      "299774/299774 [==============================] - 94s 314us/step - loss: 0.0086 - acc: 0.4216\n",
      "Epoch 8/20\n",
      "299774/299774 [==============================] - 94s 313us/step - loss: 0.0084 - acc: 0.4243\n",
      "Epoch 9/20\n",
      "299774/299774 [==============================] - 95s 316us/step - loss: 0.0083 - acc: 0.4268\n",
      "Epoch 10/20\n",
      "299774/299774 [==============================] - 94s 315us/step - loss: 0.0082 - acc: 0.4307\n",
      "Epoch 11/20\n",
      "299774/299774 [==============================] - 95s 316us/step - loss: 0.0082 - acc: 0.4337\n",
      "Epoch 12/20\n",
      "299774/299774 [==============================] - 95s 315us/step - loss: 0.0081 - acc: 0.4350\n",
      "Epoch 13/20\n",
      "299774/299774 [==============================] - 95s 316us/step - loss: 0.0081 - acc: 0.4361\n",
      "Epoch 14/20\n",
      "299774/299774 [==============================] - 95s 316us/step - loss: 0.0080 - acc: 0.4373\n",
      "Epoch 15/20\n",
      "299774/299774 [==============================] - 94s 315us/step - loss: 0.0080 - acc: 0.4399\n",
      "Epoch 16/20\n",
      "299774/299774 [==============================] - 94s 313us/step - loss: 0.0079 - acc: 0.4412\n",
      "Epoch 17/20\n",
      "299774/299774 [==============================] - 94s 312us/step - loss: 0.0079 - acc: 0.4418\n",
      "Epoch 18/20\n",
      "299774/299774 [==============================] - 94s 314us/step - loss: 0.0079 - acc: 0.4427\n",
      "Epoch 19/20\n",
      "299774/299774 [==============================] - 94s 314us/step - loss: 0.0079 - acc: 0.4432\n",
      "Epoch 20/20\n",
      "299774/299774 [==============================] - 93s 312us/step - loss: 0.0078 - acc: 0.4436\n"
     ]
    }
   ],
   "source": [
    "from keras.models import model_from_json\n",
    "try:\n",
    "    print(\"Loading Previously Trained Model\")\n",
    "    json_file = open('autoencoder_model.json', 'r')\n",
    "    loaded_model_json = json_file.read()\n",
    "    json_file.close()\n",
    "    auto = model_from_json(loaded_model_json)\n",
    "    auto.load_weights('autoencoder_weights.hd5')\n",
    "    auto.compile(optimizer='adam', loss='mse')\n",
    "    auto.summary()\n",
    "except:\n",
    "    print(\"Couldn't find model, training new one\")\n",
    "    auto = build_pca_autoencoder(train_X[0].shape,code_size=32)\n",
    "    auto.fit(x=train_X, y=train_y, epochs=20, verbose=1)\n",
    "    model_json = auto.to_json()\n",
    "    with open('autoencoder_model.json', 'w') as json_file:\n",
    "        json_file.write(model_json)\n",
    "    auto.save_weights('autoencoder_weights.hd5')"
   ]
  },
  {
   "cell_type": "code",
   "execution_count": 21,
   "metadata": {},
   "outputs": [
    {
     "name": "stdout",
     "output_type": "stream",
     "text": [
      "74944/74944 [==============================] - 7s 92us/step\n",
      "(74944, 8, 100)\n"
     ]
    }
   ],
   "source": [
    "result = auto.predict(test_X, verbose=1)\n",
    "print(result.shape)"
   ]
  },
  {
   "cell_type": "code",
   "execution_count": 23,
   "metadata": {},
   "outputs": [
    {
     "data": {
      "image/png": "[encoded data removed]",
      "text/plain": [
       "<Figure size 432x288 with 1 Axes>"
      ]
     },
     "metadata": {},
     "output_type": "display_data"
    },
    {
     "data": {
      "image/png": "[encoded data removed]",
      "text/plain": [
       "<Figure size 432x288 with 1 Axes>"
      ]
     },
     "metadata": {},
     "output_type": "display_data"
    }
   ],
   "source": [
    "display.specshow(result[7400], y_axis='linear', sr=SR)\n",
    "plt.show()\n",
    "display.specshow(test_X[7400], y_axis='linear', sr=SR)\n",
    "plt.show()"
   ]
  },
  {
   "cell_type": "markdown",
   "metadata": {},
   "source": [
    "# Encode"
   ]
  },
  {
   "cell_type": "code",
   "execution_count": 24,
   "metadata": {},
   "outputs": [
    {
     "name": "stdout",
     "output_type": "stream",
     "text": [
      "374718/374718 [==============================] - 25s 66us/step\n",
      "(374718, 32)\n"
     ]
    }
   ],
   "source": [
    "enc = keras.models.Sequential(name='encoder')\n",
    "enc.add(InputLayer((8,100)))\n",
    "enc.add(auto.get_layer('encoder'))\n",
    "dta = enc.predict(frames, verbose=1)\n",
    "print(dta.shape)"
   ]
  },
  {
   "cell_type": "code",
   "execution_count": 25,
   "metadata": {},
   "outputs": [
    {
     "name": "stdout",
     "output_type": "stream",
     "text": [
      "(374718,)\n"
     ]
    }
   ],
   "source": [
    "print(n_targets.shape)"
   ]
  },
  {
   "cell_type": "code",
   "execution_count": 28,
   "metadata": {},
   "outputs": [],
   "source": [
    "from sklearn.model_selection import train_test_split\n",
    "train_X, test_X, train_y, test_y = train_test_split(\n",
    "                        dta, n_targets, test_size=0.20, random_state=42)"
   ]
  },
  {
   "cell_type": "markdown",
   "metadata": {},
   "source": [
    "## High-Level Shallow Nets\n",
    "Train binary shallow nets for high level categories(animal vs interacting objects)"
   ]
  },
  {
   "cell_type": "code",
   "execution_count": 29,
   "metadata": {},
   "outputs": [],
   "source": [
    "from keras.models import Sequential\n",
    "from keras.layers import Dense, Dropout, Convolution2D, MaxPooling2D, Flatten\n",
    "import keras.metrics as kmet\n",
    "from kapre.time_frequency import Melspectrogram, Spectrogram\n",
    "from kapre.utils import Normalization2D\n",
    "from kapre.augmentation import AdditiveNoise\n",
    "\n",
    "dropout = 0.25\n",
    "\n",
    "epochs = 20\n",
    "batch = 128\n",
    "\n",
    "latent_dim = 32\n",
    "\n",
    "src = np.random.random((1, blocksize))\n",
    "\n",
    "def gpu_mfcc_shallow_net():\n",
    "    # Create Model\n",
    "    model = Sequential()\n",
    "    model.add(Dense(32, activation='relu', input_shape=(32,)))\n",
    "    model.add(Dropout(0.2))\n",
    "    model.add(Dense(16, activation='relu'))\n",
    "    model.add(Dense(1, kernel_initializer='normal', activation='sigmoid'))\n",
    "    \n",
    "    # Compile model\n",
    "    model.compile(loss='binary_crossentropy',\n",
    "                  optimizer='adam',\n",
    "                  metrics=['accuracy', kmet.mae])\n",
    "    \n",
    "    model.summary()\n",
    "\n",
    "    \n",
    "    return model"
   ]
  },
  {
   "cell_type": "code",
   "execution_count": 30,
   "metadata": {
    "scrolled": true
   },
   "outputs": [
    {
     "name": "stdout",
     "output_type": "stream",
     "text": [
      "_________________________________________________________________\n",
      "Layer (type)                 Output Shape              Param #   \n",
      "=================================================================\n",
      "dense_10 (Dense)             (None, 32)                1056      \n",
      "_________________________________________________________________\n",
      "dropout_1 (Dropout)          (None, 32)                0         \n",
      "_________________________________________________________________\n",
      "dense_11 (Dense)             (None, 16)                528       \n",
      "_________________________________________________________________\n",
      "dense_12 (Dense)             (None, 1)                 17        \n",
      "=================================================================\n",
      "Total params: 1,601\n",
      "Trainable params: 1,601\n",
      "Non-trainable params: 0\n",
      "_________________________________________________________________\n",
      "Train on 254807 samples, validate on 44967 samples\n",
      "Epoch 1/20\n",
      "254807/254807 [==============================] - 15s 59us/step - loss: 0.5129 - acc: 0.7309 - mean_absolute_error: 0.3536 - val_loss: 0.4187 - val_acc: 0.8029 - val_mean_absolute_error: 0.2928\n",
      "Epoch 2/20\n",
      "254807/254807 [==============================] - 13s 52us/step - loss: 0.4291 - acc: 0.7916 - mean_absolute_error: 0.2877 - val_loss: 0.3783 - val_acc: 0.8283 - val_mean_absolute_error: 0.2638\n",
      "Epoch 3/20\n",
      "254807/254807 [==============================] - 13s 52us/step - loss: 0.4048 - acc: 0.8057 - mean_absolute_error: 0.2694 - val_loss: 0.3541 - val_acc: 0.8407 - val_mean_absolute_error: 0.2466\n",
      "Epoch 4/20\n",
      "254807/254807 [==============================] - 13s 52us/step - loss: 0.3881 - acc: 0.8143 - mean_absolute_error: 0.2577 - val_loss: 0.3370 - val_acc: 0.8480 - val_mean_absolute_error: 0.2338\n",
      "Epoch 5/20\n",
      "254807/254807 [==============================] - 14s 53us/step - loss: 0.3748 - acc: 0.8206 - mean_absolute_error: 0.2482 - val_loss: 0.3240 - val_acc: 0.8556 - val_mean_absolute_error: 0.2268\n",
      "Epoch 6/20\n",
      "254807/254807 [==============================] - 13s 52us/step - loss: 0.3653 - acc: 0.8268 - mean_absolute_error: 0.2411 - val_loss: 0.3151 - val_acc: 0.8579 - val_mean_absolute_error: 0.2176\n",
      "Epoch 7/20\n",
      "254807/254807 [==============================] - 13s 52us/step - loss: 0.3564 - acc: 0.8311 - mean_absolute_error: 0.2350 - val_loss: 0.3073 - val_acc: 0.8598 - val_mean_absolute_error: 0.2100\n",
      "Epoch 8/20\n",
      "254807/254807 [==============================] - 13s 52us/step - loss: 0.3523 - acc: 0.8331 - mean_absolute_error: 0.2315 - val_loss: 0.3033 - val_acc: 0.8616 - val_mean_absolute_error: 0.2086\n",
      "Epoch 9/20\n",
      "254807/254807 [==============================] - 13s 51us/step - loss: 0.3494 - acc: 0.8356 - mean_absolute_error: 0.2292 - val_loss: 0.2980 - val_acc: 0.8639 - val_mean_absolute_error: 0.2038\n",
      "Epoch 10/20\n",
      "254807/254807 [==============================] - 13s 52us/step - loss: 0.3440 - acc: 0.8380 - mean_absolute_error: 0.2253 - val_loss: 0.2946 - val_acc: 0.8683 - val_mean_absolute_error: 0.2050\n",
      "Epoch 11/20\n",
      "254807/254807 [==============================] - 13s 52us/step - loss: 0.3426 - acc: 0.8378 - mean_absolute_error: 0.2243 - val_loss: 0.2910 - val_acc: 0.8703 - val_mean_absolute_error: 0.2028\n",
      "Epoch 12/20\n",
      "254807/254807 [==============================] - 13s 51us/step - loss: 0.3389 - acc: 0.8397 - mean_absolute_error: 0.2220 - val_loss: 0.2861 - val_acc: 0.8709 - val_mean_absolute_error: 0.1976\n",
      "Epoch 13/20\n",
      "254807/254807 [==============================] - 13s 51us/step - loss: 0.3368 - acc: 0.8408 - mean_absolute_error: 0.2203 - val_loss: 0.2849 - val_acc: 0.8717 - val_mean_absolute_error: 0.1963\n",
      "Epoch 14/20\n",
      "254807/254807 [==============================] - 13s 51us/step - loss: 0.3353 - acc: 0.8410 - mean_absolute_error: 0.2191 - val_loss: 0.2833 - val_acc: 0.8736 - val_mean_absolute_error: 0.1966\n",
      "Epoch 15/20\n",
      "254807/254807 [==============================] - 14s 53us/step - loss: 0.3332 - acc: 0.8421 - mean_absolute_error: 0.2176 - val_loss: 0.2802 - val_acc: 0.8723 - val_mean_absolute_error: 0.1928\n",
      "Epoch 16/20\n",
      "254807/254807 [==============================] - 13s 52us/step - loss: 0.3307 - acc: 0.8433 - mean_absolute_error: 0.2161 - val_loss: 0.2781 - val_acc: 0.8723 - val_mean_absolute_error: 0.1907\n",
      "Epoch 17/20\n",
      "254807/254807 [==============================] - 13s 52us/step - loss: 0.3302 - acc: 0.8436 - mean_absolute_error: 0.2153 - val_loss: 0.2760 - val_acc: 0.8767 - val_mean_absolute_error: 0.1911\n",
      "Epoch 18/20\n",
      "254807/254807 [==============================] - 13s 53us/step - loss: 0.3278 - acc: 0.8452 - mean_absolute_error: 0.2137 - val_loss: 0.2745 - val_acc: 0.8766 - val_mean_absolute_error: 0.1898\n",
      "Epoch 19/20\n",
      "254807/254807 [==============================] - 13s 52us/step - loss: 0.3262 - acc: 0.8447 - mean_absolute_error: 0.2127 - val_loss: 0.2722 - val_acc: 0.8754 - val_mean_absolute_error: 0.1872\n",
      "Epoch 20/20\n",
      "254807/254807 [==============================] - 13s 52us/step - loss: 0.3261 - acc: 0.8463 - mean_absolute_error: 0.2123 - val_loss: 0.2702 - val_acc: 0.8766 - val_mean_absolute_error: 0.1862\n"
     ]
    }
   ],
   "source": [
    "clas = KerasClassifier(build_fn=gpu_mfcc_shallow_net, epochs=epochs, batch_size=batch, validation_split=0.15)\n",
    "history = clas.fit(train_X, train_y)"
   ]
  },
  {
   "cell_type": "code",
   "execution_count": 31,
   "metadata": {
    "scrolled": true
   },
   "outputs": [
    {
     "data": {
      "image/png": "[encoded data removed]",
      "text/plain": [
       "<Figure size 720x360 with 1 Axes>"
      ]
     },
     "metadata": {},
     "output_type": "display_data"
    }
   ],
   "source": [
    "plt.figure(figsize=(10, 5))\n",
    "# plt.ylim([0,9])\n",
    "plt.plot(history.history['loss'])\n",
    "plt.plot(history.history['val_loss'])\n",
    "plt.show()"
   ]
  },
  {
   "cell_type": "code",
   "execution_count": 32,
   "metadata": {},
   "outputs": [
    {
     "name": "stdout",
     "output_type": "stream",
     "text": [
      "0.8770815542271563\n",
      "Confusion matrix, without normalization\n",
      "[[21153  6573]\n",
      " [ 2639 44579]]\n"
     ]
    },
    {
     "data": {
      "image/png": "[encoded data removed]",
      "text/plain": [
       "<Figure size 720x720 with 2 Axes>"
      ]
     },
     "metadata": {},
     "output_type": "display_data"
    }
   ],
   "source": [
    "pred = clas.predict(test_X)\n",
    "print(metrics.accuracy_score(test_y, pred))\n",
    "cm = metrics.confusion_matrix(test_y, pred)\n",
    "plt.figure(figsize=(10,10))\n",
    "plot_confusion_matrix(cm, h_classes)\n",
    "plt.show()"
   ]
  },
  {
   "cell_type": "code",
   "execution_count": 33,
   "metadata": {},
   "outputs": [
    {
     "name": "stdout",
     "output_type": "stream",
     "text": [
      "\tProcessing Time: 2.569254159927368\n",
      "\tProcessing Time: 2.7753407955169678\n",
      "\tProcessing Time: 2.740989923477173\n",
      "\tProcessing Time: 2.836956024169922\n"
     ]
    }
   ],
   "source": [
    "X2, y2 = load_fold_audio_blockwise(2, dataset, blocksize, overlap)\n",
    "X3, y3 = load_fold_audio_blockwise(3, dataset, blocksize, overlap)\n",
    "X4, y4 = load_fold_audio_blockwise(4, dataset, blocksize, overlap)\n",
    "X5, y5 = load_fold_audio_blockwise(5, dataset, blocksize, overlap)"
   ]
  },
  {
   "cell_type": "code",
   "execution_count": 34,
   "metadata": {},
   "outputs": [
    {
     "name": "stdout",
     "output_type": "stream",
     "text": [
      "(8750, 1, 44100)\n"
     ]
    }
   ],
   "source": [
    "X = np.vstack((X2, X3, X4, X5))\n",
    "print(X.shape)"
   ]
  },
  {
   "cell_type": "code",
   "execution_count": 35,
   "metadata": {},
   "outputs": [
    {
     "name": "stdout",
     "output_type": "stream",
     "text": [
      "(8750,)\n"
     ]
    }
   ],
   "source": [
    "y = np.concatenate((y2, y3, y4, y5))\n",
    "print(y.shape)"
   ]
  },
  {
   "cell_type": "code",
   "execution_count": 36,
   "metadata": {
    "scrolled": true
   },
   "outputs": [
    {
     "name": "stdout",
     "output_type": "stream",
     "text": [
      "(8750, 173, 100)\n",
      "(8750, 173, 100)\n",
      "(1513750, 8, 100)\n",
      "1513750/1513750 [==============================] - 104s 69us/step\n",
      "(1513750, 32)\n"
     ]
    }
   ],
   "source": [
    "testing_mfccs = evaluate_model(model, X)\n",
    "print(testing_mfccs.shape)\n",
    "test_frames = []\n",
    "for frame in testing_mfccs:\n",
    "    test_frames.append(make_dilated_spectral_frames(frame, 8, 2))\n",
    "test_frames = np.vstack(test_frames)\n",
    "print(test_frames.shape)\n",
    "test_dta = enc.predict(test_frames ,verbose=1)\n",
    "print(test_dta.shape)"
   ]
  },
  {
   "cell_type": "code",
   "execution_count": null,
   "metadata": {},
   "outputs": [],
   "source": [
    "testing_n_targets = np.repeat(y, testing_mfccs.shape[1])\n",
    "print(testing_n_targets.shape)"
   ]
  },
  {
   "cell_type": "code",
   "execution_count": null,
   "metadata": {},
   "outputs": [],
   "source": [
    "pred = clas.predict(test_dta, verbose=1)\n",
    "print(metrics.accuracy_score(testing_n_targets, pred))\n",
    "cm = metrics.confusion_matrix(testing_n_targets, pred)\n",
    "plt.figure(figsize=(10,10))\n",
    "plot_confusion_matrix(cm, h_classes)\n",
    "plt.show()"
   ]
  },
  {
   "cell_type": "code",
   "execution_count": null,
   "metadata": {},
   "outputs": [],
   "source": []
  }
 ],
 "metadata": {
  "kernelspec": {
   "display_name": "Python 3",
   "language": "python",
   "name": "python3"
  },
  "language_info": {
   "codemirror_mode": {
    "name": "ipython",
    "version": 3
   },
   "file_extension": ".py",
   "mimetype": "text/x-python",
   "name": "python",
   "nbconvert_exporter": "python",
   "pygments_lexer": "ipython3",
   "version": "3.5.2"
  }
 },
 "nbformat": 4,
 "nbformat_minor": 2
}
