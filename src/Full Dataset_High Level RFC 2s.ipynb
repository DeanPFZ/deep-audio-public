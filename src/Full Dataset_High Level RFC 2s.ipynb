{
 "cells": [
  {
   "cell_type": "code",
   "execution_count": 1,
   "metadata": {},
   "outputs": [
    {
     "name": "stderr",
     "output_type": "stream",
     "text": [
      "Using TensorFlow backend.\n"
     ]
    },
    {
     "name": "stdout",
     "output_type": "stream",
     "text": [
      "WARNING:tensorflow:From /usr/local/lib/python3.5/dist-packages/magenta/models/nsynth/wavenet/masked.py:116: UniformUnitScaling.__init__ (from tensorflow.python.ops.init_ops) is deprecated and will be removed in a future version.\n",
      "Instructions for updating:\n",
      "Use tf.initializers.variance_scaling instead with distribution=uniform to get equivalent behavior.\n"
     ]
    },
    {
     "name": "stderr",
     "output_type": "stream",
     "text": [
      "/usr/lib/python3.5/importlib/_bootstrap.py:222: RuntimeWarning: numpy.dtype size changed, may indicate binary incompatibility. Expected 96, got 88\n",
      "  return f(*args, **kwds)\n"
     ]
    }
   ],
   "source": [
    "import pandas as pd\n",
    "from preprocess import Audio_Processor\n",
    "from sklearn import metrics\n",
    "from classification_plots import plot_confusion_matrix, plot_learning_curve\n",
    "import matplotlib.pyplot as plt\n",
    "import os\n",
    "import numpy as np\n",
    "from sklearn.ensemble import RandomForestClassifier"
   ]
  },
  {
   "cell_type": "code",
   "execution_count": 2,
   "metadata": {},
   "outputs": [],
   "source": [
    "# Able to specify which GPU to use\n",
    "os.environ[\"CUDA_VISIBLE_DEVICES\"]=\"1\"\n",
    "\n",
    "SR = 44100\n",
    "blocksize = 88200\n",
    "overlap = 22050"
   ]
  },
  {
   "cell_type": "code",
   "execution_count": 3,
   "metadata": {},
   "outputs": [],
   "source": [
    "import warnings\n",
    "warnings.filterwarnings('ignore')"
   ]
  },
  {
   "cell_type": "markdown",
   "metadata": {},
   "source": [
    "# Setup"
   ]
  },
  {
   "cell_type": "code",
   "execution_count": 4,
   "metadata": {},
   "outputs": [],
   "source": [
    "path_to_db = '../../FSDKaggle2018/'"
   ]
  },
  {
   "cell_type": "code",
   "execution_count": 5,
   "metadata": {},
   "outputs": [],
   "source": [
    "ps = Audio_Processor(path_to_db + 'train/')"
   ]
  },
  {
   "cell_type": "markdown",
   "metadata": {},
   "source": [
    "# Load Dataset\n",
    "Here we load the csv that describes each file in the dataset. We add a high level category that is defined in the ESC-50 documentation. This we realize is anthetical to true training, it is a stopgap for when we use NLP to classify tags into these categories."
   ]
  },
  {
   "cell_type": "code",
   "execution_count": null,
   "metadata": {
    "scrolled": true
   },
   "outputs": [
    {
     "name": "stdout",
     "output_type": "stream",
     "text": [
      "          fname         label\n",
      "0  00044347.wav        Hi-hat\n",
      "1  001ca53d.wav     Saxophone\n",
      "2  002d256b.wav       Trumpet\n",
      "3  0033e230.wav  Glockenspiel\n",
      "4  00353774.wav         Cello\n"
     ]
    }
   ],
   "source": [
    "dataset = pd.read_csv(path_to_db + 'meta/train.csv')\n",
    "classes = dataset.label.unique()\n",
    "dataset = dataset.drop(['manually_verified', 'freesound_id', 'license'], axis=1)\n",
    "print(dataset.head())"
   ]
  },
  {
   "cell_type": "code",
   "execution_count": null,
   "metadata": {},
   "outputs": [],
   "source": [
    "h_classes = ['Human & Animal', 'Interacting Materials', 'Musical Instruments']\n",
    "mapping = {'Hi-hat': h_classes[2],'Saxophone': h_classes[2],'Trumpet': h_classes[2],\n",
    "           'Glockenspiel': h_classes[2],'Cello': h_classes[2],'Knock': h_classes[1],\n",
    "           'Gunshot_or_gunfire': h_classes[1],'Clarinet': h_classes[2],'Computer_keyboard': h_classes[1],\n",
    "           'Keys_jangling': h_classes[1],'Snare_drum': h_classes[2],'Writing': h_classes[1],\n",
    "           'Laughter': h_classes[0],'Tearing': h_classes[1],'Fart': h_classes[1],'Oboe': h_classes[2],\n",
    "           'Flute': h_classes[2],'Cough': h_classes[0], 'Telephone': h_classes[1], 'Bark': h_classes[0],\n",
    "           'Chime': h_classes[2],'Bass_drum': h_classes[2],'Bus': h_classes[1], 'Squeak': h_classes[0],\n",
    "           'Scissors': h_classes[1],'Harmonica': h_classes[2],'Gong': h_classes[2],'Microwave_oven': h_classes[1],\n",
    "           'Burping_or_eructation': h_classes[0],'Double_bass': h_classes[2],'Shatter': h_classes[1],\n",
    "           'Fireworks': h_classes[1], 'Tambourine': h_classes[2], 'Cowbell': h_classes[2], 'Electric_piano': h_classes[2],\n",
    "           'Meow': h_classes[0], 'Drawer_open_or_close': h_classes[1], 'Applause': h_classes[1], 'Acoustic_guitar': h_classes[2],\n",
    "           'Violin_or_fiddle': h_classes[2], 'Finger_snapping': h_classes[1]\n",
    "            }"
   ]
  },
  {
   "cell_type": "code",
   "execution_count": null,
   "metadata": {},
   "outputs": [],
   "source": [
    "from data_utils import enumerate_strings\n",
    "dataset['h_category'] = None\n",
    "for index, row in dataset.iterrows():\n",
    "    row['target'] = np.where(classes == row['label'])\n",
    "    dataset.loc[index, 'h_category'] = mapping[row['label']]\n",
    "dataset.columns = ['filename', 'target', 'h_category']"
   ]
  },
  {
   "cell_type": "code",
   "execution_count": null,
   "metadata": {},
   "outputs": [],
   "source": [
    "enum_map = enumerate_strings(dataset, ['filename'])"
   ]
  },
  {
   "cell_type": "code",
   "execution_count": null,
   "metadata": {},
   "outputs": [
    {
     "data": {
      "text/html": [
       "<div>\n",
       "<style scoped>\n",
       "    .dataframe tbody tr th:only-of-type {\n",
       "        vertical-align: middle;\n",
       "    }\n",
       "\n",
       "    .dataframe tbody tr th {\n",
       "        vertical-align: top;\n",
       "    }\n",
       "\n",
       "    .dataframe thead th {\n",
       "        text-align: right;\n",
       "    }\n",
       "</style>\n",
       "<table border=\"1\" class=\"dataframe\">\n",
       "  <thead>\n",
       "    <tr style=\"text-align: right;\">\n",
       "      <th></th>\n",
       "      <th>filename</th>\n",
       "      <th>target</th>\n",
       "      <th>h_category</th>\n",
       "    </tr>\n",
       "  </thead>\n",
       "  <tbody>\n",
       "    <tr>\n",
       "      <th>0</th>\n",
       "      <td>00044347.wav</td>\n",
       "      <td>23</td>\n",
       "      <td>2</td>\n",
       "    </tr>\n",
       "    <tr>\n",
       "      <th>1</th>\n",
       "      <td>001ca53d.wav</td>\n",
       "      <td>30</td>\n",
       "      <td>2</td>\n",
       "    </tr>\n",
       "    <tr>\n",
       "      <th>2</th>\n",
       "      <td>002d256b.wav</td>\n",
       "      <td>38</td>\n",
       "      <td>2</td>\n",
       "    </tr>\n",
       "    <tr>\n",
       "      <th>3</th>\n",
       "      <td>0033e230.wav</td>\n",
       "      <td>19</td>\n",
       "      <td>2</td>\n",
       "    </tr>\n",
       "    <tr>\n",
       "      <th>4</th>\n",
       "      <td>00353774.wav</td>\n",
       "      <td>6</td>\n",
       "      <td>2</td>\n",
       "    </tr>\n",
       "  </tbody>\n",
       "</table>\n",
       "</div>"
      ],
      "text/plain": [
       "       filename  target  h_category\n",
       "0  00044347.wav      23           2\n",
       "1  001ca53d.wav      30           2\n",
       "2  002d256b.wav      38           2\n",
       "3  0033e230.wav      19           2\n",
       "4  00353774.wav       6           2"
      ]
     },
     "execution_count": 10,
     "metadata": {},
     "output_type": "execute_result"
    }
   ],
   "source": [
    "dataset.head()"
   ]
  },
  {
   "cell_type": "markdown",
   "metadata": {},
   "source": [
    "## Getting Preprocessed Data\n",
    "We allow for previously preprocessed data to be retrieved for faster training turnaround. If the fold has been preprocessed, it is loaded but if not it is processed and saved."
   ]
  },
  {
   "cell_type": "code",
   "execution_count": null,
   "metadata": {},
   "outputs": [],
   "source": [
    "df = ps.preprocess_fold(dataset, \n",
    "                        kind='mfcc', \n",
    "                        fld=None, \n",
    "                        blocksize=blocksize, \n",
    "                        overlap=overlap)"
   ]
  },
  {
   "cell_type": "code",
   "execution_count": null,
   "metadata": {},
   "outputs": [
    {
     "data": {
      "text/html": [
       "<div>\n",
       "<style scoped>\n",
       "    .dataframe tbody tr th:only-of-type {\n",
       "        vertical-align: middle;\n",
       "    }\n",
       "\n",
       "    .dataframe tbody tr th {\n",
       "        vertical-align: top;\n",
       "    }\n",
       "\n",
       "    .dataframe thead th {\n",
       "        text-align: right;\n",
       "    }\n",
       "</style>\n",
       "<table border=\"1\" class=\"dataframe\">\n",
       "  <thead>\n",
       "    <tr style=\"text-align: right;\">\n",
       "      <th></th>\n",
       "      <th>0</th>\n",
       "      <th>1</th>\n",
       "      <th>2</th>\n",
       "      <th>3</th>\n",
       "      <th>4</th>\n",
       "      <th>5</th>\n",
       "      <th>6</th>\n",
       "      <th>7</th>\n",
       "      <th>8</th>\n",
       "      <th>9</th>\n",
       "      <th>...</th>\n",
       "      <th>106</th>\n",
       "      <th>107</th>\n",
       "      <th>108</th>\n",
       "      <th>109</th>\n",
       "      <th>110</th>\n",
       "      <th>111</th>\n",
       "      <th>112</th>\n",
       "      <th>113</th>\n",
       "      <th>l_target</th>\n",
       "      <th>h_target</th>\n",
       "    </tr>\n",
       "  </thead>\n",
       "  <tbody>\n",
       "    <tr>\n",
       "      <th>count</th>\n",
       "      <td>44810.000000</td>\n",
       "      <td>44810.000000</td>\n",
       "      <td>44810.000000</td>\n",
       "      <td>44810.000000</td>\n",
       "      <td>44810.000000</td>\n",
       "      <td>44810.000000</td>\n",
       "      <td>44810.000000</td>\n",
       "      <td>44810.000000</td>\n",
       "      <td>44810.000000</td>\n",
       "      <td>44810.000000</td>\n",
       "      <td>...</td>\n",
       "      <td>44810.000000</td>\n",
       "      <td>44810.000000</td>\n",
       "      <td>44810.000000</td>\n",
       "      <td>44810.000000</td>\n",
       "      <td>4.481000e+04</td>\n",
       "      <td>44810.000000</td>\n",
       "      <td>44810.000000</td>\n",
       "      <td>44810.000000</td>\n",
       "      <td>44810.000000</td>\n",
       "      <td>44810.000000</td>\n",
       "    </tr>\n",
       "    <tr>\n",
       "      <th>mean</th>\n",
       "      <td>52.147663</td>\n",
       "      <td>49.042768</td>\n",
       "      <td>34.044342</td>\n",
       "      <td>28.592786</td>\n",
       "      <td>25.257585</td>\n",
       "      <td>23.309370</td>\n",
       "      <td>21.786458</td>\n",
       "      <td>21.422385</td>\n",
       "      <td>20.472070</td>\n",
       "      <td>19.808558</td>\n",
       "      <td>...</td>\n",
       "      <td>-0.004034</td>\n",
       "      <td>0.002897</td>\n",
       "      <td>-0.004107</td>\n",
       "      <td>0.000633</td>\n",
       "      <td>-2.784654e-03</td>\n",
       "      <td>0.000304</td>\n",
       "      <td>-0.001229</td>\n",
       "      <td>0.000227</td>\n",
       "      <td>1.288976</td>\n",
       "      <td>19.323522</td>\n",
       "    </tr>\n",
       "    <tr>\n",
       "      <th>std</th>\n",
       "      <td>31.098928</td>\n",
       "      <td>29.891698</td>\n",
       "      <td>17.780059</td>\n",
       "      <td>14.404772</td>\n",
       "      <td>12.171209</td>\n",
       "      <td>11.246079</td>\n",
       "      <td>10.363928</td>\n",
       "      <td>10.054391</td>\n",
       "      <td>9.609320</td>\n",
       "      <td>9.396413</td>\n",
       "      <td>...</td>\n",
       "      <td>0.033203</td>\n",
       "      <td>0.031584</td>\n",
       "      <td>0.030881</td>\n",
       "      <td>0.030562</td>\n",
       "      <td>2.981827e-02</td>\n",
       "      <td>0.029159</td>\n",
       "      <td>0.028121</td>\n",
       "      <td>0.027795</td>\n",
       "      <td>0.726143</td>\n",
       "      <td>12.799254</td>\n",
       "    </tr>\n",
       "    <tr>\n",
       "      <th>min</th>\n",
       "      <td>0.000000</td>\n",
       "      <td>0.000000</td>\n",
       "      <td>0.000000</td>\n",
       "      <td>0.000000</td>\n",
       "      <td>0.000000</td>\n",
       "      <td>0.000000</td>\n",
       "      <td>0.000000</td>\n",
       "      <td>0.000000</td>\n",
       "      <td>0.000000</td>\n",
       "      <td>0.000000</td>\n",
       "      <td>...</td>\n",
       "      <td>-0.187329</td>\n",
       "      <td>-0.178769</td>\n",
       "      <td>-0.174579</td>\n",
       "      <td>-0.192774</td>\n",
       "      <td>-1.731542e-01</td>\n",
       "      <td>-0.175207</td>\n",
       "      <td>-0.181340</td>\n",
       "      <td>-0.179204</td>\n",
       "      <td>0.000000</td>\n",
       "      <td>0.000000</td>\n",
       "    </tr>\n",
       "    <tr>\n",
       "      <th>25%</th>\n",
       "      <td>28.446815</td>\n",
       "      <td>25.563715</td>\n",
       "      <td>21.444611</td>\n",
       "      <td>18.701112</td>\n",
       "      <td>17.265588</td>\n",
       "      <td>15.848980</td>\n",
       "      <td>15.049056</td>\n",
       "      <td>14.967373</td>\n",
       "      <td>14.264389</td>\n",
       "      <td>13.772265</td>\n",
       "      <td>...</td>\n",
       "      <td>-0.019268</td>\n",
       "      <td>-0.011237</td>\n",
       "      <td>-0.017630</td>\n",
       "      <td>-0.012756</td>\n",
       "      <td>-1.623025e-02</td>\n",
       "      <td>-0.013106</td>\n",
       "      <td>-0.014336</td>\n",
       "      <td>-0.012690</td>\n",
       "      <td>1.000000</td>\n",
       "      <td>8.000000</td>\n",
       "    </tr>\n",
       "    <tr>\n",
       "      <th>50%</th>\n",
       "      <td>49.651886</td>\n",
       "      <td>45.817881</td>\n",
       "      <td>34.123636</td>\n",
       "      <td>28.947119</td>\n",
       "      <td>25.885107</td>\n",
       "      <td>23.791175</td>\n",
       "      <td>22.283264</td>\n",
       "      <td>21.990376</td>\n",
       "      <td>20.943076</td>\n",
       "      <td>20.238885</td>\n",
       "      <td>...</td>\n",
       "      <td>-0.000238</td>\n",
       "      <td>0.000277</td>\n",
       "      <td>-0.000323</td>\n",
       "      <td>0.000000</td>\n",
       "      <td>-4.630250e-09</td>\n",
       "      <td>0.000000</td>\n",
       "      <td>0.000000</td>\n",
       "      <td>0.000000</td>\n",
       "      <td>1.000000</td>\n",
       "      <td>18.000000</td>\n",
       "    </tr>\n",
       "    <tr>\n",
       "      <th>75%</th>\n",
       "      <td>73.039497</td>\n",
       "      <td>70.176756</td>\n",
       "      <td>46.170658</td>\n",
       "      <td>38.628279</td>\n",
       "      <td>33.838917</td>\n",
       "      <td>31.265005</td>\n",
       "      <td>28.909249</td>\n",
       "      <td>28.349496</td>\n",
       "      <td>26.969666</td>\n",
       "      <td>26.177079</td>\n",
       "      <td>...</td>\n",
       "      <td>0.012015</td>\n",
       "      <td>0.018537</td>\n",
       "      <td>0.011232</td>\n",
       "      <td>0.015854</td>\n",
       "      <td>1.171952e-02</td>\n",
       "      <td>0.014751</td>\n",
       "      <td>0.012433</td>\n",
       "      <td>0.014088</td>\n",
       "      <td>2.000000</td>\n",
       "      <td>31.000000</td>\n",
       "    </tr>\n",
       "    <tr>\n",
       "      <th>max</th>\n",
       "      <td>184.837936</td>\n",
       "      <td>160.923843</td>\n",
       "      <td>104.124741</td>\n",
       "      <td>106.353622</td>\n",
       "      <td>96.328018</td>\n",
       "      <td>100.486008</td>\n",
       "      <td>84.271973</td>\n",
       "      <td>86.573502</td>\n",
       "      <td>72.514648</td>\n",
       "      <td>75.306274</td>\n",
       "      <td>...</td>\n",
       "      <td>0.172847</td>\n",
       "      <td>0.185924</td>\n",
       "      <td>0.161228</td>\n",
       "      <td>0.171234</td>\n",
       "      <td>1.726877e-01</td>\n",
       "      <td>0.186002</td>\n",
       "      <td>0.167953</td>\n",
       "      <td>0.172679</td>\n",
       "      <td>2.000000</td>\n",
       "      <td>40.000000</td>\n",
       "    </tr>\n",
       "  </tbody>\n",
       "</table>\n",
       "<p>8 rows × 116 columns</p>\n",
       "</div>"
      ],
      "text/plain": [
       "                  0             1             2             3             4  \\\n",
       "count  44810.000000  44810.000000  44810.000000  44810.000000  44810.000000   \n",
       "mean      52.147663     49.042768     34.044342     28.592786     25.257585   \n",
       "std       31.098928     29.891698     17.780059     14.404772     12.171209   \n",
       "min        0.000000      0.000000      0.000000      0.000000      0.000000   \n",
       "25%       28.446815     25.563715     21.444611     18.701112     17.265588   \n",
       "50%       49.651886     45.817881     34.123636     28.947119     25.885107   \n",
       "75%       73.039497     70.176756     46.170658     38.628279     33.838917   \n",
       "max      184.837936    160.923843    104.124741    106.353622     96.328018   \n",
       "\n",
       "                  5             6             7             8             9  \\\n",
       "count  44810.000000  44810.000000  44810.000000  44810.000000  44810.000000   \n",
       "mean      23.309370     21.786458     21.422385     20.472070     19.808558   \n",
       "std       11.246079     10.363928     10.054391      9.609320      9.396413   \n",
       "min        0.000000      0.000000      0.000000      0.000000      0.000000   \n",
       "25%       15.848980     15.049056     14.967373     14.264389     13.772265   \n",
       "50%       23.791175     22.283264     21.990376     20.943076     20.238885   \n",
       "75%       31.265005     28.909249     28.349496     26.969666     26.177079   \n",
       "max      100.486008     84.271973     86.573502     72.514648     75.306274   \n",
       "\n",
       "           ...                106           107           108           109  \\\n",
       "count      ...       44810.000000  44810.000000  44810.000000  44810.000000   \n",
       "mean       ...          -0.004034      0.002897     -0.004107      0.000633   \n",
       "std        ...           0.033203      0.031584      0.030881      0.030562   \n",
       "min        ...          -0.187329     -0.178769     -0.174579     -0.192774   \n",
       "25%        ...          -0.019268     -0.011237     -0.017630     -0.012756   \n",
       "50%        ...          -0.000238      0.000277     -0.000323      0.000000   \n",
       "75%        ...           0.012015      0.018537      0.011232      0.015854   \n",
       "max        ...           0.172847      0.185924      0.161228      0.171234   \n",
       "\n",
       "                110           111           112           113      l_target  \\\n",
       "count  4.481000e+04  44810.000000  44810.000000  44810.000000  44810.000000   \n",
       "mean  -2.784654e-03      0.000304     -0.001229      0.000227      1.288976   \n",
       "std    2.981827e-02      0.029159      0.028121      0.027795      0.726143   \n",
       "min   -1.731542e-01     -0.175207     -0.181340     -0.179204      0.000000   \n",
       "25%   -1.623025e-02     -0.013106     -0.014336     -0.012690      1.000000   \n",
       "50%   -4.630250e-09      0.000000      0.000000      0.000000      1.000000   \n",
       "75%    1.171952e-02      0.014751      0.012433      0.014088      2.000000   \n",
       "max    1.726877e-01      0.186002      0.167953      0.172679      2.000000   \n",
       "\n",
       "           h_target  \n",
       "count  44810.000000  \n",
       "mean      19.323522  \n",
       "std       12.799254  \n",
       "min        0.000000  \n",
       "25%        8.000000  \n",
       "50%       18.000000  \n",
       "75%       31.000000  \n",
       "max       40.000000  \n",
       "\n",
       "[8 rows x 116 columns]"
      ]
     },
     "execution_count": 12,
     "metadata": {},
     "output_type": "execute_result"
    }
   ],
   "source": [
    "df.describe()"
   ]
  },
  {
   "cell_type": "code",
   "execution_count": null,
   "metadata": {},
   "outputs": [],
   "source": [
    "from sklearn.model_selection import train_test_split\n",
    "train, test, = train_test_split(\n",
    "                        df, test_size=0.20, random_state=125)"
   ]
  },
  {
   "cell_type": "code",
   "execution_count": null,
   "metadata": {},
   "outputs": [],
   "source": [
    "from sklearn.preprocessing import normalize\n",
    "\n",
    "train_X = normalize(train.drop(['l_target', 'h_target'], axis=1))\n",
    "train_y = train['l_target']\n",
    "test_X = normalize(test.drop(['l_target', 'h_target'], axis=1))\n",
    "test_y = test['l_target']"
   ]
  },
  {
   "cell_type": "markdown",
   "metadata": {},
   "source": [
    "# Shallow Net\n",
    "Separate into classes"
   ]
  },
  {
   "cell_type": "code",
   "execution_count": null,
   "metadata": {},
   "outputs": [],
   "source": [
    "from sklearn.model_selection import GridSearchCV\n",
    "params = {\n",
    "          'n_estimators': range(5,25,1),\n",
    "          'criterion': ('gini', 'entropy')\n",
    "         }\n",
    "\n",
    "rfc = RandomForestClassifier()\n",
    "\n",
    "clf = GridSearchCV(rfc, params, cv=5)\n",
    "\n",
    "clf.fit(train_X, train_y)"
   ]
  },
  {
   "cell_type": "code",
   "execution_count": null,
   "metadata": {},
   "outputs": [],
   "source": [
    "pred = clf.predict(test_X)\n",
    "print(metrics.accuracy_score(test_y, pred))\n",
    "cm = metrics.confusion_matrix(test_y, pred)\n",
    "plt.figure(figsize=(10,10))\n",
    "plot_confusion_matrix(cm, h_classes)\n",
    "plt.show()"
   ]
  },
  {
   "cell_type": "markdown",
   "metadata": {},
   "source": [
    "# All Data"
   ]
  },
  {
   "cell_type": "code",
   "execution_count": null,
   "metadata": {},
   "outputs": [],
   "source": [
    "all_df = ps.preprocess_fold(dataset, \n",
    "                        kind='mfcc', \n",
    "                        fld=1, \n",
    "                        blocksize=blocksize, \n",
    "                        overlap=overlap)"
   ]
  },
  {
   "cell_type": "code",
   "execution_count": null,
   "metadata": {},
   "outputs": [],
   "source": [
    "X = all_df.drop(['l_target', 'h_target'], axis=1)\n",
    "y = all_df['l_target']"
   ]
  },
  {
   "cell_type": "code",
   "execution_count": null,
   "metadata": {},
   "outputs": [],
   "source": [
    "pred = anim.predict(X)\n",
    "print(metrics.accuracy_score(y, pred))\n",
    "cm = metrics.confusion_matrix(y, pred)\n",
    "plt.figure(figsize=(20,20))\n",
    "plot_confusion_matrix(cm, h_classes)\n",
    "plt.show()"
   ]
  },
  {
   "cell_type": "code",
   "execution_count": null,
   "metadata": {},
   "outputs": [],
   "source": []
  }
 ],
 "metadata": {
  "kernelspec": {
   "display_name": "Python 3",
   "language": "python",
   "name": "python3"
  },
  "language_info": {
   "codemirror_mode": {
    "name": "ipython",
    "version": 3
   },
   "file_extension": ".py",
   "mimetype": "text/x-python",
   "name": "python",
   "nbconvert_exporter": "python",
   "pygments_lexer": "ipython3",
   "version": "3.5.2"
  }
 },
 "nbformat": 4,
 "nbformat_minor": 2
}
