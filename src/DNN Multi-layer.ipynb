{
 "cells": [
  {
   "cell_type": "code",
   "execution_count": 1,
   "metadata": {},
   "outputs": [
    {
     "name": "stderr",
     "output_type": "stream",
     "text": [
      "Using TensorFlow backend.\n"
     ]
    }
   ],
   "source": [
    "import pandas as pd\n",
    "from preprocess import Audio_Processor\n",
    "import data_utils as du\n",
    "from sklearn import metrics\n",
    "from keras.wrappers.scikit_learn import KerasClassifier\n",
    "import snn_classifier as snn_clas"
   ]
  },
  {
   "cell_type": "code",
   "execution_count": 2,
   "metadata": {},
   "outputs": [],
   "source": [
    "import warnings\n",
    "warnings.filterwarnings('ignore')"
   ]
  },
  {
   "cell_type": "markdown",
   "metadata": {},
   "source": [
    "# Setup"
   ]
  },
  {
   "cell_type": "code",
   "execution_count": 3,
   "metadata": {},
   "outputs": [],
   "source": [
    "path_to_db='../ESC-50/'\n",
    "ps = Audio_Processor(path_to_db + 'audio/')"
   ]
  },
  {
   "cell_type": "markdown",
   "metadata": {},
   "source": [
    "# Load Dataset\n",
    "Here we load the csv that describes each file in the dataset. We add a high level category that is defined in the ESC-50 documentation. This we realize is anthetical to true training, it is a stopgap for when we use NLP to classify tags into these categories."
   ]
  },
  {
   "cell_type": "code",
   "execution_count": 4,
   "metadata": {},
   "outputs": [],
   "source": [
    "dataset = pd.read_csv(path_to_db + 'meta/esc50.csv')\n",
    "classes = [None] * 50\n",
    "h_classes = ['animal', 'nature', 'human', 'domestic', 'urban']"
   ]
  },
  {
   "cell_type": "code",
   "execution_count": 5,
   "metadata": {},
   "outputs": [],
   "source": [
    "dataset['h_category'] = None\n",
    "for index, row in dataset.iterrows():\n",
    "    target = row['target']\n",
    "    classes[target] = row['category']\n",
    "    if target < 10:\n",
    "        dataset.loc[index, 'h_category'] = 0\n",
    "    elif target < 20:\n",
    "        dataset.loc[index, 'h_category'] = 1\n",
    "    elif target < 30:\n",
    "        dataset.loc[index, 'h_category'] = 2\n",
    "    elif target < 40:\n",
    "        dataset.loc[index, 'h_category'] = 3\n",
    "    elif target < 50:\n",
    "        dataset.loc[index, 'h_category'] = 4"
   ]
  },
  {
   "cell_type": "code",
   "execution_count": 6,
   "metadata": {},
   "outputs": [
    {
     "data": {
      "text/html": [
       "<div>\n",
       "<style scoped>\n",
       "    .dataframe tbody tr th:only-of-type {\n",
       "        vertical-align: middle;\n",
       "    }\n",
       "\n",
       "    .dataframe tbody tr th {\n",
       "        vertical-align: top;\n",
       "    }\n",
       "\n",
       "    .dataframe thead th {\n",
       "        text-align: right;\n",
       "    }\n",
       "</style>\n",
       "<table border=\"1\" class=\"dataframe\">\n",
       "  <thead>\n",
       "    <tr style=\"text-align: right;\">\n",
       "      <th></th>\n",
       "      <th>filename</th>\n",
       "      <th>fold</th>\n",
       "      <th>target</th>\n",
       "      <th>category</th>\n",
       "      <th>esc10</th>\n",
       "      <th>src_file</th>\n",
       "      <th>take</th>\n",
       "      <th>h_category</th>\n",
       "    </tr>\n",
       "  </thead>\n",
       "  <tbody>\n",
       "    <tr>\n",
       "      <th>0</th>\n",
       "      <td>1-100032-A-0.wav</td>\n",
       "      <td>1</td>\n",
       "      <td>0</td>\n",
       "      <td>dog</td>\n",
       "      <td>True</td>\n",
       "      <td>100032</td>\n",
       "      <td>A</td>\n",
       "      <td>0</td>\n",
       "    </tr>\n",
       "    <tr>\n",
       "      <th>1</th>\n",
       "      <td>1-100038-A-14.wav</td>\n",
       "      <td>1</td>\n",
       "      <td>14</td>\n",
       "      <td>chirping_birds</td>\n",
       "      <td>False</td>\n",
       "      <td>100038</td>\n",
       "      <td>A</td>\n",
       "      <td>1</td>\n",
       "    </tr>\n",
       "    <tr>\n",
       "      <th>2</th>\n",
       "      <td>1-100210-A-36.wav</td>\n",
       "      <td>1</td>\n",
       "      <td>36</td>\n",
       "      <td>vacuum_cleaner</td>\n",
       "      <td>False</td>\n",
       "      <td>100210</td>\n",
       "      <td>A</td>\n",
       "      <td>3</td>\n",
       "    </tr>\n",
       "    <tr>\n",
       "      <th>3</th>\n",
       "      <td>1-100210-B-36.wav</td>\n",
       "      <td>1</td>\n",
       "      <td>36</td>\n",
       "      <td>vacuum_cleaner</td>\n",
       "      <td>False</td>\n",
       "      <td>100210</td>\n",
       "      <td>B</td>\n",
       "      <td>3</td>\n",
       "    </tr>\n",
       "    <tr>\n",
       "      <th>4</th>\n",
       "      <td>1-101296-A-19.wav</td>\n",
       "      <td>1</td>\n",
       "      <td>19</td>\n",
       "      <td>thunderstorm</td>\n",
       "      <td>False</td>\n",
       "      <td>101296</td>\n",
       "      <td>A</td>\n",
       "      <td>1</td>\n",
       "    </tr>\n",
       "  </tbody>\n",
       "</table>\n",
       "</div>"
      ],
      "text/plain": [
       "            filename  fold  target        category  esc10  src_file take  \\\n",
       "0   1-100032-A-0.wav     1       0             dog   True    100032    A   \n",
       "1  1-100038-A-14.wav     1      14  chirping_birds  False    100038    A   \n",
       "2  1-100210-A-36.wav     1      36  vacuum_cleaner  False    100210    A   \n",
       "3  1-100210-B-36.wav     1      36  vacuum_cleaner  False    100210    B   \n",
       "4  1-101296-A-19.wav     1      19    thunderstorm  False    101296    A   \n",
       "\n",
       "   h_category  \n",
       "0           0  \n",
       "1           1  \n",
       "2           3  \n",
       "3           3  \n",
       "4           1  "
      ]
     },
     "execution_count": 6,
     "metadata": {},
     "output_type": "execute_result"
    }
   ],
   "source": [
    "dataset.head()"
   ]
  },
  {
   "cell_type": "markdown",
   "metadata": {},
   "source": [
    "## Getting Preprocessed Data\n",
    "We allow for previously preprocessed data to be retrieved for faster training turnaround. If the fold has been preprocessed, it is loaded but if not it is processed and saved."
   ]
  },
  {
   "cell_type": "code",
   "execution_count": 7,
   "metadata": {},
   "outputs": [],
   "source": [
    "c_data = pd.concat([ps.preprocess_fold(fld, dataset) for fld in range(1,6)], ignore_index=True)"
   ]
  },
  {
   "cell_type": "code",
   "execution_count": 8,
   "metadata": {},
   "outputs": [
    {
     "data": {
      "text/html": [
       "<div>\n",
       "<style scoped>\n",
       "    .dataframe tbody tr th:only-of-type {\n",
       "        vertical-align: middle;\n",
       "    }\n",
       "\n",
       "    .dataframe tbody tr th {\n",
       "        vertical-align: top;\n",
       "    }\n",
       "\n",
       "    .dataframe thead th {\n",
       "        text-align: right;\n",
       "    }\n",
       "</style>\n",
       "<table border=\"1\" class=\"dataframe\">\n",
       "  <thead>\n",
       "    <tr style=\"text-align: right;\">\n",
       "      <th></th>\n",
       "      <th>0</th>\n",
       "      <th>1</th>\n",
       "      <th>2</th>\n",
       "      <th>3</th>\n",
       "      <th>4</th>\n",
       "      <th>5</th>\n",
       "      <th>6</th>\n",
       "      <th>7</th>\n",
       "      <th>8</th>\n",
       "      <th>9</th>\n",
       "      <th>...</th>\n",
       "      <th>29</th>\n",
       "      <th>30</th>\n",
       "      <th>31</th>\n",
       "      <th>32</th>\n",
       "      <th>33</th>\n",
       "      <th>34</th>\n",
       "      <th>35</th>\n",
       "      <th>36</th>\n",
       "      <th>37</th>\n",
       "      <th>target</th>\n",
       "    </tr>\n",
       "  </thead>\n",
       "  <tbody>\n",
       "    <tr>\n",
       "      <th>0</th>\n",
       "      <td>0.000000</td>\n",
       "      <td>0.000000</td>\n",
       "      <td>0.000000</td>\n",
       "      <td>0.000000</td>\n",
       "      <td>0.000000</td>\n",
       "      <td>0.000000</td>\n",
       "      <td>0.000000</td>\n",
       "      <td>0.000000</td>\n",
       "      <td>0.000000</td>\n",
       "      <td>0.000000</td>\n",
       "      <td>...</td>\n",
       "      <td>2.323366</td>\n",
       "      <td>5.238711</td>\n",
       "      <td>0.887285</td>\n",
       "      <td>-0.479714</td>\n",
       "      <td>-2.101468</td>\n",
       "      <td>-2.279721</td>\n",
       "      <td>-0.546664</td>\n",
       "      <td>0.781288</td>\n",
       "      <td>2.636188</td>\n",
       "      <td>0</td>\n",
       "    </tr>\n",
       "    <tr>\n",
       "      <th>1</th>\n",
       "      <td>83.621621</td>\n",
       "      <td>-50.483010</td>\n",
       "      <td>-31.115186</td>\n",
       "      <td>-3.566867</td>\n",
       "      <td>-19.398316</td>\n",
       "      <td>-14.354486</td>\n",
       "      <td>-4.658161</td>\n",
       "      <td>-14.146847</td>\n",
       "      <td>-16.949019</td>\n",
       "      <td>-1.723476</td>\n",
       "      <td>...</td>\n",
       "      <td>2.323366</td>\n",
       "      <td>5.238711</td>\n",
       "      <td>0.887285</td>\n",
       "      <td>-0.479714</td>\n",
       "      <td>-2.101468</td>\n",
       "      <td>-2.279721</td>\n",
       "      <td>-0.546664</td>\n",
       "      <td>0.781288</td>\n",
       "      <td>2.636188</td>\n",
       "      <td>0</td>\n",
       "    </tr>\n",
       "    <tr>\n",
       "      <th>2</th>\n",
       "      <td>109.848331</td>\n",
       "      <td>-110.083820</td>\n",
       "      <td>-54.568920</td>\n",
       "      <td>-30.153585</td>\n",
       "      <td>-58.985460</td>\n",
       "      <td>-5.598281</td>\n",
       "      <td>-5.862913</td>\n",
       "      <td>17.490401</td>\n",
       "      <td>12.544187</td>\n",
       "      <td>13.053928</td>\n",
       "      <td>...</td>\n",
       "      <td>2.323366</td>\n",
       "      <td>5.238711</td>\n",
       "      <td>0.887285</td>\n",
       "      <td>-0.479714</td>\n",
       "      <td>-2.101468</td>\n",
       "      <td>-2.279721</td>\n",
       "      <td>-0.546664</td>\n",
       "      <td>0.781288</td>\n",
       "      <td>2.636188</td>\n",
       "      <td>0</td>\n",
       "    </tr>\n",
       "    <tr>\n",
       "      <th>3</th>\n",
       "      <td>77.698670</td>\n",
       "      <td>-123.925469</td>\n",
       "      <td>-64.058169</td>\n",
       "      <td>-27.170063</td>\n",
       "      <td>-57.606930</td>\n",
       "      <td>-9.980594</td>\n",
       "      <td>6.718248</td>\n",
       "      <td>21.293678</td>\n",
       "      <td>15.173490</td>\n",
       "      <td>-1.113725</td>\n",
       "      <td>...</td>\n",
       "      <td>2.323366</td>\n",
       "      <td>5.238711</td>\n",
       "      <td>0.887285</td>\n",
       "      <td>-0.479714</td>\n",
       "      <td>-2.101468</td>\n",
       "      <td>-2.279721</td>\n",
       "      <td>-0.546664</td>\n",
       "      <td>0.781288</td>\n",
       "      <td>2.636188</td>\n",
       "      <td>0</td>\n",
       "    </tr>\n",
       "    <tr>\n",
       "      <th>4</th>\n",
       "      <td>58.790968</td>\n",
       "      <td>-133.719666</td>\n",
       "      <td>-76.282456</td>\n",
       "      <td>-25.140746</td>\n",
       "      <td>-54.371150</td>\n",
       "      <td>-13.053846</td>\n",
       "      <td>14.737484</td>\n",
       "      <td>17.361937</td>\n",
       "      <td>12.619366</td>\n",
       "      <td>-8.285872</td>\n",
       "      <td>...</td>\n",
       "      <td>2.323366</td>\n",
       "      <td>5.238711</td>\n",
       "      <td>0.887285</td>\n",
       "      <td>-0.479714</td>\n",
       "      <td>-2.101468</td>\n",
       "      <td>-2.279721</td>\n",
       "      <td>-0.546664</td>\n",
       "      <td>0.781288</td>\n",
       "      <td>2.636188</td>\n",
       "      <td>0</td>\n",
       "    </tr>\n",
       "  </tbody>\n",
       "</table>\n",
       "<p>5 rows × 39 columns</p>\n",
       "</div>"
      ],
      "text/plain": [
       "            0           1          2          3          4          5  \\\n",
       "0    0.000000    0.000000   0.000000   0.000000   0.000000   0.000000   \n",
       "1   83.621621  -50.483010 -31.115186  -3.566867 -19.398316 -14.354486   \n",
       "2  109.848331 -110.083820 -54.568920 -30.153585 -58.985460  -5.598281   \n",
       "3   77.698670 -123.925469 -64.058169 -27.170063 -57.606930  -9.980594   \n",
       "4   58.790968 -133.719666 -76.282456 -25.140746 -54.371150 -13.053846   \n",
       "\n",
       "           6          7          8          9   ...          29        30  \\\n",
       "0   0.000000   0.000000   0.000000   0.000000   ...    2.323366  5.238711   \n",
       "1  -4.658161 -14.146847 -16.949019  -1.723476   ...    2.323366  5.238711   \n",
       "2  -5.862913  17.490401  12.544187  13.053928   ...    2.323366  5.238711   \n",
       "3   6.718248  21.293678  15.173490  -1.113725   ...    2.323366  5.238711   \n",
       "4  14.737484  17.361937  12.619366  -8.285872   ...    2.323366  5.238711   \n",
       "\n",
       "         31        32        33        34        35        36        37  \\\n",
       "0  0.887285 -0.479714 -2.101468 -2.279721 -0.546664  0.781288  2.636188   \n",
       "1  0.887285 -0.479714 -2.101468 -2.279721 -0.546664  0.781288  2.636188   \n",
       "2  0.887285 -0.479714 -2.101468 -2.279721 -0.546664  0.781288  2.636188   \n",
       "3  0.887285 -0.479714 -2.101468 -2.279721 -0.546664  0.781288  2.636188   \n",
       "4  0.887285 -0.479714 -2.101468 -2.279721 -0.546664  0.781288  2.636188   \n",
       "\n",
       "   target  \n",
       "0       0  \n",
       "1       0  \n",
       "2       0  \n",
       "3       0  \n",
       "4       0  \n",
       "\n",
       "[5 rows x 39 columns]"
      ]
     },
     "execution_count": 8,
     "metadata": {},
     "output_type": "execute_result"
    }
   ],
   "source": [
    "c_data.head()"
   ]
  },
  {
   "cell_type": "code",
   "execution_count": 9,
   "metadata": {},
   "outputs": [],
   "source": [
    "n_categories = c_data.target.unique().size"
   ]
  },
  {
   "cell_type": "code",
   "execution_count": 10,
   "metadata": {},
   "outputs": [],
   "source": [
    "c_data, scalar = du.normalize_data(c_data, 'target')\n",
    "train, test = du.split_training_test(c_data, 0.2)\n",
    "train_X = train.drop(columns=['target'])\n",
    "train_y = train.target\n",
    "test_X = test.drop(columns=['target'])\n",
    "test_y = test.target"
   ]
  },
  {
   "cell_type": "markdown",
   "metadata": {},
   "source": [
    "## High-Level Shallow Nets\n",
    "Train binary shallow nets for high level categories(animals, natural, human, domestic, urban)"
   ]
  },
  {
   "cell_type": "code",
   "execution_count": 11,
   "metadata": {},
   "outputs": [
    {
     "name": "stdout",
     "output_type": "stream",
     "text": [
      "_________________________________________________________________\n",
      "Layer (type)                 Output Shape              Param #   \n",
      "=================================================================\n",
      "dense_1 (Dense)              (None, 38)                1482      \n",
      "_________________________________________________________________\n",
      "dropout_1 (Dropout)          (None, 38)                0         \n",
      "_________________________________________________________________\n",
      "dense_2 (Dense)              (None, 1)                 39        \n",
      "=================================================================\n",
      "Total params: 1,521\n",
      "Trainable params: 1,521\n",
      "Non-trainable params: 0\n",
      "_________________________________________________________________\n",
      "Epoch 1/20\n",
      "499474/499474 [==============================] - 30s 59us/step - loss: 0.5564\n",
      "Epoch 2/20\n",
      "499474/499474 [==============================] - 21s 43us/step - loss: 0.5111\n",
      "Epoch 3/20\n",
      "499474/499474 [==============================] - 21s 43us/step - loss: 0.4976\n",
      "Epoch 4/20\n",
      "499474/499474 [==============================] - 21s 42us/step - loss: 0.4916\n",
      "Epoch 5/20\n",
      "499474/499474 [==============================] - 21s 43us/step - loss: 0.4877\n",
      "Epoch 6/20\n",
      "499474/499474 [==============================] - 21s 42us/step - loss: 0.4834\n",
      "Epoch 7/20\n",
      "499474/499474 [==============================] - 21s 43us/step - loss: 0.4816\n",
      "Epoch 8/20\n",
      "499474/499474 [==============================] - 21s 42us/step - loss: 0.4789\n",
      "Epoch 9/20\n",
      "499474/499474 [==============================] - 22s 43us/step - loss: 0.4782\n",
      "Epoch 10/20\n",
      "499474/499474 [==============================] - 21s 42us/step - loss: 0.4772\n",
      "Epoch 11/20\n",
      "499474/499474 [==============================] - 21s 43us/step - loss: 0.4757\n",
      "Epoch 12/20\n",
      "499474/499474 [==============================] - 21s 43us/step - loss: 0.4742\n",
      "Epoch 13/20\n",
      "499474/499474 [==============================] - 21s 42us/step - loss: 0.4729\n",
      "Epoch 14/20\n",
      "499474/499474 [==============================] - 21s 42us/step - loss: 0.4720\n",
      "Epoch 15/20\n",
      "499474/499474 [==============================] - 21s 42us/step - loss: 0.4722\n",
      "Epoch 16/20\n",
      "499474/499474 [==============================] - 21s 41us/step - loss: 0.4717\n",
      "Epoch 17/20\n",
      "499474/499474 [==============================] - 21s 41us/step - loss: 0.4712\n",
      "Epoch 18/20\n",
      "499474/499474 [==============================] - 20s 41us/step - loss: 0.4709\n",
      "Epoch 19/20\n",
      "499474/499474 [==============================] - 20s 40us/step - loss: 0.4701\n",
      "Epoch 20/20\n",
      "499474/499474 [==============================] - 20s 41us/step - loss: 0.4706\n",
      "77749/77749 [==============================] - 1s 14us/step\n"
     ]
    },
    {
     "ename": "ValueError",
     "evalue": "The model is not configured to compute accuracy. You should pass `metrics=[\"accuracy\"]` to the `model.compile()` method.",
     "output_type": "error",
     "traceback": [
      "\u001b[0;31m---------------------------------------------------------------------------\u001b[0m",
      "\u001b[0;31mValueError\u001b[0m                                Traceback (most recent call last)",
      "\u001b[0;32m<ipython-input-11-edd44b30ffbc>\u001b[0m in \u001b[0;36m<module>\u001b[0;34m\u001b[0m\n\u001b[1;32m      7\u001b[0m     \u001b[0mclas\u001b[0m \u001b[0;34m=\u001b[0m \u001b[0mKerasClassifier\u001b[0m\u001b[0;34m(\u001b[0m\u001b[0mbuild_fn\u001b[0m\u001b[0;34m=\u001b[0m\u001b[0msnn_clas\u001b[0m\u001b[0;34m.\u001b[0m\u001b[0mcreate_baseline\u001b[0m\u001b[0;34m,\u001b[0m \u001b[0mepochs\u001b[0m\u001b[0;34m=\u001b[0m\u001b[0;36m20\u001b[0m\u001b[0;34m,\u001b[0m \u001b[0mbatch_size\u001b[0m\u001b[0;34m=\u001b[0m\u001b[0;36m128\u001b[0m\u001b[0;34m,\u001b[0m \u001b[0mverbose\u001b[0m\u001b[0;34m=\u001b[0m\u001b[0;36m1\u001b[0m\u001b[0;34m)\u001b[0m\u001b[0;34m\u001b[0m\u001b[0m\n\u001b[1;32m      8\u001b[0m     \u001b[0mclas\u001b[0m\u001b[0;34m.\u001b[0m\u001b[0mfit\u001b[0m\u001b[0;34m(\u001b[0m\u001b[0mxx\u001b[0m\u001b[0;34m,\u001b[0m \u001b[0myy\u001b[0m\u001b[0;34m)\u001b[0m\u001b[0;34m\u001b[0m\u001b[0m\n\u001b[0;32m----> 9\u001b[0;31m     \u001b[0mclas\u001b[0m\u001b[0;34m.\u001b[0m\u001b[0mscore\u001b[0m\u001b[0;34m(\u001b[0m\u001b[0mtest_X\u001b[0m\u001b[0;34m,\u001b[0m \u001b[0mtest_y\u001b[0m\u001b[0;34m.\u001b[0m\u001b[0mbetween\u001b[0m\u001b[0;34m(\u001b[0m\u001b[0mstart_i\u001b[0m\u001b[0;34m,\u001b[0m\u001b[0mend_i\u001b[0m\u001b[0;34m)\u001b[0m\u001b[0;34m)\u001b[0m\u001b[0;34m\u001b[0m\u001b[0m\n\u001b[0m\u001b[1;32m     10\u001b[0m     \u001b[0mhl_shallow\u001b[0m\u001b[0;34m[\u001b[0m\u001b[0mh_classes\u001b[0m\u001b[0;34m[\u001b[0m\u001b[0mi\u001b[0m\u001b[0;34m]\u001b[0m\u001b[0;34m]\u001b[0m \u001b[0;34m=\u001b[0m \u001b[0mclas\u001b[0m\u001b[0;34m\u001b[0m\u001b[0m\n",
      "\u001b[0;32m~/anaconda3/envs/deep-audio/lib/python3.6/site-packages/keras/wrappers/scikit_learn.py\u001b[0m in \u001b[0;36mscore\u001b[0;34m(self, x, y, **kwargs)\u001b[0m\n\u001b[1;32m    297\u001b[0m             \u001b[0;32mif\u001b[0m \u001b[0mname\u001b[0m \u001b[0;34m==\u001b[0m \u001b[0;34m'acc'\u001b[0m\u001b[0;34m:\u001b[0m\u001b[0;34m\u001b[0m\u001b[0m\n\u001b[1;32m    298\u001b[0m                 \u001b[0;32mreturn\u001b[0m \u001b[0moutput\u001b[0m\u001b[0;34m\u001b[0m\u001b[0m\n\u001b[0;32m--> 299\u001b[0;31m         raise ValueError('The model is not configured to compute accuracy. '\n\u001b[0m\u001b[1;32m    300\u001b[0m                          \u001b[0;34m'You should pass `metrics=[\"accuracy\"]` to '\u001b[0m\u001b[0;34m\u001b[0m\u001b[0m\n\u001b[1;32m    301\u001b[0m                          'the `model.compile()` method.')\n",
      "\u001b[0;31mValueError\u001b[0m: The model is not configured to compute accuracy. You should pass `metrics=[\"accuracy\"]` to the `model.compile()` method."
     ]
    }
   ],
   "source": [
    "hl_shallow = {}\n",
    "for i in range(0,5):\n",
    "    start_i = i * 10\n",
    "    end_i = ((i + 1) * 10) - 1\n",
    "#     Get equally distributed set of positive and negative instances\n",
    "    xx, yy = du.balanced_supersample(train_X, train_y.between(start_i, end_i))\n",
    "    clas = KerasClassifier(build_fn=snn_clas.create_baseline, epochs=20, batch_size=128, verbose=1)\n",
    "    clas.fit(xx, yy)\n",
    "    clas.score(test_X, test_y.between(start_i,end_i))\n",
    "    hl_shallow[h_classes[i]] = clas"
   ]
  },
  {
   "cell_type": "code",
   "execution_count": null,
   "metadata": {},
   "outputs": [],
   "source": [
    "from classification_plots import plot_confusion_matrix\n",
    "import matplotlib.pyplot as plt\n",
    "for i in range(0,5):\n",
    "    start_i = i * 10\n",
    "    end_i = ((i + 1) * 10) - 1\n",
    "    pred = list(hl_shallow[h_classes[i]].predict(test_X))\n",
    "    print(str(h_classes[i]) + \": \" + \n",
    "          str(metrics.accuracy_score(test_y.between(start_i, end_i), pred)))\n",
    "    \n",
    "    cm = metrics.confusion_matrix(test_y.between(start_i, end_i), pred)\n",
    "    plot_confusion_matrix(cm, ['False', 'True'])\n",
    "    plt.show()"
   ]
  },
  {
   "cell_type": "markdown",
   "metadata": {},
   "source": [
    "# Low-Level Deep Net"
   ]
  },
  {
   "cell_type": "code",
   "execution_count": null,
   "metadata": {},
   "outputs": [],
   "source": [
    "import reduced_dnn_classifier as dnn_clas\n",
    "hl_deep = {}\n",
    "for i in range(0,5):\n",
    "    start_i = i * 10\n",
    "    end_i = ((i + 1) * 10) - 1\n",
    "    tmp = train_y.between(start_i, end_i)\n",
    "    this_train_y = train_y[tmp] - start_i\n",
    "    this_train_X = train_X[tmp]\n",
    "    tmp = test_y.between(start_i, end_i)\n",
    "    this_test_y = test_y[tmp] - start_i\n",
    "    this_test_X = test_X[tmp]\n",
    "    clas = KerasClassifier(build_fn=dnn_clas.create_baseline, epochs=20, batch_size=128, verbose=1)\n",
    "    clas.fit(this_train_X, this_train_y)\n",
    "    clas.score(this_test_X, this_test_y)\n",
    "    hl_deep[h_classes[i]] = clas"
   ]
  },
  {
   "cell_type": "markdown",
   "metadata": {},
   "source": [
    "## Scoring\n",
    "Here we get the log likelihood of the categories when matched with its training data"
   ]
  },
  {
   "cell_type": "code",
   "execution_count": null,
   "metadata": {
    "scrolled": true
   },
   "outputs": [],
   "source": [
    "import numpy as np\n",
    "for i in range(0,5):\n",
    "    start_i = i * 10\n",
    "    end_i = ((i + 1) * 10) - 1\n",
    "    tmp = test_y.between(start_i, end_i)\n",
    "    this_test_y = test_y[tmp] - start_i\n",
    "    this_test_X = test_X[tmp]\n",
    "    pred = list(hl_deep[h_classes[i]].predict(this_test_X))\n",
    "    print(str(h_classes[i]) + \": \" + \n",
    "          str(metrics.accuracy_score(this_test_y, pred)))\n",
    "    \n",
    "    cm = metrics.confusion_matrix(test_y[tmp], np.array(pred) + start_i)\n",
    "    plot_confusion_matrix(cm, classes[start_i:end_i])\n",
    "    plt.show()"
   ]
  },
  {
   "cell_type": "markdown",
   "metadata": {},
   "source": [
    "## Full Evaluation\n",
    "We combine the classifiers to determine overall performance"
   ]
  },
  {
   "cell_type": "code",
   "execution_count": null,
   "metadata": {},
   "outputs": [],
   "source": [
    "res_shallow_y = [None] * 5\n",
    "res_deep_y = [None] * 5\n",
    "for i in range(0,5):\n",
    "    res_shallow_y[i] = list(hl_shallow[h_classes[i]].predict(test_X))\n",
    "    res_deep_y[i] = list(hl_deep[h_classes[i]].predict(test_X))"
   ]
  },
  {
   "cell_type": "code",
   "execution_count": null,
   "metadata": {},
   "outputs": [],
   "source": [
    "print(res_shallow_y)"
   ]
  },
  {
   "cell_type": "code",
   "execution_count": null,
   "metadata": {},
   "outputs": [],
   "source": [
    "print(res_deep_y)"
   ]
  },
  {
   "cell_type": "code",
   "execution_count": null,
   "metadata": {},
   "outputs": [],
   "source": [
    "res_y = [0] * len(res_shallow_y[0])\n",
    "for i in range(0, len(res_y)):\n",
    "    if res_shallow_y[0][i] == 1:\n",
    "        res_y[i] = res_deep_y[0][i]\n",
    "    elif res_shallow_y[1][i] == 1:\n",
    "        res_y[i] = res_deep_y[1][i] + 10\n",
    "    elif res_shallow_y[2][i] == 1:\n",
    "        res_y[i] = res_deep_y[2][i] + 20\n",
    "    elif res_shallow_y[3][i] == 1:\n",
    "        res_y[i] = res_deep_y[3][i] + 30\n",
    "    elif res_shallow_y[4][i] == 1:\n",
    "        res_y[i] = res_deep_y[4][i] + 40"
   ]
  },
  {
   "cell_type": "code",
   "execution_count": null,
   "metadata": {},
   "outputs": [],
   "source": [
    "print(res_y)"
   ]
  },
  {
   "cell_type": "code",
   "execution_count": null,
   "metadata": {},
   "outputs": [],
   "source": [
    "from classification_plots import plot_confusion_matrix\n",
    "cm = metrics.confusion_matrix(test_y, res_y)"
   ]
  },
  {
   "cell_type": "code",
   "execution_count": null,
   "metadata": {},
   "outputs": [],
   "source": [
    "print(str(\"Accuracy: \" + \n",
    "      str(metrics.accuracy_score(test_y, res_y))))"
   ]
  },
  {
   "cell_type": "code",
   "execution_count": null,
   "metadata": {},
   "outputs": [],
   "source": [
    "import matplotlib.pyplot as plt\n",
    "plt.figure(figsize=(25,25))\n",
    "plot_confusion_matrix(cm, classes)"
   ]
  },
  {
   "cell_type": "markdown",
   "metadata": {},
   "source": [
    "## Basic Probability of File Category\n",
    "We run our classifier over the file's audio frames and use basic averages to determine the probability of it belonging to a class. (Should in future have classifier give probability scores for each category for each frame but... thats future work)"
   ]
  },
  {
   "cell_type": "code",
   "execution_count": null,
   "metadata": {},
   "outputs": [],
   "source": [
    "print(classes)"
   ]
  },
  {
   "cell_type": "code",
   "execution_count": null,
   "metadata": {},
   "outputs": [],
   "source": [
    "from collections import Counter\n",
    "def file_probability(filename, clas, preprocessor, class_list):\n",
    "    test_file = pd.DataFrame(preprocessor.preprocess(filename))\n",
    "    predictions = [class_list[i] for i in list(clas.predict(test_file))]\n",
    "    sns.countplot(predictions)\n",
    "    c = Counter(predictions)\n",
    "    return [(i, c[i] / len(predictions) * 100.0) for i, count in c.most_common()]"
   ]
  },
  {
   "cell_type": "code",
   "execution_count": null,
   "metadata": {
    "scrolled": true
   },
   "outputs": [],
   "source": [
    "plt.figure(figsize=(10,10))\n",
    "file = dataset.filename.sample(n=1).values[0]\n",
    "file_probability(file, clas, preprocess, classes)"
   ]
  },
  {
   "cell_type": "code",
   "execution_count": null,
   "metadata": {},
   "outputs": [],
   "source": [
    "dataset[dataset.filename == file]"
   ]
  },
  {
   "cell_type": "code",
   "execution_count": null,
   "metadata": {},
   "outputs": [],
   "source": []
  }
 ],
 "metadata": {
  "kernelspec": {
   "display_name": "Python 3",
   "language": "python",
   "name": "python3"
  },
  "language_info": {
   "codemirror_mode": {
    "name": "ipython",
    "version": 3
   },
   "file_extension": ".py",
   "mimetype": "text/x-python",
   "name": "python",
   "nbconvert_exporter": "python",
   "pygments_lexer": "ipython3",
   "version": "3.6.6"
  }
 },
 "nbformat": 4,
 "nbformat_minor": 2
}
