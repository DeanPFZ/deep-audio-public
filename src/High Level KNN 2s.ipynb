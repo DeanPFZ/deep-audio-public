{
 "cells": [
  {
   "cell_type": "code",
   "execution_count": 1,
   "metadata": {},
   "outputs": [
    {
     "name": "stderr",
     "output_type": "stream",
     "text": [
      "Using TensorFlow backend.\n"
     ]
    },
    {
     "name": "stdout",
     "output_type": "stream",
     "text": [
      "WARNING:tensorflow:From /usr/local/lib/python3.5/dist-packages/magenta/models/nsynth/wavenet/masked.py:116: UniformUnitScaling.__init__ (from tensorflow.python.ops.init_ops) is deprecated and will be removed in a future version.\n",
      "Instructions for updating:\n",
      "Use tf.initializers.variance_scaling instead with distribution=uniform to get equivalent behavior.\n"
     ]
    }
   ],
   "source": [
    "import pandas as pd\n",
    "from preprocess import Audio_Processor\n",
    "from sklearn import metrics\n",
    "from classification_plots import plot_confusion_matrix, plot_learning_curve\n",
    "import matplotlib.pyplot as plt\n",
    "import os\n",
    "from sklearn.neighbors import KNeighborsClassifier as KNN"
   ]
  },
  {
   "cell_type": "code",
   "execution_count": 2,
   "metadata": {},
   "outputs": [],
   "source": [
    "# Able to specify which GPU to use\n",
    "os.environ[\"CUDA_VISIBLE_DEVICES\"]=\"1\"\n",
    "\n",
    "SR = 44100\n",
    "blocksize = 88200\n",
    "overlap = 22050"
   ]
  },
  {
   "cell_type": "code",
   "execution_count": 3,
   "metadata": {},
   "outputs": [],
   "source": [
    "import warnings\n",
    "warnings.filterwarnings('ignore')"
   ]
  },
  {
   "cell_type": "markdown",
   "metadata": {},
   "source": [
    "# Setup"
   ]
  },
  {
   "cell_type": "code",
   "execution_count": 4,
   "metadata": {},
   "outputs": [],
   "source": [
    "audio_dir = '../ESC-50/audio/'"
   ]
  },
  {
   "cell_type": "code",
   "execution_count": 5,
   "metadata": {},
   "outputs": [],
   "source": [
    "path_to_db='../ESC-50/'\n",
    "ps = Audio_Processor(path_to_db + 'audio/')"
   ]
  },
  {
   "cell_type": "markdown",
   "metadata": {},
   "source": [
    "# Load Dataset\n",
    "Here we load the csv that describes each file in the dataset. We add a high level category that is defined in the ESC-50 documentation. This we realize is anthetical to true training, it is a stopgap for when we use NLP to classify tags into these categories."
   ]
  },
  {
   "cell_type": "code",
   "execution_count": 6,
   "metadata": {},
   "outputs": [],
   "source": [
    "dataset = pd.read_csv(path_to_db + 'meta/esc50.csv')\n",
    "classes = [None] * 50"
   ]
  },
  {
   "cell_type": "code",
   "execution_count": 7,
   "metadata": {},
   "outputs": [],
   "source": [
    "h_classes = ['Human & Animal', 'Interacting Materials']\n",
    "mapping = {'dog': 0,'rooster': 0,'pig': 0,'cow': 0,'frog': 0,'cat': 0,'hen': 0,\n",
    "            'insects': 0,'sheep': 0,'crow': 0,'rain': 1,'sea_waves': 1,'crackling_fire': 1,\n",
    "            'crickets': 0,'chirping_birds': 0,'water_drops': 1,'wind': 1,'pouring_water': 1,\n",
    "            'toilet_flush': 1,'thunderstorm': 1,'crying_baby': 0,'sneezing': 0,'clapping': 0,\n",
    "            'breathing': 0,'coughing': 0,'footsteps': 1,'laughing': 0,'brushing_teeth': 1,\n",
    "            'snoring': 0,'drinking_sipping': 1,'door_wood_knock': 1,'mouse_click': 1,\n",
    "            'keyboard_typing': 1,'door_wood_creaks': 1,'can_opening': 1,'washing_machine': 1,\n",
    "            'vacuum_cleaner': 1,'clock_alarm': 1,'clock_tick': 1,'glass_breaking':1,'helicopter': 1,\n",
    "            'chainsaw': 1,'siren': 1,'car_horn': 1,'engine': 1,'train': 1,'church_bells': 1,\n",
    "            'airplane': 1,'fireworks': 1,'hand_saw': 1,\n",
    "            }"
   ]
  },
  {
   "cell_type": "code",
   "execution_count": 8,
   "metadata": {},
   "outputs": [],
   "source": [
    "dataset['h_category'] = None\n",
    "for index, row in dataset.iterrows():\n",
    "    target = row['target']\n",
    "    classes[target] = row['category']\n",
    "    dataset.loc[index, 'h_category'] = mapping[row['category']]"
   ]
  },
  {
   "cell_type": "code",
   "execution_count": 9,
   "metadata": {},
   "outputs": [
    {
     "data": {
      "text/html": [
       "<div>\n",
       "<style scoped>\n",
       "    .dataframe tbody tr th:only-of-type {\n",
       "        vertical-align: middle;\n",
       "    }\n",
       "\n",
       "    .dataframe tbody tr th {\n",
       "        vertical-align: top;\n",
       "    }\n",
       "\n",
       "    .dataframe thead th {\n",
       "        text-align: right;\n",
       "    }\n",
       "</style>\n",
       "<table border=\"1\" class=\"dataframe\">\n",
       "  <thead>\n",
       "    <tr style=\"text-align: right;\">\n",
       "      <th></th>\n",
       "      <th>filename</th>\n",
       "      <th>fold</th>\n",
       "      <th>target</th>\n",
       "      <th>category</th>\n",
       "      <th>esc10</th>\n",
       "      <th>src_file</th>\n",
       "      <th>take</th>\n",
       "      <th>h_category</th>\n",
       "    </tr>\n",
       "  </thead>\n",
       "  <tbody>\n",
       "    <tr>\n",
       "      <th>0</th>\n",
       "      <td>1-100032-A-0.wav</td>\n",
       "      <td>1</td>\n",
       "      <td>0</td>\n",
       "      <td>dog</td>\n",
       "      <td>True</td>\n",
       "      <td>100032</td>\n",
       "      <td>A</td>\n",
       "      <td>0</td>\n",
       "    </tr>\n",
       "    <tr>\n",
       "      <th>1</th>\n",
       "      <td>1-100038-A-14.wav</td>\n",
       "      <td>1</td>\n",
       "      <td>14</td>\n",
       "      <td>chirping_birds</td>\n",
       "      <td>False</td>\n",
       "      <td>100038</td>\n",
       "      <td>A</td>\n",
       "      <td>0</td>\n",
       "    </tr>\n",
       "    <tr>\n",
       "      <th>2</th>\n",
       "      <td>1-100210-A-36.wav</td>\n",
       "      <td>1</td>\n",
       "      <td>36</td>\n",
       "      <td>vacuum_cleaner</td>\n",
       "      <td>False</td>\n",
       "      <td>100210</td>\n",
       "      <td>A</td>\n",
       "      <td>1</td>\n",
       "    </tr>\n",
       "    <tr>\n",
       "      <th>3</th>\n",
       "      <td>1-100210-B-36.wav</td>\n",
       "      <td>1</td>\n",
       "      <td>36</td>\n",
       "      <td>vacuum_cleaner</td>\n",
       "      <td>False</td>\n",
       "      <td>100210</td>\n",
       "      <td>B</td>\n",
       "      <td>1</td>\n",
       "    </tr>\n",
       "    <tr>\n",
       "      <th>4</th>\n",
       "      <td>1-101296-A-19.wav</td>\n",
       "      <td>1</td>\n",
       "      <td>19</td>\n",
       "      <td>thunderstorm</td>\n",
       "      <td>False</td>\n",
       "      <td>101296</td>\n",
       "      <td>A</td>\n",
       "      <td>1</td>\n",
       "    </tr>\n",
       "  </tbody>\n",
       "</table>\n",
       "</div>"
      ],
      "text/plain": [
       "            filename  fold  target        category  esc10  src_file take  \\\n",
       "0   1-100032-A-0.wav     1       0             dog   True    100032    A   \n",
       "1  1-100038-A-14.wav     1      14  chirping_birds  False    100038    A   \n",
       "2  1-100210-A-36.wav     1      36  vacuum_cleaner  False    100210    A   \n",
       "3  1-100210-B-36.wav     1      36  vacuum_cleaner  False    100210    B   \n",
       "4  1-101296-A-19.wav     1      19    thunderstorm  False    101296    A   \n",
       "\n",
       "   h_category  \n",
       "0           0  \n",
       "1           0  \n",
       "2           1  \n",
       "3           1  \n",
       "4           1  "
      ]
     },
     "execution_count": 9,
     "metadata": {},
     "output_type": "execute_result"
    }
   ],
   "source": [
    "dataset.head()"
   ]
  },
  {
   "cell_type": "markdown",
   "metadata": {},
   "source": [
    "## Getting Preprocessed Data\n",
    "We allow for previously preprocessed data to be retrieved for faster training turnaround. If the fold has been preprocessed, it is loaded but if not it is processed and saved."
   ]
  },
  {
   "cell_type": "code",
   "execution_count": 10,
   "metadata": {},
   "outputs": [],
   "source": [
    "df = ps.preprocess_fold(dataset, \n",
    "                        kind='mfcc', \n",
    "                        fld=range(2,6), \n",
    "                        blocksize=blocksize, \n",
    "                        overlap=overlap)"
   ]
  },
  {
   "cell_type": "code",
   "execution_count": 11,
   "metadata": {},
   "outputs": [
    {
     "data": {
      "text/html": [
       "<div>\n",
       "<style scoped>\n",
       "    .dataframe tbody tr th:only-of-type {\n",
       "        vertical-align: middle;\n",
       "    }\n",
       "\n",
       "    .dataframe tbody tr th {\n",
       "        vertical-align: top;\n",
       "    }\n",
       "\n",
       "    .dataframe thead th {\n",
       "        text-align: right;\n",
       "    }\n",
       "</style>\n",
       "<table border=\"1\" class=\"dataframe\">\n",
       "  <thead>\n",
       "    <tr style=\"text-align: right;\">\n",
       "      <th></th>\n",
       "      <th>0</th>\n",
       "      <th>1</th>\n",
       "      <th>2</th>\n",
       "      <th>3</th>\n",
       "      <th>4</th>\n",
       "      <th>5</th>\n",
       "      <th>6</th>\n",
       "      <th>7</th>\n",
       "      <th>8</th>\n",
       "      <th>9</th>\n",
       "      <th>...</th>\n",
       "      <th>106</th>\n",
       "      <th>107</th>\n",
       "      <th>108</th>\n",
       "      <th>109</th>\n",
       "      <th>110</th>\n",
       "      <th>111</th>\n",
       "      <th>112</th>\n",
       "      <th>113</th>\n",
       "      <th>l_target</th>\n",
       "      <th>h_target</th>\n",
       "    </tr>\n",
       "  </thead>\n",
       "  <tbody>\n",
       "    <tr>\n",
       "      <th>count</th>\n",
       "      <td>4538.000000</td>\n",
       "      <td>4538.000000</td>\n",
       "      <td>4538.000000</td>\n",
       "      <td>4538.000000</td>\n",
       "      <td>4538.000000</td>\n",
       "      <td>4538.000000</td>\n",
       "      <td>4538.000000</td>\n",
       "      <td>4538.000000</td>\n",
       "      <td>4538.000000</td>\n",
       "      <td>4538.000000</td>\n",
       "      <td>...</td>\n",
       "      <td>4538.000000</td>\n",
       "      <td>4538.000000</td>\n",
       "      <td>4538.000000</td>\n",
       "      <td>4538.000000</td>\n",
       "      <td>4538.000000</td>\n",
       "      <td>4538.000000</td>\n",
       "      <td>4538.000000</td>\n",
       "      <td>4538.000000</td>\n",
       "      <td>4538.000000</td>\n",
       "      <td>4538.000000</td>\n",
       "    </tr>\n",
       "    <tr>\n",
       "      <th>mean</th>\n",
       "      <td>48.430784</td>\n",
       "      <td>50.418929</td>\n",
       "      <td>35.734120</td>\n",
       "      <td>31.474226</td>\n",
       "      <td>28.507680</td>\n",
       "      <td>26.971181</td>\n",
       "      <td>25.125723</td>\n",
       "      <td>25.069451</td>\n",
       "      <td>23.399979</td>\n",
       "      <td>23.032275</td>\n",
       "      <td>...</td>\n",
       "      <td>-0.010097</td>\n",
       "      <td>0.009135</td>\n",
       "      <td>-0.008238</td>\n",
       "      <td>0.006505</td>\n",
       "      <td>-0.007245</td>\n",
       "      <td>0.004310</td>\n",
       "      <td>-0.004971</td>\n",
       "      <td>0.003052</td>\n",
       "      <td>0.623402</td>\n",
       "      <td>24.497135</td>\n",
       "    </tr>\n",
       "    <tr>\n",
       "      <th>std</th>\n",
       "      <td>25.369643</td>\n",
       "      <td>28.666028</td>\n",
       "      <td>16.331744</td>\n",
       "      <td>13.891217</td>\n",
       "      <td>12.231724</td>\n",
       "      <td>11.416638</td>\n",
       "      <td>10.456013</td>\n",
       "      <td>10.425420</td>\n",
       "      <td>9.544580</td>\n",
       "      <td>9.385765</td>\n",
       "      <td>...</td>\n",
       "      <td>0.030425</td>\n",
       "      <td>0.029254</td>\n",
       "      <td>0.027525</td>\n",
       "      <td>0.027105</td>\n",
       "      <td>0.025615</td>\n",
       "      <td>0.025173</td>\n",
       "      <td>0.024499</td>\n",
       "      <td>0.023142</td>\n",
       "      <td>0.484586</td>\n",
       "      <td>14.519294</td>\n",
       "    </tr>\n",
       "    <tr>\n",
       "      <th>min</th>\n",
       "      <td>0.000000</td>\n",
       "      <td>0.000000</td>\n",
       "      <td>0.000000</td>\n",
       "      <td>0.000000</td>\n",
       "      <td>0.000000</td>\n",
       "      <td>0.000000</td>\n",
       "      <td>0.000000</td>\n",
       "      <td>0.000000</td>\n",
       "      <td>0.000000</td>\n",
       "      <td>0.000000</td>\n",
       "      <td>...</td>\n",
       "      <td>-0.156495</td>\n",
       "      <td>-0.139783</td>\n",
       "      <td>-0.155228</td>\n",
       "      <td>-0.126032</td>\n",
       "      <td>-0.139114</td>\n",
       "      <td>-0.121857</td>\n",
       "      <td>-0.126223</td>\n",
       "      <td>-0.122716</td>\n",
       "      <td>0.000000</td>\n",
       "      <td>0.000000</td>\n",
       "    </tr>\n",
       "    <tr>\n",
       "      <th>25%</th>\n",
       "      <td>29.474898</td>\n",
       "      <td>27.023068</td>\n",
       "      <td>23.575613</td>\n",
       "      <td>21.494624</td>\n",
       "      <td>20.154840</td>\n",
       "      <td>19.262486</td>\n",
       "      <td>18.013971</td>\n",
       "      <td>18.408166</td>\n",
       "      <td>17.044587</td>\n",
       "      <td>16.872658</td>\n",
       "      <td>...</td>\n",
       "      <td>-0.025173</td>\n",
       "      <td>-0.007681</td>\n",
       "      <td>-0.022001</td>\n",
       "      <td>-0.009076</td>\n",
       "      <td>-0.020681</td>\n",
       "      <td>-0.010344</td>\n",
       "      <td>-0.018532</td>\n",
       "      <td>-0.010127</td>\n",
       "      <td>0.000000</td>\n",
       "      <td>12.000000</td>\n",
       "    </tr>\n",
       "    <tr>\n",
       "      <th>50%</th>\n",
       "      <td>46.511030</td>\n",
       "      <td>47.030497</td>\n",
       "      <td>36.043425</td>\n",
       "      <td>31.848399</td>\n",
       "      <td>29.220590</td>\n",
       "      <td>27.193243</td>\n",
       "      <td>25.594728</td>\n",
       "      <td>25.610608</td>\n",
       "      <td>23.754334</td>\n",
       "      <td>23.560967</td>\n",
       "      <td>...</td>\n",
       "      <td>-0.005667</td>\n",
       "      <td>0.004993</td>\n",
       "      <td>-0.004546</td>\n",
       "      <td>0.003025</td>\n",
       "      <td>-0.004265</td>\n",
       "      <td>0.001313</td>\n",
       "      <td>-0.002949</td>\n",
       "      <td>0.000857</td>\n",
       "      <td>1.000000</td>\n",
       "      <td>24.000000</td>\n",
       "    </tr>\n",
       "    <tr>\n",
       "      <th>75%</th>\n",
       "      <td>64.705746</td>\n",
       "      <td>71.098213</td>\n",
       "      <td>46.809207</td>\n",
       "      <td>40.794668</td>\n",
       "      <td>36.352064</td>\n",
       "      <td>34.705359</td>\n",
       "      <td>32.375933</td>\n",
       "      <td>32.125075</td>\n",
       "      <td>30.069079</td>\n",
       "      <td>29.619586</td>\n",
       "      <td>...</td>\n",
       "      <td>0.006257</td>\n",
       "      <td>0.024001</td>\n",
       "      <td>0.006862</td>\n",
       "      <td>0.019628</td>\n",
       "      <td>0.007518</td>\n",
       "      <td>0.017877</td>\n",
       "      <td>0.008707</td>\n",
       "      <td>0.015849</td>\n",
       "      <td>1.000000</td>\n",
       "      <td>37.000000</td>\n",
       "    </tr>\n",
       "    <tr>\n",
       "      <th>max</th>\n",
       "      <td>162.944580</td>\n",
       "      <td>148.114151</td>\n",
       "      <td>93.262978</td>\n",
       "      <td>89.367409</td>\n",
       "      <td>91.938995</td>\n",
       "      <td>68.260246</td>\n",
       "      <td>67.058037</td>\n",
       "      <td>67.830833</td>\n",
       "      <td>60.431767</td>\n",
       "      <td>62.603237</td>\n",
       "      <td>...</td>\n",
       "      <td>0.140499</td>\n",
       "      <td>0.153488</td>\n",
       "      <td>0.142751</td>\n",
       "      <td>0.147354</td>\n",
       "      <td>0.146182</td>\n",
       "      <td>0.147818</td>\n",
       "      <td>0.146564</td>\n",
       "      <td>0.131608</td>\n",
       "      <td>1.000000</td>\n",
       "      <td>49.000000</td>\n",
       "    </tr>\n",
       "  </tbody>\n",
       "</table>\n",
       "<p>8 rows × 116 columns</p>\n",
       "</div>"
      ],
      "text/plain": [
       "                 0            1            2            3            4  \\\n",
       "count  4538.000000  4538.000000  4538.000000  4538.000000  4538.000000   \n",
       "mean     48.430784    50.418929    35.734120    31.474226    28.507680   \n",
       "std      25.369643    28.666028    16.331744    13.891217    12.231724   \n",
       "min       0.000000     0.000000     0.000000     0.000000     0.000000   \n",
       "25%      29.474898    27.023068    23.575613    21.494624    20.154840   \n",
       "50%      46.511030    47.030497    36.043425    31.848399    29.220590   \n",
       "75%      64.705746    71.098213    46.809207    40.794668    36.352064   \n",
       "max     162.944580   148.114151    93.262978    89.367409    91.938995   \n",
       "\n",
       "                 5            6            7            8            9  \\\n",
       "count  4538.000000  4538.000000  4538.000000  4538.000000  4538.000000   \n",
       "mean     26.971181    25.125723    25.069451    23.399979    23.032275   \n",
       "std      11.416638    10.456013    10.425420     9.544580     9.385765   \n",
       "min       0.000000     0.000000     0.000000     0.000000     0.000000   \n",
       "25%      19.262486    18.013971    18.408166    17.044587    16.872658   \n",
       "50%      27.193243    25.594728    25.610608    23.754334    23.560967   \n",
       "75%      34.705359    32.375933    32.125075    30.069079    29.619586   \n",
       "max      68.260246    67.058037    67.830833    60.431767    62.603237   \n",
       "\n",
       "          ...               106          107          108          109  \\\n",
       "count     ...       4538.000000  4538.000000  4538.000000  4538.000000   \n",
       "mean      ...         -0.010097     0.009135    -0.008238     0.006505   \n",
       "std       ...          0.030425     0.029254     0.027525     0.027105   \n",
       "min       ...         -0.156495    -0.139783    -0.155228    -0.126032   \n",
       "25%       ...         -0.025173    -0.007681    -0.022001    -0.009076   \n",
       "50%       ...         -0.005667     0.004993    -0.004546     0.003025   \n",
       "75%       ...          0.006257     0.024001     0.006862     0.019628   \n",
       "max       ...          0.140499     0.153488     0.142751     0.147354   \n",
       "\n",
       "               110          111          112          113     l_target  \\\n",
       "count  4538.000000  4538.000000  4538.000000  4538.000000  4538.000000   \n",
       "mean     -0.007245     0.004310    -0.004971     0.003052     0.623402   \n",
       "std       0.025615     0.025173     0.024499     0.023142     0.484586   \n",
       "min      -0.139114    -0.121857    -0.126223    -0.122716     0.000000   \n",
       "25%      -0.020681    -0.010344    -0.018532    -0.010127     0.000000   \n",
       "50%      -0.004265     0.001313    -0.002949     0.000857     1.000000   \n",
       "75%       0.007518     0.017877     0.008707     0.015849     1.000000   \n",
       "max       0.146182     0.147818     0.146564     0.131608     1.000000   \n",
       "\n",
       "          h_target  \n",
       "count  4538.000000  \n",
       "mean     24.497135  \n",
       "std      14.519294  \n",
       "min       0.000000  \n",
       "25%      12.000000  \n",
       "50%      24.000000  \n",
       "75%      37.000000  \n",
       "max      49.000000  \n",
       "\n",
       "[8 rows x 116 columns]"
      ]
     },
     "execution_count": 11,
     "metadata": {},
     "output_type": "execute_result"
    }
   ],
   "source": [
    "df.describe()"
   ]
  },
  {
   "cell_type": "code",
   "execution_count": 12,
   "metadata": {},
   "outputs": [],
   "source": [
    "from sklearn.model_selection import train_test_split\n",
    "train, test, = train_test_split(\n",
    "                        df, test_size=0.20, random_state=42)"
   ]
  },
  {
   "cell_type": "code",
   "execution_count": 13,
   "metadata": {},
   "outputs": [],
   "source": [
    "from sklearn.preprocessing import normalize\n",
    "\n",
    "train_X = normalize(train.drop(['l_target', 'h_target'], axis=1))\n",
    "train_y = train['l_target']\n",
    "test_X = normalize(test.drop(['l_target', 'h_target'], axis=1))\n",
    "test_y = test['l_target']"
   ]
  },
  {
   "cell_type": "markdown",
   "metadata": {},
   "source": [
    "# KNN Grid Search"
   ]
  },
  {
   "cell_type": "code",
   "execution_count": 14,
   "metadata": {},
   "outputs": [
    {
     "data": {
      "text/plain": [
       "GridSearchCV(cv=5, error_score='raise-deprecating',\n",
       "       estimator=KNeighborsClassifier(algorithm='ball_tree', leaf_size=30, metric='minkowski',\n",
       "           metric_params=None, n_jobs=None, n_neighbors=15, p=2,\n",
       "           weights='uniform'),\n",
       "       fit_params=None, iid='warn', n_jobs=None,\n",
       "       param_grid={'n_neighbors': range(5, 25), 'algorithm': ('ball_tree', 'kd_tree', 'brute')},\n",
       "       pre_dispatch='2*n_jobs', refit=True, return_train_score='warn',\n",
       "       scoring=None, verbose=0)"
      ]
     },
     "execution_count": 14,
     "metadata": {},
     "output_type": "execute_result"
    }
   ],
   "source": [
    "from sklearn.model_selection import GridSearchCV\n",
    "params = {\n",
    "          'n_neighbors': range(5,25,1),\n",
    "          'algorithm': ('ball_tree', 'kd_tree', 'brute')\n",
    "         }\n",
    "\n",
    "knn = KNN(n_neighbors=15, algorithm='ball_tree')\n",
    "\n",
    "clf = GridSearchCV(knn, params, cv=5)\n",
    "\n",
    "clf.fit(train_X, train_y)"
   ]
  },
  {
   "cell_type": "code",
   "execution_count": 15,
   "metadata": {},
   "outputs": [
    {
     "data": {
      "text/plain": [
       "['mean_fit_time',\n",
       " 'mean_score_time',\n",
       " 'mean_test_score',\n",
       " 'mean_train_score',\n",
       " 'param_algorithm',\n",
       " 'param_n_neighbors',\n",
       " 'params',\n",
       " 'rank_test_score',\n",
       " 'split0_test_score',\n",
       " 'split0_train_score',\n",
       " 'split1_test_score',\n",
       " 'split1_train_score',\n",
       " 'split2_test_score',\n",
       " 'split2_train_score',\n",
       " 'split3_test_score',\n",
       " 'split3_train_score',\n",
       " 'split4_test_score',\n",
       " 'split4_train_score',\n",
       " 'std_fit_time',\n",
       " 'std_score_time',\n",
       " 'std_test_score',\n",
       " 'std_train_score']"
      ]
     },
     "execution_count": 15,
     "metadata": {},
     "output_type": "execute_result"
    }
   ],
   "source": [
    "sorted(clf.cv_results_.keys())"
   ]
  },
  {
   "cell_type": "code",
   "execution_count": 16,
   "metadata": {},
   "outputs": [
    {
     "name": "stdout",
     "output_type": "stream",
     "text": [
      "0.8061674008810573\n",
      "Confusion matrix, without normalization\n",
      "[[227 124]\n",
      " [ 52 505]]\n"
     ]
    },
    {
     "data": {
      "image/png": "[encoded data removed]",
      "text/plain": [
       "<Figure size 720x720 with 2 Axes>"
      ]
     },
     "metadata": {
      "needs_background": "light"
     },
     "output_type": "display_data"
    }
   ],
   "source": [
    "pred = clf.predict(test_X)\n",
    "print(metrics.accuracy_score(test_y, pred))\n",
    "cm = metrics.confusion_matrix(test_y, pred)\n",
    "plt.figure(figsize=(10,10))\n",
    "plot_confusion_matrix(cm, h_classes)\n",
    "plt.show()"
   ]
  },
  {
   "cell_type": "markdown",
   "metadata": {},
   "source": [
    "# All Data"
   ]
  },
  {
   "cell_type": "code",
   "execution_count": 17,
   "metadata": {},
   "outputs": [
    {
     "name": "stdout",
     "output_type": "stream",
     "text": [
      "Preprocess file not found, building new one\n",
      "Epoch 1/1\n",
      "2/2 [==============================] - 0s 79ms/step - loss: 1.2475\n",
      "Epoch 1/1\n",
      "2/2 [==============================] - 0s 54ms/step - loss: 1.3335\n",
      "\tBytes: 1045008\n",
      "\tProcessing Time: 9.087099313735962\n"
     ]
    }
   ],
   "source": [
    "all_df = ps.preprocess_fold(dataset, \n",
    "                        kind='mfcc', \n",
    "                        fld=1, \n",
    "                        blocksize=blocksize, \n",
    "                        overlap=overlap)"
   ]
  },
  {
   "cell_type": "code",
   "execution_count": 18,
   "metadata": {},
   "outputs": [],
   "source": [
    "X = all_df.drop(['l_target', 'h_target'], axis=1)\n",
    "y = all_df['l_target']"
   ]
  },
  {
   "cell_type": "code",
   "execution_count": 19,
   "metadata": {},
   "outputs": [
    {
     "name": "stdout",
     "output_type": "stream",
     "text": [
      "0.7202486678507993\n",
      "Confusion matrix, without normalization\n",
      "[[213 209]\n",
      " [106 598]]\n"
     ]
    },
    {
     "data": {
      "image/png": "[encoded data removed]",
      "text/plain": [
       "<Figure size 1440x1440 with 2 Axes>"
      ]
     },
     "metadata": {
      "needs_background": "light"
     },
     "output_type": "display_data"
    }
   ],
   "source": [
    "pred = clf.predict(X)\n",
    "print(metrics.accuracy_score(y, pred))\n",
    "cm = metrics.confusion_matrix(y, pred)\n",
    "plt.figure(figsize=(20,20))\n",
    "plot_confusion_matrix(cm, h_classes)\n",
    "plt.show()"
   ]
  },
  {
   "cell_type": "code",
   "execution_count": null,
   "metadata": {},
   "outputs": [],
   "source": []
  }
 ],
 "metadata": {
  "kernelspec": {
   "display_name": "Python 3",
   "language": "python",
   "name": "python3"
  },
  "language_info": {
   "codemirror_mode": {
    "name": "ipython",
    "version": 3
   },
   "file_extension": ".py",
   "mimetype": "text/x-python",
   "name": "python",
   "nbconvert_exporter": "python",
   "pygments_lexer": "ipython3",
   "version": "3.5.2"
  }
 },
 "nbformat": 4,
 "nbformat_minor": 2
}
