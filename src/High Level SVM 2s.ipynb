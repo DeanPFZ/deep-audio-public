{
 "cells": [
  {
   "cell_type": "code",
   "execution_count": 1,
   "metadata": {},
   "outputs": [
    {
     "name": "stderr",
     "output_type": "stream",
     "text": [
      "Using TensorFlow backend.\n"
     ]
    },
    {
     "name": "stdout",
     "output_type": "stream",
     "text": [
      "WARNING:tensorflow:From /usr/local/lib/python3.5/dist-packages/magenta/models/nsynth/wavenet/masked.py:115: UniformUnitScaling.__init__ (from tensorflow.python.ops.init_ops) is deprecated and will be removed in a future version.\n",
      "Instructions for updating:\n",
      "Use tf.initializers.variance_scaling instead with distribution=uniform to get equivalent behavior.\n"
     ]
    }
   ],
   "source": [
    "import pandas as pd\n",
    "from preprocess import Audio_Processor\n",
    "from sklearn import metrics\n",
    "from classification_plots import plot_confusion_matrix, plot_learning_curve\n",
    "import matplotlib.pyplot as plt\n",
    "import os\n",
    "from sklearn.svm import SVC"
   ]
  },
  {
   "cell_type": "code",
   "execution_count": 2,
   "metadata": {},
   "outputs": [],
   "source": [
    "# Able to specify which GPU to use\n",
    "os.environ[\"CUDA_VISIBLE_DEVICES\"]=\"2\"\n",
    "\n",
    "SR = 16000\n",
    "blocksize = int(SR * 2)\n",
    "overlap = SR"
   ]
  },
  {
   "cell_type": "code",
   "execution_count": 3,
   "metadata": {},
   "outputs": [],
   "source": [
    "import warnings\n",
    "warnings.filterwarnings('ignore')"
   ]
  },
  {
   "cell_type": "markdown",
   "metadata": {},
   "source": [
    "# Setup"
   ]
  },
  {
   "cell_type": "code",
   "execution_count": 4,
   "metadata": {},
   "outputs": [],
   "source": [
    "path_to_db='../ESC-50/'\n",
    "ps = Audio_Processor(path_to_db + 'audio/')\n",
    "dataset = pd.read_csv(path_to_db + 'meta/esc50.csv')"
   ]
  },
  {
   "cell_type": "code",
   "execution_count": 5,
   "metadata": {},
   "outputs": [],
   "source": [
    "mapping = {'dog': 0,'rooster': 0,'pig': 0,'cow': 0,'frog': 0,'cat': 0,'hen': 0,\n",
    "            'insects': 0,'sheep': 0,'crow': 0,'rain': 1,'sea_waves': 1,'crackling_fire': 1,\n",
    "            'crickets': 0,'chirping_birds': 0,'water_drops': 1,'wind': 1,'pouring_water': 1,\n",
    "            'toilet_flush': 1,'thunderstorm': 1,'crying_baby': 0,'sneezing': 0,'clapping': 0,\n",
    "            'breathing': 0,'coughing': 0,'footsteps': 1,'laughing': 0,'brushing_teeth': 1,\n",
    "            'snoring': 0,'drinking_sipping': 1,'door_wood_knock': 1,'mouse_click': 1,\n",
    "            'keyboard_typing': 1,'door_wood_creaks': 1,'can_opening': 1,'washing_machine': 1,\n",
    "            'vacuum_cleaner': 1,'clock_alarm': 1,'clock_tick': 1,'glass_breaking':1,'helicopter': 1,\n",
    "            'chainsaw': 1,'siren': 1,'car_horn': 1,'engine': 1,'train': 1,'church_bells': 1,\n",
    "            'airplane': 1,'fireworks': 1,'hand_saw': 1,\n",
    "            }\n",
    "dataset['h_target'] = None\n",
    "classes = [None] * 50\n",
    "for index, row in dataset.iterrows():\n",
    "    target = row['target']\n",
    "    classes[target] = row['category']\n",
    "    dataset.loc[index, 'h_target'] = mapping[row['category']]"
   ]
  },
  {
   "cell_type": "code",
   "execution_count": 6,
   "metadata": {},
   "outputs": [],
   "source": [
    "h_classes = ['Human & Animal', 'Interacting Materials']"
   ]
  },
  {
   "cell_type": "markdown",
   "metadata": {},
   "source": [
    "## Getting Preprocessed Data\n",
    "We allow for previously preprocessed data to be retrieved for faster training turnaround. If the fold has been preprocessed, it is loaded but if not it is processed and saved."
   ]
  },
  {
   "cell_type": "code",
   "execution_count": 7,
   "metadata": {},
   "outputs": [],
   "source": [
    "df = ps.preprocess_fold(dataset, \n",
    "                        kind='mfcc', \n",
    "                        fld=None, \n",
    "                        blocksize=blocksize, \n",
    "                        overlap=overlap)"
   ]
  },
  {
   "cell_type": "code",
   "execution_count": 8,
   "metadata": {},
   "outputs": [
    {
     "data": {
      "text/html": [
       "<div>\n",
       "<style scoped>\n",
       "    .dataframe tbody tr th:only-of-type {\n",
       "        vertical-align: middle;\n",
       "    }\n",
       "\n",
       "    .dataframe tbody tr th {\n",
       "        vertical-align: top;\n",
       "    }\n",
       "\n",
       "    .dataframe thead th {\n",
       "        text-align: right;\n",
       "    }\n",
       "</style>\n",
       "<table border=\"1\" class=\"dataframe\">\n",
       "  <thead>\n",
       "    <tr style=\"text-align: right;\">\n",
       "      <th></th>\n",
       "      <th>mfcc_2_std</th>\n",
       "      <th>mfcc_2_mean</th>\n",
       "      <th>mfcc_2_noise</th>\n",
       "      <th>mfcc_3_std</th>\n",
       "      <th>mfcc_3_mean</th>\n",
       "      <th>mfcc_3_noise</th>\n",
       "      <th>mfcc_4_std</th>\n",
       "      <th>mfcc_4_mean</th>\n",
       "      <th>mfcc_4_noise</th>\n",
       "      <th>mfcc_5_std</th>\n",
       "      <th>...</th>\n",
       "      <th>sflat_noise</th>\n",
       "      <th>sroll_std</th>\n",
       "      <th>sroll_mean</th>\n",
       "      <th>sroll_noise</th>\n",
       "      <th>rmse_std</th>\n",
       "      <th>rmse_mean</th>\n",
       "      <th>rmse_noise</th>\n",
       "      <th>h_target</th>\n",
       "      <th>target</th>\n",
       "      <th>fold</th>\n",
       "    </tr>\n",
       "  </thead>\n",
       "  <tbody>\n",
       "    <tr>\n",
       "      <th>count</th>\n",
       "      <td>2000.000000</td>\n",
       "      <td>2000.000000</td>\n",
       "      <td>2000.000000</td>\n",
       "      <td>2000.000000</td>\n",
       "      <td>2000.000000</td>\n",
       "      <td>2000.000000</td>\n",
       "      <td>2000.000000</td>\n",
       "      <td>2000.000000</td>\n",
       "      <td>2000.000000</td>\n",
       "      <td>2000.000000</td>\n",
       "      <td>...</td>\n",
       "      <td>2000.000000</td>\n",
       "      <td>2000.000000</td>\n",
       "      <td>2000.000000</td>\n",
       "      <td>2000.000000</td>\n",
       "      <td>2000.000000</td>\n",
       "      <td>2.000000e+03</td>\n",
       "      <td>2000.000000</td>\n",
       "      <td>2000.000000</td>\n",
       "      <td>2000.000000</td>\n",
       "      <td>2000.000000</td>\n",
       "    </tr>\n",
       "    <tr>\n",
       "      <th>mean</th>\n",
       "      <td>62.669752</td>\n",
       "      <td>37.887925</td>\n",
       "      <td>31.375801</td>\n",
       "      <td>27.054924</td>\n",
       "      <td>24.404527</td>\n",
       "      <td>24.103042</td>\n",
       "      <td>23.618686</td>\n",
       "      <td>23.582283</td>\n",
       "      <td>23.248956</td>\n",
       "      <td>22.739772</td>\n",
       "      <td>...</td>\n",
       "      <td>-0.022678</td>\n",
       "      <td>-0.023423</td>\n",
       "      <td>20.579098</td>\n",
       "      <td>34.139617</td>\n",
       "      <td>7.724101</td>\n",
       "      <td>4.602041e+11</td>\n",
       "      <td>3.898565</td>\n",
       "      <td>0.620000</td>\n",
       "      <td>24.500000</td>\n",
       "      <td>3.000000</td>\n",
       "    </tr>\n",
       "    <tr>\n",
       "      <th>std</th>\n",
       "      <td>31.956164</td>\n",
       "      <td>18.282675</td>\n",
       "      <td>18.420093</td>\n",
       "      <td>16.401337</td>\n",
       "      <td>16.456309</td>\n",
       "      <td>16.836581</td>\n",
       "      <td>16.809674</td>\n",
       "      <td>17.267340</td>\n",
       "      <td>17.327496</td>\n",
       "      <td>16.933491</td>\n",
       "      <td>...</td>\n",
       "      <td>0.041587</td>\n",
       "      <td>0.040914</td>\n",
       "      <td>75.458790</td>\n",
       "      <td>73.547137</td>\n",
       "      <td>23.379828</td>\n",
       "      <td>2.058095e+13</td>\n",
       "      <td>3.483287</td>\n",
       "      <td>0.485508</td>\n",
       "      <td>14.434479</td>\n",
       "      <td>1.414567</td>\n",
       "    </tr>\n",
       "    <tr>\n",
       "      <th>min</th>\n",
       "      <td>0.081020</td>\n",
       "      <td>0.095808</td>\n",
       "      <td>0.076144</td>\n",
       "      <td>0.128742</td>\n",
       "      <td>0.097850</td>\n",
       "      <td>0.138099</td>\n",
       "      <td>0.085208</td>\n",
       "      <td>0.094448</td>\n",
       "      <td>0.062545</td>\n",
       "      <td>0.052206</td>\n",
       "      <td>...</td>\n",
       "      <td>-0.233905</td>\n",
       "      <td>-0.271280</td>\n",
       "      <td>6.200599</td>\n",
       "      <td>11.414595</td>\n",
       "      <td>1.647452</td>\n",
       "      <td>8.793754e+00</td>\n",
       "      <td>0.258085</td>\n",
       "      <td>0.000000</td>\n",
       "      <td>0.000000</td>\n",
       "      <td>1.000000</td>\n",
       "    </tr>\n",
       "    <tr>\n",
       "      <th>25%</th>\n",
       "      <td>34.552039</td>\n",
       "      <td>21.802052</td>\n",
       "      <td>15.127448</td>\n",
       "      <td>12.173142</td>\n",
       "      <td>9.573054</td>\n",
       "      <td>9.054824</td>\n",
       "      <td>8.555738</td>\n",
       "      <td>8.170608</td>\n",
       "      <td>7.997581</td>\n",
       "      <td>7.619101</td>\n",
       "      <td>...</td>\n",
       "      <td>-0.048784</td>\n",
       "      <td>-0.050668</td>\n",
       "      <td>10.760739</td>\n",
       "      <td>20.740970</td>\n",
       "      <td>3.877844</td>\n",
       "      <td>1.706204e+01</td>\n",
       "      <td>1.540712</td>\n",
       "      <td>0.000000</td>\n",
       "      <td>12.000000</td>\n",
       "      <td>2.000000</td>\n",
       "    </tr>\n",
       "    <tr>\n",
       "      <th>50%</th>\n",
       "      <td>57.310027</td>\n",
       "      <td>35.856034</td>\n",
       "      <td>26.614394</td>\n",
       "      <td>21.255473</td>\n",
       "      <td>16.159645</td>\n",
       "      <td>14.718998</td>\n",
       "      <td>14.269102</td>\n",
       "      <td>13.472449</td>\n",
       "      <td>13.157731</td>\n",
       "      <td>12.749373</td>\n",
       "      <td>...</td>\n",
       "      <td>-0.018176</td>\n",
       "      <td>-0.019942</td>\n",
       "      <td>16.089898</td>\n",
       "      <td>26.798023</td>\n",
       "      <td>5.581179</td>\n",
       "      <td>2.365774e+01</td>\n",
       "      <td>3.301588</td>\n",
       "      <td>1.000000</td>\n",
       "      <td>24.500000</td>\n",
       "      <td>3.000000</td>\n",
       "    </tr>\n",
       "    <tr>\n",
       "      <th>75%</th>\n",
       "      <td>87.862314</td>\n",
       "      <td>51.469931</td>\n",
       "      <td>46.099822</td>\n",
       "      <td>41.701983</td>\n",
       "      <td>39.839697</td>\n",
       "      <td>40.321688</td>\n",
       "      <td>39.976729</td>\n",
       "      <td>40.217501</td>\n",
       "      <td>39.558417</td>\n",
       "      <td>39.163788</td>\n",
       "      <td>...</td>\n",
       "      <td>0.006228</td>\n",
       "      <td>0.004787</td>\n",
       "      <td>24.034530</td>\n",
       "      <td>39.751155</td>\n",
       "      <td>9.367320</td>\n",
       "      <td>3.475627e+01</td>\n",
       "      <td>5.215384</td>\n",
       "      <td>1.000000</td>\n",
       "      <td>37.000000</td>\n",
       "      <td>4.000000</td>\n",
       "    </tr>\n",
       "    <tr>\n",
       "      <th>max</th>\n",
       "      <td>159.396656</td>\n",
       "      <td>106.842777</td>\n",
       "      <td>93.230526</td>\n",
       "      <td>77.880802</td>\n",
       "      <td>75.824615</td>\n",
       "      <td>82.540814</td>\n",
       "      <td>85.531181</td>\n",
       "      <td>96.550155</td>\n",
       "      <td>107.330000</td>\n",
       "      <td>105.483452</td>\n",
       "      <td>...</td>\n",
       "      <td>0.129546</td>\n",
       "      <td>0.132552</td>\n",
       "      <td>3355.977499</td>\n",
       "      <td>3210.552278</td>\n",
       "      <td>1027.514023</td>\n",
       "      <td>9.204081e+14</td>\n",
       "      <td>65.953691</td>\n",
       "      <td>1.000000</td>\n",
       "      <td>49.000000</td>\n",
       "      <td>5.000000</td>\n",
       "    </tr>\n",
       "  </tbody>\n",
       "</table>\n",
       "<p>8 rows × 132 columns</p>\n",
       "</div>"
      ],
      "text/plain": [
       "        mfcc_2_std  mfcc_2_mean  mfcc_2_noise   mfcc_3_std  mfcc_3_mean  \\\n",
       "count  2000.000000  2000.000000   2000.000000  2000.000000  2000.000000   \n",
       "mean     62.669752    37.887925     31.375801    27.054924    24.404527   \n",
       "std      31.956164    18.282675     18.420093    16.401337    16.456309   \n",
       "min       0.081020     0.095808      0.076144     0.128742     0.097850   \n",
       "25%      34.552039    21.802052     15.127448    12.173142     9.573054   \n",
       "50%      57.310027    35.856034     26.614394    21.255473    16.159645   \n",
       "75%      87.862314    51.469931     46.099822    41.701983    39.839697   \n",
       "max     159.396656   106.842777     93.230526    77.880802    75.824615   \n",
       "\n",
       "       mfcc_3_noise   mfcc_4_std  mfcc_4_mean  mfcc_4_noise   mfcc_5_std  \\\n",
       "count   2000.000000  2000.000000  2000.000000   2000.000000  2000.000000   \n",
       "mean      24.103042    23.618686    23.582283     23.248956    22.739772   \n",
       "std       16.836581    16.809674    17.267340     17.327496    16.933491   \n",
       "min        0.138099     0.085208     0.094448      0.062545     0.052206   \n",
       "25%        9.054824     8.555738     8.170608      7.997581     7.619101   \n",
       "50%       14.718998    14.269102    13.472449     13.157731    12.749373   \n",
       "75%       40.321688    39.976729    40.217501     39.558417    39.163788   \n",
       "max       82.540814    85.531181    96.550155    107.330000   105.483452   \n",
       "\n",
       "          ...       sflat_noise    sroll_std   sroll_mean  sroll_noise  \\\n",
       "count     ...       2000.000000  2000.000000  2000.000000  2000.000000   \n",
       "mean      ...         -0.022678    -0.023423    20.579098    34.139617   \n",
       "std       ...          0.041587     0.040914    75.458790    73.547137   \n",
       "min       ...         -0.233905    -0.271280     6.200599    11.414595   \n",
       "25%       ...         -0.048784    -0.050668    10.760739    20.740970   \n",
       "50%       ...         -0.018176    -0.019942    16.089898    26.798023   \n",
       "75%       ...          0.006228     0.004787    24.034530    39.751155   \n",
       "max       ...          0.129546     0.132552  3355.977499  3210.552278   \n",
       "\n",
       "          rmse_std     rmse_mean   rmse_noise     h_target       target  \\\n",
       "count  2000.000000  2.000000e+03  2000.000000  2000.000000  2000.000000   \n",
       "mean      7.724101  4.602041e+11     3.898565     0.620000    24.500000   \n",
       "std      23.379828  2.058095e+13     3.483287     0.485508    14.434479   \n",
       "min       1.647452  8.793754e+00     0.258085     0.000000     0.000000   \n",
       "25%       3.877844  1.706204e+01     1.540712     0.000000    12.000000   \n",
       "50%       5.581179  2.365774e+01     3.301588     1.000000    24.500000   \n",
       "75%       9.367320  3.475627e+01     5.215384     1.000000    37.000000   \n",
       "max    1027.514023  9.204081e+14    65.953691     1.000000    49.000000   \n",
       "\n",
       "              fold  \n",
       "count  2000.000000  \n",
       "mean      3.000000  \n",
       "std       1.414567  \n",
       "min       1.000000  \n",
       "25%       2.000000  \n",
       "50%       3.000000  \n",
       "75%       4.000000  \n",
       "max       5.000000  \n",
       "\n",
       "[8 rows x 132 columns]"
      ]
     },
     "execution_count": 8,
     "metadata": {},
     "output_type": "execute_result"
    }
   ],
   "source": [
    "df.describe()"
   ]
  },
  {
   "cell_type": "code",
   "execution_count": 9,
   "metadata": {},
   "outputs": [],
   "source": [
    "from sklearn.model_selection import train_test_split\n",
    "train, test, = train_test_split(\n",
    "                        df[df.fold != 1], test_size=0.20, random_state=42)"
   ]
  },
  {
   "cell_type": "code",
   "execution_count": 10,
   "metadata": {},
   "outputs": [],
   "source": [
    "train_X = train.drop(['target', 'h_target', 'fold'], axis=1)\n",
    "train_y = train['h_target']\n",
    "test_X = test.drop(['target', 'h_target', 'fold'], axis=1)\n",
    "test_y = test['h_target']"
   ]
  },
  {
   "cell_type": "markdown",
   "metadata": {},
   "source": [
    "# Training"
   ]
  },
  {
   "cell_type": "code",
   "execution_count": 11,
   "metadata": {
    "scrolled": true
   },
   "outputs": [
    {
     "data": {
      "text/plain": [
       "GridSearchCV(cv=5, error_score='raise-deprecating',\n",
       "       estimator=SVC(C=1.0, cache_size=200, class_weight=None, coef0=0.0,\n",
       "  decision_function_shape='ovr', degree=3, gamma='auto_deprecated',\n",
       "  kernel='rbf', max_iter=1000, probability=True, random_state=None,\n",
       "  shrinking=True, tol=0.001, verbose=False),\n",
       "       fit_params=None, iid='warn', n_jobs=None,\n",
       "       param_grid={'decision_function_shape': ('ovo', 'ovr'), 'gamma': ('auto', 'scale'), 'kernel': ('linear', 'poly', 'rbf', 'sigmoid')},\n",
       "       pre_dispatch='2*n_jobs', refit=True, return_train_score='warn',\n",
       "       scoring=None, verbose=0)"
      ]
     },
     "execution_count": 11,
     "metadata": {},
     "output_type": "execute_result"
    }
   ],
   "source": [
    "from sklearn.model_selection import GridSearchCV\n",
    "params = {\n",
    "          'kernel': ('linear', 'poly', 'rbf', 'sigmoid'),\n",
    "          'gamma': ('auto', 'scale'),\n",
    "          'decision_function_shape': ('ovo', 'ovr')\n",
    "         }\n",
    "\n",
    "svm = SVC(probability=True, max_iter=1000)\n",
    "\n",
    "clf = GridSearchCV(svm, params, cv=5)\n",
    "\n",
    "clf.fit(train_X, train_y)"
   ]
  },
  {
   "cell_type": "code",
   "execution_count": 12,
   "metadata": {},
   "outputs": [
    {
     "name": "stdout",
     "output_type": "stream",
     "text": [
      "0.60625\n",
      "Confusion matrix, without normalization\n",
      "[[  0 126]\n",
      " [  0 194]]\n"
     ]
    },
    {
     "data": {
      "image/png": "[encoded data removed]",
      "text/plain": [
       "<Figure size 720x720 with 2 Axes>"
      ]
     },
     "metadata": {
      "needs_background": "light"
     },
     "output_type": "display_data"
    }
   ],
   "source": [
    "pred = clf.predict(test_X)\n",
    "print(metrics.accuracy_score(test_y, pred))\n",
    "cm = metrics.confusion_matrix(test_y, pred)\n",
    "plt.figure(figsize=(10,10))\n",
    "plot_confusion_matrix(cm, h_classes)\n",
    "plt.show()"
   ]
  },
  {
   "cell_type": "markdown",
   "metadata": {},
   "source": [
    "# All Data"
   ]
  },
  {
   "cell_type": "code",
   "execution_count": 13,
   "metadata": {},
   "outputs": [],
   "source": [
    "all_df = df[df.fold == 1]"
   ]
  },
  {
   "cell_type": "code",
   "execution_count": 14,
   "metadata": {},
   "outputs": [
    {
     "data": {
      "text/html": [
       "<div>\n",
       "<style scoped>\n",
       "    .dataframe tbody tr th:only-of-type {\n",
       "        vertical-align: middle;\n",
       "    }\n",
       "\n",
       "    .dataframe tbody tr th {\n",
       "        vertical-align: top;\n",
       "    }\n",
       "\n",
       "    .dataframe thead th {\n",
       "        text-align: right;\n",
       "    }\n",
       "</style>\n",
       "<table border=\"1\" class=\"dataframe\">\n",
       "  <thead>\n",
       "    <tr style=\"text-align: right;\">\n",
       "      <th></th>\n",
       "      <th>mfcc_2_std</th>\n",
       "      <th>mfcc_2_mean</th>\n",
       "      <th>mfcc_2_noise</th>\n",
       "      <th>mfcc_3_std</th>\n",
       "      <th>mfcc_3_mean</th>\n",
       "      <th>mfcc_3_noise</th>\n",
       "      <th>mfcc_4_std</th>\n",
       "      <th>mfcc_4_mean</th>\n",
       "      <th>mfcc_4_noise</th>\n",
       "      <th>mfcc_5_std</th>\n",
       "      <th>...</th>\n",
       "      <th>sflat_noise</th>\n",
       "      <th>sroll_std</th>\n",
       "      <th>sroll_mean</th>\n",
       "      <th>sroll_noise</th>\n",
       "      <th>rmse_std</th>\n",
       "      <th>rmse_mean</th>\n",
       "      <th>rmse_noise</th>\n",
       "      <th>h_target</th>\n",
       "      <th>target</th>\n",
       "      <th>fold</th>\n",
       "    </tr>\n",
       "  </thead>\n",
       "  <tbody>\n",
       "    <tr>\n",
       "      <th>0</th>\n",
       "      <td>35.303226</td>\n",
       "      <td>16.628392</td>\n",
       "      <td>14.612338</td>\n",
       "      <td>10.759350</td>\n",
       "      <td>9.126324</td>\n",
       "      <td>9.751300</td>\n",
       "      <td>10.372376</td>\n",
       "      <td>10.991414</td>\n",
       "      <td>9.683879</td>\n",
       "      <td>9.334261</td>\n",
       "      <td>...</td>\n",
       "      <td>-0.156925</td>\n",
       "      <td>-0.162621</td>\n",
       "      <td>41.474683</td>\n",
       "      <td>39.378760</td>\n",
       "      <td>12.159852</td>\n",
       "      <td>64.055920</td>\n",
       "      <td>0.883665</td>\n",
       "      <td>0</td>\n",
       "      <td>0</td>\n",
       "      <td>1</td>\n",
       "    </tr>\n",
       "    <tr>\n",
       "      <th>1</th>\n",
       "      <td>66.117978</td>\n",
       "      <td>72.384101</td>\n",
       "      <td>46.529858</td>\n",
       "      <td>43.890844</td>\n",
       "      <td>49.309034</td>\n",
       "      <td>50.523937</td>\n",
       "      <td>62.804049</td>\n",
       "      <td>51.102554</td>\n",
       "      <td>56.837115</td>\n",
       "      <td>49.782124</td>\n",
       "      <td>...</td>\n",
       "      <td>0.016857</td>\n",
       "      <td>-0.035424</td>\n",
       "      <td>15.108460</td>\n",
       "      <td>17.830443</td>\n",
       "      <td>4.656670</td>\n",
       "      <td>20.205380</td>\n",
       "      <td>6.697046</td>\n",
       "      <td>0</td>\n",
       "      <td>14</td>\n",
       "      <td>1</td>\n",
       "    </tr>\n",
       "    <tr>\n",
       "      <th>2</th>\n",
       "      <td>84.328019</td>\n",
       "      <td>59.524681</td>\n",
       "      <td>59.545377</td>\n",
       "      <td>47.764145</td>\n",
       "      <td>47.264562</td>\n",
       "      <td>47.069043</td>\n",
       "      <td>46.491835</td>\n",
       "      <td>41.203396</td>\n",
       "      <td>41.152934</td>\n",
       "      <td>43.878034</td>\n",
       "      <td>...</td>\n",
       "      <td>-0.008007</td>\n",
       "      <td>0.015161</td>\n",
       "      <td>14.255350</td>\n",
       "      <td>22.163053</td>\n",
       "      <td>4.130221</td>\n",
       "      <td>19.453502</td>\n",
       "      <td>3.904887</td>\n",
       "      <td>1</td>\n",
       "      <td>36</td>\n",
       "      <td>1</td>\n",
       "    </tr>\n",
       "    <tr>\n",
       "      <th>3</th>\n",
       "      <td>75.733683</td>\n",
       "      <td>58.797254</td>\n",
       "      <td>58.165298</td>\n",
       "      <td>48.082315</td>\n",
       "      <td>44.627046</td>\n",
       "      <td>48.770666</td>\n",
       "      <td>43.319596</td>\n",
       "      <td>41.487997</td>\n",
       "      <td>44.596414</td>\n",
       "      <td>48.633271</td>\n",
       "      <td>...</td>\n",
       "      <td>0.020462</td>\n",
       "      <td>0.020406</td>\n",
       "      <td>14.044611</td>\n",
       "      <td>21.878557</td>\n",
       "      <td>4.332267</td>\n",
       "      <td>19.674796</td>\n",
       "      <td>4.732645</td>\n",
       "      <td>1</td>\n",
       "      <td>36</td>\n",
       "      <td>1</td>\n",
       "    </tr>\n",
       "    <tr>\n",
       "      <th>4</th>\n",
       "      <td>75.558444</td>\n",
       "      <td>59.412000</td>\n",
       "      <td>59.970604</td>\n",
       "      <td>46.126845</td>\n",
       "      <td>42.257012</td>\n",
       "      <td>41.881713</td>\n",
       "      <td>39.324029</td>\n",
       "      <td>40.015434</td>\n",
       "      <td>39.351319</td>\n",
       "      <td>40.488894</td>\n",
       "      <td>...</td>\n",
       "      <td>-0.006108</td>\n",
       "      <td>-0.053301</td>\n",
       "      <td>13.357262</td>\n",
       "      <td>18.361617</td>\n",
       "      <td>3.741534</td>\n",
       "      <td>19.151753</td>\n",
       "      <td>4.542568</td>\n",
       "      <td>1</td>\n",
       "      <td>19</td>\n",
       "      <td>1</td>\n",
       "    </tr>\n",
       "  </tbody>\n",
       "</table>\n",
       "<p>5 rows × 132 columns</p>\n",
       "</div>"
      ],
      "text/plain": [
       "   mfcc_2_std  mfcc_2_mean  mfcc_2_noise  mfcc_3_std  mfcc_3_mean  \\\n",
       "0   35.303226    16.628392     14.612338   10.759350     9.126324   \n",
       "1   66.117978    72.384101     46.529858   43.890844    49.309034   \n",
       "2   84.328019    59.524681     59.545377   47.764145    47.264562   \n",
       "3   75.733683    58.797254     58.165298   48.082315    44.627046   \n",
       "4   75.558444    59.412000     59.970604   46.126845    42.257012   \n",
       "\n",
       "   mfcc_3_noise  mfcc_4_std  mfcc_4_mean  mfcc_4_noise  mfcc_5_std  ...   \\\n",
       "0      9.751300   10.372376    10.991414      9.683879    9.334261  ...    \n",
       "1     50.523937   62.804049    51.102554     56.837115   49.782124  ...    \n",
       "2     47.069043   46.491835    41.203396     41.152934   43.878034  ...    \n",
       "3     48.770666   43.319596    41.487997     44.596414   48.633271  ...    \n",
       "4     41.881713   39.324029    40.015434     39.351319   40.488894  ...    \n",
       "\n",
       "   sflat_noise  sroll_std  sroll_mean  sroll_noise   rmse_std  rmse_mean  \\\n",
       "0    -0.156925  -0.162621   41.474683    39.378760  12.159852  64.055920   \n",
       "1     0.016857  -0.035424   15.108460    17.830443   4.656670  20.205380   \n",
       "2    -0.008007   0.015161   14.255350    22.163053   4.130221  19.453502   \n",
       "3     0.020462   0.020406   14.044611    21.878557   4.332267  19.674796   \n",
       "4    -0.006108  -0.053301   13.357262    18.361617   3.741534  19.151753   \n",
       "\n",
       "   rmse_noise  h_target  target  fold  \n",
       "0    0.883665         0       0     1  \n",
       "1    6.697046         0      14     1  \n",
       "2    3.904887         1      36     1  \n",
       "3    4.732645         1      36     1  \n",
       "4    4.542568         1      19     1  \n",
       "\n",
       "[5 rows x 132 columns]"
      ]
     },
     "execution_count": 14,
     "metadata": {},
     "output_type": "execute_result"
    }
   ],
   "source": [
    "all_df.head()"
   ]
  },
  {
   "cell_type": "code",
   "execution_count": 15,
   "metadata": {},
   "outputs": [],
   "source": [
    "X = all_df.drop(['target', 'h_target', 'fold'], axis=1)\n",
    "y = all_df['h_target']"
   ]
  },
  {
   "cell_type": "code",
   "execution_count": 16,
   "metadata": {},
   "outputs": [
    {
     "name": "stdout",
     "output_type": "stream",
     "text": [
      "0.62\n",
      "Confusion matrix, without normalization\n",
      "[[  0 152]\n",
      " [  0 248]]\n"
     ]
    },
    {
     "data": {
      "image/png": "[encoded data removed]",
      "text/plain": [
       "<Figure size 1440x1440 with 2 Axes>"
      ]
     },
     "metadata": {
      "needs_background": "light"
     },
     "output_type": "display_data"
    }
   ],
   "source": [
    "pred = clf.predict(X)\n",
    "pred_prob = clf.predict_proba(X)\n",
    "print(metrics.accuracy_score(y, pred))\n",
    "cm = metrics.confusion_matrix(y, pred)\n",
    "plt.figure(figsize=(20,20))\n",
    "plot_confusion_matrix(cm, h_classes)\n",
    "plt.show()"
   ]
  },
  {
   "cell_type": "code",
   "execution_count": 17,
   "metadata": {},
   "outputs": [
    {
     "data": {
      "text/plain": [
       "SVC(C=1.0, cache_size=200, class_weight=None, coef0=0.0,\n",
       "  decision_function_shape='ovo', degree=3, gamma='scale', kernel='rbf',\n",
       "  max_iter=1000, probability=True, random_state=None, shrinking=True,\n",
       "  tol=0.001, verbose=False)"
      ]
     },
     "execution_count": 17,
     "metadata": {},
     "output_type": "execute_result"
    }
   ],
   "source": [
    "clf.best_estimator_ "
   ]
  },
  {
   "cell_type": "code",
   "execution_count": 18,
   "metadata": {},
   "outputs": [
    {
     "data": {
      "text/html": [
       "<div>\n",
       "<style scoped>\n",
       "    .dataframe tbody tr th:only-of-type {\n",
       "        vertical-align: middle;\n",
       "    }\n",
       "\n",
       "    .dataframe tbody tr th {\n",
       "        vertical-align: top;\n",
       "    }\n",
       "\n",
       "    .dataframe thead th {\n",
       "        text-align: right;\n",
       "    }\n",
       "</style>\n",
       "<table border=\"1\" class=\"dataframe\">\n",
       "  <thead>\n",
       "    <tr style=\"text-align: right;\">\n",
       "      <th></th>\n",
       "      <th>h_target</th>\n",
       "      <th>prob_0</th>\n",
       "      <th>prob_1</th>\n",
       "      <th>target</th>\n",
       "    </tr>\n",
       "  </thead>\n",
       "  <tbody>\n",
       "    <tr>\n",
       "      <th>0</th>\n",
       "      <td>Interacting Materials</td>\n",
       "      <td>0.500000</td>\n",
       "      <td>0.500000</td>\n",
       "      <td>dog</td>\n",
       "    </tr>\n",
       "    <tr>\n",
       "      <th>1</th>\n",
       "      <td>Interacting Materials</td>\n",
       "      <td>0.440152</td>\n",
       "      <td>0.559848</td>\n",
       "      <td>chirping_birds</td>\n",
       "    </tr>\n",
       "    <tr>\n",
       "      <th>2</th>\n",
       "      <td>Interacting Materials</td>\n",
       "      <td>0.318713</td>\n",
       "      <td>0.681287</td>\n",
       "      <td>crow</td>\n",
       "    </tr>\n",
       "    <tr>\n",
       "      <th>3</th>\n",
       "      <td>Interacting Materials</td>\n",
       "      <td>0.490215</td>\n",
       "      <td>0.509785</td>\n",
       "      <td>clapping</td>\n",
       "    </tr>\n",
       "    <tr>\n",
       "      <th>4</th>\n",
       "      <td>Interacting Materials</td>\n",
       "      <td>0.409193</td>\n",
       "      <td>0.590807</td>\n",
       "      <td>clapping</td>\n",
       "    </tr>\n",
       "  </tbody>\n",
       "</table>\n",
       "</div>"
      ],
      "text/plain": [
       "                h_target    prob_0    prob_1          target\n",
       "0  Interacting Materials  0.500000  0.500000             dog\n",
       "1  Interacting Materials  0.440152  0.559848  chirping_birds\n",
       "2  Interacting Materials  0.318713  0.681287            crow\n",
       "3  Interacting Materials  0.490215  0.509785        clapping\n",
       "4  Interacting Materials  0.409193  0.590807        clapping"
      ]
     },
     "execution_count": 18,
     "metadata": {},
     "output_type": "execute_result"
    }
   ],
   "source": [
    "import seaborn as sns\n",
    "misclassified = {\n",
    "    'h_target': [],\n",
    "    'target': [],\n",
    "    'prob_0': [],\n",
    "    'prob_1': []\n",
    "}\n",
    "for row, p, prob, Y in zip(all_df.iterrows(), pred, pred_prob, y):\n",
    "    Y = int(Y)\n",
    "    p = int(p)\n",
    "    if p!=Y:\n",
    "        misclassified['target'].append(classes[int(row[1]['target'])])\n",
    "        misclassified['h_target'].append(h_classes[p])\n",
    "        misclassified['prob_0'].append(prob[0])\n",
    "        misclassified['prob_1'].append(prob[1])\n",
    "\n",
    "misclassified = pd.DataFrame.from_dict(misclassified)\n",
    "misclassified.head()"
   ]
  },
  {
   "cell_type": "code",
   "execution_count": 19,
   "metadata": {},
   "outputs": [
    {
     "data": {
      "text/html": [
       "<div>\n",
       "<style scoped>\n",
       "    .dataframe tbody tr th:only-of-type {\n",
       "        vertical-align: middle;\n",
       "    }\n",
       "\n",
       "    .dataframe tbody tr th {\n",
       "        vertical-align: top;\n",
       "    }\n",
       "\n",
       "    .dataframe thead th {\n",
       "        text-align: right;\n",
       "    }\n",
       "</style>\n",
       "<table border=\"1\" class=\"dataframe\">\n",
       "  <thead>\n",
       "    <tr style=\"text-align: right;\">\n",
       "      <th></th>\n",
       "      <th>prob_0</th>\n",
       "      <th>prob_1</th>\n",
       "    </tr>\n",
       "    <tr>\n",
       "      <th>h_target</th>\n",
       "      <th></th>\n",
       "      <th></th>\n",
       "    </tr>\n",
       "  </thead>\n",
       "  <tbody>\n",
       "    <tr>\n",
       "      <th>Interacting Materials</th>\n",
       "      <td>0.409957</td>\n",
       "      <td>0.590043</td>\n",
       "    </tr>\n",
       "  </tbody>\n",
       "</table>\n",
       "</div>"
      ],
      "text/plain": [
       "                         prob_0    prob_1\n",
       "h_target                                 \n",
       "Interacting Materials  0.409957  0.590043"
      ]
     },
     "execution_count": 19,
     "metadata": {},
     "output_type": "execute_result"
    }
   ],
   "source": [
    "average_prob = misclassified.groupby('h_target').mean()\n",
    "average_prob.head()"
   ]
  },
  {
   "cell_type": "code",
   "execution_count": 21,
   "metadata": {},
   "outputs": [
    {
     "data": {
      "text/plain": [
       "<matplotlib.axes._subplots.AxesSubplot at 0x7f0e63547518>"
      ]
     },
     "execution_count": 21,
     "metadata": {},
     "output_type": "execute_result"
    },
    {
     "data": {
      "image/png": "[encoded data removed]",
      "text/plain": [
       "<Figure size 3600x720 with 1 Axes>"
      ]
     },
     "metadata": {
      "needs_background": "light"
     },
     "output_type": "display_data"
    }
   ],
   "source": [
    "from matplotlib import pyplot as plt\n",
    "fig, ax = plt.subplots(figsize=(50,10))\n",
    "sns.countplot(x='h_target', hue='target',data=misclassified)"
   ]
  },
  {
   "cell_type": "code",
   "execution_count": null,
   "metadata": {},
   "outputs": [],
   "source": []
  }
 ],
 "metadata": {
  "kernelspec": {
   "display_name": "Python 3",
   "language": "python",
   "name": "python3"
  },
  "language_info": {
   "codemirror_mode": {
    "name": "ipython",
    "version": 3
   },
   "file_extension": ".py",
   "mimetype": "text/x-python",
   "name": "python",
   "nbconvert_exporter": "python",
   "pygments_lexer": "ipython3",
   "version": "3.5.2"
  }
 },
 "nbformat": 4,
 "nbformat_minor": 2
}
