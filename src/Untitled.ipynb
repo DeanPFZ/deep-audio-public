{
 "cells": [
  {
   "cell_type": "code",
   "execution_count": 6,
   "metadata": {},
   "outputs": [],
   "source": [
    "from magenta.models.nsynth import utils\n",
    "from magenta.models.nsynth.wavenet import fastgen\n",
    "\n",
    "def wavenet_encode(file_path):\n",
    "    \n",
    "    # Load the model weights.\n",
    "    checkpoint_path = './wavenet-ckpt/model.ckpt-200000'\n",
    "    \n",
    "    # Load and downsample the audio.\n",
    "    neural_sample_rate = 16000\n",
    "    audio = utils.load_audio(file_path, \n",
    "                             sample_length=400000, \n",
    "                             sr=neural_sample_rate)\n",
    "    \n",
    "    print(audio)\n",
    "    print(audio.shape)\n",
    "    \n",
    "    # Pass the audio through the first half of the autoencoder,\n",
    "    # to get a list of latent variables that describe the sound.\n",
    "    # Note that it would be quicker to pass a batch of audio\n",
    "    # to fastgen. \n",
    "    encoding = fastgen.encode(audio, checkpoint_path, len(audio))\n",
    "    \n",
    "    # Reshape to a single sound.\n",
    "    return encoding.reshape((-1, 16))"
   ]
  },
  {
   "cell_type": "code",
   "execution_count": 7,
   "metadata": {},
   "outputs": [
    {
     "name": "stdout",
     "output_type": "stream",
     "text": [
      "[-0.02563477 -0.01922607 -0.01403809 ...  0.25924683  0.25524902\n",
      "  0.24978638]\n",
      "(11025,)\n",
      "INFO:tensorflow:Restoring parameters from ./wavenet-ckpt/model.ckpt-200000\n"
     ]
    }
   ],
   "source": [
    "# An array of n * 16 frames. \n",
    "wavenet_z_data = wavenet_encode('../ESC-50/audio/4-165933-A-45.wav')"
   ]
  },
  {
   "cell_type": "code",
   "execution_count": 8,
   "metadata": {},
   "outputs": [
    {
     "name": "stdout",
     "output_type": "stream",
     "text": [
      "(21, 16)\n"
     ]
    }
   ],
   "source": [
    "print(wavenet_z_data.shape)"
   ]
  },
  {
   "cell_type": "code",
   "execution_count": null,
   "metadata": {},
   "outputs": [],
   "source": []
  }
 ],
 "metadata": {
  "kernelspec": {
   "display_name": "Python 3",
   "language": "python",
   "name": "python3"
  },
  "language_info": {
   "codemirror_mode": {
    "name": "ipython",
    "version": 3
   },
   "file_extension": ".py",
   "mimetype": "text/x-python",
   "name": "python",
   "nbconvert_exporter": "python",
   "pygments_lexer": "ipython3",
   "version": "3.5.2"
  }
 },
 "nbformat": 4,
 "nbformat_minor": 2
}
