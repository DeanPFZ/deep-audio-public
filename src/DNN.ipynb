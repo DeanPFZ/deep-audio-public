{
 "cells": [
  {
   "cell_type": "code",
   "execution_count": 1,
   "metadata": {},
   "outputs": [
    {
     "name": "stderr",
     "output_type": "stream",
     "text": [
      "Using TensorFlow backend.\n"
     ]
    }
   ],
   "source": [
    "import pandas as pd\n",
    "from preprocess import Audio_Processor\n",
    "import data_utils as du\n",
    "from sklearn import metrics\n",
    "from keras.wrappers.scikit_learn import KerasClassifier"
   ]
  },
  {
   "cell_type": "code",
   "execution_count": 2,
   "metadata": {},
   "outputs": [],
   "source": [
    "import warnings\n",
    "warnings.filterwarnings('ignore')"
   ]
  },
  {
   "cell_type": "markdown",
   "metadata": {},
   "source": [
    "# Setup"
   ]
  },
  {
   "cell_type": "code",
   "execution_count": 3,
   "metadata": {},
   "outputs": [],
   "source": [
    "path_to_db='../ESC-50/'\n",
    "ps = Audio_Processor(path_to_db + 'audio/')"
   ]
  },
  {
   "cell_type": "markdown",
   "metadata": {},
   "source": [
    "# Load Dataset\n",
    "Here we load the csv that describes each file in the dataset."
   ]
  },
  {
   "cell_type": "code",
   "execution_count": 4,
   "metadata": {},
   "outputs": [],
   "source": [
    "dataset = pd.read_csv(path_to_db + 'meta/esc50.csv')\n",
    "classes = [None] * 50"
   ]
  },
  {
   "cell_type": "code",
   "execution_count": 5,
   "metadata": {},
   "outputs": [],
   "source": [
    "for index, row in dataset.iterrows():\n",
    "    target = row['target']\n",
    "    classes[target] = row['category']"
   ]
  },
  {
   "cell_type": "code",
   "execution_count": 6,
   "metadata": {},
   "outputs": [],
   "source": [
    "c_data = pd.concat([ps.preprocess_fold(fld, dataset) for fld in range(1,6)], ignore_index=True)"
   ]
  },
  {
   "cell_type": "code",
   "execution_count": 7,
   "metadata": {},
   "outputs": [],
   "source": [
    "n_categories = c_data.target.unique().size"
   ]
  },
  {
   "cell_type": "code",
   "execution_count": 8,
   "metadata": {},
   "outputs": [],
   "source": [
    "c_data, scalar = du.normalize_data(c_data, 'target')\n",
    "train, test = du.split_training_test(c_data, 0.2)\n",
    "train_X = train.drop(columns=['target'])\n",
    "train_y = train.target\n",
    "test_X = test.drop(columns=['target'])\n",
    "test_y = test.target"
   ]
  },
  {
   "cell_type": "markdown",
   "metadata": {},
   "source": [
    "## Overall DNN\n",
    "Train overall net for classifying all categories"
   ]
  },
  {
   "cell_type": "code",
   "execution_count": 9,
   "metadata": {},
   "outputs": [
    {
     "name": "stdout",
     "output_type": "stream",
     "text": [
      "_________________________________________________________________\n",
      "Layer (type)                 Output Shape              Param #   \n",
      "=================================================================\n",
      "dense_1 (Dense)              (None, 128)               4992      \n",
      "_________________________________________________________________\n",
      "dropout_1 (Dropout)          (None, 128)               0         \n",
      "_________________________________________________________________\n",
      "dense_2 (Dense)              (None, 128)               16512     \n",
      "_________________________________________________________________\n",
      "dropout_2 (Dropout)          (None, 128)               0         \n",
      "_________________________________________________________________\n",
      "dense_3 (Dense)              (None, 64)                8256      \n",
      "_________________________________________________________________\n",
      "dropout_3 (Dropout)          (None, 64)                0         \n",
      "_________________________________________________________________\n",
      "dense_4 (Dense)              (None, 64)                4160      \n",
      "_________________________________________________________________\n",
      "dropout_4 (Dropout)          (None, 64)                0         \n",
      "_________________________________________________________________\n",
      "dense_5 (Dense)              (None, 50)                3250      \n",
      "=================================================================\n",
      "Total params: 37,170\n",
      "Trainable params: 37,170\n",
      "Non-trainable params: 0\n",
      "_________________________________________________________________\n",
      "Epoch 1/20\n",
      "310994/310994 [==============================] - 27s 86us/step - loss: 2.8761 - acc: 0.2260\n",
      "Epoch 2/20\n",
      "310994/310994 [==============================] - 19s 62us/step - loss: 2.3877 - acc: 0.3405\n",
      "Epoch 3/20\n",
      "310994/310994 [==============================] - 20s 63us/step - loss: 2.2370 - acc: 0.3817\n",
      "Epoch 4/20\n",
      "310994/310994 [==============================] - 19s 62us/step - loss: 2.1515 - acc: 0.4053\n",
      "Epoch 5/20\n",
      "310994/310994 [==============================] - 19s 62us/step - loss: 2.0957 - acc: 0.4218\n",
      "Epoch 6/20\n",
      "310994/310994 [==============================] - 19s 62us/step - loss: 2.0554 - acc: 0.4318\n",
      "Epoch 7/20\n",
      "310994/310994 [==============================] - 20s 63us/step - loss: 2.0253 - acc: 0.4411\n",
      "Epoch 8/20\n",
      "310994/310994 [==============================] - 20s 63us/step - loss: 1.9998 - acc: 0.4477\n",
      "Epoch 9/20\n",
      "310994/310994 [==============================] - 19s 62us/step - loss: 1.9856 - acc: 0.4524\n",
      "Epoch 10/20\n",
      "310994/310994 [==============================] - 19s 62us/step - loss: 1.9666 - acc: 0.4588\n",
      "Epoch 11/20\n",
      "310994/310994 [==============================] - 19s 62us/step - loss: 1.9539 - acc: 0.4622\n",
      "Epoch 12/20\n",
      "310994/310994 [==============================] - 19s 62us/step - loss: 1.9417 - acc: 0.4653\n",
      "Epoch 13/20\n",
      "310994/310994 [==============================] - 19s 62us/step - loss: 1.9324 - acc: 0.4686\n",
      "Epoch 14/20\n",
      "310994/310994 [==============================] - 19s 62us/step - loss: 1.9254 - acc: 0.4702\n",
      "Epoch 15/20\n",
      "310994/310994 [==============================] - 19s 62us/step - loss: 1.9131 - acc: 0.4744\n",
      "Epoch 16/20\n",
      "310994/310994 [==============================] - 19s 62us/step - loss: 1.9065 - acc: 0.4761\n",
      "Epoch 17/20\n",
      "310994/310994 [==============================] - 19s 62us/step - loss: 1.9024 - acc: 0.4772\n",
      "Epoch 18/20\n",
      "310994/310994 [==============================] - 19s 62us/step - loss: 1.8939 - acc: 0.4814\n",
      "Epoch 19/20\n",
      "310994/310994 [==============================] - 19s 62us/step - loss: 1.8878 - acc: 0.4827\n",
      "Epoch 20/20\n",
      "310994/310994 [==============================] - 19s 62us/step - loss: 1.8824 - acc: 0.4841\n"
     ]
    },
    {
     "data": {
      "text/plain": [
       "<keras.callbacks.History at 0x7f69755a6860>"
      ]
     },
     "execution_count": 9,
     "metadata": {},
     "output_type": "execute_result"
    }
   ],
   "source": [
    "import dnn_classifier as dnn_clas\n",
    "clas = KerasClassifier(build_fn=dnn_clas.create_baseline, epochs=20, batch_size=128, verbose=1)\n",
    "clas.fit(train_X, train_y)"
   ]
  },
  {
   "cell_type": "code",
   "execution_count": 10,
   "metadata": {},
   "outputs": [
    {
     "name": "stdout",
     "output_type": "stream",
     "text": [
      "77749/77749 [==============================] - 1s 14us/step\n",
      "0.6172812512058032\n"
     ]
    }
   ],
   "source": [
    "print(str(metrics.accuracy_score(test_y, clas.predict(test_X))))"
   ]
  }
 ],
 "metadata": {
  "kernelspec": {
   "display_name": "Python 3",
   "language": "python",
   "name": "python3"
  },
  "language_info": {
   "codemirror_mode": {
    "name": "ipython",
    "version": 3
   },
   "file_extension": ".py",
   "mimetype": "text/x-python",
   "name": "python",
   "nbconvert_exporter": "python",
   "pygments_lexer": "ipython3",
   "version": "3.6.6"
  }
 },
 "nbformat": 4,
 "nbformat_minor": 2
}
