{
 "cells": [
  {
   "cell_type": "code",
   "execution_count": 1,
   "metadata": {},
   "outputs": [],
   "source": [
    "import pandas as pd\n",
    "import seaborn as sns\n",
    "import numpy as np\n",
    "import matplotlib.pyplot as plt\n",
    "from preprocess import Audio_Processor\n",
    "import classifiers\n",
    "import feature_reduce\n",
    "import time"
   ]
  },
  {
   "cell_type": "code",
   "execution_count": 2,
   "metadata": {},
   "outputs": [],
   "source": [
    "import warnings\n",
    "warnings.filterwarnings('ignore')"
   ]
  },
  {
   "cell_type": "markdown",
   "metadata": {},
   "source": [
    "# Setup"
   ]
  },
  {
   "cell_type": "code",
   "execution_count": 3,
   "metadata": {},
   "outputs": [],
   "source": [
    "path_to_db='../ESC-50/'\n",
    "preprocess = Audio_Processor(path_to_db + 'audio/')\n",
    "fld = 1"
   ]
  },
  {
   "cell_type": "markdown",
   "metadata": {},
   "source": [
    "# Load Dataset"
   ]
  },
  {
   "cell_type": "code",
   "execution_count": 4,
   "metadata": {},
   "outputs": [],
   "source": [
    "dataset = pd.read_csv(path_to_db + 'meta/esc50.csv')"
   ]
  },
  {
   "cell_type": "code",
   "execution_count": 5,
   "metadata": {},
   "outputs": [
    {
     "data": {
      "text/html": [
       "<div>\n",
       "<style scoped>\n",
       "    .dataframe tbody tr th:only-of-type {\n",
       "        vertical-align: middle;\n",
       "    }\n",
       "\n",
       "    .dataframe tbody tr th {\n",
       "        vertical-align: top;\n",
       "    }\n",
       "\n",
       "    .dataframe thead th {\n",
       "        text-align: right;\n",
       "    }\n",
       "</style>\n",
       "<table border=\"1\" class=\"dataframe\">\n",
       "  <thead>\n",
       "    <tr style=\"text-align: right;\">\n",
       "      <th></th>\n",
       "      <th>filename</th>\n",
       "      <th>fold</th>\n",
       "      <th>target</th>\n",
       "      <th>category</th>\n",
       "      <th>esc10</th>\n",
       "      <th>src_file</th>\n",
       "      <th>take</th>\n",
       "    </tr>\n",
       "  </thead>\n",
       "  <tbody>\n",
       "    <tr>\n",
       "      <th>0</th>\n",
       "      <td>1-100032-A-0.wav</td>\n",
       "      <td>1</td>\n",
       "      <td>0</td>\n",
       "      <td>dog</td>\n",
       "      <td>True</td>\n",
       "      <td>100032</td>\n",
       "      <td>A</td>\n",
       "    </tr>\n",
       "    <tr>\n",
       "      <th>1</th>\n",
       "      <td>1-100038-A-14.wav</td>\n",
       "      <td>1</td>\n",
       "      <td>14</td>\n",
       "      <td>chirping_birds</td>\n",
       "      <td>False</td>\n",
       "      <td>100038</td>\n",
       "      <td>A</td>\n",
       "    </tr>\n",
       "    <tr>\n",
       "      <th>2</th>\n",
       "      <td>1-100210-A-36.wav</td>\n",
       "      <td>1</td>\n",
       "      <td>36</td>\n",
       "      <td>vacuum_cleaner</td>\n",
       "      <td>False</td>\n",
       "      <td>100210</td>\n",
       "      <td>A</td>\n",
       "    </tr>\n",
       "    <tr>\n",
       "      <th>3</th>\n",
       "      <td>1-100210-B-36.wav</td>\n",
       "      <td>1</td>\n",
       "      <td>36</td>\n",
       "      <td>vacuum_cleaner</td>\n",
       "      <td>False</td>\n",
       "      <td>100210</td>\n",
       "      <td>B</td>\n",
       "    </tr>\n",
       "    <tr>\n",
       "      <th>4</th>\n",
       "      <td>1-101296-A-19.wav</td>\n",
       "      <td>1</td>\n",
       "      <td>19</td>\n",
       "      <td>thunderstorm</td>\n",
       "      <td>False</td>\n",
       "      <td>101296</td>\n",
       "      <td>A</td>\n",
       "    </tr>\n",
       "  </tbody>\n",
       "</table>\n",
       "</div>"
      ],
      "text/plain": [
       "            filename  fold  target        category  esc10  src_file take\n",
       "0   1-100032-A-0.wav     1       0             dog   True    100032    A\n",
       "1  1-100038-A-14.wav     1      14  chirping_birds  False    100038    A\n",
       "2  1-100210-A-36.wav     1      36  vacuum_cleaner  False    100210    A\n",
       "3  1-100210-B-36.wav     1      36  vacuum_cleaner  False    100210    B\n",
       "4  1-101296-A-19.wav     1      19    thunderstorm  False    101296    A"
      ]
     },
     "execution_count": 5,
     "metadata": {},
     "output_type": "execute_result"
    }
   ],
   "source": [
    "dataset.head()"
   ]
  },
  {
   "cell_type": "code",
   "execution_count": 6,
   "metadata": {},
   "outputs": [
    {
     "data": {
      "text/plain": [
       "<matplotlib.axes._subplots.AxesSubplot at 0x7f7d99c28f98>"
      ]
     },
     "execution_count": 6,
     "metadata": {},
     "output_type": "execute_result"
    },
    {
     "data": {
      "image/png": "[encoded data removed]",
      "text/plain": [
       "<Figure size 432x288 with 1 Axes>"
      ]
     },
     "metadata": {
      "needs_background": "light"
     },
     "output_type": "display_data"
    }
   ],
   "source": [
    "sns.countplot(dataset['category'])"
   ]
  },
  {
   "cell_type": "markdown",
   "metadata": {},
   "source": [
    "## Preprocessing\n",
    "Just MFCC were sufficient in previous work.\n",
    "13 coefficients together with first and second derivatives and remove first energy component.\n",
    "Should yield vector of 38 features per time frame."
   ]
  },
  {
   "cell_type": "code",
   "execution_count": 7,
   "metadata": {},
   "outputs": [],
   "source": [
    "test_file = preprocess.preprocess('1-100032-A-0.wav')"
   ]
  },
  {
   "cell_type": "markdown",
   "metadata": {},
   "source": [
    "## Getting Preprocessed Data\n",
    "We allow for previously preprocessed data to be retrieved for faster training turnaround. If the fold has been preprocessed, it is loaded but if not it is processed and saved."
   ]
  },
  {
   "cell_type": "code",
   "execution_count": 8,
   "metadata": {},
   "outputs": [],
   "source": [
    "import pickle\n",
    "def save_obj(obj, name ):\n",
    "    with open('../preprocessed_objs/'+ name + '.pkl', 'wb') as f:\n",
    "        pickle.dump(obj, f, pickle.HIGHEST_PROTOCOL)\n",
    "\n",
    "def load_obj(name):\n",
    "    with open('../preprocessed_objs/' + name + '.pkl', 'rb') as f:\n",
    "        return pickle.load(f)\n",
    "\n",
    "def process_fold(fld):\n",
    "    try:\n",
    "        df = load_obj(\"fold_\" + str(fld))\n",
    "    except IOError:\n",
    "        start_time = time.time()\n",
    "        df = preprocess.preprocess_fold(fld, dataset, parallel=False)\n",
    "        print(\"\\tBytes: \" + str(df.memory_usage(index=True).sum()))\n",
    "        print(\"\\tProcessing Time: \" + str(time.time() - start_time))\n",
    "        save_obj(df, \"fold_\" + str(fld))\n",
    "    return df"
   ]
  },
  {
   "cell_type": "code",
   "execution_count": 10,
   "metadata": {},
   "outputs": [],
   "source": [
    "c_data = process_fold(fld)"
   ]
  },
  {
   "cell_type": "code",
   "execution_count": 11,
   "metadata": {},
   "outputs": [
    {
     "data": {
      "text/html": [
       "<div>\n",
       "<style scoped>\n",
       "    .dataframe tbody tr th:only-of-type {\n",
       "        vertical-align: middle;\n",
       "    }\n",
       "\n",
       "    .dataframe tbody tr th {\n",
       "        vertical-align: top;\n",
       "    }\n",
       "\n",
       "    .dataframe thead th {\n",
       "        text-align: right;\n",
       "    }\n",
       "</style>\n",
       "<table border=\"1\" class=\"dataframe\">\n",
       "  <thead>\n",
       "    <tr style=\"text-align: right;\">\n",
       "      <th></th>\n",
       "      <th>0</th>\n",
       "      <th>1</th>\n",
       "      <th>2</th>\n",
       "      <th>3</th>\n",
       "      <th>4</th>\n",
       "      <th>5</th>\n",
       "      <th>6</th>\n",
       "      <th>7</th>\n",
       "      <th>8</th>\n",
       "      <th>9</th>\n",
       "      <th>...</th>\n",
       "      <th>29</th>\n",
       "      <th>30</th>\n",
       "      <th>31</th>\n",
       "      <th>32</th>\n",
       "      <th>33</th>\n",
       "      <th>34</th>\n",
       "      <th>35</th>\n",
       "      <th>36</th>\n",
       "      <th>37</th>\n",
       "      <th>category</th>\n",
       "    </tr>\n",
       "  </thead>\n",
       "  <tbody>\n",
       "    <tr>\n",
       "      <th>0</th>\n",
       "      <td>0.000000</td>\n",
       "      <td>0.000000</td>\n",
       "      <td>0.000000</td>\n",
       "      <td>0.000000</td>\n",
       "      <td>0.000000</td>\n",
       "      <td>0.000000</td>\n",
       "      <td>0.000000</td>\n",
       "      <td>0.000000</td>\n",
       "      <td>0.000000</td>\n",
       "      <td>0.000000</td>\n",
       "      <td>...</td>\n",
       "      <td>2.323366</td>\n",
       "      <td>5.238711</td>\n",
       "      <td>0.887285</td>\n",
       "      <td>-0.479714</td>\n",
       "      <td>-2.101468</td>\n",
       "      <td>-2.279721</td>\n",
       "      <td>-0.546664</td>\n",
       "      <td>0.781288</td>\n",
       "      <td>2.636188</td>\n",
       "      <td>dog</td>\n",
       "    </tr>\n",
       "    <tr>\n",
       "      <th>1</th>\n",
       "      <td>83.621621</td>\n",
       "      <td>-50.483010</td>\n",
       "      <td>-31.115186</td>\n",
       "      <td>-3.566867</td>\n",
       "      <td>-19.398316</td>\n",
       "      <td>-14.354486</td>\n",
       "      <td>-4.658161</td>\n",
       "      <td>-14.146847</td>\n",
       "      <td>-16.949019</td>\n",
       "      <td>-1.723476</td>\n",
       "      <td>...</td>\n",
       "      <td>2.323366</td>\n",
       "      <td>5.238711</td>\n",
       "      <td>0.887285</td>\n",
       "      <td>-0.479714</td>\n",
       "      <td>-2.101468</td>\n",
       "      <td>-2.279721</td>\n",
       "      <td>-0.546664</td>\n",
       "      <td>0.781288</td>\n",
       "      <td>2.636188</td>\n",
       "      <td>dog</td>\n",
       "    </tr>\n",
       "    <tr>\n",
       "      <th>2</th>\n",
       "      <td>109.848331</td>\n",
       "      <td>-110.083820</td>\n",
       "      <td>-54.568920</td>\n",
       "      <td>-30.153585</td>\n",
       "      <td>-58.985460</td>\n",
       "      <td>-5.598281</td>\n",
       "      <td>-5.862913</td>\n",
       "      <td>17.490401</td>\n",
       "      <td>12.544187</td>\n",
       "      <td>13.053928</td>\n",
       "      <td>...</td>\n",
       "      <td>2.323366</td>\n",
       "      <td>5.238711</td>\n",
       "      <td>0.887285</td>\n",
       "      <td>-0.479714</td>\n",
       "      <td>-2.101468</td>\n",
       "      <td>-2.279721</td>\n",
       "      <td>-0.546664</td>\n",
       "      <td>0.781288</td>\n",
       "      <td>2.636188</td>\n",
       "      <td>dog</td>\n",
       "    </tr>\n",
       "    <tr>\n",
       "      <th>3</th>\n",
       "      <td>77.698670</td>\n",
       "      <td>-123.925469</td>\n",
       "      <td>-64.058169</td>\n",
       "      <td>-27.170063</td>\n",
       "      <td>-57.606930</td>\n",
       "      <td>-9.980594</td>\n",
       "      <td>6.718248</td>\n",
       "      <td>21.293678</td>\n",
       "      <td>15.173490</td>\n",
       "      <td>-1.113725</td>\n",
       "      <td>...</td>\n",
       "      <td>2.323366</td>\n",
       "      <td>5.238711</td>\n",
       "      <td>0.887285</td>\n",
       "      <td>-0.479714</td>\n",
       "      <td>-2.101468</td>\n",
       "      <td>-2.279721</td>\n",
       "      <td>-0.546664</td>\n",
       "      <td>0.781288</td>\n",
       "      <td>2.636188</td>\n",
       "      <td>dog</td>\n",
       "    </tr>\n",
       "    <tr>\n",
       "      <th>4</th>\n",
       "      <td>58.790968</td>\n",
       "      <td>-133.719666</td>\n",
       "      <td>-76.282456</td>\n",
       "      <td>-25.140746</td>\n",
       "      <td>-54.371150</td>\n",
       "      <td>-13.053846</td>\n",
       "      <td>14.737484</td>\n",
       "      <td>17.361937</td>\n",
       "      <td>12.619366</td>\n",
       "      <td>-8.285872</td>\n",
       "      <td>...</td>\n",
       "      <td>2.323366</td>\n",
       "      <td>5.238711</td>\n",
       "      <td>0.887285</td>\n",
       "      <td>-0.479714</td>\n",
       "      <td>-2.101468</td>\n",
       "      <td>-2.279721</td>\n",
       "      <td>-0.546664</td>\n",
       "      <td>0.781288</td>\n",
       "      <td>2.636188</td>\n",
       "      <td>dog</td>\n",
       "    </tr>\n",
       "  </tbody>\n",
       "</table>\n",
       "<p>5 rows × 39 columns</p>\n",
       "</div>"
      ],
      "text/plain": [
       "            0           1          2          3          4          5  \\\n",
       "0    0.000000    0.000000   0.000000   0.000000   0.000000   0.000000   \n",
       "1   83.621621  -50.483010 -31.115186  -3.566867 -19.398316 -14.354486   \n",
       "2  109.848331 -110.083820 -54.568920 -30.153585 -58.985460  -5.598281   \n",
       "3   77.698670 -123.925469 -64.058169 -27.170063 -57.606930  -9.980594   \n",
       "4   58.790968 -133.719666 -76.282456 -25.140746 -54.371150 -13.053846   \n",
       "\n",
       "           6          7          8          9    ...           29        30  \\\n",
       "0   0.000000   0.000000   0.000000   0.000000    ...     2.323366  5.238711   \n",
       "1  -4.658161 -14.146847 -16.949019  -1.723476    ...     2.323366  5.238711   \n",
       "2  -5.862913  17.490401  12.544187  13.053928    ...     2.323366  5.238711   \n",
       "3   6.718248  21.293678  15.173490  -1.113725    ...     2.323366  5.238711   \n",
       "4  14.737484  17.361937  12.619366  -8.285872    ...     2.323366  5.238711   \n",
       "\n",
       "         31        32        33        34        35        36        37  \\\n",
       "0  0.887285 -0.479714 -2.101468 -2.279721 -0.546664  0.781288  2.636188   \n",
       "1  0.887285 -0.479714 -2.101468 -2.279721 -0.546664  0.781288  2.636188   \n",
       "2  0.887285 -0.479714 -2.101468 -2.279721 -0.546664  0.781288  2.636188   \n",
       "3  0.887285 -0.479714 -2.101468 -2.279721 -0.546664  0.781288  2.636188   \n",
       "4  0.887285 -0.479714 -2.101468 -2.279721 -0.546664  0.781288  2.636188   \n",
       "\n",
       "   category  \n",
       "0       dog  \n",
       "1       dog  \n",
       "2       dog  \n",
       "3       dog  \n",
       "4       dog  \n",
       "\n",
       "[5 rows x 39 columns]"
      ]
     },
     "execution_count": 11,
     "metadata": {},
     "output_type": "execute_result"
    }
   ],
   "source": [
    "c_data.head()"
   ]
  },
  {
   "cell_type": "code",
   "execution_count": 17,
   "metadata": {},
   "outputs": [],
   "source": [
    "n_categories = c_data.category.unique().size"
   ]
  },
  {
   "cell_type": "markdown",
   "metadata": {},
   "source": [
    "## Overall DNN\n",
    "Train DNNs for all categories over frames in preprocessed data"
   ]
  },
  {
   "cell_type": "code",
   "execution_count": null,
   "metadata": {},
   "outputs": [],
   "source": [
    "dnn = classifier.gpu_train('dnn', n_categories, c_data.drop(, c_data.category)"
   ]
  },
  {
   "cell_type": "markdown",
   "metadata": {},
   "source": [
    "## Scoring\n",
    "Here we get the log likelihood of the categories when matched with its training data"
   ]
  },
  {
   "cell_type": "code",
   "execution_count": null,
   "metadata": {},
   "outputs": [],
   "source": [
    "# a is the audio document A (a matrix of preprocessed audio frames)\n",
    "# gmm is a category trained gmm\n",
    "# b_gmm is the background trained gmm\n",
    "def score(A, gmm, b_gmm, nbytes):\n",
    "    normalization = 1 / A.shape[0]\n",
    "    n = gmm.score(A)\n",
    "    numerator = np.exp(gmm.score(A))\n",
    "    print(numerator.asarray())\n",
    "    denominator = cm.exp(b_gmm.score(A))\n",
    "    print(denominator.asarray())\n",
    "    T = numerator.divide(denominator)\n",
    "    B = cm.log(T)\n",
    "    B.mult(normalization)\n",
    "    return B.asarray()"
   ]
  },
  {
   "cell_type": "code",
   "execution_count": null,
   "metadata": {},
   "outputs": [],
   "source": [
    "score(test_file, categorical_gmms['dog'], b_gmm, category_processed['dog'].nbytes)"
   ]
  },
  {
   "cell_type": "code",
   "execution_count": null,
   "metadata": {},
   "outputs": [],
   "source": [
    "test_file.shape[1]"
   ]
  },
  {
   "cell_type": "code",
   "execution_count": null,
   "metadata": {},
   "outputs": [],
   "source": []
  }
 ],
 "metadata": {
  "kernelspec": {
   "display_name": "Python 3",
   "language": "python",
   "name": "python3"
  },
  "language_info": {
   "codemirror_mode": {
    "name": "ipython",
    "version": 3
   },
   "file_extension": ".py",
   "mimetype": "text/x-python",
   "name": "python",
   "nbconvert_exporter": "python",
   "pygments_lexer": "ipython3",
   "version": "3.6.6"
  }
 },
 "nbformat": 4,
 "nbformat_minor": 2
}
