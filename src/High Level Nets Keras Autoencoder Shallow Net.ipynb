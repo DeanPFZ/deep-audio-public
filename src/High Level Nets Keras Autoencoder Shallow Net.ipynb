{
 "cells": [
  {
   "cell_type": "code",
   "execution_count": 1,
   "metadata": {},
   "outputs": [
    {
     "name": "stderr",
     "output_type": "stream",
     "text": [
      "Using TensorFlow backend.\n"
     ]
    }
   ],
   "source": [
    "import pandas as pd\n",
    "from sklearn import metrics\n",
    "from keras.wrappers.scikit_learn import KerasClassifier\n",
    "from classification_plots import plot_confusion_matrix\n",
    "import matplotlib.pyplot as plt\n",
    "import os\n",
    "import mdn\n",
    "import tensorflow as tf"
   ]
  },
  {
   "cell_type": "code",
   "execution_count": 2,
   "metadata": {},
   "outputs": [],
   "source": [
    "# Able to specify which GPU to use\n",
    "os.environ[\"CUDA_VISIBLE_DEVICES\"]=\"1\"\n",
    "\n",
    "SR = 44100\n",
    "blocksize = 44100\n",
    "overlap = 2756"
   ]
  },
  {
   "cell_type": "code",
   "execution_count": 3,
   "metadata": {},
   "outputs": [],
   "source": [
    "import warnings\n",
    "warnings.filterwarnings('ignore')"
   ]
  },
  {
   "cell_type": "markdown",
   "metadata": {},
   "source": [
    "# Setup"
   ]
  },
  {
   "cell_type": "code",
   "execution_count": 4,
   "metadata": {},
   "outputs": [],
   "source": [
    "audio_dir = '../ESC-50/audio/'"
   ]
  },
  {
   "cell_type": "code",
   "execution_count": 5,
   "metadata": {},
   "outputs": [],
   "source": [
    "path_to_db='../ESC-50/'"
   ]
  },
  {
   "cell_type": "markdown",
   "metadata": {},
   "source": [
    "# Load Dataset\n",
    "Here we load the csv that describes each file in the dataset. We add a high level category that is defined in the ESC-50 documentation. This we realize is anthetical to true training, it is a stopgap for when we use NLP to classify tags into these categories."
   ]
  },
  {
   "cell_type": "code",
   "execution_count": 6,
   "metadata": {},
   "outputs": [],
   "source": [
    "dataset = pd.read_csv(path_to_db + 'meta/esc50.csv')\n",
    "classes = [None] * 50\n",
    "h_classes = ['Human & Animal', 'Interacting Materials']"
   ]
  },
  {
   "cell_type": "code",
   "execution_count": 7,
   "metadata": {},
   "outputs": [],
   "source": [
    "mapping = {\n",
    "    'dog': 0,\n",
    "    'rooster': 0,\n",
    "    'pig': 0,\n",
    "    'cow': 0,\n",
    "    'frog': 0,\n",
    "    'cat': 0,\n",
    "    'hen': 0,\n",
    "    'insects': 0,\n",
    "    'sheep': 0,\n",
    "    'crow': 0,\n",
    "    'rain': 1,\n",
    "    'sea_waves': 1,\n",
    "    'crackling_fire': 1,\n",
    "    'crickets': 0,\n",
    "    'chirping_birds': 0,\n",
    "    'water_drops': 1,\n",
    "    'wind': 1,\n",
    "    'pouring_water': 1,\n",
    "    'toilet_flush': 1,\n",
    "    'thunderstorm': 1,\n",
    "    'crying_baby': 0,\n",
    "    'sneezing': 0,\n",
    "    'clapping': 0,\n",
    "    'breathing': 0,\n",
    "    'coughing': 0,\n",
    "    'footsteps': 1,\n",
    "    'laughing': 0,\n",
    "    'brushing_teeth': 1,\n",
    "    'snoring': 0,\n",
    "    'drinking_sipping': 1,\n",
    "    'door_wood_knock': 1,\n",
    "    'mouse_click': 1,\n",
    "    'keyboard_typing': 1,\n",
    "    'door_wood_creaks': 1,\n",
    "    'can_opening': 1,\n",
    "    'washing_machine': 1,\n",
    "    'vacuum_cleaner': 1,\n",
    "    'clock_alarm': 1,\n",
    "    'clock_tick': 1,\n",
    "    'glass_breaking':1 ,\n",
    "    'helicopter': 1,\n",
    "    'chainsaw': 1,\n",
    "    'siren': 1,\n",
    "    'car_horn': 1,\n",
    "    'engine': 1,\n",
    "    'train': 1,\n",
    "    'church_bells': 1,\n",
    "    'airplane': 1,\n",
    "    'fireworks': 1,\n",
    "    'hand_saw': 1,\n",
    "}"
   ]
  },
  {
   "cell_type": "code",
   "execution_count": 8,
   "metadata": {},
   "outputs": [],
   "source": [
    "dataset['h_category'] = None\n",
    "for index, row in dataset.iterrows():\n",
    "    target = row['target']\n",
    "    classes[target] = row['category']\n",
    "    dataset.loc[index, 'h_category'] = mapping[row['category']]"
   ]
  },
  {
   "cell_type": "code",
   "execution_count": 9,
   "metadata": {},
   "outputs": [
    {
     "data": {
      "text/html": [
       "<div>\n",
       "<style scoped>\n",
       "    .dataframe tbody tr th:only-of-type {\n",
       "        vertical-align: middle;\n",
       "    }\n",
       "\n",
       "    .dataframe tbody tr th {\n",
       "        vertical-align: top;\n",
       "    }\n",
       "\n",
       "    .dataframe thead th {\n",
       "        text-align: right;\n",
       "    }\n",
       "</style>\n",
       "<table border=\"1\" class=\"dataframe\">\n",
       "  <thead>\n",
       "    <tr style=\"text-align: right;\">\n",
       "      <th></th>\n",
       "      <th>filename</th>\n",
       "      <th>fold</th>\n",
       "      <th>target</th>\n",
       "      <th>category</th>\n",
       "      <th>esc10</th>\n",
       "      <th>src_file</th>\n",
       "      <th>take</th>\n",
       "      <th>h_category</th>\n",
       "    </tr>\n",
       "  </thead>\n",
       "  <tbody>\n",
       "    <tr>\n",
       "      <th>0</th>\n",
       "      <td>1-100032-A-0.wav</td>\n",
       "      <td>1</td>\n",
       "      <td>0</td>\n",
       "      <td>dog</td>\n",
       "      <td>True</td>\n",
       "      <td>100032</td>\n",
       "      <td>A</td>\n",
       "      <td>0</td>\n",
       "    </tr>\n",
       "    <tr>\n",
       "      <th>1</th>\n",
       "      <td>1-100038-A-14.wav</td>\n",
       "      <td>1</td>\n",
       "      <td>14</td>\n",
       "      <td>chirping_birds</td>\n",
       "      <td>False</td>\n",
       "      <td>100038</td>\n",
       "      <td>A</td>\n",
       "      <td>0</td>\n",
       "    </tr>\n",
       "    <tr>\n",
       "      <th>2</th>\n",
       "      <td>1-100210-A-36.wav</td>\n",
       "      <td>1</td>\n",
       "      <td>36</td>\n",
       "      <td>vacuum_cleaner</td>\n",
       "      <td>False</td>\n",
       "      <td>100210</td>\n",
       "      <td>A</td>\n",
       "      <td>1</td>\n",
       "    </tr>\n",
       "    <tr>\n",
       "      <th>3</th>\n",
       "      <td>1-100210-B-36.wav</td>\n",
       "      <td>1</td>\n",
       "      <td>36</td>\n",
       "      <td>vacuum_cleaner</td>\n",
       "      <td>False</td>\n",
       "      <td>100210</td>\n",
       "      <td>B</td>\n",
       "      <td>1</td>\n",
       "    </tr>\n",
       "    <tr>\n",
       "      <th>4</th>\n",
       "      <td>1-101296-A-19.wav</td>\n",
       "      <td>1</td>\n",
       "      <td>19</td>\n",
       "      <td>thunderstorm</td>\n",
       "      <td>False</td>\n",
       "      <td>101296</td>\n",
       "      <td>A</td>\n",
       "      <td>1</td>\n",
       "    </tr>\n",
       "  </tbody>\n",
       "</table>\n",
       "</div>"
      ],
      "text/plain": [
       "            filename  fold  target        category  esc10  src_file take  \\\n",
       "0   1-100032-A-0.wav     1       0             dog   True    100032    A   \n",
       "1  1-100038-A-14.wav     1      14  chirping_birds  False    100038    A   \n",
       "2  1-100210-A-36.wav     1      36  vacuum_cleaner  False    100210    A   \n",
       "3  1-100210-B-36.wav     1      36  vacuum_cleaner  False    100210    B   \n",
       "4  1-101296-A-19.wav     1      19    thunderstorm  False    101296    A   \n",
       "\n",
       "   h_category  \n",
       "0           0  \n",
       "1           0  \n",
       "2           1  \n",
       "3           1  \n",
       "4           1  "
      ]
     },
     "execution_count": 9,
     "metadata": {},
     "output_type": "execute_result"
    }
   ],
   "source": [
    "dataset.head()"
   ]
  },
  {
   "cell_type": "code",
   "execution_count": 10,
   "metadata": {},
   "outputs": [],
   "source": [
    "import time\n",
    "import librosa\n",
    "import numpy as np\n",
    "import soundfile as sf\n",
    "\n",
    "def load_fold_audio(fld, data, debug=False):\n",
    "    start_time = time.time()\n",
    "    f_df = data[data['fold'] == fld]\n",
    "    items = []\n",
    "    target = []\n",
    "    for i, sample in f_df.iterrows():\n",
    "        if debug: print(\"File Processing\", end=\"\", flush=True)\n",
    "        y, sr = librosa.load(audio_dir + sample['filename'], sr=SR, mono=True)\n",
    "        len_second = 5.0\n",
    "        if debug: print(\".\", end=\"\", flush=True)\n",
    "        y = y[:int(sr*len_second)]\n",
    "        y = y[np.newaxis, :]\n",
    "        if debug: print(\".\", end=\"\", flush=True)\n",
    "        items.append(y)\n",
    "        target.append(sample.target)\n",
    "        if debug: print(\"Done\")\n",
    "            \n",
    "\n",
    "    print(\"\\tProcessing Time: \" + str(time.time() - start_time))\n",
    "    return np.array(items), np.array(target)\n",
    "\n",
    "def load_all_audio(data):\n",
    "    start_time = time.time()\n",
    "    items = []\n",
    "    target = []\n",
    "    for i, sample in data.iterrows():\n",
    "        y, sr = librosa.load(audio_dir + sample['filename'], sr=SR, mono=True)\n",
    "        len_second = 5.0\n",
    "        y = y[:int(sr*len_second)]\n",
    "        y = y[np.newaxis, :]\n",
    "        items.append(y)\n",
    "        target.append(sample.target)\n",
    "    print(\"\\tProcessing Time: \" + str(time.time() - start_time))\n",
    "    return np.array(items), np.array(target)\n",
    "\n",
    "def load_fold_audio_blockwise(fld, data, blocksize=1024, overlap=512, debug=False):\n",
    "    start_time = time.time()\n",
    "    f_df = data[data['fold'] == fld]\n",
    "    items = []\n",
    "    h_cat = []\n",
    "    cat = []\n",
    "    for i, sample in f_df.iterrows():\n",
    "        if debug:\n",
    "            print(\"File Processing\", end=\"\", flush=True)\n",
    "        blockgen = sf.blocks(audio_dir + sample['filename'], \n",
    "                             blocksize=blocksize, \n",
    "                             overlap=overlap, \n",
    "                             always_2d=True, \n",
    "                             fill_value=0.0)\n",
    "        SR = sf.info(audio_dir + sample['filename']).samplerate\n",
    "        for bl in blockgen:\n",
    "            if not np.any(bl):\n",
    "                continue\n",
    "            if debug:\n",
    "                print(\".\", end=\"\", flush=True)\n",
    "            y = bl.transpose()\n",
    "            y = y[:int(blocksize)]\n",
    "            y = y[np.newaxis, :]\n",
    "            items.append(y)\n",
    "            h_cat.append(sample.h_category)\n",
    "            cat.append(sample.target)\n",
    "        if debug:\n",
    "            print(\"Done\")\n",
    "\n",
    "    print(\"\\tProcessing Time: \" + str(time.time() - start_time))\n",
    "    return np.vstack(items), np.array(h_cat), np.array(cat)\n",
    "\n",
    "def load_audio_blockwise(data, blocksize=1024, overlap=512, debug=False):\n",
    "    start_time = time.time()\n",
    "    items = []\n",
    "    target = []\n",
    "    for i, sample in data.iterrows():\n",
    "        if debug:\n",
    "            print(\"File Processing\", end=\"\", flush=True)\n",
    "        blockgen = sf.blocks(audio_dir + sample['filename'], \n",
    "                             blocksize=blocksize, \n",
    "                             overlap=overlap, \n",
    "                             always_2d=True, \n",
    "                             fill_value=0.0)\n",
    "        sr = sf.info(audio_dir + sample['filename']).samplerate\n",
    "        for bl in blockgen:\n",
    "            if not np.any(bl):\n",
    "                continue\n",
    "            if debug:\n",
    "                print(\".\", end=\"\", flush=True)\n",
    "            y = bl.transpose()\n",
    "            y = y[:int(blocksize)]\n",
    "            y = y[np.newaxis, :]\n",
    "            items.append(y)\n",
    "            target.append(sample.h_category)\n",
    "        if debug:\n",
    "            print(\"Done\")\n",
    "    print(\"\\tProcessing Time: \" + str(time.time() - start_time))\n",
    "    return np.vstack(items), np.array(target)"
   ]
  },
  {
   "cell_type": "code",
   "execution_count": 11,
   "metadata": {
    "scrolled": true
   },
   "outputs": [
    {
     "name": "stdout",
     "output_type": "stream",
     "text": [
      "\tProcessing Time: 3.0131514072418213\n",
      "(2166, 1, 44100)\n"
     ]
    }
   ],
   "source": [
    "c_data, targets, c_targets = load_fold_audio_blockwise(1, dataset, blocksize, overlap)\n",
    "# c_data, targets = load_fold_audio(1, dataset)\n",
    "print(c_data.shape)"
   ]
  },
  {
   "cell_type": "markdown",
   "metadata": {},
   "source": [
    "# MFCC Visualizer"
   ]
  },
  {
   "cell_type": "code",
   "execution_count": 12,
   "metadata": {},
   "outputs": [],
   "source": [
    "%matplotlib inline\n",
    "import matplotlib.pyplot as plt\n",
    "plt.style.use('ggplot')\n",
    "import keras\n",
    "import kapre\n",
    "from datetime import datetime\n",
    "now = datetime.now()\n",
    "import librosa\n",
    "from librosa import display\n",
    "\n",
    "def check_model(model):\n",
    "    model.summary(line_length=80, positions=[.33, .65, .8, 1.])\n",
    "\n",
    "    batch_input_shape = (2,) + model.input_shape[1:]\n",
    "    batch_output_shape = (2,) + model.output_shape[1:]\n",
    "    model.compile('sgd', 'mse')\n",
    "    model.fit(np.random.uniform(size=batch_input_shape), np.random.uniform(size=batch_output_shape), epochs=1)\n",
    "\n",
    "def visualise_model(model, src, logam=False):\n",
    "    n_ch, nsp_src = model.input_shape[1:]\n",
    "    print(src.shape)\n",
    "    src = src[:nsp_src]\n",
    "    src_batch = src[np.newaxis, :]\n",
    "    pred = model.predict(x=src_batch)\n",
    "    if keras.backend.image_data_format == 'channels_first':\n",
    "        result = pred[0, 0]\n",
    "    else:\n",
    "        result = pred[0, :, :, 0]\n",
    "    display.specshow(result, y_axis='linear', sr=SR)\n",
    "    plt.show()\n",
    "    \n",
    "def evaluate_model(model, c_data):\n",
    "    pred = model.predict(x=c_data)\n",
    "    if keras.backend.image_data_format == 'channels_first':\n",
    "        result = pred[0, 0]\n",
    "    else:\n",
    "        result = pred[:, :, :, 0]\n",
    "#     result = np.swapaxes(result, 1, 2)\n",
    "    print(result.shape)\n",
    "    return result"
   ]
  },
  {
   "cell_type": "code",
   "execution_count": 13,
   "metadata": {
    "scrolled": true
   },
   "outputs": [
    {
     "name": "stdout",
     "output_type": "stream",
     "text": [
      "WARNING:tensorflow:From /usr/local/lib/python3.5/dist-packages/tensorflow/python/framework/op_def_library.py:263: colocate_with (from tensorflow.python.framework.ops) is deprecated and will be removed in a future version.\n",
      "Instructions for updating:\n",
      "Colocations handled automatically by placer.\n",
      "________________________________________________________________________________\n",
      "Layer (type)              Output Shape              Param #     \n",
      "================================================================================\n",
      "static_stft (Spectrogram) (None, 513, 690, 1)       1050624     \n",
      "________________________________________________________________________________\n",
      "mel_bank (Filterbank)     (None, 100, 690, 1)       51300       \n",
      "================================================================================\n",
      "Total params: 1,101,924\n",
      "Trainable params: 0\n",
      "Non-trainable params: 1,101,924\n",
      "________________________________________________________________________________\n",
      "Epoch 1/1\n",
      "2/2 [==============================] - 7s 3s/step - loss: 1.8627\n",
      "(1, 44100)\n"
     ]
    },
    {
     "data": {
      "image/png": "[encoded data removed]",
      "text/plain": [
       "<Figure size 432x288 with 1 Axes>"
      ]
     },
     "metadata": {},
     "output_type": "display_data"
    },
    {
     "name": "stdout",
     "output_type": "stream",
     "text": [
      "(2166, 100, 690)\n"
     ]
    }
   ],
   "source": [
    "import keras\n",
    "import kapre\n",
    "from keras.models import Sequential\n",
    "from kapre.time_frequency import Melspectrogram, Spectrogram\n",
    "from kapre.filterbank import Filterbank\n",
    "import numpy as np\n",
    "\n",
    "src = np.random.random((1, blocksize))\n",
    "model = Sequential()\n",
    "model.add(Spectrogram(n_dft=1024, n_hop=64, input_shape=src.shape, \n",
    "          return_decibel_spectrogram=True, power_spectrogram=2.0, \n",
    "          trainable_kernel=False, name='static_stft'))\n",
    "model.add(Filterbank(n_fbs=100, trainable_fb=False, sr=SR, init='mel', fmin=0, fmax=SR//2, bins_per_octave=12,\n",
    "                    name='mel_bank'))\n",
    "check_model(model)\n",
    "# for src in c_data:\n",
    "visualise_model(model, c_data[1])\n",
    "mfccs = evaluate_model(model, c_data)\n",
    "n_targets = np.repeat(targets, mfccs.shape[1])\n",
    "cat_targets = np.repeat(c_targets, mfccs.shape[1])"
   ]
  },
  {
   "cell_type": "code",
   "execution_count": 23,
   "metadata": {},
   "outputs": [],
   "source": [
    "frames = mfccs"
   ]
  },
  {
   "cell_type": "code",
   "execution_count": 15,
   "metadata": {},
   "outputs": [],
   "source": [
    "# # Divide audio samples into dilated spectral buffers\n",
    "# def make_dilated_spectral_frames(spectrogram,\n",
    "#                                  num_frames, \n",
    "#                                  dilation_factor):\n",
    "#     dilated_frames = np.zeros((len(spectrogram), \n",
    "#                               num_frames, \n",
    "#                               len(spectrogram[0])))\n",
    "\n",
    "#     for i in range(len(spectrogram)):\n",
    "#         for j in range(num_frames):\n",
    "#             dilation = np.power(dilation_factor, j)\n",
    "\n",
    "#             if i - dilation < 0:\n",
    "#                 dilated_frames[i][j] = spectrogram[0]\n",
    "#             else:\n",
    "#                 dilated_frames[i][j] = spectrogram[i - dilation]\n",
    "\n",
    "#     return dilated_frames"
   ]
  },
  {
   "cell_type": "code",
   "execution_count": 16,
   "metadata": {},
   "outputs": [],
   "source": [
    "# frames = []\n",
    "# for frame in mfccs:\n",
    "#     frames.append(make_dilated_spectral_frames(frame, 42, 4))"
   ]
  },
  {
   "cell_type": "code",
   "execution_count": 17,
   "metadata": {},
   "outputs": [],
   "source": [
    "# frames = np.vstack(frames)\n",
    "# print(frames.shape)"
   ]
  },
  {
   "cell_type": "code",
   "execution_count": 18,
   "metadata": {},
   "outputs": [
    {
     "data": {
      "image/png": "[encoded data removed]",
      "text/plain": [
       "<Figure size 432x288 with 1 Axes>"
      ]
     },
     "metadata": {},
     "output_type": "display_data"
    }
   ],
   "source": [
    "display.specshow(frames[6], y_axis='linear', sr=SR)\n",
    "plt.show()"
   ]
  },
  {
   "cell_type": "code",
   "execution_count": 19,
   "metadata": {},
   "outputs": [
    {
     "data": {
      "text/plain": [
       "(2166, 100, 690, 1)"
      ]
     },
     "execution_count": 19,
     "metadata": {},
     "output_type": "execute_result"
    }
   ],
   "source": [
    "frames = np.expand_dims(frames, axis=3)\n",
    "frames.shape"
   ]
  },
  {
   "cell_type": "markdown",
   "metadata": {},
   "source": [
    "## Autoencoder"
   ]
  },
  {
   "cell_type": "code",
   "execution_count": 20,
   "metadata": {},
   "outputs": [],
   "source": [
    "from keras.models import Model\n",
    "from keras.layers import MaxPooling2D, UpSampling2D, InputLayer, RepeatVector, Flatten, Dense, Reshape, Conv2D, MaxPool2D, Conv2DTranspose, Input\n",
    "\n",
    "def build_pca_autoencoder(img_shape,code_size=32, optimizer_type='adadelta', loss_type='mse'):\n",
    "    \"\"\"\n",
    "    Here we define a simple linear autoencoder as described above.\n",
    "    We also flatten and un-flatten data to be compatible with image shapes\n",
    "    \"\"\"\n",
    "    \n",
    "    encoder = keras.models.Sequential(name='encoder')\n",
    "    encoder.add(InputLayer(img_shape))\n",
    "    encoder.add(Flatten())                  #flatten image to vector\n",
    "    encoder.add(Dense(code_size*8, activation='relu'))\n",
    "    encoder.add(Dense(code_size*4, activation='tanh'))\n",
    "    encoder.add(Dense(code_size*2, activation='tanh'))\n",
    "    encoder.add(Dense(code_size))           #actual encoder\n",
    "\n",
    "    decoder = keras.models.Sequential(name='decoder')\n",
    "    decoder.add(InputLayer((code_size,)))\n",
    "    decoder.add(Dense(code_size*2, activation='tanh'))\n",
    "    decoder.add(Dense(code_size*4, activation='tanh'))\n",
    "    decoder.add(Dense(code_size*8, activation='relu'))\n",
    "    decoder.add(Dense(np.prod(img_shape)))  #actual decoder, height*width*3 units\n",
    "    decoder.add(Reshape(img_shape))         #un-flatten\n",
    "    \n",
    "    decoder.compile(optimizer=optimizer_type,\n",
    "                        loss = loss_type,\n",
    "                        metrics=['acc'])\n",
    "    \n",
    "    inp = Input(img_shape)\n",
    "    code = encoder(inp)\n",
    "    reconstruction = decoder(code)\n",
    "    \n",
    "    autoencoder = Model(inp, reconstruction)\n",
    "    autoencoder.compile(optimizer_type, loss_type, metrics=['acc'])\n",
    "    \n",
    "    autoencoder.summary()\n",
    "    \n",
    "    return autoencoder\n",
    "\n",
    "def build_deep_conv_autoencoder(img_shape=None, output_shape=None, optimizer_type='adadelta', loss_type='binary_crossentropy'):\n",
    "    n_hidden_1 = 32  # 1st hidden layer\n",
    "    n_hidden_2 = 16  # 2nd hidden layer\n",
    "    n_hidden_3 = 8  # 3rd hidden layer\n",
    "\n",
    "    convkernel = (3, 3)  # convolution (uses filters): n_filters_1 -> n_filters_2\n",
    "    poolkernel = (2, 2)  # pooling (down/up samples image): ypix -> ypix/ypoolkernel, xpix -> xpix/ypoolkernel\n",
    "\n",
    "    ### Encoding hidden layers ###\n",
    "    input_img = Input(shape=input_shape)  # input layer (ypixels, xpixels, n_channels)\n",
    "    x = Conv2D(n_hidden_1, convkernel, activation='relu', padding='same')(input_img)\n",
    "    x = MaxPooling2D(poolkernel, padding='same')(x)\n",
    "    x = Conv2D(n_hidden_2, convkernel, activation='relu', padding='same')(x)\n",
    "    x = MaxPooling2D(poolkernel, padding='same')(x)\n",
    "    x = Conv2D(n_hidden_3, convkernel, activation='relu', padding='same')(x)\n",
    "    encoded = MaxPooling2D(poolkernel, padding='same', name='encoder')(x)  # encoding layer\n",
    "\n",
    "    ### Decoding hidden layers ###\n",
    "    x = Conv2D(n_hidden_3, convkernel, activation='relu', padding='same')(encoded)\n",
    "    x = UpSampling2D(poolkernel)(x)\n",
    "    x = Conv2D(n_hidden_2, convkernel, activation='relu', padding='same')(x)\n",
    "    x = UpSampling2D(poolkernel)(x)\n",
    "    x = Conv2D(n_hidden_1, convkernel, activation='relu')(x)\n",
    "    x = UpSampling2D(poolkernel)(x)\n",
    "    decoded = Conv2D(output_shape[2], convkernel, activation='sigmoid', padding='same')(x) # output layer\n",
    "    \n",
    "    autoencoder = Model(input_img, decoded)\n",
    "    \n",
    "    autoencoder.compile(optimizer_type, loss_type, metrics=['acc'])\n",
    "    \n",
    "    autoencoder.summary()\n",
    "    \n",
    "    return autoencoder"
   ]
  },
  {
   "cell_type": "code",
   "execution_count": null,
   "metadata": {},
   "outputs": [
    {
     "name": "stdout",
     "output_type": "stream",
     "text": [
      "Loading Previously Trained Model\n",
      "Couldn't find model, training new one\n",
      "_________________________________________________________________\n",
      "Layer (type)                 Output Shape              Param #   \n",
      "=================================================================\n",
      "input_9 (InputLayer)         (None, 100, 690)          0         \n",
      "_________________________________________________________________\n",
      "encoder (Sequential)         (None, 64)                35500992  \n",
      "_________________________________________________________________\n",
      "decoder (Sequential)         (None, 100, 690)          35569928  \n",
      "=================================================================\n",
      "Total params: 71,070,920\n",
      "Trainable params: 71,070,920\n",
      "Non-trainable params: 0\n",
      "_________________________________________________________________\n",
      "Epoch 1/100\n",
      "2166/2166 [==============================] - 22s 10ms/step - loss: 0.8569 - acc: 0.0111\n",
      "Epoch 2/100\n",
      "2166/2166 [==============================] - 9s 4ms/step - loss: 0.1402 - acc: 0.0242\n",
      "Epoch 3/100\n",
      "2166/2166 [==============================] - 9s 4ms/step - loss: 0.1385 - acc: 0.0263\n",
      "Epoch 4/100\n",
      "2166/2166 [==============================] - 9s 4ms/step - loss: 0.1385 - acc: 0.0251\n",
      "Epoch 5/100\n",
      "2166/2166 [==============================] - 9s 4ms/step - loss: 0.1373 - acc: 0.0268\n",
      "Epoch 6/100\n",
      "2166/2166 [==============================] - 9s 4ms/step - loss: 0.1375 - acc: 0.0258\n",
      "Epoch 7/100\n",
      "2166/2166 [==============================] - 9s 4ms/step - loss: 0.1365 - acc: 0.0245\n",
      "Epoch 8/100\n",
      "2166/2166 [==============================] - 8s 4ms/step - loss: 0.1390 - acc: 0.0257\n",
      "Epoch 9/100\n",
      "2166/2166 [==============================] - 8s 3ms/step - loss: 0.1373 - acc: 0.0239\n",
      "Epoch 10/100\n",
      "2166/2166 [==============================] - 7s 3ms/step - loss: 0.1309 - acc: 0.0203\n",
      "Epoch 11/100\n",
      "2166/2166 [==============================] - 8s 4ms/step - loss: 0.1065 - acc: 0.0162\n",
      "Epoch 12/100\n",
      "2166/2166 [==============================] - 7s 3ms/step - loss: 0.0945 - acc: 0.0152\n",
      "Epoch 13/100\n",
      "2166/2166 [==============================] - 7s 3ms/step - loss: 0.0844 - acc: 0.0147\n",
      "Epoch 14/100\n",
      "2166/2166 [==============================] - 7s 3ms/step - loss: 0.0862 - acc: 0.0129\n",
      "Epoch 15/100\n",
      "2166/2166 [==============================] - 7s 3ms/step - loss: 0.0826 - acc: 0.0102\n",
      "Epoch 16/100\n",
      "2166/2166 [==============================] - 7s 3ms/step - loss: 0.0742 - acc: 0.0086\n",
      "Epoch 17/100\n",
      "2166/2166 [==============================] - 7s 3ms/step - loss: 0.0728 - acc: 0.0068\n",
      "Epoch 18/100\n",
      "2166/2166 [==============================] - 7s 3ms/step - loss: 0.0661 - acc: 0.0062\n",
      "Epoch 19/100\n",
      "2166/2166 [==============================] - 7s 3ms/step - loss: 0.0619 - acc: 0.0069\n",
      "Epoch 20/100\n",
      "2166/2166 [==============================] - 7s 3ms/step - loss: 0.0615 - acc: 0.0084\n",
      "Epoch 21/100\n",
      "2166/2166 [==============================] - 7s 3ms/step - loss: 0.0595 - acc: 0.0106\n",
      "Epoch 22/100\n",
      "2166/2166 [==============================] - 7s 3ms/step - loss: 0.0578 - acc: 0.0122\n",
      "Epoch 23/100\n",
      "2166/2166 [==============================] - 8s 4ms/step - loss: 0.0573 - acc: 0.0129\n",
      "Epoch 24/100\n",
      "2166/2166 [==============================] - 7s 3ms/step - loss: 0.0573 - acc: 0.0143\n",
      "Epoch 25/100\n",
      "2166/2166 [==============================] - 8s 4ms/step - loss: 0.0564 - acc: 0.0141\n",
      "Epoch 26/100\n",
      "2166/2166 [==============================] - 7s 3ms/step - loss: 0.0567 - acc: 0.0156\n",
      "Epoch 27/100\n",
      "2166/2166 [==============================] - 8s 4ms/step - loss: 0.0552 - acc: 0.0156\n",
      "Epoch 28/100\n",
      "2166/2166 [==============================] - 7s 3ms/step - loss: 0.0551 - acc: 0.0162\n",
      "Epoch 29/100\n",
      "2166/2166 [==============================] - 8s 3ms/step - loss: 0.0553 - acc: 0.0151\n",
      "Epoch 30/100\n",
      "2166/2166 [==============================] - 7s 3ms/step - loss: 0.0551 - acc: 0.0173\n",
      "Epoch 31/100\n",
      "2166/2166 [==============================] - 8s 3ms/step - loss: 0.0547 - acc: 0.0157\n",
      "Epoch 32/100\n",
      "2166/2166 [==============================] - 7s 3ms/step - loss: 0.0540 - acc: 0.0164\n",
      "Epoch 33/100\n",
      "2166/2166 [==============================] - 9s 4ms/step - loss: 0.0555 - acc: 0.0161\n",
      "Epoch 34/100\n",
      "2166/2166 [==============================] - 9s 4ms/step - loss: 0.0533 - acc: 0.0173\n",
      "Epoch 35/100\n",
      "2166/2166 [==============================] - 9s 4ms/step - loss: 0.0541 - acc: 0.0164\n",
      "Epoch 36/100\n",
      "2166/2166 [==============================] - 7s 3ms/step - loss: 0.0542 - acc: 0.0164\n",
      "Epoch 37/100\n",
      "2166/2166 [==============================] - 9s 4ms/step - loss: 0.0539 - acc: 0.0156\n",
      "Epoch 38/100\n",
      "2166/2166 [==============================] - 8s 4ms/step - loss: 0.0533 - acc: 0.0158\n",
      "Epoch 39/100\n",
      "2166/2166 [==============================] - 9s 4ms/step - loss: 0.0540 - acc: 0.0175\n",
      "Epoch 40/100\n",
      "2166/2166 [==============================] - 8s 4ms/step - loss: 0.0543 - acc: 0.0159\n",
      "Epoch 41/100\n",
      "2166/2166 [==============================] - 7s 3ms/step - loss: 0.0535 - acc: 0.0160\n",
      "Epoch 42/100\n",
      "2166/2166 [==============================] - 8s 4ms/step - loss: 0.0524 - acc: 0.0160\n"
     ]
    }
   ],
   "source": [
    "from keras.models import model_from_json\n",
    "try:\n",
    "    print(\"Loading Previously Trained Model\")\n",
    "    json_file = open('autoencoder_model.json', 'r')\n",
    "    loaded_model_json = json_file.read()\n",
    "    json_file.close()\n",
    "    auto = model_from_json(loaded_model_json)\n",
    "    auto.load_weights('autoencoder_weights.hd5')\n",
    "    auto.compile(optimizer='adam', loss='mse')\n",
    "    auto.summary()\n",
    "except:\n",
    "    print(\"Couldn't find model, training new one\")\n",
    "    auto = build_pca_autoencoder(img_shape=frames[0].shape, code_size=64)\n",
    "    auto.fit(x=frames, y=frames, epochs=100, shuffle=True, verbose=1)\n",
    "    model_json = auto.to_json()\n",
    "    with open('autoencoder_model.json', 'w') as json_file:\n",
    "        json_file.write(model_json)\n",
    "    auto.save_weights('autoencoder_weights.hd5')"
   ]
  },
  {
   "cell_type": "code",
   "execution_count": null,
   "metadata": {},
   "outputs": [],
   "source": [
    "result = auto.predict(frames, verbose=1)\n",
    "print(result.shape)"
   ]
  },
  {
   "cell_type": "code",
   "execution_count": null,
   "metadata": {},
   "outputs": [],
   "source": [
    "display.specshow(np.squeeze(result[100]), y_axis='linear', sr=SR)\n",
    "plt.show()\n",
    "display.specshow(np.squeeze(frames[100]), y_axis='linear', sr=SR)\n",
    "plt.show()"
   ]
  },
  {
   "cell_type": "markdown",
   "metadata": {},
   "source": [
    "# Encode"
   ]
  },
  {
   "cell_type": "code",
   "execution_count": null,
   "metadata": {},
   "outputs": [],
   "source": [
    "enc = keras.models.Sequential(name='encoder')\n",
    "enc.add(InputLayer((8,100)))\n",
    "enc.add(auto.get_layer('encoder'))\n",
    "dta = enc.predict(frames, verbose=1)\n",
    "print(dta.shape)"
   ]
  },
  {
   "cell_type": "code",
   "execution_count": null,
   "metadata": {},
   "outputs": [],
   "source": [
    "print(n_targets.shape)"
   ]
  },
  {
   "cell_type": "code",
   "execution_count": null,
   "metadata": {},
   "outputs": [],
   "source": [
    "from sklearn.model_selection import train_test_split\n",
    "train_X, test_X, train_y, test_y = train_test_split(\n",
    "                        dta, n_targets, test_size=0.20, random_state=42)"
   ]
  },
  {
   "cell_type": "markdown",
   "metadata": {},
   "source": [
    "## High-Level Shallow Nets\n",
    "Train binary shallow nets for high level categories(animal vs interacting objects)"
   ]
  },
  {
   "cell_type": "code",
   "execution_count": null,
   "metadata": {},
   "outputs": [],
   "source": [
    "from keras.models import Sequential\n",
    "from keras.layers import Dense, Dropout, Convolution2D, MaxPooling2D, Flatten\n",
    "import keras.metrics as kmet\n",
    "from kapre.time_frequency import Melspectrogram, Spectrogram\n",
    "from kapre.utils import Normalization2D\n",
    "from kapre.augmentation import AdditiveNoise\n",
    "\n",
    "dropout = 0.25\n",
    "\n",
    "epochs = 20\n",
    "batch = 128\n",
    "\n",
    "latent_dim = 32\n",
    "\n",
    "src = np.random.random((1, blocksize))\n",
    "\n",
    "def gpu_mfcc_shallow_net():\n",
    "    # Create Model\n",
    "    model = Sequential()\n",
    "    model.add(Dense(32, activation='relu', input_shape=(32,)))\n",
    "    model.add(Dropout(0.2))\n",
    "    model.add(Dense(16, activation='relu'))\n",
    "    model.add(Dense(1, kernel_initializer='normal', activation='sigmoid'))\n",
    "    \n",
    "    # Compile model\n",
    "    model.compile(loss='binary_crossentropy',\n",
    "                  optimizer='adam',\n",
    "                  metrics=['accuracy', kmet.mae])\n",
    "    \n",
    "    model.summary()\n",
    "\n",
    "    \n",
    "    return model\n",
    "\n",
    "def gpu_mfcc_deep_net_a():\n",
    "    # Create Model\n",
    "    model = Sequential()\n",
    "    model.add(Dense(128, activation='relu', input_shape=(32,)))\n",
    "    model.add(Dropout(0.2))\n",
    "    model.add(Dense(128, activation='relu'))\n",
    "    model.add(Dropout(0.2))\n",
    "    model.add(Dense(64, activation='relu'))\n",
    "    model.add(Dense(19, kernel_initializer='normal', activation='sigmoid'))\n",
    "    \n",
    "    # Compile model\n",
    "    model.compile(loss='categorical_crossentropy',\n",
    "                  optimizer='adam',\n",
    "                  metrics=['accuracy', kmet.mae])\n",
    "    \n",
    "    model.summary()\n",
    "\n",
    "    \n",
    "    return model\n",
    "\n",
    "def gpu_mfcc_deep_net_i():\n",
    "    # Create Model\n",
    "    model = Sequential()\n",
    "    model.add(Dense(128, activation='relu', input_shape=(32,)))\n",
    "    model.add(Dropout(0.2))\n",
    "    model.add(Dense(128, activation='relu'))\n",
    "    model.add(Dropout(0.2))\n",
    "    model.add(Dense(64, activation='relu'))\n",
    "    model.add(Dense(31, kernel_initializer='normal', activation='sigmoid'))\n",
    "    \n",
    "    # Compile model\n",
    "    model.compile(loss='categorical_crossentropy',\n",
    "                  optimizer='adam',\n",
    "                  metrics=['accuracy', kmet.mae])\n",
    "    \n",
    "    model.summary()\n",
    "\n",
    "    \n",
    "    return model"
   ]
  },
  {
   "cell_type": "code",
   "execution_count": null,
   "metadata": {
    "scrolled": true
   },
   "outputs": [],
   "source": [
    "clas = KerasClassifier(build_fn=gpu_mfcc_shallow_net, epochs=epochs, batch_size=batch, validation_split=0.15)\n",
    "history = clas.fit(train_X, train_y)"
   ]
  },
  {
   "cell_type": "code",
   "execution_count": null,
   "metadata": {
    "scrolled": true
   },
   "outputs": [],
   "source": [
    "plt.figure(figsize=(10, 5))\n",
    "# plt.ylim([0,9])\n",
    "plt.plot(history.history['loss'])\n",
    "plt.plot(history.history['val_loss'])\n",
    "plt.show()"
   ]
  },
  {
   "cell_type": "code",
   "execution_count": null,
   "metadata": {},
   "outputs": [],
   "source": [
    "pred = clas.predict(test_X)\n",
    "print(metrics.accuracy_score(test_y, pred))\n",
    "cm = metrics.confusion_matrix(test_y, pred)\n",
    "plt.figure(figsize=(10,10))\n",
    "plot_confusion_matrix(cm, h_classes)\n",
    "plt.show()"
   ]
  },
  {
   "cell_type": "markdown",
   "metadata": {},
   "source": [
    "# Deep Net\n",
    "Separate into classes"
   ]
  },
  {
   "cell_type": "code",
   "execution_count": null,
   "metadata": {},
   "outputs": [],
   "source": [
    "dta_a = dta[n_targets == 0]\n",
    "targ_a = cat_targets[n_targets == 0]\n",
    "dta_i = dta[n_targets == 1]\n",
    "targ_i = cat_targets[n_targets == 1]"
   ]
  },
  {
   "cell_type": "code",
   "execution_count": null,
   "metadata": {},
   "outputs": [],
   "source": [
    "names_a = []\n",
    "for name in np.unique(targ_a):\n",
    "    names_a.append(classes[name])\n",
    "names_i = []\n",
    "for name in np.unique(targ_i):\n",
    "    names_i.append(classes[name])\n",
    "print(names_a)\n",
    "print(names_i)"
   ]
  },
  {
   "cell_type": "code",
   "execution_count": null,
   "metadata": {},
   "outputs": [],
   "source": [
    "print(targ_a.shape)\n",
    "print(targ_i.shape)\n",
    "print(cat_targets.shape)\n",
    "print()\n",
    "print(dta_a.shape)\n",
    "print(dta_i.shape)\n",
    "print(dta.shape)"
   ]
  },
  {
   "cell_type": "markdown",
   "metadata": {},
   "source": [
    "## Animal Sounds"
   ]
  },
  {
   "cell_type": "code",
   "execution_count": null,
   "metadata": {},
   "outputs": [],
   "source": [
    "train_X, test_X, train_y, test_y = train_test_split(\n",
    "                        dta_a, targ_a, test_size=0.20, random_state=56)"
   ]
  },
  {
   "cell_type": "code",
   "execution_count": null,
   "metadata": {
    "scrolled": true
   },
   "outputs": [],
   "source": [
    "anim = KerasClassifier(build_fn=gpu_mfcc_deep_net_a, epochs=epochs, batch_size=batch, validation_split=0.15)\n",
    "history = anim.fit(train_X, train_y)"
   ]
  },
  {
   "cell_type": "code",
   "execution_count": null,
   "metadata": {},
   "outputs": [],
   "source": [
    "plt.figure(figsize=(10, 5))\n",
    "# plt.ylim([0,9])\n",
    "plt.plot(history.history['loss'])\n",
    "plt.plot(history.history['val_loss'])\n",
    "plt.show()"
   ]
  },
  {
   "cell_type": "code",
   "execution_count": null,
   "metadata": {},
   "outputs": [],
   "source": [
    "pred = anim.predict(test_X)\n",
    "print(metrics.accuracy_score(test_y, pred))\n",
    "cm = metrics.confusion_matrix(test_y, pred)\n",
    "plt.figure(figsize=(10,10))\n",
    "plot_confusion_matrix(cm, names_a)\n",
    "plt.show()"
   ]
  },
  {
   "cell_type": "markdown",
   "metadata": {},
   "source": [
    "## Interacting Materials"
   ]
  },
  {
   "cell_type": "code",
   "execution_count": null,
   "metadata": {},
   "outputs": [],
   "source": [
    "train_X, test_X, train_y, test_y = train_test_split(\n",
    "                        dta_i, targ_i, test_size=0.20, random_state=75)"
   ]
  },
  {
   "cell_type": "code",
   "execution_count": null,
   "metadata": {
    "scrolled": true
   },
   "outputs": [],
   "source": [
    "inter = KerasClassifier(build_fn=gpu_mfcc_deep_net_i, epochs=epochs, batch_size=batch, validation_split=0.15)\n",
    "history = inter.fit(train_X, train_y)"
   ]
  },
  {
   "cell_type": "code",
   "execution_count": null,
   "metadata": {},
   "outputs": [],
   "source": [
    "plt.figure(figsize=(10, 5))\n",
    "# plt.ylim([0,9])\n",
    "plt.plot(history.history['loss'])\n",
    "plt.plot(history.history['val_loss'])\n",
    "plt.show()"
   ]
  },
  {
   "cell_type": "code",
   "execution_count": null,
   "metadata": {},
   "outputs": [],
   "source": [
    "pred = inter.predict(test_X)\n",
    "print(metrics.accuracy_score(test_y, pred))\n",
    "cm = metrics.confusion_matrix(test_y, pred)\n",
    "plt.figure(figsize=(10,10))\n",
    "plot_confusion_matrix(cm, names_i)\n",
    "plt.show()"
   ]
  },
  {
   "cell_type": "markdown",
   "metadata": {},
   "source": [
    "# All Data"
   ]
  },
  {
   "cell_type": "code",
   "execution_count": null,
   "metadata": {},
   "outputs": [],
   "source": [
    "X2, y2, y22 = load_fold_audio_blockwise(2, dataset, blocksize, overlap)\n",
    "X3, y3, y33 = load_fold_audio_blockwise(3, dataset, blocksize, overlap)\n",
    "X4, y4, y44 = load_fold_audio_blockwise(4, dataset, blocksize, overlap)\n",
    "X5, y5, y55 = load_fold_audio_blockwise(5, dataset, blocksize, overlap)"
   ]
  },
  {
   "cell_type": "code",
   "execution_count": null,
   "metadata": {},
   "outputs": [],
   "source": [
    "X = np.vstack((X2, X3, X4, X5))\n",
    "print(X.shape)"
   ]
  },
  {
   "cell_type": "code",
   "execution_count": null,
   "metadata": {},
   "outputs": [],
   "source": [
    "y = np.concatenate((y2, y3, y4, y5))\n",
    "yy = np.concatenate((y22, y33, y44, y55))\n",
    "print(y.shape)\n",
    "print(yy.shape)"
   ]
  },
  {
   "cell_type": "code",
   "execution_count": null,
   "metadata": {
    "scrolled": true
   },
   "outputs": [],
   "source": [
    "testing_mfccs = evaluate_model(model, X)\n",
    "print(testing_mfccs.shape)\n",
    "test_frames = []\n",
    "for frame in testing_mfccs:\n",
    "    test_frames.append(make_dilated_spectral_frames(frame, 8, 2))\n",
    "test_frames = np.vstack(test_frames)\n",
    "print(test_frames.shape)\n",
    "test_dta = enc.predict(test_frames ,verbose=1)\n",
    "print(test_dta.shape)"
   ]
  },
  {
   "cell_type": "code",
   "execution_count": null,
   "metadata": {},
   "outputs": [],
   "source": [
    "testing_n_targets = np.repeat(y, testing_mfccs.shape[1])\n",
    "testing_cat_targets = np.repeat(yy, testing_mfccs.shape[1])\n",
    "print(testing_n_targets.shape)\n",
    "print(testing_cat_targets.shape)"
   ]
  },
  {
   "cell_type": "code",
   "execution_count": null,
   "metadata": {},
   "outputs": [],
   "source": [
    "pred = clas.predict(test_dta, verbose=1)\n",
    "print(metrics.accuracy_score(testing_n_targets, pred))\n",
    "cm = metrics.confusion_matrix(testing_n_targets, pred)\n",
    "plt.figure(figsize=(10,10))\n",
    "plot_confusion_matrix(cm, h_classes)\n",
    "plt.show()"
   ]
  },
  {
   "cell_type": "code",
   "execution_count": null,
   "metadata": {},
   "outputs": [],
   "source": [
    "test_dta_a = test_dta[testing_n_targets == 0]\n",
    "test_targ_a = testing_cat_targets[testing_n_targets == 0]\n",
    "test_dta_i = test_dta[testing_n_targets == 1]\n",
    "test_targ_i = testing_cat_targets[testing_n_targets == 1]"
   ]
  },
  {
   "cell_type": "code",
   "execution_count": null,
   "metadata": {},
   "outputs": [],
   "source": [
    "pred = anim.predict(test_dta_a)\n",
    "print(metrics.accuracy_score(test_targ_a, pred))\n",
    "cm = metrics.confusion_matrix(test_targ_a, pred)\n",
    "plt.figure(figsize=(10,10))\n",
    "plot_confusion_matrix(cm, names_a)\n",
    "plt.show()"
   ]
  },
  {
   "cell_type": "code",
   "execution_count": null,
   "metadata": {},
   "outputs": [],
   "source": [
    "pred = inter.predict(test_dta_i)\n",
    "print(metrics.accuracy_score(test_targ_i, pred))\n",
    "cm = metrics.confusion_matrix(test_targ_i, pred)\n",
    "plt.figure(figsize=(10,10))\n",
    "plot_confusion_matrix(cm, names_i)\n",
    "plt.show()"
   ]
  },
  {
   "cell_type": "markdown",
   "metadata": {},
   "source": [
    "# Testing Accuracy of Single File"
   ]
  },
  {
   "cell_type": "code",
   "execution_count": null,
   "metadata": {},
   "outputs": [],
   "source": [
    "total_pred = []\n",
    "for i in range(0, X.shape[0]):\n",
    "    x_file = X[i]\n",
    "    y_file = y[i]\n",
    "#     print(x_file.shape)\n",
    "    file_mfccs = evaluate_model(model, np.expand_dims(x_file, axis=0))\n",
    "#     print(file_mfccs.shape)\n",
    "    file_frames = []\n",
    "    for frame in file_mfccs:\n",
    "        file_frames.append(make_dilated_spectral_frames(frame, 8, 2))\n",
    "    file_frames = np.vstack(file_frames)\n",
    "#     print(file_frames.shape)\n",
    "    test_dta = enc.predict(file_frames ,verbose=0)\n",
    "#     print(test_dta.shape)\n",
    "    pred = clas.predict(test_dta, verbose=0)[:,0]\n",
    "    total_pred.append(np.bincount(pred).argmax())"
   ]
  },
  {
   "cell_type": "code",
   "execution_count": null,
   "metadata": {},
   "outputs": [],
   "source": [
    "print(metrics.accuracy_score(y, total_pred))\n",
    "cm = metrics.confusion_matrix(y, total_pred)\n",
    "plt.figure(figsize=(10,10))\n",
    "plot_confusion_matrix(cm, h_classes)\n",
    "plt.show()"
   ]
  },
  {
   "cell_type": "code",
   "execution_count": null,
   "metadata": {},
   "outputs": [],
   "source": [
    "a = auto.predict(file_frames)\n",
    "for i in range(0, 20):\n",
    "    display.specshow(a[i], y_axis='linear', sr=SR)\n",
    "    plt.show()\n",
    "    display.specshow(file_frames[i], y_axis='linear', sr=SR)\n",
    "    plt.show()"
   ]
  },
  {
   "cell_type": "code",
   "execution_count": null,
   "metadata": {},
   "outputs": [],
   "source": []
  }
 ],
 "metadata": {
  "kernelspec": {
   "display_name": "Python 3",
   "language": "python",
   "name": "python3"
  },
  "language_info": {
   "codemirror_mode": {
    "name": "ipython",
    "version": 3
   },
   "file_extension": ".py",
   "mimetype": "text/x-python",
   "name": "python",
   "nbconvert_exporter": "python",
   "pygments_lexer": "ipython3",
   "version": "3.5.2"
  }
 },
 "nbformat": 4,
 "nbformat_minor": 2
}
