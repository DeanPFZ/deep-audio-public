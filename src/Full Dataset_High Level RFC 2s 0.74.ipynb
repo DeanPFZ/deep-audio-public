{
 "cells": [
  {
   "cell_type": "code",
   "execution_count": 1,
   "metadata": {},
   "outputs": [
    {
     "name": "stderr",
     "output_type": "stream",
     "text": [
      "Using TensorFlow backend.\n"
     ]
    },
    {
     "name": "stdout",
     "output_type": "stream",
     "text": [
      "WARNING:tensorflow:From /usr/local/lib/python3.5/dist-packages/magenta/models/nsynth/wavenet/masked.py:116: UniformUnitScaling.__init__ (from tensorflow.python.ops.init_ops) is deprecated and will be removed in a future version.\n",
      "Instructions for updating:\n",
      "Use tf.initializers.variance_scaling instead with distribution=uniform to get equivalent behavior.\n"
     ]
    },
    {
     "name": "stderr",
     "output_type": "stream",
     "text": [
      "/usr/lib/python3.5/importlib/_bootstrap.py:222: RuntimeWarning: numpy.dtype size changed, may indicate binary incompatibility. Expected 96, got 88\n",
      "  return f(*args, **kwds)\n"
     ]
    }
   ],
   "source": [
    "import pandas as pd\n",
    "from preprocess import Audio_Processor\n",
    "from sklearn import metrics\n",
    "from classification_plots import plot_confusion_matrix, plot_learning_curve\n",
    "import matplotlib.pyplot as plt\n",
    "import os\n",
    "import numpy as np\n",
    "from sklearn.ensemble import RandomForestClassifier"
   ]
  },
  {
   "cell_type": "code",
   "execution_count": 2,
   "metadata": {},
   "outputs": [],
   "source": [
    "# Able to specify which GPU to use\n",
    "os.environ[\"CUDA_VISIBLE_DEVICES\"]=\"1\"\n",
    "\n",
    "SR = 44100\n",
    "blocksize = 88200\n",
    "overlap = 22050"
   ]
  },
  {
   "cell_type": "code",
   "execution_count": 3,
   "metadata": {},
   "outputs": [],
   "source": [
    "import warnings\n",
    "warnings.filterwarnings('ignore')"
   ]
  },
  {
   "cell_type": "markdown",
   "metadata": {},
   "source": [
    "# Setup"
   ]
  },
  {
   "cell_type": "code",
   "execution_count": 4,
   "metadata": {},
   "outputs": [],
   "source": [
    "path_to_db = '../../FSDKaggle2018/'"
   ]
  },
  {
   "cell_type": "code",
   "execution_count": 5,
   "metadata": {},
   "outputs": [],
   "source": [
    "ps = Audio_Processor(path_to_db + 'train/')"
   ]
  },
  {
   "cell_type": "markdown",
   "metadata": {},
   "source": [
    "# Load Dataset\n",
    "Here we load the csv that describes each file in the dataset. We add a high level category that is defined in the ESC-50 documentation. This we realize is anthetical to true training, it is a stopgap for when we use NLP to classify tags into these categories."
   ]
  },
  {
   "cell_type": "code",
   "execution_count": 6,
   "metadata": {
    "scrolled": true
   },
   "outputs": [
    {
     "name": "stdout",
     "output_type": "stream",
     "text": [
      "          fname         label\n",
      "0  00044347.wav        Hi-hat\n",
      "1  001ca53d.wav     Saxophone\n",
      "2  002d256b.wav       Trumpet\n",
      "3  0033e230.wav  Glockenspiel\n",
      "4  00353774.wav         Cello\n"
     ]
    }
   ],
   "source": [
    "dataset = pd.read_csv(path_to_db + 'meta/train.csv')\n",
    "classes = dataset.label.unique()\n",
    "dataset = dataset.drop(['manually_verified', 'freesound_id', 'license'], axis=1)\n",
    "print(dataset.head())"
   ]
  },
  {
   "cell_type": "code",
   "execution_count": 7,
   "metadata": {},
   "outputs": [],
   "source": [
    "h_classes = ['Human & Animal', 'Interacting Materials', 'Musical Instruments']\n",
    "mapping = {'Hi-hat': h_classes[2],'Saxophone': h_classes[2],'Trumpet': h_classes[2],\n",
    "           'Glockenspiel': h_classes[2],'Cello': h_classes[2],'Knock': h_classes[1],\n",
    "           'Gunshot_or_gunfire': h_classes[1],'Clarinet': h_classes[2],'Computer_keyboard': h_classes[1],\n",
    "           'Keys_jangling': h_classes[1],'Snare_drum': h_classes[2],'Writing': h_classes[1],\n",
    "           'Laughter': h_classes[0],'Tearing': h_classes[1],'Fart': h_classes[1],'Oboe': h_classes[2],\n",
    "           'Flute': h_classes[2],'Cough': h_classes[0], 'Telephone': h_classes[1], 'Bark': h_classes[0],\n",
    "           'Chime': h_classes[2],'Bass_drum': h_classes[2],'Bus': h_classes[1], 'Squeak': h_classes[0],\n",
    "           'Scissors': h_classes[1],'Harmonica': h_classes[2],'Gong': h_classes[2],'Microwave_oven': h_classes[1],\n",
    "           'Burping_or_eructation': h_classes[0],'Double_bass': h_classes[2],'Shatter': h_classes[1],\n",
    "           'Fireworks': h_classes[1], 'Tambourine': h_classes[2], 'Cowbell': h_classes[2], 'Electric_piano': h_classes[2],\n",
    "           'Meow': h_classes[0], 'Drawer_open_or_close': h_classes[1], 'Applause': h_classes[1], 'Acoustic_guitar': h_classes[2],\n",
    "           'Violin_or_fiddle': h_classes[2], 'Finger_snapping': h_classes[1]\n",
    "            }"
   ]
  },
  {
   "cell_type": "code",
   "execution_count": 8,
   "metadata": {},
   "outputs": [],
   "source": [
    "from data_utils import enumerate_strings\n",
    "dataset['h_category'] = None\n",
    "for index, row in dataset.iterrows():\n",
    "    row['target'] = np.where(classes == row['label'])\n",
    "    dataset.loc[index, 'h_category'] = mapping[row['label']]\n",
    "dataset.columns = ['filename', 'target', 'h_category']"
   ]
  },
  {
   "cell_type": "code",
   "execution_count": 9,
   "metadata": {},
   "outputs": [],
   "source": [
    "enum_map = enumerate_strings(dataset, ['filename'])"
   ]
  },
  {
   "cell_type": "code",
   "execution_count": 10,
   "metadata": {},
   "outputs": [
    {
     "data": {
      "text/html": [
       "<div>\n",
       "<style scoped>\n",
       "    .dataframe tbody tr th:only-of-type {\n",
       "        vertical-align: middle;\n",
       "    }\n",
       "\n",
       "    .dataframe tbody tr th {\n",
       "        vertical-align: top;\n",
       "    }\n",
       "\n",
       "    .dataframe thead th {\n",
       "        text-align: right;\n",
       "    }\n",
       "</style>\n",
       "<table border=\"1\" class=\"dataframe\">\n",
       "  <thead>\n",
       "    <tr style=\"text-align: right;\">\n",
       "      <th></th>\n",
       "      <th>filename</th>\n",
       "      <th>target</th>\n",
       "      <th>h_category</th>\n",
       "    </tr>\n",
       "  </thead>\n",
       "  <tbody>\n",
       "    <tr>\n",
       "      <th>0</th>\n",
       "      <td>00044347.wav</td>\n",
       "      <td>23</td>\n",
       "      <td>2</td>\n",
       "    </tr>\n",
       "    <tr>\n",
       "      <th>1</th>\n",
       "      <td>001ca53d.wav</td>\n",
       "      <td>30</td>\n",
       "      <td>2</td>\n",
       "    </tr>\n",
       "    <tr>\n",
       "      <th>2</th>\n",
       "      <td>002d256b.wav</td>\n",
       "      <td>38</td>\n",
       "      <td>2</td>\n",
       "    </tr>\n",
       "    <tr>\n",
       "      <th>3</th>\n",
       "      <td>0033e230.wav</td>\n",
       "      <td>19</td>\n",
       "      <td>2</td>\n",
       "    </tr>\n",
       "    <tr>\n",
       "      <th>4</th>\n",
       "      <td>00353774.wav</td>\n",
       "      <td>6</td>\n",
       "      <td>2</td>\n",
       "    </tr>\n",
       "  </tbody>\n",
       "</table>\n",
       "</div>"
      ],
      "text/plain": [
       "       filename  target  h_category\n",
       "0  00044347.wav      23           2\n",
       "1  001ca53d.wav      30           2\n",
       "2  002d256b.wav      38           2\n",
       "3  0033e230.wav      19           2\n",
       "4  00353774.wav       6           2"
      ]
     },
     "execution_count": 10,
     "metadata": {},
     "output_type": "execute_result"
    }
   ],
   "source": [
    "dataset.head()"
   ]
  },
  {
   "cell_type": "markdown",
   "metadata": {},
   "source": [
    "## Getting Preprocessed Data\n",
    "We allow for previously preprocessed data to be retrieved for faster training turnaround. If the fold has been preprocessed, it is loaded but if not it is processed and saved."
   ]
  },
  {
   "cell_type": "code",
   "execution_count": 11,
   "metadata": {},
   "outputs": [
    {
     "name": "stdout",
     "output_type": "stream",
     "text": [
      "Preprocess file not found, building new one\n",
      "Epoch 1/1\n",
      "2/2 [==============================] - 0s 73ms/step - loss: 1.2481\n",
      "Epoch 1/1\n",
      "2/2 [==============================] - 0s 59ms/step - loss: 1.3325\n",
      "\tBytes: 41583760\n",
      "\tProcessing Time: 412.1176781654358\n"
     ]
    }
   ],
   "source": [
    "df = ps.preprocess_fold(dataset, \n",
    "                        kind='mfcc', \n",
    "                        fld=None, \n",
    "                        blocksize=blocksize, \n",
    "                        overlap=overlap)"
   ]
  },
  {
   "cell_type": "code",
   "execution_count": 12,
   "metadata": {},
   "outputs": [
    {
     "data": {
      "text/html": [
       "<div>\n",
       "<style scoped>\n",
       "    .dataframe tbody tr th:only-of-type {\n",
       "        vertical-align: middle;\n",
       "    }\n",
       "\n",
       "    .dataframe tbody tr th {\n",
       "        vertical-align: top;\n",
       "    }\n",
       "\n",
       "    .dataframe thead th {\n",
       "        text-align: right;\n",
       "    }\n",
       "</style>\n",
       "<table border=\"1\" class=\"dataframe\">\n",
       "  <thead>\n",
       "    <tr style=\"text-align: right;\">\n",
       "      <th></th>\n",
       "      <th>0</th>\n",
       "      <th>1</th>\n",
       "      <th>2</th>\n",
       "      <th>3</th>\n",
       "      <th>4</th>\n",
       "      <th>5</th>\n",
       "      <th>6</th>\n",
       "      <th>7</th>\n",
       "      <th>8</th>\n",
       "      <th>9</th>\n",
       "      <th>...</th>\n",
       "      <th>106</th>\n",
       "      <th>107</th>\n",
       "      <th>108</th>\n",
       "      <th>109</th>\n",
       "      <th>110</th>\n",
       "      <th>111</th>\n",
       "      <th>112</th>\n",
       "      <th>113</th>\n",
       "      <th>l_target</th>\n",
       "      <th>h_target</th>\n",
       "    </tr>\n",
       "  </thead>\n",
       "  <tbody>\n",
       "    <tr>\n",
       "      <th>count</th>\n",
       "      <td>44810.000000</td>\n",
       "      <td>44810.000000</td>\n",
       "      <td>44810.000000</td>\n",
       "      <td>44810.000000</td>\n",
       "      <td>44810.000000</td>\n",
       "      <td>44810.000000</td>\n",
       "      <td>44810.000000</td>\n",
       "      <td>44810.000000</td>\n",
       "      <td>44810.000000</td>\n",
       "      <td>44810.000000</td>\n",
       "      <td>...</td>\n",
       "      <td>44810.000000</td>\n",
       "      <td>44810.000000</td>\n",
       "      <td>44810.000000</td>\n",
       "      <td>44810.000000</td>\n",
       "      <td>4.481000e+04</td>\n",
       "      <td>44810.000000</td>\n",
       "      <td>44810.000000</td>\n",
       "      <td>44810.000000</td>\n",
       "      <td>44810.000000</td>\n",
       "      <td>44810.000000</td>\n",
       "    </tr>\n",
       "    <tr>\n",
       "      <th>mean</th>\n",
       "      <td>0.305461</td>\n",
       "      <td>0.281579</td>\n",
       "      <td>0.197100</td>\n",
       "      <td>0.166051</td>\n",
       "      <td>0.148133</td>\n",
       "      <td>0.136162</td>\n",
       "      <td>0.127719</td>\n",
       "      <td>0.126106</td>\n",
       "      <td>0.120266</td>\n",
       "      <td>0.116599</td>\n",
       "      <td>...</td>\n",
       "      <td>-0.000023</td>\n",
       "      <td>0.000009</td>\n",
       "      <td>-0.000033</td>\n",
       "      <td>-0.000007</td>\n",
       "      <td>-2.383799e-05</td>\n",
       "      <td>-0.000006</td>\n",
       "      <td>-0.000020</td>\n",
       "      <td>0.000006</td>\n",
       "      <td>1.288976</td>\n",
       "      <td>19.323522</td>\n",
       "    </tr>\n",
       "    <tr>\n",
       "      <th>std</th>\n",
       "      <td>0.174752</td>\n",
       "      <td>0.155775</td>\n",
       "      <td>0.093901</td>\n",
       "      <td>0.076952</td>\n",
       "      <td>0.069367</td>\n",
       "      <td>0.063084</td>\n",
       "      <td>0.059307</td>\n",
       "      <td>0.059033</td>\n",
       "      <td>0.055951</td>\n",
       "      <td>0.055776</td>\n",
       "      <td>...</td>\n",
       "      <td>0.001411</td>\n",
       "      <td>0.001418</td>\n",
       "      <td>0.001380</td>\n",
       "      <td>0.001363</td>\n",
       "      <td>1.407572e-03</td>\n",
       "      <td>0.001425</td>\n",
       "      <td>0.001392</td>\n",
       "      <td>0.001410</td>\n",
       "      <td>0.726143</td>\n",
       "      <td>12.799254</td>\n",
       "    </tr>\n",
       "    <tr>\n",
       "      <th>min</th>\n",
       "      <td>0.000000</td>\n",
       "      <td>0.000000</td>\n",
       "      <td>0.000000</td>\n",
       "      <td>0.000000</td>\n",
       "      <td>0.000000</td>\n",
       "      <td>0.000000</td>\n",
       "      <td>0.000000</td>\n",
       "      <td>0.000000</td>\n",
       "      <td>0.000000</td>\n",
       "      <td>0.000000</td>\n",
       "      <td>...</td>\n",
       "      <td>-0.083204</td>\n",
       "      <td>-0.080932</td>\n",
       "      <td>-0.080932</td>\n",
       "      <td>-0.083204</td>\n",
       "      <td>-8.320420e-02</td>\n",
       "      <td>-0.074527</td>\n",
       "      <td>-0.083204</td>\n",
       "      <td>-0.083204</td>\n",
       "      <td>0.000000</td>\n",
       "      <td>0.000000</td>\n",
       "    </tr>\n",
       "    <tr>\n",
       "      <th>25%</th>\n",
       "      <td>0.164970</td>\n",
       "      <td>0.158161</td>\n",
       "      <td>0.135545</td>\n",
       "      <td>0.116806</td>\n",
       "      <td>0.104591</td>\n",
       "      <td>0.096683</td>\n",
       "      <td>0.091047</td>\n",
       "      <td>0.088180</td>\n",
       "      <td>0.085289</td>\n",
       "      <td>0.081516</td>\n",
       "      <td>...</td>\n",
       "      <td>-0.000102</td>\n",
       "      <td>-0.000060</td>\n",
       "      <td>-0.000094</td>\n",
       "      <td>-0.000067</td>\n",
       "      <td>-8.569586e-05</td>\n",
       "      <td>-0.000068</td>\n",
       "      <td>-0.000076</td>\n",
       "      <td>-0.000067</td>\n",
       "      <td>1.000000</td>\n",
       "      <td>8.000000</td>\n",
       "    </tr>\n",
       "    <tr>\n",
       "      <th>50%</th>\n",
       "      <td>0.292621</td>\n",
       "      <td>0.276811</td>\n",
       "      <td>0.200347</td>\n",
       "      <td>0.167452</td>\n",
       "      <td>0.146805</td>\n",
       "      <td>0.134852</td>\n",
       "      <td>0.126264</td>\n",
       "      <td>0.123693</td>\n",
       "      <td>0.117820</td>\n",
       "      <td>0.113319</td>\n",
       "      <td>...</td>\n",
       "      <td>-0.000001</td>\n",
       "      <td>0.000001</td>\n",
       "      <td>-0.000002</td>\n",
       "      <td>0.000000</td>\n",
       "      <td>-5.670032e-11</td>\n",
       "      <td>0.000000</td>\n",
       "      <td>0.000000</td>\n",
       "      <td>0.000000</td>\n",
       "      <td>1.000000</td>\n",
       "      <td>18.000000</td>\n",
       "    </tr>\n",
       "    <tr>\n",
       "      <th>75%</th>\n",
       "      <td>0.428757</td>\n",
       "      <td>0.391737</td>\n",
       "      <td>0.256137</td>\n",
       "      <td>0.213985</td>\n",
       "      <td>0.188353</td>\n",
       "      <td>0.172746</td>\n",
       "      <td>0.160721</td>\n",
       "      <td>0.161343</td>\n",
       "      <td>0.151136</td>\n",
       "      <td>0.146862</td>\n",
       "      <td>...</td>\n",
       "      <td>0.000063</td>\n",
       "      <td>0.000096</td>\n",
       "      <td>0.000058</td>\n",
       "      <td>0.000081</td>\n",
       "      <td>5.943927e-05</td>\n",
       "      <td>0.000076</td>\n",
       "      <td>0.000063</td>\n",
       "      <td>0.000072</td>\n",
       "      <td>2.000000</td>\n",
       "      <td>31.000000</td>\n",
       "    </tr>\n",
       "    <tr>\n",
       "      <th>max</th>\n",
       "      <td>0.896305</td>\n",
       "      <td>0.832861</td>\n",
       "      <td>0.713347</td>\n",
       "      <td>0.582631</td>\n",
       "      <td>0.568958</td>\n",
       "      <td>0.521126</td>\n",
       "      <td>0.547562</td>\n",
       "      <td>0.531187</td>\n",
       "      <td>0.489776</td>\n",
       "      <td>0.490594</td>\n",
       "      <td>...</td>\n",
       "      <td>0.073829</td>\n",
       "      <td>0.083204</td>\n",
       "      <td>0.083204</td>\n",
       "      <td>0.074527</td>\n",
       "      <td>8.093240e-02</td>\n",
       "      <td>0.083204</td>\n",
       "      <td>0.080932</td>\n",
       "      <td>0.080932</td>\n",
       "      <td>2.000000</td>\n",
       "      <td>40.000000</td>\n",
       "    </tr>\n",
       "  </tbody>\n",
       "</table>\n",
       "<p>8 rows × 116 columns</p>\n",
       "</div>"
      ],
      "text/plain": [
       "                  0             1             2             3             4  \\\n",
       "count  44810.000000  44810.000000  44810.000000  44810.000000  44810.000000   \n",
       "mean       0.305461      0.281579      0.197100      0.166051      0.148133   \n",
       "std        0.174752      0.155775      0.093901      0.076952      0.069367   \n",
       "min        0.000000      0.000000      0.000000      0.000000      0.000000   \n",
       "25%        0.164970      0.158161      0.135545      0.116806      0.104591   \n",
       "50%        0.292621      0.276811      0.200347      0.167452      0.146805   \n",
       "75%        0.428757      0.391737      0.256137      0.213985      0.188353   \n",
       "max        0.896305      0.832861      0.713347      0.582631      0.568958   \n",
       "\n",
       "                  5             6             7             8             9  \\\n",
       "count  44810.000000  44810.000000  44810.000000  44810.000000  44810.000000   \n",
       "mean       0.136162      0.127719      0.126106      0.120266      0.116599   \n",
       "std        0.063084      0.059307      0.059033      0.055951      0.055776   \n",
       "min        0.000000      0.000000      0.000000      0.000000      0.000000   \n",
       "25%        0.096683      0.091047      0.088180      0.085289      0.081516   \n",
       "50%        0.134852      0.126264      0.123693      0.117820      0.113319   \n",
       "75%        0.172746      0.160721      0.161343      0.151136      0.146862   \n",
       "max        0.521126      0.547562      0.531187      0.489776      0.490594   \n",
       "\n",
       "           ...                106           107           108           109  \\\n",
       "count      ...       44810.000000  44810.000000  44810.000000  44810.000000   \n",
       "mean       ...          -0.000023      0.000009     -0.000033     -0.000007   \n",
       "std        ...           0.001411      0.001418      0.001380      0.001363   \n",
       "min        ...          -0.083204     -0.080932     -0.080932     -0.083204   \n",
       "25%        ...          -0.000102     -0.000060     -0.000094     -0.000067   \n",
       "50%        ...          -0.000001      0.000001     -0.000002      0.000000   \n",
       "75%        ...           0.000063      0.000096      0.000058      0.000081   \n",
       "max        ...           0.073829      0.083204      0.083204      0.074527   \n",
       "\n",
       "                110           111           112           113      l_target  \\\n",
       "count  4.481000e+04  44810.000000  44810.000000  44810.000000  44810.000000   \n",
       "mean  -2.383799e-05     -0.000006     -0.000020      0.000006      1.288976   \n",
       "std    1.407572e-03      0.001425      0.001392      0.001410      0.726143   \n",
       "min   -8.320420e-02     -0.074527     -0.083204     -0.083204      0.000000   \n",
       "25%   -8.569586e-05     -0.000068     -0.000076     -0.000067      1.000000   \n",
       "50%   -5.670032e-11      0.000000      0.000000      0.000000      1.000000   \n",
       "75%    5.943927e-05      0.000076      0.000063      0.000072      2.000000   \n",
       "max    8.093240e-02      0.083204      0.080932      0.080932      2.000000   \n",
       "\n",
       "           h_target  \n",
       "count  44810.000000  \n",
       "mean      19.323522  \n",
       "std       12.799254  \n",
       "min        0.000000  \n",
       "25%        8.000000  \n",
       "50%       18.000000  \n",
       "75%       31.000000  \n",
       "max       40.000000  \n",
       "\n",
       "[8 rows x 116 columns]"
      ]
     },
     "execution_count": 12,
     "metadata": {},
     "output_type": "execute_result"
    }
   ],
   "source": [
    "df.describe()"
   ]
  },
  {
   "cell_type": "code",
   "execution_count": 13,
   "metadata": {},
   "outputs": [],
   "source": [
    "from sklearn.model_selection import train_test_split\n",
    "train, test, = train_test_split(\n",
    "                        df, test_size=0.20, random_state=125)"
   ]
  },
  {
   "cell_type": "code",
   "execution_count": 14,
   "metadata": {},
   "outputs": [],
   "source": [
    "train_X = train.drop(['l_target', 'h_target'], axis=1)\n",
    "train_y = train['l_target']\n",
    "test_X = test.drop(['l_target', 'h_target'], axis=1)\n",
    "test_y = test['l_target']"
   ]
  },
  {
   "cell_type": "markdown",
   "metadata": {},
   "source": [
    "# Shallow Net\n",
    "Separate into classes"
   ]
  },
  {
   "cell_type": "code",
   "execution_count": 15,
   "metadata": {},
   "outputs": [
    {
     "data": {
      "text/plain": [
       "GridSearchCV(cv=5, error_score='raise-deprecating',\n",
       "       estimator=RandomForestClassifier(bootstrap=True, class_weight=None, criterion='gini',\n",
       "            max_depth=None, max_features='auto', max_leaf_nodes=None,\n",
       "            min_impurity_decrease=0.0, min_impurity_split=None,\n",
       "            min_samples_leaf=1, min_samples_split=2,\n",
       "            min_weight_fraction_leaf=0.0, n_estimators='warn', n_jobs=None,\n",
       "            oob_score=False, random_state=None, verbose=0,\n",
       "            warm_start=False),\n",
       "       fit_params=None, iid='warn', n_jobs=None,\n",
       "       param_grid={'n_estimators': range(5, 25), 'criterion': ('gini', 'entropy')},\n",
       "       pre_dispatch='2*n_jobs', refit=True, return_train_score='warn',\n",
       "       scoring=None, verbose=0)"
      ]
     },
     "execution_count": 15,
     "metadata": {},
     "output_type": "execute_result"
    }
   ],
   "source": [
    "from sklearn.model_selection import GridSearchCV\n",
    "params = {\n",
    "          'n_estimators': range(5,25,1),\n",
    "          'criterion': ('gini', 'entropy')\n",
    "         }\n",
    "\n",
    "rfc = RandomForestClassifier()\n",
    "\n",
    "clf = GridSearchCV(rfc, params, cv=5)\n",
    "\n",
    "clf.fit(train_X, train_y)"
   ]
  },
  {
   "cell_type": "code",
   "execution_count": 16,
   "metadata": {},
   "outputs": [
    {
     "name": "stdout",
     "output_type": "stream",
     "text": [
      "0.7428029457710332\n",
      "Confusion matrix, without normalization\n",
      "[[ 543  558  348]\n",
      " [ 183 2815  547]\n",
      " [ 120  549 3299]]\n"
     ]
    },
    {
     "data": {
      "image/png": "[encoded data removed]",
      "text/plain": [
       "<Figure size 720x720 with 2 Axes>"
      ]
     },
     "metadata": {
      "needs_background": "light"
     },
     "output_type": "display_data"
    }
   ],
   "source": [
    "pred = clf.predict(test_X)\n",
    "print(metrics.accuracy_score(test_y, pred))\n",
    "cm = metrics.confusion_matrix(test_y, pred)\n",
    "plt.figure(figsize=(10,10))\n",
    "plot_confusion_matrix(cm, h_classes)\n",
    "plt.show()"
   ]
  },
  {
   "cell_type": "markdown",
   "metadata": {},
   "source": [
    "# All Data"
   ]
  },
  {
   "cell_type": "code",
   "execution_count": 21,
   "metadata": {},
   "outputs": [
    {
     "name": "stdout",
     "output_type": "stream",
     "text": [
      "{'h_category': LabelEncoder(), 'target': LabelEncoder()}\n"
     ]
    }
   ],
   "source": [
    "print(enum_map)"
   ]
  },
  {
   "cell_type": "code",
   "execution_count": 28,
   "metadata": {},
   "outputs": [
    {
     "name": "stdout",
     "output_type": "stream",
     "text": [
      "['Acoustic_guitar' 'Applause' 'Bark' 'Bass_drum' 'Burping_or_eructation'\n",
      " 'Bus' 'Cello' 'Chime' 'Clarinet' 'Computer_keyboard' 'Cough' 'Cowbell'\n",
      " 'Double_bass' 'Drawer_open_or_close' 'Electric_piano' 'Fart'\n",
      " 'Finger_snapping' 'Fireworks' 'Flute' 'Glockenspiel' 'Gong'\n",
      " 'Gunshot_or_gunfire' 'Harmonica' 'Hi-hat' 'Keys_jangling' 'Knock'\n",
      " 'Laughter' 'Meow' 'Microwave_oven' 'Oboe' 'Saxophone' 'Scissors'\n",
      " 'Shatter' 'Snare_drum' 'Squeak' 'Tambourine' 'Tearing' 'Telephone'\n",
      " 'Trumpet' 'Violin_or_fiddle' 'Writing']\n"
     ]
    },
    {
     "data": {
      "text/html": [
       "<div>\n",
       "<style scoped>\n",
       "    .dataframe tbody tr th:only-of-type {\n",
       "        vertical-align: middle;\n",
       "    }\n",
       "\n",
       "    .dataframe tbody tr th {\n",
       "        vertical-align: top;\n",
       "    }\n",
       "\n",
       "    .dataframe thead th {\n",
       "        text-align: right;\n",
       "    }\n",
       "</style>\n",
       "<table border=\"1\" class=\"dataframe\">\n",
       "  <thead>\n",
       "    <tr style=\"text-align: right;\">\n",
       "      <th></th>\n",
       "      <th>h_target</th>\n",
       "      <th>l_target</th>\n",
       "    </tr>\n",
       "  </thead>\n",
       "  <tbody>\n",
       "    <tr>\n",
       "      <th>0</th>\n",
       "      <td>Flute</td>\n",
       "      <td>Musical Instruments</td>\n",
       "    </tr>\n",
       "    <tr>\n",
       "      <th>1</th>\n",
       "      <td>Applause</td>\n",
       "      <td>Interacting Materials</td>\n",
       "    </tr>\n",
       "    <tr>\n",
       "      <th>2</th>\n",
       "      <td>Laughter</td>\n",
       "      <td>Human &amp; Animal</td>\n",
       "    </tr>\n",
       "    <tr>\n",
       "      <th>3</th>\n",
       "      <td>Bark</td>\n",
       "      <td>Human &amp; Animal</td>\n",
       "    </tr>\n",
       "    <tr>\n",
       "      <th>4</th>\n",
       "      <td>Fireworks</td>\n",
       "      <td>Interacting Materials</td>\n",
       "    </tr>\n",
       "  </tbody>\n",
       "</table>\n",
       "</div>"
      ],
      "text/plain": [
       "    h_target               l_target\n",
       "0      Flute    Musical Instruments\n",
       "1   Applause  Interacting Materials\n",
       "2   Laughter         Human & Animal\n",
       "3       Bark         Human & Animal\n",
       "4  Fireworks  Interacting Materials"
      ]
     },
     "execution_count": 28,
     "metadata": {},
     "output_type": "execute_result"
    }
   ],
   "source": [
    "import seaborn as sns\n",
    "misclassified = {\n",
    "    'h_target': [],\n",
    "    'l_target': []\n",
    "}\n",
    "\n",
    "classes = enum_map['target'].inverse_transform(range(0,41))\n",
    "print(classes)\n",
    "\n",
    "for row, p, Y in zip(test.iterrows(), pred, test_y):\n",
    "    if p != Y:\n",
    "        misclassified['h_target'].append(classes[int(row[1]['h_target'])])\n",
    "        misclassified['l_target'].append(h_classes[Y])\n",
    "\n",
    "misclassified = pd.DataFrame.from_dict(misclassified)\n",
    "misclassified.head()"
   ]
  },
  {
   "cell_type": "code",
   "execution_count": 29,
   "metadata": {},
   "outputs": [
    {
     "data": {
      "text/plain": [
       "<matplotlib.axes._subplots.AxesSubplot at 0x7f34a8ba76a0>"
      ]
     },
     "execution_count": 29,
     "metadata": {},
     "output_type": "execute_result"
    },
    {
     "data": {
      "image/png": "[encoded data removed]",
      "text/plain": [
       "<Figure size 3600x720 with 1 Axes>"
      ]
     },
     "metadata": {
      "needs_background": "light"
     },
     "output_type": "display_data"
    }
   ],
   "source": [
    "from matplotlib import pyplot as plt\n",
    "fig, ax = plt.subplots(figsize=(50,10))\n",
    "sns.countplot(x='h_target', hue='l_target',data=misclassified)"
   ]
  },
  {
   "cell_type": "code",
   "execution_count": null,
   "metadata": {},
   "outputs": [],
   "source": []
  }
 ],
 "metadata": {
  "kernelspec": {
   "display_name": "Python 3",
   "language": "python",
   "name": "python3"
  },
  "language_info": {
   "codemirror_mode": {
    "name": "ipython",
    "version": 3
   },
   "file_extension": ".py",
   "mimetype": "text/x-python",
   "name": "python",
   "nbconvert_exporter": "python",
   "pygments_lexer": "ipython3",
   "version": "3.5.2"
  }
 },
 "nbformat": 4,
 "nbformat_minor": 2
}
