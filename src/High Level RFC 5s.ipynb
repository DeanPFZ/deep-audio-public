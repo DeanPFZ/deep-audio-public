{
 "cells": [
  {
   "cell_type": "code",
   "execution_count": 1,
   "metadata": {},
   "outputs": [
    {
     "name": "stderr",
     "output_type": "stream",
     "text": [
      "Using TensorFlow backend.\n"
     ]
    },
    {
     "name": "stdout",
     "output_type": "stream",
     "text": [
      "WARNING:tensorflow:From /usr/local/lib/python3.5/dist-packages/magenta/models/nsynth/wavenet/masked.py:115: UniformUnitScaling.__init__ (from tensorflow.python.ops.init_ops) is deprecated and will be removed in a future version.\n",
      "Instructions for updating:\n",
      "Use tf.initializers.variance_scaling instead with distribution=uniform to get equivalent behavior.\n"
     ]
    },
    {
     "name": "stderr",
     "output_type": "stream",
     "text": [
      "/usr/lib/python3.5/importlib/_bootstrap.py:222: RuntimeWarning: numpy.dtype size changed, may indicate binary incompatibility. Expected 96, got 88\n",
      "  return f(*args, **kwds)\n"
     ]
    }
   ],
   "source": [
    "import pandas as pd\n",
    "from preprocess import Audio_Processor\n",
    "from sklearn import metrics\n",
    "from classification_plots import plot_confusion_matrix, plot_learning_curve\n",
    "import matplotlib.pyplot as plt\n",
    "import os\n",
    "from sklearn.ensemble import RandomForestClassifier"
   ]
  },
  {
   "cell_type": "code",
   "execution_count": 2,
   "metadata": {},
   "outputs": [],
   "source": [
    "# Able to specify which GPU to use\n",
    "os.environ[\"CUDA_VISIBLE_DEVICES\"]=\"1\"\n",
    "\n",
    "SR = 16000\n",
    "blocksize = int(SR * 5)\n",
    "overlap = 0"
   ]
  },
  {
   "cell_type": "code",
   "execution_count": 3,
   "metadata": {},
   "outputs": [],
   "source": [
    "import warnings\n",
    "warnings.filterwarnings('ignore')"
   ]
  },
  {
   "cell_type": "markdown",
   "metadata": {},
   "source": [
    "# Setup"
   ]
  },
  {
   "cell_type": "code",
   "execution_count": 4,
   "metadata": {},
   "outputs": [],
   "source": [
    "path_to_db='../ESC-50/'\n",
    "ps = Audio_Processor(path_to_db + 'audio/')\n",
    "dataset = pd.read_csv(path_to_db + 'meta/esc50.csv')"
   ]
  },
  {
   "cell_type": "code",
   "execution_count": 5,
   "metadata": {},
   "outputs": [],
   "source": [
    "mapping = {'dog': 0,'rooster': 0,'pig': 0,'cow': 0,'frog': 0,'cat': 0,'hen': 0,\n",
    "            'insects': 0,'sheep': 0,'crow': 0,'rain': 1,'sea_waves': 1,'crackling_fire': 1,\n",
    "            'crickets': 0,'chirping_birds': 0,'water_drops': 1,'wind': 1,'pouring_water': 1,\n",
    "            'toilet_flush': 1,'thunderstorm': 1,'crying_baby': 0,'sneezing': 0,'clapping': 0,\n",
    "            'breathing': 0,'coughing': 0,'footsteps': 1,'laughing': 0,'brushing_teeth': 1,\n",
    "            'snoring': 0,'drinking_sipping': 1,'door_wood_knock': 1,'mouse_click': 1,\n",
    "            'keyboard_typing': 1,'door_wood_creaks': 1,'can_opening': 1,'washing_machine': 1,\n",
    "            'vacuum_cleaner': 1,'clock_alarm': 1,'clock_tick': 1,'glass_breaking':1,'helicopter': 1,\n",
    "            'chainsaw': 1,'siren': 1,'car_horn': 1,'engine': 1,'train': 1,'church_bells': 1,\n",
    "            'airplane': 1,'fireworks': 1,'hand_saw': 1,\n",
    "            }\n",
    "dataset['h_target'] = None\n",
    "classes = [None] * 50\n",
    "for index, row in dataset.iterrows():\n",
    "    target = row['target']\n",
    "    classes[target] = row['category']\n",
    "    dataset.loc[index, 'h_target'] = mapping[row['category']]"
   ]
  },
  {
   "cell_type": "code",
   "execution_count": 6,
   "metadata": {},
   "outputs": [],
   "source": [
    "h_classes = ['Human & Animal', 'Interacting Materials']"
   ]
  },
  {
   "cell_type": "markdown",
   "metadata": {},
   "source": [
    "## Getting Preprocessed Data\n",
    "We allow for previously preprocessed data to be retrieved for faster training turnaround. If the fold has been preprocessed, it is loaded but if not it is processed and saved."
   ]
  },
  {
   "cell_type": "code",
   "execution_count": 7,
   "metadata": {},
   "outputs": [],
   "source": [
    "df = ps.preprocess_fold(dataset, \n",
    "                        kind='mfcc', \n",
    "                        fld=None,\n",
    "                        blocksize=blocksize, \n",
    "                        overlap=overlap)"
   ]
  },
  {
   "cell_type": "code",
   "execution_count": 8,
   "metadata": {},
   "outputs": [
    {
     "data": {
      "text/html": [
       "<div>\n",
       "<style scoped>\n",
       "    .dataframe tbody tr th:only-of-type {\n",
       "        vertical-align: middle;\n",
       "    }\n",
       "\n",
       "    .dataframe tbody tr th {\n",
       "        vertical-align: top;\n",
       "    }\n",
       "\n",
       "    .dataframe thead th {\n",
       "        text-align: right;\n",
       "    }\n",
       "</style>\n",
       "<table border=\"1\" class=\"dataframe\">\n",
       "  <thead>\n",
       "    <tr style=\"text-align: right;\">\n",
       "      <th></th>\n",
       "      <th>mfcc_2_std</th>\n",
       "      <th>mfcc_2_mean</th>\n",
       "      <th>mfcc_2_noise</th>\n",
       "      <th>mfcc_3_std</th>\n",
       "      <th>mfcc_3_mean</th>\n",
       "      <th>mfcc_3_noise</th>\n",
       "      <th>mfcc_4_std</th>\n",
       "      <th>mfcc_4_mean</th>\n",
       "      <th>mfcc_4_noise</th>\n",
       "      <th>mfcc_5_std</th>\n",
       "      <th>...</th>\n",
       "      <th>sflat_noise</th>\n",
       "      <th>sroll_std</th>\n",
       "      <th>sroll_mean</th>\n",
       "      <th>sroll_noise</th>\n",
       "      <th>rmse_std</th>\n",
       "      <th>rmse_mean</th>\n",
       "      <th>rmse_noise</th>\n",
       "      <th>h_target</th>\n",
       "      <th>target</th>\n",
       "      <th>fold</th>\n",
       "    </tr>\n",
       "  </thead>\n",
       "  <tbody>\n",
       "    <tr>\n",
       "      <th>count</th>\n",
       "      <td>2000.000000</td>\n",
       "      <td>2000.000000</td>\n",
       "      <td>2000.000000</td>\n",
       "      <td>2000.000000</td>\n",
       "      <td>2000.000000</td>\n",
       "      <td>2000.000000</td>\n",
       "      <td>2000.000000</td>\n",
       "      <td>2000.000000</td>\n",
       "      <td>2000.000000</td>\n",
       "      <td>2000.000000</td>\n",
       "      <td>...</td>\n",
       "      <td>2.000000e+03</td>\n",
       "      <td>2.000000e+03</td>\n",
       "      <td>2000.000000</td>\n",
       "      <td>2000.000000</td>\n",
       "      <td>2000.000000</td>\n",
       "      <td>2000.000000</td>\n",
       "      <td>2000.000000</td>\n",
       "      <td>2000.00000</td>\n",
       "      <td>2000.000000</td>\n",
       "      <td>2000.000000</td>\n",
       "    </tr>\n",
       "    <tr>\n",
       "      <th>mean</th>\n",
       "      <td>53.435557</td>\n",
       "      <td>32.229973</td>\n",
       "      <td>27.239386</td>\n",
       "      <td>23.687849</td>\n",
       "      <td>21.480062</td>\n",
       "      <td>21.292745</td>\n",
       "      <td>20.731369</td>\n",
       "      <td>20.751350</td>\n",
       "      <td>20.478451</td>\n",
       "      <td>20.043954</td>\n",
       "      <td>...</td>\n",
       "      <td>-2.107854e-02</td>\n",
       "      <td>-2.168583e-02</td>\n",
       "      <td>26.980379</td>\n",
       "      <td>41.087010</td>\n",
       "      <td>10.167191</td>\n",
       "      <td>37.006145</td>\n",
       "      <td>2.946109</td>\n",
       "      <td>0.64000</td>\n",
       "      <td>24.500000</td>\n",
       "      <td>3.000000</td>\n",
       "    </tr>\n",
       "    <tr>\n",
       "      <th>std</th>\n",
       "      <td>39.223824</td>\n",
       "      <td>21.287547</td>\n",
       "      <td>20.558804</td>\n",
       "      <td>17.868727</td>\n",
       "      <td>17.542057</td>\n",
       "      <td>17.855402</td>\n",
       "      <td>17.637597</td>\n",
       "      <td>18.043416</td>\n",
       "      <td>18.065087</td>\n",
       "      <td>17.638089</td>\n",
       "      <td>...</td>\n",
       "      <td>2.943802e-02</td>\n",
       "      <td>2.916666e-02</td>\n",
       "      <td>120.497045</td>\n",
       "      <td>117.515687</td>\n",
       "      <td>37.760749</td>\n",
       "      <td>34.845984</td>\n",
       "      <td>3.189635</td>\n",
       "      <td>0.48012</td>\n",
       "      <td>14.434479</td>\n",
       "      <td>1.414567</td>\n",
       "    </tr>\n",
       "    <tr>\n",
       "      <th>min</th>\n",
       "      <td>0.050693</td>\n",
       "      <td>0.059624</td>\n",
       "      <td>0.047621</td>\n",
       "      <td>0.080312</td>\n",
       "      <td>0.061050</td>\n",
       "      <td>0.086123</td>\n",
       "      <td>0.053342</td>\n",
       "      <td>0.058926</td>\n",
       "      <td>0.039076</td>\n",
       "      <td>0.032498</td>\n",
       "      <td>...</td>\n",
       "      <td>-1.666826e-01</td>\n",
       "      <td>-1.753639e-01</td>\n",
       "      <td>6.002570</td>\n",
       "      <td>11.716387</td>\n",
       "      <td>1.302239</td>\n",
       "      <td>9.002370</td>\n",
       "      <td>0.160746</td>\n",
       "      <td>0.00000</td>\n",
       "      <td>0.000000</td>\n",
       "      <td>1.000000</td>\n",
       "    </tr>\n",
       "    <tr>\n",
       "      <th>25%</th>\n",
       "      <td>20.110392</td>\n",
       "      <td>13.696971</td>\n",
       "      <td>10.067995</td>\n",
       "      <td>8.849415</td>\n",
       "      <td>7.243266</td>\n",
       "      <td>6.958336</td>\n",
       "      <td>6.656088</td>\n",
       "      <td>6.436401</td>\n",
       "      <td>6.277766</td>\n",
       "      <td>6.054820</td>\n",
       "      <td>...</td>\n",
       "      <td>-4.144534e-02</td>\n",
       "      <td>-4.185786e-02</td>\n",
       "      <td>10.795127</td>\n",
       "      <td>21.272453</td>\n",
       "      <td>4.017424</td>\n",
       "      <td>17.355580</td>\n",
       "      <td>0.810786</td>\n",
       "      <td>0.00000</td>\n",
       "      <td>12.000000</td>\n",
       "      <td>2.000000</td>\n",
       "    </tr>\n",
       "    <tr>\n",
       "      <th>50%</th>\n",
       "      <td>34.766516</td>\n",
       "      <td>23.761097</td>\n",
       "      <td>16.147402</td>\n",
       "      <td>13.026436</td>\n",
       "      <td>10.001338</td>\n",
       "      <td>9.551854</td>\n",
       "      <td>9.062050</td>\n",
       "      <td>8.918661</td>\n",
       "      <td>8.792426</td>\n",
       "      <td>8.619720</td>\n",
       "      <td>...</td>\n",
       "      <td>-1.963705e-02</td>\n",
       "      <td>-2.086153e-02</td>\n",
       "      <td>21.429574</td>\n",
       "      <td>33.332287</td>\n",
       "      <td>7.368222</td>\n",
       "      <td>29.093507</td>\n",
       "      <td>2.175887</td>\n",
       "      <td>1.00000</td>\n",
       "      <td>24.500000</td>\n",
       "      <td>3.000000</td>\n",
       "    </tr>\n",
       "    <tr>\n",
       "      <th>75%</th>\n",
       "      <td>88.401117</td>\n",
       "      <td>50.136865</td>\n",
       "      <td>44.498308</td>\n",
       "      <td>40.677591</td>\n",
       "      <td>38.821554</td>\n",
       "      <td>39.292735</td>\n",
       "      <td>38.852329</td>\n",
       "      <td>39.194125</td>\n",
       "      <td>38.194944</td>\n",
       "      <td>37.908485</td>\n",
       "      <td>...</td>\n",
       "      <td>-7.689589e-10</td>\n",
       "      <td>-5.289343e-10</td>\n",
       "      <td>32.460250</td>\n",
       "      <td>47.865920</td>\n",
       "      <td>12.050406</td>\n",
       "      <td>47.472269</td>\n",
       "      <td>3.996936</td>\n",
       "      <td>1.00000</td>\n",
       "      <td>37.000000</td>\n",
       "      <td>4.000000</td>\n",
       "    </tr>\n",
       "    <tr>\n",
       "      <th>max</th>\n",
       "      <td>202.348903</td>\n",
       "      <td>113.774744</td>\n",
       "      <td>93.795679</td>\n",
       "      <td>78.764452</td>\n",
       "      <td>75.227919</td>\n",
       "      <td>79.348655</td>\n",
       "      <td>83.762159</td>\n",
       "      <td>96.108132</td>\n",
       "      <td>107.393085</td>\n",
       "      <td>105.205714</td>\n",
       "      <td>...</td>\n",
       "      <td>6.350198e-02</td>\n",
       "      <td>6.030374e-02</td>\n",
       "      <td>5354.346238</td>\n",
       "      <td>5121.291695</td>\n",
       "      <td>1652.871867</td>\n",
       "      <td>919.807129</td>\n",
       "      <td>49.084584</td>\n",
       "      <td>1.00000</td>\n",
       "      <td>49.000000</td>\n",
       "      <td>5.000000</td>\n",
       "    </tr>\n",
       "  </tbody>\n",
       "</table>\n",
       "<p>8 rows × 132 columns</p>\n",
       "</div>"
      ],
      "text/plain": [
       "        mfcc_2_std  mfcc_2_mean  mfcc_2_noise   mfcc_3_std  mfcc_3_mean  \\\n",
       "count  2000.000000  2000.000000   2000.000000  2000.000000  2000.000000   \n",
       "mean     53.435557    32.229973     27.239386    23.687849    21.480062   \n",
       "std      39.223824    21.287547     20.558804    17.868727    17.542057   \n",
       "min       0.050693     0.059624      0.047621     0.080312     0.061050   \n",
       "25%      20.110392    13.696971     10.067995     8.849415     7.243266   \n",
       "50%      34.766516    23.761097     16.147402    13.026436    10.001338   \n",
       "75%      88.401117    50.136865     44.498308    40.677591    38.821554   \n",
       "max     202.348903   113.774744     93.795679    78.764452    75.227919   \n",
       "\n",
       "       mfcc_3_noise   mfcc_4_std  mfcc_4_mean  mfcc_4_noise   mfcc_5_std  \\\n",
       "count   2000.000000  2000.000000  2000.000000   2000.000000  2000.000000   \n",
       "mean      21.292745    20.731369    20.751350     20.478451    20.043954   \n",
       "std       17.855402    17.637597    18.043416     18.065087    17.638089   \n",
       "min        0.086123     0.053342     0.058926      0.039076     0.032498   \n",
       "25%        6.958336     6.656088     6.436401      6.277766     6.054820   \n",
       "50%        9.551854     9.062050     8.918661      8.792426     8.619720   \n",
       "75%       39.292735    38.852329    39.194125     38.194944    37.908485   \n",
       "max       79.348655    83.762159    96.108132    107.393085   105.205714   \n",
       "\n",
       "          ...        sflat_noise     sroll_std   sroll_mean  sroll_noise  \\\n",
       "count     ...       2.000000e+03  2.000000e+03  2000.000000  2000.000000   \n",
       "mean      ...      -2.107854e-02 -2.168583e-02    26.980379    41.087010   \n",
       "std       ...       2.943802e-02  2.916666e-02   120.497045   117.515687   \n",
       "min       ...      -1.666826e-01 -1.753639e-01     6.002570    11.716387   \n",
       "25%       ...      -4.144534e-02 -4.185786e-02    10.795127    21.272453   \n",
       "50%       ...      -1.963705e-02 -2.086153e-02    21.429574    33.332287   \n",
       "75%       ...      -7.689589e-10 -5.289343e-10    32.460250    47.865920   \n",
       "max       ...       6.350198e-02  6.030374e-02  5354.346238  5121.291695   \n",
       "\n",
       "          rmse_std    rmse_mean   rmse_noise    h_target       target  \\\n",
       "count  2000.000000  2000.000000  2000.000000  2000.00000  2000.000000   \n",
       "mean     10.167191    37.006145     2.946109     0.64000    24.500000   \n",
       "std      37.760749    34.845984     3.189635     0.48012    14.434479   \n",
       "min       1.302239     9.002370     0.160746     0.00000     0.000000   \n",
       "25%       4.017424    17.355580     0.810786     0.00000    12.000000   \n",
       "50%       7.368222    29.093507     2.175887     1.00000    24.500000   \n",
       "75%      12.050406    47.472269     3.996936     1.00000    37.000000   \n",
       "max    1652.871867   919.807129    49.084584     1.00000    49.000000   \n",
       "\n",
       "              fold  \n",
       "count  2000.000000  \n",
       "mean      3.000000  \n",
       "std       1.414567  \n",
       "min       1.000000  \n",
       "25%       2.000000  \n",
       "50%       3.000000  \n",
       "75%       4.000000  \n",
       "max       5.000000  \n",
       "\n",
       "[8 rows x 132 columns]"
      ]
     },
     "execution_count": 8,
     "metadata": {},
     "output_type": "execute_result"
    }
   ],
   "source": [
    "df.describe()"
   ]
  },
  {
   "cell_type": "code",
   "execution_count": 9,
   "metadata": {},
   "outputs": [],
   "source": [
    "from sklearn.model_selection import train_test_split\n",
    "train, test, = train_test_split(\n",
    "                        df[df.fold != 1], test_size=0.20, random_state=42)"
   ]
  },
  {
   "cell_type": "code",
   "execution_count": 10,
   "metadata": {},
   "outputs": [],
   "source": [
    "train_X = train.drop(['target', 'h_target', 'fold'], axis=1)\n",
    "train_y = train['h_target']\n",
    "test_X = test.drop(['target', 'h_target', 'fold'], axis=1)\n",
    "test_y = test['h_target']"
   ]
  },
  {
   "cell_type": "markdown",
   "metadata": {},
   "source": [
    "# Training"
   ]
  },
  {
   "cell_type": "code",
   "execution_count": 11,
   "metadata": {},
   "outputs": [
    {
     "data": {
      "text/plain": [
       "GridSearchCV(cv=5, error_score='raise-deprecating',\n",
       "       estimator=RandomForestClassifier(bootstrap=True, class_weight=None, criterion='gini',\n",
       "            max_depth=None, max_features='auto', max_leaf_nodes=None,\n",
       "            min_impurity_decrease=0.0, min_impurity_split=None,\n",
       "            min_samples_leaf=1, min_samples_split=2,\n",
       "            min_weight_fraction_leaf=0.0, n_estimators='warn', n_jobs=None,\n",
       "            oob_score=False, random_state=None, verbose=0,\n",
       "            warm_start=False),\n",
       "       fit_params=None, iid='warn', n_jobs=None,\n",
       "       param_grid={'criterion': ('gini', 'entropy'), 'n_estimators': range(5, 25)},\n",
       "       pre_dispatch='2*n_jobs', refit=True, return_train_score='warn',\n",
       "       scoring=None, verbose=0)"
      ]
     },
     "execution_count": 11,
     "metadata": {},
     "output_type": "execute_result"
    }
   ],
   "source": [
    "from sklearn.model_selection import GridSearchCV\n",
    "from sklearn.decomposition import PCA\n",
    "from sklearn.discriminant_analysis import LinearDiscriminantAnalysis\n",
    "from sklearn.feature_selection import SelectKBest, chi2, mutual_info_regression\n",
    "from sklearn.preprocessing import MinMaxScaler\n",
    "\n",
    "scaler = MinMaxScaler()\n",
    "train_X = scaler.fit_transform(train_X)\n",
    "feat_red = PCA(n_components=30)\n",
    "feat_red.fit(train_X,y=train_y)\n",
    "train_X = feat_red.transform(train_X)\n",
    "\n",
    "params = {\n",
    "          'n_estimators': range(5,25,1),\n",
    "          'criterion': ('gini', 'entropy')\n",
    "         }\n",
    "\n",
    "rfc = RandomForestClassifier()\n",
    "\n",
    "clf = GridSearchCV(rfc, params, cv=5)\n",
    "\n",
    "clf.fit(train_X, train_y)"
   ]
  },
  {
   "cell_type": "code",
   "execution_count": 12,
   "metadata": {},
   "outputs": [
    {
     "data": {
      "text/plain": [
       "['mean_fit_time',\n",
       " 'mean_score_time',\n",
       " 'mean_test_score',\n",
       " 'mean_train_score',\n",
       " 'param_criterion',\n",
       " 'param_n_estimators',\n",
       " 'params',\n",
       " 'rank_test_score',\n",
       " 'split0_test_score',\n",
       " 'split0_train_score',\n",
       " 'split1_test_score',\n",
       " 'split1_train_score',\n",
       " 'split2_test_score',\n",
       " 'split2_train_score',\n",
       " 'split3_test_score',\n",
       " 'split3_train_score',\n",
       " 'split4_test_score',\n",
       " 'split4_train_score',\n",
       " 'std_fit_time',\n",
       " 'std_score_time',\n",
       " 'std_test_score',\n",
       " 'std_train_score']"
      ]
     },
     "execution_count": 12,
     "metadata": {},
     "output_type": "execute_result"
    }
   ],
   "source": [
    "sorted(clf.cv_results_.keys())"
   ]
  },
  {
   "cell_type": "code",
   "execution_count": 13,
   "metadata": {},
   "outputs": [
    {
     "name": "stdout",
     "output_type": "stream",
     "text": [
      "0.70625\n",
      "Confusion matrix, without normalization\n",
      "[[ 52  64]\n",
      " [ 30 174]]\n"
     ]
    },
    {
     "data": {
      "image/png": "[encoded data removed]",
      "text/plain": [
       "<Figure size 720x720 with 2 Axes>"
      ]
     },
     "metadata": {
      "needs_background": "light"
     },
     "output_type": "display_data"
    }
   ],
   "source": [
    "test_X = scaler.transform(test_X)\n",
    "test_X = feat_red.transform(test_X)\n",
    "pred = clf.predict(test_X)\n",
    "print(metrics.accuracy_score(test_y, pred))\n",
    "cm = metrics.confusion_matrix(test_y, pred)\n",
    "plt.figure(figsize=(10,10))\n",
    "plot_confusion_matrix(cm, h_classes)\n",
    "plt.show()"
   ]
  },
  {
   "cell_type": "markdown",
   "metadata": {},
   "source": [
    "# All Data"
   ]
  },
  {
   "cell_type": "code",
   "execution_count": 14,
   "metadata": {},
   "outputs": [],
   "source": [
    "all_df = df[df.fold == 1]"
   ]
  },
  {
   "cell_type": "code",
   "execution_count": 15,
   "metadata": {},
   "outputs": [
    {
     "data": {
      "text/html": [
       "<div>\n",
       "<style scoped>\n",
       "    .dataframe tbody tr th:only-of-type {\n",
       "        vertical-align: middle;\n",
       "    }\n",
       "\n",
       "    .dataframe tbody tr th {\n",
       "        vertical-align: top;\n",
       "    }\n",
       "\n",
       "    .dataframe thead th {\n",
       "        text-align: right;\n",
       "    }\n",
       "</style>\n",
       "<table border=\"1\" class=\"dataframe\">\n",
       "  <thead>\n",
       "    <tr style=\"text-align: right;\">\n",
       "      <th></th>\n",
       "      <th>mfcc_2_std</th>\n",
       "      <th>mfcc_2_mean</th>\n",
       "      <th>mfcc_2_noise</th>\n",
       "      <th>mfcc_3_std</th>\n",
       "      <th>mfcc_3_mean</th>\n",
       "      <th>mfcc_3_noise</th>\n",
       "      <th>mfcc_4_std</th>\n",
       "      <th>mfcc_4_mean</th>\n",
       "      <th>mfcc_4_noise</th>\n",
       "      <th>mfcc_5_std</th>\n",
       "      <th>...</th>\n",
       "      <th>sflat_noise</th>\n",
       "      <th>sroll_std</th>\n",
       "      <th>sroll_mean</th>\n",
       "      <th>sroll_noise</th>\n",
       "      <th>rmse_std</th>\n",
       "      <th>rmse_mean</th>\n",
       "      <th>rmse_noise</th>\n",
       "      <th>h_target</th>\n",
       "      <th>target</th>\n",
       "      <th>fold</th>\n",
       "    </tr>\n",
       "  </thead>\n",
       "  <tbody>\n",
       "    <tr>\n",
       "      <th>0</th>\n",
       "      <td>22.730479</td>\n",
       "      <td>11.520539</td>\n",
       "      <td>12.253581</td>\n",
       "      <td>10.212196</td>\n",
       "      <td>9.030011</td>\n",
       "      <td>8.739443</td>\n",
       "      <td>9.150218</td>\n",
       "      <td>8.880555</td>\n",
       "      <td>8.452500</td>\n",
       "      <td>8.334573</td>\n",
       "      <td>...</td>\n",
       "      <td>-0.166683</td>\n",
       "      <td>-0.098328</td>\n",
       "      <td>26.219456</td>\n",
       "      <td>48.082157</td>\n",
       "      <td>12.366428</td>\n",
       "      <td>38.334700</td>\n",
       "      <td>0.507233</td>\n",
       "      <td>0</td>\n",
       "      <td>0</td>\n",
       "      <td>1</td>\n",
       "    </tr>\n",
       "    <tr>\n",
       "      <th>1</th>\n",
       "      <td>64.003793</td>\n",
       "      <td>80.795260</td>\n",
       "      <td>48.198139</td>\n",
       "      <td>45.147334</td>\n",
       "      <td>52.268596</td>\n",
       "      <td>61.620040</td>\n",
       "      <td>67.565491</td>\n",
       "      <td>56.829182</td>\n",
       "      <td>58.988494</td>\n",
       "      <td>52.193907</td>\n",
       "      <td>...</td>\n",
       "      <td>0.036883</td>\n",
       "      <td>-0.030368</td>\n",
       "      <td>14.956899</td>\n",
       "      <td>16.258644</td>\n",
       "      <td>4.879466</td>\n",
       "      <td>20.019389</td>\n",
       "      <td>6.365389</td>\n",
       "      <td>0</td>\n",
       "      <td>14</td>\n",
       "      <td>1</td>\n",
       "    </tr>\n",
       "    <tr>\n",
       "      <th>2</th>\n",
       "      <td>91.373566</td>\n",
       "      <td>61.690092</td>\n",
       "      <td>58.582459</td>\n",
       "      <td>47.228346</td>\n",
       "      <td>47.274736</td>\n",
       "      <td>46.426917</td>\n",
       "      <td>43.962362</td>\n",
       "      <td>41.420272</td>\n",
       "      <td>40.828519</td>\n",
       "      <td>42.701780</td>\n",
       "      <td>...</td>\n",
       "      <td>-0.033933</td>\n",
       "      <td>0.042031</td>\n",
       "      <td>10.628136</td>\n",
       "      <td>20.016415</td>\n",
       "      <td>4.389970</td>\n",
       "      <td>15.713339</td>\n",
       "      <td>3.355069</td>\n",
       "      <td>1</td>\n",
       "      <td>36</td>\n",
       "      <td>1</td>\n",
       "    </tr>\n",
       "    <tr>\n",
       "      <th>3</th>\n",
       "      <td>76.457328</td>\n",
       "      <td>61.713594</td>\n",
       "      <td>55.535733</td>\n",
       "      <td>45.361320</td>\n",
       "      <td>44.202866</td>\n",
       "      <td>45.188370</td>\n",
       "      <td>41.861242</td>\n",
       "      <td>40.734830</td>\n",
       "      <td>42.070456</td>\n",
       "      <td>45.359905</td>\n",
       "      <td>...</td>\n",
       "      <td>0.004314</td>\n",
       "      <td>-0.000106</td>\n",
       "      <td>11.680668</td>\n",
       "      <td>22.676710</td>\n",
       "      <td>4.365168</td>\n",
       "      <td>18.374868</td>\n",
       "      <td>4.289678</td>\n",
       "      <td>1</td>\n",
       "      <td>36</td>\n",
       "      <td>1</td>\n",
       "    </tr>\n",
       "    <tr>\n",
       "      <th>4</th>\n",
       "      <td>78.146667</td>\n",
       "      <td>61.344895</td>\n",
       "      <td>75.063524</td>\n",
       "      <td>45.483954</td>\n",
       "      <td>44.813375</td>\n",
       "      <td>43.982927</td>\n",
       "      <td>41.635170</td>\n",
       "      <td>38.359653</td>\n",
       "      <td>39.252493</td>\n",
       "      <td>40.490933</td>\n",
       "      <td>...</td>\n",
       "      <td>0.026272</td>\n",
       "      <td>-0.014902</td>\n",
       "      <td>12.457344</td>\n",
       "      <td>17.988716</td>\n",
       "      <td>2.949997</td>\n",
       "      <td>18.285330</td>\n",
       "      <td>3.344113</td>\n",
       "      <td>1</td>\n",
       "      <td>19</td>\n",
       "      <td>1</td>\n",
       "    </tr>\n",
       "  </tbody>\n",
       "</table>\n",
       "<p>5 rows × 132 columns</p>\n",
       "</div>"
      ],
      "text/plain": [
       "   mfcc_2_std  mfcc_2_mean  mfcc_2_noise  mfcc_3_std  mfcc_3_mean  \\\n",
       "0   22.730479    11.520539     12.253581   10.212196     9.030011   \n",
       "1   64.003793    80.795260     48.198139   45.147334    52.268596   \n",
       "2   91.373566    61.690092     58.582459   47.228346    47.274736   \n",
       "3   76.457328    61.713594     55.535733   45.361320    44.202866   \n",
       "4   78.146667    61.344895     75.063524   45.483954    44.813375   \n",
       "\n",
       "   mfcc_3_noise  mfcc_4_std  mfcc_4_mean  mfcc_4_noise  mfcc_5_std  ...   \\\n",
       "0      8.739443    9.150218     8.880555      8.452500    8.334573  ...    \n",
       "1     61.620040   67.565491    56.829182     58.988494   52.193907  ...    \n",
       "2     46.426917   43.962362    41.420272     40.828519   42.701780  ...    \n",
       "3     45.188370   41.861242    40.734830     42.070456   45.359905  ...    \n",
       "4     43.982927   41.635170    38.359653     39.252493   40.490933  ...    \n",
       "\n",
       "   sflat_noise  sroll_std  sroll_mean  sroll_noise   rmse_std  rmse_mean  \\\n",
       "0    -0.166683  -0.098328   26.219456    48.082157  12.366428  38.334700   \n",
       "1     0.036883  -0.030368   14.956899    16.258644   4.879466  20.019389   \n",
       "2    -0.033933   0.042031   10.628136    20.016415   4.389970  15.713339   \n",
       "3     0.004314  -0.000106   11.680668    22.676710   4.365168  18.374868   \n",
       "4     0.026272  -0.014902   12.457344    17.988716   2.949997  18.285330   \n",
       "\n",
       "   rmse_noise  h_target  target  fold  \n",
       "0    0.507233         0       0     1  \n",
       "1    6.365389         0      14     1  \n",
       "2    3.355069         1      36     1  \n",
       "3    4.289678         1      36     1  \n",
       "4    3.344113         1      19     1  \n",
       "\n",
       "[5 rows x 132 columns]"
      ]
     },
     "execution_count": 15,
     "metadata": {},
     "output_type": "execute_result"
    }
   ],
   "source": [
    "all_df.head()"
   ]
  },
  {
   "cell_type": "code",
   "execution_count": 16,
   "metadata": {},
   "outputs": [],
   "source": [
    "X = all_df.drop(['target', 'h_target', 'fold'], axis=1)\n",
    "y = all_df['h_target']\n",
    "X = scaler.transform(X)\n",
    "X = feat_red.transform(X)"
   ]
  },
  {
   "cell_type": "code",
   "execution_count": 17,
   "metadata": {},
   "outputs": [
    {
     "name": "stdout",
     "output_type": "stream",
     "text": [
      "0.6475\n",
      "Confusion matrix, without normalization\n",
      "[[ 51  93]\n",
      " [ 48 208]]\n"
     ]
    },
    {
     "data": {
      "image/png": "[encoded data removed]",
      "text/plain": [
       "<Figure size 720x720 with 2 Axes>"
      ]
     },
     "metadata": {
      "needs_background": "light"
     },
     "output_type": "display_data"
    }
   ],
   "source": [
    "pred = clf.predict(X)\n",
    "pred_prob = clf.predict_proba(X)\n",
    "print(metrics.accuracy_score(y, pred))\n",
    "cm = metrics.confusion_matrix(y, pred)\n",
    "plt.figure(figsize=(10,10))\n",
    "plot_confusion_matrix(cm, h_classes)\n",
    "plt.show()"
   ]
  },
  {
   "cell_type": "code",
   "execution_count": 18,
   "metadata": {},
   "outputs": [
    {
     "data": {
      "text/plain": [
       "RandomForestClassifier(bootstrap=True, class_weight=None, criterion='entropy',\n",
       "            max_depth=None, max_features='auto', max_leaf_nodes=None,\n",
       "            min_impurity_decrease=0.0, min_impurity_split=None,\n",
       "            min_samples_leaf=1, min_samples_split=2,\n",
       "            min_weight_fraction_leaf=0.0, n_estimators=18, n_jobs=None,\n",
       "            oob_score=False, random_state=None, verbose=0,\n",
       "            warm_start=False)"
      ]
     },
     "execution_count": 18,
     "metadata": {},
     "output_type": "execute_result"
    }
   ],
   "source": [
    "clf.best_estimator_ "
   ]
  },
  {
   "cell_type": "code",
   "execution_count": 19,
   "metadata": {},
   "outputs": [
    {
     "data": {
      "text/html": [
       "<div>\n",
       "<style scoped>\n",
       "    .dataframe tbody tr th:only-of-type {\n",
       "        vertical-align: middle;\n",
       "    }\n",
       "\n",
       "    .dataframe tbody tr th {\n",
       "        vertical-align: top;\n",
       "    }\n",
       "\n",
       "    .dataframe thead th {\n",
       "        text-align: right;\n",
       "    }\n",
       "</style>\n",
       "<table border=\"1\" class=\"dataframe\">\n",
       "  <thead>\n",
       "    <tr style=\"text-align: right;\">\n",
       "      <th></th>\n",
       "      <th>h_target</th>\n",
       "      <th>prob_0</th>\n",
       "      <th>prob_1</th>\n",
       "      <th>target</th>\n",
       "    </tr>\n",
       "  </thead>\n",
       "  <tbody>\n",
       "    <tr>\n",
       "      <th>0</th>\n",
       "      <td>Interacting Materials</td>\n",
       "      <td>0.444444</td>\n",
       "      <td>0.555556</td>\n",
       "      <td>dog</td>\n",
       "    </tr>\n",
       "    <tr>\n",
       "      <th>1</th>\n",
       "      <td>Interacting Materials</td>\n",
       "      <td>0.388889</td>\n",
       "      <td>0.611111</td>\n",
       "      <td>chirping_birds</td>\n",
       "    </tr>\n",
       "    <tr>\n",
       "      <th>2</th>\n",
       "      <td>Human &amp; Animal</td>\n",
       "      <td>0.500000</td>\n",
       "      <td>0.500000</td>\n",
       "      <td>thunderstorm</td>\n",
       "    </tr>\n",
       "    <tr>\n",
       "      <th>3</th>\n",
       "      <td>Interacting Materials</td>\n",
       "      <td>0.055556</td>\n",
       "      <td>0.944444</td>\n",
       "      <td>crow</td>\n",
       "    </tr>\n",
       "    <tr>\n",
       "      <th>4</th>\n",
       "      <td>Human &amp; Animal</td>\n",
       "      <td>0.500000</td>\n",
       "      <td>0.500000</td>\n",
       "      <td>fireworks</td>\n",
       "    </tr>\n",
       "  </tbody>\n",
       "</table>\n",
       "</div>"
      ],
      "text/plain": [
       "                h_target    prob_0    prob_1          target\n",
       "0  Interacting Materials  0.444444  0.555556             dog\n",
       "1  Interacting Materials  0.388889  0.611111  chirping_birds\n",
       "2         Human & Animal  0.500000  0.500000    thunderstorm\n",
       "3  Interacting Materials  0.055556  0.944444            crow\n",
       "4         Human & Animal  0.500000  0.500000       fireworks"
      ]
     },
     "execution_count": 19,
     "metadata": {},
     "output_type": "execute_result"
    }
   ],
   "source": [
    "import seaborn as sns\n",
    "misclassified = {\n",
    "    'h_target': [],\n",
    "    'target': [],\n",
    "    'prob_0': [],\n",
    "    'prob_1': []\n",
    "}\n",
    "for row, p, prob, Y in zip(all_df.iterrows(), pred, pred_prob, y):\n",
    "    Y = int(Y)\n",
    "    p = int(p)\n",
    "    if p!=Y:\n",
    "        misclassified['target'].append(classes[int(row[1]['target'])])\n",
    "        misclassified['h_target'].append(h_classes[p])\n",
    "        misclassified['prob_0'].append(prob[0])\n",
    "        misclassified['prob_1'].append(prob[1])\n",
    "\n",
    "misclassified = pd.DataFrame.from_dict(misclassified)\n",
    "misclassified.head()"
   ]
  },
  {
   "cell_type": "code",
   "execution_count": 20,
   "metadata": {},
   "outputs": [
    {
     "data": {
      "text/html": [
       "<div>\n",
       "<style scoped>\n",
       "    .dataframe tbody tr th:only-of-type {\n",
       "        vertical-align: middle;\n",
       "    }\n",
       "\n",
       "    .dataframe tbody tr th {\n",
       "        vertical-align: top;\n",
       "    }\n",
       "\n",
       "    .dataframe thead th {\n",
       "        text-align: right;\n",
       "    }\n",
       "</style>\n",
       "<table border=\"1\" class=\"dataframe\">\n",
       "  <thead>\n",
       "    <tr style=\"text-align: right;\">\n",
       "      <th></th>\n",
       "      <th>prob_0</th>\n",
       "      <th>prob_1</th>\n",
       "    </tr>\n",
       "    <tr>\n",
       "      <th>h_target</th>\n",
       "      <th></th>\n",
       "      <th></th>\n",
       "    </tr>\n",
       "  </thead>\n",
       "  <tbody>\n",
       "    <tr>\n",
       "      <th>Human &amp; Animal</th>\n",
       "      <td>0.593750</td>\n",
       "      <td>0.406250</td>\n",
       "    </tr>\n",
       "    <tr>\n",
       "      <th>Interacting Materials</th>\n",
       "      <td>0.291517</td>\n",
       "      <td>0.708483</td>\n",
       "    </tr>\n",
       "  </tbody>\n",
       "</table>\n",
       "</div>"
      ],
      "text/plain": [
       "                         prob_0    prob_1\n",
       "h_target                                 \n",
       "Human & Animal         0.593750  0.406250\n",
       "Interacting Materials  0.291517  0.708483"
      ]
     },
     "execution_count": 20,
     "metadata": {},
     "output_type": "execute_result"
    }
   ],
   "source": [
    "average_prob = misclassified.groupby('h_target').mean()\n",
    "average_prob.head()"
   ]
  },
  {
   "cell_type": "code",
   "execution_count": 21,
   "metadata": {},
   "outputs": [
    {
     "data": {
      "text/plain": [
       "<matplotlib.axes._subplots.AxesSubplot at 0x7f86f7183048>"
      ]
     },
     "execution_count": 21,
     "metadata": {},
     "output_type": "execute_result"
    },
    {
     "data": {
      "image/png": "[encoded data removed]",
      "text/plain": [
       "<Figure size 3600x720 with 1 Axes>"
      ]
     },
     "metadata": {
      "needs_background": "light"
     },
     "output_type": "display_data"
    }
   ],
   "source": [
    "from matplotlib import pyplot as plt\n",
    "fig, ax = plt.subplots(figsize=(50,10))\n",
    "sns.countplot(x='target', hue='h_target',data=misclassified)"
   ]
  },
  {
   "cell_type": "code",
   "execution_count": null,
   "metadata": {},
   "outputs": [],
   "source": []
  }
 ],
 "metadata": {
  "kernelspec": {
   "display_name": "Python 3",
   "language": "python",
   "name": "python3"
  },
  "language_info": {
   "codemirror_mode": {
    "name": "ipython",
    "version": 3
   },
   "file_extension": ".py",
   "mimetype": "text/x-python",
   "name": "python",
   "nbconvert_exporter": "python",
   "pygments_lexer": "ipython3",
   "version": "3.5.2"
  }
 },
 "nbformat": 4,
 "nbformat_minor": 2
}
