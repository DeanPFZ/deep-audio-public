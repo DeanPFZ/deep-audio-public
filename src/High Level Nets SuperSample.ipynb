{
 "cells": [
  {
   "cell_type": "code",
   "execution_count": 1,
   "metadata": {},
   "outputs": [
    {
     "name": "stderr",
     "output_type": "stream",
     "text": [
      "Using TensorFlow backend.\n"
     ]
    }
   ],
   "source": [
    "import pandas as pd\n",
    "from preprocess import Audio_Processor\n",
    "import data_utils as du\n",
    "from sklearn import metrics\n",
    "from keras.wrappers.scikit_learn import KerasClassifier"
   ]
  },
  {
   "cell_type": "code",
   "execution_count": 2,
   "metadata": {},
   "outputs": [],
   "source": [
    "import warnings\n",
    "warnings.filterwarnings('ignore')"
   ]
  },
  {
   "cell_type": "markdown",
   "metadata": {},
   "source": [
    "# Setup"
   ]
  },
  {
   "cell_type": "code",
   "execution_count": 3,
   "metadata": {},
   "outputs": [],
   "source": [
    "path_to_db='../ESC-50/'\n",
    "ps = Audio_Processor(path_to_db + 'audio/')"
   ]
  },
  {
   "cell_type": "markdown",
   "metadata": {},
   "source": [
    "# Load Dataset\n",
    "Here we load the csv that describes each file in the dataset. We add a high level category that is defined in the ESC-50 documentation. This we realize is anthetical to true training, it is a stopgap for when we use NLP to classify tags into these categories."
   ]
  },
  {
   "cell_type": "code",
   "execution_count": 4,
   "metadata": {},
   "outputs": [],
   "source": [
    "dataset = pd.read_csv(path_to_db + 'meta/esc50.csv')\n",
    "classes = [None] * 50\n",
    "h_classes = ['animal', 'nature', 'human', 'domestic', 'urban']"
   ]
  },
  {
   "cell_type": "code",
   "execution_count": 5,
   "metadata": {},
   "outputs": [],
   "source": [
    "dataset['h_category'] = None\n",
    "for index, row in dataset.iterrows():\n",
    "    target = row['target']\n",
    "    classes[target] = row['category']\n",
    "    if target < 10:\n",
    "        dataset.loc[index, 'h_category'] = 0\n",
    "    elif target < 20:\n",
    "        dataset.loc[index, 'h_category'] = 1\n",
    "    elif target < 30:\n",
    "        dataset.loc[index, 'h_category'] = 2\n",
    "    elif target < 40:\n",
    "        dataset.loc[index, 'h_category'] = 3\n",
    "    elif target < 50:\n",
    "        dataset.loc[index, 'h_category'] = 4"
   ]
  },
  {
   "cell_type": "code",
   "execution_count": 6,
   "metadata": {},
   "outputs": [
    {
     "data": {
      "text/html": [
       "<div>\n",
       "<style scoped>\n",
       "    .dataframe tbody tr th:only-of-type {\n",
       "        vertical-align: middle;\n",
       "    }\n",
       "\n",
       "    .dataframe tbody tr th {\n",
       "        vertical-align: top;\n",
       "    }\n",
       "\n",
       "    .dataframe thead th {\n",
       "        text-align: right;\n",
       "    }\n",
       "</style>\n",
       "<table border=\"1\" class=\"dataframe\">\n",
       "  <thead>\n",
       "    <tr style=\"text-align: right;\">\n",
       "      <th></th>\n",
       "      <th>filename</th>\n",
       "      <th>fold</th>\n",
       "      <th>target</th>\n",
       "      <th>category</th>\n",
       "      <th>esc10</th>\n",
       "      <th>src_file</th>\n",
       "      <th>take</th>\n",
       "      <th>h_category</th>\n",
       "    </tr>\n",
       "  </thead>\n",
       "  <tbody>\n",
       "    <tr>\n",
       "      <th>0</th>\n",
       "      <td>1-100032-A-0.wav</td>\n",
       "      <td>1</td>\n",
       "      <td>0</td>\n",
       "      <td>dog</td>\n",
       "      <td>True</td>\n",
       "      <td>100032</td>\n",
       "      <td>A</td>\n",
       "      <td>0</td>\n",
       "    </tr>\n",
       "    <tr>\n",
       "      <th>1</th>\n",
       "      <td>1-100038-A-14.wav</td>\n",
       "      <td>1</td>\n",
       "      <td>14</td>\n",
       "      <td>chirping_birds</td>\n",
       "      <td>False</td>\n",
       "      <td>100038</td>\n",
       "      <td>A</td>\n",
       "      <td>1</td>\n",
       "    </tr>\n",
       "    <tr>\n",
       "      <th>2</th>\n",
       "      <td>1-100210-A-36.wav</td>\n",
       "      <td>1</td>\n",
       "      <td>36</td>\n",
       "      <td>vacuum_cleaner</td>\n",
       "      <td>False</td>\n",
       "      <td>100210</td>\n",
       "      <td>A</td>\n",
       "      <td>3</td>\n",
       "    </tr>\n",
       "    <tr>\n",
       "      <th>3</th>\n",
       "      <td>1-100210-B-36.wav</td>\n",
       "      <td>1</td>\n",
       "      <td>36</td>\n",
       "      <td>vacuum_cleaner</td>\n",
       "      <td>False</td>\n",
       "      <td>100210</td>\n",
       "      <td>B</td>\n",
       "      <td>3</td>\n",
       "    </tr>\n",
       "    <tr>\n",
       "      <th>4</th>\n",
       "      <td>1-101296-A-19.wav</td>\n",
       "      <td>1</td>\n",
       "      <td>19</td>\n",
       "      <td>thunderstorm</td>\n",
       "      <td>False</td>\n",
       "      <td>101296</td>\n",
       "      <td>A</td>\n",
       "      <td>1</td>\n",
       "    </tr>\n",
       "  </tbody>\n",
       "</table>\n",
       "</div>"
      ],
      "text/plain": [
       "            filename  fold  target        category  esc10  src_file take  \\\n",
       "0   1-100032-A-0.wav     1       0             dog   True    100032    A   \n",
       "1  1-100038-A-14.wav     1      14  chirping_birds  False    100038    A   \n",
       "2  1-100210-A-36.wav     1      36  vacuum_cleaner  False    100210    A   \n",
       "3  1-100210-B-36.wav     1      36  vacuum_cleaner  False    100210    B   \n",
       "4  1-101296-A-19.wav     1      19    thunderstorm  False    101296    A   \n",
       "\n",
       "   h_category  \n",
       "0           0  \n",
       "1           1  \n",
       "2           3  \n",
       "3           3  \n",
       "4           1  "
      ]
     },
     "execution_count": 6,
     "metadata": {},
     "output_type": "execute_result"
    }
   ],
   "source": [
    "dataset.head()"
   ]
  },
  {
   "cell_type": "markdown",
   "metadata": {},
   "source": [
    "## Getting Preprocessed Data\n",
    "We allow for previously preprocessed data to be retrieved for faster training turnaround. If the fold has been preprocessed, it is loaded but if not it is processed and saved."
   ]
  },
  {
   "cell_type": "code",
   "execution_count": 7,
   "metadata": {},
   "outputs": [],
   "source": [
    "c_data = pd.concat([ps.preprocess_fold(fld, dataset) for fld in range(1,6)], ignore_index=True)"
   ]
  },
  {
   "cell_type": "code",
   "execution_count": 8,
   "metadata": {},
   "outputs": [],
   "source": [
    "n_categories = c_data.target.unique().size"
   ]
  },
  {
   "cell_type": "code",
   "execution_count": 9,
   "metadata": {},
   "outputs": [],
   "source": [
    "c_data, scalar = du.normalize_data(c_data, 'target')\n",
    "train, test = du.split_training_test(c_data, 0.2)\n",
    "train_X = train.drop(columns=['target'])\n",
    "train_y = train.target\n",
    "test_X = test.drop(columns=['target'])\n",
    "test_y = test.target"
   ]
  },
  {
   "cell_type": "code",
   "execution_count": 10,
   "metadata": {},
   "outputs": [
    {
     "data": {
      "text/plain": [
       "<matplotlib.axes._subplots.AxesSubplot at 0x7f94896ada58>"
      ]
     },
     "execution_count": 10,
     "metadata": {},
     "output_type": "execute_result"
    },
    {
     "data": {
      "image/png": "[encoded data removed]",
      "text/plain": [
       "<Figure size 432x288 with 1 Axes>"
      ]
     },
     "metadata": {
      "needs_background": "light"
     },
     "output_type": "display_data"
    }
   ],
   "source": [
    "import seaborn as sns\n",
    "xx, yy = du.balanced_supersample(train_X, train_y.between(0,10))\n",
    "sns.countplot(yy[0])"
   ]
  },
  {
   "cell_type": "markdown",
   "metadata": {},
   "source": [
    "## High-Level Shallow Nets\n",
    "Train binary shallow nets for high level categories(animals, natural, human, domestic, urban)"
   ]
  },
  {
   "cell_type": "code",
   "execution_count": 11,
   "metadata": {
    "scrolled": false
   },
   "outputs": [
    {
     "name": "stdout",
     "output_type": "stream",
     "text": [
      "_________________________________________________________________\n",
      "Layer (type)                 Output Shape              Param #   \n",
      "=================================================================\n",
      "dense_1 (Dense)              (None, 12)                468       \n",
      "_________________________________________________________________\n",
      "dropout_1 (Dropout)          (None, 12)                0         \n",
      "_________________________________________________________________\n",
      "dense_2 (Dense)              (None, 1)                 13        \n",
      "=================================================================\n",
      "Total params: 481\n",
      "Trainable params: 481\n",
      "Non-trainable params: 0\n",
      "_________________________________________________________________\n",
      "Epoch 1/20\n",
      "499664/499664 [==============================] - 30s 61us/step - loss: 0.5901 - acc: 0.6731\n",
      "Epoch 2/20\n",
      "499664/499664 [==============================] - 22s 44us/step - loss: 0.5543 - acc: 0.7027\n",
      "Epoch 3/20\n",
      "499664/499664 [==============================] - 22s 44us/step - loss: 0.5456 - acc: 0.7093\n",
      "Epoch 4/20\n",
      "499664/499664 [==============================] - 22s 44us/step - loss: 0.5421 - acc: 0.7114\n",
      "Epoch 5/20\n",
      "499664/499664 [==============================] - 22s 44us/step - loss: 0.5407 - acc: 0.7126\n",
      "Epoch 6/20\n",
      "499664/499664 [==============================] - 22s 43us/step - loss: 0.5401 - acc: 0.7130\n",
      "Epoch 7/20\n",
      "499664/499664 [==============================] - 22s 44us/step - loss: 0.5390 - acc: 0.7153\n",
      "Epoch 8/20\n",
      "499664/499664 [==============================] - 21s 43us/step - loss: 0.5382 - acc: 0.7159\n",
      "Epoch 9/20\n",
      "499664/499664 [==============================] - 22s 44us/step - loss: 0.5371 - acc: 0.7170\n",
      "Epoch 10/20\n",
      "499664/499664 [==============================] - 21s 43us/step - loss: 0.5365 - acc: 0.7181\n",
      "Epoch 11/20\n",
      "499664/499664 [==============================] - 22s 44us/step - loss: 0.5366 - acc: 0.7179\n",
      "Epoch 12/20\n",
      "499664/499664 [==============================] - 23s 45us/step - loss: 0.5359 - acc: 0.7195\n",
      "Epoch 13/20\n",
      "499664/499664 [==============================] - 22s 43us/step - loss: 0.5360 - acc: 0.7187\n",
      "Epoch 14/20\n",
      "499664/499664 [==============================] - 22s 44us/step - loss: 0.5351 - acc: 0.7196\n",
      "Epoch 15/20\n",
      "499664/499664 [==============================] - 21s 43us/step - loss: 0.5350 - acc: 0.7199\n",
      "Epoch 16/20\n",
      "499664/499664 [==============================] - 22s 44us/step - loss: 0.5349 - acc: 0.7199\n",
      "Epoch 17/20\n",
      "499664/499664 [==============================] - 22s 44us/step - loss: 0.5342 - acc: 0.7205\n",
      "Epoch 18/20\n",
      "499664/499664 [==============================] - 21s 43us/step - loss: 0.5342 - acc: 0.7204\n",
      "Epoch 19/20\n",
      "499664/499664 [==============================] - 22s 44us/step - loss: 0.5344 - acc: 0.7203\n",
      "Epoch 20/20\n",
      "499664/499664 [==============================] - 21s 43us/step - loss: 0.5352 - acc: 0.7200\n",
      "77749/77749 [==============================] - 1s 11us/step\n",
      "animal: 0.7724343721462655\n",
      "Confusion matrix, without normalization\n",
      "[[49107 13319]\n",
      " [ 4374 10949]]\n"
     ]
    },
    {
     "data": {
      "image/png": "[encoded data removed]",
      "text/plain": [
       "<Figure size 432x288 with 2 Axes>"
      ]
     },
     "metadata": {
      "needs_background": "light"
     },
     "output_type": "display_data"
    },
    {
     "name": "stdout",
     "output_type": "stream",
     "text": [
      "_________________________________________________________________\n",
      "Layer (type)                 Output Shape              Param #   \n",
      "=================================================================\n",
      "dense_3 (Dense)              (None, 12)                468       \n",
      "_________________________________________________________________\n",
      "dropout_2 (Dropout)          (None, 12)                0         \n",
      "_________________________________________________________________\n",
      "dense_4 (Dense)              (None, 1)                 13        \n",
      "=================================================================\n",
      "Total params: 481\n",
      "Trainable params: 481\n",
      "Non-trainable params: 0\n",
      "_________________________________________________________________\n",
      "Epoch 1/20\n",
      "488326/488326 [==============================] - 21s 43us/step - loss: 0.6123 - acc: 0.6516\n",
      "Epoch 2/20\n",
      "488326/488326 [==============================] - 20s 41us/step - loss: 0.5858 - acc: 0.6810\n",
      "Epoch 3/20\n",
      "488326/488326 [==============================] - 20s 41us/step - loss: 0.5820 - acc: 0.6869\n",
      "Epoch 4/20\n",
      "488326/488326 [==============================] - 20s 41us/step - loss: 0.5802 - acc: 0.6896\n",
      "Epoch 5/20\n",
      "488326/488326 [==============================] - 20s 41us/step - loss: 0.5794 - acc: 0.6912\n",
      "Epoch 6/20\n",
      "488326/488326 [==============================] - 20s 41us/step - loss: 0.5783 - acc: 0.6920\n",
      "Epoch 7/20\n",
      "488326/488326 [==============================] - 20s 41us/step - loss: 0.5780 - acc: 0.6924\n",
      "Epoch 8/20\n",
      "488326/488326 [==============================] - 20s 40us/step - loss: 0.5776 - acc: 0.6929\n",
      "Epoch 9/20\n",
      "488326/488326 [==============================] - 20s 41us/step - loss: 0.5769 - acc: 0.6919\n",
      "Epoch 10/20\n",
      "488326/488326 [==============================] - 20s 41us/step - loss: 0.5766 - acc: 0.6926\n",
      "Epoch 11/20\n",
      "488326/488326 [==============================] - 20s 40us/step - loss: 0.5767 - acc: 0.6926\n",
      "Epoch 12/20\n",
      "488326/488326 [==============================] - 20s 41us/step - loss: 0.5760 - acc: 0.6926\n",
      "Epoch 13/20\n",
      "488326/488326 [==============================] - 20s 41us/step - loss: 0.5762 - acc: 0.6927\n",
      "Epoch 14/20\n",
      "488326/488326 [==============================] - 20s 41us/step - loss: 0.5755 - acc: 0.6927\n",
      "Epoch 15/20\n",
      "488326/488326 [==============================] - 20s 41us/step - loss: 0.5758 - acc: 0.6925\n",
      "Epoch 16/20\n",
      "488326/488326 [==============================] - 20s 41us/step - loss: 0.5756 - acc: 0.6929\n",
      "Epoch 17/20\n",
      "488326/488326 [==============================] - 20s 41us/step - loss: 0.5750 - acc: 0.6941\n",
      "Epoch 18/20\n",
      "488326/488326 [==============================] - 20s 41us/step - loss: 0.5754 - acc: 0.6937\n",
      "Epoch 19/20\n",
      "488326/488326 [==============================] - 20s 41us/step - loss: 0.5761 - acc: 0.6927\n",
      "Epoch 20/20\n",
      "488326/488326 [==============================] - 20s 40us/step - loss: 0.5762 - acc: 0.6928\n",
      "77749/77749 [==============================] - 1s 10us/step\n",
      "nature: 0.6787740035241611\n",
      "Confusion matrix, without normalization\n",
      "[[39680 21240]\n",
      " [ 3735 13094]]\n"
     ]
    },
    {
     "data": {
      "image/png": "[encoded data removed]",
      "text/plain": [
       "<Figure size 432x288 with 2 Axes>"
      ]
     },
     "metadata": {
      "needs_background": "light"
     },
     "output_type": "display_data"
    },
    {
     "name": "stdout",
     "output_type": "stream",
     "text": [
      "_________________________________________________________________\n",
      "Layer (type)                 Output Shape              Param #   \n",
      "=================================================================\n",
      "dense_5 (Dense)              (None, 12)                468       \n",
      "_________________________________________________________________\n",
      "dropout_3 (Dropout)          (None, 12)                0         \n",
      "_________________________________________________________________\n",
      "dense_6 (Dense)              (None, 1)                 13        \n",
      "=================================================================\n",
      "Total params: 481\n",
      "Trainable params: 481\n",
      "Non-trainable params: 0\n",
      "_________________________________________________________________\n",
      "Epoch 1/20\n",
      "504626/504626 [==============================] - 21s 42us/step - loss: 0.6291 - acc: 0.6509\n",
      "Epoch 2/20\n",
      "504626/504626 [==============================] - 21s 41us/step - loss: 0.6069 - acc: 0.6777\n",
      "Epoch 3/20\n",
      "504626/504626 [==============================] - 21s 41us/step - loss: 0.6012 - acc: 0.6832\n",
      "Epoch 4/20\n",
      "504626/504626 [==============================] - 21s 41us/step - loss: 0.5986 - acc: 0.6845\n",
      "Epoch 5/20\n",
      "504626/504626 [==============================] - 21s 41us/step - loss: 0.5953 - acc: 0.6873\n",
      "Epoch 6/20\n",
      "504626/504626 [==============================] - 20s 41us/step - loss: 0.5910 - acc: 0.6908\n",
      "Epoch 7/20\n",
      "504626/504626 [==============================] - 21s 41us/step - loss: 0.5886 - acc: 0.6925\n",
      "Epoch 8/20\n",
      "504626/504626 [==============================] - 21s 41us/step - loss: 0.5881 - acc: 0.6932\n",
      "Epoch 9/20\n",
      "504626/504626 [==============================] - 21s 41us/step - loss: 0.5871 - acc: 0.6939\n",
      "Epoch 10/20\n",
      "504626/504626 [==============================] - 21s 41us/step - loss: 0.5874 - acc: 0.6937\n",
      "Epoch 11/20\n",
      "504626/504626 [==============================] - 21s 41us/step - loss: 0.5863 - acc: 0.6950\n",
      "Epoch 12/20\n",
      "504626/504626 [==============================] - 21s 41us/step - loss: 0.5866 - acc: 0.6953\n",
      "Epoch 13/20\n",
      "504626/504626 [==============================] - 21s 41us/step - loss: 0.5866 - acc: 0.6947\n",
      "Epoch 14/20\n",
      "504626/504626 [==============================] - 21s 41us/step - loss: 0.5865 - acc: 0.6949\n",
      "Epoch 15/20\n",
      "504626/504626 [==============================] - 21s 41us/step - loss: 0.5867 - acc: 0.6939\n",
      "Epoch 16/20\n",
      "504626/504626 [==============================] - 21s 41us/step - loss: 0.5865 - acc: 0.6940\n",
      "Epoch 17/20\n",
      "504626/504626 [==============================] - 21s 41us/step - loss: 0.5864 - acc: 0.6941\n",
      "Epoch 18/20\n",
      "504626/504626 [==============================] - 21s 41us/step - loss: 0.5856 - acc: 0.6945\n",
      "Epoch 19/20\n",
      "504626/504626 [==============================] - 21s 41us/step - loss: 0.5866 - acc: 0.6936\n",
      "Epoch 20/20\n",
      "504626/504626 [==============================] - 21s 41us/step - loss: 0.5862 - acc: 0.6943\n",
      "77749/77749 [==============================] - 1s 11us/step\n",
      "human: 0.6928835097557525\n",
      "Confusion matrix, without normalization\n",
      "[[42580 20563]\n",
      " [ 3315 11291]]\n"
     ]
    },
    {
     "data": {
      "image/png": "[encoded data removed]",
      "text/plain": [
       "<Figure size 432x288 with 2 Axes>"
      ]
     },
     "metadata": {
      "needs_background": "light"
     },
     "output_type": "display_data"
    },
    {
     "name": "stdout",
     "output_type": "stream",
     "text": [
      "_________________________________________________________________\n",
      "Layer (type)                 Output Shape              Param #   \n",
      "=================================================================\n",
      "dense_7 (Dense)              (None, 12)                468       \n",
      "_________________________________________________________________\n",
      "dropout_4 (Dropout)          (None, 12)                0         \n",
      "_________________________________________________________________\n",
      "dense_8 (Dense)              (None, 1)                 13        \n",
      "=================================================================\n",
      "Total params: 481\n",
      "Trainable params: 481\n",
      "Non-trainable params: 0\n",
      "_________________________________________________________________\n",
      "Epoch 1/20\n",
      "506148/506148 [==============================] - 22s 43us/step - loss: 0.6058 - acc: 0.6634\n",
      "Epoch 2/20\n",
      "506148/506148 [==============================] - 21s 41us/step - loss: 0.5852 - acc: 0.6852\n",
      "Epoch 3/20\n",
      "506148/506148 [==============================] - 21s 41us/step - loss: 0.5813 - acc: 0.6899\n",
      "Epoch 4/20\n",
      "506148/506148 [==============================] - 21s 42us/step - loss: 0.5784 - acc: 0.6911\n",
      "Epoch 5/20\n",
      "506148/506148 [==============================] - 21s 41us/step - loss: 0.5767 - acc: 0.6921\n",
      "Epoch 6/20\n",
      "506148/506148 [==============================] - 21s 41us/step - loss: 0.5765 - acc: 0.6915\n",
      "Epoch 7/20\n",
      "506148/506148 [==============================] - 21s 41us/step - loss: 0.5758 - acc: 0.6926\n",
      "Epoch 8/20\n",
      "506148/506148 [==============================] - 21s 41us/step - loss: 0.5750 - acc: 0.6923\n",
      "Epoch 9/20\n",
      "506148/506148 [==============================] - 21s 41us/step - loss: 0.5754 - acc: 0.6918\n",
      "Epoch 10/20\n",
      "506148/506148 [==============================] - 21s 41us/step - loss: 0.5754 - acc: 0.6913\n",
      "Epoch 11/20\n",
      "506148/506148 [==============================] - 21s 42us/step - loss: 0.5750 - acc: 0.6921\n",
      "Epoch 12/20\n",
      "506148/506148 [==============================] - 21s 41us/step - loss: 0.5752 - acc: 0.6918\n",
      "Epoch 13/20\n",
      "506148/506148 [==============================] - 21s 42us/step - loss: 0.5753 - acc: 0.6914\n",
      "Epoch 14/20\n",
      "506148/506148 [==============================] - 21s 42us/step - loss: 0.5749 - acc: 0.6921\n",
      "Epoch 15/20\n",
      "506148/506148 [==============================] - 21s 42us/step - loss: 0.5747 - acc: 0.6920\n",
      "Epoch 16/20\n",
      "506148/506148 [==============================] - 21s 42us/step - loss: 0.5748 - acc: 0.6921\n",
      "Epoch 17/20\n",
      "506148/506148 [==============================] - 21s 41us/step - loss: 0.5748 - acc: 0.6920\n",
      "Epoch 18/20\n",
      "506148/506148 [==============================] - 21s 41us/step - loss: 0.5746 - acc: 0.6923\n",
      "Epoch 19/20\n",
      "506148/506148 [==============================] - 21s 41us/step - loss: 0.5741 - acc: 0.6928\n",
      "Epoch 20/20\n",
      "506148/506148 [==============================] - 21s 41us/step - loss: 0.5743 - acc: 0.6923\n",
      "77749/77749 [==============================] - 1s 12us/step\n",
      "domestic: 0.6664780254408417\n",
      "Confusion matrix, without normalization\n",
      "[[40563 22851]\n",
      " [ 3080 11255]]\n"
     ]
    },
    {
     "data": {
      "image/png": "[encoded data removed]",
      "text/plain": [
       "<Figure size 432x288 with 2 Axes>"
      ]
     },
     "metadata": {
      "needs_background": "light"
     },
     "output_type": "display_data"
    },
    {
     "name": "stdout",
     "output_type": "stream",
     "text": [
      "_________________________________________________________________\n",
      "Layer (type)                 Output Shape              Param #   \n",
      "=================================================================\n",
      "dense_9 (Dense)              (None, 12)                468       \n",
      "_________________________________________________________________\n",
      "dropout_5 (Dropout)          (None, 12)                0         \n",
      "_________________________________________________________________\n",
      "dense_10 (Dense)             (None, 1)                 13        \n",
      "=================================================================\n",
      "Total params: 481\n",
      "Trainable params: 481\n",
      "Non-trainable params: 0\n",
      "_________________________________________________________________\n",
      "Epoch 1/20\n",
      "489188/489188 [==============================] - 21s 43us/step - loss: 0.5564 - acc: 0.7063\n",
      "Epoch 2/20\n",
      "489188/489188 [==============================] - 20s 41us/step - loss: 0.5227 - acc: 0.7318\n",
      "Epoch 3/20\n",
      "489188/489188 [==============================] - 20s 41us/step - loss: 0.5170 - acc: 0.7344\n",
      "Epoch 4/20\n",
      "489188/489188 [==============================] - 20s 41us/step - loss: 0.5148 - acc: 0.7357\n",
      "Epoch 5/20\n",
      "489188/489188 [==============================] - 20s 42us/step - loss: 0.5129 - acc: 0.7374\n",
      "Epoch 6/20\n",
      "489188/489188 [==============================] - 20s 42us/step - loss: 0.5126 - acc: 0.7373\n",
      "Epoch 7/20\n",
      "489188/489188 [==============================] - 20s 42us/step - loss: 0.5115 - acc: 0.7379\n",
      "Epoch 8/20\n",
      "489188/489188 [==============================] - 20s 41us/step - loss: 0.5104 - acc: 0.7385\n",
      "Epoch 9/20\n",
      "489188/489188 [==============================] - 20s 41us/step - loss: 0.5104 - acc: 0.7389\n",
      "Epoch 10/20\n",
      "489188/489188 [==============================] - 20s 41us/step - loss: 0.5102 - acc: 0.7384\n",
      "Epoch 11/20\n",
      "489188/489188 [==============================] - 20s 41us/step - loss: 0.5099 - acc: 0.7390\n",
      "Epoch 12/20\n",
      "489188/489188 [==============================] - 20s 41us/step - loss: 0.5089 - acc: 0.7393\n",
      "Epoch 13/20\n",
      "489188/489188 [==============================] - 20s 41us/step - loss: 0.5089 - acc: 0.7390\n",
      "Epoch 14/20\n",
      "489188/489188 [==============================] - 20s 41us/step - loss: 0.5093 - acc: 0.7380\n",
      "Epoch 15/20\n",
      "489188/489188 [==============================] - 20s 41us/step - loss: 0.5083 - acc: 0.7386\n",
      "Epoch 16/20\n",
      "489188/489188 [==============================] - 20s 41us/step - loss: 0.5077 - acc: 0.7388\n",
      "Epoch 17/20\n",
      "489188/489188 [==============================] - 20s 41us/step - loss: 0.5082 - acc: 0.7382\n",
      "Epoch 18/20\n",
      "489188/489188 [==============================] - 20s 41us/step - loss: 0.5078 - acc: 0.7379\n",
      "Epoch 19/20\n",
      "489188/489188 [==============================] - 20s 41us/step - loss: 0.5069 - acc: 0.7383\n",
      "Epoch 20/20\n",
      "489188/489188 [==============================] - 20s 41us/step - loss: 0.5073 - acc: 0.7382\n",
      "77749/77749 [==============================] - 1s 12us/step\n",
      "urban: 0.74319926944398\n",
      "Confusion matrix, without normalization\n",
      "[[44657 16436]\n",
      " [ 3530 13126]]\n"
     ]
    },
    {
     "data": {
      "image/png": "[encoded data removed]",
      "text/plain": [
       "<Figure size 432x288 with 2 Axes>"
      ]
     },
     "metadata": {
      "needs_background": "light"
     },
     "output_type": "display_data"
    }
   ],
   "source": [
    "import snn_classifier as snn_clas\n",
    "from classification_plots import plot_confusion_matrix\n",
    "import matplotlib.pyplot as plt\n",
    "hl_shallow = {}\n",
    "for i in range(0,5):\n",
    "    start_i = i * 10\n",
    "    end_i = ((i + 1) * 10) - 1\n",
    "#     Get equally distributed set of positive and negative instances\n",
    "    xx, yy = du.balanced_supersample(train_X, train_y.between(start_i, end_i))\n",
    "    clas = KerasClassifier(build_fn=snn_clas.create_baseline, epochs=20, batch_size=128, verbose=1)\n",
    "    clas.fit(xx, yy)\n",
    "    pred = clas.predict(test_X)\n",
    "    pred = [item[0] for item in pred]\n",
    "    print(str(h_classes[i]) + \": \" + \n",
    "      str(metrics.accuracy_score(test_y.between(start_i, end_i), pred)))\n",
    "    cm = metrics.confusion_matrix(test_y.between(start_i, end_i), pred)\n",
    "    plot_confusion_matrix(cm, ['False', 'True'])\n",
    "    plt.show()\n",
    "    hl_shallow[h_classes[i]] = clas"
   ]
  },
  {
   "cell_type": "code",
   "execution_count": null,
   "metadata": {},
   "outputs": [],
   "source": []
  }
 ],
 "metadata": {
  "kernelspec": {
   "display_name": "Python 3",
   "language": "python",
   "name": "python3"
  },
  "language_info": {
   "codemirror_mode": {
    "name": "ipython",
    "version": 3
   },
   "file_extension": ".py",
   "mimetype": "text/x-python",
   "name": "python",
   "nbconvert_exporter": "python",
   "pygments_lexer": "ipython3",
   "version": "3.6.6"
  }
 },
 "nbformat": 4,
 "nbformat_minor": 2
}
