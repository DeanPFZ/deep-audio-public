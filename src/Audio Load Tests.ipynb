{
 "cells": [
  {
   "cell_type": "markdown",
   "metadata": {},
   "source": [
    "# Audio Processing"
   ]
  },
  {
   "cell_type": "code",
   "execution_count": 1,
   "metadata": {},
   "outputs": [
    {
     "name": "stderr",
     "output_type": "stream",
     "text": [
      "Using TensorFlow backend.\n"
     ]
    },
    {
     "name": "stdout",
     "output_type": "stream",
     "text": [
      "WARNING:tensorflow:From /usr/local/lib/python3.5/dist-packages/magenta/models/nsynth/wavenet/masked.py:115: UniformUnitScaling.__init__ (from tensorflow.python.ops.init_ops) is deprecated and will be removed in a future version.\n",
      "Instructions for updating:\n",
      "Use tf.initializers.variance_scaling instead with distribution=uniform to get equivalent behavior.\n"
     ]
    },
    {
     "name": "stderr",
     "output_type": "stream",
     "text": [
      "/usr/lib/python3.5/importlib/_bootstrap.py:222: RuntimeWarning: numpy.dtype size changed, may indicate binary incompatibility. Expected 96, got 88\n",
      "  return f(*args, **kwds)\n",
      "/usr/lib/python3.5/importlib/_bootstrap.py:222: RuntimeWarning: numpy.dtype size changed, may indicate binary incompatibility. Expected 96, got 88\n",
      "  return f(*args, **kwds)\n",
      "/usr/lib/python3.5/importlib/_bootstrap.py:222: RuntimeWarning: numpy.dtype size changed, may indicate binary incompatibility. Expected 96, got 88\n",
      "  return f(*args, **kwds)\n",
      "/usr/lib/python3.5/importlib/_bootstrap.py:222: RuntimeWarning: numpy.dtype size changed, may indicate binary incompatibility. Expected 96, got 88\n",
      "  return f(*args, **kwds)\n"
     ]
    }
   ],
   "source": [
    "from preprocess import Audio_Processor\n",
    "import os\n",
    "import warnings\n",
    "import pandas as pd\n",
    "import time\n",
    "from data_utils import enumerate_strings\n",
    "import numpy as np"
   ]
  },
  {
   "cell_type": "code",
   "execution_count": 2,
   "metadata": {},
   "outputs": [],
   "source": [
    "# Able to specify which GPU to use\n",
    "os.environ[\"CUDA_VISIBLE_DEVICES\"]=\"1\"\n",
    "warnings.filterwarnings('ignore')\n",
    "SR = 16000"
   ]
  },
  {
   "cell_type": "markdown",
   "metadata": {},
   "source": [
    "## ESC-50"
   ]
  },
  {
   "cell_type": "code",
   "execution_count": 3,
   "metadata": {},
   "outputs": [],
   "source": [
    "path_to_db='../ESC-50/'\n",
    "ps = Audio_Processor(path_to_db + 'audio/', sr=SR)\n",
    "dataset = pd.read_csv(path_to_db + 'meta/esc50.csv')\n",
    "classes = [None] * 50"
   ]
  },
  {
   "cell_type": "code",
   "execution_count": 4,
   "metadata": {},
   "outputs": [],
   "source": [
    "h_classes = ['Human & Animal', 'Interacting Materials']\n",
    "mapping = {\n",
    "    'dog': 0,\n",
    "    'rooster': 0,\n",
    "    'pig': 0,\n",
    "    'cow': 0,\n",
    "    'frog': 0,\n",
    "    'cat': 0,\n",
    "    'hen': 0,\n",
    "    'insects': 0,\n",
    "    'sheep': 0,\n",
    "    'crow': 0,\n",
    "    'rain': 1,\n",
    "    'sea_waves': 1,\n",
    "    'crackling_fire': 1,\n",
    "    'crickets': 0,\n",
    "    'chirping_birds': 0,\n",
    "    'water_drops': 1,\n",
    "    'wind': 1,\n",
    "    'pouring_water': 1,\n",
    "    'toilet_flush': 1,\n",
    "    'thunderstorm': 1,\n",
    "    'crying_baby': 0,\n",
    "    'sneezing': 0,\n",
    "    'clapping': 1,\n",
    "    'breathing': 0,\n",
    "    'coughing': 0,\n",
    "    'footsteps': 1,\n",
    "    'laughing': 0,\n",
    "    'brushing_teeth': 1,\n",
    "    'snoring': 0,\n",
    "    'drinking_sipping': 1,\n",
    "    'door_wood_knock': 1,\n",
    "    'mouse_click': 1,\n",
    "    'keyboard_typing': 1,\n",
    "    'door_wood_creaks': 1,\n",
    "    'can_opening': 1,\n",
    "    'washing_machine': 1,\n",
    "    'vacuum_cleaner': 1,\n",
    "    'clock_alarm': 1,\n",
    "    'clock_tick': 1,\n",
    "    'glass_breaking':1,\n",
    "    'helicopter': 1,\n",
    "    'chainsaw': 1,\n",
    "    'siren': 1,\n",
    "    'car_horn': 1,\n",
    "    'engine': 1,\n",
    "    'train': 1,\n",
    "    'church_bells': 1,\n",
    "    'airplane': 1,\n",
    "    'fireworks': 1,\n",
    "    'hand_saw': 1,\n",
    "}"
   ]
  },
  {
   "cell_type": "code",
   "execution_count": 5,
   "metadata": {},
   "outputs": [],
   "source": [
    "dataset['h_target'] = None\n",
    "for index, row in dataset.iterrows():\n",
    "    target = row['target']\n",
    "    classes[target] = row['category']\n",
    "    dataset.loc[index, 'h_target'] = mapping[row['category']]"
   ]
  },
  {
   "cell_type": "code",
   "execution_count": 6,
   "metadata": {},
   "outputs": [],
   "source": [
    "esc_time = []"
   ]
  },
  {
   "cell_type": "markdown",
   "metadata": {},
   "source": [
    "### Quarter-Second Blocksize"
   ]
  },
  {
   "cell_type": "code",
   "execution_count": 7,
   "metadata": {},
   "outputs": [],
   "source": [
    "blocksize = int(SR/4)\n",
    "overlap = int(SR/8)"
   ]
  },
  {
   "cell_type": "code",
   "execution_count": 8,
   "metadata": {},
   "outputs": [
    {
     "name": "stdout",
     "output_type": "stream",
     "text": [
      "Preprocess file not found, building new one\n",
      "Epoch 1/1\n",
      "2/2 [==============================] - 0s 76ms/step - loss: 1.3270\n",
      "\tBytes: 48080\n",
      "\tProcessing Time: 491.3653585910797\n"
     ]
    }
   ],
   "source": [
    "s_time = time.time()\n",
    "df = ps.preprocess_fold(dataset, \n",
    "                        kind='mfcc', \n",
    "                        blocksize=blocksize, \n",
    "                        overlap=overlap,\n",
    "                        feature_bag=False\n",
    "                       )\n",
    "esc_time.append(time.time() - s_time)"
   ]
  },
  {
   "cell_type": "code",
   "execution_count": 9,
   "metadata": {},
   "outputs": [
    {
     "data": {
      "text/html": [
       "<div>\n",
       "<style scoped>\n",
       "    .dataframe tbody tr th:only-of-type {\n",
       "        vertical-align: middle;\n",
       "    }\n",
       "\n",
       "    .dataframe tbody tr th {\n",
       "        vertical-align: top;\n",
       "    }\n",
       "\n",
       "    .dataframe thead th {\n",
       "        text-align: right;\n",
       "    }\n",
       "</style>\n",
       "<table border=\"1\" class=\"dataframe\">\n",
       "  <thead>\n",
       "    <tr style=\"text-align: right;\">\n",
       "      <th></th>\n",
       "      <th>target</th>\n",
       "      <th>h_target</th>\n",
       "      <th>metadata</th>\n",
       "    </tr>\n",
       "  </thead>\n",
       "  <tbody>\n",
       "    <tr>\n",
       "      <th>0</th>\n",
       "      <td>0</td>\n",
       "      <td>0</td>\n",
       "      <td>mfcc_2_std  mfcc_2_mean  mfcc_2_noise  mfcc...</td>\n",
       "    </tr>\n",
       "    <tr>\n",
       "      <th>1</th>\n",
       "      <td>14</td>\n",
       "      <td>0</td>\n",
       "      <td>mfcc_2_std  mfcc_2_mean  mfcc_2_noise  mfc...</td>\n",
       "    </tr>\n",
       "    <tr>\n",
       "      <th>2</th>\n",
       "      <td>36</td>\n",
       "      <td>1</td>\n",
       "      <td>mfcc_2_std  mfcc_2_mean  mfcc_2_noise  mfc...</td>\n",
       "    </tr>\n",
       "    <tr>\n",
       "      <th>3</th>\n",
       "      <td>36</td>\n",
       "      <td>1</td>\n",
       "      <td>mfcc_2_std  mfcc_2_mean  mfcc_2_noise  mfc...</td>\n",
       "    </tr>\n",
       "    <tr>\n",
       "      <th>4</th>\n",
       "      <td>19</td>\n",
       "      <td>1</td>\n",
       "      <td>mfcc_2_std  mfcc_2_mean  mfcc_2_noise  mfc...</td>\n",
       "    </tr>\n",
       "  </tbody>\n",
       "</table>\n",
       "</div>"
      ],
      "text/plain": [
       "   target  h_target                                           metadata\n",
       "0       0         0     mfcc_2_std  mfcc_2_mean  mfcc_2_noise  mfcc...\n",
       "1      14         0      mfcc_2_std  mfcc_2_mean  mfcc_2_noise  mfc...\n",
       "2      36         1      mfcc_2_std  mfcc_2_mean  mfcc_2_noise  mfc...\n",
       "3      36         1      mfcc_2_std  mfcc_2_mean  mfcc_2_noise  mfc...\n",
       "4      19         1      mfcc_2_std  mfcc_2_mean  mfcc_2_noise  mfc..."
      ]
     },
     "execution_count": 9,
     "metadata": {},
     "output_type": "execute_result"
    }
   ],
   "source": [
    "df.head()"
   ]
  },
  {
   "cell_type": "markdown",
   "metadata": {},
   "source": [
    "### Half-Second Blocksize"
   ]
  },
  {
   "cell_type": "code",
   "execution_count": 10,
   "metadata": {},
   "outputs": [],
   "source": [
    "blocksize = int(SR/2)\n",
    "overlap = int(SR/4)"
   ]
  },
  {
   "cell_type": "code",
   "execution_count": 11,
   "metadata": {},
   "outputs": [
    {
     "name": "stdout",
     "output_type": "stream",
     "text": [
      "Preprocess file not found, building new one\n",
      "Epoch 1/1\n",
      "2/2 [==============================] - 0s 59ms/step - loss: 1.3293\n",
      "\tBytes: 48080\n",
      "\tProcessing Time: 450.8284242153168\n"
     ]
    }
   ],
   "source": [
    "s_time = time.time()\n",
    "df = ps.preprocess_fold(dataset, \n",
    "                        kind='mfcc', \n",
    "                        blocksize=blocksize, \n",
    "                        overlap=overlap,\n",
    "                        feature_bag=False\n",
    "                       )\n",
    "esc_time.append(time.time() - s_time)"
   ]
  },
  {
   "cell_type": "code",
   "execution_count": 12,
   "metadata": {},
   "outputs": [
    {
     "data": {
      "text/html": [
       "<div>\n",
       "<style scoped>\n",
       "    .dataframe tbody tr th:only-of-type {\n",
       "        vertical-align: middle;\n",
       "    }\n",
       "\n",
       "    .dataframe tbody tr th {\n",
       "        vertical-align: top;\n",
       "    }\n",
       "\n",
       "    .dataframe thead th {\n",
       "        text-align: right;\n",
       "    }\n",
       "</style>\n",
       "<table border=\"1\" class=\"dataframe\">\n",
       "  <thead>\n",
       "    <tr style=\"text-align: right;\">\n",
       "      <th></th>\n",
       "      <th>target</th>\n",
       "      <th>h_target</th>\n",
       "      <th>metadata</th>\n",
       "    </tr>\n",
       "  </thead>\n",
       "  <tbody>\n",
       "    <tr>\n",
       "      <th>0</th>\n",
       "      <td>0</td>\n",
       "      <td>0</td>\n",
       "      <td>mfcc_2_std  mfcc_2_mean  mfcc_2_noise  mfcc...</td>\n",
       "    </tr>\n",
       "    <tr>\n",
       "      <th>1</th>\n",
       "      <td>14</td>\n",
       "      <td>0</td>\n",
       "      <td>mfcc_2_std  mfcc_2_mean  mfcc_2_noise  mfc...</td>\n",
       "    </tr>\n",
       "    <tr>\n",
       "      <th>2</th>\n",
       "      <td>36</td>\n",
       "      <td>1</td>\n",
       "      <td>mfcc_2_std  mfcc_2_mean  mfcc_2_noise  mfc...</td>\n",
       "    </tr>\n",
       "    <tr>\n",
       "      <th>3</th>\n",
       "      <td>36</td>\n",
       "      <td>1</td>\n",
       "      <td>mfcc_2_std  mfcc_2_mean  mfcc_2_noise  mfc...</td>\n",
       "    </tr>\n",
       "    <tr>\n",
       "      <th>4</th>\n",
       "      <td>19</td>\n",
       "      <td>1</td>\n",
       "      <td>mfcc_2_std  mfcc_2_mean  mfcc_2_noise  mfc...</td>\n",
       "    </tr>\n",
       "  </tbody>\n",
       "</table>\n",
       "</div>"
      ],
      "text/plain": [
       "   target  h_target                                           metadata\n",
       "0       0         0     mfcc_2_std  mfcc_2_mean  mfcc_2_noise  mfcc...\n",
       "1      14         0      mfcc_2_std  mfcc_2_mean  mfcc_2_noise  mfc...\n",
       "2      36         1      mfcc_2_std  mfcc_2_mean  mfcc_2_noise  mfc...\n",
       "3      36         1      mfcc_2_std  mfcc_2_mean  mfcc_2_noise  mfc...\n",
       "4      19         1      mfcc_2_std  mfcc_2_mean  mfcc_2_noise  mfc..."
      ]
     },
     "execution_count": 12,
     "metadata": {},
     "output_type": "execute_result"
    }
   ],
   "source": [
    "df.head()"
   ]
  },
  {
   "cell_type": "markdown",
   "metadata": {},
   "source": [
    "### 1 Second Blocksize"
   ]
  },
  {
   "cell_type": "code",
   "execution_count": 13,
   "metadata": {},
   "outputs": [],
   "source": [
    "blocksize = int(SR)\n",
    "overlap = int(SR/2)"
   ]
  },
  {
   "cell_type": "code",
   "execution_count": 14,
   "metadata": {},
   "outputs": [
    {
     "name": "stdout",
     "output_type": "stream",
     "text": [
      "Preprocess file not found, building new one\n",
      "Epoch 1/1\n",
      "2/2 [==============================] - 0s 65ms/step - loss: 1.3229\n",
      "\tBytes: 48080\n",
      "\tProcessing Time: 423.9814510345459\n"
     ]
    }
   ],
   "source": [
    "s_time = time.time()\n",
    "df = ps.preprocess_fold(dataset, \n",
    "                        kind='mfcc', \n",
    "                        blocksize=blocksize, \n",
    "                        overlap=overlap,\n",
    "                        feature_bag=False\n",
    "                       )\n",
    "esc_time.append(time.time() - s_time)"
   ]
  },
  {
   "cell_type": "code",
   "execution_count": 15,
   "metadata": {},
   "outputs": [
    {
     "data": {
      "text/html": [
       "<div>\n",
       "<style scoped>\n",
       "    .dataframe tbody tr th:only-of-type {\n",
       "        vertical-align: middle;\n",
       "    }\n",
       "\n",
       "    .dataframe tbody tr th {\n",
       "        vertical-align: top;\n",
       "    }\n",
       "\n",
       "    .dataframe thead th {\n",
       "        text-align: right;\n",
       "    }\n",
       "</style>\n",
       "<table border=\"1\" class=\"dataframe\">\n",
       "  <thead>\n",
       "    <tr style=\"text-align: right;\">\n",
       "      <th></th>\n",
       "      <th>target</th>\n",
       "      <th>h_target</th>\n",
       "      <th>metadata</th>\n",
       "    </tr>\n",
       "  </thead>\n",
       "  <tbody>\n",
       "    <tr>\n",
       "      <th>0</th>\n",
       "      <td>0</td>\n",
       "      <td>0</td>\n",
       "      <td>mfcc_2_std  mfcc_2_mean  mfcc_2_noise  mfcc...</td>\n",
       "    </tr>\n",
       "    <tr>\n",
       "      <th>1</th>\n",
       "      <td>14</td>\n",
       "      <td>0</td>\n",
       "      <td>mfcc_2_std  mfcc_2_mean  mfcc_2_noise  mfcc...</td>\n",
       "    </tr>\n",
       "    <tr>\n",
       "      <th>2</th>\n",
       "      <td>36</td>\n",
       "      <td>1</td>\n",
       "      <td>mfcc_2_std  mfcc_2_mean  mfcc_2_noise  mfcc...</td>\n",
       "    </tr>\n",
       "    <tr>\n",
       "      <th>3</th>\n",
       "      <td>36</td>\n",
       "      <td>1</td>\n",
       "      <td>mfcc_2_std  mfcc_2_mean  mfcc_2_noise  mfcc...</td>\n",
       "    </tr>\n",
       "    <tr>\n",
       "      <th>4</th>\n",
       "      <td>19</td>\n",
       "      <td>1</td>\n",
       "      <td>mfcc_2_std  mfcc_2_mean  mfcc_2_noise  mfcc...</td>\n",
       "    </tr>\n",
       "  </tbody>\n",
       "</table>\n",
       "</div>"
      ],
      "text/plain": [
       "   target  h_target                                           metadata\n",
       "0       0         0     mfcc_2_std  mfcc_2_mean  mfcc_2_noise  mfcc...\n",
       "1      14         0     mfcc_2_std  mfcc_2_mean  mfcc_2_noise  mfcc...\n",
       "2      36         1     mfcc_2_std  mfcc_2_mean  mfcc_2_noise  mfcc...\n",
       "3      36         1     mfcc_2_std  mfcc_2_mean  mfcc_2_noise  mfcc...\n",
       "4      19         1     mfcc_2_std  mfcc_2_mean  mfcc_2_noise  mfcc..."
      ]
     },
     "execution_count": 15,
     "metadata": {},
     "output_type": "execute_result"
    }
   ],
   "source": [
    "df.head()"
   ]
  },
  {
   "cell_type": "markdown",
   "metadata": {},
   "source": [
    "### 2 Second Blocksize"
   ]
  },
  {
   "cell_type": "code",
   "execution_count": 16,
   "metadata": {},
   "outputs": [],
   "source": [
    "blocksize = int(SR * 2)\n",
    "overlap = int(SR)"
   ]
  },
  {
   "cell_type": "code",
   "execution_count": 17,
   "metadata": {},
   "outputs": [
    {
     "name": "stdout",
     "output_type": "stream",
     "text": [
      "Preprocess file not found, building new one\n",
      "Epoch 1/1\n",
      "2/2 [==============================] - 0s 70ms/step - loss: 1.3366\n",
      "\tBytes: 48080\n",
      "\tProcessing Time: 435.3289179801941\n"
     ]
    }
   ],
   "source": [
    "s_time = time.time()\n",
    "df = ps.preprocess_fold(dataset, \n",
    "                        kind='mfcc', \n",
    "                        blocksize=blocksize, \n",
    "                        overlap=overlap,\n",
    "                        feature_bag=False\n",
    "                       )\n",
    "esc_time.append(time.time() - s_time)"
   ]
  },
  {
   "cell_type": "code",
   "execution_count": 18,
   "metadata": {},
   "outputs": [
    {
     "data": {
      "text/html": [
       "<div>\n",
       "<style scoped>\n",
       "    .dataframe tbody tr th:only-of-type {\n",
       "        vertical-align: middle;\n",
       "    }\n",
       "\n",
       "    .dataframe tbody tr th {\n",
       "        vertical-align: top;\n",
       "    }\n",
       "\n",
       "    .dataframe thead th {\n",
       "        text-align: right;\n",
       "    }\n",
       "</style>\n",
       "<table border=\"1\" class=\"dataframe\">\n",
       "  <thead>\n",
       "    <tr style=\"text-align: right;\">\n",
       "      <th></th>\n",
       "      <th>target</th>\n",
       "      <th>h_target</th>\n",
       "      <th>metadata</th>\n",
       "    </tr>\n",
       "  </thead>\n",
       "  <tbody>\n",
       "    <tr>\n",
       "      <th>0</th>\n",
       "      <td>0</td>\n",
       "      <td>0</td>\n",
       "      <td>mfcc_2_std  mfcc_2_mean  mfcc_2_noise  mfcc...</td>\n",
       "    </tr>\n",
       "    <tr>\n",
       "      <th>1</th>\n",
       "      <td>14</td>\n",
       "      <td>0</td>\n",
       "      <td>mfcc_2_std  mfcc_2_mean  mfcc_2_noise  mfcc...</td>\n",
       "    </tr>\n",
       "    <tr>\n",
       "      <th>2</th>\n",
       "      <td>36</td>\n",
       "      <td>1</td>\n",
       "      <td>mfcc_2_std  mfcc_2_mean  mfcc_2_noise  mfcc...</td>\n",
       "    </tr>\n",
       "    <tr>\n",
       "      <th>3</th>\n",
       "      <td>36</td>\n",
       "      <td>1</td>\n",
       "      <td>mfcc_2_std  mfcc_2_mean  mfcc_2_noise  mfcc...</td>\n",
       "    </tr>\n",
       "    <tr>\n",
       "      <th>4</th>\n",
       "      <td>19</td>\n",
       "      <td>1</td>\n",
       "      <td>mfcc_2_std  mfcc_2_mean  mfcc_2_noise  mfcc...</td>\n",
       "    </tr>\n",
       "  </tbody>\n",
       "</table>\n",
       "</div>"
      ],
      "text/plain": [
       "   target  h_target                                           metadata\n",
       "0       0         0     mfcc_2_std  mfcc_2_mean  mfcc_2_noise  mfcc...\n",
       "1      14         0     mfcc_2_std  mfcc_2_mean  mfcc_2_noise  mfcc...\n",
       "2      36         1     mfcc_2_std  mfcc_2_mean  mfcc_2_noise  mfcc...\n",
       "3      36         1     mfcc_2_std  mfcc_2_mean  mfcc_2_noise  mfcc...\n",
       "4      19         1     mfcc_2_std  mfcc_2_mean  mfcc_2_noise  mfcc..."
      ]
     },
     "execution_count": 18,
     "metadata": {},
     "output_type": "execute_result"
    }
   ],
   "source": [
    "df.head()"
   ]
  },
  {
   "cell_type": "markdown",
   "metadata": {},
   "source": [
    "### 5 Second Blocksize"
   ]
  },
  {
   "cell_type": "code",
   "execution_count": 19,
   "metadata": {},
   "outputs": [],
   "source": [
    "blocksize = int(SR * 5)\n",
    "overlap = 0"
   ]
  },
  {
   "cell_type": "code",
   "execution_count": 20,
   "metadata": {},
   "outputs": [
    {
     "name": "stdout",
     "output_type": "stream",
     "text": [
      "Preprocess file not found, building new one\n",
      "Epoch 1/1\n",
      "2/2 [==============================] - 0s 80ms/step - loss: 1.3339\n",
      "\tBytes: 48080\n",
      "\tProcessing Time: 485.52639985084534\n"
     ]
    }
   ],
   "source": [
    "s_time = time.time()\n",
    "df = ps.preprocess_fold(dataset, \n",
    "                        kind='mfcc', \n",
    "                        blocksize=blocksize, \n",
    "                        overlap=overlap,\n",
    "                        feature_bag=False\n",
    "                       )\n",
    "esc_time.append(time.time() - s_time)"
   ]
  },
  {
   "cell_type": "code",
   "execution_count": 21,
   "metadata": {},
   "outputs": [
    {
     "name": "stdout",
     "output_type": "stream",
     "text": [
      "[491.79408526420593, 451.03358221054077, 424.3489806652069, 435.5002193450928, 485.690899848938]\n"
     ]
    }
   ],
   "source": [
    "print(esc_time)"
   ]
  },
  {
   "cell_type": "code",
   "execution_count": null,
   "metadata": {},
   "outputs": [],
   "source": []
  },
  {
   "cell_type": "code",
   "execution_count": null,
   "metadata": {},
   "outputs": [],
   "source": []
  },
  {
   "cell_type": "markdown",
   "metadata": {},
   "source": [
    "## Freesound Dataset"
   ]
  },
  {
   "cell_type": "code",
   "execution_count": 22,
   "metadata": {},
   "outputs": [],
   "source": [
    "path_to_db = '../../data/FSDKaggle2018/'\n",
    "dataset = pd.read_csv(path_to_db + 'meta/train.csv')\n",
    "dataset = dataset.drop(['manually_verified', 'freesound_id', 'license'], axis=1)\n",
    "fs_ps = Audio_Processor(path_to_db + 'train/')\n",
    "classes = dataset.label.unique()"
   ]
  },
  {
   "cell_type": "code",
   "execution_count": 23,
   "metadata": {},
   "outputs": [],
   "source": [
    "h_classes = ['Human & Animal', 'Interacting Materials', 'Musical Instruments']\n",
    "mapping = {'Hi-hat': h_classes[2],\n",
    "           'Saxophone': h_classes[2],\n",
    "           'Trumpet': h_classes[2],\n",
    "           'Glockenspiel': h_classes[2],\n",
    "           'Cello': h_classes[2],\n",
    "           'Knock': h_classes[1],\n",
    "           'Gunshot_or_gunfire': h_classes[1],\n",
    "           'Clarinet': h_classes[2],\n",
    "           'Computer_keyboard': h_classes[1],\n",
    "           'Keys_jangling': h_classes[1],\n",
    "           'Snare_drum': h_classes[2],\n",
    "           'Writing': h_classes[1],\n",
    "           'Laughter': h_classes[0],\n",
    "           'Tearing': h_classes[1],\n",
    "           'Fart': h_classes[1],\n",
    "           'Oboe': h_classes[2],\n",
    "           'Flute': h_classes[2],\n",
    "           'Cough': h_classes[0],\n",
    "           'Telephone': h_classes[1],\n",
    "           'Bark': h_classes[0],\n",
    "           'Chime': h_classes[2],\n",
    "           'Bass_drum': h_classes[2],\n",
    "           'Bus': h_classes[1],\n",
    "           'Squeak': h_classes[0],\n",
    "           'Scissors': h_classes[1],\n",
    "           'Harmonica': h_classes[2],\n",
    "           'Gong': h_classes[2],\n",
    "           'Microwave_oven': h_classes[1],\n",
    "           'Burping_or_eructation': h_classes[0],\n",
    "           'Double_bass': h_classes[2],\n",
    "           'Shatter': h_classes[1],\n",
    "           'Fireworks': h_classes[1],\n",
    "           'Tambourine': h_classes[2],\n",
    "           'Cowbell': h_classes[2],\n",
    "           'Electric_piano': h_classes[2],\n",
    "           'Meow': h_classes[0],\n",
    "           'Drawer_open_or_close': h_classes[1],\n",
    "           'Applause': h_classes[1],\n",
    "           'Acoustic_guitar': h_classes[2],\n",
    "           'Violin_or_fiddle': h_classes[2],\n",
    "           'Finger_snapping': h_classes[1]\n",
    "           }"
   ]
  },
  {
   "cell_type": "code",
   "execution_count": 24,
   "metadata": {},
   "outputs": [],
   "source": [
    "dataset['h_target'] = None\n",
    "for index, row in dataset.iterrows():\n",
    "    row['target'] = np.where(classes == row['label'])\n",
    "    dataset.loc[index, 'h_target'] = mapping[row['label']]\n",
    "dataset.columns = ['filename', 'target', 'h_target']\n",
    "enum_map = enumerate_strings(dataset, ['filename'])"
   ]
  },
  {
   "cell_type": "code",
   "execution_count": 25,
   "metadata": {},
   "outputs": [],
   "source": [
    "fsd_time = []"
   ]
  },
  {
   "cell_type": "markdown",
   "metadata": {},
   "source": [
    "### Quarter-second Blocksize"
   ]
  },
  {
   "cell_type": "code",
   "execution_count": 26,
   "metadata": {},
   "outputs": [],
   "source": [
    "blocksize = int(SR/4)\n",
    "overlap = int(SR/8)"
   ]
  },
  {
   "cell_type": "code",
   "execution_count": 27,
   "metadata": {},
   "outputs": [
    {
     "name": "stdout",
     "output_type": "stream",
     "text": [
      "Preprocess file not found, building new one\n",
      "Epoch 1/1\n",
      "2/2 [==============================] - 0s 83ms/step - loss: 1.3517\n",
      "\tBytes: 227432\n",
      "\tProcessing Time: 3099.4090662002563\n"
     ]
    }
   ],
   "source": [
    "s_time = time.time()\n",
    "df = fs_ps.preprocess_fold(dataset, \n",
    "                        kind='mfcc', \n",
    "                        blocksize=blocksize, \n",
    "                        overlap=overlap,\n",
    "                        feature_bag=False\n",
    "                       )\n",
    "fsd_time.append(time.time() - s_time)"
   ]
  },
  {
   "cell_type": "markdown",
   "metadata": {},
   "source": [
    "### Half-second Blocksize"
   ]
  },
  {
   "cell_type": "code",
   "execution_count": 28,
   "metadata": {},
   "outputs": [],
   "source": [
    "blocksize = int(SR/2)\n",
    "overlap = int(SR/4)"
   ]
  },
  {
   "cell_type": "code",
   "execution_count": 29,
   "metadata": {},
   "outputs": [
    {
     "name": "stdout",
     "output_type": "stream",
     "text": [
      "Preprocess file not found, building new one\n",
      "Epoch 1/1\n",
      "2/2 [==============================] - 0s 95ms/step - loss: 1.3318\n",
      "\tBytes: 227432\n",
      "\tProcessing Time: 2895.093204021454\n"
     ]
    }
   ],
   "source": [
    "s_time = time.time()\n",
    "df = fs_ps.preprocess_fold(dataset, \n",
    "                        kind='mfcc', \n",
    "                        blocksize=blocksize, \n",
    "                        overlap=overlap,\n",
    "                        feature_bag=False\n",
    "                       )\n",
    "fsd_time.append(time.time() - s_time)"
   ]
  },
  {
   "cell_type": "markdown",
   "metadata": {},
   "source": [
    "### 1 Second Blocksize"
   ]
  },
  {
   "cell_type": "code",
   "execution_count": 30,
   "metadata": {},
   "outputs": [],
   "source": [
    "blocksize = int(SR)\n",
    "overlap = int(SR/2)"
   ]
  },
  {
   "cell_type": "code",
   "execution_count": 31,
   "metadata": {},
   "outputs": [
    {
     "name": "stdout",
     "output_type": "stream",
     "text": [
      "Preprocess file not found, building new one\n",
      "Epoch 1/1\n",
      "2/2 [==============================] - 0s 105ms/step - loss: 1.3248\n",
      "\tBytes: 227432\n",
      "\tProcessing Time: 2862.872148036957\n"
     ]
    }
   ],
   "source": [
    "s_time = time.time()\n",
    "df = fs_ps.preprocess_fold(dataset, \n",
    "                        kind='mfcc', \n",
    "                        blocksize=blocksize, \n",
    "                        overlap=overlap,\n",
    "                        feature_bag=False\n",
    "                       )\n",
    "fsd_time.append(time.time() - s_time)"
   ]
  },
  {
   "cell_type": "markdown",
   "metadata": {},
   "source": [
    "### 2 Second Blocksize"
   ]
  },
  {
   "cell_type": "code",
   "execution_count": 32,
   "metadata": {},
   "outputs": [],
   "source": [
    "blocksize = int(SR * 2)\n",
    "overlap = int(SR)"
   ]
  },
  {
   "cell_type": "code",
   "execution_count": 33,
   "metadata": {},
   "outputs": [
    {
     "name": "stdout",
     "output_type": "stream",
     "text": [
      "Preprocess file not found, building new one\n",
      "Epoch 1/1\n",
      "2/2 [==============================] - 0s 117ms/step - loss: 1.3326\n",
      "\tBytes: 227432\n",
      "\tProcessing Time: 3185.3102564811707\n"
     ]
    }
   ],
   "source": [
    "s_time = time.time()\n",
    "df = fs_ps.preprocess_fold(dataset, \n",
    "                        kind='mfcc', \n",
    "                        blocksize=blocksize, \n",
    "                        overlap=overlap,\n",
    "                        feature_bag=False\n",
    "                       )\n",
    "fsd_time.append(time.time() - s_time)"
   ]
  },
  {
   "cell_type": "markdown",
   "metadata": {},
   "source": [
    "### 5 Second Blocksize"
   ]
  },
  {
   "cell_type": "code",
   "execution_count": 34,
   "metadata": {},
   "outputs": [],
   "source": [
    "blocksize = int(SR * 5)\n",
    "overlap = SR"
   ]
  },
  {
   "cell_type": "code",
   "execution_count": 35,
   "metadata": {},
   "outputs": [
    {
     "name": "stdout",
     "output_type": "stream",
     "text": [
      "Preprocess file not found, building new one\n",
      "Epoch 1/1\n",
      "2/2 [==============================] - 0s 135ms/step - loss: 1.3342\n",
      "\tBytes: 227432\n",
      "\tProcessing Time: 4246.515344619751\n"
     ]
    }
   ],
   "source": [
    "s_time = time.time()\n",
    "df = fs_ps.preprocess_fold(dataset, \n",
    "                        kind='mfcc', \n",
    "                        blocksize=blocksize, \n",
    "                        overlap=overlap,\n",
    "                        feature_bag=False\n",
    "                       )\n",
    "fsd_time.append(time.time() - s_time)"
   ]
  },
  {
   "cell_type": "code",
   "execution_count": 36,
   "metadata": {},
   "outputs": [
    {
     "name": "stdout",
     "output_type": "stream",
     "text": [
      "[3101.0383672714233, 2896.6341235637665, 2864.4371662139893, 3187.2873525619507, 4248.510003566742]\n"
     ]
    }
   ],
   "source": [
    "print(fsd_time)"
   ]
  },
  {
   "cell_type": "code",
   "execution_count": 49,
   "metadata": {},
   "outputs": [
    {
     "data": {
      "text/plain": [
       "9473"
      ]
     },
     "execution_count": 49,
     "metadata": {},
     "output_type": "execute_result"
    }
   ],
   "source": [
    "len(df)"
   ]
  },
  {
   "cell_type": "markdown",
   "metadata": {},
   "source": [
    "## Time Analysis"
   ]
  },
  {
   "cell_type": "code",
   "execution_count": 50,
   "metadata": {},
   "outputs": [],
   "source": [
    "time_df = {\n",
    "    'Blocksize': list(),\n",
    "    'ESC-50': list(),\n",
    "    'FSD': list(),\n",
    "    'ESC-50-Per-File': list(),\n",
    "    'FSD-Per-File':list()\n",
    "}\n",
    "blocksizes = [0.25, 0.5, 1.0, 2.0, 5.0]\n",
    "for i in range(len(fsd_time)):\n",
    "    time_df['Blocksize'].append(blocksizes[i])\n",
    "    time_df['ESC-50'].append(esc_time[i])\n",
    "    time_df['FSD'].append(fsd_time[i])\n",
    "    time_df['ESC-50-Per-File'].append(esc_time[i]/2000)\n",
    "    time_df['FSD-Per-File'].append(fsd_time[i]/9473)\n",
    "time_df = pd.DataFrame(time_df)"
   ]
  },
  {
   "cell_type": "code",
   "execution_count": 61,
   "metadata": {},
   "outputs": [
    {
     "data": {
      "text/html": [
       "<div>\n",
       "<style scoped>\n",
       "    .dataframe tbody tr th:only-of-type {\n",
       "        vertical-align: middle;\n",
       "    }\n",
       "\n",
       "    .dataframe tbody tr th {\n",
       "        vertical-align: top;\n",
       "    }\n",
       "\n",
       "    .dataframe thead th {\n",
       "        text-align: right;\n",
       "    }\n",
       "</style>\n",
       "<table border=\"1\" class=\"dataframe\">\n",
       "  <thead>\n",
       "    <tr style=\"text-align: right;\">\n",
       "      <th></th>\n",
       "      <th>Blocksize</th>\n",
       "      <th>ESC-50</th>\n",
       "      <th>ESC-50-Per-File</th>\n",
       "      <th>FSD</th>\n",
       "      <th>FSD-Per-File</th>\n",
       "    </tr>\n",
       "  </thead>\n",
       "  <tbody>\n",
       "    <tr>\n",
       "      <th>0</th>\n",
       "      <td>0.25</td>\n",
       "      <td>491.794085</td>\n",
       "      <td>0.245897</td>\n",
       "      <td>3101.038367</td>\n",
       "      <td>0.327355</td>\n",
       "    </tr>\n",
       "    <tr>\n",
       "      <th>1</th>\n",
       "      <td>0.50</td>\n",
       "      <td>451.033582</td>\n",
       "      <td>0.225517</td>\n",
       "      <td>2896.634124</td>\n",
       "      <td>0.305778</td>\n",
       "    </tr>\n",
       "    <tr>\n",
       "      <th>2</th>\n",
       "      <td>1.00</td>\n",
       "      <td>424.348981</td>\n",
       "      <td>0.212174</td>\n",
       "      <td>2864.437166</td>\n",
       "      <td>0.302379</td>\n",
       "    </tr>\n",
       "    <tr>\n",
       "      <th>3</th>\n",
       "      <td>2.00</td>\n",
       "      <td>435.500219</td>\n",
       "      <td>0.217750</td>\n",
       "      <td>3187.287353</td>\n",
       "      <td>0.336460</td>\n",
       "    </tr>\n",
       "    <tr>\n",
       "      <th>4</th>\n",
       "      <td>5.00</td>\n",
       "      <td>485.690900</td>\n",
       "      <td>0.242845</td>\n",
       "      <td>4248.510004</td>\n",
       "      <td>0.448486</td>\n",
       "    </tr>\n",
       "  </tbody>\n",
       "</table>\n",
       "</div>"
      ],
      "text/plain": [
       "   Blocksize      ESC-50  ESC-50-Per-File          FSD  FSD-Per-File\n",
       "0       0.25  491.794085         0.245897  3101.038367      0.327355\n",
       "1       0.50  451.033582         0.225517  2896.634124      0.305778\n",
       "2       1.00  424.348981         0.212174  2864.437166      0.302379\n",
       "3       2.00  435.500219         0.217750  3187.287353      0.336460\n",
       "4       5.00  485.690900         0.242845  4248.510004      0.448486"
      ]
     },
     "execution_count": 61,
     "metadata": {},
     "output_type": "execute_result"
    }
   ],
   "source": [
    "time_df"
   ]
  },
  {
   "cell_type": "code",
   "execution_count": 64,
   "metadata": {},
   "outputs": [
    {
     "data": {
      "text/plain": [
       "Text(0, 0.5, 'Time (ms)')"
      ]
     },
     "execution_count": 64,
     "metadata": {},
     "output_type": "execute_result"
    },
    {
     "data": {
      "image/png": "[encoded data removed]",
      "text/plain": [
       "<Figure size 720x216 with 1 Axes>"
      ]
     },
     "metadata": {
      "needs_background": "light"
     },
     "output_type": "display_data"
    }
   ],
   "source": [
    "ax = time_df.plot(x='Blocksize', \n",
    "                  y=['ESC-50-Per-File', 'FSD-Per-File'], \n",
    "                  xticks=[0.25, 0.5, 1.0, 2.0, 5.0],\n",
    "                  figsize=(10,3)\n",
    "                 )\n",
    "ax.set_ylabel('Time (ms)')"
   ]
  },
  {
   "cell_type": "markdown",
   "metadata": {},
   "source": [
    "# Single File Load"
   ]
  },
  {
   "cell_type": "code",
   "execution_count": 37,
   "metadata": {},
   "outputs": [],
   "source": [
    "blocksize = int(SR/4)\n",
    "overlap = int(SR/8)"
   ]
  },
  {
   "cell_type": "code",
   "execution_count": 38,
   "metadata": {},
   "outputs": [
    {
     "name": "stdout",
     "output_type": "stream",
     "text": [
      "Epoch 1/1\n",
      "2/2 [==============================] - 0s 175ms/step - loss: 1.3364\n"
     ]
    }
   ],
   "source": [
    "s_time = time.time()\n",
    "ps.preprocess_file('3-150979-C-40.wav',\n",
    "                   kind='mfcc',\n",
    "                   blocksize=blocksize,\n",
    "                   overlap=overlap,\n",
    "                   bag_of_features=False\n",
    "                  )\n",
    "f_time = time.time() - s_time"
   ]
  },
  {
   "cell_type": "code",
   "execution_count": null,
   "metadata": {},
   "outputs": [],
   "source": []
  }
 ],
 "metadata": {
  "kernelspec": {
   "display_name": "Python 3",
   "language": "python",
   "name": "python3"
  },
  "language_info": {
   "codemirror_mode": {
    "name": "ipython",
    "version": 3
   },
   "file_extension": ".py",
   "mimetype": "text/x-python",
   "name": "python",
   "nbconvert_exporter": "python",
   "pygments_lexer": "ipython3",
   "version": "3.5.2"
  }
 },
 "nbformat": 4,
 "nbformat_minor": 2
}
