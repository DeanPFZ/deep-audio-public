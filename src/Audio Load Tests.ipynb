{
 "cells": [
  {
   "cell_type": "code",
   "execution_count": 1,
   "metadata": {},
   "outputs": [
    {
     "name": "stderr",
     "output_type": "stream",
     "text": [
      "Using TensorFlow backend.\n"
     ]
    },
    {
     "name": "stdout",
     "output_type": "stream",
     "text": [
      "WARNING:tensorflow:From /usr/local/lib/python3.5/dist-packages/magenta/models/nsynth/wavenet/masked.py:115: UniformUnitScaling.__init__ (from tensorflow.python.ops.init_ops) is deprecated and will be removed in a future version.\n",
      "Instructions for updating:\n",
      "Use tf.initializers.variance_scaling instead with distribution=uniform to get equivalent behavior.\n"
     ]
    }
   ],
   "source": [
    "from preprocess import Audio_Processor\n",
    "import os\n",
    "import warnings\n",
    "import pandas as pd"
   ]
  },
  {
   "cell_type": "code",
   "execution_count": 2,
   "metadata": {},
   "outputs": [],
   "source": [
    "# Able to specify which GPU to use\n",
    "os.environ[\"CUDA_VISIBLE_DEVICES\"]=\"1\"\n",
    "warnings.filterwarnings('ignore')\n",
    "SR = 16000"
   ]
  },
  {
   "cell_type": "code",
   "execution_count": 3,
   "metadata": {},
   "outputs": [],
   "source": [
    "path_to_db='../ESC-50/'\n",
    "ps = Audio_Processor(path_to_db + 'audio/', sr=SR)\n",
    "dataset = pd.read_csv(path_to_db + 'meta/esc50.csv')\n",
    "classes = [None] * 50"
   ]
  },
  {
   "cell_type": "code",
   "execution_count": 4,
   "metadata": {},
   "outputs": [],
   "source": [
    "h_classes = ['Human & Animal', 'Interacting Materials']\n",
    "mapping = {\n",
    "    'dog': 0,\n",
    "    'rooster': 0,\n",
    "    'pig': 0,\n",
    "    'cow': 0,\n",
    "    'frog': 0,\n",
    "    'cat': 0,\n",
    "    'hen': 0,\n",
    "    'insects': 0,\n",
    "    'sheep': 0,\n",
    "    'crow': 0,\n",
    "    'rain': 1,\n",
    "    'sea_waves': 1,\n",
    "    'crackling_fire': 1,\n",
    "    'crickets': 0,\n",
    "    'chirping_birds': 0,\n",
    "    'water_drops': 1,\n",
    "    'wind': 1,\n",
    "    'pouring_water': 1,\n",
    "    'toilet_flush': 1,\n",
    "    'thunderstorm': 1,\n",
    "    'crying_baby': 0,\n",
    "    'sneezing': 0,\n",
    "    'clapping': 1,\n",
    "    'breathing': 0,\n",
    "    'coughing': 0,\n",
    "    'footsteps': 1,\n",
    "    'laughing': 0,\n",
    "    'brushing_teeth': 1,\n",
    "    'snoring': 0,\n",
    "    'drinking_sipping': 1,\n",
    "    'door_wood_knock': 1,\n",
    "    'mouse_click': 1,\n",
    "    'keyboard_typing': 1,\n",
    "    'door_wood_creaks': 1,\n",
    "    'can_opening': 1,\n",
    "    'washing_machine': 1,\n",
    "    'vacuum_cleaner': 1,\n",
    "    'clock_alarm': 1,\n",
    "    'clock_tick': 1,\n",
    "    'glass_breaking':1,\n",
    "    'helicopter': 1,\n",
    "    'chainsaw': 1,\n",
    "    'siren': 1,\n",
    "    'car_horn': 1,\n",
    "    'engine': 1,\n",
    "    'train': 1,\n",
    "    'church_bells': 1,\n",
    "    'airplane': 1,\n",
    "    'fireworks': 1,\n",
    "    'hand_saw': 1,\n",
    "}"
   ]
  },
  {
   "cell_type": "code",
   "execution_count": 5,
   "metadata": {},
   "outputs": [],
   "source": [
    "dataset['h_target'] = None\n",
    "for index, row in dataset.iterrows():\n",
    "    target = row['target']\n",
    "    classes[target] = row['category']\n",
    "    dataset.loc[index, 'h_target'] = mapping[row['category']]"
   ]
  },
  {
   "cell_type": "markdown",
   "metadata": {},
   "source": [
    "# Audio Processing"
   ]
  },
  {
   "cell_type": "markdown",
   "metadata": {},
   "source": [
    "## Quarter-Second Blocksize"
   ]
  },
  {
   "cell_type": "code",
   "execution_count": 6,
   "metadata": {},
   "outputs": [],
   "source": [
    "blocksize = int(SR/4)\n",
    "overlap = int(SR/8)"
   ]
  },
  {
   "cell_type": "code",
   "execution_count": 7,
   "metadata": {},
   "outputs": [
    {
     "name": "stdout",
     "output_type": "stream",
     "text": [
      "Preprocess file not found, building new one\n",
      "Epoch 1/1\n",
      "2/2 [==============================] - 0s 75ms/step - loss: 1.3426\n",
      "\tBytes: 80080\n",
      "\tProcessing Time: 505.44152450561523\n"
     ]
    }
   ],
   "source": [
    "df = ps.preprocess_fold(dataset, \n",
    "                        kind='mfcc', \n",
    "                        fld=None,\n",
    "                        blocksize=blocksize, \n",
    "                        overlap=overlap,\n",
    "                        feature_bag=False\n",
    "                       )"
   ]
  },
  {
   "cell_type": "code",
   "execution_count": 8,
   "metadata": {},
   "outputs": [
    {
     "data": {
      "text/html": [
       "<div>\n",
       "<style scoped>\n",
       "    .dataframe tbody tr th:only-of-type {\n",
       "        vertical-align: middle;\n",
       "    }\n",
       "\n",
       "    .dataframe tbody tr th {\n",
       "        vertical-align: top;\n",
       "    }\n",
       "\n",
       "    .dataframe thead th {\n",
       "        text-align: right;\n",
       "    }\n",
       "</style>\n",
       "<table border=\"1\" class=\"dataframe\">\n",
       "  <thead>\n",
       "    <tr style=\"text-align: right;\">\n",
       "      <th></th>\n",
       "      <th>fold</th>\n",
       "      <th>target</th>\n",
       "      <th>category</th>\n",
       "      <th>h_target</th>\n",
       "      <th>metadata</th>\n",
       "    </tr>\n",
       "  </thead>\n",
       "  <tbody>\n",
       "    <tr>\n",
       "      <th>0</th>\n",
       "      <td>1</td>\n",
       "      <td>0</td>\n",
       "      <td>dog</td>\n",
       "      <td>0</td>\n",
       "      <td>mfcc_2_std  mfcc_2_mean  mfcc_2_noise  mfcc...</td>\n",
       "    </tr>\n",
       "    <tr>\n",
       "      <th>1</th>\n",
       "      <td>1</td>\n",
       "      <td>14</td>\n",
       "      <td>chirping_birds</td>\n",
       "      <td>0</td>\n",
       "      <td>mfcc_2_std  mfcc_2_mean  mfcc_2_noise  mfc...</td>\n",
       "    </tr>\n",
       "    <tr>\n",
       "      <th>2</th>\n",
       "      <td>1</td>\n",
       "      <td>36</td>\n",
       "      <td>vacuum_cleaner</td>\n",
       "      <td>1</td>\n",
       "      <td>mfcc_2_std  mfcc_2_mean  mfcc_2_noise  mfc...</td>\n",
       "    </tr>\n",
       "    <tr>\n",
       "      <th>3</th>\n",
       "      <td>1</td>\n",
       "      <td>36</td>\n",
       "      <td>vacuum_cleaner</td>\n",
       "      <td>1</td>\n",
       "      <td>mfcc_2_std  mfcc_2_mean  mfcc_2_noise  mfc...</td>\n",
       "    </tr>\n",
       "    <tr>\n",
       "      <th>4</th>\n",
       "      <td>1</td>\n",
       "      <td>19</td>\n",
       "      <td>thunderstorm</td>\n",
       "      <td>1</td>\n",
       "      <td>mfcc_2_std  mfcc_2_mean  mfcc_2_noise  mfc...</td>\n",
       "    </tr>\n",
       "  </tbody>\n",
       "</table>\n",
       "</div>"
      ],
      "text/plain": [
       "   fold  target        category  h_target  \\\n",
       "0     1       0             dog         0   \n",
       "1     1      14  chirping_birds         0   \n",
       "2     1      36  vacuum_cleaner         1   \n",
       "3     1      36  vacuum_cleaner         1   \n",
       "4     1      19    thunderstorm         1   \n",
       "\n",
       "                                            metadata  \n",
       "0     mfcc_2_std  mfcc_2_mean  mfcc_2_noise  mfcc...  \n",
       "1      mfcc_2_std  mfcc_2_mean  mfcc_2_noise  mfc...  \n",
       "2      mfcc_2_std  mfcc_2_mean  mfcc_2_noise  mfc...  \n",
       "3      mfcc_2_std  mfcc_2_mean  mfcc_2_noise  mfc...  \n",
       "4      mfcc_2_std  mfcc_2_mean  mfcc_2_noise  mfc...  "
      ]
     },
     "execution_count": 8,
     "metadata": {},
     "output_type": "execute_result"
    }
   ],
   "source": [
    "df.head()"
   ]
  },
  {
   "cell_type": "markdown",
   "metadata": {},
   "source": [
    "# Half-Second Blocksize"
   ]
  },
  {
   "cell_type": "code",
   "execution_count": 9,
   "metadata": {},
   "outputs": [],
   "source": [
    "blocksize = int(SR/2)\n",
    "overlap = int(SR/4)"
   ]
  },
  {
   "cell_type": "code",
   "execution_count": 10,
   "metadata": {},
   "outputs": [
    {
     "name": "stdout",
     "output_type": "stream",
     "text": [
      "Preprocess file not found, building new one\n",
      "Epoch 1/1\n",
      "2/2 [==============================] - 0s 59ms/step - loss: 1.3313\n",
      "\tBytes: 80080\n",
      "\tProcessing Time: 457.25368642807007\n"
     ]
    }
   ],
   "source": [
    "df = ps.preprocess_fold(dataset, \n",
    "                        kind='mfcc', \n",
    "                        fld=None,\n",
    "                        blocksize=blocksize, \n",
    "                        overlap=overlap,\n",
    "                        feature_bag=False\n",
    "                       )"
   ]
  },
  {
   "cell_type": "code",
   "execution_count": 11,
   "metadata": {},
   "outputs": [
    {
     "data": {
      "text/html": [
       "<div>\n",
       "<style scoped>\n",
       "    .dataframe tbody tr th:only-of-type {\n",
       "        vertical-align: middle;\n",
       "    }\n",
       "\n",
       "    .dataframe tbody tr th {\n",
       "        vertical-align: top;\n",
       "    }\n",
       "\n",
       "    .dataframe thead th {\n",
       "        text-align: right;\n",
       "    }\n",
       "</style>\n",
       "<table border=\"1\" class=\"dataframe\">\n",
       "  <thead>\n",
       "    <tr style=\"text-align: right;\">\n",
       "      <th></th>\n",
       "      <th>fold</th>\n",
       "      <th>target</th>\n",
       "      <th>category</th>\n",
       "      <th>h_target</th>\n",
       "      <th>metadata</th>\n",
       "    </tr>\n",
       "  </thead>\n",
       "  <tbody>\n",
       "    <tr>\n",
       "      <th>0</th>\n",
       "      <td>1</td>\n",
       "      <td>0</td>\n",
       "      <td>dog</td>\n",
       "      <td>0</td>\n",
       "      <td>mfcc_2_std  mfcc_2_mean  mfcc_2_noise  mfcc...</td>\n",
       "    </tr>\n",
       "    <tr>\n",
       "      <th>1</th>\n",
       "      <td>1</td>\n",
       "      <td>14</td>\n",
       "      <td>chirping_birds</td>\n",
       "      <td>0</td>\n",
       "      <td>mfcc_2_std  mfcc_2_mean  mfcc_2_noise  mfc...</td>\n",
       "    </tr>\n",
       "    <tr>\n",
       "      <th>2</th>\n",
       "      <td>1</td>\n",
       "      <td>36</td>\n",
       "      <td>vacuum_cleaner</td>\n",
       "      <td>1</td>\n",
       "      <td>mfcc_2_std  mfcc_2_mean  mfcc_2_noise  mfc...</td>\n",
       "    </tr>\n",
       "    <tr>\n",
       "      <th>3</th>\n",
       "      <td>1</td>\n",
       "      <td>36</td>\n",
       "      <td>vacuum_cleaner</td>\n",
       "      <td>1</td>\n",
       "      <td>mfcc_2_std  mfcc_2_mean  mfcc_2_noise  mfc...</td>\n",
       "    </tr>\n",
       "    <tr>\n",
       "      <th>4</th>\n",
       "      <td>1</td>\n",
       "      <td>19</td>\n",
       "      <td>thunderstorm</td>\n",
       "      <td>1</td>\n",
       "      <td>mfcc_2_std  mfcc_2_mean  mfcc_2_noise  mfc...</td>\n",
       "    </tr>\n",
       "  </tbody>\n",
       "</table>\n",
       "</div>"
      ],
      "text/plain": [
       "   fold  target        category  h_target  \\\n",
       "0     1       0             dog         0   \n",
       "1     1      14  chirping_birds         0   \n",
       "2     1      36  vacuum_cleaner         1   \n",
       "3     1      36  vacuum_cleaner         1   \n",
       "4     1      19    thunderstorm         1   \n",
       "\n",
       "                                            metadata  \n",
       "0     mfcc_2_std  mfcc_2_mean  mfcc_2_noise  mfcc...  \n",
       "1      mfcc_2_std  mfcc_2_mean  mfcc_2_noise  mfc...  \n",
       "2      mfcc_2_std  mfcc_2_mean  mfcc_2_noise  mfc...  \n",
       "3      mfcc_2_std  mfcc_2_mean  mfcc_2_noise  mfc...  \n",
       "4      mfcc_2_std  mfcc_2_mean  mfcc_2_noise  mfc...  "
      ]
     },
     "execution_count": 11,
     "metadata": {},
     "output_type": "execute_result"
    }
   ],
   "source": [
    "df.head()"
   ]
  },
  {
   "cell_type": "markdown",
   "metadata": {},
   "source": [
    "# 1 Second Blocksize"
   ]
  },
  {
   "cell_type": "code",
   "execution_count": 12,
   "metadata": {},
   "outputs": [],
   "source": [
    "blocksize = int(SR)\n",
    "overlap = int(SR/2)"
   ]
  },
  {
   "cell_type": "code",
   "execution_count": 13,
   "metadata": {},
   "outputs": [
    {
     "name": "stdout",
     "output_type": "stream",
     "text": [
      "Preprocess file not found, building new one\n",
      "Epoch 1/1\n",
      "2/2 [==============================] - 0s 61ms/step - loss: 1.3388\n",
      "\tBytes: 80080\n",
      "\tProcessing Time: 439.40341544151306\n"
     ]
    }
   ],
   "source": [
    "df = ps.preprocess_fold(dataset, \n",
    "                        kind='mfcc', \n",
    "                        fld=None,\n",
    "                        blocksize=blocksize, \n",
    "                        overlap=overlap,\n",
    "                        feature_bag=False\n",
    "                       )"
   ]
  },
  {
   "cell_type": "code",
   "execution_count": 14,
   "metadata": {},
   "outputs": [
    {
     "data": {
      "text/html": [
       "<div>\n",
       "<style scoped>\n",
       "    .dataframe tbody tr th:only-of-type {\n",
       "        vertical-align: middle;\n",
       "    }\n",
       "\n",
       "    .dataframe tbody tr th {\n",
       "        vertical-align: top;\n",
       "    }\n",
       "\n",
       "    .dataframe thead th {\n",
       "        text-align: right;\n",
       "    }\n",
       "</style>\n",
       "<table border=\"1\" class=\"dataframe\">\n",
       "  <thead>\n",
       "    <tr style=\"text-align: right;\">\n",
       "      <th></th>\n",
       "      <th>fold</th>\n",
       "      <th>target</th>\n",
       "      <th>category</th>\n",
       "      <th>h_target</th>\n",
       "      <th>metadata</th>\n",
       "    </tr>\n",
       "  </thead>\n",
       "  <tbody>\n",
       "    <tr>\n",
       "      <th>0</th>\n",
       "      <td>1</td>\n",
       "      <td>0</td>\n",
       "      <td>dog</td>\n",
       "      <td>0</td>\n",
       "      <td>mfcc_2_std  mfcc_2_mean  mfcc_2_noise  mfcc...</td>\n",
       "    </tr>\n",
       "    <tr>\n",
       "      <th>1</th>\n",
       "      <td>1</td>\n",
       "      <td>14</td>\n",
       "      <td>chirping_birds</td>\n",
       "      <td>0</td>\n",
       "      <td>mfcc_2_std  mfcc_2_mean  mfcc_2_noise  mfcc...</td>\n",
       "    </tr>\n",
       "    <tr>\n",
       "      <th>2</th>\n",
       "      <td>1</td>\n",
       "      <td>36</td>\n",
       "      <td>vacuum_cleaner</td>\n",
       "      <td>1</td>\n",
       "      <td>mfcc_2_std  mfcc_2_mean  mfcc_2_noise  mfcc...</td>\n",
       "    </tr>\n",
       "    <tr>\n",
       "      <th>3</th>\n",
       "      <td>1</td>\n",
       "      <td>36</td>\n",
       "      <td>vacuum_cleaner</td>\n",
       "      <td>1</td>\n",
       "      <td>mfcc_2_std  mfcc_2_mean  mfcc_2_noise  mfcc...</td>\n",
       "    </tr>\n",
       "    <tr>\n",
       "      <th>4</th>\n",
       "      <td>1</td>\n",
       "      <td>19</td>\n",
       "      <td>thunderstorm</td>\n",
       "      <td>1</td>\n",
       "      <td>mfcc_2_std  mfcc_2_mean  mfcc_2_noise  mfcc...</td>\n",
       "    </tr>\n",
       "  </tbody>\n",
       "</table>\n",
       "</div>"
      ],
      "text/plain": [
       "   fold  target        category  h_target  \\\n",
       "0     1       0             dog         0   \n",
       "1     1      14  chirping_birds         0   \n",
       "2     1      36  vacuum_cleaner         1   \n",
       "3     1      36  vacuum_cleaner         1   \n",
       "4     1      19    thunderstorm         1   \n",
       "\n",
       "                                            metadata  \n",
       "0     mfcc_2_std  mfcc_2_mean  mfcc_2_noise  mfcc...  \n",
       "1     mfcc_2_std  mfcc_2_mean  mfcc_2_noise  mfcc...  \n",
       "2     mfcc_2_std  mfcc_2_mean  mfcc_2_noise  mfcc...  \n",
       "3     mfcc_2_std  mfcc_2_mean  mfcc_2_noise  mfcc...  \n",
       "4     mfcc_2_std  mfcc_2_mean  mfcc_2_noise  mfcc...  "
      ]
     },
     "execution_count": 14,
     "metadata": {},
     "output_type": "execute_result"
    }
   ],
   "source": [
    "df.head()"
   ]
  },
  {
   "cell_type": "markdown",
   "metadata": {},
   "source": [
    "# 2 Second Blocksize"
   ]
  },
  {
   "cell_type": "code",
   "execution_count": 15,
   "metadata": {},
   "outputs": [],
   "source": [
    "blocksize = int(SR * 2)\n",
    "overlap = int(SR)"
   ]
  },
  {
   "cell_type": "code",
   "execution_count": 16,
   "metadata": {},
   "outputs": [
    {
     "name": "stdout",
     "output_type": "stream",
     "text": [
      "Preprocess file not found, building new one\n",
      "Epoch 1/1\n",
      "2/2 [==============================] - 0s 73ms/step - loss: 1.3369\n",
      "\tBytes: 80080\n",
      "\tProcessing Time: 451.8034951686859\n"
     ]
    }
   ],
   "source": [
    "df = ps.preprocess_fold(dataset, \n",
    "                        kind='mfcc', \n",
    "                        fld=None,\n",
    "                        blocksize=blocksize, \n",
    "                        overlap=overlap,\n",
    "                        feature_bag=False\n",
    "                       )"
   ]
  },
  {
   "cell_type": "code",
   "execution_count": 17,
   "metadata": {},
   "outputs": [
    {
     "data": {
      "text/html": [
       "<div>\n",
       "<style scoped>\n",
       "    .dataframe tbody tr th:only-of-type {\n",
       "        vertical-align: middle;\n",
       "    }\n",
       "\n",
       "    .dataframe tbody tr th {\n",
       "        vertical-align: top;\n",
       "    }\n",
       "\n",
       "    .dataframe thead th {\n",
       "        text-align: right;\n",
       "    }\n",
       "</style>\n",
       "<table border=\"1\" class=\"dataframe\">\n",
       "  <thead>\n",
       "    <tr style=\"text-align: right;\">\n",
       "      <th></th>\n",
       "      <th>fold</th>\n",
       "      <th>target</th>\n",
       "      <th>category</th>\n",
       "      <th>h_target</th>\n",
       "      <th>metadata</th>\n",
       "    </tr>\n",
       "  </thead>\n",
       "  <tbody>\n",
       "    <tr>\n",
       "      <th>0</th>\n",
       "      <td>1</td>\n",
       "      <td>0</td>\n",
       "      <td>dog</td>\n",
       "      <td>0</td>\n",
       "      <td>mfcc_2_std  mfcc_2_mean  mfcc_2_noise  mfcc...</td>\n",
       "    </tr>\n",
       "    <tr>\n",
       "      <th>1</th>\n",
       "      <td>1</td>\n",
       "      <td>14</td>\n",
       "      <td>chirping_birds</td>\n",
       "      <td>0</td>\n",
       "      <td>mfcc_2_std  mfcc_2_mean  mfcc_2_noise  mfcc...</td>\n",
       "    </tr>\n",
       "    <tr>\n",
       "      <th>2</th>\n",
       "      <td>1</td>\n",
       "      <td>36</td>\n",
       "      <td>vacuum_cleaner</td>\n",
       "      <td>1</td>\n",
       "      <td>mfcc_2_std  mfcc_2_mean  mfcc_2_noise  mfcc...</td>\n",
       "    </tr>\n",
       "    <tr>\n",
       "      <th>3</th>\n",
       "      <td>1</td>\n",
       "      <td>36</td>\n",
       "      <td>vacuum_cleaner</td>\n",
       "      <td>1</td>\n",
       "      <td>mfcc_2_std  mfcc_2_mean  mfcc_2_noise  mfcc...</td>\n",
       "    </tr>\n",
       "    <tr>\n",
       "      <th>4</th>\n",
       "      <td>1</td>\n",
       "      <td>19</td>\n",
       "      <td>thunderstorm</td>\n",
       "      <td>1</td>\n",
       "      <td>mfcc_2_std  mfcc_2_mean  mfcc_2_noise  mfcc...</td>\n",
       "    </tr>\n",
       "  </tbody>\n",
       "</table>\n",
       "</div>"
      ],
      "text/plain": [
       "   fold  target        category  h_target  \\\n",
       "0     1       0             dog         0   \n",
       "1     1      14  chirping_birds         0   \n",
       "2     1      36  vacuum_cleaner         1   \n",
       "3     1      36  vacuum_cleaner         1   \n",
       "4     1      19    thunderstorm         1   \n",
       "\n",
       "                                            metadata  \n",
       "0     mfcc_2_std  mfcc_2_mean  mfcc_2_noise  mfcc...  \n",
       "1     mfcc_2_std  mfcc_2_mean  mfcc_2_noise  mfcc...  \n",
       "2     mfcc_2_std  mfcc_2_mean  mfcc_2_noise  mfcc...  \n",
       "3     mfcc_2_std  mfcc_2_mean  mfcc_2_noise  mfcc...  \n",
       "4     mfcc_2_std  mfcc_2_mean  mfcc_2_noise  mfcc...  "
      ]
     },
     "execution_count": 17,
     "metadata": {},
     "output_type": "execute_result"
    }
   ],
   "source": [
    "df.head()"
   ]
  },
  {
   "cell_type": "markdown",
   "metadata": {},
   "source": [
    "## 5 Second Blocksize"
   ]
  },
  {
   "cell_type": "code",
   "execution_count": 18,
   "metadata": {},
   "outputs": [],
   "source": [
    "blocksize = int(SR * 5)\n",
    "overlap = 0"
   ]
  },
  {
   "cell_type": "code",
   "execution_count": 19,
   "metadata": {},
   "outputs": [
    {
     "name": "stdout",
     "output_type": "stream",
     "text": [
      "Preprocess file not found, building new one\n",
      "Epoch 1/1\n",
      "2/2 [==============================] - 0s 79ms/step - loss: 1.3332\n",
      "\tBytes: 80080\n",
      "\tProcessing Time: 481.6130027770996\n"
     ]
    }
   ],
   "source": [
    "df = ps.preprocess_fold(dataset, \n",
    "                        kind='mfcc', \n",
    "                        fld=None,\n",
    "                        blocksize=blocksize, \n",
    "                        overlap=overlap,\n",
    "                        feature_bag=False\n",
    "                       )"
   ]
  },
  {
   "cell_type": "markdown",
   "metadata": {},
   "source": [
    "# Timing Analysis"
   ]
  },
  {
   "cell_type": "code",
   "execution_count": null,
   "metadata": {},
   "outputs": [],
   "source": []
  }
 ],
 "metadata": {
  "kernelspec": {
   "display_name": "Python 3",
   "language": "python",
   "name": "python3"
  },
  "language_info": {
   "codemirror_mode": {
    "name": "ipython",
    "version": 3
   },
   "file_extension": ".py",
   "mimetype": "text/x-python",
   "name": "python",
   "nbconvert_exporter": "python",
   "pygments_lexer": "ipython3",
   "version": "3.5.2"
  }
 },
 "nbformat": 4,
 "nbformat_minor": 2
}
