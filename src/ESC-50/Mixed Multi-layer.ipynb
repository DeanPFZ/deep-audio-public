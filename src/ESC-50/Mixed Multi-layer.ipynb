{
 "cells": [
  {
   "cell_type": "code",
   "execution_count": null,
   "metadata": {},
   "outputs": [],
   "source": [
    "import sys\n",
    "sys.path.insert(0, '../')\n",
    "\n",
    "import pandas as pd\n",
    "from preprocess import Audio_Processor\n",
    "from data_utils import balanced_supersample, balanced_subsample\n",
    "from sklearn import metrics\n",
    "from classification_plots import plot_confusion_matrix, plot_learning_curve\n",
    "import matplotlib.pyplot as plt\n",
    "import os\n",
    "import numpy as np\n",
    "from keras.wrappers.scikit_learn import KerasClassifier\n",
    "from sklearn.pipeline import Pipeline\n",
    "from sklearn.preprocessing import MinMaxScaler\n",
    "import time\n",
    "from collections import Counter"
   ]
  },
  {
   "cell_type": "code",
   "execution_count": null,
   "metadata": {},
   "outputs": [],
   "source": [
    "import warnings\n",
    "warnings.filterwarnings('ignore')"
   ]
  },
  {
   "cell_type": "code",
   "execution_count": null,
   "metadata": {},
   "outputs": [],
   "source": [
    "# Able to specify which GPU to use\n",
    "os.environ[\"CUDA_VISIBLE_DEVICES\"]=\"0\"\n",
    "\n",
    "SR = 16000\n",
    "blocksize = int(SR/2)\n",
    "overlap = int(SR/4)"
   ]
  },
  {
   "cell_type": "markdown",
   "metadata": {},
   "source": [
    "# Load Dataset\n",
    "Here we load the csv that describes each file in the dataset. We add a high level category that is defined in the ESC-50 documentation. This we realize is anthetical to true training, it is a stopgap for when we use NLP to classify tags into these categories."
   ]
  },
  {
   "cell_type": "code",
   "execution_count": null,
   "metadata": {},
   "outputs": [],
   "source": [
    "path_to_db='../../ESC-50/'\n",
    "ps = Audio_Processor(path_to_db + 'audio/', sr=SR)\n",
    "dataset = pd.read_csv(path_to_db + 'meta/esc50.csv')\n",
    "classes = [None] * 50\n",
    "h_classes = ['Human & Animal', 'Interacting Materials']\n",
    "mapping = {\n",
    "    'dog': 0,\n",
    "    'rooster': 0,\n",
    "    'pig': 0,\n",
    "    'cow': 0,\n",
    "    'frog': 0,\n",
    "    'cat': 0,\n",
    "    'hen': 0,\n",
    "    'insects': 0,\n",
    "    'sheep': 0,\n",
    "    'crow': 0,\n",
    "    'rain': 1,\n",
    "    'sea_waves': 1,\n",
    "    'crackling_fire': 1,\n",
    "    'crickets': 0,\n",
    "    'chirping_birds': 0,\n",
    "    'water_drops': 1,\n",
    "    'wind': 1,\n",
    "    'pouring_water': 1,\n",
    "    'toilet_flush': 1,\n",
    "    'thunderstorm': 1,\n",
    "    'crying_baby': 0,\n",
    "    'sneezing': 0,\n",
    "    'clapping': 1,\n",
    "    'breathing': 0,\n",
    "    'coughing': 0,\n",
    "    'footsteps': 1,\n",
    "    'laughing': 0,\n",
    "    'brushing_teeth': 1,\n",
    "    'snoring': 0,\n",
    "    'drinking_sipping': 1,\n",
    "    'door_wood_knock': 1,\n",
    "    'mouse_click': 1,\n",
    "    'keyboard_typing': 1,\n",
    "    'door_wood_creaks': 1,\n",
    "    'can_opening': 1,\n",
    "    'washing_machine': 1,\n",
    "    'vacuum_cleaner': 1,\n",
    "    'clock_alarm': 1,\n",
    "    'clock_tick': 1,\n",
    "    'glass_breaking':1,\n",
    "    'helicopter': 1,\n",
    "    'chainsaw': 1,\n",
    "    'siren': 1,\n",
    "    'car_horn': 1,\n",
    "    'engine': 1,\n",
    "    'train': 1,\n",
    "    'church_bells': 1,\n",
    "    'airplane': 1,\n",
    "    'fireworks': 1,\n",
    "    'hand_saw': 1,\n",
    "}\n",
    "dataset['h_target'] = None\n",
    "for index, row in dataset.iterrows():\n",
    "    target = row['target']\n",
    "    classes[target] = row['category']\n",
    "    dataset.loc[index, 'h_target'] = mapping[row['category']]"
   ]
  },
  {
   "cell_type": "code",
   "execution_count": null,
   "metadata": {},
   "outputs": [],
   "source": [
    "import time\n",
    "import librosa\n",
    "import numpy as np\n",
    "import soundfile as sf\n",
    "\n",
    "def load_audio_blockwise(data, blocksize=1024, overlap=512, debug=False):\n",
    "    start_time = time.time()\n",
    "    items = []\n",
    "    target = []\n",
    "    h_target = []\n",
    "    for i, sample in data.iterrows():\n",
    "        if debug:\n",
    "            print(\"File Processing\", end=\"\", flush=True)\n",
    "        blockgen = sf.blocks(audio_dir + sample['filename'], \n",
    "                             blocksize=blocksize, \n",
    "                             overlap=overlap, \n",
    "                             always_2d=True,\n",
    "                             fill_value=0.0)\n",
    "        sr = sf.info(audio_dir + sample['filename']).samplerate\n",
    "        for bl in blockgen:\n",
    "            if not np.any(bl):\n",
    "                continue\n",
    "            if debug:\n",
    "                print(\".\", end=\"\", flush=True)\n",
    "            y = bl.transpose()\n",
    "            y = librosa.resample(y, sr, SR)\n",
    "            y = y[:int(blocksize)]\n",
    "            y = y[np.newaxis, :]\n",
    "            items.append(y)\n",
    "            h_target.append(sample.h_category)\n",
    "            target.append(sample.target)\n",
    "        if debug:\n",
    "            print(\"Done\")\n",
    "    print(\"\\tProcessing Time: \" + str(time.time() - start_time))\n",
    "    return np.vstack(items), np.array(h_target), np.array(target)\n",
    "\n",
    "def load_file_blockwise(filename, blocksize=1024, overlap=512, debug=False):\n",
    "    items = []\n",
    "    if debug:\n",
    "        print(\"File Processing\", end=\"\", flush=True)\n",
    "    blockgen = sf.blocks(audio_dir + filename, \n",
    "                         blocksize=blocksize, \n",
    "                         overlap=overlap, \n",
    "                         always_2d=True,\n",
    "                         fill_value=0.0)\n",
    "    sr = sf.info(audio_dir + filename).samplerate\n",
    "    for bl in blockgen:\n",
    "        if not np.any(bl):\n",
    "            continue\n",
    "        if debug:\n",
    "            print(\".\", end=\"\", flush=True)\n",
    "        y = bl.transpose()\n",
    "        y = librosa.resample(y, sr, SR)\n",
    "        y = y[:int(blocksize)]\n",
    "        y = y[np.newaxis, :]\n",
    "        items.append(y)\n",
    "        \n",
    "    if debug:\n",
    "        print(\"Done\")\n",
    "\n",
    "    return items"
   ]
  },
  {
   "cell_type": "code",
   "execution_count": null,
   "metadata": {},
   "outputs": [],
   "source": [
    "train_X, train_y, train_yy = load_audio_blockwise(dataset[dataset.fold != 1], orig_blocksize, orig_overlap)\n",
    "print(train_X.shape)"
   ]
  },
  {
   "cell_type": "code",
   "execution_count": null,
   "metadata": {},
   "outputs": [],
   "source": [
    "test_X, test_y, test_yy = load_audio_blockwise(dataset[dataset.fold == 1], orig_blocksize, orig_overlap)\n",
    "print(test_X.shape)"
   ]
  },
  {
   "cell_type": "markdown",
   "metadata": {},
   "source": [
    "## High-Level Shallow Nets\n",
    "Train binary shallow nets for high level categories(animals, natural, human, domestic, urban)"
   ]
  },
  {
   "cell_type": "code",
   "execution_count": null,
   "metadata": {},
   "outputs": [],
   "source": [
    "from keras.models import Sequential\n",
    "from keras.layers import Dense, Dropout, Convolution2D, MaxPooling2D, Flatten, InputLayer\n",
    "import keras.metrics as kmet\n",
    "from kapre.time_frequency import Melspectrogram, Spectrogram\n",
    "from kapre.utils import Normalization2D\n",
    "from kapre.augmentation import AdditiveNoise\n",
    "\n",
    "ensemble_num = 10\n",
    "num_hidden_neurons = 10\n",
    "dropout = 0.25\n",
    "\n",
    "epochs = 50\n",
    "batch = 128\n",
    "\n",
    "def deep_net():\n",
    "    # Create Model\n",
    "    # Create Model\n",
    "    model = Sequential()\n",
    "    model.add(Melspectrogram(\n",
    "        sr=SR,\n",
    "        n_mels=128,\n",
    "        power_melgram=1.0,\n",
    "        input_shape=(1, blocksize),\n",
    "        trainable_fb=False,\n",
    "        fmin = 800,\n",
    "        fmax = 8000\n",
    "    ))\n",
    "    model.add(Convolution2D(32, 9, 9, name='conv1', activation='relu'))\n",
    "    model.add(MaxPooling2D((25, 17)))\n",
    "    model.add(Flatten())\n",
    "    model.add(Dense(32, activation='relu'))\n",
    "    model.add(Dense(32, activation='relu'))\n",
    "    model.add(Dropout(0.2))\n",
    "    model.add(Dense(32, activation='relu'))\n",
    "    model.add(Dense(32, activation='relu'))\n",
    "    model.add(Dropout(0.2))\n",
    "    model.add(Dense(1, kernel_initializer='normal', activation='sigmoid'))\n",
    "    \n",
    "    # Compile model\n",
    "    model.compile(loss='binary_crossentropy',\n",
    "                  optimizer='adam',\n",
    "                  metrics=['accuracy', kmet.mae])\n",
    "    \n",
    "    model.summary()\n",
    "\n",
    "    \n",
    "    return model"
   ]
  },
  {
   "cell_type": "code",
   "execution_count": null,
   "metadata": {},
   "outputs": [],
   "source": [
    "clf = Pipeline([\n",
    "    ('classify', KerasClassifier(build_fn=deep_net, \n",
    "                       epochs=epochs, \n",
    "                       batch_size=batch, \n",
    "                       validation_split=0.15)\n",
    "    )\n",
    "])\n",
    "\n",
    "clf.fit(train_X, train_y)"
   ]
  },
  {
   "cell_type": "markdown",
   "metadata": {},
   "source": [
    "# Low-Level Deep Net"
   ]
  },
  {
   "cell_type": "markdown",
   "metadata": {},
   "source": [
    "### Animal"
   ]
  },
  {
   "cell_type": "code",
   "execution_count": null,
   "metadata": {},
   "outputs": [],
   "source": [
    "def deep_net_a():\n",
    "    model = Sequential()\n",
    "    model.add(Dense(64, activation='relu', input_shape=(30,)))\n",
    "    model.add(Dense(32, activation='relu'))\n",
    "    model.add(Dense(32, activation='relu'))\n",
    "    model.add(Dropout(0.2))\n",
    "    model.add(Dense(32, activation='relu'))\n",
    "    model.add(Dense(32, activation='relu'))\n",
    "    model.add(Dropout(0.2))\n",
    "    model.add(Dense(18, kernel_initializer='normal', activation='sigmoid'))\n",
    "    \n",
    "    # Compile model\n",
    "    model.compile(loss='categorical_crossentropy',\n",
    "                  optimizer='adam',\n",
    "                  metrics=['accuracy'])\n",
    "    \n",
    "    model.summary()\n",
    "\n",
    "    \n",
    "    return model"
   ]
  },
  {
   "cell_type": "code",
   "execution_count": null,
   "metadata": {},
   "outputs": [],
   "source": [
    "clf_a = Pipeline([\n",
    "        ('scaler', MinMaxScaler()),\n",
    "        ('feat_sel', SelectKBest(k=80, score_func=chi2)),\n",
    "        ('feat_red', PCA(n_components=30)),\n",
    "        ('classify', KerasClassifier(build_fn=deep_net_a, \n",
    "                           epochs=50, \n",
    "                           batch_size=35, \n",
    "                           validation_split=0.05)\n",
    "        )\n",
    "])\n",
    "\n",
    "clf_a.fit(train_X[train_y == 0], train_yy[train_y == 0])"
   ]
  },
  {
   "cell_type": "markdown",
   "metadata": {},
   "source": [
    "### Interacting Material"
   ]
  },
  {
   "cell_type": "code",
   "execution_count": null,
   "metadata": {},
   "outputs": [],
   "source": [
    "def deep_net_i():\n",
    "    model = Sequential()\n",
    "    model.add(Dense(64, activation='relu', input_shape=(30,)))\n",
    "    model.add(Dense(32, activation='relu'))\n",
    "    model.add(Dense(32, activation='relu'))\n",
    "    model.add(Dropout(0.2))\n",
    "    model.add(Dense(32, activation='relu'))\n",
    "    model.add(Dense(32, activation='relu'))\n",
    "    model.add(Dropout(0.2))\n",
    "    model.add(Dense(32, kernel_initializer='normal', activation='sigmoid'))\n",
    "    \n",
    "    # Compile model\n",
    "    model.compile(loss='categorical_crossentropy',\n",
    "                  optimizer='adam',\n",
    "                  metrics=['accuracy'])\n",
    "    \n",
    "    model.summary()\n",
    "\n",
    "    \n",
    "    return model"
   ]
  },
  {
   "cell_type": "code",
   "execution_count": null,
   "metadata": {},
   "outputs": [],
   "source": [
    "clf_i = Pipeline([\n",
    "        ('scaler', MinMaxScaler()),\n",
    "        ('feat_sel', SelectKBest(k=80, score_func=chi2)),\n",
    "        ('feat_red', PCA(n_components=30)),\n",
    "        ('classify', KerasClassifier(build_fn=deep_net_i, \n",
    "                                              epochs=50, \n",
    "                                              batch_size=35,\n",
    "                                              validation_split=0.15)\n",
    "        )\n",
    "])\n",
    "\n",
    "clf_i.fit(train_X[train_y == 1], train_yy[train_y == 1])"
   ]
  },
  {
   "cell_type": "markdown",
   "metadata": {},
   "source": [
    "### Scoring"
   ]
  },
  {
   "cell_type": "code",
   "execution_count": null,
   "metadata": {},
   "outputs": [],
   "source": [
    "names_a = []\n",
    "for name in test_yy[test_y == 0].unique():\n",
    "    names_a.append(classes[name])\n",
    "names_i = []\n",
    "for name in test_yy[test_y == 1].unique():\n",
    "    names_i.append(classes[name])\n",
    "print(names_a)\n",
    "print(names_i)"
   ]
  },
  {
   "cell_type": "code",
   "execution_count": null,
   "metadata": {
    "scrolled": true
   },
   "outputs": [],
   "source": [
    "pred = clf.predict(test_X)\n",
    "print(metrics.accuracy_score(test_y, pred))\n",
    "cm = metrics.confusion_matrix(test_y, pred)\n",
    "plt.figure(figsize=(10,10))\n",
    "plot_confusion_matrix(cm, h_classes)\n",
    "plt.show()"
   ]
  },
  {
   "cell_type": "code",
   "execution_count": null,
   "metadata": {},
   "outputs": [],
   "source": [
    "pred = clf_a.predict(test_X[test_y == 0])\n",
    "print(metrics.accuracy_score(test_yy[test_y == 0], pred))\n",
    "cm = metrics.confusion_matrix(test_yy[test_y == 0], pred)\n",
    "plt.figure(figsize=(10,10))\n",
    "plot_confusion_matrix(cm, names_a)\n",
    "plt.show()"
   ]
  },
  {
   "cell_type": "code",
   "execution_count": null,
   "metadata": {},
   "outputs": [],
   "source": [
    "pred = clf_i.predict(test_X[test_y == 1])\n",
    "print(metrics.accuracy_score(test_yy[test_y == 1], pred))\n",
    "cm = metrics.confusion_matrix(test_yy[test_y == 1], pred)\n",
    "plt.figure(figsize=(10,10))\n",
    "plot_confusion_matrix(cm, names_i)\n",
    "plt.show()"
   ]
  },
  {
   "cell_type": "markdown",
   "metadata": {},
   "source": [
    "## Full Evaluation\n",
    "We combine the classifiers to determine overall performance"
   ]
  },
  {
   "cell_type": "code",
   "execution_count": null,
   "metadata": {
    "scrolled": true
   },
   "outputs": [],
   "source": [
    "predictions = []\n",
    "full_targets = []\n",
    "start_time = time.time()\n",
    "top_pred_probs = []\n",
    "pred_probs = []\n",
    "\n",
    "for data_iloc in range(0,2000):\n",
    "    s_time = time.time()\n",
    "    x_file = ps.preprocess_file(dataset.iloc[data_iloc].filename,\n",
    "                                                 blocksize=blocksize,\n",
    "                                                 overlap=overlap)\n",
    "    y_file = dataset.iloc[data_iloc].h_target\n",
    "    yy_file = dataset.iloc[data_iloc].target\n",
    "    \n",
    "    pred = clf.predict(test_X, verbose=0)[:,0]\n",
    "    top_pred_probs.append(clf.predict_proba(x_file))\n",
    "    prob = np.average(top_pred_probs[-1], axis=0)\n",
    "    if prob[0] > 0.5:\n",
    "        pred = clf_a.predict(x_file, verbose=0)\n",
    "        b = Counter(pred)\n",
    "        predictions.append(b.most_common(1)[0][0])\n",
    "        pred_probs.append(clf_a.predict_proba(x_file))\n",
    "    else:\n",
    "        pred = clf_i.predict(x_file, verbose=0)\n",
    "        b = Counter(pred)\n",
    "        predictions.append(b.most_common(1)[0][0])\n",
    "        pred_probs.append(clf_i.predict_proba(x_file))\n",
    "    \n",
    "    full_targets.append(yy_file)\n",
    "    print(\"\\tFile Time: \" + str(time.time() - s_time))\n",
    "\n",
    "print(\"\\tProcessing Time: \" + str(time.time() - start_time))\n",
    "\n"
   ]
  },
  {
   "cell_type": "code",
   "execution_count": null,
   "metadata": {},
   "outputs": [],
   "source": [
    "targs = np.vstack(full_targets)"
   ]
  },
  {
   "cell_type": "code",
   "execution_count": null,
   "metadata": {},
   "outputs": [],
   "source": [
    "print(metrics.accuracy_score(full_targets, predictions))\n",
    "cm = metrics.confusion_matrix(full_targets, predictions)\n",
    "plt.figure(figsize=(20,20))\n",
    "plot_confusion_matrix(cm, classes)\n",
    "plt.show()"
   ]
  },
  {
   "cell_type": "code",
   "execution_count": null,
   "metadata": {},
   "outputs": [],
   "source": []
  }
 ],
 "metadata": {
  "kernelspec": {
   "display_name": "Python 3",
   "language": "python",
   "name": "python3"
  },
  "language_info": {
   "codemirror_mode": {
    "name": "ipython",
    "version": 3
   },
   "file_extension": ".py",
   "mimetype": "text/x-python",
   "name": "python",
   "nbconvert_exporter": "python",
   "pygments_lexer": "ipython3",
   "version": "3.5.2"
  }
 },
 "nbformat": 4,
 "nbformat_minor": 2
}
