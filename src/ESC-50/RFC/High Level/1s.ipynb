{
 "cells": [
  {
   "cell_type": "code",
   "execution_count": 1,
   "metadata": {},
   "outputs": [
    {
     "name": "stderr",
     "output_type": "stream",
     "text": [
      "Using TensorFlow backend.\n"
     ]
    },
    {
     "name": "stdout",
     "output_type": "stream",
     "text": [
      "WARNING:tensorflow:From /usr/local/lib/python3.5/dist-packages/magenta/models/nsynth/wavenet/masked.py:115: UniformUnitScaling.__init__ (from tensorflow.python.ops.init_ops) is deprecated and will be removed in a future version.\n",
      "Instructions for updating:\n",
      "Use tf.initializers.variance_scaling instead with distribution=uniform to get equivalent behavior.\n"
     ]
    },
    {
     "name": "stderr",
     "output_type": "stream",
     "text": [
      "/usr/lib/python3.5/importlib/_bootstrap.py:222: RuntimeWarning: numpy.dtype size changed, may indicate binary incompatibility. Expected 96, got 88\n",
      "  return f(*args, **kwds)\n",
      "/usr/lib/python3.5/importlib/_bootstrap.py:222: RuntimeWarning: numpy.dtype size changed, may indicate binary incompatibility. Expected 96, got 88\n",
      "  return f(*args, **kwds)\n",
      "/usr/lib/python3.5/importlib/_bootstrap.py:222: RuntimeWarning: numpy.dtype size changed, may indicate binary incompatibility. Expected 96, got 88\n",
      "  return f(*args, **kwds)\n",
      "/usr/lib/python3.5/importlib/_bootstrap.py:222: RuntimeWarning: numpy.dtype size changed, may indicate binary incompatibility. Expected 96, got 88\n",
      "  return f(*args, **kwds)\n",
      "/usr/lib/python3.5/importlib/_bootstrap.py:222: RuntimeWarning: numpy.dtype size changed, may indicate binary incompatibility. Expected 96, got 88\n",
      "  return f(*args, **kwds)\n"
     ]
    }
   ],
   "source": [
    "import sys\n",
    "sys.path.insert(0, '../../../')\n",
    "\n",
    "import pandas as pd\n",
    "from preprocess import Audio_Processor\n",
    "from data_utils import balanced_supersample, balanced_subsample\n",
    "from sklearn import metrics\n",
    "from classification_plots import plot_confusion_matrix, plot_learning_curve\n",
    "import matplotlib.pyplot as plt\n",
    "import os\n",
    "import numpy as np\n",
    "from data_utils import enumerate_strings\n",
    "from sklearn.ensemble import RandomForestClassifier\n",
    "from sklearn.pipeline import Pipeline"
   ]
  },
  {
   "cell_type": "code",
   "execution_count": 2,
   "metadata": {},
   "outputs": [],
   "source": [
    "# Able to specify which GPU to use\n",
    "os.environ[\"CUDA_VISIBLE_DEVICES\"]=\"1\"\n",
    "\n",
    "SR = 16000\n",
    "blocksize = int(SR)\n",
    "overlap = int(SR/2)"
   ]
  },
  {
   "cell_type": "code",
   "execution_count": 3,
   "metadata": {},
   "outputs": [],
   "source": [
    "import warnings\n",
    "warnings.filterwarnings('ignore')"
   ]
  },
  {
   "cell_type": "markdown",
   "metadata": {},
   "source": [
    "# Setup"
   ]
  },
  {
   "cell_type": "code",
   "execution_count": 4,
   "metadata": {},
   "outputs": [],
   "source": [
    "path_to_db='../../../../ESC-50/'\n",
    "ps = Audio_Processor(path_to_db + 'audio/', sr=SR)\n",
    "dataset = pd.read_csv(path_to_db + 'meta/esc50.csv')\n",
    "classes = [None] * 50\n",
    "h_classes = ['Human & Animal', 'Interacting Materials']\n",
    "mapping = {\n",
    "    'dog': 0,\n",
    "    'rooster': 0,\n",
    "    'pig': 0,\n",
    "    'cow': 0,\n",
    "    'frog': 0,\n",
    "    'cat': 0,\n",
    "    'hen': 0,\n",
    "    'insects': 0,\n",
    "    'sheep': 0,\n",
    "    'crow': 0,\n",
    "    'rain': 1,\n",
    "    'sea_waves': 1,\n",
    "    'crackling_fire': 1,\n",
    "    'crickets': 0,\n",
    "    'chirping_birds': 0,\n",
    "    'water_drops': 1,\n",
    "    'wind': 1,\n",
    "    'pouring_water': 1,\n",
    "    'toilet_flush': 1,\n",
    "    'thunderstorm': 1,\n",
    "    'crying_baby': 0,\n",
    "    'sneezing': 0,\n",
    "    'clapping': 1,\n",
    "    'breathing': 0,\n",
    "    'coughing': 0,\n",
    "    'footsteps': 1,\n",
    "    'laughing': 0,\n",
    "    'brushing_teeth': 1,\n",
    "    'snoring': 0,\n",
    "    'drinking_sipping': 1,\n",
    "    'door_wood_knock': 1,\n",
    "    'mouse_click': 1,\n",
    "    'keyboard_typing': 1,\n",
    "    'door_wood_creaks': 1,\n",
    "    'can_opening': 1,\n",
    "    'washing_machine': 1,\n",
    "    'vacuum_cleaner': 1,\n",
    "    'clock_alarm': 1,\n",
    "    'clock_tick': 1,\n",
    "    'glass_breaking':1,\n",
    "    'helicopter': 1,\n",
    "    'chainsaw': 1,\n",
    "    'siren': 1,\n",
    "    'car_horn': 1,\n",
    "    'engine': 1,\n",
    "    'train': 1,\n",
    "    'church_bells': 1,\n",
    "    'airplane': 1,\n",
    "    'fireworks': 1,\n",
    "    'hand_saw': 1,\n",
    "}\n",
    "dataset['h_target'] = None\n",
    "for index, row in dataset.iterrows():\n",
    "    target = row['target']\n",
    "    classes[target] = row['category']\n",
    "    dataset.loc[index, 'h_target'] = mapping[row['category']]"
   ]
  },
  {
   "cell_type": "markdown",
   "metadata": {},
   "source": [
    "## Getting Preprocessed Data\n",
    "We allow for previously preprocessed data to be retrieved for faster training turnaround. If the fold has been preprocessed, it is loaded but if not it is processed and saved."
   ]
  },
  {
   "cell_type": "code",
   "execution_count": 5,
   "metadata": {},
   "outputs": [],
   "source": [
    "df = ps.preprocess_fold(dataset, \n",
    "                        kind='mfcc', \n",
    "                        blocksize=blocksize, \n",
    "                        overlap=overlap,\n",
    "                        folds=10,\n",
    "                        random_state=42\n",
    "                       )"
   ]
  },
  {
   "cell_type": "code",
   "execution_count": 6,
   "metadata": {},
   "outputs": [
    {
     "data": {
      "text/html": [
       "<div>\n",
       "<style scoped>\n",
       "    .dataframe tbody tr th:only-of-type {\n",
       "        vertical-align: middle;\n",
       "    }\n",
       "\n",
       "    .dataframe tbody tr th {\n",
       "        vertical-align: top;\n",
       "    }\n",
       "\n",
       "    .dataframe thead th {\n",
       "        text-align: right;\n",
       "    }\n",
       "</style>\n",
       "<table border=\"1\" class=\"dataframe\">\n",
       "  <thead>\n",
       "    <tr style=\"text-align: right;\">\n",
       "      <th></th>\n",
       "      <th>mfcc_2_std</th>\n",
       "      <th>mfcc_2_mean</th>\n",
       "      <th>mfcc_2_noise</th>\n",
       "      <th>mfcc_3_std</th>\n",
       "      <th>mfcc_3_mean</th>\n",
       "      <th>mfcc_3_noise</th>\n",
       "      <th>mfcc_4_std</th>\n",
       "      <th>mfcc_4_mean</th>\n",
       "      <th>mfcc_4_noise</th>\n",
       "      <th>mfcc_5_std</th>\n",
       "      <th>...</th>\n",
       "      <th>sflat_noise</th>\n",
       "      <th>sroll_std</th>\n",
       "      <th>sroll_mean</th>\n",
       "      <th>sroll_noise</th>\n",
       "      <th>rmse_std</th>\n",
       "      <th>rmse_mean</th>\n",
       "      <th>rmse_noise</th>\n",
       "      <th>h_target</th>\n",
       "      <th>target</th>\n",
       "      <th>fold</th>\n",
       "    </tr>\n",
       "  </thead>\n",
       "  <tbody>\n",
       "    <tr>\n",
       "      <th>count</th>\n",
       "      <td>19427.000000</td>\n",
       "      <td>19427.000000</td>\n",
       "      <td>19427.000000</td>\n",
       "      <td>19427.000000</td>\n",
       "      <td>19427.000000</td>\n",
       "      <td>19427.000000</td>\n",
       "      <td>19427.000000</td>\n",
       "      <td>19427.000000</td>\n",
       "      <td>19427.000000</td>\n",
       "      <td>19427.000000</td>\n",
       "      <td>...</td>\n",
       "      <td>19427.000000</td>\n",
       "      <td>19427.000000</td>\n",
       "      <td>19427.000000</td>\n",
       "      <td>19427.000000</td>\n",
       "      <td>19427.000000</td>\n",
       "      <td>1.942700e+04</td>\n",
       "      <td>19427.000000</td>\n",
       "      <td>19427.000000</td>\n",
       "      <td>19427.000000</td>\n",
       "      <td>19427.000000</td>\n",
       "    </tr>\n",
       "    <tr>\n",
       "      <th>mean</th>\n",
       "      <td>65.298349</td>\n",
       "      <td>40.436487</td>\n",
       "      <td>32.685268</td>\n",
       "      <td>27.585829</td>\n",
       "      <td>24.377618</td>\n",
       "      <td>23.887475</td>\n",
       "      <td>23.391932</td>\n",
       "      <td>23.168676</td>\n",
       "      <td>22.842327</td>\n",
       "      <td>22.229750</td>\n",
       "      <td>...</td>\n",
       "      <td>-0.034276</td>\n",
       "      <td>-0.032712</td>\n",
       "      <td>18.811463</td>\n",
       "      <td>31.440679</td>\n",
       "      <td>7.034311</td>\n",
       "      <td>1.326578e+12</td>\n",
       "      <td>4.081588</td>\n",
       "      <td>0.665363</td>\n",
       "      <td>24.598291</td>\n",
       "      <td>5.428579</td>\n",
       "    </tr>\n",
       "    <tr>\n",
       "      <th>std</th>\n",
       "      <td>31.219519</td>\n",
       "      <td>18.579457</td>\n",
       "      <td>17.732584</td>\n",
       "      <td>15.832423</td>\n",
       "      <td>15.893643</td>\n",
       "      <td>16.263557</td>\n",
       "      <td>16.115932</td>\n",
       "      <td>16.647461</td>\n",
       "      <td>16.590921</td>\n",
       "      <td>16.327560</td>\n",
       "      <td>...</td>\n",
       "      <td>0.113828</td>\n",
       "      <td>0.110254</td>\n",
       "      <td>108.471522</td>\n",
       "      <td>79.455138</td>\n",
       "      <td>25.030786</td>\n",
       "      <td>8.268103e+13</td>\n",
       "      <td>3.836773</td>\n",
       "      <td>0.471876</td>\n",
       "      <td>13.921396</td>\n",
       "      <td>2.881739</td>\n",
       "    </tr>\n",
       "    <tr>\n",
       "      <th>min</th>\n",
       "      <td>0.000000</td>\n",
       "      <td>0.000000</td>\n",
       "      <td>0.000000</td>\n",
       "      <td>0.000000</td>\n",
       "      <td>0.000000</td>\n",
       "      <td>0.000000</td>\n",
       "      <td>0.000000</td>\n",
       "      <td>0.000000</td>\n",
       "      <td>0.000000</td>\n",
       "      <td>0.000000</td>\n",
       "      <td>...</td>\n",
       "      <td>-0.418270</td>\n",
       "      <td>-0.415391</td>\n",
       "      <td>4.150735</td>\n",
       "      <td>6.184211</td>\n",
       "      <td>1.347528</td>\n",
       "      <td>0.000000e+00</td>\n",
       "      <td>0.335453</td>\n",
       "      <td>0.000000</td>\n",
       "      <td>0.000000</td>\n",
       "      <td>1.000000</td>\n",
       "    </tr>\n",
       "    <tr>\n",
       "      <th>25%</th>\n",
       "      <td>43.627568</td>\n",
       "      <td>27.085531</td>\n",
       "      <td>18.738593</td>\n",
       "      <td>14.524782</td>\n",
       "      <td>11.251145</td>\n",
       "      <td>10.627452</td>\n",
       "      <td>10.049943</td>\n",
       "      <td>9.725130</td>\n",
       "      <td>9.418548</td>\n",
       "      <td>9.137258</td>\n",
       "      <td>...</td>\n",
       "      <td>-0.111430</td>\n",
       "      <td>-0.107262</td>\n",
       "      <td>10.391233</td>\n",
       "      <td>19.426816</td>\n",
       "      <td>3.922225</td>\n",
       "      <td>1.580208e+01</td>\n",
       "      <td>1.476140</td>\n",
       "      <td>0.000000</td>\n",
       "      <td>13.000000</td>\n",
       "      <td>3.000000</td>\n",
       "    </tr>\n",
       "    <tr>\n",
       "      <th>50%</th>\n",
       "      <td>64.173310</td>\n",
       "      <td>39.940883</td>\n",
       "      <td>29.992873</td>\n",
       "      <td>23.933852</td>\n",
       "      <td>18.244478</td>\n",
       "      <td>16.883805</td>\n",
       "      <td>16.691123</td>\n",
       "      <td>15.339185</td>\n",
       "      <td>15.361837</td>\n",
       "      <td>14.277989</td>\n",
       "      <td>...</td>\n",
       "      <td>-0.004638</td>\n",
       "      <td>-0.003789</td>\n",
       "      <td>13.962201</td>\n",
       "      <td>24.287437</td>\n",
       "      <td>5.303062</td>\n",
       "      <td>2.026997e+01</td>\n",
       "      <td>3.134325</td>\n",
       "      <td>1.000000</td>\n",
       "      <td>25.000000</td>\n",
       "      <td>5.000000</td>\n",
       "    </tr>\n",
       "    <tr>\n",
       "      <th>75%</th>\n",
       "      <td>86.517212</td>\n",
       "      <td>53.066751</td>\n",
       "      <td>45.198926</td>\n",
       "      <td>40.461388</td>\n",
       "      <td>38.199421</td>\n",
       "      <td>38.669056</td>\n",
       "      <td>38.053225</td>\n",
       "      <td>38.523796</td>\n",
       "      <td>37.860079</td>\n",
       "      <td>37.266375</td>\n",
       "      <td>...</td>\n",
       "      <td>0.027792</td>\n",
       "      <td>0.024682</td>\n",
       "      <td>19.604827</td>\n",
       "      <td>33.260214</td>\n",
       "      <td>7.211585</td>\n",
       "      <td>2.931583e+01</td>\n",
       "      <td>5.520893</td>\n",
       "      <td>1.000000</td>\n",
       "      <td>36.000000</td>\n",
       "      <td>8.000000</td>\n",
       "    </tr>\n",
       "    <tr>\n",
       "      <th>max</th>\n",
       "      <td>228.345516</td>\n",
       "      <td>143.621780</td>\n",
       "      <td>104.833736</td>\n",
       "      <td>89.106989</td>\n",
       "      <td>90.419429</td>\n",
       "      <td>83.288488</td>\n",
       "      <td>103.937561</td>\n",
       "      <td>111.314025</td>\n",
       "      <td>118.082160</td>\n",
       "      <td>112.276576</td>\n",
       "      <td>...</td>\n",
       "      <td>0.400497</td>\n",
       "      <td>0.395673</td>\n",
       "      <td>13157.194138</td>\n",
       "      <td>6531.065989</td>\n",
       "      <td>2388.736017</td>\n",
       "      <td>5.154285e+15</td>\n",
       "      <td>98.250911</td>\n",
       "      <td>1.000000</td>\n",
       "      <td>49.000000</td>\n",
       "      <td>10.000000</td>\n",
       "    </tr>\n",
       "  </tbody>\n",
       "</table>\n",
       "<p>8 rows × 132 columns</p>\n",
       "</div>"
      ],
      "text/plain": [
       "         mfcc_2_std   mfcc_2_mean  mfcc_2_noise    mfcc_3_std   mfcc_3_mean  \\\n",
       "count  19427.000000  19427.000000  19427.000000  19427.000000  19427.000000   \n",
       "mean      65.298349     40.436487     32.685268     27.585829     24.377618   \n",
       "std       31.219519     18.579457     17.732584     15.832423     15.893643   \n",
       "min        0.000000      0.000000      0.000000      0.000000      0.000000   \n",
       "25%       43.627568     27.085531     18.738593     14.524782     11.251145   \n",
       "50%       64.173310     39.940883     29.992873     23.933852     18.244478   \n",
       "75%       86.517212     53.066751     45.198926     40.461388     38.199421   \n",
       "max      228.345516    143.621780    104.833736     89.106989     90.419429   \n",
       "\n",
       "       mfcc_3_noise    mfcc_4_std   mfcc_4_mean  mfcc_4_noise    mfcc_5_std  \\\n",
       "count  19427.000000  19427.000000  19427.000000  19427.000000  19427.000000   \n",
       "mean      23.887475     23.391932     23.168676     22.842327     22.229750   \n",
       "std       16.263557     16.115932     16.647461     16.590921     16.327560   \n",
       "min        0.000000      0.000000      0.000000      0.000000      0.000000   \n",
       "25%       10.627452     10.049943      9.725130      9.418548      9.137258   \n",
       "50%       16.883805     16.691123     15.339185     15.361837     14.277989   \n",
       "75%       38.669056     38.053225     38.523796     37.860079     37.266375   \n",
       "max       83.288488    103.937561    111.314025    118.082160    112.276576   \n",
       "\n",
       "           ...        sflat_noise     sroll_std    sroll_mean   sroll_noise  \\\n",
       "count      ...       19427.000000  19427.000000  19427.000000  19427.000000   \n",
       "mean       ...          -0.034276     -0.032712     18.811463     31.440679   \n",
       "std        ...           0.113828      0.110254    108.471522     79.455138   \n",
       "min        ...          -0.418270     -0.415391      4.150735      6.184211   \n",
       "25%        ...          -0.111430     -0.107262     10.391233     19.426816   \n",
       "50%        ...          -0.004638     -0.003789     13.962201     24.287437   \n",
       "75%        ...           0.027792      0.024682     19.604827     33.260214   \n",
       "max        ...           0.400497      0.395673  13157.194138   6531.065989   \n",
       "\n",
       "           rmse_std     rmse_mean    rmse_noise      h_target        target  \\\n",
       "count  19427.000000  1.942700e+04  19427.000000  19427.000000  19427.000000   \n",
       "mean       7.034311  1.326578e+12      4.081588      0.665363     24.598291   \n",
       "std       25.030786  8.268103e+13      3.836773      0.471876     13.921396   \n",
       "min        1.347528  0.000000e+00      0.335453      0.000000      0.000000   \n",
       "25%        3.922225  1.580208e+01      1.476140      0.000000     13.000000   \n",
       "50%        5.303062  2.026997e+01      3.134325      1.000000     25.000000   \n",
       "75%        7.211585  2.931583e+01      5.520893      1.000000     36.000000   \n",
       "max     2388.736017  5.154285e+15     98.250911      1.000000     49.000000   \n",
       "\n",
       "               fold  \n",
       "count  19427.000000  \n",
       "mean       5.428579  \n",
       "std        2.881739  \n",
       "min        1.000000  \n",
       "25%        3.000000  \n",
       "50%        5.000000  \n",
       "75%        8.000000  \n",
       "max       10.000000  \n",
       "\n",
       "[8 rows x 132 columns]"
      ]
     },
     "execution_count": 6,
     "metadata": {},
     "output_type": "execute_result"
    }
   ],
   "source": [
    "df.describe()"
   ]
  },
  {
   "cell_type": "code",
   "execution_count": 7,
   "metadata": {},
   "outputs": [
    {
     "data": {
      "text/html": [
       "<div>\n",
       "<style scoped>\n",
       "    .dataframe tbody tr th:only-of-type {\n",
       "        vertical-align: middle;\n",
       "    }\n",
       "\n",
       "    .dataframe tbody tr th {\n",
       "        vertical-align: top;\n",
       "    }\n",
       "\n",
       "    .dataframe thead th {\n",
       "        text-align: right;\n",
       "    }\n",
       "</style>\n",
       "<table border=\"1\" class=\"dataframe\">\n",
       "  <thead>\n",
       "    <tr style=\"text-align: right;\">\n",
       "      <th></th>\n",
       "      <th>mfcc_2_std</th>\n",
       "      <th>mfcc_2_mean</th>\n",
       "      <th>mfcc_2_noise</th>\n",
       "      <th>mfcc_3_std</th>\n",
       "      <th>mfcc_3_mean</th>\n",
       "      <th>mfcc_3_noise</th>\n",
       "      <th>mfcc_4_std</th>\n",
       "      <th>mfcc_4_mean</th>\n",
       "      <th>mfcc_4_noise</th>\n",
       "      <th>mfcc_5_std</th>\n",
       "      <th>...</th>\n",
       "      <th>sflat_noise</th>\n",
       "      <th>sroll_std</th>\n",
       "      <th>sroll_mean</th>\n",
       "      <th>sroll_noise</th>\n",
       "      <th>rmse_std</th>\n",
       "      <th>rmse_mean</th>\n",
       "      <th>rmse_noise</th>\n",
       "      <th>h_target</th>\n",
       "      <th>target</th>\n",
       "      <th>fold</th>\n",
       "    </tr>\n",
       "  </thead>\n",
       "  <tbody>\n",
       "    <tr>\n",
       "      <th>0</th>\n",
       "      <td>40.966990</td>\n",
       "      <td>26.258012</td>\n",
       "      <td>12.927575</td>\n",
       "      <td>13.748385</td>\n",
       "      <td>8.883775</td>\n",
       "      <td>5.561329</td>\n",
       "      <td>4.560276</td>\n",
       "      <td>7.306209</td>\n",
       "      <td>6.977689</td>\n",
       "      <td>7.903446</td>\n",
       "      <td>...</td>\n",
       "      <td>-0.401249</td>\n",
       "      <td>-0.356166</td>\n",
       "      <td>29.119574</td>\n",
       "      <td>25.008716</td>\n",
       "      <td>7.213768</td>\n",
       "      <td>31.710370</td>\n",
       "      <td>1.593856</td>\n",
       "      <td>0</td>\n",
       "      <td>0</td>\n",
       "      <td>6</td>\n",
       "    </tr>\n",
       "    <tr>\n",
       "      <th>1</th>\n",
       "      <td>35.142872</td>\n",
       "      <td>54.836846</td>\n",
       "      <td>41.036570</td>\n",
       "      <td>42.811786</td>\n",
       "      <td>43.850519</td>\n",
       "      <td>40.949468</td>\n",
       "      <td>45.337044</td>\n",
       "      <td>37.936349</td>\n",
       "      <td>48.159645</td>\n",
       "      <td>59.096694</td>\n",
       "      <td>...</td>\n",
       "      <td>0.211831</td>\n",
       "      <td>-0.137081</td>\n",
       "      <td>20.006969</td>\n",
       "      <td>17.513890</td>\n",
       "      <td>4.452054</td>\n",
       "      <td>23.070639</td>\n",
       "      <td>7.171350</td>\n",
       "      <td>0</td>\n",
       "      <td>14</td>\n",
       "      <td>9</td>\n",
       "    </tr>\n",
       "    <tr>\n",
       "      <th>2</th>\n",
       "      <td>57.409907</td>\n",
       "      <td>91.576618</td>\n",
       "      <td>45.413608</td>\n",
       "      <td>39.332333</td>\n",
       "      <td>53.766183</td>\n",
       "      <td>56.218496</td>\n",
       "      <td>64.165764</td>\n",
       "      <td>57.936285</td>\n",
       "      <td>60.855951</td>\n",
       "      <td>46.329327</td>\n",
       "      <td>...</td>\n",
       "      <td>0.062619</td>\n",
       "      <td>0.133189</td>\n",
       "      <td>16.410565</td>\n",
       "      <td>18.699163</td>\n",
       "      <td>4.967657</td>\n",
       "      <td>24.814506</td>\n",
       "      <td>7.261237</td>\n",
       "      <td>0</td>\n",
       "      <td>14</td>\n",
       "      <td>9</td>\n",
       "    </tr>\n",
       "    <tr>\n",
       "      <th>3</th>\n",
       "      <td>70.969104</td>\n",
       "      <td>72.930842</td>\n",
       "      <td>39.179481</td>\n",
       "      <td>38.887821</td>\n",
       "      <td>54.541822</td>\n",
       "      <td>47.095976</td>\n",
       "      <td>57.153255</td>\n",
       "      <td>49.467488</td>\n",
       "      <td>55.165133</td>\n",
       "      <td>47.755954</td>\n",
       "      <td>...</td>\n",
       "      <td>0.034366</td>\n",
       "      <td>-0.182873</td>\n",
       "      <td>17.590065</td>\n",
       "      <td>19.438896</td>\n",
       "      <td>4.188102</td>\n",
       "      <td>25.581114</td>\n",
       "      <td>4.904707</td>\n",
       "      <td>0</td>\n",
       "      <td>14</td>\n",
       "      <td>9</td>\n",
       "    </tr>\n",
       "    <tr>\n",
       "      <th>4</th>\n",
       "      <td>63.580718</td>\n",
       "      <td>69.414910</td>\n",
       "      <td>38.601297</td>\n",
       "      <td>36.367962</td>\n",
       "      <td>40.611029</td>\n",
       "      <td>45.260915</td>\n",
       "      <td>49.877285</td>\n",
       "      <td>49.425033</td>\n",
       "      <td>52.361329</td>\n",
       "      <td>46.373401</td>\n",
       "      <td>...</td>\n",
       "      <td>0.053480</td>\n",
       "      <td>-0.003533</td>\n",
       "      <td>17.617393</td>\n",
       "      <td>19.052473</td>\n",
       "      <td>3.936342</td>\n",
       "      <td>23.607172</td>\n",
       "      <td>4.998879</td>\n",
       "      <td>0</td>\n",
       "      <td>14</td>\n",
       "      <td>9</td>\n",
       "    </tr>\n",
       "  </tbody>\n",
       "</table>\n",
       "<p>5 rows × 132 columns</p>\n",
       "</div>"
      ],
      "text/plain": [
       "   mfcc_2_std  mfcc_2_mean  mfcc_2_noise  mfcc_3_std  mfcc_3_mean  \\\n",
       "0   40.966990    26.258012     12.927575   13.748385     8.883775   \n",
       "1   35.142872    54.836846     41.036570   42.811786    43.850519   \n",
       "2   57.409907    91.576618     45.413608   39.332333    53.766183   \n",
       "3   70.969104    72.930842     39.179481   38.887821    54.541822   \n",
       "4   63.580718    69.414910     38.601297   36.367962    40.611029   \n",
       "\n",
       "   mfcc_3_noise  mfcc_4_std  mfcc_4_mean  mfcc_4_noise  mfcc_5_std  ...   \\\n",
       "0      5.561329    4.560276     7.306209      6.977689    7.903446  ...    \n",
       "1     40.949468   45.337044    37.936349     48.159645   59.096694  ...    \n",
       "2     56.218496   64.165764    57.936285     60.855951   46.329327  ...    \n",
       "3     47.095976   57.153255    49.467488     55.165133   47.755954  ...    \n",
       "4     45.260915   49.877285    49.425033     52.361329   46.373401  ...    \n",
       "\n",
       "   sflat_noise  sroll_std  sroll_mean  sroll_noise  rmse_std  rmse_mean  \\\n",
       "0    -0.401249  -0.356166   29.119574    25.008716  7.213768  31.710370   \n",
       "1     0.211831  -0.137081   20.006969    17.513890  4.452054  23.070639   \n",
       "2     0.062619   0.133189   16.410565    18.699163  4.967657  24.814506   \n",
       "3     0.034366  -0.182873   17.590065    19.438896  4.188102  25.581114   \n",
       "4     0.053480  -0.003533   17.617393    19.052473  3.936342  23.607172   \n",
       "\n",
       "   rmse_noise  h_target  target  fold  \n",
       "0    1.593856         0       0     6  \n",
       "1    7.171350         0      14     9  \n",
       "2    7.261237         0      14     9  \n",
       "3    4.904707         0      14     9  \n",
       "4    4.998879         0      14     9  \n",
       "\n",
       "[5 rows x 132 columns]"
      ]
     },
     "execution_count": 7,
     "metadata": {},
     "output_type": "execute_result"
    }
   ],
   "source": [
    "df.head()"
   ]
  },
  {
   "cell_type": "code",
   "execution_count": 8,
   "metadata": {},
   "outputs": [],
   "source": [
    "from sklearn.model_selection import train_test_split\n",
    "train, test, = train_test_split(\n",
    "                        df[df.fold != 1], test_size=0.20, random_state=42)"
   ]
  },
  {
   "cell_type": "code",
   "execution_count": 9,
   "metadata": {},
   "outputs": [],
   "source": [
    "X = (df[df.fold != 1]).drop(['target', 'h_target', 'fold'], axis=1)\n",
    "y = (df[df.fold != 1])['h_target']"
   ]
  },
  {
   "cell_type": "code",
   "execution_count": 10,
   "metadata": {},
   "outputs": [],
   "source": [
    "X, y = balanced_supersample(X, y)"
   ]
  },
  {
   "cell_type": "markdown",
   "metadata": {},
   "source": [
    "# Training"
   ]
  },
  {
   "cell_type": "code",
   "execution_count": 11,
   "metadata": {},
   "outputs": [
    {
     "name": "stdout",
     "output_type": "stream",
     "text": [
      "Fitting 10 folds for each of 100 candidates, totalling 1000 fits\n"
     ]
    },
    {
     "name": "stderr",
     "output_type": "stream",
     "text": [
      "[Parallel(n_jobs=-1)]: Using backend LokyBackend with 56 concurrent workers.\n",
      "[Parallel(n_jobs=-1)]: Done  50 tasks      | elapsed:   54.6s\n",
      "[Parallel(n_jobs=-1)]: Done 253 tasks      | elapsed:  7.7min\n",
      "[Parallel(n_jobs=-1)]: Done 536 tasks      | elapsed: 12.7min\n",
      "[Parallel(n_jobs=-1)]: Done 1000 out of 1000 | elapsed: 26.3min finished\n"
     ]
    },
    {
     "data": {
      "text/plain": [
       "RandomizedSearchCV(cv=10, error_score='raise-deprecating',\n",
       "          estimator=Pipeline(memory=None,\n",
       "     steps=[('scaler', MinMaxScaler(copy=True, feature_range=(0, 1))), ('classify', RandomForestClassifier(bootstrap=True, class_weight=None, criterion='gini',\n",
       "            max_depth=None, max_features='auto', max_leaf_nodes=None,\n",
       "            min_impurity_decrease=0.0,...ors='warn', n_jobs=-1,\n",
       "            oob_score=False, random_state=42, verbose=0, warm_start=False))]),\n",
       "          fit_params=None, iid='warn', n_iter=100, n_jobs=-1,\n",
       "          param_distributions={'classify__criterion': ('gini', 'entropy'), 'classify__warm_start': (True, False), 'classify__max_features': ('log2', 'auto', None), 'classify__oob_score': (True, False), 'classify__n_estimators': range(5, 100), 'classify__max_depth': range(132, 660)},\n",
       "          pre_dispatch='2*n_jobs', random_state=None, refit=False,\n",
       "          return_train_score='warn',\n",
       "          scoring=['accuracy', 'f1', 'recall', 'precision', 'roc_auc'],\n",
       "          verbose=2)"
      ]
     },
     "execution_count": 11,
     "metadata": {},
     "output_type": "execute_result"
    }
   ],
   "source": [
    "from sklearn.model_selection import RandomizedSearchCV\n",
    "from sklearn.decomposition import PCA\n",
    "from sklearn.discriminant_analysis import LinearDiscriminantAnalysis\n",
    "from sklearn.feature_selection import SelectKBest, chi2, mutual_info_regression\n",
    "from sklearn.preprocessing import MinMaxScaler\n",
    "from sklearn.pipeline import Pipeline\n",
    "import scipy\n",
    "\n",
    "params = {\n",
    "    'classify__n_estimators': range(5,100,1),\n",
    "    'classify__criterion': ('gini', 'entropy'),\n",
    "    'classify__max_depth': range(len(df.columns), 5 * len(df.columns)),\n",
    "    'classify__max_features': ('log2', 'auto', None),\n",
    "    'classify__oob_score': (True, False),\n",
    "    'classify__warm_start': (True, False)\n",
    "}\n",
    "\n",
    "clf = Pipeline([\n",
    "    ('scaler',MinMaxScaler()),\n",
    "    ('classify', RandomForestClassifier(n_jobs=-1, random_state=42))\n",
    "])\n",
    "randsrc = RandomizedSearchCV(\n",
    "                clf,\n",
    "                scoring=['accuracy', 'f1', 'recall', 'precision', 'roc_auc'], \n",
    "                cv=10,\n",
    "                refit=False,\n",
    "                param_distributions = params,\n",
    "                verbose=2,\n",
    "                n_jobs=-1,\n",
    "                n_iter=100\n",
    ")\n",
    "\n",
    "randsrc.fit(X, y)"
   ]
  },
  {
   "cell_type": "code",
   "execution_count": 12,
   "metadata": {},
   "outputs": [],
   "source": [
    "results = pd.DataFrame(randsrc.cv_results_)"
   ]
  },
  {
   "cell_type": "code",
   "execution_count": 13,
   "metadata": {},
   "outputs": [],
   "source": [
    "top = results.sort_values(['mean_test_roc_auc', 'mean_fit_time'], ascending=[False, True]).iloc[0]"
   ]
  },
  {
   "cell_type": "code",
   "execution_count": 14,
   "metadata": {},
   "outputs": [
    {
     "data": {
      "text/plain": [
       "{'classify__criterion': 'entropy',\n",
       " 'classify__max_depth': 353,\n",
       " 'classify__max_features': None,\n",
       " 'classify__n_estimators': 98,\n",
       " 'classify__oob_score': True,\n",
       " 'classify__warm_start': False}"
      ]
     },
     "execution_count": 14,
     "metadata": {},
     "output_type": "execute_result"
    }
   ],
   "source": [
    "top.params"
   ]
  },
  {
   "cell_type": "code",
   "execution_count": 15,
   "metadata": {},
   "outputs": [
    {
     "data": {
      "text/plain": [
       "Pipeline(memory=None,\n",
       "     steps=[('scaler', MinMaxScaler(copy=True, feature_range=(0, 1))), ('classify', RandomForestClassifier(bootstrap=True, class_weight=None, criterion='entropy',\n",
       "            max_depth=353, max_features=None, max_leaf_nodes=None,\n",
       "            min_impurity_decrease=0.0, min_impurity_split=None,\n",
       "            min_samples_leaf=1, min_samples_split=2,\n",
       "            min_weight_fraction_leaf=0.0, n_estimators=98, n_jobs=-1,\n",
       "            oob_score=True, random_state=42, verbose=0, warm_start=False))])"
      ]
     },
     "execution_count": 15,
     "metadata": {},
     "output_type": "execute_result"
    }
   ],
   "source": [
    "clf.set_params(**top.params)"
   ]
  },
  {
   "cell_type": "markdown",
   "metadata": {},
   "source": [
    "# Testing Optimal Classifier"
   ]
  },
  {
   "cell_type": "markdown",
   "metadata": {},
   "source": [
    "### Training"
   ]
  },
  {
   "cell_type": "code",
   "execution_count": 22,
   "metadata": {},
   "outputs": [],
   "source": [
    "from sklearn.model_selection import train_test_split\n",
    "train, test, = train_test_split(\n",
    "                        df[df.fold != 1], test_size=0.20, random_state=42)"
   ]
  },
  {
   "cell_type": "code",
   "execution_count": 23,
   "metadata": {},
   "outputs": [],
   "source": [
    "train_X = train.drop(['target', 'h_target', 'fold'], axis=1)\n",
    "train_y = train['h_target']\n",
    "train_X, train_y = balanced_supersample(train_X, train_y)\n",
    "test_X = test.drop(['target', 'h_target', 'fold'], axis=1)\n",
    "test_y = test['h_target']"
   ]
  },
  {
   "cell_type": "code",
   "execution_count": 24,
   "metadata": {},
   "outputs": [
    {
     "data": {
      "text/plain": [
       "Pipeline(memory=None,\n",
       "     steps=[('scaler', MinMaxScaler(copy=True, feature_range=(0, 1))), ('classify', RandomForestClassifier(bootstrap=True, class_weight=None, criterion='entropy',\n",
       "            max_depth=353, max_features=None, max_leaf_nodes=None,\n",
       "            min_impurity_decrease=0.0, min_impurity_split=None,\n",
       "            min_samples_leaf=1, min_samples_split=2,\n",
       "            min_weight_fraction_leaf=0.0, n_estimators=98, n_jobs=-1,\n",
       "            oob_score=True, random_state=42, verbose=0, warm_start=False))])"
      ]
     },
     "execution_count": 24,
     "metadata": {},
     "output_type": "execute_result"
    }
   ],
   "source": [
    "clf.fit(train_X, train_y)"
   ]
  },
  {
   "cell_type": "code",
   "execution_count": 25,
   "metadata": {},
   "outputs": [
    {
     "name": "stdout",
     "output_type": "stream",
     "text": [
      "0.7532542667052358\n",
      "Confusion matrix, without normalization\n",
      "[[ 655  480]\n",
      " [ 373 1949]]\n"
     ]
    },
    {
     "data": {
      "image/png": "[encoded data removed]",
      "text/plain": [
       "<Figure size 720x720 with 2 Axes>"
      ]
     },
     "metadata": {
      "needs_background": "light"
     },
     "output_type": "display_data"
    }
   ],
   "source": [
    "pred = clf.predict(test_X)\n",
    "print(metrics.accuracy_score(test_y, pred))\n",
    "cm = metrics.confusion_matrix(test_y, pred)\n",
    "plt.figure(figsize=(10,10))\n",
    "plot_confusion_matrix(cm, h_classes)\n",
    "plt.show()"
   ]
  },
  {
   "cell_type": "markdown",
   "metadata": {},
   "source": [
    "### Testing"
   ]
  },
  {
   "cell_type": "code",
   "execution_count": 26,
   "metadata": {},
   "outputs": [],
   "source": [
    "all_df = df[df.fold == 1]"
   ]
  },
  {
   "cell_type": "code",
   "execution_count": 27,
   "metadata": {},
   "outputs": [],
   "source": [
    "X = all_df.drop(['target', 'h_target', 'fold'], axis=1)\n",
    "y = all_df['h_target']"
   ]
  },
  {
   "cell_type": "code",
   "execution_count": 28,
   "metadata": {},
   "outputs": [
    {
     "name": "stdout",
     "output_type": "stream",
     "text": [
      "0.6736596736596736\n",
      "Confusion matrix, without normalization\n",
      "[[ 318  393]\n",
      " [ 307 1127]]\n"
     ]
    },
    {
     "data": {
      "image/png": "[encoded data removed]",
      "text/plain": [
       "<Figure size 720x720 with 2 Axes>"
      ]
     },
     "metadata": {
      "needs_background": "light"
     },
     "output_type": "display_data"
    }
   ],
   "source": [
    "pred = clf.predict(X)\n",
    "pred_prob = clf.predict_proba(X)\n",
    "print(metrics.accuracy_score(y, pred))\n",
    "cm = metrics.confusion_matrix(y, pred)\n",
    "plt.figure(figsize=(10,10))\n",
    "plot_confusion_matrix(cm, h_classes)\n",
    "plt.show()"
   ]
  },
  {
   "cell_type": "markdown",
   "metadata": {},
   "source": [
    "### Confidence"
   ]
  },
  {
   "cell_type": "code",
   "execution_count": 29,
   "metadata": {},
   "outputs": [
    {
     "data": {
      "text/html": [
       "<div>\n",
       "<style scoped>\n",
       "    .dataframe tbody tr th:only-of-type {\n",
       "        vertical-align: middle;\n",
       "    }\n",
       "\n",
       "    .dataframe tbody tr th {\n",
       "        vertical-align: top;\n",
       "    }\n",
       "\n",
       "    .dataframe thead th {\n",
       "        text-align: right;\n",
       "    }\n",
       "</style>\n",
       "<table border=\"1\" class=\"dataframe\">\n",
       "  <thead>\n",
       "    <tr style=\"text-align: right;\">\n",
       "      <th></th>\n",
       "      <th>Actual target</th>\n",
       "      <th>Anim_prob</th>\n",
       "      <th>Interact_prob</th>\n",
       "      <th>Predicted h_target</th>\n",
       "    </tr>\n",
       "  </thead>\n",
       "  <tbody>\n",
       "    <tr>\n",
       "      <th>0</th>\n",
       "      <td>sheep</td>\n",
       "      <td>0.397959</td>\n",
       "      <td>0.602041</td>\n",
       "      <td>Interacting Materials</td>\n",
       "    </tr>\n",
       "    <tr>\n",
       "      <th>1</th>\n",
       "      <td>sheep</td>\n",
       "      <td>0.265306</td>\n",
       "      <td>0.734694</td>\n",
       "      <td>Interacting Materials</td>\n",
       "    </tr>\n",
       "    <tr>\n",
       "      <th>2</th>\n",
       "      <td>sheep</td>\n",
       "      <td>0.102041</td>\n",
       "      <td>0.897959</td>\n",
       "      <td>Interacting Materials</td>\n",
       "    </tr>\n",
       "    <tr>\n",
       "      <th>3</th>\n",
       "      <td>sheep</td>\n",
       "      <td>0.214286</td>\n",
       "      <td>0.785714</td>\n",
       "      <td>Interacting Materials</td>\n",
       "    </tr>\n",
       "    <tr>\n",
       "      <th>4</th>\n",
       "      <td>sheep</td>\n",
       "      <td>0.142857</td>\n",
       "      <td>0.857143</td>\n",
       "      <td>Interacting Materials</td>\n",
       "    </tr>\n",
       "  </tbody>\n",
       "</table>\n",
       "</div>"
      ],
      "text/plain": [
       "  Actual target  Anim_prob  Interact_prob     Predicted h_target\n",
       "0         sheep   0.397959       0.602041  Interacting Materials\n",
       "1         sheep   0.265306       0.734694  Interacting Materials\n",
       "2         sheep   0.102041       0.897959  Interacting Materials\n",
       "3         sheep   0.214286       0.785714  Interacting Materials\n",
       "4         sheep   0.142857       0.857143  Interacting Materials"
      ]
     },
     "execution_count": 29,
     "metadata": {},
     "output_type": "execute_result"
    }
   ],
   "source": [
    "import seaborn as sns\n",
    "misclassified = {\n",
    "    'Predicted h_target': [],\n",
    "    'Actual target': [],\n",
    "    'Anim_prob': [],\n",
    "    'Interact_prob': []\n",
    "}\n",
    "for row, p, prob, Y in zip(all_df.iterrows(), pred, pred_prob, y):\n",
    "    Y = int(Y)\n",
    "    p = int(p)\n",
    "    if p!=Y:\n",
    "        misclassified['Actual target'].append(classes[int(row[1]['target'])])\n",
    "        misclassified['Predicted h_target'].append(h_classes[p])\n",
    "        misclassified['Anim_prob'].append(prob[0])\n",
    "        misclassified['Interact_prob'].append(prob[1])\n",
    "\n",
    "misclassified = pd.DataFrame.from_dict(misclassified)\n",
    "misclassified.head()"
   ]
  },
  {
   "cell_type": "code",
   "execution_count": 30,
   "metadata": {},
   "outputs": [],
   "source": [
    "gb_ms = misclassified.groupby('Predicted h_target')\n",
    "means = gb_ms.mean()\n",
    "errors = gb_ms.std()"
   ]
  },
  {
   "cell_type": "code",
   "execution_count": 31,
   "metadata": {},
   "outputs": [
    {
     "data": {
      "text/html": [
       "<div>\n",
       "<style scoped>\n",
       "    .dataframe tbody tr th:only-of-type {\n",
       "        vertical-align: middle;\n",
       "    }\n",
       "\n",
       "    .dataframe tbody tr th {\n",
       "        vertical-align: top;\n",
       "    }\n",
       "\n",
       "    .dataframe thead th {\n",
       "        text-align: right;\n",
       "    }\n",
       "</style>\n",
       "<table border=\"1\" class=\"dataframe\">\n",
       "  <thead>\n",
       "    <tr style=\"text-align: right;\">\n",
       "      <th></th>\n",
       "      <th>Anim_prob</th>\n",
       "      <th>Interact_prob</th>\n",
       "    </tr>\n",
       "    <tr>\n",
       "      <th>Predicted h_target</th>\n",
       "      <th></th>\n",
       "      <th></th>\n",
       "    </tr>\n",
       "  </thead>\n",
       "  <tbody>\n",
       "    <tr>\n",
       "      <th>Human &amp; Animal</th>\n",
       "      <td>0.604268</td>\n",
       "      <td>0.395732</td>\n",
       "    </tr>\n",
       "    <tr>\n",
       "      <th>Interacting Materials</th>\n",
       "      <td>0.313730</td>\n",
       "      <td>0.686270</td>\n",
       "    </tr>\n",
       "  </tbody>\n",
       "</table>\n",
       "</div>"
      ],
      "text/plain": [
       "                       Anim_prob  Interact_prob\n",
       "Predicted h_target                             \n",
       "Human & Animal          0.604268       0.395732\n",
       "Interacting Materials   0.313730       0.686270"
      ]
     },
     "execution_count": 31,
     "metadata": {},
     "output_type": "execute_result"
    }
   ],
   "source": [
    "means.head()"
   ]
  },
  {
   "cell_type": "code",
   "execution_count": 32,
   "metadata": {},
   "outputs": [
    {
     "data": {
      "text/html": [
       "<div>\n",
       "<style scoped>\n",
       "    .dataframe tbody tr th:only-of-type {\n",
       "        vertical-align: middle;\n",
       "    }\n",
       "\n",
       "    .dataframe tbody tr th {\n",
       "        vertical-align: top;\n",
       "    }\n",
       "\n",
       "    .dataframe thead th {\n",
       "        text-align: right;\n",
       "    }\n",
       "</style>\n",
       "<table border=\"1\" class=\"dataframe\">\n",
       "  <thead>\n",
       "    <tr style=\"text-align: right;\">\n",
       "      <th></th>\n",
       "      <th>Anim_prob</th>\n",
       "      <th>Interact_prob</th>\n",
       "    </tr>\n",
       "    <tr>\n",
       "      <th>Predicted h_target</th>\n",
       "      <th></th>\n",
       "      <th></th>\n",
       "    </tr>\n",
       "  </thead>\n",
       "  <tbody>\n",
       "    <tr>\n",
       "      <th>Human &amp; Animal</th>\n",
       "      <td>0.077502</td>\n",
       "      <td>0.077502</td>\n",
       "    </tr>\n",
       "    <tr>\n",
       "      <th>Interacting Materials</th>\n",
       "      <td>0.132387</td>\n",
       "      <td>0.132387</td>\n",
       "    </tr>\n",
       "  </tbody>\n",
       "</table>\n",
       "</div>"
      ],
      "text/plain": [
       "                       Anim_prob  Interact_prob\n",
       "Predicted h_target                             \n",
       "Human & Animal          0.077502       0.077502\n",
       "Interacting Materials   0.132387       0.132387"
      ]
     },
     "execution_count": 32,
     "metadata": {},
     "output_type": "execute_result"
    }
   ],
   "source": [
    "errors.head()"
   ]
  },
  {
   "cell_type": "code",
   "execution_count": 33,
   "metadata": {},
   "outputs": [
    {
     "data": {
      "text/plain": [
       "<matplotlib.axes._subplots.AxesSubplot at 0x7fa99b8363c8>"
      ]
     },
     "execution_count": 33,
     "metadata": {},
     "output_type": "execute_result"
    },
    {
     "data": {
      "image/png": "[encoded data removed]",
      "text/plain": [
       "<Figure size 432x288 with 1 Axes>"
      ]
     },
     "metadata": {
      "needs_background": "light"
     },
     "output_type": "display_data"
    }
   ],
   "source": [
    "means.min(axis=1).plot(yerr=errors, kind='bar')"
   ]
  },
  {
   "cell_type": "code",
   "execution_count": 34,
   "metadata": {},
   "outputs": [
    {
     "data": {
      "text/html": [
       "<div>\n",
       "<style scoped>\n",
       "    .dataframe tbody tr th:only-of-type {\n",
       "        vertical-align: middle;\n",
       "    }\n",
       "\n",
       "    .dataframe tbody tr th {\n",
       "        vertical-align: top;\n",
       "    }\n",
       "\n",
       "    .dataframe thead th {\n",
       "        text-align: right;\n",
       "    }\n",
       "</style>\n",
       "<table border=\"1\" class=\"dataframe\">\n",
       "  <thead>\n",
       "    <tr style=\"text-align: right;\">\n",
       "      <th></th>\n",
       "      <th>Anim_prob</th>\n",
       "      <th>Interact_prob</th>\n",
       "    </tr>\n",
       "    <tr>\n",
       "      <th>Actual target</th>\n",
       "      <th></th>\n",
       "      <th></th>\n",
       "    </tr>\n",
       "  </thead>\n",
       "  <tbody>\n",
       "    <tr>\n",
       "      <th>airplane</th>\n",
       "      <td>0.556122</td>\n",
       "      <td>0.443878</td>\n",
       "    </tr>\n",
       "    <tr>\n",
       "      <th>breathing</th>\n",
       "      <td>0.364992</td>\n",
       "      <td>0.635008</td>\n",
       "    </tr>\n",
       "    <tr>\n",
       "      <th>brushing_teeth</th>\n",
       "      <td>0.634308</td>\n",
       "      <td>0.365692</td>\n",
       "    </tr>\n",
       "    <tr>\n",
       "      <th>can_opening</th>\n",
       "      <td>0.651020</td>\n",
       "      <td>0.348980</td>\n",
       "    </tr>\n",
       "    <tr>\n",
       "      <th>car_horn</th>\n",
       "      <td>0.602041</td>\n",
       "      <td>0.397959</td>\n",
       "    </tr>\n",
       "    <tr>\n",
       "      <th>cat</th>\n",
       "      <td>0.277211</td>\n",
       "      <td>0.722789</td>\n",
       "    </tr>\n",
       "    <tr>\n",
       "      <th>chainsaw</th>\n",
       "      <td>0.530612</td>\n",
       "      <td>0.469388</td>\n",
       "    </tr>\n",
       "    <tr>\n",
       "      <th>chirping_birds</th>\n",
       "      <td>0.307398</td>\n",
       "      <td>0.692602</td>\n",
       "    </tr>\n",
       "    <tr>\n",
       "      <th>church_bells</th>\n",
       "      <td>0.523810</td>\n",
       "      <td>0.476190</td>\n",
       "    </tr>\n",
       "    <tr>\n",
       "      <th>clapping</th>\n",
       "      <td>0.645773</td>\n",
       "      <td>0.354227</td>\n",
       "    </tr>\n",
       "    <tr>\n",
       "      <th>clock_alarm</th>\n",
       "      <td>0.545190</td>\n",
       "      <td>0.454810</td>\n",
       "    </tr>\n",
       "    <tr>\n",
       "      <th>clock_tick</th>\n",
       "      <td>0.527211</td>\n",
       "      <td>0.472789</td>\n",
       "    </tr>\n",
       "    <tr>\n",
       "      <th>coughing</th>\n",
       "      <td>0.420408</td>\n",
       "      <td>0.579592</td>\n",
       "    </tr>\n",
       "    <tr>\n",
       "      <th>cow</th>\n",
       "      <td>0.317430</td>\n",
       "      <td>0.682570</td>\n",
       "    </tr>\n",
       "    <tr>\n",
       "      <th>crackling_fire</th>\n",
       "      <td>0.598639</td>\n",
       "      <td>0.401361</td>\n",
       "    </tr>\n",
       "    <tr>\n",
       "      <th>crickets</th>\n",
       "      <td>0.148879</td>\n",
       "      <td>0.851121</td>\n",
       "    </tr>\n",
       "    <tr>\n",
       "      <th>crying_baby</th>\n",
       "      <td>0.397959</td>\n",
       "      <td>0.602041</td>\n",
       "    </tr>\n",
       "    <tr>\n",
       "      <th>door_wood_creaks</th>\n",
       "      <td>0.617148</td>\n",
       "      <td>0.382852</td>\n",
       "    </tr>\n",
       "    <tr>\n",
       "      <th>drinking_sipping</th>\n",
       "      <td>0.566327</td>\n",
       "      <td>0.433673</td>\n",
       "    </tr>\n",
       "    <tr>\n",
       "      <th>engine</th>\n",
       "      <td>0.654337</td>\n",
       "      <td>0.345663</td>\n",
       "    </tr>\n",
       "    <tr>\n",
       "      <th>footsteps</th>\n",
       "      <td>0.582313</td>\n",
       "      <td>0.417687</td>\n",
       "    </tr>\n",
       "    <tr>\n",
       "      <th>frog</th>\n",
       "      <td>0.334137</td>\n",
       "      <td>0.665863</td>\n",
       "    </tr>\n",
       "    <tr>\n",
       "      <th>glass_breaking</th>\n",
       "      <td>0.589286</td>\n",
       "      <td>0.410714</td>\n",
       "    </tr>\n",
       "    <tr>\n",
       "      <th>hand_saw</th>\n",
       "      <td>0.608071</td>\n",
       "      <td>0.391929</td>\n",
       "    </tr>\n",
       "    <tr>\n",
       "      <th>hen</th>\n",
       "      <td>0.371955</td>\n",
       "      <td>0.628045</td>\n",
       "    </tr>\n",
       "    <tr>\n",
       "      <th>insects</th>\n",
       "      <td>0.324675</td>\n",
       "      <td>0.675325</td>\n",
       "    </tr>\n",
       "    <tr>\n",
       "      <th>keyboard_typing</th>\n",
       "      <td>0.585034</td>\n",
       "      <td>0.414966</td>\n",
       "    </tr>\n",
       "    <tr>\n",
       "      <th>laughing</th>\n",
       "      <td>0.379699</td>\n",
       "      <td>0.620301</td>\n",
       "    </tr>\n",
       "    <tr>\n",
       "      <th>mouse_click</th>\n",
       "      <td>0.568646</td>\n",
       "      <td>0.431354</td>\n",
       "    </tr>\n",
       "    <tr>\n",
       "      <th>pig</th>\n",
       "      <td>0.382189</td>\n",
       "      <td>0.617811</td>\n",
       "    </tr>\n",
       "    <tr>\n",
       "      <th>pouring_water</th>\n",
       "      <td>0.568878</td>\n",
       "      <td>0.431122</td>\n",
       "    </tr>\n",
       "    <tr>\n",
       "      <th>rooster</th>\n",
       "      <td>0.444898</td>\n",
       "      <td>0.555102</td>\n",
       "    </tr>\n",
       "    <tr>\n",
       "      <th>sea_waves</th>\n",
       "      <td>0.561224</td>\n",
       "      <td>0.438776</td>\n",
       "    </tr>\n",
       "    <tr>\n",
       "      <th>sheep</th>\n",
       "      <td>0.320000</td>\n",
       "      <td>0.680000</td>\n",
       "    </tr>\n",
       "    <tr>\n",
       "      <th>siren</th>\n",
       "      <td>0.544218</td>\n",
       "      <td>0.455782</td>\n",
       "    </tr>\n",
       "    <tr>\n",
       "      <th>sneezing</th>\n",
       "      <td>0.392857</td>\n",
       "      <td>0.607143</td>\n",
       "    </tr>\n",
       "    <tr>\n",
       "      <th>snoring</th>\n",
       "      <td>0.400227</td>\n",
       "      <td>0.599773</td>\n",
       "    </tr>\n",
       "    <tr>\n",
       "      <th>thunderstorm</th>\n",
       "      <td>0.602578</td>\n",
       "      <td>0.397422</td>\n",
       "    </tr>\n",
       "    <tr>\n",
       "      <th>toilet_flush</th>\n",
       "      <td>0.590561</td>\n",
       "      <td>0.409439</td>\n",
       "    </tr>\n",
       "    <tr>\n",
       "      <th>water_drops</th>\n",
       "      <td>0.626160</td>\n",
       "      <td>0.373840</td>\n",
       "    </tr>\n",
       "  </tbody>\n",
       "</table>\n",
       "</div>"
      ],
      "text/plain": [
       "                  Anim_prob  Interact_prob\n",
       "Actual target                             \n",
       "airplane           0.556122       0.443878\n",
       "breathing          0.364992       0.635008\n",
       "brushing_teeth     0.634308       0.365692\n",
       "can_opening        0.651020       0.348980\n",
       "car_horn           0.602041       0.397959\n",
       "cat                0.277211       0.722789\n",
       "chainsaw           0.530612       0.469388\n",
       "chirping_birds     0.307398       0.692602\n",
       "church_bells       0.523810       0.476190\n",
       "clapping           0.645773       0.354227\n",
       "clock_alarm        0.545190       0.454810\n",
       "clock_tick         0.527211       0.472789\n",
       "coughing           0.420408       0.579592\n",
       "cow                0.317430       0.682570\n",
       "crackling_fire     0.598639       0.401361\n",
       "crickets           0.148879       0.851121\n",
       "crying_baby        0.397959       0.602041\n",
       "door_wood_creaks   0.617148       0.382852\n",
       "drinking_sipping   0.566327       0.433673\n",
       "engine             0.654337       0.345663\n",
       "footsteps          0.582313       0.417687\n",
       "frog               0.334137       0.665863\n",
       "glass_breaking     0.589286       0.410714\n",
       "hand_saw           0.608071       0.391929\n",
       "hen                0.371955       0.628045\n",
       "insects            0.324675       0.675325\n",
       "keyboard_typing    0.585034       0.414966\n",
       "laughing           0.379699       0.620301\n",
       "mouse_click        0.568646       0.431354\n",
       "pig                0.382189       0.617811\n",
       "pouring_water      0.568878       0.431122\n",
       "rooster            0.444898       0.555102\n",
       "sea_waves          0.561224       0.438776\n",
       "sheep              0.320000       0.680000\n",
       "siren              0.544218       0.455782\n",
       "sneezing           0.392857       0.607143\n",
       "snoring            0.400227       0.599773\n",
       "thunderstorm       0.602578       0.397422\n",
       "toilet_flush       0.590561       0.409439\n",
       "water_drops        0.626160       0.373840"
      ]
     },
     "execution_count": 34,
     "metadata": {},
     "output_type": "execute_result"
    }
   ],
   "source": [
    "average_prob = misclassified.groupby('Actual target').mean()\n",
    "average_prob"
   ]
  },
  {
   "cell_type": "code",
   "execution_count": 35,
   "metadata": {},
   "outputs": [
    {
     "data": {
      "text/plain": [
       "<matplotlib.axes._subplots.AxesSubplot at 0x7fa99b4c6898>"
      ]
     },
     "execution_count": 35,
     "metadata": {},
     "output_type": "execute_result"
    },
    {
     "data": {
      "image/png": "[encoded data removed]",
      "text/plain": [
       "<Figure size 432x288 with 1 Axes>"
      ]
     },
     "metadata": {
      "needs_background": "light"
     },
     "output_type": "display_data"
    }
   ],
   "source": [
    "average_prob.min(axis=1).plot(kind='bar')"
   ]
  },
  {
   "cell_type": "code",
   "execution_count": 29,
   "metadata": {},
   "outputs": [
    {
     "ename": "ValueError",
     "evalue": "Could not interpret input 'Actual h_target'",
     "output_type": "error",
     "traceback": [
      "\u001b[0;31m---------------------------------------------------------------------------\u001b[0m",
      "\u001b[0;31mValueError\u001b[0m                                Traceback (most recent call last)",
      "\u001b[0;32m<ipython-input-29-0bb1bcf64cfb>\u001b[0m in \u001b[0;36m<module>\u001b[0;34m\u001b[0m\n\u001b[1;32m      1\u001b[0m \u001b[0;32mfrom\u001b[0m \u001b[0mmatplotlib\u001b[0m \u001b[0;32mimport\u001b[0m \u001b[0mpyplot\u001b[0m \u001b[0;32mas\u001b[0m \u001b[0mplt\u001b[0m\u001b[0;34m\u001b[0m\u001b[0m\n\u001b[1;32m      2\u001b[0m \u001b[0mfig\u001b[0m\u001b[0;34m,\u001b[0m \u001b[0max\u001b[0m \u001b[0;34m=\u001b[0m \u001b[0mplt\u001b[0m\u001b[0;34m.\u001b[0m\u001b[0msubplots\u001b[0m\u001b[0;34m(\u001b[0m\u001b[0mfigsize\u001b[0m\u001b[0;34m=\u001b[0m\u001b[0;34m(\u001b[0m\u001b[0;36m50\u001b[0m\u001b[0;34m,\u001b[0m\u001b[0;36m10\u001b[0m\u001b[0;34m)\u001b[0m\u001b[0;34m)\u001b[0m\u001b[0;34m\u001b[0m\u001b[0m\n\u001b[0;32m----> 3\u001b[0;31m \u001b[0msns\u001b[0m\u001b[0;34m.\u001b[0m\u001b[0mcountplot\u001b[0m\u001b[0;34m(\u001b[0m\u001b[0mx\u001b[0m\u001b[0;34m=\u001b[0m\u001b[0;34m'Actual target'\u001b[0m\u001b[0;34m,\u001b[0m \u001b[0mhue\u001b[0m\u001b[0;34m=\u001b[0m\u001b[0;34m'Actual h_target'\u001b[0m\u001b[0;34m,\u001b[0m\u001b[0mdata\u001b[0m\u001b[0;34m=\u001b[0m\u001b[0mmisclassified\u001b[0m\u001b[0;34m)\u001b[0m\u001b[0;34m\u001b[0m\u001b[0m\n\u001b[0m",
      "\u001b[0;32m/usr/local/lib/python3.5/dist-packages/seaborn/categorical.py\u001b[0m in \u001b[0;36mcountplot\u001b[0;34m(x, y, hue, data, order, hue_order, orient, color, palette, saturation, dodge, ax, **kwargs)\u001b[0m\n\u001b[1;32m   3551\u001b[0m                           \u001b[0mestimator\u001b[0m\u001b[0;34m,\u001b[0m \u001b[0mci\u001b[0m\u001b[0;34m,\u001b[0m \u001b[0mn_boot\u001b[0m\u001b[0;34m,\u001b[0m \u001b[0munits\u001b[0m\u001b[0;34m,\u001b[0m\u001b[0;34m\u001b[0m\u001b[0m\n\u001b[1;32m   3552\u001b[0m                           \u001b[0morient\u001b[0m\u001b[0;34m,\u001b[0m \u001b[0mcolor\u001b[0m\u001b[0;34m,\u001b[0m \u001b[0mpalette\u001b[0m\u001b[0;34m,\u001b[0m \u001b[0msaturation\u001b[0m\u001b[0;34m,\u001b[0m\u001b[0;34m\u001b[0m\u001b[0m\n\u001b[0;32m-> 3553\u001b[0;31m                           errcolor, errwidth, capsize, dodge)\n\u001b[0m\u001b[1;32m   3554\u001b[0m \u001b[0;34m\u001b[0m\u001b[0m\n\u001b[1;32m   3555\u001b[0m     \u001b[0mplotter\u001b[0m\u001b[0;34m.\u001b[0m\u001b[0mvalue_label\u001b[0m \u001b[0;34m=\u001b[0m \u001b[0;34m\"count\"\u001b[0m\u001b[0;34m\u001b[0m\u001b[0m\n",
      "\u001b[0;32m/usr/local/lib/python3.5/dist-packages/seaborn/categorical.py\u001b[0m in \u001b[0;36m__init__\u001b[0;34m(self, x, y, hue, data, order, hue_order, estimator, ci, n_boot, units, orient, color, palette, saturation, errcolor, errwidth, capsize, dodge)\u001b[0m\n\u001b[1;32m   1605\u001b[0m         \u001b[0;34m\"\"\"Initialize the plotter.\"\"\"\u001b[0m\u001b[0;34m\u001b[0m\u001b[0m\n\u001b[1;32m   1606\u001b[0m         self.establish_variables(x, y, hue, data, orient,\n\u001b[0;32m-> 1607\u001b[0;31m                                  order, hue_order, units)\n\u001b[0m\u001b[1;32m   1608\u001b[0m         \u001b[0mself\u001b[0m\u001b[0;34m.\u001b[0m\u001b[0mestablish_colors\u001b[0m\u001b[0;34m(\u001b[0m\u001b[0mcolor\u001b[0m\u001b[0;34m,\u001b[0m \u001b[0mpalette\u001b[0m\u001b[0;34m,\u001b[0m \u001b[0msaturation\u001b[0m\u001b[0;34m)\u001b[0m\u001b[0;34m\u001b[0m\u001b[0m\n\u001b[1;32m   1609\u001b[0m         \u001b[0mself\u001b[0m\u001b[0;34m.\u001b[0m\u001b[0mestimate_statistic\u001b[0m\u001b[0;34m(\u001b[0m\u001b[0mestimator\u001b[0m\u001b[0;34m,\u001b[0m \u001b[0mci\u001b[0m\u001b[0;34m,\u001b[0m \u001b[0mn_boot\u001b[0m\u001b[0;34m)\u001b[0m\u001b[0;34m\u001b[0m\u001b[0m\n",
      "\u001b[0;32m/usr/local/lib/python3.5/dist-packages/seaborn/categorical.py\u001b[0m in \u001b[0;36mestablish_variables\u001b[0;34m(self, x, y, hue, data, orient, order, hue_order, units)\u001b[0m\n\u001b[1;32m    153\u001b[0m                 \u001b[0;32mif\u001b[0m \u001b[0misinstance\u001b[0m\u001b[0;34m(\u001b[0m\u001b[0minput\u001b[0m\u001b[0;34m,\u001b[0m \u001b[0mstring_types\u001b[0m\u001b[0;34m)\u001b[0m\u001b[0;34m:\u001b[0m\u001b[0;34m\u001b[0m\u001b[0m\n\u001b[1;32m    154\u001b[0m                     \u001b[0merr\u001b[0m \u001b[0;34m=\u001b[0m \u001b[0;34m\"Could not interpret input '{}'\"\u001b[0m\u001b[0;34m.\u001b[0m\u001b[0mformat\u001b[0m\u001b[0;34m(\u001b[0m\u001b[0minput\u001b[0m\u001b[0;34m)\u001b[0m\u001b[0;34m\u001b[0m\u001b[0m\n\u001b[0;32m--> 155\u001b[0;31m                     \u001b[0;32mraise\u001b[0m \u001b[0mValueError\u001b[0m\u001b[0;34m(\u001b[0m\u001b[0merr\u001b[0m\u001b[0;34m)\u001b[0m\u001b[0;34m\u001b[0m\u001b[0m\n\u001b[0m\u001b[1;32m    156\u001b[0m \u001b[0;34m\u001b[0m\u001b[0m\n\u001b[1;32m    157\u001b[0m             \u001b[0;31m# Figure out the plotting orientation\u001b[0m\u001b[0;34m\u001b[0m\u001b[0;34m\u001b[0m\u001b[0m\n",
      "\u001b[0;31mValueError\u001b[0m: Could not interpret input 'Actual h_target'"
     ]
    },
    {
     "data": {
      "image/png": "[encoded data removed]",
      "text/plain": [
       "<Figure size 3600x720 with 1 Axes>"
      ]
     },
     "metadata": {
      "needs_background": "light"
     },
     "output_type": "display_data"
    }
   ],
   "source": [
    "from matplotlib import pyplot as plt\n",
    "fig, ax = plt.subplots(figsize=(50,10))\n",
    "sns.countplot(x='Actual target', hue='Predicted h_target',data=misclassified)"
   ]
  },
  {
   "cell_type": "code",
   "execution_count": null,
   "metadata": {},
   "outputs": [],
   "source": []
  }
 ],
 "metadata": {
  "kernelspec": {
   "display_name": "Python 3",
   "language": "python",
   "name": "python3"
  },
  "language_info": {
   "codemirror_mode": {
    "name": "ipython",
    "version": 3
   },
   "file_extension": ".py",
   "mimetype": "text/x-python",
   "name": "python",
   "nbconvert_exporter": "python",
   "pygments_lexer": "ipython3",
   "version": "3.5.2"
  }
 },
 "nbformat": 4,
 "nbformat_minor": 2
}
