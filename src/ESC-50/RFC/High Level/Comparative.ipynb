{
 "cells": [
  {
   "cell_type": "code",
   "execution_count": 1,
   "metadata": {},
   "outputs": [
    {
     "name": "stderr",
     "output_type": "stream",
     "text": [
      "Using TensorFlow backend.\n"
     ]
    },
    {
     "name": "stdout",
     "output_type": "stream",
     "text": [
      "WARNING:tensorflow:From /usr/local/lib/python3.5/dist-packages/magenta/models/nsynth/wavenet/masked.py:115: UniformUnitScaling.__init__ (from tensorflow.python.ops.init_ops) is deprecated and will be removed in a future version.\n",
      "Instructions for updating:\n",
      "Use tf.initializers.variance_scaling instead with distribution=uniform to get equivalent behavior.\n"
     ]
    },
    {
     "name": "stderr",
     "output_type": "stream",
     "text": [
      "/usr/lib/python3.5/importlib/_bootstrap.py:222: RuntimeWarning: numpy.dtype size changed, may indicate binary incompatibility. Expected 96, got 88\n",
      "  return f(*args, **kwds)\n",
      "/usr/lib/python3.5/importlib/_bootstrap.py:222: RuntimeWarning: numpy.dtype size changed, may indicate binary incompatibility. Expected 96, got 88\n",
      "  return f(*args, **kwds)\n",
      "/usr/lib/python3.5/importlib/_bootstrap.py:222: RuntimeWarning: numpy.dtype size changed, may indicate binary incompatibility. Expected 96, got 88\n",
      "  return f(*args, **kwds)\n",
      "/usr/lib/python3.5/importlib/_bootstrap.py:222: RuntimeWarning: numpy.dtype size changed, may indicate binary incompatibility. Expected 96, got 88\n",
      "  return f(*args, **kwds)\n",
      "/usr/lib/python3.5/importlib/_bootstrap.py:222: RuntimeWarning: numpy.dtype size changed, may indicate binary incompatibility. Expected 96, got 88\n",
      "  return f(*args, **kwds)\n"
     ]
    }
   ],
   "source": [
    "import sys\n",
    "sys.path.insert(0, '../../../')\n",
    "\n",
    "import pandas as pd\n",
    "from preprocess import Audio_Processor\n",
    "from sklearn import metrics\n",
    "from classification_plots import plot_confusion_matrix, plot_learning_curve\n",
    "import matplotlib.pyplot as plt\n",
    "import os\n",
    "import numpy as np\n",
    "from data_utils import enumerate_strings\n",
    "from sklearn.ensemble import RandomForestClassifier\n",
    "from sklearn.pipeline import Pipeline\n",
    "\n",
    "from sklearn.model_selection import train_test_split\n",
    "from sklearn.decomposition import PCA\n",
    "from sklearn.discriminant_analysis import LinearDiscriminantAnalysis\n",
    "from sklearn.feature_selection import SelectKBest, chi2, mutual_info_regression\n",
    "from sklearn.preprocessing import MinMaxScaler\n",
    "from sklearn.pipeline import make_pipeline\n",
    "from sklearn.model_selection import cross_validate\n",
    "from sklearn.metrics import recall_score"
   ]
  },
  {
   "cell_type": "code",
   "execution_count": 2,
   "metadata": {},
   "outputs": [],
   "source": [
    "# Able to specify which GPU to use\n",
    "os.environ[\"CUDA_VISIBLE_DEVICES\"]=\"1\"\n",
    "\n",
    "SR = 16000"
   ]
  },
  {
   "cell_type": "code",
   "execution_count": 3,
   "metadata": {},
   "outputs": [],
   "source": [
    "import warnings\n",
    "warnings.filterwarnings('ignore')"
   ]
  },
  {
   "cell_type": "markdown",
   "metadata": {},
   "source": [
    "# Setup"
   ]
  },
  {
   "cell_type": "code",
   "execution_count": 4,
   "metadata": {},
   "outputs": [],
   "source": [
    "path_to_db='../../../../ESC-50/'\n",
    "ps = Audio_Processor(path_to_db + 'audio/', sr=SR)\n",
    "dataset = pd.read_csv(path_to_db + 'meta/esc50.csv')\n",
    "classes = [None] * 50\n",
    "h_classes = ['Human & Animal', 'Interacting Materials']\n",
    "mapping = {\n",
    "    'dog': 0,\n",
    "    'rooster': 0,\n",
    "    'pig': 0,\n",
    "    'cow': 0,\n",
    "    'frog': 0,\n",
    "    'cat': 0,\n",
    "    'hen': 0,\n",
    "    'insects': 0,\n",
    "    'sheep': 0,\n",
    "    'crow': 0,\n",
    "    'rain': 1,\n",
    "    'sea_waves': 1,\n",
    "    'crackling_fire': 1,\n",
    "    'crickets': 0,\n",
    "    'chirping_birds': 0,\n",
    "    'water_drops': 1,\n",
    "    'wind': 1,\n",
    "    'pouring_water': 1,\n",
    "    'toilet_flush': 1,\n",
    "    'thunderstorm': 1,\n",
    "    'crying_baby': 0,\n",
    "    'sneezing': 0,\n",
    "    'clapping': 1,\n",
    "    'breathing': 0,\n",
    "    'coughing': 0,\n",
    "    'footsteps': 1,\n",
    "    'laughing': 0,\n",
    "    'brushing_teeth': 1,\n",
    "    'snoring': 0,\n",
    "    'drinking_sipping': 1,\n",
    "    'door_wood_knock': 1,\n",
    "    'mouse_click': 1,\n",
    "    'keyboard_typing': 1,\n",
    "    'door_wood_creaks': 1,\n",
    "    'can_opening': 1,\n",
    "    'washing_machine': 1,\n",
    "    'vacuum_cleaner': 1,\n",
    "    'clock_alarm': 1,\n",
    "    'clock_tick': 1,\n",
    "    'glass_breaking':1,\n",
    "    'helicopter': 1,\n",
    "    'chainsaw': 1,\n",
    "    'siren': 1,\n",
    "    'car_horn': 1,\n",
    "    'engine': 1,\n",
    "    'train': 1,\n",
    "    'church_bells': 1,\n",
    "    'airplane': 1,\n",
    "    'fireworks': 1,\n",
    "    'hand_saw': 1,\n",
    "}\n",
    "dataset['h_target'] = None\n",
    "for index, row in dataset.iterrows():\n",
    "    target = row['target']\n",
    "    classes[target] = row['category']\n",
    "    dataset.loc[index, 'h_target'] = mapping[row['category']]"
   ]
  },
  {
   "cell_type": "code",
   "execution_count": 5,
   "metadata": {},
   "outputs": [],
   "source": [
    "block_tries = {\n",
    "    \"blocksize\": [int(SR/4), int(SR/2), int(SR), int(SR * 2), int(SR * 5)],\n",
    "    \"overlap\": [int(SR/8), int(SR/4), int(SR/2), int(SR), 0]\n",
    "              }"
   ]
  },
  {
   "cell_type": "code",
   "execution_count": 6,
   "metadata": {},
   "outputs": [],
   "source": [
    "scores = []\n",
    "for i in range(len(block_tries['blocksize'])):\n",
    "    df = ps.preprocess_fold(dataset,\n",
    "                           kind='mfcc',\n",
    "                           blocksize=block_tries['blocksize'][i],\n",
    "                           overlap=block_tries['overlap'][i])\n",
    "\n",
    "    X = df.drop(['target', 'h_target'], axis=1)\n",
    "    y = df['h_target']\n",
    "    clf = make_pipeline(\n",
    "        MinMaxScaler(),\n",
    "        RandomForestClassifier()\n",
    "    )\n",
    "    scores.append(\n",
    "        pd.DataFrame(\n",
    "            RandomizedSearchCV(\n",
    "                clf, \n",
    "                X, y,\n",
    "                scoring=['accuracy', 'f1', 'recall', 'precision', 'roc_auc'], \n",
    "                cv=10,\n",
    "                param_distributions = dists)\n",
    "        ).cv_results_\n",
    "    )\n",
    "    scores[-1]['blocksize'] = block_tries['blocksize'][i]"
   ]
  },
  {
   "cell_type": "code",
   "execution_count": 7,
   "metadata": {},
   "outputs": [],
   "source": [
    "res_df = pd.concat(scores, ignore_index=True)"
   ]
  },
  {
   "cell_type": "code",
   "execution_count": 8,
   "metadata": {},
   "outputs": [
    {
     "data": {
      "text/html": [
       "<div>\n",
       "<style scoped>\n",
       "    .dataframe tbody tr th:only-of-type {\n",
       "        vertical-align: middle;\n",
       "    }\n",
       "\n",
       "    .dataframe tbody tr th {\n",
       "        vertical-align: top;\n",
       "    }\n",
       "\n",
       "    .dataframe thead th {\n",
       "        text-align: right;\n",
       "    }\n",
       "</style>\n",
       "<table border=\"1\" class=\"dataframe\">\n",
       "  <thead>\n",
       "    <tr style=\"text-align: right;\">\n",
       "      <th></th>\n",
       "      <th>fit_time</th>\n",
       "      <th>score_time</th>\n",
       "      <th>test_accuracy</th>\n",
       "      <th>test_f1</th>\n",
       "      <th>test_precision</th>\n",
       "      <th>test_recall</th>\n",
       "      <th>test_roc_auc</th>\n",
       "      <th>train_accuracy</th>\n",
       "      <th>train_f1</th>\n",
       "      <th>train_precision</th>\n",
       "      <th>train_recall</th>\n",
       "      <th>train_roc_auc</th>\n",
       "    </tr>\n",
       "    <tr>\n",
       "      <th>blocksize</th>\n",
       "      <th></th>\n",
       "      <th></th>\n",
       "      <th></th>\n",
       "      <th></th>\n",
       "      <th></th>\n",
       "      <th></th>\n",
       "      <th></th>\n",
       "      <th></th>\n",
       "      <th></th>\n",
       "      <th></th>\n",
       "      <th></th>\n",
       "      <th></th>\n",
       "    </tr>\n",
       "  </thead>\n",
       "  <tbody>\n",
       "    <tr>\n",
       "      <th>4000</th>\n",
       "      <td>0.125239</td>\n",
       "      <td>0.012788</td>\n",
       "      <td>0.7240</td>\n",
       "      <td>0.786319</td>\n",
       "      <td>0.777422</td>\n",
       "      <td>0.796875</td>\n",
       "      <td>0.763243</td>\n",
       "      <td>0.992167</td>\n",
       "      <td>0.993872</td>\n",
       "      <td>0.995129</td>\n",
       "      <td>0.992622</td>\n",
       "      <td>0.999557</td>\n",
       "    </tr>\n",
       "    <tr>\n",
       "      <th>8000</th>\n",
       "      <td>0.130515</td>\n",
       "      <td>0.012582</td>\n",
       "      <td>0.7075</td>\n",
       "      <td>0.773430</td>\n",
       "      <td>0.767656</td>\n",
       "      <td>0.779687</td>\n",
       "      <td>0.743462</td>\n",
       "      <td>0.990889</td>\n",
       "      <td>0.992875</td>\n",
       "      <td>0.993917</td>\n",
       "      <td>0.991840</td>\n",
       "      <td>0.999467</td>\n",
       "    </tr>\n",
       "    <tr>\n",
       "      <th>16000</th>\n",
       "      <td>0.144610</td>\n",
       "      <td>0.016284</td>\n",
       "      <td>0.6850</td>\n",
       "      <td>0.755461</td>\n",
       "      <td>0.751195</td>\n",
       "      <td>0.760938</td>\n",
       "      <td>0.718126</td>\n",
       "      <td>0.992222</td>\n",
       "      <td>0.993914</td>\n",
       "      <td>0.995304</td>\n",
       "      <td>0.992535</td>\n",
       "      <td>0.999496</td>\n",
       "    </tr>\n",
       "    <tr>\n",
       "      <th>32000</th>\n",
       "      <td>0.137483</td>\n",
       "      <td>0.013491</td>\n",
       "      <td>0.6800</td>\n",
       "      <td>0.750672</td>\n",
       "      <td>0.748666</td>\n",
       "      <td>0.753125</td>\n",
       "      <td>0.720530</td>\n",
       "      <td>0.990889</td>\n",
       "      <td>0.992873</td>\n",
       "      <td>0.994085</td>\n",
       "      <td>0.991667</td>\n",
       "      <td>0.999360</td>\n",
       "    </tr>\n",
       "    <tr>\n",
       "      <th>80000</th>\n",
       "      <td>0.114103</td>\n",
       "      <td>0.011255</td>\n",
       "      <td>0.6755</td>\n",
       "      <td>0.747649</td>\n",
       "      <td>0.745104</td>\n",
       "      <td>0.750781</td>\n",
       "      <td>0.706928</td>\n",
       "      <td>0.987833</td>\n",
       "      <td>0.990489</td>\n",
       "      <td>0.991228</td>\n",
       "      <td>0.989757</td>\n",
       "      <td>0.999020</td>\n",
       "    </tr>\n",
       "  </tbody>\n",
       "</table>\n",
       "</div>"
      ],
      "text/plain": [
       "           fit_time  score_time  test_accuracy   test_f1  test_precision  \\\n",
       "blocksize                                                                  \n",
       "4000       0.125239    0.012788         0.7240  0.786319        0.777422   \n",
       "8000       0.130515    0.012582         0.7075  0.773430        0.767656   \n",
       "16000      0.144610    0.016284         0.6850  0.755461        0.751195   \n",
       "32000      0.137483    0.013491         0.6800  0.750672        0.748666   \n",
       "80000      0.114103    0.011255         0.6755  0.747649        0.745104   \n",
       "\n",
       "           test_recall  test_roc_auc  train_accuracy  train_f1  \\\n",
       "blocksize                                                        \n",
       "4000          0.796875      0.763243        0.992167  0.993872   \n",
       "8000          0.779687      0.743462        0.990889  0.992875   \n",
       "16000         0.760938      0.718126        0.992222  0.993914   \n",
       "32000         0.753125      0.720530        0.990889  0.992873   \n",
       "80000         0.750781      0.706928        0.987833  0.990489   \n",
       "\n",
       "           train_precision  train_recall  train_roc_auc  \n",
       "blocksize                                                \n",
       "4000              0.995129      0.992622       0.999557  \n",
       "8000              0.993917      0.991840       0.999467  \n",
       "16000             0.995304      0.992535       0.999496  \n",
       "32000             0.994085      0.991667       0.999360  \n",
       "80000             0.991228      0.989757       0.999020  "
      ]
     },
     "execution_count": 8,
     "metadata": {},
     "output_type": "execute_result"
    }
   ],
   "source": [
    "res_df.groupby(['blocksize']).mean()"
   ]
  },
  {
   "cell_type": "code",
   "execution_count": 9,
   "metadata": {},
   "outputs": [
    {
     "data": {
      "text/plain": [
       "<matplotlib.axes._subplots.AxesSubplot at 0x7f41058f58d0>"
      ]
     },
     "execution_count": 9,
     "metadata": {},
     "output_type": "execute_result"
    },
    {
     "data": {
      "image/png": "[encoded data removed]",
      "text/plain": [
       "<Figure size 720x720 with 1 Axes>"
      ]
     },
     "metadata": {
      "needs_background": "light"
     },
     "output_type": "display_data"
    }
   ],
   "source": [
    "res_df.groupby(['blocksize']).mean().plot(figsize=(10,10), kind='bar')"
   ]
  },
  {
   "cell_type": "code",
   "execution_count": null,
   "metadata": {},
   "outputs": [],
   "source": []
  }
 ],
 "metadata": {
  "kernelspec": {
   "display_name": "Python 3",
   "language": "python",
   "name": "python3"
  },
  "language_info": {
   "codemirror_mode": {
    "name": "ipython",
    "version": 3
   },
   "file_extension": ".py",
   "mimetype": "text/x-python",
   "name": "python",
   "nbconvert_exporter": "python",
   "pygments_lexer": "ipython3",
   "version": "3.5.2"
  }
 },
 "nbformat": 4,
 "nbformat_minor": 2
}
