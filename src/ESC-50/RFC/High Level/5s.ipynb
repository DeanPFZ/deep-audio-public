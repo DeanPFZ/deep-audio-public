{
 "cells": [
  {
   "cell_type": "code",
   "execution_count": 1,
   "metadata": {},
   "outputs": [
    {
     "name": "stderr",
     "output_type": "stream",
     "text": [
      "Using TensorFlow backend.\n"
     ]
    },
    {
     "name": "stdout",
     "output_type": "stream",
     "text": [
      "WARNING:tensorflow:From /usr/local/lib/python3.5/dist-packages/magenta/models/nsynth/wavenet/masked.py:115: UniformUnitScaling.__init__ (from tensorflow.python.ops.init_ops) is deprecated and will be removed in a future version.\n",
      "Instructions for updating:\n",
      "Use tf.initializers.variance_scaling instead with distribution=uniform to get equivalent behavior.\n"
     ]
    },
    {
     "name": "stderr",
     "output_type": "stream",
     "text": [
      "/usr/lib/python3.5/importlib/_bootstrap.py:222: RuntimeWarning: numpy.dtype size changed, may indicate binary incompatibility. Expected 96, got 88\n",
      "  return f(*args, **kwds)\n",
      "/usr/lib/python3.5/importlib/_bootstrap.py:222: RuntimeWarning: numpy.dtype size changed, may indicate binary incompatibility. Expected 96, got 88\n",
      "  return f(*args, **kwds)\n",
      "/usr/lib/python3.5/importlib/_bootstrap.py:222: RuntimeWarning: numpy.dtype size changed, may indicate binary incompatibility. Expected 96, got 88\n",
      "  return f(*args, **kwds)\n",
      "/usr/lib/python3.5/importlib/_bootstrap.py:222: RuntimeWarning: numpy.dtype size changed, may indicate binary incompatibility. Expected 96, got 88\n",
      "  return f(*args, **kwds)\n",
      "/usr/lib/python3.5/importlib/_bootstrap.py:222: RuntimeWarning: numpy.dtype size changed, may indicate binary incompatibility. Expected 96, got 88\n",
      "  return f(*args, **kwds)\n"
     ]
    }
   ],
   "source": [
    "import sys\n",
    "sys.path.insert(0, '../../../')\n",
    "\n",
    "import pandas as pd\n",
    "from preprocess import Audio_Processor\n",
    "from data_utils import balanced_supersample, balanced_subsample\n",
    "from sklearn import metrics\n",
    "from classification_plots import plot_confusion_matrix, plot_learning_curve\n",
    "import matplotlib.pyplot as plt\n",
    "import os\n",
    "import numpy as np\n",
    "from data_utils import enumerate_strings\n",
    "from sklearn.ensemble import RandomForestClassifier\n",
    "from sklearn.pipeline import Pipeline"
   ]
  },
  {
   "cell_type": "code",
   "execution_count": 2,
   "metadata": {},
   "outputs": [],
   "source": [
    "# Able to specify which GPU to use\n",
    "os.environ[\"CUDA_VISIBLE_DEVICES\"]=\"1\"\n",
    "\n",
    "SR = 16000\n",
    "blocksize = int(SR * 5)\n",
    "overlap = int(0)"
   ]
  },
  {
   "cell_type": "code",
   "execution_count": 3,
   "metadata": {},
   "outputs": [],
   "source": [
    "import warnings\n",
    "warnings.filterwarnings('ignore')"
   ]
  },
  {
   "cell_type": "markdown",
   "metadata": {},
   "source": [
    "# Setup"
   ]
  },
  {
   "cell_type": "code",
   "execution_count": 4,
   "metadata": {},
   "outputs": [],
   "source": [
    "path_to_db='../../../../ESC-50/'\n",
    "ps = Audio_Processor(path_to_db + 'audio/', sr=SR)\n",
    "dataset = pd.read_csv(path_to_db + 'meta/esc50.csv')\n",
    "classes = [None] * 50\n",
    "h_classes = ['Human & Animal', 'Interacting Materials']\n",
    "mapping = {\n",
    "    'dog': 0,\n",
    "    'rooster': 0,\n",
    "    'pig': 0,\n",
    "    'cow': 0,\n",
    "    'frog': 0,\n",
    "    'cat': 0,\n",
    "    'hen': 0,\n",
    "    'insects': 0,\n",
    "    'sheep': 0,\n",
    "    'crow': 0,\n",
    "    'rain': 1,\n",
    "    'sea_waves': 1,\n",
    "    'crackling_fire': 1,\n",
    "    'crickets': 0,\n",
    "    'chirping_birds': 0,\n",
    "    'water_drops': 1,\n",
    "    'wind': 1,\n",
    "    'pouring_water': 1,\n",
    "    'toilet_flush': 1,\n",
    "    'thunderstorm': 1,\n",
    "    'crying_baby': 0,\n",
    "    'sneezing': 0,\n",
    "    'clapping': 1,\n",
    "    'breathing': 0,\n",
    "    'coughing': 0,\n",
    "    'footsteps': 1,\n",
    "    'laughing': 0,\n",
    "    'brushing_teeth': 1,\n",
    "    'snoring': 0,\n",
    "    'drinking_sipping': 1,\n",
    "    'door_wood_knock': 1,\n",
    "    'mouse_click': 1,\n",
    "    'keyboard_typing': 1,\n",
    "    'door_wood_creaks': 1,\n",
    "    'can_opening': 1,\n",
    "    'washing_machine': 1,\n",
    "    'vacuum_cleaner': 1,\n",
    "    'clock_alarm': 1,\n",
    "    'clock_tick': 1,\n",
    "    'glass_breaking':1,\n",
    "    'helicopter': 1,\n",
    "    'chainsaw': 1,\n",
    "    'siren': 1,\n",
    "    'car_horn': 1,\n",
    "    'engine': 1,\n",
    "    'train': 1,\n",
    "    'church_bells': 1,\n",
    "    'airplane': 1,\n",
    "    'fireworks': 1,\n",
    "    'hand_saw': 1,\n",
    "}\n",
    "dataset['h_target'] = None\n",
    "for index, row in dataset.iterrows():\n",
    "    target = row['target']\n",
    "    classes[target] = row['category']\n",
    "    dataset.loc[index, 'h_target'] = mapping[row['category']]"
   ]
  },
  {
   "cell_type": "markdown",
   "metadata": {},
   "source": [
    "## Getting Preprocessed Data\n",
    "We allow for previously preprocessed data to be retrieved for faster training turnaround. If the fold has been preprocessed, it is loaded but if not it is processed and saved."
   ]
  },
  {
   "cell_type": "code",
   "execution_count": 5,
   "metadata": {},
   "outputs": [],
   "source": [
    "df = ps.preprocess_fold(dataset, \n",
    "                        kind='mfcc', \n",
    "                        blocksize=blocksize, \n",
    "                        overlap=overlap,\n",
    "                        folds=10,\n",
    "                        random_state=42\n",
    "                       )"
   ]
  },
  {
   "cell_type": "code",
   "execution_count": 6,
   "metadata": {},
   "outputs": [
    {
     "data": {
      "text/html": [
       "<div>\n",
       "<style scoped>\n",
       "    .dataframe tbody tr th:only-of-type {\n",
       "        vertical-align: middle;\n",
       "    }\n",
       "\n",
       "    .dataframe tbody tr th {\n",
       "        vertical-align: top;\n",
       "    }\n",
       "\n",
       "    .dataframe thead th {\n",
       "        text-align: right;\n",
       "    }\n",
       "</style>\n",
       "<table border=\"1\" class=\"dataframe\">\n",
       "  <thead>\n",
       "    <tr style=\"text-align: right;\">\n",
       "      <th></th>\n",
       "      <th>mfcc_2_std</th>\n",
       "      <th>mfcc_2_mean</th>\n",
       "      <th>mfcc_2_noise</th>\n",
       "      <th>mfcc_3_std</th>\n",
       "      <th>mfcc_3_mean</th>\n",
       "      <th>mfcc_3_noise</th>\n",
       "      <th>mfcc_4_std</th>\n",
       "      <th>mfcc_4_mean</th>\n",
       "      <th>mfcc_4_noise</th>\n",
       "      <th>mfcc_5_std</th>\n",
       "      <th>...</th>\n",
       "      <th>sflat_noise</th>\n",
       "      <th>sroll_std</th>\n",
       "      <th>sroll_mean</th>\n",
       "      <th>sroll_noise</th>\n",
       "      <th>rmse_std</th>\n",
       "      <th>rmse_mean</th>\n",
       "      <th>rmse_noise</th>\n",
       "      <th>h_target</th>\n",
       "      <th>target</th>\n",
       "      <th>fold</th>\n",
       "    </tr>\n",
       "  </thead>\n",
       "  <tbody>\n",
       "    <tr>\n",
       "      <th>count</th>\n",
       "      <td>11821.000000</td>\n",
       "      <td>11821.000000</td>\n",
       "      <td>11821.000000</td>\n",
       "      <td>11821.000000</td>\n",
       "      <td>11821.000000</td>\n",
       "      <td>11821.000000</td>\n",
       "      <td>11821.000000</td>\n",
       "      <td>11821.000000</td>\n",
       "      <td>11821.000000</td>\n",
       "      <td>11821.000000</td>\n",
       "      <td>...</td>\n",
       "      <td>1.182100e+04</td>\n",
       "      <td>1.182100e+04</td>\n",
       "      <td>11821.000000</td>\n",
       "      <td>11821.000000</td>\n",
       "      <td>11821.000000</td>\n",
       "      <td>11821.000000</td>\n",
       "      <td>11821.000000</td>\n",
       "      <td>11821.000000</td>\n",
       "      <td>11821.000000</td>\n",
       "      <td>11821.000000</td>\n",
       "    </tr>\n",
       "    <tr>\n",
       "      <th>mean</th>\n",
       "      <td>28.655993</td>\n",
       "      <td>19.115341</td>\n",
       "      <td>14.227390</td>\n",
       "      <td>11.949877</td>\n",
       "      <td>9.835844</td>\n",
       "      <td>9.485634</td>\n",
       "      <td>9.144273</td>\n",
       "      <td>8.894551</td>\n",
       "      <td>8.779789</td>\n",
       "      <td>8.439329</td>\n",
       "      <td>...</td>\n",
       "      <td>-3.430151e-02</td>\n",
       "      <td>-3.480754e-02</td>\n",
       "      <td>39.789906</td>\n",
       "      <td>52.707741</td>\n",
       "      <td>14.162071</td>\n",
       "      <td>48.103849</td>\n",
       "      <td>1.331862</td>\n",
       "      <td>0.617207</td>\n",
       "      <td>23.399459</td>\n",
       "      <td>5.348109</td>\n",
       "    </tr>\n",
       "    <tr>\n",
       "      <th>std</th>\n",
       "      <td>23.411618</td>\n",
       "      <td>13.656164</td>\n",
       "      <td>11.803839</td>\n",
       "      <td>10.163034</td>\n",
       "      <td>9.572741</td>\n",
       "      <td>9.674578</td>\n",
       "      <td>9.534682</td>\n",
       "      <td>9.698703</td>\n",
       "      <td>9.685500</td>\n",
       "      <td>9.489621</td>\n",
       "      <td>...</td>\n",
       "      <td>4.418579e-02</td>\n",
       "      <td>4.282807e-02</td>\n",
       "      <td>316.353855</td>\n",
       "      <td>239.750324</td>\n",
       "      <td>75.572695</td>\n",
       "      <td>59.199809</td>\n",
       "      <td>2.764976</td>\n",
       "      <td>0.486089</td>\n",
       "      <td>12.876433</td>\n",
       "      <td>2.862094</td>\n",
       "    </tr>\n",
       "    <tr>\n",
       "      <th>min</th>\n",
       "      <td>0.003811</td>\n",
       "      <td>0.013764</td>\n",
       "      <td>0.005745</td>\n",
       "      <td>0.011357</td>\n",
       "      <td>0.007654</td>\n",
       "      <td>0.009210</td>\n",
       "      <td>0.006036</td>\n",
       "      <td>0.009025</td>\n",
       "      <td>0.001769</td>\n",
       "      <td>0.007476</td>\n",
       "      <td>...</td>\n",
       "      <td>-1.793470e-01</td>\n",
       "      <td>-1.797861e-01</td>\n",
       "      <td>4.879249</td>\n",
       "      <td>8.290693</td>\n",
       "      <td>1.165339</td>\n",
       "      <td>0.000000</td>\n",
       "      <td>0.145732</td>\n",
       "      <td>0.000000</td>\n",
       "      <td>0.000000</td>\n",
       "      <td>1.000000</td>\n",
       "    </tr>\n",
       "    <tr>\n",
       "      <th>25%</th>\n",
       "      <td>15.531070</td>\n",
       "      <td>11.377153</td>\n",
       "      <td>8.803277</td>\n",
       "      <td>6.962515</td>\n",
       "      <td>4.825166</td>\n",
       "      <td>4.336050</td>\n",
       "      <td>3.955340</td>\n",
       "      <td>3.649764</td>\n",
       "      <td>3.462431</td>\n",
       "      <td>3.154143</td>\n",
       "      <td>...</td>\n",
       "      <td>-6.804675e-02</td>\n",
       "      <td>-6.828210e-02</td>\n",
       "      <td>18.763330</td>\n",
       "      <td>27.808440</td>\n",
       "      <td>5.240043</td>\n",
       "      <td>25.765270</td>\n",
       "      <td>0.429783</td>\n",
       "      <td>0.000000</td>\n",
       "      <td>13.000000</td>\n",
       "      <td>3.000000</td>\n",
       "    </tr>\n",
       "    <tr>\n",
       "      <th>50%</th>\n",
       "      <td>23.440442</td>\n",
       "      <td>15.822490</td>\n",
       "      <td>11.278696</td>\n",
       "      <td>9.869603</td>\n",
       "      <td>8.932998</td>\n",
       "      <td>8.795495</td>\n",
       "      <td>8.634122</td>\n",
       "      <td>8.495180</td>\n",
       "      <td>8.404820</td>\n",
       "      <td>8.270358</td>\n",
       "      <td>...</td>\n",
       "      <td>-2.485263e-02</td>\n",
       "      <td>-2.576368e-02</td>\n",
       "      <td>26.584151</td>\n",
       "      <td>37.367031</td>\n",
       "      <td>9.239617</td>\n",
       "      <td>36.424840</td>\n",
       "      <td>0.618482</td>\n",
       "      <td>1.000000</td>\n",
       "      <td>25.000000</td>\n",
       "      <td>5.000000</td>\n",
       "    </tr>\n",
       "    <tr>\n",
       "      <th>75%</th>\n",
       "      <td>32.353484</td>\n",
       "      <td>21.465882</td>\n",
       "      <td>14.819164</td>\n",
       "      <td>12.330436</td>\n",
       "      <td>10.110731</td>\n",
       "      <td>9.861040</td>\n",
       "      <td>9.657267</td>\n",
       "      <td>9.398852</td>\n",
       "      <td>9.347884</td>\n",
       "      <td>9.119362</td>\n",
       "      <td>...</td>\n",
       "      <td>1.835141e-10</td>\n",
       "      <td>2.154175e-11</td>\n",
       "      <td>38.178672</td>\n",
       "      <td>51.800105</td>\n",
       "      <td>14.037533</td>\n",
       "      <td>54.294063</td>\n",
       "      <td>1.142522</td>\n",
       "      <td>1.000000</td>\n",
       "      <td>32.000000</td>\n",
       "      <td>8.000000</td>\n",
       "    </tr>\n",
       "    <tr>\n",
       "      <th>max</th>\n",
       "      <td>202.348903</td>\n",
       "      <td>113.774744</td>\n",
       "      <td>93.795679</td>\n",
       "      <td>78.764452</td>\n",
       "      <td>75.227919</td>\n",
       "      <td>79.348655</td>\n",
       "      <td>83.762159</td>\n",
       "      <td>96.108132</td>\n",
       "      <td>107.393085</td>\n",
       "      <td>105.205714</td>\n",
       "      <td>...</td>\n",
       "      <td>1.246974e-01</td>\n",
       "      <td>1.211130e-01</td>\n",
       "      <td>29973.855098</td>\n",
       "      <td>14851.131616</td>\n",
       "      <td>5582.087388</td>\n",
       "      <td>1913.831257</td>\n",
       "      <td>78.533247</td>\n",
       "      <td>1.000000</td>\n",
       "      <td>49.000000</td>\n",
       "      <td>10.000000</td>\n",
       "    </tr>\n",
       "  </tbody>\n",
       "</table>\n",
       "<p>8 rows × 132 columns</p>\n",
       "</div>"
      ],
      "text/plain": [
       "         mfcc_2_std   mfcc_2_mean  mfcc_2_noise    mfcc_3_std   mfcc_3_mean  \\\n",
       "count  11821.000000  11821.000000  11821.000000  11821.000000  11821.000000   \n",
       "mean      28.655993     19.115341     14.227390     11.949877      9.835844   \n",
       "std       23.411618     13.656164     11.803839     10.163034      9.572741   \n",
       "min        0.003811      0.013764      0.005745      0.011357      0.007654   \n",
       "25%       15.531070     11.377153      8.803277      6.962515      4.825166   \n",
       "50%       23.440442     15.822490     11.278696      9.869603      8.932998   \n",
       "75%       32.353484     21.465882     14.819164     12.330436     10.110731   \n",
       "max      202.348903    113.774744     93.795679     78.764452     75.227919   \n",
       "\n",
       "       mfcc_3_noise    mfcc_4_std   mfcc_4_mean  mfcc_4_noise    mfcc_5_std  \\\n",
       "count  11821.000000  11821.000000  11821.000000  11821.000000  11821.000000   \n",
       "mean       9.485634      9.144273      8.894551      8.779789      8.439329   \n",
       "std        9.674578      9.534682      9.698703      9.685500      9.489621   \n",
       "min        0.009210      0.006036      0.009025      0.001769      0.007476   \n",
       "25%        4.336050      3.955340      3.649764      3.462431      3.154143   \n",
       "50%        8.795495      8.634122      8.495180      8.404820      8.270358   \n",
       "75%        9.861040      9.657267      9.398852      9.347884      9.119362   \n",
       "max       79.348655     83.762159     96.108132    107.393085    105.205714   \n",
       "\n",
       "           ...        sflat_noise     sroll_std    sroll_mean   sroll_noise  \\\n",
       "count      ...       1.182100e+04  1.182100e+04  11821.000000  11821.000000   \n",
       "mean       ...      -3.430151e-02 -3.480754e-02     39.789906     52.707741   \n",
       "std        ...       4.418579e-02  4.282807e-02    316.353855    239.750324   \n",
       "min        ...      -1.793470e-01 -1.797861e-01      4.879249      8.290693   \n",
       "25%        ...      -6.804675e-02 -6.828210e-02     18.763330     27.808440   \n",
       "50%        ...      -2.485263e-02 -2.576368e-02     26.584151     37.367031   \n",
       "75%        ...       1.835141e-10  2.154175e-11     38.178672     51.800105   \n",
       "max        ...       1.246974e-01  1.211130e-01  29973.855098  14851.131616   \n",
       "\n",
       "           rmse_std     rmse_mean    rmse_noise      h_target        target  \\\n",
       "count  11821.000000  11821.000000  11821.000000  11821.000000  11821.000000   \n",
       "mean      14.162071     48.103849      1.331862      0.617207     23.399459   \n",
       "std       75.572695     59.199809      2.764976      0.486089     12.876433   \n",
       "min        1.165339      0.000000      0.145732      0.000000      0.000000   \n",
       "25%        5.240043     25.765270      0.429783      0.000000     13.000000   \n",
       "50%        9.239617     36.424840      0.618482      1.000000     25.000000   \n",
       "75%       14.037533     54.294063      1.142522      1.000000     32.000000   \n",
       "max     5582.087388   1913.831257     78.533247      1.000000     49.000000   \n",
       "\n",
       "               fold  \n",
       "count  11821.000000  \n",
       "mean       5.348109  \n",
       "std        2.862094  \n",
       "min        1.000000  \n",
       "25%        3.000000  \n",
       "50%        5.000000  \n",
       "75%        8.000000  \n",
       "max       10.000000  \n",
       "\n",
       "[8 rows x 132 columns]"
      ]
     },
     "execution_count": 6,
     "metadata": {},
     "output_type": "execute_result"
    }
   ],
   "source": [
    "df.describe()"
   ]
  },
  {
   "cell_type": "code",
   "execution_count": 7,
   "metadata": {},
   "outputs": [
    {
     "data": {
      "text/html": [
       "<div>\n",
       "<style scoped>\n",
       "    .dataframe tbody tr th:only-of-type {\n",
       "        vertical-align: middle;\n",
       "    }\n",
       "\n",
       "    .dataframe tbody tr th {\n",
       "        vertical-align: top;\n",
       "    }\n",
       "\n",
       "    .dataframe thead th {\n",
       "        text-align: right;\n",
       "    }\n",
       "</style>\n",
       "<table border=\"1\" class=\"dataframe\">\n",
       "  <thead>\n",
       "    <tr style=\"text-align: right;\">\n",
       "      <th></th>\n",
       "      <th>mfcc_2_std</th>\n",
       "      <th>mfcc_2_mean</th>\n",
       "      <th>mfcc_2_noise</th>\n",
       "      <th>mfcc_3_std</th>\n",
       "      <th>mfcc_3_mean</th>\n",
       "      <th>mfcc_3_noise</th>\n",
       "      <th>mfcc_4_std</th>\n",
       "      <th>mfcc_4_mean</th>\n",
       "      <th>mfcc_4_noise</th>\n",
       "      <th>mfcc_5_std</th>\n",
       "      <th>...</th>\n",
       "      <th>sflat_noise</th>\n",
       "      <th>sroll_std</th>\n",
       "      <th>sroll_mean</th>\n",
       "      <th>sroll_noise</th>\n",
       "      <th>rmse_std</th>\n",
       "      <th>rmse_mean</th>\n",
       "      <th>rmse_noise</th>\n",
       "      <th>h_target</th>\n",
       "      <th>target</th>\n",
       "      <th>fold</th>\n",
       "    </tr>\n",
       "  </thead>\n",
       "  <tbody>\n",
       "    <tr>\n",
       "      <th>0</th>\n",
       "      <td>22.730479</td>\n",
       "      <td>11.520539</td>\n",
       "      <td>12.253581</td>\n",
       "      <td>10.212196</td>\n",
       "      <td>9.030011</td>\n",
       "      <td>8.739443</td>\n",
       "      <td>9.150218</td>\n",
       "      <td>8.880555</td>\n",
       "      <td>8.452500</td>\n",
       "      <td>8.334573</td>\n",
       "      <td>...</td>\n",
       "      <td>-0.166683</td>\n",
       "      <td>-0.098328</td>\n",
       "      <td>26.219456</td>\n",
       "      <td>48.082157</td>\n",
       "      <td>12.366428</td>\n",
       "      <td>38.334700</td>\n",
       "      <td>0.507233</td>\n",
       "      <td>0</td>\n",
       "      <td>0</td>\n",
       "      <td>6</td>\n",
       "    </tr>\n",
       "    <tr>\n",
       "      <th>1</th>\n",
       "      <td>64.003793</td>\n",
       "      <td>80.795260</td>\n",
       "      <td>48.198139</td>\n",
       "      <td>45.147334</td>\n",
       "      <td>52.268596</td>\n",
       "      <td>61.620040</td>\n",
       "      <td>67.565491</td>\n",
       "      <td>56.829182</td>\n",
       "      <td>58.988494</td>\n",
       "      <td>52.193907</td>\n",
       "      <td>...</td>\n",
       "      <td>0.036883</td>\n",
       "      <td>-0.030368</td>\n",
       "      <td>14.956899</td>\n",
       "      <td>16.258644</td>\n",
       "      <td>4.879466</td>\n",
       "      <td>20.019389</td>\n",
       "      <td>6.365389</td>\n",
       "      <td>0</td>\n",
       "      <td>14</td>\n",
       "      <td>9</td>\n",
       "    </tr>\n",
       "    <tr>\n",
       "      <th>2</th>\n",
       "      <td>91.373566</td>\n",
       "      <td>61.690092</td>\n",
       "      <td>58.582459</td>\n",
       "      <td>47.228346</td>\n",
       "      <td>47.274736</td>\n",
       "      <td>46.426917</td>\n",
       "      <td>43.962362</td>\n",
       "      <td>41.420272</td>\n",
       "      <td>40.828519</td>\n",
       "      <td>42.701780</td>\n",
       "      <td>...</td>\n",
       "      <td>-0.033933</td>\n",
       "      <td>0.042031</td>\n",
       "      <td>10.628136</td>\n",
       "      <td>20.016415</td>\n",
       "      <td>4.389970</td>\n",
       "      <td>15.713339</td>\n",
       "      <td>3.355069</td>\n",
       "      <td>1</td>\n",
       "      <td>36</td>\n",
       "      <td>3</td>\n",
       "    </tr>\n",
       "    <tr>\n",
       "      <th>3</th>\n",
       "      <td>76.457328</td>\n",
       "      <td>61.713594</td>\n",
       "      <td>55.535733</td>\n",
       "      <td>45.361320</td>\n",
       "      <td>44.202866</td>\n",
       "      <td>45.188370</td>\n",
       "      <td>41.861242</td>\n",
       "      <td>40.734830</td>\n",
       "      <td>42.070456</td>\n",
       "      <td>45.359905</td>\n",
       "      <td>...</td>\n",
       "      <td>0.004314</td>\n",
       "      <td>-0.000106</td>\n",
       "      <td>11.680668</td>\n",
       "      <td>22.676710</td>\n",
       "      <td>4.365168</td>\n",
       "      <td>18.374868</td>\n",
       "      <td>4.289678</td>\n",
       "      <td>1</td>\n",
       "      <td>36</td>\n",
       "      <td>6</td>\n",
       "    </tr>\n",
       "    <tr>\n",
       "      <th>4</th>\n",
       "      <td>78.146667</td>\n",
       "      <td>61.344895</td>\n",
       "      <td>75.063524</td>\n",
       "      <td>45.483954</td>\n",
       "      <td>44.813375</td>\n",
       "      <td>43.982927</td>\n",
       "      <td>41.635170</td>\n",
       "      <td>38.359653</td>\n",
       "      <td>39.252493</td>\n",
       "      <td>40.490933</td>\n",
       "      <td>...</td>\n",
       "      <td>0.026272</td>\n",
       "      <td>-0.014902</td>\n",
       "      <td>12.457344</td>\n",
       "      <td>17.988716</td>\n",
       "      <td>2.949997</td>\n",
       "      <td>18.285330</td>\n",
       "      <td>3.344113</td>\n",
       "      <td>1</td>\n",
       "      <td>19</td>\n",
       "      <td>8</td>\n",
       "    </tr>\n",
       "  </tbody>\n",
       "</table>\n",
       "<p>5 rows × 132 columns</p>\n",
       "</div>"
      ],
      "text/plain": [
       "   mfcc_2_std  mfcc_2_mean  mfcc_2_noise  mfcc_3_std  mfcc_3_mean  \\\n",
       "0   22.730479    11.520539     12.253581   10.212196     9.030011   \n",
       "1   64.003793    80.795260     48.198139   45.147334    52.268596   \n",
       "2   91.373566    61.690092     58.582459   47.228346    47.274736   \n",
       "3   76.457328    61.713594     55.535733   45.361320    44.202866   \n",
       "4   78.146667    61.344895     75.063524   45.483954    44.813375   \n",
       "\n",
       "   mfcc_3_noise  mfcc_4_std  mfcc_4_mean  mfcc_4_noise  mfcc_5_std  ...   \\\n",
       "0      8.739443    9.150218     8.880555      8.452500    8.334573  ...    \n",
       "1     61.620040   67.565491    56.829182     58.988494   52.193907  ...    \n",
       "2     46.426917   43.962362    41.420272     40.828519   42.701780  ...    \n",
       "3     45.188370   41.861242    40.734830     42.070456   45.359905  ...    \n",
       "4     43.982927   41.635170    38.359653     39.252493   40.490933  ...    \n",
       "\n",
       "   sflat_noise  sroll_std  sroll_mean  sroll_noise   rmse_std  rmse_mean  \\\n",
       "0    -0.166683  -0.098328   26.219456    48.082157  12.366428  38.334700   \n",
       "1     0.036883  -0.030368   14.956899    16.258644   4.879466  20.019389   \n",
       "2    -0.033933   0.042031   10.628136    20.016415   4.389970  15.713339   \n",
       "3     0.004314  -0.000106   11.680668    22.676710   4.365168  18.374868   \n",
       "4     0.026272  -0.014902   12.457344    17.988716   2.949997  18.285330   \n",
       "\n",
       "   rmse_noise  h_target  target  fold  \n",
       "0    0.507233         0       0     6  \n",
       "1    6.365389         0      14     9  \n",
       "2    3.355069         1      36     3  \n",
       "3    4.289678         1      36     6  \n",
       "4    3.344113         1      19     8  \n",
       "\n",
       "[5 rows x 132 columns]"
      ]
     },
     "execution_count": 7,
     "metadata": {},
     "output_type": "execute_result"
    }
   ],
   "source": [
    "df.head()"
   ]
  },
  {
   "cell_type": "code",
   "execution_count": 8,
   "metadata": {},
   "outputs": [],
   "source": [
    "from sklearn.model_selection import train_test_split\n",
    "train, test, = train_test_split(\n",
    "                        df[df.fold != 1], test_size=0.20, random_state=42)"
   ]
  },
  {
   "cell_type": "code",
   "execution_count": 9,
   "metadata": {},
   "outputs": [],
   "source": [
    "X = (df[df.fold != 1]).drop(['target', 'h_target', 'fold'], axis=1)\n",
    "y = (df[df.fold != 1])['h_target']"
   ]
  },
  {
   "cell_type": "code",
   "execution_count": 10,
   "metadata": {},
   "outputs": [],
   "source": [
    "X, y = balanced_supersample(X, y)"
   ]
  },
  {
   "cell_type": "markdown",
   "metadata": {},
   "source": [
    "# Training"
   ]
  },
  {
   "cell_type": "code",
   "execution_count": 11,
   "metadata": {},
   "outputs": [
    {
     "name": "stdout",
     "output_type": "stream",
     "text": [
      "Fitting 10 folds for each of 100 candidates, totalling 1000 fits\n"
     ]
    },
    {
     "name": "stderr",
     "output_type": "stream",
     "text": [
      "[Parallel(n_jobs=-1)]: Using backend LokyBackend with 56 concurrent workers.\n",
      "[Parallel(n_jobs=-1)]: Done  50 tasks      | elapsed:   58.7s\n",
      "[Parallel(n_jobs=-1)]: Done 253 tasks      | elapsed:  4.8min\n",
      "[Parallel(n_jobs=-1)]: Done 536 tasks      | elapsed: 10.3min\n",
      "[Parallel(n_jobs=-1)]: Done 1000 out of 1000 | elapsed: 18.6min finished\n"
     ]
    },
    {
     "data": {
      "text/plain": [
       "RandomizedSearchCV(cv=10, error_score='raise-deprecating',\n",
       "          estimator=Pipeline(memory=None,\n",
       "     steps=[('scaler', MinMaxScaler(copy=True, feature_range=(0, 1))), ('classify', RandomForestClassifier(bootstrap=True, class_weight=None, criterion='gini',\n",
       "            max_depth=None, max_features='auto', max_leaf_nodes=None,\n",
       "            min_impurity_decrease=0.0,...ors='warn', n_jobs=-1,\n",
       "            oob_score=False, random_state=42, verbose=0, warm_start=False))]),\n",
       "          fit_params=None, iid='warn', n_iter=100, n_jobs=-1,\n",
       "          param_distributions={'classify__max_depth': range(132, 660), 'classify__criterion': ('gini', 'entropy'), 'classify__warm_start': (True, False), 'classify__n_estimators': range(5, 100), 'classify__oob_score': (True, False), 'classify__max_features': ('log2', 'auto', None)},\n",
       "          pre_dispatch='2*n_jobs', random_state=None, refit=False,\n",
       "          return_train_score='warn',\n",
       "          scoring=['accuracy', 'f1', 'recall', 'precision', 'roc_auc'],\n",
       "          verbose=2)"
      ]
     },
     "execution_count": 11,
     "metadata": {},
     "output_type": "execute_result"
    }
   ],
   "source": [
    "from sklearn.model_selection import RandomizedSearchCV\n",
    "from sklearn.decomposition import PCA\n",
    "from sklearn.discriminant_analysis import LinearDiscriminantAnalysis\n",
    "from sklearn.feature_selection import SelectKBest, chi2, mutual_info_regression\n",
    "from sklearn.preprocessing import MinMaxScaler\n",
    "from sklearn.pipeline import Pipeline\n",
    "import scipy\n",
    "\n",
    "params = {\n",
    "    'classify__n_estimators': range(5,100,1),\n",
    "    'classify__criterion': ('gini', 'entropy'),\n",
    "    'classify__max_depth': range(len(df.columns), 5 * len(df.columns)),\n",
    "    'classify__max_features': ('log2', 'auto', None),\n",
    "    'classify__oob_score': (True, False),\n",
    "    'classify__warm_start': (True, False)\n",
    "}\n",
    "\n",
    "clf = Pipeline([\n",
    "    ('scaler',MinMaxScaler()),\n",
    "    ('classify', RandomForestClassifier(n_jobs=-1, random_state=42))\n",
    "])\n",
    "randsrc = RandomizedSearchCV(\n",
    "                clf,\n",
    "                scoring=['accuracy', 'f1', 'recall', 'precision', 'roc_auc'], \n",
    "                cv=10,\n",
    "                refit=False,\n",
    "                param_distributions = params,\n",
    "                verbose=2,\n",
    "                n_jobs=-1,\n",
    "                n_iter=100\n",
    ")\n",
    "\n",
    "randsrc.fit(X, y)"
   ]
  },
  {
   "cell_type": "code",
   "execution_count": 12,
   "metadata": {},
   "outputs": [],
   "source": [
    "results = pd.DataFrame(randsrc.cv_results_)"
   ]
  },
  {
   "cell_type": "code",
   "execution_count": 13,
   "metadata": {},
   "outputs": [],
   "source": [
    "top = results.sort_values(['mean_test_roc_auc', 'mean_fit_time'], ascending=[False, True]).iloc[0]"
   ]
  },
  {
   "cell_type": "code",
   "execution_count": 14,
   "metadata": {},
   "outputs": [
    {
     "data": {
      "text/plain": [
       "{'classify__criterion': 'entropy',\n",
       " 'classify__max_depth': 185,\n",
       " 'classify__max_features': 'auto',\n",
       " 'classify__n_estimators': 97,\n",
       " 'classify__oob_score': True,\n",
       " 'classify__warm_start': True}"
      ]
     },
     "execution_count": 14,
     "metadata": {},
     "output_type": "execute_result"
    }
   ],
   "source": [
    "top.params"
   ]
  },
  {
   "cell_type": "code",
   "execution_count": 15,
   "metadata": {},
   "outputs": [
    {
     "data": {
      "text/plain": [
       "Pipeline(memory=None,\n",
       "     steps=[('scaler', MinMaxScaler(copy=True, feature_range=(0, 1))), ('classify', RandomForestClassifier(bootstrap=True, class_weight=None, criterion='entropy',\n",
       "            max_depth=185, max_features='auto', max_leaf_nodes=None,\n",
       "            min_impurity_decrease=0.0, min_impurity_split=None,\n",
       "            min_samples_leaf=1, min_samples_split=2,\n",
       "            min_weight_fraction_leaf=0.0, n_estimators=97, n_jobs=-1,\n",
       "            oob_score=True, random_state=42, verbose=0, warm_start=True))])"
      ]
     },
     "execution_count": 15,
     "metadata": {},
     "output_type": "execute_result"
    }
   ],
   "source": [
    "clf.set_params(**top.params)"
   ]
  },
  {
   "cell_type": "markdown",
   "metadata": {},
   "source": [
    "# Testing Optimal Classifier"
   ]
  },
  {
   "cell_type": "markdown",
   "metadata": {},
   "source": [
    "### Training"
   ]
  },
  {
   "cell_type": "code",
   "execution_count": 16,
   "metadata": {},
   "outputs": [],
   "source": [
    "from sklearn.model_selection import train_test_split\n",
    "train, test, = train_test_split(\n",
    "                        df[df.fold != 1], test_size=0.20, random_state=42)"
   ]
  },
  {
   "cell_type": "code",
   "execution_count": 17,
   "metadata": {},
   "outputs": [],
   "source": [
    "train_X = train.drop(['target', 'h_target', 'fold'], axis=1)\n",
    "train_y = train['h_target']\n",
    "train_X, train_y = balanced_supersample(train_X, train_y)\n",
    "test_X = test.drop(['target', 'h_target', 'fold'], axis=1)\n",
    "test_y = test['h_target']"
   ]
  },
  {
   "cell_type": "code",
   "execution_count": 18,
   "metadata": {},
   "outputs": [
    {
     "data": {
      "text/plain": [
       "Pipeline(memory=None,\n",
       "     steps=[('scaler', MinMaxScaler(copy=True, feature_range=(0, 1))), ('classify', RandomForestClassifier(bootstrap=True, class_weight=None, criterion='entropy',\n",
       "            max_depth=185, max_features='auto', max_leaf_nodes=None,\n",
       "            min_impurity_decrease=0.0, min_impurity_split=None,\n",
       "            min_samples_leaf=1, min_samples_split=2,\n",
       "            min_weight_fraction_leaf=0.0, n_estimators=97, n_jobs=-1,\n",
       "            oob_score=True, random_state=42, verbose=0, warm_start=True))])"
      ]
     },
     "execution_count": 18,
     "metadata": {},
     "output_type": "execute_result"
    }
   ],
   "source": [
    "clf.fit(train_X, train_y)"
   ]
  },
  {
   "cell_type": "code",
   "execution_count": 19,
   "metadata": {},
   "outputs": [
    {
     "name": "stdout",
     "output_type": "stream",
     "text": [
      "0.7209414024975984\n",
      "Confusion matrix, without normalization\n",
      "[[ 465  310]\n",
      " [ 271 1036]]\n"
     ]
    },
    {
     "data": {
      "image/png": "[encoded data removed]",
      "text/plain": [
       "<Figure size 720x720 with 2 Axes>"
      ]
     },
     "metadata": {
      "needs_background": "light"
     },
     "output_type": "display_data"
    }
   ],
   "source": [
    "pred = clf.predict(test_X)\n",
    "print(metrics.accuracy_score(test_y, pred))\n",
    "cm = metrics.confusion_matrix(test_y, pred)\n",
    "plt.figure(figsize=(10,10))\n",
    "plot_confusion_matrix(cm, h_classes)\n",
    "plt.show()"
   ]
  },
  {
   "cell_type": "markdown",
   "metadata": {},
   "source": [
    "### Testing"
   ]
  },
  {
   "cell_type": "code",
   "execution_count": 20,
   "metadata": {},
   "outputs": [],
   "source": [
    "all_df = df[df.fold == 1]"
   ]
  },
  {
   "cell_type": "code",
   "execution_count": 21,
   "metadata": {},
   "outputs": [],
   "source": [
    "X = all_df.drop(['target', 'h_target', 'fold'], axis=1)\n",
    "y = all_df['h_target']"
   ]
  },
  {
   "cell_type": "code",
   "execution_count": 22,
   "metadata": {},
   "outputs": [
    {
     "name": "stdout",
     "output_type": "stream",
     "text": [
      "0.6413890857547838\n",
      "Confusion matrix, without normalization\n",
      "[[234 277]\n",
      " [229 671]]\n"
     ]
    },
    {
     "data": {
      "image/png": "[encoded data removed]",
      "text/plain": [
       "<Figure size 720x720 with 2 Axes>"
      ]
     },
     "metadata": {
      "needs_background": "light"
     },
     "output_type": "display_data"
    }
   ],
   "source": [
    "pred = clf.predict(X)\n",
    "pred_prob = clf.predict_proba(X)\n",
    "print(metrics.accuracy_score(y, pred))\n",
    "cm = metrics.confusion_matrix(y, pred)\n",
    "plt.figure(figsize=(10,10))\n",
    "plot_confusion_matrix(cm, h_classes)\n",
    "plt.show()"
   ]
  },
  {
   "cell_type": "markdown",
   "metadata": {},
   "source": [
    "### Confidence"
   ]
  },
  {
   "cell_type": "code",
   "execution_count": 23,
   "metadata": {
    "scrolled": true
   },
   "outputs": [
    {
     "data": {
      "text/html": [
       "<div>\n",
       "<style scoped>\n",
       "    .dataframe tbody tr th:only-of-type {\n",
       "        vertical-align: middle;\n",
       "    }\n",
       "\n",
       "    .dataframe tbody tr th {\n",
       "        vertical-align: top;\n",
       "    }\n",
       "\n",
       "    .dataframe thead th {\n",
       "        text-align: right;\n",
       "    }\n",
       "</style>\n",
       "<table border=\"1\" class=\"dataframe\">\n",
       "  <thead>\n",
       "    <tr style=\"text-align: right;\">\n",
       "      <th></th>\n",
       "      <th>Actual target</th>\n",
       "      <th>Anim_prob</th>\n",
       "      <th>Interact_prob</th>\n",
       "      <th>Predicted h_target</th>\n",
       "    </tr>\n",
       "  </thead>\n",
       "  <tbody>\n",
       "    <tr>\n",
       "      <th>0</th>\n",
       "      <td>sheep</td>\n",
       "      <td>0.412371</td>\n",
       "      <td>0.587629</td>\n",
       "      <td>Interacting Materials</td>\n",
       "    </tr>\n",
       "    <tr>\n",
       "      <th>1</th>\n",
       "      <td>sheep</td>\n",
       "      <td>0.298969</td>\n",
       "      <td>0.701031</td>\n",
       "      <td>Interacting Materials</td>\n",
       "    </tr>\n",
       "    <tr>\n",
       "      <th>2</th>\n",
       "      <td>sheep</td>\n",
       "      <td>0.463918</td>\n",
       "      <td>0.536082</td>\n",
       "      <td>Interacting Materials</td>\n",
       "    </tr>\n",
       "    <tr>\n",
       "      <th>3</th>\n",
       "      <td>sheep</td>\n",
       "      <td>0.402062</td>\n",
       "      <td>0.597938</td>\n",
       "      <td>Interacting Materials</td>\n",
       "    </tr>\n",
       "    <tr>\n",
       "      <th>4</th>\n",
       "      <td>sheep</td>\n",
       "      <td>0.484536</td>\n",
       "      <td>0.515464</td>\n",
       "      <td>Interacting Materials</td>\n",
       "    </tr>\n",
       "  </tbody>\n",
       "</table>\n",
       "</div>"
      ],
      "text/plain": [
       "  Actual target  Anim_prob  Interact_prob     Predicted h_target\n",
       "0         sheep   0.412371       0.587629  Interacting Materials\n",
       "1         sheep   0.298969       0.701031  Interacting Materials\n",
       "2         sheep   0.463918       0.536082  Interacting Materials\n",
       "3         sheep   0.402062       0.597938  Interacting Materials\n",
       "4         sheep   0.484536       0.515464  Interacting Materials"
      ]
     },
     "execution_count": 23,
     "metadata": {},
     "output_type": "execute_result"
    }
   ],
   "source": [
    "import seaborn as sns\n",
    "misclassified = {\n",
    "    'Predicted h_target': [],\n",
    "    'Actual target': [],\n",
    "    'Anim_prob': [],\n",
    "    'Interact_prob': []\n",
    "}\n",
    "for row, p, prob, Y in zip(all_df.iterrows(), pred, pred_prob, y):\n",
    "    Y = int(Y)\n",
    "    p = int(p)\n",
    "    if p!=Y:\n",
    "        misclassified['Actual target'].append(classes[int(row[1]['target'])])\n",
    "        misclassified['Predicted h_target'].append(h_classes[p])\n",
    "        misclassified['Anim_prob'].append(prob[0])\n",
    "        misclassified['Interact_prob'].append(prob[1])\n",
    "\n",
    "misclassified = pd.DataFrame.from_dict(misclassified)\n",
    "misclassified.head()"
   ]
  },
  {
   "cell_type": "code",
   "execution_count": 24,
   "metadata": {},
   "outputs": [],
   "source": [
    "gb_ms = misclassified.groupby('Predicted h_target')\n",
    "means = gb_ms.mean()\n",
    "errors = gb_ms.std()"
   ]
  },
  {
   "cell_type": "code",
   "execution_count": 25,
   "metadata": {},
   "outputs": [
    {
     "data": {
      "text/html": [
       "<div>\n",
       "<style scoped>\n",
       "    .dataframe tbody tr th:only-of-type {\n",
       "        vertical-align: middle;\n",
       "    }\n",
       "\n",
       "    .dataframe tbody tr th {\n",
       "        vertical-align: top;\n",
       "    }\n",
       "\n",
       "    .dataframe thead th {\n",
       "        text-align: right;\n",
       "    }\n",
       "</style>\n",
       "<table border=\"1\" class=\"dataframe\">\n",
       "  <thead>\n",
       "    <tr style=\"text-align: right;\">\n",
       "      <th></th>\n",
       "      <th>Anim_prob</th>\n",
       "      <th>Interact_prob</th>\n",
       "    </tr>\n",
       "    <tr>\n",
       "      <th>Predicted h_target</th>\n",
       "      <th></th>\n",
       "      <th></th>\n",
       "    </tr>\n",
       "  </thead>\n",
       "  <tbody>\n",
       "    <tr>\n",
       "      <th>Human &amp; Animal</th>\n",
       "      <td>0.600459</td>\n",
       "      <td>0.399541</td>\n",
       "    </tr>\n",
       "    <tr>\n",
       "      <th>Interacting Materials</th>\n",
       "      <td>0.347091</td>\n",
       "      <td>0.652909</td>\n",
       "    </tr>\n",
       "  </tbody>\n",
       "</table>\n",
       "</div>"
      ],
      "text/plain": [
       "                       Anim_prob  Interact_prob\n",
       "Predicted h_target                             \n",
       "Human & Animal          0.600459       0.399541\n",
       "Interacting Materials   0.347091       0.652909"
      ]
     },
     "execution_count": 25,
     "metadata": {},
     "output_type": "execute_result"
    }
   ],
   "source": [
    "means.head()"
   ]
  },
  {
   "cell_type": "code",
   "execution_count": 26,
   "metadata": {},
   "outputs": [
    {
     "data": {
      "text/html": [
       "<div>\n",
       "<style scoped>\n",
       "    .dataframe tbody tr th:only-of-type {\n",
       "        vertical-align: middle;\n",
       "    }\n",
       "\n",
       "    .dataframe tbody tr th {\n",
       "        vertical-align: top;\n",
       "    }\n",
       "\n",
       "    .dataframe thead th {\n",
       "        text-align: right;\n",
       "    }\n",
       "</style>\n",
       "<table border=\"1\" class=\"dataframe\">\n",
       "  <thead>\n",
       "    <tr style=\"text-align: right;\">\n",
       "      <th></th>\n",
       "      <th>Anim_prob</th>\n",
       "      <th>Interact_prob</th>\n",
       "    </tr>\n",
       "    <tr>\n",
       "      <th>Predicted h_target</th>\n",
       "      <th></th>\n",
       "      <th></th>\n",
       "    </tr>\n",
       "  </thead>\n",
       "  <tbody>\n",
       "    <tr>\n",
       "      <th>Human &amp; Animal</th>\n",
       "      <td>0.072075</td>\n",
       "      <td>0.072075</td>\n",
       "    </tr>\n",
       "    <tr>\n",
       "      <th>Interacting Materials</th>\n",
       "      <td>0.123480</td>\n",
       "      <td>0.123480</td>\n",
       "    </tr>\n",
       "  </tbody>\n",
       "</table>\n",
       "</div>"
      ],
      "text/plain": [
       "                       Anim_prob  Interact_prob\n",
       "Predicted h_target                             \n",
       "Human & Animal          0.072075       0.072075\n",
       "Interacting Materials   0.123480       0.123480"
      ]
     },
     "execution_count": 26,
     "metadata": {},
     "output_type": "execute_result"
    }
   ],
   "source": [
    "errors.head()"
   ]
  },
  {
   "cell_type": "code",
   "execution_count": 27,
   "metadata": {},
   "outputs": [
    {
     "data": {
      "text/plain": [
       "<matplotlib.axes._subplots.AxesSubplot at 0x7f2f813d31d0>"
      ]
     },
     "execution_count": 27,
     "metadata": {},
     "output_type": "execute_result"
    },
    {
     "data": {
      "image/png": "[encoded data removed]",
      "text/plain": [
       "<Figure size 432x288 with 1 Axes>"
      ]
     },
     "metadata": {
      "needs_background": "light"
     },
     "output_type": "display_data"
    }
   ],
   "source": [
    "means.min(axis=1).plot(yerr=errors, kind='bar')"
   ]
  },
  {
   "cell_type": "code",
   "execution_count": 28,
   "metadata": {},
   "outputs": [
    {
     "data": {
      "text/html": [
       "<div>\n",
       "<style scoped>\n",
       "    .dataframe tbody tr th:only-of-type {\n",
       "        vertical-align: middle;\n",
       "    }\n",
       "\n",
       "    .dataframe tbody tr th {\n",
       "        vertical-align: top;\n",
       "    }\n",
       "\n",
       "    .dataframe thead th {\n",
       "        text-align: right;\n",
       "    }\n",
       "</style>\n",
       "<table border=\"1\" class=\"dataframe\">\n",
       "  <thead>\n",
       "    <tr style=\"text-align: right;\">\n",
       "      <th></th>\n",
       "      <th>Anim_prob</th>\n",
       "      <th>Interact_prob</th>\n",
       "    </tr>\n",
       "    <tr>\n",
       "      <th>Actual target</th>\n",
       "      <th></th>\n",
       "      <th></th>\n",
       "    </tr>\n",
       "  </thead>\n",
       "  <tbody>\n",
       "    <tr>\n",
       "      <th>breathing</th>\n",
       "      <td>0.418099</td>\n",
       "      <td>0.581901</td>\n",
       "    </tr>\n",
       "    <tr>\n",
       "      <th>brushing_teeth</th>\n",
       "      <td>0.607181</td>\n",
       "      <td>0.392819</td>\n",
       "    </tr>\n",
       "    <tr>\n",
       "      <th>can_opening</th>\n",
       "      <td>0.539519</td>\n",
       "      <td>0.460481</td>\n",
       "    </tr>\n",
       "    <tr>\n",
       "      <th>car_horn</th>\n",
       "      <td>0.597938</td>\n",
       "      <td>0.402062</td>\n",
       "    </tr>\n",
       "    <tr>\n",
       "      <th>cat</th>\n",
       "      <td>0.402062</td>\n",
       "      <td>0.597938</td>\n",
       "    </tr>\n",
       "    <tr>\n",
       "      <th>chirping_birds</th>\n",
       "      <td>0.335052</td>\n",
       "      <td>0.664948</td>\n",
       "    </tr>\n",
       "    <tr>\n",
       "      <th>clapping</th>\n",
       "      <td>0.630339</td>\n",
       "      <td>0.369661</td>\n",
       "    </tr>\n",
       "    <tr>\n",
       "      <th>clock_tick</th>\n",
       "      <td>0.608247</td>\n",
       "      <td>0.391753</td>\n",
       "    </tr>\n",
       "    <tr>\n",
       "      <th>coughing</th>\n",
       "      <td>0.476804</td>\n",
       "      <td>0.523196</td>\n",
       "    </tr>\n",
       "    <tr>\n",
       "      <th>cow</th>\n",
       "      <td>0.372509</td>\n",
       "      <td>0.627491</td>\n",
       "    </tr>\n",
       "    <tr>\n",
       "      <th>crackling_fire</th>\n",
       "      <td>0.563144</td>\n",
       "      <td>0.436856</td>\n",
       "    </tr>\n",
       "    <tr>\n",
       "      <th>crickets</th>\n",
       "      <td>0.108387</td>\n",
       "      <td>0.891613</td>\n",
       "    </tr>\n",
       "    <tr>\n",
       "      <th>crying_baby</th>\n",
       "      <td>0.293814</td>\n",
       "      <td>0.706186</td>\n",
       "    </tr>\n",
       "    <tr>\n",
       "      <th>door_wood_creaks</th>\n",
       "      <td>0.596684</td>\n",
       "      <td>0.403316</td>\n",
       "    </tr>\n",
       "    <tr>\n",
       "      <th>drinking_sipping</th>\n",
       "      <td>0.610825</td>\n",
       "      <td>0.389175</td>\n",
       "    </tr>\n",
       "    <tr>\n",
       "      <th>engine</th>\n",
       "      <td>0.561856</td>\n",
       "      <td>0.438144</td>\n",
       "    </tr>\n",
       "    <tr>\n",
       "      <th>footsteps</th>\n",
       "      <td>0.616348</td>\n",
       "      <td>0.383652</td>\n",
       "    </tr>\n",
       "    <tr>\n",
       "      <th>frog</th>\n",
       "      <td>0.384817</td>\n",
       "      <td>0.615183</td>\n",
       "    </tr>\n",
       "    <tr>\n",
       "      <th>glass_breaking</th>\n",
       "      <td>0.586156</td>\n",
       "      <td>0.413844</td>\n",
       "    </tr>\n",
       "    <tr>\n",
       "      <th>hand_saw</th>\n",
       "      <td>0.619539</td>\n",
       "      <td>0.380461</td>\n",
       "    </tr>\n",
       "    <tr>\n",
       "      <th>hen</th>\n",
       "      <td>0.364948</td>\n",
       "      <td>0.635052</td>\n",
       "    </tr>\n",
       "    <tr>\n",
       "      <th>insects</th>\n",
       "      <td>0.312715</td>\n",
       "      <td>0.687285</td>\n",
       "    </tr>\n",
       "    <tr>\n",
       "      <th>keyboard_typing</th>\n",
       "      <td>0.606529</td>\n",
       "      <td>0.393471</td>\n",
       "    </tr>\n",
       "    <tr>\n",
       "      <th>laughing</th>\n",
       "      <td>0.346270</td>\n",
       "      <td>0.653730</td>\n",
       "    </tr>\n",
       "    <tr>\n",
       "      <th>mouse_click</th>\n",
       "      <td>0.542268</td>\n",
       "      <td>0.457732</td>\n",
       "    </tr>\n",
       "    <tr>\n",
       "      <th>pig</th>\n",
       "      <td>0.427099</td>\n",
       "      <td>0.572901</td>\n",
       "    </tr>\n",
       "    <tr>\n",
       "      <th>pouring_water</th>\n",
       "      <td>0.572165</td>\n",
       "      <td>0.427835</td>\n",
       "    </tr>\n",
       "    <tr>\n",
       "      <th>rooster</th>\n",
       "      <td>0.426804</td>\n",
       "      <td>0.573196</td>\n",
       "    </tr>\n",
       "    <tr>\n",
       "      <th>sheep</th>\n",
       "      <td>0.388735</td>\n",
       "      <td>0.611265</td>\n",
       "    </tr>\n",
       "    <tr>\n",
       "      <th>sneezing</th>\n",
       "      <td>0.360825</td>\n",
       "      <td>0.639175</td>\n",
       "    </tr>\n",
       "    <tr>\n",
       "      <th>snoring</th>\n",
       "      <td>0.391753</td>\n",
       "      <td>0.608247</td>\n",
       "    </tr>\n",
       "    <tr>\n",
       "      <th>thunderstorm</th>\n",
       "      <td>0.635739</td>\n",
       "      <td>0.364261</td>\n",
       "    </tr>\n",
       "    <tr>\n",
       "      <th>toilet_flush</th>\n",
       "      <td>0.583505</td>\n",
       "      <td>0.416495</td>\n",
       "    </tr>\n",
       "    <tr>\n",
       "      <th>water_drops</th>\n",
       "      <td>0.636750</td>\n",
       "      <td>0.363250</td>\n",
       "    </tr>\n",
       "    <tr>\n",
       "      <th>wind</th>\n",
       "      <td>0.603093</td>\n",
       "      <td>0.396907</td>\n",
       "    </tr>\n",
       "  </tbody>\n",
       "</table>\n",
       "</div>"
      ],
      "text/plain": [
       "                  Anim_prob  Interact_prob\n",
       "Actual target                             \n",
       "breathing          0.418099       0.581901\n",
       "brushing_teeth     0.607181       0.392819\n",
       "can_opening        0.539519       0.460481\n",
       "car_horn           0.597938       0.402062\n",
       "cat                0.402062       0.597938\n",
       "chirping_birds     0.335052       0.664948\n",
       "clapping           0.630339       0.369661\n",
       "clock_tick         0.608247       0.391753\n",
       "coughing           0.476804       0.523196\n",
       "cow                0.372509       0.627491\n",
       "crackling_fire     0.563144       0.436856\n",
       "crickets           0.108387       0.891613\n",
       "crying_baby        0.293814       0.706186\n",
       "door_wood_creaks   0.596684       0.403316\n",
       "drinking_sipping   0.610825       0.389175\n",
       "engine             0.561856       0.438144\n",
       "footsteps          0.616348       0.383652\n",
       "frog               0.384817       0.615183\n",
       "glass_breaking     0.586156       0.413844\n",
       "hand_saw           0.619539       0.380461\n",
       "hen                0.364948       0.635052\n",
       "insects            0.312715       0.687285\n",
       "keyboard_typing    0.606529       0.393471\n",
       "laughing           0.346270       0.653730\n",
       "mouse_click        0.542268       0.457732\n",
       "pig                0.427099       0.572901\n",
       "pouring_water      0.572165       0.427835\n",
       "rooster            0.426804       0.573196\n",
       "sheep              0.388735       0.611265\n",
       "sneezing           0.360825       0.639175\n",
       "snoring            0.391753       0.608247\n",
       "thunderstorm       0.635739       0.364261\n",
       "toilet_flush       0.583505       0.416495\n",
       "water_drops        0.636750       0.363250\n",
       "wind               0.603093       0.396907"
      ]
     },
     "execution_count": 28,
     "metadata": {},
     "output_type": "execute_result"
    }
   ],
   "source": [
    "average_prob = misclassified.groupby('Actual target').mean()\n",
    "average_prob"
   ]
  },
  {
   "cell_type": "code",
   "execution_count": 29,
   "metadata": {},
   "outputs": [
    {
     "data": {
      "text/plain": [
       "<matplotlib.axes._subplots.AxesSubplot at 0x7f2f80ffbc88>"
      ]
     },
     "execution_count": 29,
     "metadata": {},
     "output_type": "execute_result"
    },
    {
     "data": {
      "image/png": "[encoded data removed]",
      "text/plain": [
       "<Figure size 432x288 with 1 Axes>"
      ]
     },
     "metadata": {
      "needs_background": "light"
     },
     "output_type": "display_data"
    }
   ],
   "source": [
    "average_prob.min(axis=1).plot(kind='bar')"
   ]
  },
  {
   "cell_type": "code",
   "execution_count": 30,
   "metadata": {},
   "outputs": [
    {
     "data": {
      "text/plain": [
       "<matplotlib.axes._subplots.AxesSubplot at 0x7f2f813dffd0>"
      ]
     },
     "execution_count": 30,
     "metadata": {},
     "output_type": "execute_result"
    },
    {
     "data": {
      "image/png": "[encoded data removed]",
      "text/plain": [
       "<Figure size 3600x720 with 1 Axes>"
      ]
     },
     "metadata": {
      "needs_background": "light"
     },
     "output_type": "display_data"
    }
   ],
   "source": [
    "from matplotlib import pyplot as plt\n",
    "fig, ax = plt.subplots(figsize=(50,10))\n",
    "sns.countplot(x='Actual target', hue='Predicted h_target',data=misclassified)"
   ]
  },
  {
   "cell_type": "code",
   "execution_count": null,
   "metadata": {},
   "outputs": [],
   "source": []
  }
 ],
 "metadata": {
  "kernelspec": {
   "display_name": "Python 3",
   "language": "python",
   "name": "python3"
  },
  "language_info": {
   "codemirror_mode": {
    "name": "ipython",
    "version": 3
   },
   "file_extension": ".py",
   "mimetype": "text/x-python",
   "name": "python",
   "nbconvert_exporter": "python",
   "pygments_lexer": "ipython3",
   "version": "3.5.2"
  }
 },
 "nbformat": 4,
 "nbformat_minor": 2
}
