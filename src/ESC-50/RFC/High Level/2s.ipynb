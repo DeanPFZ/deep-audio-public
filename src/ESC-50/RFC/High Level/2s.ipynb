{
 "cells": [
  {
   "cell_type": "code",
   "execution_count": 1,
   "metadata": {},
   "outputs": [
    {
     "name": "stderr",
     "output_type": "stream",
     "text": [
      "Using TensorFlow backend.\n"
     ]
    },
    {
     "name": "stdout",
     "output_type": "stream",
     "text": [
      "WARNING:tensorflow:From /usr/local/lib/python3.5/dist-packages/magenta/models/nsynth/wavenet/masked.py:115: UniformUnitScaling.__init__ (from tensorflow.python.ops.init_ops) is deprecated and will be removed in a future version.\n",
      "Instructions for updating:\n",
      "Use tf.initializers.variance_scaling instead with distribution=uniform to get equivalent behavior.\n"
     ]
    },
    {
     "name": "stderr",
     "output_type": "stream",
     "text": [
      "/usr/lib/python3.5/importlib/_bootstrap.py:222: RuntimeWarning: numpy.dtype size changed, may indicate binary incompatibility. Expected 96, got 88\n",
      "  return f(*args, **kwds)\n",
      "/usr/lib/python3.5/importlib/_bootstrap.py:222: RuntimeWarning: numpy.dtype size changed, may indicate binary incompatibility. Expected 96, got 88\n",
      "  return f(*args, **kwds)\n",
      "/usr/lib/python3.5/importlib/_bootstrap.py:222: RuntimeWarning: numpy.dtype size changed, may indicate binary incompatibility. Expected 96, got 88\n",
      "  return f(*args, **kwds)\n",
      "/usr/lib/python3.5/importlib/_bootstrap.py:222: RuntimeWarning: numpy.dtype size changed, may indicate binary incompatibility. Expected 96, got 88\n",
      "  return f(*args, **kwds)\n",
      "/usr/lib/python3.5/importlib/_bootstrap.py:222: RuntimeWarning: numpy.dtype size changed, may indicate binary incompatibility. Expected 96, got 88\n",
      "  return f(*args, **kwds)\n"
     ]
    }
   ],
   "source": [
    "import sys\n",
    "sys.path.insert(0, '../../../')\n",
    "\n",
    "import pandas as pd\n",
    "from preprocess import Audio_Processor\n",
    "from data_utils import balanced_supersample, balanced_subsample\n",
    "from sklearn import metrics\n",
    "from classification_plots import plot_confusion_matrix, plot_learning_curve\n",
    "import matplotlib.pyplot as plt\n",
    "import os\n",
    "import numpy as np\n",
    "from data_utils import enumerate_strings\n",
    "from sklearn.ensemble import RandomForestClassifier\n",
    "from sklearn.pipeline import Pipeline"
   ]
  },
  {
   "cell_type": "code",
   "execution_count": 2,
   "metadata": {},
   "outputs": [],
   "source": [
    "# Able to specify which GPU to use\n",
    "os.environ[\"CUDA_VISIBLE_DEVICES\"]=\"1\"\n",
    "\n",
    "SR = 16000\n",
    "blocksize = int(SR * 2)\n",
    "overlap = int(SR)"
   ]
  },
  {
   "cell_type": "code",
   "execution_count": 3,
   "metadata": {},
   "outputs": [],
   "source": [
    "import warnings\n",
    "warnings.filterwarnings('ignore')"
   ]
  },
  {
   "cell_type": "markdown",
   "metadata": {},
   "source": [
    "# Setup"
   ]
  },
  {
   "cell_type": "code",
   "execution_count": 4,
   "metadata": {},
   "outputs": [],
   "source": [
    "path_to_db='../../../../ESC-50/'\n",
    "ps = Audio_Processor(path_to_db + 'audio/', sr=SR)\n",
    "dataset = pd.read_csv(path_to_db + 'meta/esc50.csv')\n",
    "classes = [None] * 50\n",
    "h_classes = ['Human & Animal', 'Interacting Materials']\n",
    "mapping = {\n",
    "    'dog': 0,\n",
    "    'rooster': 0,\n",
    "    'pig': 0,\n",
    "    'cow': 0,\n",
    "    'frog': 0,\n",
    "    'cat': 0,\n",
    "    'hen': 0,\n",
    "    'insects': 0,\n",
    "    'sheep': 0,\n",
    "    'crow': 0,\n",
    "    'rain': 1,\n",
    "    'sea_waves': 1,\n",
    "    'crackling_fire': 1,\n",
    "    'crickets': 0,\n",
    "    'chirping_birds': 0,\n",
    "    'water_drops': 1,\n",
    "    'wind': 1,\n",
    "    'pouring_water': 1,\n",
    "    'toilet_flush': 1,\n",
    "    'thunderstorm': 1,\n",
    "    'crying_baby': 0,\n",
    "    'sneezing': 0,\n",
    "    'clapping': 1,\n",
    "    'breathing': 0,\n",
    "    'coughing': 0,\n",
    "    'footsteps': 1,\n",
    "    'laughing': 0,\n",
    "    'brushing_teeth': 1,\n",
    "    'snoring': 0,\n",
    "    'drinking_sipping': 1,\n",
    "    'door_wood_knock': 1,\n",
    "    'mouse_click': 1,\n",
    "    'keyboard_typing': 1,\n",
    "    'door_wood_creaks': 1,\n",
    "    'can_opening': 1,\n",
    "    'washing_machine': 1,\n",
    "    'vacuum_cleaner': 1,\n",
    "    'clock_alarm': 1,\n",
    "    'clock_tick': 1,\n",
    "    'glass_breaking':1,\n",
    "    'helicopter': 1,\n",
    "    'chainsaw': 1,\n",
    "    'siren': 1,\n",
    "    'car_horn': 1,\n",
    "    'engine': 1,\n",
    "    'train': 1,\n",
    "    'church_bells': 1,\n",
    "    'airplane': 1,\n",
    "    'fireworks': 1,\n",
    "    'hand_saw': 1,\n",
    "}\n",
    "dataset['h_target'] = None\n",
    "for index, row in dataset.iterrows():\n",
    "    target = row['target']\n",
    "    classes[target] = row['category']\n",
    "    dataset.loc[index, 'h_target'] = mapping[row['category']]"
   ]
  },
  {
   "cell_type": "markdown",
   "metadata": {},
   "source": [
    "## Getting Preprocessed Data\n",
    "We allow for previously preprocessed data to be retrieved for faster training turnaround. If the fold has been preprocessed, it is loaded but if not it is processed and saved."
   ]
  },
  {
   "cell_type": "code",
   "execution_count": 5,
   "metadata": {},
   "outputs": [],
   "source": [
    "df = ps.preprocess_fold(dataset, \n",
    "                        kind='mfcc', \n",
    "                        blocksize=blocksize, \n",
    "                        overlap=overlap,\n",
    "                        folds=10,\n",
    "                        random_state=42\n",
    "                       )"
   ]
  },
  {
   "cell_type": "code",
   "execution_count": 6,
   "metadata": {},
   "outputs": [
    {
     "data": {
      "text/html": [
       "<div>\n",
       "<style scoped>\n",
       "    .dataframe tbody tr th:only-of-type {\n",
       "        vertical-align: middle;\n",
       "    }\n",
       "\n",
       "    .dataframe tbody tr th {\n",
       "        vertical-align: top;\n",
       "    }\n",
       "\n",
       "    .dataframe thead th {\n",
       "        text-align: right;\n",
       "    }\n",
       "</style>\n",
       "<table border=\"1\" class=\"dataframe\">\n",
       "  <thead>\n",
       "    <tr style=\"text-align: right;\">\n",
       "      <th></th>\n",
       "      <th>mfcc_2_std</th>\n",
       "      <th>mfcc_2_mean</th>\n",
       "      <th>mfcc_2_noise</th>\n",
       "      <th>mfcc_3_std</th>\n",
       "      <th>mfcc_3_mean</th>\n",
       "      <th>mfcc_3_noise</th>\n",
       "      <th>mfcc_4_std</th>\n",
       "      <th>mfcc_4_mean</th>\n",
       "      <th>mfcc_4_noise</th>\n",
       "      <th>mfcc_5_std</th>\n",
       "      <th>...</th>\n",
       "      <th>sflat_noise</th>\n",
       "      <th>sroll_std</th>\n",
       "      <th>sroll_mean</th>\n",
       "      <th>sroll_noise</th>\n",
       "      <th>rmse_std</th>\n",
       "      <th>rmse_mean</th>\n",
       "      <th>rmse_noise</th>\n",
       "      <th>h_target</th>\n",
       "      <th>target</th>\n",
       "      <th>fold</th>\n",
       "    </tr>\n",
       "  </thead>\n",
       "  <tbody>\n",
       "    <tr>\n",
       "      <th>count</th>\n",
       "      <td>14314.000000</td>\n",
       "      <td>14314.000000</td>\n",
       "      <td>14314.000000</td>\n",
       "      <td>14314.000000</td>\n",
       "      <td>14314.000000</td>\n",
       "      <td>14314.000000</td>\n",
       "      <td>14314.000000</td>\n",
       "      <td>14314.000000</td>\n",
       "      <td>14314.000000</td>\n",
       "      <td>14314.000000</td>\n",
       "      <td>...</td>\n",
       "      <td>1.431400e+04</td>\n",
       "      <td>1.431400e+04</td>\n",
       "      <td>14314.000000</td>\n",
       "      <td>14314.000000</td>\n",
       "      <td>14314.000000</td>\n",
       "      <td>1.431400e+04</td>\n",
       "      <td>14314.000000</td>\n",
       "      <td>14314.000000</td>\n",
       "      <td>14314.000000</td>\n",
       "      <td>14314.000000</td>\n",
       "    </tr>\n",
       "    <tr>\n",
       "      <th>mean</th>\n",
       "      <td>50.420312</td>\n",
       "      <td>31.449743</td>\n",
       "      <td>24.342663</td>\n",
       "      <td>20.308530</td>\n",
       "      <td>17.325769</td>\n",
       "      <td>16.817294</td>\n",
       "      <td>16.328139</td>\n",
       "      <td>16.036357</td>\n",
       "      <td>15.794907</td>\n",
       "      <td>15.267831</td>\n",
       "      <td>...</td>\n",
       "      <td>-3.599303e-02</td>\n",
       "      <td>-3.686629e-02</td>\n",
       "      <td>26.159358</td>\n",
       "      <td>39.969693</td>\n",
       "      <td>9.884754</td>\n",
       "      <td>9.002175e+11</td>\n",
       "      <td>2.859076</td>\n",
       "      <td>0.642588</td>\n",
       "      <td>24.072097</td>\n",
       "      <td>5.388221</td>\n",
       "    </tr>\n",
       "    <tr>\n",
       "      <th>std</th>\n",
       "      <td>30.755193</td>\n",
       "      <td>17.975943</td>\n",
       "      <td>16.838782</td>\n",
       "      <td>14.876417</td>\n",
       "      <td>14.642891</td>\n",
       "      <td>14.889482</td>\n",
       "      <td>14.788132</td>\n",
       "      <td>15.150895</td>\n",
       "      <td>15.118315</td>\n",
       "      <td>14.884460</td>\n",
       "      <td>...</td>\n",
       "      <td>7.208775e-02</td>\n",
       "      <td>6.986889e-02</td>\n",
       "      <td>180.229279</td>\n",
       "      <td>132.169346</td>\n",
       "      <td>41.624126</td>\n",
       "      <td>4.815953e+13</td>\n",
       "      <td>4.614397</td>\n",
       "      <td>0.479254</td>\n",
       "      <td>13.388810</td>\n",
       "      <td>2.872298</td>\n",
       "    </tr>\n",
       "    <tr>\n",
       "      <th>min</th>\n",
       "      <td>0.000000</td>\n",
       "      <td>0.000000</td>\n",
       "      <td>0.000000</td>\n",
       "      <td>0.000000</td>\n",
       "      <td>0.000000</td>\n",
       "      <td>0.000000</td>\n",
       "      <td>0.000000</td>\n",
       "      <td>0.000000</td>\n",
       "      <td>0.000000</td>\n",
       "      <td>0.000000</td>\n",
       "      <td>...</td>\n",
       "      <td>-2.921772e-01</td>\n",
       "      <td>-2.810671e-01</td>\n",
       "      <td>4.830933</td>\n",
       "      <td>7.308271</td>\n",
       "      <td>1.329639</td>\n",
       "      <td>5.604957e+00</td>\n",
       "      <td>0.233393</td>\n",
       "      <td>0.000000</td>\n",
       "      <td>0.000000</td>\n",
       "      <td>1.000000</td>\n",
       "    </tr>\n",
       "    <tr>\n",
       "      <th>25%</th>\n",
       "      <td>29.527745</td>\n",
       "      <td>18.654691</td>\n",
       "      <td>12.907307</td>\n",
       "      <td>10.551508</td>\n",
       "      <td>8.598434</td>\n",
       "      <td>7.776301</td>\n",
       "      <td>7.214308</td>\n",
       "      <td>6.695373</td>\n",
       "      <td>6.414149</td>\n",
       "      <td>5.880030</td>\n",
       "      <td>...</td>\n",
       "      <td>-8.356356e-02</td>\n",
       "      <td>-8.319895e-02</td>\n",
       "      <td>12.541834</td>\n",
       "      <td>21.814699</td>\n",
       "      <td>4.647978</td>\n",
       "      <td>1.784061e+01</td>\n",
       "      <td>0.739120</td>\n",
       "      <td>0.000000</td>\n",
       "      <td>13.000000</td>\n",
       "      <td>3.000000</td>\n",
       "    </tr>\n",
       "    <tr>\n",
       "      <th>50%</th>\n",
       "      <td>43.224925</td>\n",
       "      <td>27.277802</td>\n",
       "      <td>18.139140</td>\n",
       "      <td>14.394654</td>\n",
       "      <td>11.166074</td>\n",
       "      <td>10.654187</td>\n",
       "      <td>10.246903</td>\n",
       "      <td>9.816821</td>\n",
       "      <td>9.699394</td>\n",
       "      <td>9.371529</td>\n",
       "      <td>...</td>\n",
       "      <td>-4.057913e-03</td>\n",
       "      <td>-7.452790e-03</td>\n",
       "      <td>18.640739</td>\n",
       "      <td>29.291891</td>\n",
       "      <td>7.160831</td>\n",
       "      <td>2.459858e+01</td>\n",
       "      <td>1.395827</td>\n",
       "      <td>1.000000</td>\n",
       "      <td>25.000000</td>\n",
       "      <td>5.000000</td>\n",
       "    </tr>\n",
       "    <tr>\n",
       "      <th>75%</th>\n",
       "      <td>67.722417</td>\n",
       "      <td>42.877468</td>\n",
       "      <td>32.990670</td>\n",
       "      <td>27.533095</td>\n",
       "      <td>20.653867</td>\n",
       "      <td>18.659882</td>\n",
       "      <td>18.102504</td>\n",
       "      <td>16.794363</td>\n",
       "      <td>16.945179</td>\n",
       "      <td>15.522044</td>\n",
       "      <td>...</td>\n",
       "      <td>2.671989e-09</td>\n",
       "      <td>2.361394e-09</td>\n",
       "      <td>26.757743</td>\n",
       "      <td>41.805302</td>\n",
       "      <td>10.171338</td>\n",
       "      <td>3.787155e+01</td>\n",
       "      <td>3.616527</td>\n",
       "      <td>1.000000</td>\n",
       "      <td>33.000000</td>\n",
       "      <td>8.000000</td>\n",
       "    </tr>\n",
       "    <tr>\n",
       "      <th>max</th>\n",
       "      <td>256.296500</td>\n",
       "      <td>135.559156</td>\n",
       "      <td>105.810724</td>\n",
       "      <td>84.991282</td>\n",
       "      <td>81.843149</td>\n",
       "      <td>86.369475</td>\n",
       "      <td>94.305775</td>\n",
       "      <td>108.875619</td>\n",
       "      <td>114.335064</td>\n",
       "      <td>105.814756</td>\n",
       "      <td>...</td>\n",
       "      <td>2.663476e-01</td>\n",
       "      <td>2.413787e-01</td>\n",
       "      <td>18792.117366</td>\n",
       "      <td>9314.840690</td>\n",
       "      <td>3466.118040</td>\n",
       "      <td>2.577143e+15</td>\n",
       "      <td>157.578047</td>\n",
       "      <td>1.000000</td>\n",
       "      <td>49.000000</td>\n",
       "      <td>10.000000</td>\n",
       "    </tr>\n",
       "  </tbody>\n",
       "</table>\n",
       "<p>8 rows × 132 columns</p>\n",
       "</div>"
      ],
      "text/plain": [
       "         mfcc_2_std   mfcc_2_mean  mfcc_2_noise    mfcc_3_std   mfcc_3_mean  \\\n",
       "count  14314.000000  14314.000000  14314.000000  14314.000000  14314.000000   \n",
       "mean      50.420312     31.449743     24.342663     20.308530     17.325769   \n",
       "std       30.755193     17.975943     16.838782     14.876417     14.642891   \n",
       "min        0.000000      0.000000      0.000000      0.000000      0.000000   \n",
       "25%       29.527745     18.654691     12.907307     10.551508      8.598434   \n",
       "50%       43.224925     27.277802     18.139140     14.394654     11.166074   \n",
       "75%       67.722417     42.877468     32.990670     27.533095     20.653867   \n",
       "max      256.296500    135.559156    105.810724     84.991282     81.843149   \n",
       "\n",
       "       mfcc_3_noise    mfcc_4_std   mfcc_4_mean  mfcc_4_noise    mfcc_5_std  \\\n",
       "count  14314.000000  14314.000000  14314.000000  14314.000000  14314.000000   \n",
       "mean      16.817294     16.328139     16.036357     15.794907     15.267831   \n",
       "std       14.889482     14.788132     15.150895     15.118315     14.884460   \n",
       "min        0.000000      0.000000      0.000000      0.000000      0.000000   \n",
       "25%        7.776301      7.214308      6.695373      6.414149      5.880030   \n",
       "50%       10.654187     10.246903      9.816821      9.699394      9.371529   \n",
       "75%       18.659882     18.102504     16.794363     16.945179     15.522044   \n",
       "max       86.369475     94.305775    108.875619    114.335064    105.814756   \n",
       "\n",
       "           ...        sflat_noise     sroll_std    sroll_mean   sroll_noise  \\\n",
       "count      ...       1.431400e+04  1.431400e+04  14314.000000  14314.000000   \n",
       "mean       ...      -3.599303e-02 -3.686629e-02     26.159358     39.969693   \n",
       "std        ...       7.208775e-02  6.986889e-02    180.229279    132.169346   \n",
       "min        ...      -2.921772e-01 -2.810671e-01      4.830933      7.308271   \n",
       "25%        ...      -8.356356e-02 -8.319895e-02     12.541834     21.814699   \n",
       "50%        ...      -4.057913e-03 -7.452790e-03     18.640739     29.291891   \n",
       "75%        ...       2.671989e-09  2.361394e-09     26.757743     41.805302   \n",
       "max        ...       2.663476e-01  2.413787e-01  18792.117366   9314.840690   \n",
       "\n",
       "           rmse_std     rmse_mean    rmse_noise      h_target        target  \\\n",
       "count  14314.000000  1.431400e+04  14314.000000  14314.000000  14314.000000   \n",
       "mean       9.884754  9.002175e+11      2.859076      0.642588     24.072097   \n",
       "std       41.624126  4.815953e+13      4.614397      0.479254     13.388810   \n",
       "min        1.329639  5.604957e+00      0.233393      0.000000      0.000000   \n",
       "25%        4.647978  1.784061e+01      0.739120      0.000000     13.000000   \n",
       "50%        7.160831  2.459858e+01      1.395827      1.000000     25.000000   \n",
       "75%       10.171338  3.787155e+01      3.616527      1.000000     33.000000   \n",
       "max     3466.118040  2.577143e+15    157.578047      1.000000     49.000000   \n",
       "\n",
       "               fold  \n",
       "count  14314.000000  \n",
       "mean       5.388221  \n",
       "std        2.872298  \n",
       "min        1.000000  \n",
       "25%        3.000000  \n",
       "50%        5.000000  \n",
       "75%        8.000000  \n",
       "max       10.000000  \n",
       "\n",
       "[8 rows x 132 columns]"
      ]
     },
     "execution_count": 6,
     "metadata": {},
     "output_type": "execute_result"
    }
   ],
   "source": [
    "df.describe()"
   ]
  },
  {
   "cell_type": "code",
   "execution_count": 7,
   "metadata": {},
   "outputs": [
    {
     "data": {
      "text/html": [
       "<div>\n",
       "<style scoped>\n",
       "    .dataframe tbody tr th:only-of-type {\n",
       "        vertical-align: middle;\n",
       "    }\n",
       "\n",
       "    .dataframe tbody tr th {\n",
       "        vertical-align: top;\n",
       "    }\n",
       "\n",
       "    .dataframe thead th {\n",
       "        text-align: right;\n",
       "    }\n",
       "</style>\n",
       "<table border=\"1\" class=\"dataframe\">\n",
       "  <thead>\n",
       "    <tr style=\"text-align: right;\">\n",
       "      <th></th>\n",
       "      <th>mfcc_2_std</th>\n",
       "      <th>mfcc_2_mean</th>\n",
       "      <th>mfcc_2_noise</th>\n",
       "      <th>mfcc_3_std</th>\n",
       "      <th>mfcc_3_mean</th>\n",
       "      <th>mfcc_3_noise</th>\n",
       "      <th>mfcc_4_std</th>\n",
       "      <th>mfcc_4_mean</th>\n",
       "      <th>mfcc_4_noise</th>\n",
       "      <th>mfcc_5_std</th>\n",
       "      <th>...</th>\n",
       "      <th>sflat_noise</th>\n",
       "      <th>sroll_std</th>\n",
       "      <th>sroll_mean</th>\n",
       "      <th>sroll_noise</th>\n",
       "      <th>rmse_std</th>\n",
       "      <th>rmse_mean</th>\n",
       "      <th>rmse_noise</th>\n",
       "      <th>h_target</th>\n",
       "      <th>target</th>\n",
       "      <th>fold</th>\n",
       "    </tr>\n",
       "  </thead>\n",
       "  <tbody>\n",
       "    <tr>\n",
       "      <th>0</th>\n",
       "      <td>35.303226</td>\n",
       "      <td>16.628392</td>\n",
       "      <td>14.612338</td>\n",
       "      <td>10.759350</td>\n",
       "      <td>9.126324</td>\n",
       "      <td>9.751300</td>\n",
       "      <td>10.372376</td>\n",
       "      <td>10.991414</td>\n",
       "      <td>9.683879</td>\n",
       "      <td>9.334261</td>\n",
       "      <td>...</td>\n",
       "      <td>-0.156925</td>\n",
       "      <td>-0.162621</td>\n",
       "      <td>41.474683</td>\n",
       "      <td>39.378760</td>\n",
       "      <td>12.159852</td>\n",
       "      <td>64.055920</td>\n",
       "      <td>0.883665</td>\n",
       "      <td>0</td>\n",
       "      <td>0</td>\n",
       "      <td>6</td>\n",
       "    </tr>\n",
       "    <tr>\n",
       "      <th>1</th>\n",
       "      <td>54.433723</td>\n",
       "      <td>85.663004</td>\n",
       "      <td>43.282941</td>\n",
       "      <td>42.535501</td>\n",
       "      <td>55.937831</td>\n",
       "      <td>55.014379</td>\n",
       "      <td>62.124034</td>\n",
       "      <td>61.443067</td>\n",
       "      <td>59.988501</td>\n",
       "      <td>51.013400</td>\n",
       "      <td>...</td>\n",
       "      <td>0.117715</td>\n",
       "      <td>-0.071270</td>\n",
       "      <td>18.513552</td>\n",
       "      <td>15.451696</td>\n",
       "      <td>3.997211</td>\n",
       "      <td>21.325881</td>\n",
       "      <td>5.597504</td>\n",
       "      <td>0</td>\n",
       "      <td>14</td>\n",
       "      <td>9</td>\n",
       "    </tr>\n",
       "    <tr>\n",
       "      <th>2</th>\n",
       "      <td>67.456425</td>\n",
       "      <td>73.664833</td>\n",
       "      <td>48.845691</td>\n",
       "      <td>40.125455</td>\n",
       "      <td>49.468218</td>\n",
       "      <td>51.165937</td>\n",
       "      <td>58.884618</td>\n",
       "      <td>47.429886</td>\n",
       "      <td>53.434896</td>\n",
       "      <td>49.381911</td>\n",
       "      <td>...</td>\n",
       "      <td>-0.055392</td>\n",
       "      <td>-0.050829</td>\n",
       "      <td>15.260274</td>\n",
       "      <td>18.535819</td>\n",
       "      <td>4.219737</td>\n",
       "      <td>21.692839</td>\n",
       "      <td>5.496345</td>\n",
       "      <td>0</td>\n",
       "      <td>14</td>\n",
       "      <td>9</td>\n",
       "    </tr>\n",
       "    <tr>\n",
       "      <th>3</th>\n",
       "      <td>66.402711</td>\n",
       "      <td>69.511505</td>\n",
       "      <td>49.515695</td>\n",
       "      <td>47.622560</td>\n",
       "      <td>45.462889</td>\n",
       "      <td>52.223708</td>\n",
       "      <td>68.445632</td>\n",
       "      <td>42.155791</td>\n",
       "      <td>54.576572</td>\n",
       "      <td>45.491858</td>\n",
       "      <td>...</td>\n",
       "      <td>0.001984</td>\n",
       "      <td>-0.027979</td>\n",
       "      <td>13.239241</td>\n",
       "      <td>18.223737</td>\n",
       "      <td>5.876391</td>\n",
       "      <td>19.272534</td>\n",
       "      <td>7.032290</td>\n",
       "      <td>0</td>\n",
       "      <td>14</td>\n",
       "      <td>9</td>\n",
       "    </tr>\n",
       "    <tr>\n",
       "      <th>4</th>\n",
       "      <td>76.179052</td>\n",
       "      <td>60.697063</td>\n",
       "      <td>44.475103</td>\n",
       "      <td>45.279859</td>\n",
       "      <td>46.367198</td>\n",
       "      <td>43.691724</td>\n",
       "      <td>61.761911</td>\n",
       "      <td>53.381473</td>\n",
       "      <td>59.348490</td>\n",
       "      <td>53.241327</td>\n",
       "      <td>...</td>\n",
       "      <td>0.003121</td>\n",
       "      <td>0.008383</td>\n",
       "      <td>13.420774</td>\n",
       "      <td>19.110520</td>\n",
       "      <td>4.533343</td>\n",
       "      <td>18.530266</td>\n",
       "      <td>8.662045</td>\n",
       "      <td>0</td>\n",
       "      <td>14</td>\n",
       "      <td>9</td>\n",
       "    </tr>\n",
       "  </tbody>\n",
       "</table>\n",
       "<p>5 rows × 132 columns</p>\n",
       "</div>"
      ],
      "text/plain": [
       "   mfcc_2_std  mfcc_2_mean  mfcc_2_noise  mfcc_3_std  mfcc_3_mean  \\\n",
       "0   35.303226    16.628392     14.612338   10.759350     9.126324   \n",
       "1   54.433723    85.663004     43.282941   42.535501    55.937831   \n",
       "2   67.456425    73.664833     48.845691   40.125455    49.468218   \n",
       "3   66.402711    69.511505     49.515695   47.622560    45.462889   \n",
       "4   76.179052    60.697063     44.475103   45.279859    46.367198   \n",
       "\n",
       "   mfcc_3_noise  mfcc_4_std  mfcc_4_mean  mfcc_4_noise  mfcc_5_std  ...   \\\n",
       "0      9.751300   10.372376    10.991414      9.683879    9.334261  ...    \n",
       "1     55.014379   62.124034    61.443067     59.988501   51.013400  ...    \n",
       "2     51.165937   58.884618    47.429886     53.434896   49.381911  ...    \n",
       "3     52.223708   68.445632    42.155791     54.576572   45.491858  ...    \n",
       "4     43.691724   61.761911    53.381473     59.348490   53.241327  ...    \n",
       "\n",
       "   sflat_noise  sroll_std  sroll_mean  sroll_noise   rmse_std  rmse_mean  \\\n",
       "0    -0.156925  -0.162621   41.474683    39.378760  12.159852  64.055920   \n",
       "1     0.117715  -0.071270   18.513552    15.451696   3.997211  21.325881   \n",
       "2    -0.055392  -0.050829   15.260274    18.535819   4.219737  21.692839   \n",
       "3     0.001984  -0.027979   13.239241    18.223737   5.876391  19.272534   \n",
       "4     0.003121   0.008383   13.420774    19.110520   4.533343  18.530266   \n",
       "\n",
       "   rmse_noise  h_target  target  fold  \n",
       "0    0.883665         0       0     6  \n",
       "1    5.597504         0      14     9  \n",
       "2    5.496345         0      14     9  \n",
       "3    7.032290         0      14     9  \n",
       "4    8.662045         0      14     9  \n",
       "\n",
       "[5 rows x 132 columns]"
      ]
     },
     "execution_count": 7,
     "metadata": {},
     "output_type": "execute_result"
    }
   ],
   "source": [
    "df.head()"
   ]
  },
  {
   "cell_type": "code",
   "execution_count": 8,
   "metadata": {},
   "outputs": [],
   "source": [
    "from sklearn.model_selection import train_test_split\n",
    "train, test, = train_test_split(\n",
    "                        df[df.fold != 1], test_size=0.20, random_state=42)"
   ]
  },
  {
   "cell_type": "code",
   "execution_count": 9,
   "metadata": {},
   "outputs": [],
   "source": [
    "X = (df[df.fold != 1]).drop(['target', 'h_target', 'fold'], axis=1)\n",
    "y = (df[df.fold != 1])['h_target']"
   ]
  },
  {
   "cell_type": "code",
   "execution_count": 10,
   "metadata": {},
   "outputs": [],
   "source": [
    "X, y = balanced_supersample(X, y)"
   ]
  },
  {
   "cell_type": "markdown",
   "metadata": {},
   "source": [
    "# Training"
   ]
  },
  {
   "cell_type": "code",
   "execution_count": 11,
   "metadata": {},
   "outputs": [
    {
     "name": "stdout",
     "output_type": "stream",
     "text": [
      "Fitting 10 folds for each of 100 candidates, totalling 1000 fits\n"
     ]
    },
    {
     "name": "stderr",
     "output_type": "stream",
     "text": [
      "[Parallel(n_jobs=-1)]: Using backend LokyBackend with 56 concurrent workers.\n",
      "[Parallel(n_jobs=-1)]: Done  50 tasks      | elapsed:  1.3min\n",
      "[Parallel(n_jobs=-1)]: Done 253 tasks      | elapsed:  6.5min\n",
      "[Parallel(n_jobs=-1)]: Done 536 tasks      | elapsed: 10.9min\n",
      "[Parallel(n_jobs=-1)]: Done 1000 out of 1000 | elapsed: 18.2min finished\n"
     ]
    },
    {
     "data": {
      "text/plain": [
       "RandomizedSearchCV(cv=10, error_score='raise-deprecating',\n",
       "          estimator=Pipeline(memory=None,\n",
       "     steps=[('scaler', MinMaxScaler(copy=True, feature_range=(0, 1))), ('classify', RandomForestClassifier(bootstrap=True, class_weight=None, criterion='gini',\n",
       "            max_depth=None, max_features='auto', max_leaf_nodes=None,\n",
       "            min_impurity_decrease=0.0,...ors='warn', n_jobs=-1,\n",
       "            oob_score=False, random_state=42, verbose=0, warm_start=False))]),\n",
       "          fit_params=None, iid='warn', n_iter=100, n_jobs=-1,\n",
       "          param_distributions={'classify__n_estimators': range(5, 100), 'classify__criterion': ('gini', 'entropy'), 'classify__warm_start': (True, False), 'classify__oob_score': (True, False), 'classify__max_features': ('log2', 'auto', None), 'classify__max_depth': range(132, 660)},\n",
       "          pre_dispatch='2*n_jobs', random_state=None, refit=False,\n",
       "          return_train_score='warn',\n",
       "          scoring=['accuracy', 'f1', 'recall', 'precision', 'roc_auc'],\n",
       "          verbose=2)"
      ]
     },
     "execution_count": 11,
     "metadata": {},
     "output_type": "execute_result"
    }
   ],
   "source": [
    "from sklearn.model_selection import RandomizedSearchCV\n",
    "from sklearn.decomposition import PCA\n",
    "from sklearn.discriminant_analysis import LinearDiscriminantAnalysis\n",
    "from sklearn.feature_selection import SelectKBest, chi2, mutual_info_regression\n",
    "from sklearn.preprocessing import MinMaxScaler\n",
    "from sklearn.pipeline import Pipeline\n",
    "import scipy\n",
    "\n",
    "params = {\n",
    "    'classify__n_estimators': range(5,100,1),\n",
    "    'classify__criterion': ('gini', 'entropy'),\n",
    "    'classify__max_depth': range(len(df.columns), 5 * len(df.columns)),\n",
    "    'classify__max_features': ('log2', 'auto', None),\n",
    "    'classify__oob_score': (True, False),\n",
    "    'classify__warm_start': (True, False)\n",
    "}\n",
    "\n",
    "clf = Pipeline([\n",
    "    ('scaler',MinMaxScaler()),\n",
    "    ('classify', RandomForestClassifier(n_jobs=-1, random_state=42))\n",
    "])\n",
    "randsrc = RandomizedSearchCV(\n",
    "                clf,\n",
    "                scoring=['accuracy', 'f1', 'recall', 'precision', 'roc_auc'], \n",
    "                cv=10,\n",
    "                refit=False,\n",
    "                param_distributions = params,\n",
    "                verbose=2,\n",
    "                n_jobs=-1,\n",
    "                n_iter=100\n",
    ")\n",
    "\n",
    "randsrc.fit(X, y)"
   ]
  },
  {
   "cell_type": "code",
   "execution_count": 12,
   "metadata": {},
   "outputs": [],
   "source": [
    "results = pd.DataFrame(randsrc.cv_results_)"
   ]
  },
  {
   "cell_type": "code",
   "execution_count": 13,
   "metadata": {},
   "outputs": [],
   "source": [
    "top = results.sort_values(['mean_test_roc_auc', 'mean_fit_time'], ascending=[False, True]).iloc[0]"
   ]
  },
  {
   "cell_type": "code",
   "execution_count": 14,
   "metadata": {},
   "outputs": [
    {
     "data": {
      "text/plain": [
       "{'classify__criterion': 'entropy',\n",
       " 'classify__max_depth': 522,\n",
       " 'classify__max_features': 'auto',\n",
       " 'classify__n_estimators': 95,\n",
       " 'classify__oob_score': True,\n",
       " 'classify__warm_start': True}"
      ]
     },
     "execution_count": 14,
     "metadata": {},
     "output_type": "execute_result"
    }
   ],
   "source": [
    "top.params"
   ]
  },
  {
   "cell_type": "code",
   "execution_count": 15,
   "metadata": {},
   "outputs": [
    {
     "data": {
      "text/plain": [
       "Pipeline(memory=None,\n",
       "     steps=[('scaler', MinMaxScaler(copy=True, feature_range=(0, 1))), ('classify', RandomForestClassifier(bootstrap=True, class_weight=None, criterion='entropy',\n",
       "            max_depth=522, max_features='auto', max_leaf_nodes=None,\n",
       "            min_impurity_decrease=0.0, min_impurity_split=None,\n",
       "            min_samples_leaf=1, min_samples_split=2,\n",
       "            min_weight_fraction_leaf=0.0, n_estimators=95, n_jobs=-1,\n",
       "            oob_score=True, random_state=42, verbose=0, warm_start=True))])"
      ]
     },
     "execution_count": 15,
     "metadata": {},
     "output_type": "execute_result"
    }
   ],
   "source": [
    "clf.set_params(**top.params)"
   ]
  },
  {
   "cell_type": "markdown",
   "metadata": {},
   "source": [
    "# Testing Optimal Classifier"
   ]
  },
  {
   "cell_type": "markdown",
   "metadata": {},
   "source": [
    "### Training"
   ]
  },
  {
   "cell_type": "code",
   "execution_count": 16,
   "metadata": {},
   "outputs": [],
   "source": [
    "from sklearn.model_selection import train_test_split\n",
    "train, test, = train_test_split(\n",
    "                        df[df.fold != 1], test_size=0.20, random_state=42)"
   ]
  },
  {
   "cell_type": "code",
   "execution_count": 17,
   "metadata": {},
   "outputs": [],
   "source": [
    "train_X = train.drop(['target', 'h_target', 'fold'], axis=1)\n",
    "train_y = train['h_target']\n",
    "train_X, train_y = balanced_supersample(train_X, train_y)\n",
    "test_X = test.drop(['target', 'h_target', 'fold'], axis=1)\n",
    "test_y = test['h_target']"
   ]
  },
  {
   "cell_type": "code",
   "execution_count": 18,
   "metadata": {},
   "outputs": [
    {
     "data": {
      "text/plain": [
       "Pipeline(memory=None,\n",
       "     steps=[('scaler', MinMaxScaler(copy=True, feature_range=(0, 1))), ('classify', RandomForestClassifier(bootstrap=True, class_weight=None, criterion='entropy',\n",
       "            max_depth=522, max_features='auto', max_leaf_nodes=None,\n",
       "            min_impurity_decrease=0.0, min_impurity_split=None,\n",
       "            min_samples_leaf=1, min_samples_split=2,\n",
       "            min_weight_fraction_leaf=0.0, n_estimators=95, n_jobs=-1,\n",
       "            oob_score=True, random_state=42, verbose=0, warm_start=True))])"
      ]
     },
     "execution_count": 18,
     "metadata": {},
     "output_type": "execute_result"
    }
   ],
   "source": [
    "clf.fit(train_X, train_y)"
   ]
  },
  {
   "cell_type": "code",
   "execution_count": 19,
   "metadata": {},
   "outputs": [
    {
     "name": "stdout",
     "output_type": "stream",
     "text": [
      "0.705487564153178\n",
      "Confusion matrix, without normalization\n",
      "[[ 473  408]\n",
      " [ 338 1314]]\n"
     ]
    },
    {
     "data": {
      "image/png": "[encoded data removed]",
      "text/plain": [
       "<Figure size 720x720 with 2 Axes>"
      ]
     },
     "metadata": {
      "needs_background": "light"
     },
     "output_type": "display_data"
    }
   ],
   "source": [
    "pred = clf.predict(test_X)\n",
    "print(metrics.accuracy_score(test_y, pred))\n",
    "cm = metrics.confusion_matrix(test_y, pred)\n",
    "plt.figure(figsize=(10,10))\n",
    "plot_confusion_matrix(cm, h_classes)\n",
    "plt.show()"
   ]
  },
  {
   "cell_type": "markdown",
   "metadata": {},
   "source": [
    "### Testing"
   ]
  },
  {
   "cell_type": "code",
   "execution_count": 20,
   "metadata": {},
   "outputs": [],
   "source": [
    "all_df = df[df.fold == 1]"
   ]
  },
  {
   "cell_type": "code",
   "execution_count": 21,
   "metadata": {},
   "outputs": [],
   "source": [
    "X = all_df.drop(['target', 'h_target', 'fold'], axis=1)\n",
    "y = all_df['h_target']"
   ]
  },
  {
   "cell_type": "code",
   "execution_count": 22,
   "metadata": {},
   "outputs": [
    {
     "name": "stdout",
     "output_type": "stream",
     "text": [
      "0.6428138265615525\n",
      "Confusion matrix, without normalization\n",
      "[[244 331]\n",
      " [258 816]]\n"
     ]
    },
    {
     "data": {
      "image/png": "[encoded data removed]",
      "text/plain": [
       "<Figure size 720x720 with 2 Axes>"
      ]
     },
     "metadata": {
      "needs_background": "light"
     },
     "output_type": "display_data"
    }
   ],
   "source": [
    "pred = clf.predict(X)\n",
    "pred_prob = clf.predict_proba(X)\n",
    "print(metrics.accuracy_score(y, pred))\n",
    "cm = metrics.confusion_matrix(y, pred)\n",
    "plt.figure(figsize=(10,10))\n",
    "plot_confusion_matrix(cm, h_classes)\n",
    "plt.show()"
   ]
  },
  {
   "cell_type": "markdown",
   "metadata": {},
   "source": [
    "### Confidence"
   ]
  },
  {
   "cell_type": "code",
   "execution_count": 23,
   "metadata": {
    "scrolled": true
   },
   "outputs": [
    {
     "data": {
      "text/html": [
       "<div>\n",
       "<style scoped>\n",
       "    .dataframe tbody tr th:only-of-type {\n",
       "        vertical-align: middle;\n",
       "    }\n",
       "\n",
       "    .dataframe tbody tr th {\n",
       "        vertical-align: top;\n",
       "    }\n",
       "\n",
       "    .dataframe thead th {\n",
       "        text-align: right;\n",
       "    }\n",
       "</style>\n",
       "<table border=\"1\" class=\"dataframe\">\n",
       "  <thead>\n",
       "    <tr style=\"text-align: right;\">\n",
       "      <th></th>\n",
       "      <th>Actual target</th>\n",
       "      <th>Anim_prob</th>\n",
       "      <th>Interact_prob</th>\n",
       "      <th>Predicted h_target</th>\n",
       "    </tr>\n",
       "  </thead>\n",
       "  <tbody>\n",
       "    <tr>\n",
       "      <th>0</th>\n",
       "      <td>sheep</td>\n",
       "      <td>0.336842</td>\n",
       "      <td>0.663158</td>\n",
       "      <td>Interacting Materials</td>\n",
       "    </tr>\n",
       "    <tr>\n",
       "      <th>1</th>\n",
       "      <td>sheep</td>\n",
       "      <td>0.315789</td>\n",
       "      <td>0.684211</td>\n",
       "      <td>Interacting Materials</td>\n",
       "    </tr>\n",
       "    <tr>\n",
       "      <th>2</th>\n",
       "      <td>sheep</td>\n",
       "      <td>0.210526</td>\n",
       "      <td>0.789474</td>\n",
       "      <td>Interacting Materials</td>\n",
       "    </tr>\n",
       "    <tr>\n",
       "      <th>3</th>\n",
       "      <td>sheep</td>\n",
       "      <td>0.210526</td>\n",
       "      <td>0.789474</td>\n",
       "      <td>Interacting Materials</td>\n",
       "    </tr>\n",
       "    <tr>\n",
       "      <th>4</th>\n",
       "      <td>sheep</td>\n",
       "      <td>0.273684</td>\n",
       "      <td>0.726316</td>\n",
       "      <td>Interacting Materials</td>\n",
       "    </tr>\n",
       "  </tbody>\n",
       "</table>\n",
       "</div>"
      ],
      "text/plain": [
       "  Actual target  Anim_prob  Interact_prob     Predicted h_target\n",
       "0         sheep   0.336842       0.663158  Interacting Materials\n",
       "1         sheep   0.315789       0.684211  Interacting Materials\n",
       "2         sheep   0.210526       0.789474  Interacting Materials\n",
       "3         sheep   0.210526       0.789474  Interacting Materials\n",
       "4         sheep   0.273684       0.726316  Interacting Materials"
      ]
     },
     "execution_count": 23,
     "metadata": {},
     "output_type": "execute_result"
    }
   ],
   "source": [
    "import seaborn as sns\n",
    "misclassified = {\n",
    "    'Predicted h_target': [],\n",
    "    'Actual target': [],\n",
    "    'Anim_prob': [],\n",
    "    'Interact_prob': []\n",
    "}\n",
    "for row, p, prob, Y in zip(all_df.iterrows(), pred, pred_prob, y):\n",
    "    Y = int(Y)\n",
    "    p = int(p)\n",
    "    if p!=Y:\n",
    "        misclassified['Actual target'].append(classes[int(row[1]['target'])])\n",
    "        misclassified['Predicted h_target'].append(h_classes[p])\n",
    "        misclassified['Anim_prob'].append(prob[0])\n",
    "        misclassified['Interact_prob'].append(prob[1])\n",
    "\n",
    "misclassified = pd.DataFrame.from_dict(misclassified)\n",
    "misclassified.head()"
   ]
  },
  {
   "cell_type": "code",
   "execution_count": 24,
   "metadata": {},
   "outputs": [],
   "source": [
    "gb_ms = misclassified.groupby('Predicted h_target')\n",
    "means = gb_ms.mean()\n",
    "errors = gb_ms.std()"
   ]
  },
  {
   "cell_type": "code",
   "execution_count": 25,
   "metadata": {},
   "outputs": [
    {
     "data": {
      "text/html": [
       "<div>\n",
       "<style scoped>\n",
       "    .dataframe tbody tr th:only-of-type {\n",
       "        vertical-align: middle;\n",
       "    }\n",
       "\n",
       "    .dataframe tbody tr th {\n",
       "        vertical-align: top;\n",
       "    }\n",
       "\n",
       "    .dataframe thead th {\n",
       "        text-align: right;\n",
       "    }\n",
       "</style>\n",
       "<table border=\"1\" class=\"dataframe\">\n",
       "  <thead>\n",
       "    <tr style=\"text-align: right;\">\n",
       "      <th></th>\n",
       "      <th>Anim_prob</th>\n",
       "      <th>Interact_prob</th>\n",
       "    </tr>\n",
       "    <tr>\n",
       "      <th>Predicted h_target</th>\n",
       "      <th></th>\n",
       "      <th></th>\n",
       "    </tr>\n",
       "  </thead>\n",
       "  <tbody>\n",
       "    <tr>\n",
       "      <th>Human &amp; Animal</th>\n",
       "      <td>0.598817</td>\n",
       "      <td>0.401183</td>\n",
       "    </tr>\n",
       "    <tr>\n",
       "      <th>Interacting Materials</th>\n",
       "      <td>0.338559</td>\n",
       "      <td>0.661441</td>\n",
       "    </tr>\n",
       "  </tbody>\n",
       "</table>\n",
       "</div>"
      ],
      "text/plain": [
       "                       Anim_prob  Interact_prob\n",
       "Predicted h_target                             \n",
       "Human & Animal          0.598817       0.401183\n",
       "Interacting Materials   0.338559       0.661441"
      ]
     },
     "execution_count": 25,
     "metadata": {},
     "output_type": "execute_result"
    }
   ],
   "source": [
    "means.head()"
   ]
  },
  {
   "cell_type": "code",
   "execution_count": 26,
   "metadata": {},
   "outputs": [
    {
     "data": {
      "text/html": [
       "<div>\n",
       "<style scoped>\n",
       "    .dataframe tbody tr th:only-of-type {\n",
       "        vertical-align: middle;\n",
       "    }\n",
       "\n",
       "    .dataframe tbody tr th {\n",
       "        vertical-align: top;\n",
       "    }\n",
       "\n",
       "    .dataframe thead th {\n",
       "        text-align: right;\n",
       "    }\n",
       "</style>\n",
       "<table border=\"1\" class=\"dataframe\">\n",
       "  <thead>\n",
       "    <tr style=\"text-align: right;\">\n",
       "      <th></th>\n",
       "      <th>Anim_prob</th>\n",
       "      <th>Interact_prob</th>\n",
       "    </tr>\n",
       "    <tr>\n",
       "      <th>Predicted h_target</th>\n",
       "      <th></th>\n",
       "      <th></th>\n",
       "    </tr>\n",
       "  </thead>\n",
       "  <tbody>\n",
       "    <tr>\n",
       "      <th>Human &amp; Animal</th>\n",
       "      <td>0.069072</td>\n",
       "      <td>0.069072</td>\n",
       "    </tr>\n",
       "    <tr>\n",
       "      <th>Interacting Materials</th>\n",
       "      <td>0.120157</td>\n",
       "      <td>0.120157</td>\n",
       "    </tr>\n",
       "  </tbody>\n",
       "</table>\n",
       "</div>"
      ],
      "text/plain": [
       "                       Anim_prob  Interact_prob\n",
       "Predicted h_target                             \n",
       "Human & Animal          0.069072       0.069072\n",
       "Interacting Materials   0.120157       0.120157"
      ]
     },
     "execution_count": 26,
     "metadata": {},
     "output_type": "execute_result"
    }
   ],
   "source": [
    "errors.head()"
   ]
  },
  {
   "cell_type": "code",
   "execution_count": 27,
   "metadata": {},
   "outputs": [
    {
     "data": {
      "text/plain": [
       "<matplotlib.axes._subplots.AxesSubplot at 0x7f4cbda5af98>"
      ]
     },
     "execution_count": 27,
     "metadata": {},
     "output_type": "execute_result"
    },
    {
     "data": {
      "image/png": "[encoded data removed]",
      "text/plain": [
       "<Figure size 432x288 with 1 Axes>"
      ]
     },
     "metadata": {
      "needs_background": "light"
     },
     "output_type": "display_data"
    }
   ],
   "source": [
    "means.min(axis=1).plot(yerr=errors, kind='bar')"
   ]
  },
  {
   "cell_type": "code",
   "execution_count": 28,
   "metadata": {},
   "outputs": [
    {
     "data": {
      "text/html": [
       "<div>\n",
       "<style scoped>\n",
       "    .dataframe tbody tr th:only-of-type {\n",
       "        vertical-align: middle;\n",
       "    }\n",
       "\n",
       "    .dataframe tbody tr th {\n",
       "        vertical-align: top;\n",
       "    }\n",
       "\n",
       "    .dataframe thead th {\n",
       "        text-align: right;\n",
       "    }\n",
       "</style>\n",
       "<table border=\"1\" class=\"dataframe\">\n",
       "  <thead>\n",
       "    <tr style=\"text-align: right;\">\n",
       "      <th></th>\n",
       "      <th>Anim_prob</th>\n",
       "      <th>Interact_prob</th>\n",
       "    </tr>\n",
       "    <tr>\n",
       "      <th>Actual target</th>\n",
       "      <th></th>\n",
       "      <th></th>\n",
       "    </tr>\n",
       "  </thead>\n",
       "  <tbody>\n",
       "    <tr>\n",
       "      <th>breathing</th>\n",
       "      <td>0.427068</td>\n",
       "      <td>0.572932</td>\n",
       "    </tr>\n",
       "    <tr>\n",
       "      <th>brushing_teeth</th>\n",
       "      <td>0.619298</td>\n",
       "      <td>0.380702</td>\n",
       "    </tr>\n",
       "    <tr>\n",
       "      <th>can_opening</th>\n",
       "      <td>0.617544</td>\n",
       "      <td>0.382456</td>\n",
       "    </tr>\n",
       "    <tr>\n",
       "      <th>car_horn</th>\n",
       "      <td>0.557895</td>\n",
       "      <td>0.442105</td>\n",
       "    </tr>\n",
       "    <tr>\n",
       "      <th>cat</th>\n",
       "      <td>0.337895</td>\n",
       "      <td>0.662105</td>\n",
       "    </tr>\n",
       "    <tr>\n",
       "      <th>chainsaw</th>\n",
       "      <td>0.536842</td>\n",
       "      <td>0.463158</td>\n",
       "    </tr>\n",
       "    <tr>\n",
       "      <th>chirping_birds</th>\n",
       "      <td>0.338504</td>\n",
       "      <td>0.661496</td>\n",
       "    </tr>\n",
       "    <tr>\n",
       "      <th>clapping</th>\n",
       "      <td>0.602632</td>\n",
       "      <td>0.397368</td>\n",
       "    </tr>\n",
       "    <tr>\n",
       "      <th>clock_alarm</th>\n",
       "      <td>0.505263</td>\n",
       "      <td>0.494737</td>\n",
       "    </tr>\n",
       "    <tr>\n",
       "      <th>clock_tick</th>\n",
       "      <td>0.573684</td>\n",
       "      <td>0.426316</td>\n",
       "    </tr>\n",
       "    <tr>\n",
       "      <th>coughing</th>\n",
       "      <td>0.463158</td>\n",
       "      <td>0.536842</td>\n",
       "    </tr>\n",
       "    <tr>\n",
       "      <th>cow</th>\n",
       "      <td>0.352882</td>\n",
       "      <td>0.647118</td>\n",
       "    </tr>\n",
       "    <tr>\n",
       "      <th>crackling_fire</th>\n",
       "      <td>0.553947</td>\n",
       "      <td>0.446053</td>\n",
       "    </tr>\n",
       "    <tr>\n",
       "      <th>crickets</th>\n",
       "      <td>0.161098</td>\n",
       "      <td>0.838902</td>\n",
       "    </tr>\n",
       "    <tr>\n",
       "      <th>crying_baby</th>\n",
       "      <td>0.452632</td>\n",
       "      <td>0.547368</td>\n",
       "    </tr>\n",
       "    <tr>\n",
       "      <th>door_wood_creaks</th>\n",
       "      <td>0.602386</td>\n",
       "      <td>0.397614</td>\n",
       "    </tr>\n",
       "    <tr>\n",
       "      <th>drinking_sipping</th>\n",
       "      <td>0.573684</td>\n",
       "      <td>0.426316</td>\n",
       "    </tr>\n",
       "    <tr>\n",
       "      <th>engine</th>\n",
       "      <td>0.536842</td>\n",
       "      <td>0.463158</td>\n",
       "    </tr>\n",
       "    <tr>\n",
       "      <th>footsteps</th>\n",
       "      <td>0.592982</td>\n",
       "      <td>0.407018</td>\n",
       "    </tr>\n",
       "    <tr>\n",
       "      <th>frog</th>\n",
       "      <td>0.376504</td>\n",
       "      <td>0.623496</td>\n",
       "    </tr>\n",
       "    <tr>\n",
       "      <th>glass_breaking</th>\n",
       "      <td>0.594737</td>\n",
       "      <td>0.405263</td>\n",
       "    </tr>\n",
       "    <tr>\n",
       "      <th>hand_saw</th>\n",
       "      <td>0.630526</td>\n",
       "      <td>0.369474</td>\n",
       "    </tr>\n",
       "    <tr>\n",
       "      <th>hen</th>\n",
       "      <td>0.367277</td>\n",
       "      <td>0.632723</td>\n",
       "    </tr>\n",
       "    <tr>\n",
       "      <th>insects</th>\n",
       "      <td>0.302632</td>\n",
       "      <td>0.697368</td>\n",
       "    </tr>\n",
       "    <tr>\n",
       "      <th>keyboard_typing</th>\n",
       "      <td>0.612632</td>\n",
       "      <td>0.387368</td>\n",
       "    </tr>\n",
       "    <tr>\n",
       "      <th>laughing</th>\n",
       "      <td>0.371930</td>\n",
       "      <td>0.628070</td>\n",
       "    </tr>\n",
       "    <tr>\n",
       "      <th>mouse_click</th>\n",
       "      <td>0.566316</td>\n",
       "      <td>0.433684</td>\n",
       "    </tr>\n",
       "    <tr>\n",
       "      <th>pig</th>\n",
       "      <td>0.408612</td>\n",
       "      <td>0.591388</td>\n",
       "    </tr>\n",
       "    <tr>\n",
       "      <th>pouring_water</th>\n",
       "      <td>0.607237</td>\n",
       "      <td>0.392763</td>\n",
       "    </tr>\n",
       "    <tr>\n",
       "      <th>rooster</th>\n",
       "      <td>0.387719</td>\n",
       "      <td>0.612281</td>\n",
       "    </tr>\n",
       "    <tr>\n",
       "      <th>sheep</th>\n",
       "      <td>0.326316</td>\n",
       "      <td>0.673684</td>\n",
       "    </tr>\n",
       "    <tr>\n",
       "      <th>sneezing</th>\n",
       "      <td>0.387368</td>\n",
       "      <td>0.612632</td>\n",
       "    </tr>\n",
       "    <tr>\n",
       "      <th>snoring</th>\n",
       "      <td>0.407895</td>\n",
       "      <td>0.592105</td>\n",
       "    </tr>\n",
       "    <tr>\n",
       "      <th>thunderstorm</th>\n",
       "      <td>0.567867</td>\n",
       "      <td>0.432133</td>\n",
       "    </tr>\n",
       "    <tr>\n",
       "      <th>toilet_flush</th>\n",
       "      <td>0.649123</td>\n",
       "      <td>0.350877</td>\n",
       "    </tr>\n",
       "    <tr>\n",
       "      <th>water_drops</th>\n",
       "      <td>0.599542</td>\n",
       "      <td>0.400458</td>\n",
       "    </tr>\n",
       "    <tr>\n",
       "      <th>wind</th>\n",
       "      <td>0.526316</td>\n",
       "      <td>0.473684</td>\n",
       "    </tr>\n",
       "  </tbody>\n",
       "</table>\n",
       "</div>"
      ],
      "text/plain": [
       "                  Anim_prob  Interact_prob\n",
       "Actual target                             \n",
       "breathing          0.427068       0.572932\n",
       "brushing_teeth     0.619298       0.380702\n",
       "can_opening        0.617544       0.382456\n",
       "car_horn           0.557895       0.442105\n",
       "cat                0.337895       0.662105\n",
       "chainsaw           0.536842       0.463158\n",
       "chirping_birds     0.338504       0.661496\n",
       "clapping           0.602632       0.397368\n",
       "clock_alarm        0.505263       0.494737\n",
       "clock_tick         0.573684       0.426316\n",
       "coughing           0.463158       0.536842\n",
       "cow                0.352882       0.647118\n",
       "crackling_fire     0.553947       0.446053\n",
       "crickets           0.161098       0.838902\n",
       "crying_baby        0.452632       0.547368\n",
       "door_wood_creaks   0.602386       0.397614\n",
       "drinking_sipping   0.573684       0.426316\n",
       "engine             0.536842       0.463158\n",
       "footsteps          0.592982       0.407018\n",
       "frog               0.376504       0.623496\n",
       "glass_breaking     0.594737       0.405263\n",
       "hand_saw           0.630526       0.369474\n",
       "hen                0.367277       0.632723\n",
       "insects            0.302632       0.697368\n",
       "keyboard_typing    0.612632       0.387368\n",
       "laughing           0.371930       0.628070\n",
       "mouse_click        0.566316       0.433684\n",
       "pig                0.408612       0.591388\n",
       "pouring_water      0.607237       0.392763\n",
       "rooster            0.387719       0.612281\n",
       "sheep              0.326316       0.673684\n",
       "sneezing           0.387368       0.612632\n",
       "snoring            0.407895       0.592105\n",
       "thunderstorm       0.567867       0.432133\n",
       "toilet_flush       0.649123       0.350877\n",
       "water_drops        0.599542       0.400458\n",
       "wind               0.526316       0.473684"
      ]
     },
     "execution_count": 28,
     "metadata": {},
     "output_type": "execute_result"
    }
   ],
   "source": [
    "average_prob = misclassified.groupby('Actual target').mean()\n",
    "average_prob"
   ]
  },
  {
   "cell_type": "code",
   "execution_count": 29,
   "metadata": {},
   "outputs": [
    {
     "data": {
      "text/plain": [
       "<matplotlib.axes._subplots.AxesSubplot at 0x7f4cbda60fd0>"
      ]
     },
     "execution_count": 29,
     "metadata": {},
     "output_type": "execute_result"
    },
    {
     "data": {
      "image/png": "[encoded data removed]",
      "text/plain": [
       "<Figure size 432x288 with 1 Axes>"
      ]
     },
     "metadata": {
      "needs_background": "light"
     },
     "output_type": "display_data"
    }
   ],
   "source": [
    "average_prob.min(axis=1).plot(kind='bar')"
   ]
  },
  {
   "cell_type": "code",
   "execution_count": 30,
   "metadata": {},
   "outputs": [
    {
     "data": {
      "text/plain": [
       "<matplotlib.axes._subplots.AxesSubplot at 0x7f4cbd4a12b0>"
      ]
     },
     "execution_count": 30,
     "metadata": {},
     "output_type": "execute_result"
    },
    {
     "data": {
      "image/png": "[encoded data removed]",
      "text/plain": [
       "<Figure size 3600x720 with 1 Axes>"
      ]
     },
     "metadata": {
      "needs_background": "light"
     },
     "output_type": "display_data"
    }
   ],
   "source": [
    "from matplotlib import pyplot as plt\n",
    "fig, ax = plt.subplots(figsize=(50,10))\n",
    "sns.countplot(x='Actual target', hue='Predicted h_target',data=misclassified)"
   ]
  },
  {
   "cell_type": "code",
   "execution_count": null,
   "metadata": {},
   "outputs": [],
   "source": []
  }
 ],
 "metadata": {
  "kernelspec": {
   "display_name": "Python 3",
   "language": "python",
   "name": "python3"
  },
  "language_info": {
   "codemirror_mode": {
    "name": "ipython",
    "version": 3
   },
   "file_extension": ".py",
   "mimetype": "text/x-python",
   "name": "python",
   "nbconvert_exporter": "python",
   "pygments_lexer": "ipython3",
   "version": "3.5.2"
  }
 },
 "nbformat": 4,
 "nbformat_minor": 2
}
