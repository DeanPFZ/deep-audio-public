{
 "cells": [
  {
   "cell_type": "code",
   "execution_count": 1,
   "metadata": {},
   "outputs": [
    {
     "name": "stderr",
     "output_type": "stream",
     "text": [
      "Using TensorFlow backend.\n"
     ]
    },
    {
     "name": "stdout",
     "output_type": "stream",
     "text": [
      "WARNING:tensorflow:From /usr/local/lib/python3.5/dist-packages/magenta/models/nsynth/wavenet/masked.py:115: UniformUnitScaling.__init__ (from tensorflow.python.ops.init_ops) is deprecated and will be removed in a future version.\n",
      "Instructions for updating:\n",
      "Use tf.initializers.variance_scaling instead with distribution=uniform to get equivalent behavior.\n"
     ]
    },
    {
     "name": "stderr",
     "output_type": "stream",
     "text": [
      "/usr/lib/python3.5/importlib/_bootstrap.py:222: RuntimeWarning: numpy.dtype size changed, may indicate binary incompatibility. Expected 96, got 88\n",
      "  return f(*args, **kwds)\n",
      "/usr/lib/python3.5/importlib/_bootstrap.py:222: RuntimeWarning: numpy.dtype size changed, may indicate binary incompatibility. Expected 96, got 88\n",
      "  return f(*args, **kwds)\n",
      "/usr/lib/python3.5/importlib/_bootstrap.py:222: RuntimeWarning: numpy.dtype size changed, may indicate binary incompatibility. Expected 96, got 88\n",
      "  return f(*args, **kwds)\n",
      "/usr/lib/python3.5/importlib/_bootstrap.py:222: RuntimeWarning: numpy.dtype size changed, may indicate binary incompatibility. Expected 96, got 88\n",
      "  return f(*args, **kwds)\n",
      "/usr/lib/python3.5/importlib/_bootstrap.py:222: RuntimeWarning: numpy.dtype size changed, may indicate binary incompatibility. Expected 96, got 88\n",
      "  return f(*args, **kwds)\n"
     ]
    }
   ],
   "source": [
    "import sys\n",
    "sys.path.insert(0, '../../../')\n",
    "\n",
    "import pandas as pd\n",
    "from preprocess import Audio_Processor\n",
    "from data_utils import balanced_supersample, balanced_subsample\n",
    "from sklearn import metrics\n",
    "from classification_plots import plot_confusion_matrix, plot_learning_curve\n",
    "import matplotlib.pyplot as plt\n",
    "import os\n",
    "import numpy as np\n",
    "from data_utils import enumerate_strings\n",
    "from sklearn.ensemble import RandomForestClassifier\n",
    "from sklearn.pipeline import Pipeline"
   ]
  },
  {
   "cell_type": "code",
   "execution_count": 2,
   "metadata": {},
   "outputs": [],
   "source": [
    "# Able to specify which GPU to use\n",
    "os.environ[\"CUDA_VISIBLE_DEVICES\"]=\"1\"\n",
    "\n",
    "SR = 16000\n",
    "blocksize = int(SR/2)\n",
    "overlap = int(SR/4)"
   ]
  },
  {
   "cell_type": "code",
   "execution_count": 3,
   "metadata": {},
   "outputs": [],
   "source": [
    "import warnings\n",
    "warnings.filterwarnings('ignore')"
   ]
  },
  {
   "cell_type": "markdown",
   "metadata": {},
   "source": [
    "# Setup"
   ]
  },
  {
   "cell_type": "code",
   "execution_count": 4,
   "metadata": {},
   "outputs": [],
   "source": [
    "path_to_db='../../../../ESC-50/'\n",
    "ps = Audio_Processor(path_to_db + 'audio/', sr=SR)\n",
    "dataset = pd.read_csv(path_to_db + 'meta/esc50.csv')\n",
    "classes = [None] * 50\n",
    "h_classes = ['Human & Animal', 'Interacting Materials']\n",
    "mapping = {\n",
    "    'dog': 0,\n",
    "    'rooster': 0,\n",
    "    'pig': 0,\n",
    "    'cow': 0,\n",
    "    'frog': 0,\n",
    "    'cat': 0,\n",
    "    'hen': 0,\n",
    "    'insects': 0,\n",
    "    'sheep': 0,\n",
    "    'crow': 0,\n",
    "    'rain': 1,\n",
    "    'sea_waves': 1,\n",
    "    'crackling_fire': 1,\n",
    "    'crickets': 0,\n",
    "    'chirping_birds': 0,\n",
    "    'water_drops': 1,\n",
    "    'wind': 1,\n",
    "    'pouring_water': 1,\n",
    "    'toilet_flush': 1,\n",
    "    'thunderstorm': 1,\n",
    "    'crying_baby': 0,\n",
    "    'sneezing': 0,\n",
    "    'clapping': 1,\n",
    "    'breathing': 0,\n",
    "    'coughing': 0,\n",
    "    'footsteps': 1,\n",
    "    'laughing': 0,\n",
    "    'brushing_teeth': 1,\n",
    "    'snoring': 0,\n",
    "    'drinking_sipping': 1,\n",
    "    'door_wood_knock': 1,\n",
    "    'mouse_click': 1,\n",
    "    'keyboard_typing': 1,\n",
    "    'door_wood_creaks': 1,\n",
    "    'can_opening': 1,\n",
    "    'washing_machine': 1,\n",
    "    'vacuum_cleaner': 1,\n",
    "    'clock_alarm': 1,\n",
    "    'clock_tick': 1,\n",
    "    'glass_breaking':1,\n",
    "    'helicopter': 1,\n",
    "    'chainsaw': 1,\n",
    "    'siren': 1,\n",
    "    'car_horn': 1,\n",
    "    'engine': 1,\n",
    "    'train': 1,\n",
    "    'church_bells': 1,\n",
    "    'airplane': 1,\n",
    "    'fireworks': 1,\n",
    "    'hand_saw': 1,\n",
    "}\n",
    "dataset['h_target'] = None\n",
    "for index, row in dataset.iterrows():\n",
    "    target = row['target']\n",
    "    classes[target] = row['category']\n",
    "    dataset.loc[index, 'h_target'] = mapping[row['category']]"
   ]
  },
  {
   "cell_type": "markdown",
   "metadata": {},
   "source": [
    "## Getting Preprocessed Data\n",
    "We allow for previously preprocessed data to be retrieved for faster training turnaround. If the fold has been preprocessed, it is loaded but if not it is processed and saved."
   ]
  },
  {
   "cell_type": "code",
   "execution_count": 5,
   "metadata": {},
   "outputs": [],
   "source": [
    "df = ps.preprocess_fold(dataset, \n",
    "                        kind='mfcc', \n",
    "                        blocksize=blocksize, \n",
    "                        overlap=overlap,\n",
    "                        folds=10,\n",
    "                        random_state=42\n",
    "                       )"
   ]
  },
  {
   "cell_type": "code",
   "execution_count": 6,
   "metadata": {},
   "outputs": [
    {
     "data": {
      "text/html": [
       "<div>\n",
       "<style scoped>\n",
       "    .dataframe tbody tr th:only-of-type {\n",
       "        vertical-align: middle;\n",
       "    }\n",
       "\n",
       "    .dataframe tbody tr th {\n",
       "        vertical-align: top;\n",
       "    }\n",
       "\n",
       "    .dataframe thead th {\n",
       "        text-align: right;\n",
       "    }\n",
       "</style>\n",
       "<table border=\"1\" class=\"dataframe\">\n",
       "  <thead>\n",
       "    <tr style=\"text-align: right;\">\n",
       "      <th></th>\n",
       "      <th>mfcc_2_std</th>\n",
       "      <th>mfcc_2_mean</th>\n",
       "      <th>mfcc_2_noise</th>\n",
       "      <th>mfcc_3_std</th>\n",
       "      <th>mfcc_3_mean</th>\n",
       "      <th>mfcc_3_noise</th>\n",
       "      <th>mfcc_4_std</th>\n",
       "      <th>mfcc_4_mean</th>\n",
       "      <th>mfcc_4_noise</th>\n",
       "      <th>mfcc_5_std</th>\n",
       "      <th>...</th>\n",
       "      <th>sflat_noise</th>\n",
       "      <th>sroll_std</th>\n",
       "      <th>sroll_mean</th>\n",
       "      <th>sroll_noise</th>\n",
       "      <th>rmse_std</th>\n",
       "      <th>rmse_mean</th>\n",
       "      <th>rmse_noise</th>\n",
       "      <th>h_target</th>\n",
       "      <th>target</th>\n",
       "      <th>fold</th>\n",
       "    </tr>\n",
       "  </thead>\n",
       "  <tbody>\n",
       "    <tr>\n",
       "      <th>count</th>\n",
       "      <td>30947.000000</td>\n",
       "      <td>30947.000000</td>\n",
       "      <td>30947.000000</td>\n",
       "      <td>30947.000000</td>\n",
       "      <td>30947.000000</td>\n",
       "      <td>30947.000000</td>\n",
       "      <td>30947.000000</td>\n",
       "      <td>30947.000000</td>\n",
       "      <td>30947.000000</td>\n",
       "      <td>30947.000000</td>\n",
       "      <td>...</td>\n",
       "      <td>3.094700e+04</td>\n",
       "      <td>3.094700e+04</td>\n",
       "      <td>30947.000000</td>\n",
       "      <td>30947.000000</td>\n",
       "      <td>30947.000000</td>\n",
       "      <td>30947.000000</td>\n",
       "      <td>30947.000000</td>\n",
       "      <td>30947.000000</td>\n",
       "      <td>30947.000000</td>\n",
       "      <td>30947.000000</td>\n",
       "    </tr>\n",
       "    <tr>\n",
       "      <th>mean</th>\n",
       "      <td>73.719667</td>\n",
       "      <td>46.264479</td>\n",
       "      <td>38.909376</td>\n",
       "      <td>33.446607</td>\n",
       "      <td>30.420424</td>\n",
       "      <td>30.067026</td>\n",
       "      <td>29.524960</td>\n",
       "      <td>29.485805</td>\n",
       "      <td>29.035557</td>\n",
       "      <td>28.434550</td>\n",
       "      <td>...</td>\n",
       "      <td>-1.984839e-02</td>\n",
       "      <td>-1.938723e-02</td>\n",
       "      <td>14.260070</td>\n",
       "      <td>25.679845</td>\n",
       "      <td>5.237762</td>\n",
       "      <td>22.727680</td>\n",
       "      <td>4.911355</td>\n",
       "      <td>0.676673</td>\n",
       "      <td>24.927586</td>\n",
       "      <td>5.471936</td>\n",
       "    </tr>\n",
       "    <tr>\n",
       "      <th>std</th>\n",
       "      <td>30.473942</td>\n",
       "      <td>18.374510</td>\n",
       "      <td>17.074185</td>\n",
       "      <td>14.922491</td>\n",
       "      <td>14.885459</td>\n",
       "      <td>15.237449</td>\n",
       "      <td>15.111426</td>\n",
       "      <td>15.600575</td>\n",
       "      <td>15.600374</td>\n",
       "      <td>15.252728</td>\n",
       "      <td>...</td>\n",
       "      <td>2.085811e-01</td>\n",
       "      <td>2.070859e-01</td>\n",
       "      <td>22.763022</td>\n",
       "      <td>35.058448</td>\n",
       "      <td>15.400834</td>\n",
       "      <td>17.316189</td>\n",
       "      <td>3.410737</td>\n",
       "      <td>0.467754</td>\n",
       "      <td>14.392002</td>\n",
       "      <td>2.889230</td>\n",
       "    </tr>\n",
       "    <tr>\n",
       "      <th>min</th>\n",
       "      <td>0.000000</td>\n",
       "      <td>0.000000</td>\n",
       "      <td>0.000000</td>\n",
       "      <td>0.000000</td>\n",
       "      <td>0.000000</td>\n",
       "      <td>0.000000</td>\n",
       "      <td>0.000000</td>\n",
       "      <td>0.000000</td>\n",
       "      <td>0.000000</td>\n",
       "      <td>0.000000</td>\n",
       "      <td>...</td>\n",
       "      <td>-7.458212e-01</td>\n",
       "      <td>-7.421038e-01</td>\n",
       "      <td>3.736712</td>\n",
       "      <td>6.454405</td>\n",
       "      <td>1.436722</td>\n",
       "      <td>0.000000</td>\n",
       "      <td>0.510542</td>\n",
       "      <td>0.000000</td>\n",
       "      <td>0.000000</td>\n",
       "      <td>1.000000</td>\n",
       "    </tr>\n",
       "    <tr>\n",
       "      <th>25%</th>\n",
       "      <td>54.270596</td>\n",
       "      <td>34.628251</td>\n",
       "      <td>27.134954</td>\n",
       "      <td>22.152604</td>\n",
       "      <td>17.779317</td>\n",
       "      <td>16.509955</td>\n",
       "      <td>16.142753</td>\n",
       "      <td>15.170072</td>\n",
       "      <td>14.981445</td>\n",
       "      <td>14.189170</td>\n",
       "      <td>...</td>\n",
       "      <td>-1.659554e-01</td>\n",
       "      <td>-1.654091e-01</td>\n",
       "      <td>9.477854</td>\n",
       "      <td>17.833900</td>\n",
       "      <td>3.478282</td>\n",
       "      <td>14.893102</td>\n",
       "      <td>2.640077</td>\n",
       "      <td>0.000000</td>\n",
       "      <td>12.000000</td>\n",
       "      <td>3.000000</td>\n",
       "    </tr>\n",
       "    <tr>\n",
       "      <th>50%</th>\n",
       "      <td>74.850493</td>\n",
       "      <td>46.716638</td>\n",
       "      <td>38.133677</td>\n",
       "      <td>33.581847</td>\n",
       "      <td>30.752174</td>\n",
       "      <td>30.586093</td>\n",
       "      <td>30.338455</td>\n",
       "      <td>30.395567</td>\n",
       "      <td>30.146264</td>\n",
       "      <td>29.760050</td>\n",
       "      <td>...</td>\n",
       "      <td>-5.277997e-09</td>\n",
       "      <td>-8.137921e-09</td>\n",
       "      <td>11.984384</td>\n",
       "      <td>21.852503</td>\n",
       "      <td>4.507795</td>\n",
       "      <td>18.785621</td>\n",
       "      <td>4.292363</td>\n",
       "      <td>1.000000</td>\n",
       "      <td>25.000000</td>\n",
       "      <td>5.000000</td>\n",
       "    </tr>\n",
       "    <tr>\n",
       "      <th>75%</th>\n",
       "      <td>93.894152</td>\n",
       "      <td>58.166543</td>\n",
       "      <td>50.129512</td>\n",
       "      <td>44.366403</td>\n",
       "      <td>41.731754</td>\n",
       "      <td>42.094875</td>\n",
       "      <td>41.359002</td>\n",
       "      <td>41.674235</td>\n",
       "      <td>40.984961</td>\n",
       "      <td>40.346104</td>\n",
       "      <td>...</td>\n",
       "      <td>1.163689e-01</td>\n",
       "      <td>1.146088e-01</td>\n",
       "      <td>15.742905</td>\n",
       "      <td>27.626522</td>\n",
       "      <td>5.601991</td>\n",
       "      <td>25.275695</td>\n",
       "      <td>6.459832</td>\n",
       "      <td>1.000000</td>\n",
       "      <td>38.000000</td>\n",
       "      <td>8.000000</td>\n",
       "    </tr>\n",
       "    <tr>\n",
       "      <th>max</th>\n",
       "      <td>208.957500</td>\n",
       "      <td>123.849951</td>\n",
       "      <td>118.728586</td>\n",
       "      <td>92.085252</td>\n",
       "      <td>89.965195</td>\n",
       "      <td>89.935857</td>\n",
       "      <td>113.100970</td>\n",
       "      <td>118.224343</td>\n",
       "      <td>120.085079</td>\n",
       "      <td>113.077150</td>\n",
       "      <td>...</td>\n",
       "      <td>8.572066e-01</td>\n",
       "      <td>7.961318e-01</td>\n",
       "      <td>2206.362673</td>\n",
       "      <td>5031.091987</td>\n",
       "      <td>2444.047253</td>\n",
       "      <td>620.895529</td>\n",
       "      <td>156.366775</td>\n",
       "      <td>1.000000</td>\n",
       "      <td>49.000000</td>\n",
       "      <td>10.000000</td>\n",
       "    </tr>\n",
       "  </tbody>\n",
       "</table>\n",
       "<p>8 rows × 132 columns</p>\n",
       "</div>"
      ],
      "text/plain": [
       "         mfcc_2_std   mfcc_2_mean  mfcc_2_noise    mfcc_3_std   mfcc_3_mean  \\\n",
       "count  30947.000000  30947.000000  30947.000000  30947.000000  30947.000000   \n",
       "mean      73.719667     46.264479     38.909376     33.446607     30.420424   \n",
       "std       30.473942     18.374510     17.074185     14.922491     14.885459   \n",
       "min        0.000000      0.000000      0.000000      0.000000      0.000000   \n",
       "25%       54.270596     34.628251     27.134954     22.152604     17.779317   \n",
       "50%       74.850493     46.716638     38.133677     33.581847     30.752174   \n",
       "75%       93.894152     58.166543     50.129512     44.366403     41.731754   \n",
       "max      208.957500    123.849951    118.728586     92.085252     89.965195   \n",
       "\n",
       "       mfcc_3_noise    mfcc_4_std   mfcc_4_mean  mfcc_4_noise    mfcc_5_std  \\\n",
       "count  30947.000000  30947.000000  30947.000000  30947.000000  30947.000000   \n",
       "mean      30.067026     29.524960     29.485805     29.035557     28.434550   \n",
       "std       15.237449     15.111426     15.600575     15.600374     15.252728   \n",
       "min        0.000000      0.000000      0.000000      0.000000      0.000000   \n",
       "25%       16.509955     16.142753     15.170072     14.981445     14.189170   \n",
       "50%       30.586093     30.338455     30.395567     30.146264     29.760050   \n",
       "75%       42.094875     41.359002     41.674235     40.984961     40.346104   \n",
       "max       89.935857    113.100970    118.224343    120.085079    113.077150   \n",
       "\n",
       "           ...        sflat_noise     sroll_std    sroll_mean   sroll_noise  \\\n",
       "count      ...       3.094700e+04  3.094700e+04  30947.000000  30947.000000   \n",
       "mean       ...      -1.984839e-02 -1.938723e-02     14.260070     25.679845   \n",
       "std        ...       2.085811e-01  2.070859e-01     22.763022     35.058448   \n",
       "min        ...      -7.458212e-01 -7.421038e-01      3.736712      6.454405   \n",
       "25%        ...      -1.659554e-01 -1.654091e-01      9.477854     17.833900   \n",
       "50%        ...      -5.277997e-09 -8.137921e-09     11.984384     21.852503   \n",
       "75%        ...       1.163689e-01  1.146088e-01     15.742905     27.626522   \n",
       "max        ...       8.572066e-01  7.961318e-01   2206.362673   5031.091987   \n",
       "\n",
       "           rmse_std     rmse_mean    rmse_noise      h_target        target  \\\n",
       "count  30947.000000  30947.000000  30947.000000  30947.000000  30947.000000   \n",
       "mean       5.237762     22.727680      4.911355      0.676673     24.927586   \n",
       "std       15.400834     17.316189      3.410737      0.467754     14.392002   \n",
       "min        1.436722      0.000000      0.510542      0.000000      0.000000   \n",
       "25%        3.478282     14.893102      2.640077      0.000000     12.000000   \n",
       "50%        4.507795     18.785621      4.292363      1.000000     25.000000   \n",
       "75%        5.601991     25.275695      6.459832      1.000000     38.000000   \n",
       "max     2444.047253    620.895529    156.366775      1.000000     49.000000   \n",
       "\n",
       "               fold  \n",
       "count  30947.000000  \n",
       "mean       5.471936  \n",
       "std        2.889230  \n",
       "min        1.000000  \n",
       "25%        3.000000  \n",
       "50%        5.000000  \n",
       "75%        8.000000  \n",
       "max       10.000000  \n",
       "\n",
       "[8 rows x 132 columns]"
      ]
     },
     "execution_count": 6,
     "metadata": {},
     "output_type": "execute_result"
    }
   ],
   "source": [
    "df.describe()"
   ]
  },
  {
   "cell_type": "code",
   "execution_count": 7,
   "metadata": {},
   "outputs": [
    {
     "data": {
      "text/html": [
       "<div>\n",
       "<style scoped>\n",
       "    .dataframe tbody tr th:only-of-type {\n",
       "        vertical-align: middle;\n",
       "    }\n",
       "\n",
       "    .dataframe tbody tr th {\n",
       "        vertical-align: top;\n",
       "    }\n",
       "\n",
       "    .dataframe thead th {\n",
       "        text-align: right;\n",
       "    }\n",
       "</style>\n",
       "<table border=\"1\" class=\"dataframe\">\n",
       "  <thead>\n",
       "    <tr style=\"text-align: right;\">\n",
       "      <th></th>\n",
       "      <th>mfcc_2_std</th>\n",
       "      <th>mfcc_2_mean</th>\n",
       "      <th>mfcc_2_noise</th>\n",
       "      <th>mfcc_3_std</th>\n",
       "      <th>mfcc_3_mean</th>\n",
       "      <th>mfcc_3_noise</th>\n",
       "      <th>mfcc_4_std</th>\n",
       "      <th>mfcc_4_mean</th>\n",
       "      <th>mfcc_4_noise</th>\n",
       "      <th>mfcc_5_std</th>\n",
       "      <th>...</th>\n",
       "      <th>sflat_noise</th>\n",
       "      <th>sroll_std</th>\n",
       "      <th>sroll_mean</th>\n",
       "      <th>sroll_noise</th>\n",
       "      <th>rmse_std</th>\n",
       "      <th>rmse_mean</th>\n",
       "      <th>rmse_noise</th>\n",
       "      <th>h_target</th>\n",
       "      <th>target</th>\n",
       "      <th>fold</th>\n",
       "    </tr>\n",
       "  </thead>\n",
       "  <tbody>\n",
       "    <tr>\n",
       "      <th>0</th>\n",
       "      <td>29.566979</td>\n",
       "      <td>38.581673</td>\n",
       "      <td>23.175071</td>\n",
       "      <td>24.097116</td>\n",
       "      <td>14.293689</td>\n",
       "      <td>13.274004</td>\n",
       "      <td>9.751989</td>\n",
       "      <td>10.407591</td>\n",
       "      <td>10.445341</td>\n",
       "      <td>14.507037</td>\n",
       "      <td>...</td>\n",
       "      <td>0.093688</td>\n",
       "      <td>-0.244597</td>\n",
       "      <td>10.601514</td>\n",
       "      <td>20.214723</td>\n",
       "      <td>3.363856</td>\n",
       "      <td>18.003823</td>\n",
       "      <td>2.721278</td>\n",
       "      <td>0</td>\n",
       "      <td>0</td>\n",
       "      <td>6</td>\n",
       "    </tr>\n",
       "    <tr>\n",
       "      <th>1</th>\n",
       "      <td>36.087553</td>\n",
       "      <td>42.385458</td>\n",
       "      <td>41.323666</td>\n",
       "      <td>42.334032</td>\n",
       "      <td>40.613859</td>\n",
       "      <td>46.154355</td>\n",
       "      <td>39.037316</td>\n",
       "      <td>36.109261</td>\n",
       "      <td>37.146942</td>\n",
       "      <td>63.689873</td>\n",
       "      <td>...</td>\n",
       "      <td>0.210893</td>\n",
       "      <td>0.077557</td>\n",
       "      <td>19.903433</td>\n",
       "      <td>17.363853</td>\n",
       "      <td>5.242874</td>\n",
       "      <td>24.422219</td>\n",
       "      <td>6.690390</td>\n",
       "      <td>0</td>\n",
       "      <td>14</td>\n",
       "      <td>9</td>\n",
       "    </tr>\n",
       "    <tr>\n",
       "      <th>2</th>\n",
       "      <td>41.118476</td>\n",
       "      <td>57.628917</td>\n",
       "      <td>43.107704</td>\n",
       "      <td>33.185557</td>\n",
       "      <td>54.154237</td>\n",
       "      <td>41.865626</td>\n",
       "      <td>36.732927</td>\n",
       "      <td>36.665436</td>\n",
       "      <td>51.713698</td>\n",
       "      <td>44.632980</td>\n",
       "      <td>...</td>\n",
       "      <td>0.309464</td>\n",
       "      <td>0.088745</td>\n",
       "      <td>21.462776</td>\n",
       "      <td>17.886832</td>\n",
       "      <td>6.170742</td>\n",
       "      <td>20.789183</td>\n",
       "      <td>7.557844</td>\n",
       "      <td>0</td>\n",
       "      <td>14</td>\n",
       "      <td>9</td>\n",
       "    </tr>\n",
       "    <tr>\n",
       "      <th>3</th>\n",
       "      <td>40.309076</td>\n",
       "      <td>62.498436</td>\n",
       "      <td>47.926910</td>\n",
       "      <td>36.613700</td>\n",
       "      <td>47.454525</td>\n",
       "      <td>44.457627</td>\n",
       "      <td>51.339283</td>\n",
       "      <td>34.410413</td>\n",
       "      <td>54.180220</td>\n",
       "      <td>48.870488</td>\n",
       "      <td>...</td>\n",
       "      <td>-0.081635</td>\n",
       "      <td>-0.081316</td>\n",
       "      <td>21.383087</td>\n",
       "      <td>18.053033</td>\n",
       "      <td>6.724872</td>\n",
       "      <td>23.753132</td>\n",
       "      <td>8.544408</td>\n",
       "      <td>0</td>\n",
       "      <td>14</td>\n",
       "      <td>9</td>\n",
       "    </tr>\n",
       "    <tr>\n",
       "      <th>4</th>\n",
       "      <td>47.369925</td>\n",
       "      <td>81.112403</td>\n",
       "      <td>42.470077</td>\n",
       "      <td>51.519435</td>\n",
       "      <td>48.344907</td>\n",
       "      <td>56.496477</td>\n",
       "      <td>67.439424</td>\n",
       "      <td>52.695489</td>\n",
       "      <td>56.905152</td>\n",
       "      <td>60.244643</td>\n",
       "      <td>...</td>\n",
       "      <td>0.133368</td>\n",
       "      <td>0.006017</td>\n",
       "      <td>14.954617</td>\n",
       "      <td>18.298619</td>\n",
       "      <td>5.977200</td>\n",
       "      <td>28.201613</td>\n",
       "      <td>7.145342</td>\n",
       "      <td>0</td>\n",
       "      <td>14</td>\n",
       "      <td>9</td>\n",
       "    </tr>\n",
       "  </tbody>\n",
       "</table>\n",
       "<p>5 rows × 132 columns</p>\n",
       "</div>"
      ],
      "text/plain": [
       "   mfcc_2_std  mfcc_2_mean  mfcc_2_noise  mfcc_3_std  mfcc_3_mean  \\\n",
       "0   29.566979    38.581673     23.175071   24.097116    14.293689   \n",
       "1   36.087553    42.385458     41.323666   42.334032    40.613859   \n",
       "2   41.118476    57.628917     43.107704   33.185557    54.154237   \n",
       "3   40.309076    62.498436     47.926910   36.613700    47.454525   \n",
       "4   47.369925    81.112403     42.470077   51.519435    48.344907   \n",
       "\n",
       "   mfcc_3_noise  mfcc_4_std  mfcc_4_mean  mfcc_4_noise  mfcc_5_std  ...   \\\n",
       "0     13.274004    9.751989    10.407591     10.445341   14.507037  ...    \n",
       "1     46.154355   39.037316    36.109261     37.146942   63.689873  ...    \n",
       "2     41.865626   36.732927    36.665436     51.713698   44.632980  ...    \n",
       "3     44.457627   51.339283    34.410413     54.180220   48.870488  ...    \n",
       "4     56.496477   67.439424    52.695489     56.905152   60.244643  ...    \n",
       "\n",
       "   sflat_noise  sroll_std  sroll_mean  sroll_noise  rmse_std  rmse_mean  \\\n",
       "0     0.093688  -0.244597   10.601514    20.214723  3.363856  18.003823   \n",
       "1     0.210893   0.077557   19.903433    17.363853  5.242874  24.422219   \n",
       "2     0.309464   0.088745   21.462776    17.886832  6.170742  20.789183   \n",
       "3    -0.081635  -0.081316   21.383087    18.053033  6.724872  23.753132   \n",
       "4     0.133368   0.006017   14.954617    18.298619  5.977200  28.201613   \n",
       "\n",
       "   rmse_noise  h_target  target  fold  \n",
       "0    2.721278         0       0     6  \n",
       "1    6.690390         0      14     9  \n",
       "2    7.557844         0      14     9  \n",
       "3    8.544408         0      14     9  \n",
       "4    7.145342         0      14     9  \n",
       "\n",
       "[5 rows x 132 columns]"
      ]
     },
     "execution_count": 7,
     "metadata": {},
     "output_type": "execute_result"
    }
   ],
   "source": [
    "df.head()"
   ]
  },
  {
   "cell_type": "code",
   "execution_count": 8,
   "metadata": {},
   "outputs": [],
   "source": [
    "from sklearn.model_selection import train_test_split\n",
    "train, test, = train_test_split(\n",
    "                        df[df.fold != 1], test_size=0.20, random_state=42)"
   ]
  },
  {
   "cell_type": "code",
   "execution_count": 9,
   "metadata": {},
   "outputs": [],
   "source": [
    "X = (df[df.fold != 1]).drop(['target', 'h_target', 'fold'], axis=1)\n",
    "y = (df[df.fold != 1])['h_target']"
   ]
  },
  {
   "cell_type": "code",
   "execution_count": 10,
   "metadata": {},
   "outputs": [],
   "source": [
    "X, y = balanced_subsample(X, y)"
   ]
  },
  {
   "cell_type": "markdown",
   "metadata": {},
   "source": [
    "# Training"
   ]
  },
  {
   "cell_type": "code",
   "execution_count": 11,
   "metadata": {},
   "outputs": [
    {
     "name": "stdout",
     "output_type": "stream",
     "text": [
      "Fitting 10 folds for each of 100 candidates, totalling 1000 fits\n"
     ]
    },
    {
     "name": "stderr",
     "output_type": "stream",
     "text": [
      "[Parallel(n_jobs=10)]: Using backend LokyBackend with 10 concurrent workers.\n",
      "[Parallel(n_jobs=10)]: Done  21 tasks      | elapsed:   18.9s\n",
      "[Parallel(n_jobs=10)]: Done 142 tasks      | elapsed:  1.6min\n",
      "[Parallel(n_jobs=10)]: Done 345 tasks      | elapsed:  3.9min\n",
      "[Parallel(n_jobs=10)]: Done 628 tasks      | elapsed:  7.0min\n",
      "[Parallel(n_jobs=10)]: Done 1000 out of 1000 | elapsed: 11.0min finished\n"
     ]
    },
    {
     "data": {
      "text/plain": [
       "RandomizedSearchCV(cv=10, error_score='raise-deprecating',\n",
       "          estimator=Pipeline(memory=None,\n",
       "     steps=[('scaler', MinMaxScaler(copy=True, feature_range=(0, 1))), ('feat_sel', SelectKBest(k=90, score_func=<function chi2 at 0x7f1800b5bb70>)), ('feat_red', LinearDiscriminantAnalysis(n_components=20, priors=None, shrinkage=None,\n",
       "              solver='eigen', store_covariance=False, tol=0.0001)), (...tors='warn', n_jobs=10,\n",
       "            oob_score=False, random_state=42, verbose=0, warm_start=False))]),\n",
       "          fit_params=None, iid='warn', n_iter=100, n_jobs=10,\n",
       "          param_distributions={'classify__criterion': ('gini', 'entropy'), 'classify__max_depth': range(132, 660), 'classify__n_estimators': range(5, 100), 'classify__max_features': ('log2', 'auto', None), 'classify__oob_score': (True, False), 'classify__warm_start': (True, False)},\n",
       "          pre_dispatch='2*n_jobs', random_state=None, refit=False,\n",
       "          return_train_score='warn',\n",
       "          scoring=['accuracy', 'f1', 'recall', 'precision', 'roc_auc'],\n",
       "          verbose=2)"
      ]
     },
     "execution_count": 11,
     "metadata": {},
     "output_type": "execute_result"
    }
   ],
   "source": [
    "from sklearn.model_selection import RandomizedSearchCV\n",
    "from sklearn.decomposition import PCA\n",
    "from sklearn.discriminant_analysis import LinearDiscriminantAnalysis\n",
    "from sklearn.feature_selection import SelectKBest, chi2, mutual_info_regression\n",
    "from sklearn.preprocessing import MinMaxScaler\n",
    "from sklearn.pipeline import Pipeline\n",
    "import scipy\n",
    "\n",
    "params = {\n",
    "    'classify__n_estimators': range(5,100,1),\n",
    "    'classify__criterion': ('gini', 'entropy'),\n",
    "    'classify__max_depth': range(len(df.columns), 5 * len(df.columns)),\n",
    "    'classify__max_features': ('log2', 'auto', None),\n",
    "    'classify__oob_score': (True, False),\n",
    "    'classify__warm_start': (True, False)\n",
    "}\n",
    "\n",
    "clf = Pipeline([\n",
    "    ('scaler', MinMaxScaler()),\n",
    "    ('feat_sel', SelectKBest(k=90, score_func=chi2)),\n",
    "    ('feat_red', LinearDiscriminantAnalysis(n_components=20, solver='eigen')),\n",
    "    ('classify', RandomForestClassifier(n_jobs=10, random_state=42))\n",
    "])\n",
    "\n",
    "randsrc = RandomizedSearchCV(\n",
    "                clf,\n",
    "                scoring=['accuracy', 'f1', 'recall', 'precision', 'roc_auc'], \n",
    "                cv=10,\n",
    "                refit=False,\n",
    "                param_distributions = params,\n",
    "                verbose=2,\n",
    "                n_jobs=10,\n",
    "                n_iter=100\n",
    ")\n",
    "\n",
    "randsrc.fit(X, y)"
   ]
  },
  {
   "cell_type": "code",
   "execution_count": 12,
   "metadata": {},
   "outputs": [],
   "source": [
    "results = pd.DataFrame(randsrc.cv_results_)"
   ]
  },
  {
   "cell_type": "code",
   "execution_count": 13,
   "metadata": {},
   "outputs": [],
   "source": [
    "top = results.sort_values(['mean_test_roc_auc', 'mean_fit_time'], ascending=[False, True]).iloc[0]"
   ]
  },
  {
   "cell_type": "code",
   "execution_count": 14,
   "metadata": {},
   "outputs": [
    {
     "data": {
      "text/plain": [
       "{'classify__criterion': 'entropy',\n",
       " 'classify__max_depth': 320,\n",
       " 'classify__max_features': 'auto',\n",
       " 'classify__n_estimators': 97,\n",
       " 'classify__oob_score': False,\n",
       " 'classify__warm_start': False}"
      ]
     },
     "execution_count": 14,
     "metadata": {},
     "output_type": "execute_result"
    }
   ],
   "source": [
    "top.params"
   ]
  },
  {
   "cell_type": "code",
   "execution_count": 15,
   "metadata": {},
   "outputs": [
    {
     "data": {
      "text/plain": [
       "Pipeline(memory=None,\n",
       "     steps=[('scaler', MinMaxScaler(copy=True, feature_range=(0, 1))), ('feat_sel', SelectKBest(k=90, score_func=<function chi2 at 0x7f1800b5bb70>)), ('feat_red', LinearDiscriminantAnalysis(n_components=20, priors=None, shrinkage=None,\n",
       "              solver='eigen', store_covariance=False, tol=0.0001)), (...timators=97, n_jobs=10,\n",
       "            oob_score=False, random_state=42, verbose=0, warm_start=False))])"
      ]
     },
     "execution_count": 15,
     "metadata": {},
     "output_type": "execute_result"
    }
   ],
   "source": [
    "clf.set_params(**top.params)"
   ]
  },
  {
   "cell_type": "markdown",
   "metadata": {},
   "source": [
    "# Testing Optimal Classifier"
   ]
  },
  {
   "cell_type": "markdown",
   "metadata": {},
   "source": [
    "### Training"
   ]
  },
  {
   "cell_type": "code",
   "execution_count": 16,
   "metadata": {},
   "outputs": [],
   "source": [
    "from sklearn.model_selection import train_test_split\n",
    "train, test, = train_test_split(\n",
    "                        df[df.fold != 1], test_size=0.20, random_state=42)"
   ]
  },
  {
   "cell_type": "code",
   "execution_count": 17,
   "metadata": {},
   "outputs": [],
   "source": [
    "train_X = train.drop(['target', 'h_target', 'fold'], axis=1)\n",
    "train_y = train['h_target']\n",
    "train_X, train_y = balanced_subsample(train_X, train_y)\n",
    "test_X = test.drop(['target', 'h_target', 'fold'], axis=1)\n",
    "test_y = test['h_target']"
   ]
  },
  {
   "cell_type": "code",
   "execution_count": 18,
   "metadata": {},
   "outputs": [
    {
     "data": {
      "text/plain": [
       "Pipeline(memory=None,\n",
       "     steps=[('scaler', MinMaxScaler(copy=True, feature_range=(0, 1))), ('feat_sel', SelectKBest(k=90, score_func=<function chi2 at 0x7f1800b5bb70>)), ('feat_red', LinearDiscriminantAnalysis(n_components=20, priors=None, shrinkage=None,\n",
       "              solver='eigen', store_covariance=False, tol=0.0001)), (...timators=97, n_jobs=10,\n",
       "            oob_score=False, random_state=42, verbose=0, warm_start=False))])"
      ]
     },
     "execution_count": 18,
     "metadata": {},
     "output_type": "execute_result"
    }
   ],
   "source": [
    "clf.fit(train_X, train_y)"
   ]
  },
  {
   "cell_type": "code",
   "execution_count": 19,
   "metadata": {},
   "outputs": [
    {
     "name": "stdout",
     "output_type": "stream",
     "text": [
      "0.5700867052023122\n",
      "Confusion matrix, without normalization\n",
      "[[1050  777]\n",
      " [1603 2106]]\n"
     ]
    },
    {
     "data": {
      "image/png": "[encoded data removed]",
      "text/plain": [
       "<Figure size 720x720 with 2 Axes>"
      ]
     },
     "metadata": {
      "needs_background": "light"
     },
     "output_type": "display_data"
    }
   ],
   "source": [
    "pred = clf.predict(test_X)\n",
    "print(metrics.accuracy_score(test_y, pred))\n",
    "cm = metrics.confusion_matrix(test_y, pred)\n",
    "plt.figure(figsize=(10,10))\n",
    "plot_confusion_matrix(cm, h_classes)\n",
    "plt.show()"
   ]
  },
  {
   "cell_type": "markdown",
   "metadata": {},
   "source": [
    "### Testing"
   ]
  },
  {
   "cell_type": "code",
   "execution_count": 20,
   "metadata": {},
   "outputs": [],
   "source": [
    "all_df = df[df.fold == 1]"
   ]
  },
  {
   "cell_type": "code",
   "execution_count": 21,
   "metadata": {},
   "outputs": [],
   "source": [
    "X = all_df.drop(['target', 'h_target', 'fold'], axis=1)\n",
    "y = all_df['h_target']"
   ]
  },
  {
   "cell_type": "code",
   "execution_count": 22,
   "metadata": {},
   "outputs": [
    {
     "name": "stdout",
     "output_type": "stream",
     "text": [
      "0.5511015911872705\n",
      "Confusion matrix, without normalization\n",
      "[[ 538  507]\n",
      " [ 960 1263]]\n"
     ]
    },
    {
     "data": {
      "image/png": "[encoded data removed]",
      "text/plain": [
       "<Figure size 720x720 with 2 Axes>"
      ]
     },
     "metadata": {
      "needs_background": "light"
     },
     "output_type": "display_data"
    }
   ],
   "source": [
    "pred = clf.predict(X)\n",
    "pred_prob = clf.predict_proba(X)\n",
    "print(metrics.accuracy_score(y, pred))\n",
    "cm = metrics.confusion_matrix(y, pred)\n",
    "plt.figure(figsize=(10,10))\n",
    "plot_confusion_matrix(cm, h_classes)\n",
    "plt.show()"
   ]
  },
  {
   "cell_type": "markdown",
   "metadata": {},
   "source": [
    "### Confidence"
   ]
  },
  {
   "cell_type": "code",
   "execution_count": 23,
   "metadata": {
    "scrolled": true
   },
   "outputs": [],
   "source": [
    "import seaborn as sns\n",
    "misclassified = {\n",
    "    'Predicted h_target': [],\n",
    "    'Actual target': [],\n",
    "    'Anim_prob': [],\n",
    "    'Interact_prob': []\n",
    "}\n",
    "\n",
    "correctly_classified = {\n",
    "    'Predicted h_target': [],\n",
    "    'Actual target': [],\n",
    "    'Anim_prob': [],\n",
    "    'Interact_prob': []\n",
    "}\n",
    "\n",
    "for row, p, prob, Y in zip(all_df.iterrows(), pred, pred_prob, y):\n",
    "    Y = int(Y)\n",
    "    p = int(p)\n",
    "    if p!=Y:\n",
    "        misclassified['Actual target'].append(classes[int(row[1]['target'])])\n",
    "        misclassified['Predicted h_target'].append(h_classes[p])\n",
    "        misclassified['Anim_prob'].append(prob[0])\n",
    "        misclassified['Interact_prob'].append(prob[1])\n",
    "    else:\n",
    "        correctly_classified['Actual target'].append(classes[int(row[1]['target'])])\n",
    "        correctly_classified['Predicted h_target'].append(h_classes[p])\n",
    "        correctly_classified['Anim_prob'].append(prob[0])\n",
    "        correctly_classified['Interact_prob'].append(prob[1])\n",
    "\n",
    "misclassified = pd.DataFrame.from_dict(misclassified)\n",
    "correctly_classified = pd.DataFrame.from_dict(correctly_classified)"
   ]
  },
  {
   "cell_type": "code",
   "execution_count": 24,
   "metadata": {},
   "outputs": [],
   "source": [
    "gb_ms = misclassified.groupby('Predicted h_target')\n",
    "means = gb_ms.mean()\n",
    "errors = gb_ms.std()"
   ]
  },
  {
   "cell_type": "code",
   "execution_count": 25,
   "metadata": {},
   "outputs": [
    {
     "data": {
      "text/html": [
       "<div>\n",
       "<style scoped>\n",
       "    .dataframe tbody tr th:only-of-type {\n",
       "        vertical-align: middle;\n",
       "    }\n",
       "\n",
       "    .dataframe tbody tr th {\n",
       "        vertical-align: top;\n",
       "    }\n",
       "\n",
       "    .dataframe thead th {\n",
       "        text-align: right;\n",
       "    }\n",
       "</style>\n",
       "<table border=\"1\" class=\"dataframe\">\n",
       "  <thead>\n",
       "    <tr style=\"text-align: right;\">\n",
       "      <th></th>\n",
       "      <th>Anim_prob</th>\n",
       "      <th>Interact_prob</th>\n",
       "    </tr>\n",
       "    <tr>\n",
       "      <th>Predicted h_target</th>\n",
       "      <th></th>\n",
       "      <th></th>\n",
       "    </tr>\n",
       "  </thead>\n",
       "  <tbody>\n",
       "    <tr>\n",
       "      <th>Human &amp; Animal</th>\n",
       "      <td>0.815219</td>\n",
       "      <td>0.184781</td>\n",
       "    </tr>\n",
       "    <tr>\n",
       "      <th>Interacting Materials</th>\n",
       "      <td>0.163605</td>\n",
       "      <td>0.836395</td>\n",
       "    </tr>\n",
       "  </tbody>\n",
       "</table>\n",
       "</div>"
      ],
      "text/plain": [
       "                       Anim_prob  Interact_prob\n",
       "Predicted h_target                             \n",
       "Human & Animal          0.815219       0.184781\n",
       "Interacting Materials   0.163605       0.836395"
      ]
     },
     "execution_count": 25,
     "metadata": {},
     "output_type": "execute_result"
    }
   ],
   "source": [
    "means.head()"
   ]
  },
  {
   "cell_type": "code",
   "execution_count": 26,
   "metadata": {},
   "outputs": [
    {
     "data": {
      "text/html": [
       "<div>\n",
       "<style scoped>\n",
       "    .dataframe tbody tr th:only-of-type {\n",
       "        vertical-align: middle;\n",
       "    }\n",
       "\n",
       "    .dataframe tbody tr th {\n",
       "        vertical-align: top;\n",
       "    }\n",
       "\n",
       "    .dataframe thead th {\n",
       "        text-align: right;\n",
       "    }\n",
       "</style>\n",
       "<table border=\"1\" class=\"dataframe\">\n",
       "  <thead>\n",
       "    <tr style=\"text-align: right;\">\n",
       "      <th></th>\n",
       "      <th>Anim_prob</th>\n",
       "      <th>Interact_prob</th>\n",
       "    </tr>\n",
       "    <tr>\n",
       "      <th>Predicted h_target</th>\n",
       "      <th></th>\n",
       "      <th></th>\n",
       "    </tr>\n",
       "  </thead>\n",
       "  <tbody>\n",
       "    <tr>\n",
       "      <th>Human &amp; Animal</th>\n",
       "      <td>0.136154</td>\n",
       "      <td>0.136154</td>\n",
       "    </tr>\n",
       "    <tr>\n",
       "      <th>Interacting Materials</th>\n",
       "      <td>0.138061</td>\n",
       "      <td>0.138061</td>\n",
       "    </tr>\n",
       "  </tbody>\n",
       "</table>\n",
       "</div>"
      ],
      "text/plain": [
       "                       Anim_prob  Interact_prob\n",
       "Predicted h_target                             \n",
       "Human & Animal          0.136154       0.136154\n",
       "Interacting Materials   0.138061       0.138061"
      ]
     },
     "execution_count": 26,
     "metadata": {},
     "output_type": "execute_result"
    }
   ],
   "source": [
    "errors.head()"
   ]
  },
  {
   "cell_type": "code",
   "execution_count": 27,
   "metadata": {},
   "outputs": [
    {
     "data": {
      "text/plain": [
       "<matplotlib.axes._subplots.AxesSubplot at 0x7f1881f90f98>"
      ]
     },
     "execution_count": 27,
     "metadata": {},
     "output_type": "execute_result"
    },
    {
     "data": {
      "image/png": "[encoded data removed]",
      "text/plain": [
       "<Figure size 432x288 with 1 Axes>"
      ]
     },
     "metadata": {
      "needs_background": "light"
     },
     "output_type": "display_data"
    }
   ],
   "source": [
    "means.min(axis=1).plot(yerr=errors, kind='bar')"
   ]
  },
  {
   "cell_type": "code",
   "execution_count": 28,
   "metadata": {},
   "outputs": [],
   "source": [
    "gb_ms = correctly_classified.groupby('Predicted h_target')\n",
    "means = gb_ms.mean()\n",
    "errors = gb_ms.std()"
   ]
  },
  {
   "cell_type": "code",
   "execution_count": 29,
   "metadata": {},
   "outputs": [
    {
     "data": {
      "text/html": [
       "<div>\n",
       "<style scoped>\n",
       "    .dataframe tbody tr th:only-of-type {\n",
       "        vertical-align: middle;\n",
       "    }\n",
       "\n",
       "    .dataframe tbody tr th {\n",
       "        vertical-align: top;\n",
       "    }\n",
       "\n",
       "    .dataframe thead th {\n",
       "        text-align: right;\n",
       "    }\n",
       "</style>\n",
       "<table border=\"1\" class=\"dataframe\">\n",
       "  <thead>\n",
       "    <tr style=\"text-align: right;\">\n",
       "      <th></th>\n",
       "      <th>Anim_prob</th>\n",
       "      <th>Interact_prob</th>\n",
       "    </tr>\n",
       "    <tr>\n",
       "      <th>Predicted h_target</th>\n",
       "      <th></th>\n",
       "      <th></th>\n",
       "    </tr>\n",
       "  </thead>\n",
       "  <tbody>\n",
       "    <tr>\n",
       "      <th>Human &amp; Animal</th>\n",
       "      <td>0.846886</td>\n",
       "      <td>0.153114</td>\n",
       "    </tr>\n",
       "    <tr>\n",
       "      <th>Interacting Materials</th>\n",
       "      <td>0.139402</td>\n",
       "      <td>0.860598</td>\n",
       "    </tr>\n",
       "  </tbody>\n",
       "</table>\n",
       "</div>"
      ],
      "text/plain": [
       "                       Anim_prob  Interact_prob\n",
       "Predicted h_target                             \n",
       "Human & Animal          0.846886       0.153114\n",
       "Interacting Materials   0.139402       0.860598"
      ]
     },
     "execution_count": 29,
     "metadata": {},
     "output_type": "execute_result"
    }
   ],
   "source": [
    "means.head()"
   ]
  },
  {
   "cell_type": "code",
   "execution_count": 30,
   "metadata": {},
   "outputs": [
    {
     "data": {
      "text/html": [
       "<div>\n",
       "<style scoped>\n",
       "    .dataframe tbody tr th:only-of-type {\n",
       "        vertical-align: middle;\n",
       "    }\n",
       "\n",
       "    .dataframe tbody tr th {\n",
       "        vertical-align: top;\n",
       "    }\n",
       "\n",
       "    .dataframe thead th {\n",
       "        text-align: right;\n",
       "    }\n",
       "</style>\n",
       "<table border=\"1\" class=\"dataframe\">\n",
       "  <thead>\n",
       "    <tr style=\"text-align: right;\">\n",
       "      <th></th>\n",
       "      <th>Anim_prob</th>\n",
       "      <th>Interact_prob</th>\n",
       "    </tr>\n",
       "    <tr>\n",
       "      <th>Predicted h_target</th>\n",
       "      <th></th>\n",
       "      <th></th>\n",
       "    </tr>\n",
       "  </thead>\n",
       "  <tbody>\n",
       "    <tr>\n",
       "      <th>Human &amp; Animal</th>\n",
       "      <td>0.132287</td>\n",
       "      <td>0.132287</td>\n",
       "    </tr>\n",
       "    <tr>\n",
       "      <th>Interacting Materials</th>\n",
       "      <td>0.134059</td>\n",
       "      <td>0.134059</td>\n",
       "    </tr>\n",
       "  </tbody>\n",
       "</table>\n",
       "</div>"
      ],
      "text/plain": [
       "                       Anim_prob  Interact_prob\n",
       "Predicted h_target                             \n",
       "Human & Animal          0.132287       0.132287\n",
       "Interacting Materials   0.134059       0.134059"
      ]
     },
     "execution_count": 30,
     "metadata": {},
     "output_type": "execute_result"
    }
   ],
   "source": [
    "errors.head()"
   ]
  },
  {
   "cell_type": "code",
   "execution_count": 31,
   "metadata": {},
   "outputs": [
    {
     "data": {
      "text/plain": [
       "<matplotlib.axes._subplots.AxesSubplot at 0x7f1881f7d1d0>"
      ]
     },
     "execution_count": 31,
     "metadata": {},
     "output_type": "execute_result"
    },
    {
     "data": {
      "image/png": "[encoded data removed]",
      "text/plain": [
       "<Figure size 432x288 with 1 Axes>"
      ]
     },
     "metadata": {
      "needs_background": "light"
     },
     "output_type": "display_data"
    }
   ],
   "source": [
    "means.min(axis=1).plot(yerr=errors, kind='bar')"
   ]
  },
  {
   "cell_type": "code",
   "execution_count": 32,
   "metadata": {},
   "outputs": [
    {
     "data": {
      "text/html": [
       "<div>\n",
       "<style scoped>\n",
       "    .dataframe tbody tr th:only-of-type {\n",
       "        vertical-align: middle;\n",
       "    }\n",
       "\n",
       "    .dataframe tbody tr th {\n",
       "        vertical-align: top;\n",
       "    }\n",
       "\n",
       "    .dataframe thead th {\n",
       "        text-align: right;\n",
       "    }\n",
       "</style>\n",
       "<table border=\"1\" class=\"dataframe\">\n",
       "  <thead>\n",
       "    <tr style=\"text-align: right;\">\n",
       "      <th></th>\n",
       "      <th>Anim_prob</th>\n",
       "      <th>Interact_prob</th>\n",
       "    </tr>\n",
       "    <tr>\n",
       "      <th>Actual target</th>\n",
       "      <th></th>\n",
       "      <th></th>\n",
       "    </tr>\n",
       "  </thead>\n",
       "  <tbody>\n",
       "    <tr>\n",
       "      <th>airplane</th>\n",
       "      <td>0.770523</td>\n",
       "      <td>0.229477</td>\n",
       "    </tr>\n",
       "    <tr>\n",
       "      <th>breathing</th>\n",
       "      <td>0.169367</td>\n",
       "      <td>0.830633</td>\n",
       "    </tr>\n",
       "    <tr>\n",
       "      <th>brushing_teeth</th>\n",
       "      <td>0.826729</td>\n",
       "      <td>0.173271</td>\n",
       "    </tr>\n",
       "    <tr>\n",
       "      <th>can_opening</th>\n",
       "      <td>0.824742</td>\n",
       "      <td>0.175258</td>\n",
       "    </tr>\n",
       "    <tr>\n",
       "      <th>car_horn</th>\n",
       "      <td>0.762457</td>\n",
       "      <td>0.237543</td>\n",
       "    </tr>\n",
       "    <tr>\n",
       "      <th>cat</th>\n",
       "      <td>0.186598</td>\n",
       "      <td>0.813402</td>\n",
       "    </tr>\n",
       "    <tr>\n",
       "      <th>chainsaw</th>\n",
       "      <td>0.810997</td>\n",
       "      <td>0.189003</td>\n",
       "    </tr>\n",
       "    <tr>\n",
       "      <th>chirping_birds</th>\n",
       "      <td>0.120459</td>\n",
       "      <td>0.879541</td>\n",
       "    </tr>\n",
       "    <tr>\n",
       "      <th>church_bells</th>\n",
       "      <td>0.861443</td>\n",
       "      <td>0.138557</td>\n",
       "    </tr>\n",
       "    <tr>\n",
       "      <th>clapping</th>\n",
       "      <td>0.765832</td>\n",
       "      <td>0.234168</td>\n",
       "    </tr>\n",
       "    <tr>\n",
       "      <th>clock_alarm</th>\n",
       "      <td>0.794208</td>\n",
       "      <td>0.205792</td>\n",
       "    </tr>\n",
       "    <tr>\n",
       "      <th>clock_tick</th>\n",
       "      <td>0.827293</td>\n",
       "      <td>0.172707</td>\n",
       "    </tr>\n",
       "    <tr>\n",
       "      <th>coughing</th>\n",
       "      <td>0.257732</td>\n",
       "      <td>0.742268</td>\n",
       "    </tr>\n",
       "    <tr>\n",
       "      <th>cow</th>\n",
       "      <td>0.152999</td>\n",
       "      <td>0.847001</td>\n",
       "    </tr>\n",
       "    <tr>\n",
       "      <th>crackling_fire</th>\n",
       "      <td>0.749461</td>\n",
       "      <td>0.250539</td>\n",
       "    </tr>\n",
       "    <tr>\n",
       "      <th>crickets</th>\n",
       "      <td>0.098969</td>\n",
       "      <td>0.901031</td>\n",
       "    </tr>\n",
       "    <tr>\n",
       "      <th>crow</th>\n",
       "      <td>0.154639</td>\n",
       "      <td>0.845361</td>\n",
       "    </tr>\n",
       "    <tr>\n",
       "      <th>crying_baby</th>\n",
       "      <td>0.181818</td>\n",
       "      <td>0.818182</td>\n",
       "    </tr>\n",
       "    <tr>\n",
       "      <th>dog</th>\n",
       "      <td>0.257732</td>\n",
       "      <td>0.742268</td>\n",
       "    </tr>\n",
       "    <tr>\n",
       "      <th>door_wood_creaks</th>\n",
       "      <td>0.888612</td>\n",
       "      <td>0.111388</td>\n",
       "    </tr>\n",
       "    <tr>\n",
       "      <th>door_wood_knock</th>\n",
       "      <td>0.730928</td>\n",
       "      <td>0.269072</td>\n",
       "    </tr>\n",
       "    <tr>\n",
       "      <th>drinking_sipping</th>\n",
       "      <td>0.822572</td>\n",
       "      <td>0.177428</td>\n",
       "    </tr>\n",
       "    <tr>\n",
       "      <th>engine</th>\n",
       "      <td>0.793543</td>\n",
       "      <td>0.206457</td>\n",
       "    </tr>\n",
       "    <tr>\n",
       "      <th>footsteps</th>\n",
       "      <td>0.859381</td>\n",
       "      <td>0.140619</td>\n",
       "    </tr>\n",
       "    <tr>\n",
       "      <th>frog</th>\n",
       "      <td>0.206254</td>\n",
       "      <td>0.793746</td>\n",
       "    </tr>\n",
       "    <tr>\n",
       "      <th>glass_breaking</th>\n",
       "      <td>0.804124</td>\n",
       "      <td>0.195876</td>\n",
       "    </tr>\n",
       "    <tr>\n",
       "      <th>hand_saw</th>\n",
       "      <td>0.852032</td>\n",
       "      <td>0.147968</td>\n",
       "    </tr>\n",
       "    <tr>\n",
       "      <th>helicopter</th>\n",
       "      <td>0.766635</td>\n",
       "      <td>0.233365</td>\n",
       "    </tr>\n",
       "    <tr>\n",
       "      <th>hen</th>\n",
       "      <td>0.223420</td>\n",
       "      <td>0.776580</td>\n",
       "    </tr>\n",
       "    <tr>\n",
       "      <th>insects</th>\n",
       "      <td>0.113402</td>\n",
       "      <td>0.886598</td>\n",
       "    </tr>\n",
       "    <tr>\n",
       "      <th>keyboard_typing</th>\n",
       "      <td>0.794409</td>\n",
       "      <td>0.205591</td>\n",
       "    </tr>\n",
       "    <tr>\n",
       "      <th>laughing</th>\n",
       "      <td>0.136710</td>\n",
       "      <td>0.863290</td>\n",
       "    </tr>\n",
       "    <tr>\n",
       "      <th>mouse_click</th>\n",
       "      <td>0.758305</td>\n",
       "      <td>0.241695</td>\n",
       "    </tr>\n",
       "    <tr>\n",
       "      <th>pig</th>\n",
       "      <td>0.203939</td>\n",
       "      <td>0.796061</td>\n",
       "    </tr>\n",
       "    <tr>\n",
       "      <th>pouring_water</th>\n",
       "      <td>0.889180</td>\n",
       "      <td>0.110820</td>\n",
       "    </tr>\n",
       "    <tr>\n",
       "      <th>rain</th>\n",
       "      <td>0.768614</td>\n",
       "      <td>0.231386</td>\n",
       "    </tr>\n",
       "    <tr>\n",
       "      <th>rooster</th>\n",
       "      <td>0.248568</td>\n",
       "      <td>0.751432</td>\n",
       "    </tr>\n",
       "    <tr>\n",
       "      <th>sea_waves</th>\n",
       "      <td>0.825508</td>\n",
       "      <td>0.174492</td>\n",
       "    </tr>\n",
       "    <tr>\n",
       "      <th>sheep</th>\n",
       "      <td>0.191405</td>\n",
       "      <td>0.808595</td>\n",
       "    </tr>\n",
       "    <tr>\n",
       "      <th>siren</th>\n",
       "      <td>0.829782</td>\n",
       "      <td>0.170218</td>\n",
       "    </tr>\n",
       "    <tr>\n",
       "      <th>sneezing</th>\n",
       "      <td>0.079897</td>\n",
       "      <td>0.920103</td>\n",
       "    </tr>\n",
       "    <tr>\n",
       "      <th>snoring</th>\n",
       "      <td>0.215022</td>\n",
       "      <td>0.784978</td>\n",
       "    </tr>\n",
       "    <tr>\n",
       "      <th>thunderstorm</th>\n",
       "      <td>0.814433</td>\n",
       "      <td>0.185567</td>\n",
       "    </tr>\n",
       "    <tr>\n",
       "      <th>toilet_flush</th>\n",
       "      <td>0.779867</td>\n",
       "      <td>0.220133</td>\n",
       "    </tr>\n",
       "    <tr>\n",
       "      <th>train</th>\n",
       "      <td>0.777570</td>\n",
       "      <td>0.222430</td>\n",
       "    </tr>\n",
       "    <tr>\n",
       "      <th>vacuum_cleaner</th>\n",
       "      <td>0.829718</td>\n",
       "      <td>0.170282</td>\n",
       "    </tr>\n",
       "    <tr>\n",
       "      <th>washing_machine</th>\n",
       "      <td>0.813144</td>\n",
       "      <td>0.186856</td>\n",
       "    </tr>\n",
       "    <tr>\n",
       "      <th>water_drops</th>\n",
       "      <td>0.873478</td>\n",
       "      <td>0.126522</td>\n",
       "    </tr>\n",
       "    <tr>\n",
       "      <th>wind</th>\n",
       "      <td>0.782720</td>\n",
       "      <td>0.217280</td>\n",
       "    </tr>\n",
       "  </tbody>\n",
       "</table>\n",
       "</div>"
      ],
      "text/plain": [
       "                  Anim_prob  Interact_prob\n",
       "Actual target                             \n",
       "airplane           0.770523       0.229477\n",
       "breathing          0.169367       0.830633\n",
       "brushing_teeth     0.826729       0.173271\n",
       "can_opening        0.824742       0.175258\n",
       "car_horn           0.762457       0.237543\n",
       "cat                0.186598       0.813402\n",
       "chainsaw           0.810997       0.189003\n",
       "chirping_birds     0.120459       0.879541\n",
       "church_bells       0.861443       0.138557\n",
       "clapping           0.765832       0.234168\n",
       "clock_alarm        0.794208       0.205792\n",
       "clock_tick         0.827293       0.172707\n",
       "coughing           0.257732       0.742268\n",
       "cow                0.152999       0.847001\n",
       "crackling_fire     0.749461       0.250539\n",
       "crickets           0.098969       0.901031\n",
       "crow               0.154639       0.845361\n",
       "crying_baby        0.181818       0.818182\n",
       "dog                0.257732       0.742268\n",
       "door_wood_creaks   0.888612       0.111388\n",
       "door_wood_knock    0.730928       0.269072\n",
       "drinking_sipping   0.822572       0.177428\n",
       "engine             0.793543       0.206457\n",
       "footsteps          0.859381       0.140619\n",
       "frog               0.206254       0.793746\n",
       "glass_breaking     0.804124       0.195876\n",
       "hand_saw           0.852032       0.147968\n",
       "helicopter         0.766635       0.233365\n",
       "hen                0.223420       0.776580\n",
       "insects            0.113402       0.886598\n",
       "keyboard_typing    0.794409       0.205591\n",
       "laughing           0.136710       0.863290\n",
       "mouse_click        0.758305       0.241695\n",
       "pig                0.203939       0.796061\n",
       "pouring_water      0.889180       0.110820\n",
       "rain               0.768614       0.231386\n",
       "rooster            0.248568       0.751432\n",
       "sea_waves          0.825508       0.174492\n",
       "sheep              0.191405       0.808595\n",
       "siren              0.829782       0.170218\n",
       "sneezing           0.079897       0.920103\n",
       "snoring            0.215022       0.784978\n",
       "thunderstorm       0.814433       0.185567\n",
       "toilet_flush       0.779867       0.220133\n",
       "train              0.777570       0.222430\n",
       "vacuum_cleaner     0.829718       0.170282\n",
       "washing_machine    0.813144       0.186856\n",
       "water_drops        0.873478       0.126522\n",
       "wind               0.782720       0.217280"
      ]
     },
     "execution_count": 32,
     "metadata": {},
     "output_type": "execute_result"
    }
   ],
   "source": [
    "average_prob = misclassified.groupby('Actual target').mean()\n",
    "average_prob"
   ]
  },
  {
   "cell_type": "code",
   "execution_count": 33,
   "metadata": {},
   "outputs": [
    {
     "data": {
      "text/plain": [
       "<matplotlib.axes._subplots.AxesSubplot at 0x7f1881e802b0>"
      ]
     },
     "execution_count": 33,
     "metadata": {},
     "output_type": "execute_result"
    },
    {
     "data": {
      "image/png": "[encoded data removed]",
      "text/plain": [
       "<Figure size 432x288 with 1 Axes>"
      ]
     },
     "metadata": {
      "needs_background": "light"
     },
     "output_type": "display_data"
    }
   ],
   "source": [
    "average_prob.min(axis=1).plot(kind='bar')"
   ]
  },
  {
   "cell_type": "code",
   "execution_count": 34,
   "metadata": {},
   "outputs": [
    {
     "data": {
      "text/plain": [
       "<matplotlib.axes._subplots.AxesSubplot at 0x7f18a844fda0>"
      ]
     },
     "execution_count": 34,
     "metadata": {},
     "output_type": "execute_result"
    },
    {
     "data": {
      "image/png": "[encoded data removed]",
      "text/plain": [
       "<Figure size 3600x720 with 1 Axes>"
      ]
     },
     "metadata": {
      "needs_background": "light"
     },
     "output_type": "display_data"
    }
   ],
   "source": [
    "from matplotlib import pyplot as plt\n",
    "fig, ax = plt.subplots(figsize=(50,10))\n",
    "sns.countplot(x='Actual target', hue='Predicted h_target',data=misclassified)"
   ]
  },
  {
   "cell_type": "code",
   "execution_count": null,
   "metadata": {},
   "outputs": [],
   "source": []
  }
 ],
 "metadata": {
  "kernelspec": {
   "display_name": "Python 3",
   "language": "python",
   "name": "python3"
  },
  "language_info": {
   "codemirror_mode": {
    "name": "ipython",
    "version": 3
   },
   "file_extension": ".py",
   "mimetype": "text/x-python",
   "name": "python",
   "nbconvert_exporter": "python",
   "pygments_lexer": "ipython3",
   "version": "3.5.2"
  }
 },
 "nbformat": 4,
 "nbformat_minor": 2
}
