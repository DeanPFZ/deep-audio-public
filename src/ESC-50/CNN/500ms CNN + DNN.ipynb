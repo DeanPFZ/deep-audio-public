{
 "cells": [
  {
   "cell_type": "code",
   "execution_count": 1,
   "metadata": {},
   "outputs": [
    {
     "name": "stderr",
     "output_type": "stream",
     "text": [
      "Using TensorFlow backend.\n"
     ]
    },
    {
     "name": "stdout",
     "output_type": "stream",
     "text": [
      "WARNING:tensorflow:From /usr/local/lib/python3.5/dist-packages/magenta/models/nsynth/wavenet/masked.py:115: UniformUnitScaling.__init__ (from tensorflow.python.ops.init_ops) is deprecated and will be removed in a future version.\n",
      "Instructions for updating:\n",
      "Use tf.initializers.variance_scaling instead with distribution=uniform to get equivalent behavior.\n"
     ]
    }
   ],
   "source": [
    "import sys\n",
    "sys.path.insert(0, '../../')\n",
    "\n",
    "import pandas as pd\n",
    "from sklearn import metrics\n",
    "from keras.wrappers.scikit_learn import KerasClassifier\n",
    "from preprocess import Audio_Processor\n",
    "from classification_plots import plot_confusion_matrix\n",
    "import matplotlib.pyplot as plt\n",
    "import os"
   ]
  },
  {
   "cell_type": "code",
   "execution_count": 2,
   "metadata": {},
   "outputs": [],
   "source": [
    "# Able to specify which GPU to use\n",
    "os.environ[\"CUDA_VISIBLE_DEVICES\"]=\"1\"\n",
    "\n",
    "orig_SR = 44100\n",
    "orig_blocksize = int(orig_SR * 5)\n",
    "orig_overlap = 0#int(orig_SR)\n",
    "\n",
    "SR = 16000\n",
    "blocksize = int(SR * 5)\n",
    "overlap = 0#int(SR/4)"
   ]
  },
  {
   "cell_type": "code",
   "execution_count": 3,
   "metadata": {},
   "outputs": [],
   "source": [
    "import warnings\n",
    "warnings.filterwarnings('ignore')"
   ]
  },
  {
   "cell_type": "markdown",
   "metadata": {},
   "source": [
    "# Setup"
   ]
  },
  {
   "cell_type": "code",
   "execution_count": 4,
   "metadata": {},
   "outputs": [],
   "source": [
    "audio_dir = '../../../ESC-50/audio/'"
   ]
  },
  {
   "cell_type": "code",
   "execution_count": 5,
   "metadata": {},
   "outputs": [],
   "source": [
    "path_to_db='../../../ESC-50/'"
   ]
  },
  {
   "cell_type": "markdown",
   "metadata": {},
   "source": [
    "# Load Dataset\n",
    "Here we load the csv that describes each file in the dataset. We add a high level category that is defined in the ESC-50 documentation. This we realize is anthetical to true training, it is a stopgap for when we use NLP to classify tags into these categories."
   ]
  },
  {
   "cell_type": "code",
   "execution_count": 6,
   "metadata": {},
   "outputs": [],
   "source": [
    "dataset = pd.read_csv(path_to_db + 'meta/esc50.csv')\n",
    "classes = [None] * 50\n",
    "h_classes = ['Human & Animal', 'Interacting Materials']\n",
    "ps = Audio_Processor(path_to_db + 'audio/', sr=SR)"
   ]
  },
  {
   "cell_type": "code",
   "execution_count": 7,
   "metadata": {},
   "outputs": [],
   "source": [
    "mapping = {\n",
    "    'dog': 0,\n",
    "    'rooster': 0,\n",
    "    'pig': 0,\n",
    "    'cow': 0,\n",
    "    'frog': 0,\n",
    "    'cat': 0,\n",
    "    'hen': 0,\n",
    "    'insects': 0,\n",
    "    'sheep': 0,\n",
    "    'crow': 0,\n",
    "    'rain': 1,\n",
    "    'sea_waves': 1,\n",
    "    'crackling_fire': 1,\n",
    "    'crickets': 0,\n",
    "    'chirping_birds': 0,\n",
    "    'water_drops': 1,\n",
    "    'wind': 1,\n",
    "    'pouring_water': 1,\n",
    "    'toilet_flush': 1,\n",
    "    'thunderstorm': 1,\n",
    "    'crying_baby': 0,\n",
    "    'sneezing': 0,\n",
    "    'clapping': 0,\n",
    "    'breathing': 0,\n",
    "    'coughing': 0,\n",
    "    'footsteps': 1,\n",
    "    'laughing': 0,\n",
    "    'brushing_teeth': 1,\n",
    "    'snoring': 0,\n",
    "    'drinking_sipping': 1,\n",
    "    'door_wood_knock': 1,\n",
    "    'mouse_click': 1,\n",
    "    'keyboard_typing': 1,\n",
    "    'door_wood_creaks': 1,\n",
    "    'can_opening': 1,\n",
    "    'washing_machine': 1,\n",
    "    'vacuum_cleaner': 1,\n",
    "    'clock_alarm': 1,\n",
    "    'clock_tick': 1,\n",
    "    'glass_breaking':1 ,\n",
    "    'helicopter': 1,\n",
    "    'chainsaw': 1,\n",
    "    'siren': 1,\n",
    "    'car_horn': 1,\n",
    "    'engine': 1,\n",
    "    'train': 1,\n",
    "    'church_bells': 1,\n",
    "    'airplane': 1,\n",
    "    'fireworks': 1,\n",
    "    'hand_saw': 1,\n",
    "}"
   ]
  },
  {
   "cell_type": "code",
   "execution_count": 8,
   "metadata": {},
   "outputs": [],
   "source": [
    "dataset['h_category'] = None\n",
    "for index, row in dataset.iterrows():\n",
    "    target = row['target']\n",
    "    classes[target] = row['category']\n",
    "    dataset.loc[index, 'h_category'] = mapping[row['category']]"
   ]
  },
  {
   "cell_type": "code",
   "execution_count": 9,
   "metadata": {},
   "outputs": [
    {
     "data": {
      "text/html": [
       "<div>\n",
       "<style scoped>\n",
       "    .dataframe tbody tr th:only-of-type {\n",
       "        vertical-align: middle;\n",
       "    }\n",
       "\n",
       "    .dataframe tbody tr th {\n",
       "        vertical-align: top;\n",
       "    }\n",
       "\n",
       "    .dataframe thead th {\n",
       "        text-align: right;\n",
       "    }\n",
       "</style>\n",
       "<table border=\"1\" class=\"dataframe\">\n",
       "  <thead>\n",
       "    <tr style=\"text-align: right;\">\n",
       "      <th></th>\n",
       "      <th>filename</th>\n",
       "      <th>fold</th>\n",
       "      <th>target</th>\n",
       "      <th>category</th>\n",
       "      <th>esc10</th>\n",
       "      <th>src_file</th>\n",
       "      <th>take</th>\n",
       "      <th>h_category</th>\n",
       "    </tr>\n",
       "  </thead>\n",
       "  <tbody>\n",
       "    <tr>\n",
       "      <th>0</th>\n",
       "      <td>1-100032-A-0.wav</td>\n",
       "      <td>1</td>\n",
       "      <td>0</td>\n",
       "      <td>dog</td>\n",
       "      <td>True</td>\n",
       "      <td>100032</td>\n",
       "      <td>A</td>\n",
       "      <td>0</td>\n",
       "    </tr>\n",
       "    <tr>\n",
       "      <th>1</th>\n",
       "      <td>1-100038-A-14.wav</td>\n",
       "      <td>1</td>\n",
       "      <td>14</td>\n",
       "      <td>chirping_birds</td>\n",
       "      <td>False</td>\n",
       "      <td>100038</td>\n",
       "      <td>A</td>\n",
       "      <td>0</td>\n",
       "    </tr>\n",
       "    <tr>\n",
       "      <th>2</th>\n",
       "      <td>1-100210-A-36.wav</td>\n",
       "      <td>1</td>\n",
       "      <td>36</td>\n",
       "      <td>vacuum_cleaner</td>\n",
       "      <td>False</td>\n",
       "      <td>100210</td>\n",
       "      <td>A</td>\n",
       "      <td>1</td>\n",
       "    </tr>\n",
       "    <tr>\n",
       "      <th>3</th>\n",
       "      <td>1-100210-B-36.wav</td>\n",
       "      <td>1</td>\n",
       "      <td>36</td>\n",
       "      <td>vacuum_cleaner</td>\n",
       "      <td>False</td>\n",
       "      <td>100210</td>\n",
       "      <td>B</td>\n",
       "      <td>1</td>\n",
       "    </tr>\n",
       "    <tr>\n",
       "      <th>4</th>\n",
       "      <td>1-101296-A-19.wav</td>\n",
       "      <td>1</td>\n",
       "      <td>19</td>\n",
       "      <td>thunderstorm</td>\n",
       "      <td>False</td>\n",
       "      <td>101296</td>\n",
       "      <td>A</td>\n",
       "      <td>1</td>\n",
       "    </tr>\n",
       "  </tbody>\n",
       "</table>\n",
       "</div>"
      ],
      "text/plain": [
       "            filename  fold  target        category  esc10  src_file take  \\\n",
       "0   1-100032-A-0.wav     1       0             dog   True    100032    A   \n",
       "1  1-100038-A-14.wav     1      14  chirping_birds  False    100038    A   \n",
       "2  1-100210-A-36.wav     1      36  vacuum_cleaner  False    100210    A   \n",
       "3  1-100210-B-36.wav     1      36  vacuum_cleaner  False    100210    B   \n",
       "4  1-101296-A-19.wav     1      19    thunderstorm  False    101296    A   \n",
       "\n",
       "   h_category  \n",
       "0           0  \n",
       "1           0  \n",
       "2           1  \n",
       "3           1  \n",
       "4           1  "
      ]
     },
     "execution_count": 9,
     "metadata": {},
     "output_type": "execute_result"
    }
   ],
   "source": [
    "dataset.head()"
   ]
  },
  {
   "cell_type": "code",
   "execution_count": 10,
   "metadata": {},
   "outputs": [],
   "source": [
    "df = ps.preprocess_fold(dataset, \n",
    "                        kind='mfcc', \n",
    "                        blocksize=blocksize, \n",
    "                        overlap=overlap,\n",
    "                        feature_bag=True\n",
    "                       )"
   ]
  },
  {
   "cell_type": "code",
   "execution_count": 11,
   "metadata": {},
   "outputs": [
    {
     "data": {
      "text/html": [
       "<div>\n",
       "<style scoped>\n",
       "    .dataframe tbody tr th:only-of-type {\n",
       "        vertical-align: middle;\n",
       "    }\n",
       "\n",
       "    .dataframe tbody tr th {\n",
       "        vertical-align: top;\n",
       "    }\n",
       "\n",
       "    .dataframe thead th {\n",
       "        text-align: right;\n",
       "    }\n",
       "</style>\n",
       "<table border=\"1\" class=\"dataframe\">\n",
       "  <thead>\n",
       "    <tr style=\"text-align: right;\">\n",
       "      <th></th>\n",
       "      <th>mfcc_2_std</th>\n",
       "      <th>mfcc_2_mean</th>\n",
       "      <th>mfcc_2_noise</th>\n",
       "      <th>mfcc_3_std</th>\n",
       "      <th>mfcc_3_mean</th>\n",
       "      <th>mfcc_3_noise</th>\n",
       "      <th>mfcc_4_std</th>\n",
       "      <th>mfcc_4_mean</th>\n",
       "      <th>mfcc_4_noise</th>\n",
       "      <th>mfcc_5_std</th>\n",
       "      <th>...</th>\n",
       "      <th>sflat_mean</th>\n",
       "      <th>sflat_noise</th>\n",
       "      <th>sroll_std</th>\n",
       "      <th>sroll_mean</th>\n",
       "      <th>sroll_noise</th>\n",
       "      <th>rmse_std</th>\n",
       "      <th>rmse_mean</th>\n",
       "      <th>rmse_noise</th>\n",
       "      <th>h_target</th>\n",
       "      <th>target</th>\n",
       "    </tr>\n",
       "  </thead>\n",
       "  <tbody>\n",
       "    <tr>\n",
       "      <th>0</th>\n",
       "      <td>45.116146</td>\n",
       "      <td>39.160271</td>\n",
       "      <td>27.011630</td>\n",
       "      <td>20.044099</td>\n",
       "      <td>13.047446</td>\n",
       "      <td>9.788639</td>\n",
       "      <td>6.934971</td>\n",
       "      <td>6.707770</td>\n",
       "      <td>6.888817</td>\n",
       "      <td>6.466031</td>\n",
       "      <td>...</td>\n",
       "      <td>-1.295722e-09</td>\n",
       "      <td>1.909698e-09</td>\n",
       "      <td>1.069887e-10</td>\n",
       "      <td>32.402931</td>\n",
       "      <td>45.972459</td>\n",
       "      <td>6.189134</td>\n",
       "      <td>35.834585</td>\n",
       "      <td>0.515079</td>\n",
       "      <td>0</td>\n",
       "      <td>0</td>\n",
       "    </tr>\n",
       "    <tr>\n",
       "      <th>1</th>\n",
       "      <td>65.339622</td>\n",
       "      <td>75.485049</td>\n",
       "      <td>56.207152</td>\n",
       "      <td>50.475587</td>\n",
       "      <td>64.285497</td>\n",
       "      <td>70.515282</td>\n",
       "      <td>60.320153</td>\n",
       "      <td>46.373598</td>\n",
       "      <td>49.737434</td>\n",
       "      <td>57.091641</td>\n",
       "      <td>...</td>\n",
       "      <td>-2.287257e-02</td>\n",
       "      <td>5.705404e-02</td>\n",
       "      <td>-1.560596e-03</td>\n",
       "      <td>12.664339</td>\n",
       "      <td>15.564616</td>\n",
       "      <td>5.078091</td>\n",
       "      <td>16.335999</td>\n",
       "      <td>3.762399</td>\n",
       "      <td>0</td>\n",
       "      <td>14</td>\n",
       "    </tr>\n",
       "    <tr>\n",
       "      <th>2</th>\n",
       "      <td>43.061324</td>\n",
       "      <td>46.182001</td>\n",
       "      <td>40.106757</td>\n",
       "      <td>40.136323</td>\n",
       "      <td>40.897473</td>\n",
       "      <td>42.706223</td>\n",
       "      <td>41.896956</td>\n",
       "      <td>41.832416</td>\n",
       "      <td>40.980207</td>\n",
       "      <td>42.695909</td>\n",
       "      <td>...</td>\n",
       "      <td>-3.775094e-02</td>\n",
       "      <td>-3.840658e-02</td>\n",
       "      <td>4.158728e-03</td>\n",
       "      <td>12.226533</td>\n",
       "      <td>23.890379</td>\n",
       "      <td>5.205682</td>\n",
       "      <td>20.391980</td>\n",
       "      <td>2.567054</td>\n",
       "      <td>1</td>\n",
       "      <td>36</td>\n",
       "    </tr>\n",
       "    <tr>\n",
       "      <th>3</th>\n",
       "      <td>41.310758</td>\n",
       "      <td>43.261874</td>\n",
       "      <td>42.021508</td>\n",
       "      <td>42.038297</td>\n",
       "      <td>39.631103</td>\n",
       "      <td>44.909130</td>\n",
       "      <td>41.440406</td>\n",
       "      <td>41.647823</td>\n",
       "      <td>44.932650</td>\n",
       "      <td>43.031895</td>\n",
       "      <td>...</td>\n",
       "      <td>-6.988263e-03</td>\n",
       "      <td>-6.869134e-04</td>\n",
       "      <td>-1.677152e-02</td>\n",
       "      <td>12.410390</td>\n",
       "      <td>22.183133</td>\n",
       "      <td>5.045153</td>\n",
       "      <td>19.136592</td>\n",
       "      <td>2.779194</td>\n",
       "      <td>1</td>\n",
       "      <td>36</td>\n",
       "    </tr>\n",
       "    <tr>\n",
       "      <th>4</th>\n",
       "      <td>100.620789</td>\n",
       "      <td>53.510768</td>\n",
       "      <td>55.781926</td>\n",
       "      <td>47.936314</td>\n",
       "      <td>45.258422</td>\n",
       "      <td>42.265947</td>\n",
       "      <td>39.135615</td>\n",
       "      <td>37.709452</td>\n",
       "      <td>40.700650</td>\n",
       "      <td>38.318367</td>\n",
       "      <td>...</td>\n",
       "      <td>-2.368598e-02</td>\n",
       "      <td>-1.520506e-02</td>\n",
       "      <td>2.918289e-03</td>\n",
       "      <td>10.353268</td>\n",
       "      <td>21.252477</td>\n",
       "      <td>5.696141</td>\n",
       "      <td>19.865682</td>\n",
       "      <td>2.614596</td>\n",
       "      <td>1</td>\n",
       "      <td>19</td>\n",
       "    </tr>\n",
       "  </tbody>\n",
       "</table>\n",
       "<p>5 rows × 131 columns</p>\n",
       "</div>"
      ],
      "text/plain": [
       "   mfcc_2_std  mfcc_2_mean  mfcc_2_noise  mfcc_3_std  mfcc_3_mean  \\\n",
       "0   45.116146    39.160271     27.011630   20.044099    13.047446   \n",
       "1   65.339622    75.485049     56.207152   50.475587    64.285497   \n",
       "2   43.061324    46.182001     40.106757   40.136323    40.897473   \n",
       "3   41.310758    43.261874     42.021508   42.038297    39.631103   \n",
       "4  100.620789    53.510768     55.781926   47.936314    45.258422   \n",
       "\n",
       "   mfcc_3_noise  mfcc_4_std  mfcc_4_mean  mfcc_4_noise  mfcc_5_std   ...    \\\n",
       "0      9.788639    6.934971     6.707770      6.888817    6.466031   ...     \n",
       "1     70.515282   60.320153    46.373598     49.737434   57.091641   ...     \n",
       "2     42.706223   41.896956    41.832416     40.980207   42.695909   ...     \n",
       "3     44.909130   41.440406    41.647823     44.932650   43.031895   ...     \n",
       "4     42.265947   39.135615    37.709452     40.700650   38.318367   ...     \n",
       "\n",
       "     sflat_mean   sflat_noise     sroll_std  sroll_mean  sroll_noise  \\\n",
       "0 -1.295722e-09  1.909698e-09  1.069887e-10   32.402931    45.972459   \n",
       "1 -2.287257e-02  5.705404e-02 -1.560596e-03   12.664339    15.564616   \n",
       "2 -3.775094e-02 -3.840658e-02  4.158728e-03   12.226533    23.890379   \n",
       "3 -6.988263e-03 -6.869134e-04 -1.677152e-02   12.410390    22.183133   \n",
       "4 -2.368598e-02 -1.520506e-02  2.918289e-03   10.353268    21.252477   \n",
       "\n",
       "   rmse_std  rmse_mean  rmse_noise  h_target  target  \n",
       "0  6.189134  35.834585    0.515079         0       0  \n",
       "1  5.078091  16.335999    3.762399         0      14  \n",
       "2  5.205682  20.391980    2.567054         1      36  \n",
       "3  5.045153  19.136592    2.779194         1      36  \n",
       "4  5.696141  19.865682    2.614596         1      19  \n",
       "\n",
       "[5 rows x 131 columns]"
      ]
     },
     "execution_count": 11,
     "metadata": {},
     "output_type": "execute_result"
    }
   ],
   "source": [
    "df.head()"
   ]
  },
  {
   "cell_type": "markdown",
   "metadata": {},
   "source": [
    "## Getting Preprocessed Data\n",
    "We allow for previously preprocessed data to be retrieved for faster training turnaround. If the fold has been preprocessed, it is loaded but if not it is processed and saved."
   ]
  },
  {
   "cell_type": "code",
   "execution_count": 12,
   "metadata": {},
   "outputs": [],
   "source": [
    "import time\n",
    "import librosa\n",
    "import numpy as np\n",
    "import soundfile as sf\n",
    "\n",
    "# Lowpass Filter\n",
    "import scipy.signal as signal\n",
    "\n",
    "def load_fold_audio_blockwise(fld, data, blocksize=1024, overlap=512, debug=False):\n",
    "    start_time = time.time()\n",
    "    f_df = data[data['fold'] == fld]\n",
    "    items = []\n",
    "    h_cat = []\n",
    "    cat = []\n",
    "    for i, sample in f_df.iterrows():\n",
    "        if debug:\n",
    "            print(\"File Processing\", end=\"\", flush=True)\n",
    "        blockgen = sf.blocks(audio_dir + sample['filename'], \n",
    "                             blocksize=blocksize, \n",
    "                             overlap=overlap, \n",
    "                             always_2d=True,\n",
    "                             fill_value=0.0)\n",
    "        sr = sf.info(audio_dir + sample['filename']).samplerate\n",
    "        for bl in blockgen:\n",
    "            if not np.any(bl):\n",
    "                continue\n",
    "            if debug:\n",
    "                print(\".\", end=\"\", flush=True)\n",
    "            y = bl.transpose()\n",
    "            y = librosa.resample(y, sr, SR)\n",
    "            y = y[:int(blocksize)]\n",
    "            y = y[np.newaxis, :]\n",
    "            items.append(y)\n",
    "            h_cat.append(sample.h_category)\n",
    "            cat.append(sample.target)\n",
    "        if debug:\n",
    "            print(\"Done\")\n",
    "\n",
    "    print(\"\\tProcessing Time: \" + str(time.time() - start_time))\n",
    "    return np.vstack(items), np.array(h_cat), np.array(cat)\n",
    "\n",
    "def load_audio_blockwise(data, blocksize=1024, overlap=512, debug=False):\n",
    "    start_time = time.time()\n",
    "    items = []\n",
    "    target = []\n",
    "    for i, sample in data.iterrows():\n",
    "        if debug:\n",
    "            print(\"File Processing\", end=\"\", flush=True)\n",
    "        blockgen = sf.blocks(audio_dir + sample['filename'], \n",
    "                             blocksize=blocksize, \n",
    "                             overlap=overlap, \n",
    "                             always_2d=True,\n",
    "                             fill_value=0.0)\n",
    "        sr = sf.info(audio_dir + sample['filename']).samplerate\n",
    "        for bl in blockgen:\n",
    "            if not np.any(bl):\n",
    "                continue\n",
    "            if debug:\n",
    "                print(\".\", end=\"\", flush=True)\n",
    "            y = bl.transpose()\n",
    "            y = librosa.resample(y, sr, SR)\n",
    "            y = y[:int(blocksize)]\n",
    "            y = y[np.newaxis, :]\n",
    "            items.append(y)\n",
    "            target.append(sample.h_category)\n",
    "        if debug:\n",
    "            print(\"Done\")\n",
    "    print(\"\\tProcessing Time: \" + str(time.time() - start_time))\n",
    "    return np.vstack(items), np.array(target)"
   ]
  },
  {
   "cell_type": "code",
   "execution_count": 13,
   "metadata": {},
   "outputs": [
    {
     "name": "stdout",
     "output_type": "stream",
     "text": [
      "\tProcessing Time: 61.98859000205994\n",
      "(400, 1, 80000)\n"
     ]
    }
   ],
   "source": [
    "c_data_test, target = load_audio_blockwise(dataset[dataset.fold == 1], orig_blocksize, orig_overlap)\n",
    "print(c_data_test.shape)"
   ]
  },
  {
   "cell_type": "code",
   "execution_count": 14,
   "metadata": {
    "scrolled": true
   },
   "outputs": [
    {
     "name": "stdout",
     "output_type": "stream",
     "text": [
      "\tProcessing Time: 243.4339964389801\n",
      "(1600, 1, 80000)\n"
     ]
    }
   ],
   "source": [
    "c_data_train, target = load_audio_blockwise(dataset[dataset.fold != 1], orig_blocksize, orig_overlap)\n",
    "print(c_data_train.shape)"
   ]
  },
  {
   "cell_type": "code",
   "execution_count": 15,
   "metadata": {},
   "outputs": [],
   "source": [
    "from sklearn.preprocessing import MinMaxScaler\n",
    "scaler = MinMaxScaler()\n",
    "\n",
    "train_X = scaler.fit_transform(df[400:].drop(['target', 'h_target'], axis=1).values)\n",
    "train_y = df[400:]['h_target'].values\n",
    "\n",
    "test_X = scaler.transform(df[:400].drop(['target', 'h_target'], axis=1).values)\n",
    "test_y = df[:400]['h_target'].values"
   ]
  },
  {
   "cell_type": "markdown",
   "metadata": {},
   "source": [
    "## High-Level Shallow Nets\n",
    "Train binary shallow nets for high level categories(animals, natural, human, domestic, urban)"
   ]
  },
  {
   "cell_type": "code",
   "execution_count": 16,
   "metadata": {},
   "outputs": [],
   "source": [
    "from keras.models import Sequential, Model\n",
    "from keras.layers import Dense, Dropout, Convolution2D, MaxPooling2D, Flatten, Input, Concatenate, concatenate\n",
    "import keras.metrics as kmet\n",
    "from kapre.time_frequency import Melspectrogram, Spectrogram\n",
    "from kapre.utils import Normalization2D\n",
    "from kapre.augmentation import AdditiveNoise\n",
    "\n",
    "ensemble_num = 10\n",
    "num_hidden_neurons = 10\n",
    "dropout = 0.25\n",
    "\n",
    "epochs = 50\n",
    "batch = 50\n",
    "\n",
    "def gpu_mfcc_shallow_net():\n",
    "    # Create Model\n",
    "    \n",
    "    cnn = Input(shape=(1,blocksize))\n",
    "    cnn_mel = Melspectrogram(\n",
    "        sr=SR,\n",
    "        n_mels=128,\n",
    "        power_melgram=1.0,\n",
    "        input_shape=(1, blocksize),\n",
    "        trainable_fb=False,\n",
    "        fmin = 800,\n",
    "        fmax = 8000\n",
    "    )(cnn)\n",
    "    cnn_conv = Convolution2D(32, 3, 3, name='conv1', activation='relu')(cnn_mel)\n",
    "    cnn_pool = MaxPooling2D((25, 17))(cnn_conv)\n",
    "    cnn_flat = Flatten()(cnn_pool)\n",
    "    cnn_dense = Dense(32, activation='relu')(cnn_flat)\n",
    "    \n",
    "    pre_comp = Input(shape=(129,))\n",
    "    pre_dense = Dense(100,)(pre_comp)\n",
    "    \n",
    "    merged = concatenate([cnn_dense, pre_dense])\n",
    "    \n",
    "    merged = Dense(32, activation='relu')(merged)\n",
    "    merged = Dense(64, activation='relu')(merged)\n",
    "    merged = Dropout(0.2)(merged)\n",
    "    merged = Dense(64, activation='relu')(merged)\n",
    "    merged = Dense(64, activation='relu')(merged)\n",
    "    merged = Dropout(0.2)(merged)\n",
    "    merged = Dense(1, kernel_initializer='normal', activation='sigmoid')(merged)\n",
    "\n",
    "    model = Model(inputs=[cnn, pre_comp], outputs=merged)\n",
    "    # Compile model\n",
    "    model.compile(loss='binary_crossentropy',\n",
    "                  optimizer='adam',\n",
    "                  metrics=['accuracy', kmet.mae])\n",
    "    \n",
    "    model.summary()\n",
    "\n",
    "    \n",
    "    return model"
   ]
  },
  {
   "cell_type": "code",
   "execution_count": 17,
   "metadata": {
    "scrolled": false
   },
   "outputs": [
    {
     "name": "stdout",
     "output_type": "stream",
     "text": [
      "__________________________________________________________________________________________________\n",
      "Layer (type)                    Output Shape         Param #     Connected to                     \n",
      "==================================================================================================\n",
      "input_1 (InputLayer)            (None, 1, 80000)     0                                            \n",
      "__________________________________________________________________________________________________\n",
      "melspectrogram_1 (Melspectrogra (None, 128, 313, 1)  296064      input_1[0][0]                    \n",
      "__________________________________________________________________________________________________\n",
      "conv1 (Conv2D)                  (None, 126, 311, 32) 320         melspectrogram_1[0][0]           \n",
      "__________________________________________________________________________________________________\n",
      "max_pooling2d_1 (MaxPooling2D)  (None, 5, 18, 32)    0           conv1[0][0]                      \n",
      "__________________________________________________________________________________________________\n",
      "flatten_1 (Flatten)             (None, 2880)         0           max_pooling2d_1[0][0]            \n",
      "__________________________________________________________________________________________________\n",
      "input_2 (InputLayer)            (None, 129)          0                                            \n",
      "__________________________________________________________________________________________________\n",
      "dense_1 (Dense)                 (None, 32)           92192       flatten_1[0][0]                  \n",
      "__________________________________________________________________________________________________\n",
      "dense_2 (Dense)                 (None, 100)          13000       input_2[0][0]                    \n",
      "__________________________________________________________________________________________________\n",
      "concatenate_1 (Concatenate)     (None, 132)          0           dense_1[0][0]                    \n",
      "                                                                 dense_2[0][0]                    \n",
      "__________________________________________________________________________________________________\n",
      "dense_3 (Dense)                 (None, 32)           4256        concatenate_1[0][0]              \n",
      "__________________________________________________________________________________________________\n",
      "dense_4 (Dense)                 (None, 64)           2112        dense_3[0][0]                    \n",
      "__________________________________________________________________________________________________\n",
      "dropout_1 (Dropout)             (None, 64)           0           dense_4[0][0]                    \n",
      "__________________________________________________________________________________________________\n",
      "dense_5 (Dense)                 (None, 64)           4160        dropout_1[0][0]                  \n",
      "__________________________________________________________________________________________________\n",
      "dense_6 (Dense)                 (None, 64)           4160        dense_5[0][0]                    \n",
      "__________________________________________________________________________________________________\n",
      "dropout_2 (Dropout)             (None, 64)           0           dense_6[0][0]                    \n",
      "__________________________________________________________________________________________________\n",
      "dense_7 (Dense)                 (None, 1)            65          dropout_2[0][0]                  \n",
      "==================================================================================================\n",
      "Total params: 416,329\n",
      "Trainable params: 120,265\n",
      "Non-trainable params: 296,064\n",
      "__________________________________________________________________________________________________\n",
      "Train on 1440 samples, validate on 160 samples\n",
      "Epoch 1/50\n",
      "1440/1440 [==============================] - 13s 9ms/step - loss: 0.6560 - acc: 0.6299 - mean_absolute_error: 0.4629 - val_loss: 0.6443 - val_acc: 0.6375 - val_mean_absolute_error: 0.4641\n",
      "Epoch 2/50\n",
      "1440/1440 [==============================] - 12s 8ms/step - loss: 0.6214 - acc: 0.6639 - mean_absolute_error: 0.4325 - val_loss: 0.6042 - val_acc: 0.7000 - val_mean_absolute_error: 0.4249\n",
      "Epoch 3/50\n",
      "1440/1440 [==============================] - 13s 9ms/step - loss: 0.5707 - acc: 0.7389 - mean_absolute_error: 0.3884 - val_loss: 0.5898 - val_acc: 0.7187 - val_mean_absolute_error: 0.4103\n",
      "Epoch 4/50\n",
      "1440/1440 [==============================] - 13s 9ms/step - loss: 0.5351 - acc: 0.7632 - mean_absolute_error: 0.3569 - val_loss: 0.5639 - val_acc: 0.7125 - val_mean_absolute_error: 0.3749\n",
      "Epoch 5/50\n",
      "1440/1440 [==============================] - 13s 9ms/step - loss: 0.4910 - acc: 0.7833 - mean_absolute_error: 0.3256 - val_loss: 0.5518 - val_acc: 0.7250 - val_mean_absolute_error: 0.3658\n",
      "Epoch 6/50\n",
      "1440/1440 [==============================] - 13s 9ms/step - loss: 0.4590 - acc: 0.8014 - mean_absolute_error: 0.3006 - val_loss: 0.5214 - val_acc: 0.7250 - val_mean_absolute_error: 0.3453\n",
      "Epoch 7/50\n",
      "1440/1440 [==============================] - 13s 9ms/step - loss: 0.3955 - acc: 0.8312 - mean_absolute_error: 0.2574 - val_loss: 0.5204 - val_acc: 0.7937 - val_mean_absolute_error: 0.3283\n",
      "Epoch 8/50\n",
      "1440/1440 [==============================] - 13s 9ms/step - loss: 0.3581 - acc: 0.8375 - mean_absolute_error: 0.2345 - val_loss: 0.4270 - val_acc: 0.8062 - val_mean_absolute_error: 0.2580\n",
      "Epoch 9/50\n",
      "1440/1440 [==============================] - 13s 9ms/step - loss: 0.3268 - acc: 0.8576 - mean_absolute_error: 0.2075 - val_loss: 0.5265 - val_acc: 0.7750 - val_mean_absolute_error: 0.2751\n",
      "Epoch 10/50\n",
      "1440/1440 [==============================] - 13s 9ms/step - loss: 0.2844 - acc: 0.8799 - mean_absolute_error: 0.1808 - val_loss: 0.6247 - val_acc: 0.7687 - val_mean_absolute_error: 0.2342\n",
      "Epoch 11/50\n",
      "1440/1440 [==============================] - 13s 9ms/step - loss: 0.2587 - acc: 0.8917 - mean_absolute_error: 0.1644 - val_loss: 0.5563 - val_acc: 0.8187 - val_mean_absolute_error: 0.2587\n",
      "Epoch 12/50\n",
      "1440/1440 [==============================] - 13s 9ms/step - loss: 0.2408 - acc: 0.9028 - mean_absolute_error: 0.1506 - val_loss: 0.5402 - val_acc: 0.8063 - val_mean_absolute_error: 0.2116\n",
      "Epoch 13/50\n",
      "1440/1440 [==============================] - 13s 9ms/step - loss: 0.2532 - acc: 0.8951 - mean_absolute_error: 0.1489 - val_loss: 0.4358 - val_acc: 0.8562 - val_mean_absolute_error: 0.2364\n",
      "Epoch 14/50\n",
      "1440/1440 [==============================] - 13s 9ms/step - loss: 0.2049 - acc: 0.9187 - mean_absolute_error: 0.1305 - val_loss: 0.4196 - val_acc: 0.8687 - val_mean_absolute_error: 0.2046\n",
      "Epoch 15/50\n",
      "1440/1440 [==============================] - 13s 9ms/step - loss: 0.1670 - acc: 0.9410 - mean_absolute_error: 0.0997 - val_loss: 0.5475 - val_acc: 0.8250 - val_mean_absolute_error: 0.1979\n",
      "Epoch 16/50\n",
      "1440/1440 [==============================] - 13s 9ms/step - loss: 0.1486 - acc: 0.9410 - mean_absolute_error: 0.0923 - val_loss: 0.6316 - val_acc: 0.8125 - val_mean_absolute_error: 0.2060\n",
      "Epoch 17/50\n",
      "1440/1440 [==============================] - 13s 9ms/step - loss: 0.1580 - acc: 0.9417 - mean_absolute_error: 0.0920 - val_loss: 0.5822 - val_acc: 0.8187 - val_mean_absolute_error: 0.2162\n",
      "Epoch 18/50\n",
      "1440/1440 [==============================] - 13s 9ms/step - loss: 0.1356 - acc: 0.9451 - mean_absolute_error: 0.0838 - val_loss: 0.6943 - val_acc: 0.8000 - val_mean_absolute_error: 0.2085\n",
      "Epoch 19/50\n",
      "1440/1440 [==============================] - 13s 9ms/step - loss: 0.1120 - acc: 0.9542 - mean_absolute_error: 0.0682 - val_loss: 0.7004 - val_acc: 0.7875 - val_mean_absolute_error: 0.2189\n",
      "Epoch 20/50\n",
      "1440/1440 [==============================] - 13s 9ms/step - loss: 0.1364 - acc: 0.9465 - mean_absolute_error: 0.0760 - val_loss: 0.5595 - val_acc: 0.8063 - val_mean_absolute_error: 0.2052\n",
      "Epoch 21/50\n",
      "1440/1440 [==============================] - 13s 9ms/step - loss: 0.1262 - acc: 0.9542 - mean_absolute_error: 0.0743 - val_loss: 0.6898 - val_acc: 0.7937 - val_mean_absolute_error: 0.2138\n",
      "Epoch 22/50\n",
      "1440/1440 [==============================] - 13s 9ms/step - loss: 0.1232 - acc: 0.9507 - mean_absolute_error: 0.0720 - val_loss: 0.7806 - val_acc: 0.8250 - val_mean_absolute_error: 0.2020\n",
      "Epoch 23/50\n"
     ]
    },
    {
     "name": "stdout",
     "output_type": "stream",
     "text": [
      "1440/1440 [==============================] - 13s 9ms/step - loss: 0.1045 - acc: 0.9597 - mean_absolute_error: 0.0631 - val_loss: 0.7573 - val_acc: 0.8250 - val_mean_absolute_error: 0.1986\n",
      "Epoch 24/50\n",
      "1440/1440 [==============================] - 13s 9ms/step - loss: 0.0860 - acc: 0.9646 - mean_absolute_error: 0.0507 - val_loss: 0.7542 - val_acc: 0.8063 - val_mean_absolute_error: 0.2103\n",
      "Epoch 25/50\n",
      "1440/1440 [==============================] - 13s 9ms/step - loss: 0.0834 - acc: 0.9674 - mean_absolute_error: 0.0532 - val_loss: 0.8897 - val_acc: 0.8188 - val_mean_absolute_error: 0.1922\n",
      "Epoch 26/50\n",
      "1440/1440 [==============================] - 13s 9ms/step - loss: 0.0639 - acc: 0.9771 - mean_absolute_error: 0.0370 - val_loss: 0.8917 - val_acc: 0.8125 - val_mean_absolute_error: 0.1993\n",
      "Epoch 27/50\n",
      "1440/1440 [==============================] - 13s 9ms/step - loss: 0.0650 - acc: 0.9771 - mean_absolute_error: 0.0358 - val_loss: 1.0889 - val_acc: 0.8250 - val_mean_absolute_error: 0.1903\n",
      "Epoch 28/50\n",
      "1440/1440 [==============================] - 13s 9ms/step - loss: 0.0747 - acc: 0.9736 - mean_absolute_error: 0.0396 - val_loss: 0.8817 - val_acc: 0.8000 - val_mean_absolute_error: 0.2108\n",
      "Epoch 29/50\n",
      "1440/1440 [==============================] - 13s 9ms/step - loss: 0.1169 - acc: 0.9479 - mean_absolute_error: 0.0654 - val_loss: 0.8622 - val_acc: 0.7938 - val_mean_absolute_error: 0.2083\n",
      "Epoch 30/50\n",
      "1440/1440 [==============================] - 13s 9ms/step - loss: 0.0710 - acc: 0.9729 - mean_absolute_error: 0.0407 - val_loss: 1.0062 - val_acc: 0.7875 - val_mean_absolute_error: 0.2245\n",
      "Epoch 31/50\n",
      "1440/1440 [==============================] - 13s 9ms/step - loss: 0.0570 - acc: 0.9785 - mean_absolute_error: 0.0323 - val_loss: 1.0439 - val_acc: 0.8375 - val_mean_absolute_error: 0.1733\n",
      "Epoch 32/50\n",
      "1440/1440 [==============================] - 13s 9ms/step - loss: 0.0421 - acc: 0.9868 - mean_absolute_error: 0.0262 - val_loss: 1.0995 - val_acc: 0.8125 - val_mean_absolute_error: 0.2056\n",
      "Epoch 33/50\n",
      "1440/1440 [==============================] - 13s 9ms/step - loss: 0.0388 - acc: 0.9861 - mean_absolute_error: 0.0234 - val_loss: 1.0679 - val_acc: 0.8125 - val_mean_absolute_error: 0.1912\n",
      "Epoch 34/50\n",
      "1440/1440 [==============================] - 13s 9ms/step - loss: 0.0344 - acc: 0.9882 - mean_absolute_error: 0.0215 - val_loss: 1.1070 - val_acc: 0.8125 - val_mean_absolute_error: 0.1860\n",
      "Epoch 35/50\n",
      "1440/1440 [==============================] - 13s 9ms/step - loss: 0.0632 - acc: 0.9764 - mean_absolute_error: 0.0302 - val_loss: 1.5675 - val_acc: 0.7937 - val_mean_absolute_error: 0.2089\n",
      "Epoch 36/50\n",
      "1440/1440 [==============================] - 13s 9ms/step - loss: 0.0869 - acc: 0.9694 - mean_absolute_error: 0.0476 - val_loss: 0.8524 - val_acc: 0.8000 - val_mean_absolute_error: 0.2061\n",
      "Epoch 37/50\n",
      "1440/1440 [==============================] - 13s 9ms/step - loss: 0.0485 - acc: 0.9826 - mean_absolute_error: 0.0295 - val_loss: 1.0116 - val_acc: 0.8000 - val_mean_absolute_error: 0.1948\n",
      "Epoch 38/50\n",
      "1440/1440 [==============================] - 13s 9ms/step - loss: 0.0386 - acc: 0.9854 - mean_absolute_error: 0.0244 - val_loss: 1.2546 - val_acc: 0.8000 - val_mean_absolute_error: 0.2077\n",
      "Epoch 39/50\n",
      "1440/1440 [==============================] - 13s 9ms/step - loss: 0.0493 - acc: 0.9819 - mean_absolute_error: 0.0262 - val_loss: 1.1949 - val_acc: 0.8063 - val_mean_absolute_error: 0.1863\n",
      "Epoch 40/50\n",
      "1440/1440 [==============================] - 13s 9ms/step - loss: 0.0548 - acc: 0.9792 - mean_absolute_error: 0.0285 - val_loss: 0.8992 - val_acc: 0.7937 - val_mean_absolute_error: 0.2114\n",
      "Epoch 41/50\n",
      "1440/1440 [==============================] - 13s 9ms/step - loss: 0.0706 - acc: 0.9764 - mean_absolute_error: 0.0392 - val_loss: 0.8382 - val_acc: 0.7938 - val_mean_absolute_error: 0.1993\n",
      "Epoch 42/50\n",
      "1440/1440 [==============================] - 13s 9ms/step - loss: 0.0381 - acc: 0.9840 - mean_absolute_error: 0.0249 - val_loss: 1.0703 - val_acc: 0.8250 - val_mean_absolute_error: 0.1878\n",
      "Epoch 43/50\n",
      "1440/1440 [==============================] - 13s 9ms/step - loss: 0.0246 - acc: 0.9938 - mean_absolute_error: 0.0144 - val_loss: 1.1254 - val_acc: 0.7875 - val_mean_absolute_error: 0.2040\n",
      "Epoch 44/50\n",
      "1440/1440 [==============================] - 13s 9ms/step - loss: 0.0170 - acc: 0.9938 - mean_absolute_error: 0.0108 - val_loss: 1.3620 - val_acc: 0.7937 - val_mean_absolute_error: 0.2085\n",
      "Epoch 45/50\n",
      "1440/1440 [==============================] - 14s 9ms/step - loss: 0.0141 - acc: 0.9944 - mean_absolute_error: 0.0103 - val_loss: 1.6220 - val_acc: 0.7875 - val_mean_absolute_error: 0.2121\n",
      "Epoch 46/50\n",
      "1440/1440 [==============================] - 13s 9ms/step - loss: 0.0251 - acc: 0.9910 - mean_absolute_error: 0.0153 - val_loss: 1.2253 - val_acc: 0.8000 - val_mean_absolute_error: 0.2027\n",
      "Epoch 47/50\n",
      "1440/1440 [==============================] - 13s 9ms/step - loss: 0.0369 - acc: 0.9889 - mean_absolute_error: 0.0176 - val_loss: 1.1989 - val_acc: 0.8250 - val_mean_absolute_error: 0.1849\n",
      "Epoch 48/50\n",
      "1440/1440 [==============================] - 13s 9ms/step - loss: 0.0550 - acc: 0.9785 - mean_absolute_error: 0.0279 - val_loss: 1.1366 - val_acc: 0.8250 - val_mean_absolute_error: 0.1845\n",
      "Epoch 49/50\n",
      "1440/1440 [==============================] - 13s 9ms/step - loss: 0.0577 - acc: 0.9757 - mean_absolute_error: 0.0321 - val_loss: 1.3778 - val_acc: 0.8125 - val_mean_absolute_error: 0.1896\n",
      "Epoch 50/50\n",
      "1440/1440 [==============================] - 13s 9ms/step - loss: 0.0485 - acc: 0.9833 - mean_absolute_error: 0.0241 - val_loss: 1.0900 - val_acc: 0.7812 - val_mean_absolute_error: 0.2200\n"
     ]
    }
   ],
   "source": [
    "model = gpu_mfcc_shallow_net()\n",
    "history = model.fit([c_data_train, train_X], \n",
    "          train_y,\n",
    "          batch_size=batch,\n",
    "          nb_epoch=epochs,\n",
    "          validation_split=0.1\n",
    "         )"
   ]
  },
  {
   "cell_type": "code",
   "execution_count": 18,
   "metadata": {
    "scrolled": true
   },
   "outputs": [
    {
     "data": {
      "image/png": "[encoded data removed]",
      "text/plain": [
       "<Figure size 720x360 with 1 Axes>"
      ]
     },
     "metadata": {
      "needs_background": "light"
     },
     "output_type": "display_data"
    }
   ],
   "source": [
    "plt.figure(figsize=(10, 5))\n",
    "# plt.ylim([0,9])\n",
    "plt.plot(history.history['loss'])\n",
    "plt.plot(history.history['val_loss'])\n",
    "plt.show()"
   ]
  },
  {
   "cell_type": "code",
   "execution_count": 19,
   "metadata": {},
   "outputs": [
    {
     "data": {
      "image/png": "[encoded data removed]",
      "text/plain": [
       "<Figure size 720x360 with 1 Axes>"
      ]
     },
     "metadata": {
      "needs_background": "light"
     },
     "output_type": "display_data"
    }
   ],
   "source": [
    "plt.figure(figsize=(10, 5))\n",
    "# plt.ylim([0,9])\n",
    "plt.plot(history.history['acc'])\n",
    "plt.plot(history.history['val_acc'])\n",
    "plt.show()"
   ]
  },
  {
   "cell_type": "code",
   "execution_count": 20,
   "metadata": {},
   "outputs": [
    {
     "data": {
      "text/plain": [
       "['loss', 'acc', 'mean_absolute_error']"
      ]
     },
     "execution_count": 20,
     "metadata": {},
     "output_type": "execute_result"
    }
   ],
   "source": [
    "model.metrics_names"
   ]
  },
  {
   "cell_type": "code",
   "execution_count": 21,
   "metadata": {},
   "outputs": [
    {
     "name": "stdout",
     "output_type": "stream",
     "text": [
      "400/400 [==============================] - 2s 4ms/step\n"
     ]
    },
    {
     "data": {
      "text/plain": [
       "[1.3744562005996703, 0.75, 0.24896447360515594]"
      ]
     },
     "execution_count": 21,
     "metadata": {},
     "output_type": "execute_result"
    }
   ],
   "source": [
    "model.evaluate(x=[c_data_test,test_X], y=test_y)"
   ]
  },
  {
   "cell_type": "code",
   "execution_count": 22,
   "metadata": {},
   "outputs": [
    {
     "name": "stdout",
     "output_type": "stream",
     "text": [
      "0.36\n",
      "Confusion matrix, without normalization\n",
      "[[144   0]\n",
      " [256   0]]\n"
     ]
    },
    {
     "data": {
      "image/png": "[encoded data removed]",
      "text/plain": [
       "<Figure size 720x720 with 2 Axes>"
      ]
     },
     "metadata": {
      "needs_background": "light"
     },
     "output_type": "display_data"
    }
   ],
   "source": [
    "pred = model.predict([c_data_test,test_X])\n",
    "pred = pred.argmax(axis=-1)\n",
    "print(metrics.accuracy_score(test_y, pred))\n",
    "cm = metrics.confusion_matrix(test_y, pred)\n",
    "plt.figure(figsize=(10,10))\n",
    "plot_confusion_matrix(cm, h_classes)\n",
    "plt.show()"
   ]
  },
  {
   "cell_type": "code",
   "execution_count": 23,
   "metadata": {},
   "outputs": [
    {
     "ename": "NameError",
     "evalue": "name 'pred_prob' is not defined",
     "output_type": "error",
     "traceback": [
      "\u001b[0;31m---------------------------------------------------------------------------\u001b[0m",
      "\u001b[0;31mNameError\u001b[0m                                 Traceback (most recent call last)",
      "\u001b[0;32m<ipython-input-23-495d17e47ad0>\u001b[0m in \u001b[0;36m<module>\u001b[0;34m\u001b[0m\n\u001b[1;32m     12\u001b[0m }\n\u001b[1;32m     13\u001b[0m \u001b[0;34m\u001b[0m\u001b[0m\n\u001b[0;32m---> 14\u001b[0;31m \u001b[0;32mfor\u001b[0m \u001b[0mp\u001b[0m\u001b[0;34m,\u001b[0m \u001b[0mprob\u001b[0m\u001b[0;34m,\u001b[0m \u001b[0mY\u001b[0m \u001b[0;32min\u001b[0m \u001b[0mzip\u001b[0m\u001b[0;34m(\u001b[0m\u001b[0mpred\u001b[0m\u001b[0;34m,\u001b[0m \u001b[0mpred_prob\u001b[0m\u001b[0;34m,\u001b[0m \u001b[0my\u001b[0m\u001b[0;34m)\u001b[0m\u001b[0;34m:\u001b[0m\u001b[0;34m\u001b[0m\u001b[0m\n\u001b[0m\u001b[1;32m     15\u001b[0m     \u001b[0mY\u001b[0m \u001b[0;34m=\u001b[0m \u001b[0mint\u001b[0m\u001b[0;34m(\u001b[0m\u001b[0mY\u001b[0m\u001b[0;34m)\u001b[0m\u001b[0;34m\u001b[0m\u001b[0m\n\u001b[1;32m     16\u001b[0m     \u001b[0mp\u001b[0m \u001b[0;34m=\u001b[0m \u001b[0mint\u001b[0m\u001b[0;34m(\u001b[0m\u001b[0mp\u001b[0m\u001b[0;34m)\u001b[0m\u001b[0;34m\u001b[0m\u001b[0m\n",
      "\u001b[0;31mNameError\u001b[0m: name 'pred_prob' is not defined"
     ]
    }
   ],
   "source": [
    "import seaborn as sns\n",
    "misclassified = {\n",
    "    'Predicted h_target': [],\n",
    "    'Anim_prob': [],\n",
    "    'Interact_prob': []\n",
    "}\n",
    "\n",
    "correctly_classified = {\n",
    "    'Predicted h_target': [],\n",
    "    'Anim_prob': [],\n",
    "    'Interact_prob': []\n",
    "}\n",
    "\n",
    "for p, prob, Y in zip(pred, pred_prob, y):\n",
    "    Y = int(Y)\n",
    "    p = int(p)\n",
    "    if p!=Y:\n",
    "        misclassified['Predicted h_target'].append(h_classes[p])\n",
    "        misclassified['Anim_prob'].append(prob[0])\n",
    "        misclassified['Interact_prob'].append(prob[1])\n",
    "    else:\n",
    "        correctly_classified['Predicted h_target'].append(h_classes[p])\n",
    "        correctly_classified['Anim_prob'].append(prob[0])\n",
    "        correctly_classified['Interact_prob'].append(prob[1])\n",
    "\n",
    "misclassified = pd.DataFrame.from_dict(misclassified)\n",
    "correctly_classified = pd.DataFrame.from_dict(correctly_classified)"
   ]
  },
  {
   "cell_type": "code",
   "execution_count": null,
   "metadata": {},
   "outputs": [],
   "source": [
    "average_prob = misclassified.groupby('Predicted h_target').mean()\n",
    "average_prob.head()"
   ]
  },
  {
   "cell_type": "code",
   "execution_count": null,
   "metadata": {},
   "outputs": [],
   "source": [
    "average_prob = correctly_classified.groupby('Predicted h_target').mean()\n",
    "average_prob.head()"
   ]
  },
  {
   "cell_type": "code",
   "execution_count": null,
   "metadata": {},
   "outputs": [],
   "source": []
  }
 ],
 "metadata": {
  "kernelspec": {
   "display_name": "Python 3",
   "language": "python",
   "name": "python3"
  },
  "language_info": {
   "codemirror_mode": {
    "name": "ipython",
    "version": 3
   },
   "file_extension": ".py",
   "mimetype": "text/x-python",
   "name": "python",
   "nbconvert_exporter": "python",
   "pygments_lexer": "ipython3",
   "version": "3.5.2"
  }
 },
 "nbformat": 4,
 "nbformat_minor": 2
}
