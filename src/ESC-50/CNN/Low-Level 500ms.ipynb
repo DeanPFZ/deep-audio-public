{
 "cells": [
  {
   "cell_type": "code",
   "execution_count": 1,
   "metadata": {},
   "outputs": [
    {
     "name": "stderr",
     "output_type": "stream",
     "text": [
      "Using TensorFlow backend.\n"
     ]
    },
    {
     "name": "stdout",
     "output_type": "stream",
     "text": [
      "WARNING:tensorflow:From /usr/local/lib/python3.5/dist-packages/magenta/models/nsynth/wavenet/masked.py:115: UniformUnitScaling.__init__ (from tensorflow.python.ops.init_ops) is deprecated and will be removed in a future version.\n",
      "Instructions for updating:\n",
      "Use tf.initializers.variance_scaling instead with distribution=uniform to get equivalent behavior.\n"
     ]
    }
   ],
   "source": [
    "import sys\n",
    "sys.path.insert(0, '../../')\n",
    "\n",
    "import pandas as pd\n",
    "from sklearn import metrics\n",
    "from keras.wrappers.scikit_learn import KerasClassifier\n",
    "from preprocess import Audio_Processor\n",
    "from classification_plots import plot_confusion_matrix\n",
    "import matplotlib.pyplot as plt\n",
    "import numpy as np\n",
    "import os"
   ]
  },
  {
   "cell_type": "code",
   "execution_count": 2,
   "metadata": {},
   "outputs": [],
   "source": [
    "# Able to specify which GPU to use\n",
    "os.environ[\"CUDA_VISIBLE_DEVICES\"]=\"0\"\n",
    "\n",
    "SR = 44100\n",
    "blocksize = int(SR * 5)\n",
    "overlap = 0 #int(SR/4)"
   ]
  },
  {
   "cell_type": "code",
   "execution_count": 3,
   "metadata": {},
   "outputs": [],
   "source": [
    "import warnings\n",
    "warnings.filterwarnings('ignore')"
   ]
  },
  {
   "cell_type": "markdown",
   "metadata": {},
   "source": [
    "# Setup"
   ]
  },
  {
   "cell_type": "code",
   "execution_count": 4,
   "metadata": {},
   "outputs": [],
   "source": [
    "audio_dir = '../../../ESC-50/audio/'"
   ]
  },
  {
   "cell_type": "code",
   "execution_count": 5,
   "metadata": {},
   "outputs": [],
   "source": [
    "path_to_db='../../../ESC-50/'"
   ]
  },
  {
   "cell_type": "markdown",
   "metadata": {},
   "source": [
    "# Load Dataset\n",
    "Here we load the csv that describes each file in the dataset. We add a high level category that is defined in the ESC-50 documentation. This we realize is anthetical to true training, it is a stopgap for when we use NLP to classify tags into these categories."
   ]
  },
  {
   "cell_type": "code",
   "execution_count": 6,
   "metadata": {},
   "outputs": [],
   "source": [
    "dataset = pd.read_csv(path_to_db + 'meta/esc50.csv')\n",
    "classes = [None] * 50\n",
    "h_classes = ['Human & Animal', 'Interacting Materials']\n",
    "ps = Audio_Processor(path_to_db + 'audio/', sr=SR)"
   ]
  },
  {
   "cell_type": "code",
   "execution_count": 7,
   "metadata": {},
   "outputs": [],
   "source": [
    "mapping = {\n",
    "    'dog': 0,\n",
    "    'rooster': 0,\n",
    "    'pig': 0,\n",
    "    'cow': 0,\n",
    "    'frog': 0,\n",
    "    'cat': 0,\n",
    "    'hen': 0,\n",
    "    'insects': 0,\n",
    "    'sheep': 0,\n",
    "    'crow': 0,\n",
    "    'rain': 1,\n",
    "    'sea_waves': 1,\n",
    "    'crackling_fire': 1,\n",
    "    'crickets': 0,\n",
    "    'chirping_birds': 0,\n",
    "    'water_drops': 1,\n",
    "    'wind': 1,\n",
    "    'pouring_water': 1,\n",
    "    'toilet_flush': 1,\n",
    "    'thunderstorm': 1,\n",
    "    'crying_baby': 0,\n",
    "    'sneezing': 0,\n",
    "    'clapping': 0,\n",
    "    'breathing': 0,\n",
    "    'coughing': 0,\n",
    "    'footsteps': 1,\n",
    "    'laughing': 0,\n",
    "    'brushing_teeth': 1,\n",
    "    'snoring': 0,\n",
    "    'drinking_sipping': 1,\n",
    "    'door_wood_knock': 1,\n",
    "    'mouse_click': 1,\n",
    "    'keyboard_typing': 1,\n",
    "    'door_wood_creaks': 1,\n",
    "    'can_opening': 1,\n",
    "    'washing_machine': 1,\n",
    "    'vacuum_cleaner': 1,\n",
    "    'clock_alarm': 1,\n",
    "    'clock_tick': 1,\n",
    "    'glass_breaking':1 ,\n",
    "    'helicopter': 1,\n",
    "    'chainsaw': 1,\n",
    "    'siren': 1,\n",
    "    'car_horn': 1,\n",
    "    'engine': 1,\n",
    "    'train': 1,\n",
    "    'church_bells': 1,\n",
    "    'airplane': 1,\n",
    "    'fireworks': 1,\n",
    "    'hand_saw': 1,\n",
    "}"
   ]
  },
  {
   "cell_type": "code",
   "execution_count": 8,
   "metadata": {},
   "outputs": [],
   "source": [
    "dataset['h_category'] = None\n",
    "for index, row in dataset.iterrows():\n",
    "    target = row['target']\n",
    "    classes[target] = row['category']\n",
    "    dataset.loc[index, 'h_category'] = mapping[row['category']]"
   ]
  },
  {
   "cell_type": "code",
   "execution_count": 9,
   "metadata": {},
   "outputs": [
    {
     "data": {
      "text/html": [
       "<div>\n",
       "<style scoped>\n",
       "    .dataframe tbody tr th:only-of-type {\n",
       "        vertical-align: middle;\n",
       "    }\n",
       "\n",
       "    .dataframe tbody tr th {\n",
       "        vertical-align: top;\n",
       "    }\n",
       "\n",
       "    .dataframe thead th {\n",
       "        text-align: right;\n",
       "    }\n",
       "</style>\n",
       "<table border=\"1\" class=\"dataframe\">\n",
       "  <thead>\n",
       "    <tr style=\"text-align: right;\">\n",
       "      <th></th>\n",
       "      <th>filename</th>\n",
       "      <th>fold</th>\n",
       "      <th>target</th>\n",
       "      <th>category</th>\n",
       "      <th>esc10</th>\n",
       "      <th>src_file</th>\n",
       "      <th>take</th>\n",
       "    </tr>\n",
       "  </thead>\n",
       "  <tbody>\n",
       "    <tr>\n",
       "      <th>0</th>\n",
       "      <td>1-100032-A-0.wav</td>\n",
       "      <td>1</td>\n",
       "      <td>0</td>\n",
       "      <td>dog</td>\n",
       "      <td>True</td>\n",
       "      <td>100032</td>\n",
       "      <td>A</td>\n",
       "    </tr>\n",
       "    <tr>\n",
       "      <th>1</th>\n",
       "      <td>1-100038-A-14.wav</td>\n",
       "      <td>1</td>\n",
       "      <td>14</td>\n",
       "      <td>chirping_birds</td>\n",
       "      <td>False</td>\n",
       "      <td>100038</td>\n",
       "      <td>A</td>\n",
       "    </tr>\n",
       "    <tr>\n",
       "      <th>2</th>\n",
       "      <td>1-103298-A-9.wav</td>\n",
       "      <td>1</td>\n",
       "      <td>9</td>\n",
       "      <td>crow</td>\n",
       "      <td>False</td>\n",
       "      <td>103298</td>\n",
       "      <td>A</td>\n",
       "    </tr>\n",
       "    <tr>\n",
       "      <th>3</th>\n",
       "      <td>1-104089-A-22.wav</td>\n",
       "      <td>1</td>\n",
       "      <td>22</td>\n",
       "      <td>clapping</td>\n",
       "      <td>False</td>\n",
       "      <td>104089</td>\n",
       "      <td>A</td>\n",
       "    </tr>\n",
       "    <tr>\n",
       "      <th>4</th>\n",
       "      <td>1-104089-B-22.wav</td>\n",
       "      <td>1</td>\n",
       "      <td>22</td>\n",
       "      <td>clapping</td>\n",
       "      <td>False</td>\n",
       "      <td>104089</td>\n",
       "      <td>B</td>\n",
       "    </tr>\n",
       "  </tbody>\n",
       "</table>\n",
       "</div>"
      ],
      "text/plain": [
       "            filename  fold  target        category  esc10  src_file take\n",
       "0   1-100032-A-0.wav     1       0             dog   True    100032    A\n",
       "1  1-100038-A-14.wav     1      14  chirping_birds  False    100038    A\n",
       "2   1-103298-A-9.wav     1       9            crow  False    103298    A\n",
       "3  1-104089-A-22.wav     1      22        clapping  False    104089    A\n",
       "4  1-104089-B-22.wav     1      22        clapping  False    104089    B"
      ]
     },
     "execution_count": 9,
     "metadata": {},
     "output_type": "execute_result"
    }
   ],
   "source": [
    "dataset = dataset[dataset.h_category == 0].drop([\"h_category\"], axis=1)\n",
    "dataset = dataset.reset_index(drop=True)\n",
    "dataset.head()"
   ]
  },
  {
   "cell_type": "markdown",
   "metadata": {},
   "source": [
    "## Getting Preprocessed Data\n",
    "We allow for previously preprocessed data to be retrieved for faster training turnaround. If the fold has been preprocessed, it is loaded but if not it is processed and saved."
   ]
  },
  {
   "cell_type": "code",
   "execution_count": 12,
   "metadata": {},
   "outputs": [],
   "source": [
    "import time\n",
    "import librosa\n",
    "import numpy as np\n",
    "import soundfile as sf\n",
    "\n",
    "def load_fold_audio_blockwise(fld, data, blocksize=1024, overlap=512, debug=False):\n",
    "    start_time = time.time()\n",
    "    f_df = data[data['fold'] == fld]\n",
    "    items = []\n",
    "    h_cat = []\n",
    "    cat = []\n",
    "    for i, sample in f_df.iterrows():\n",
    "        if debug:\n",
    "            print(\"File Processing\", end=\"\", flush=True)\n",
    "        blockgen = sf.blocks(audio_dir + sample['filename'], \n",
    "                             blocksize=blocksize, \n",
    "                             overlap=overlap, \n",
    "                             always_2d=True,\n",
    "                             fill_value=0.0)\n",
    "        sr = sf.info(audio_dir + sample['filename']).samplerate\n",
    "        for bl in blockgen:\n",
    "            if not np.any(bl):\n",
    "                continue\n",
    "            if debug:\n",
    "                print(\".\", end=\"\", flush=True)\n",
    "            y = bl.transpose()\n",
    "            y = librosa.resample(y, sr, SR)\n",
    "            y = y[:int(blocksize)]\n",
    "            y = y[np.newaxis, :]\n",
    "            items.append(y)\n",
    "            h_cat.append(sample.h_category)\n",
    "            cat.append(sample.target)\n",
    "        if debug:\n",
    "            print(\"Done\")\n",
    "\n",
    "    print(\"\\tProcessing Time: \" + str(time.time() - start_time))\n",
    "    return np.vstack(items), np.array(h_cat), np.array(cat)\n",
    "\n",
    "def load_audio_blockwise(data, blocksize=1024, overlap=512, debug=False):\n",
    "    start_time = time.time()\n",
    "    items = []\n",
    "    target = []\n",
    "    for i, sample in data.iterrows():\n",
    "        if debug:\n",
    "            print(\"File Processing\", end=\"\", flush=True)\n",
    "        blockgen = sf.blocks(audio_dir + sample['filename'], \n",
    "                             blocksize=blocksize, \n",
    "                             overlap=overlap, \n",
    "                             always_2d=True,\n",
    "                             fill_value=0.0)\n",
    "        sr = sf.info(audio_dir + sample['filename']).samplerate\n",
    "        for bl in blockgen:\n",
    "            if not np.any(bl):\n",
    "                continue\n",
    "            if debug:\n",
    "                print(\".\", end=\"\", flush=True)\n",
    "            y = bl.transpose()\n",
    "            y = librosa.resample(y, sr, SR)\n",
    "            y = y[:int(blocksize)]\n",
    "            y = y[np.newaxis, :]\n",
    "            items.append(y)\n",
    "            target.append(sample.target)\n",
    "        if debug:\n",
    "            print(\"Done\")\n",
    "    print(\"\\tProcessing Time: \" + str(time.time() - start_time))\n",
    "    return np.vstack(items), np.array(target)"
   ]
  },
  {
   "cell_type": "code",
   "execution_count": 13,
   "metadata": {},
   "outputs": [
    {
     "name": "stdout",
     "output_type": "stream",
     "text": [
      "\tProcessing Time: 1.2701361179351807\n",
      "(608, 1, 220500)\n"
     ]
    }
   ],
   "source": [
    "train_X, train_y = load_audio_blockwise(dataset[dataset.fold != 1], blocksize, overlap)\n",
    "print(train_X.shape)"
   ]
  },
  {
   "cell_type": "code",
   "execution_count": 14,
   "metadata": {},
   "outputs": [
    {
     "name": "stdout",
     "output_type": "stream",
     "text": [
      "\tProcessing Time: 0.3809547424316406\n",
      "(152, 1, 220500)\n"
     ]
    }
   ],
   "source": [
    "test_X, test_y = load_audio_blockwise(dataset[dataset.fold == 1], blocksize, overlap)\n",
    "print(test_X.shape)"
   ]
  },
  {
   "cell_type": "markdown",
   "metadata": {},
   "source": [
    "## High-Level Shallow Nets\n",
    "Train binary shallow nets for high level categories(animals, natural, human, domestic, urban)"
   ]
  },
  {
   "cell_type": "code",
   "execution_count": 15,
   "metadata": {},
   "outputs": [],
   "source": [
    "from keras.models import Sequential\n",
    "from keras.layers import Dense, Dropout, Convolution2D, MaxPooling2D, Flatten, InputLayer\n",
    "import keras.metrics as kmet\n",
    "from kapre.time_frequency import Melspectrogram, Spectrogram\n",
    "from kapre.utils import Normalization2D\n",
    "from kapre.augmentation import AdditiveNoise\n",
    "\n",
    "ensemble_num = 10\n",
    "num_hidden_neurons = 10\n",
    "dropout = 0.25\n",
    "\n",
    "epochs = 100\n",
    "batch = 128\n",
    "\n",
    "def gpu_mfcc_shallow_net():\n",
    "    # Create Model\n",
    "    # Create Model\n",
    "    model = Sequential()au\n",
    "    model.add(Melspectrogram(\n",
    "        sr=SR,\n",
    "        n_mels=128,\n",
    "        power_melgram=1.0,\n",
    "        input_shape=(1, blocksize),\n",
    "        trainable_fb=False,\n",
    "        fmin = 800,\n",
    "        fmax = 8000\n",
    "    ))\n",
    "    model.add(Convolution2D(32, 9, 9, name='conv1', activation='relu'))\n",
    "    model.add(MaxPooling2D((25, 17)))\n",
    "    model.add(Flatten())\n",
    "    model.add(Dense(32, activation='relu'))\n",
    "    model.add(Dense(32, activation='relu'))\n",
    "    model.add(Dropout(0.2))\n",
    "    model.add(Dense(32, activation='relu'))\n",
    "    model.add(Dense(32, activation='relu'))\n",
    "    model.add(Dropout(0.2))\n",
    "    model.add(Dense(19, kernel_initializer='normal', activation='sigmoid'))\n",
    "    \n",
    "    # Compile model\n",
    "    model.compile(loss='categorical_crossentropy',\n",
    "                  optimizer='adam',\n",
    "                  metrics=['accuracy', kmet.mae])\n",
    "    \n",
    "    model.summary()\n",
    "\n",
    "    \n",
    "    return model"
   ]
  },
  {
   "cell_type": "code",
   "execution_count": 16,
   "metadata": {
    "scrolled": true
   },
   "outputs": [
    {
     "name": "stdout",
     "output_type": "stream",
     "text": [
      "_________________________________________________________________\n",
      "Layer (type)                 Output Shape              Param #   \n",
      "=================================================================\n",
      "melspectrogram_1 (Melspectro (None, 128, 862, 1)       296064    \n",
      "_________________________________________________________________\n",
      "conv1 (Conv2D)               (None, 120, 854, 32)      2624      \n",
      "_________________________________________________________________\n",
      "max_pooling2d_1 (MaxPooling2 (None, 4, 50, 32)         0         \n",
      "_________________________________________________________________\n",
      "flatten_1 (Flatten)          (None, 6400)              0         \n",
      "_________________________________________________________________\n",
      "dense_1 (Dense)              (None, 32)                204832    \n",
      "_________________________________________________________________\n",
      "dense_2 (Dense)              (None, 32)                1056      \n",
      "_________________________________________________________________\n",
      "dropout_1 (Dropout)          (None, 32)                0         \n",
      "_________________________________________________________________\n",
      "dense_3 (Dense)              (None, 32)                1056      \n",
      "_________________________________________________________________\n",
      "dense_4 (Dense)              (None, 32)                1056      \n",
      "_________________________________________________________________\n",
      "dropout_2 (Dropout)          (None, 32)                0         \n",
      "_________________________________________________________________\n",
      "dense_5 (Dense)              (None, 19)                627       \n",
      "=================================================================\n",
      "Total params: 507,315\n",
      "Trainable params: 211,251\n",
      "Non-trainable params: 296,064\n",
      "_________________________________________________________________\n",
      "Train on 516 samples, validate on 92 samples\n",
      "Epoch 1/100\n",
      "516/516 [==============================] - 42s 81ms/step - loss: 2.9429 - acc: 0.0659 - mean_absolute_error: 0.4990 - val_loss: 2.9417 - val_acc: 0.0870 - val_mean_absolute_error: 0.4949\n",
      "Epoch 2/100\n",
      "516/516 [==============================] - 42s 81ms/step - loss: 2.9333 - acc: 0.0620 - mean_absolute_error: 0.4914 - val_loss: 2.9270 - val_acc: 0.0870 - val_mean_absolute_error: 0.4861\n",
      "Epoch 3/100\n",
      "516/516 [==============================] - 40s 78ms/step - loss: 2.9035 - acc: 0.0620 - mean_absolute_error: 0.4809 - val_loss: 2.9116 - val_acc: 0.0761 - val_mean_absolute_error: 0.4727\n",
      "Epoch 4/100\n",
      "516/516 [==============================] - 41s 80ms/step - loss: 2.8733 - acc: 0.0911 - mean_absolute_error: 0.4628 - val_loss: 2.8669 - val_acc: 0.0435 - val_mean_absolute_error: 0.4544\n",
      "Epoch 5/100\n",
      "516/516 [==============================] - 42s 81ms/step - loss: 2.8445 - acc: 0.1027 - mean_absolute_error: 0.4435 - val_loss: 2.8294 - val_acc: 0.0435 - val_mean_absolute_error: 0.4409\n",
      "Epoch 6/100\n",
      "516/516 [==============================] - 41s 79ms/step - loss: 2.7987 - acc: 0.0988 - mean_absolute_error: 0.4334 - val_loss: 2.7917 - val_acc: 0.0326 - val_mean_absolute_error: 0.4358\n",
      "Epoch 7/100\n",
      "516/516 [==============================] - 39s 75ms/step - loss: 2.7849 - acc: 0.0814 - mean_absolute_error: 0.4224 - val_loss: 2.7688 - val_acc: 0.0435 - val_mean_absolute_error: 0.4244\n",
      "Epoch 8/100\n",
      "516/516 [==============================] - 40s 78ms/step - loss: 2.7449 - acc: 0.0930 - mean_absolute_error: 0.4111 - val_loss: 2.7620 - val_acc: 0.0326 - val_mean_absolute_error: 0.4157\n",
      "Epoch 9/100\n",
      "516/516 [==============================] - 41s 79ms/step - loss: 2.7113 - acc: 0.1279 - mean_absolute_error: 0.3962 - val_loss: 2.7084 - val_acc: 0.0435 - val_mean_absolute_error: 0.3975\n",
      "Epoch 10/100\n",
      "516/516 [==============================] - 40s 78ms/step - loss: 2.6897 - acc: 0.1357 - mean_absolute_error: 0.3822 - val_loss: 2.7117 - val_acc: 0.0435 - val_mean_absolute_error: 0.3875\n",
      "Epoch 11/100\n",
      "516/516 [==============================] - 39s 75ms/step - loss: 2.6424 - acc: 0.1395 - mean_absolute_error: 0.3692 - val_loss: 2.7238 - val_acc: 0.0978 - val_mean_absolute_error: 0.3788\n",
      "Epoch 12/100\n",
      "516/516 [==============================] - 38s 74ms/step - loss: 2.6111 - acc: 0.1531 - mean_absolute_error: 0.3605 - val_loss: 2.6501 - val_acc: 0.0761 - val_mean_absolute_error: 0.3755\n",
      "Epoch 13/100\n",
      "516/516 [==============================] - 38s 74ms/step - loss: 2.6307 - acc: 0.1337 - mean_absolute_error: 0.3580 - val_loss: 2.6766 - val_acc: 0.1304 - val_mean_absolute_error: 0.3788\n",
      "Epoch 14/100\n",
      "516/516 [==============================] - 38s 74ms/step - loss: 2.6465 - acc: 0.1492 - mean_absolute_error: 0.3588 - val_loss: 2.7042 - val_acc: 0.1196 - val_mean_absolute_error: 0.3714\n",
      "Epoch 15/100\n",
      "516/516 [==============================] - 39s 75ms/step - loss: 2.6376 - acc: 0.1434 - mean_absolute_error: 0.3551 - val_loss: 2.7137 - val_acc: 0.1196 - val_mean_absolute_error: 0.3751\n",
      "Epoch 16/100\n",
      "516/516 [==============================] - 38s 74ms/step - loss: 2.6030 - acc: 0.1512 - mean_absolute_error: 0.3527 - val_loss: 2.6813 - val_acc: 0.1087 - val_mean_absolute_error: 0.3568\n",
      "Epoch 17/100\n",
      "516/516 [==============================] - 40s 77ms/step - loss: 2.5689 - acc: 0.1492 - mean_absolute_error: 0.3327 - val_loss: 2.6881 - val_acc: 0.0978 - val_mean_absolute_error: 0.3418\n",
      "Epoch 18/100\n",
      "516/516 [==============================] - 40s 77ms/step - loss: 2.5670 - acc: 0.1667 - mean_absolute_error: 0.3221 - val_loss: 2.6795 - val_acc: 0.0978 - val_mean_absolute_error: 0.3466\n",
      "Epoch 19/100\n",
      "516/516 [==============================] - 40s 77ms/step - loss: 2.5489 - acc: 0.1434 - mean_absolute_error: 0.3292 - val_loss: 2.6680 - val_acc: 0.1196 - val_mean_absolute_error: 0.3556\n",
      "Epoch 20/100\n",
      "516/516 [==============================] - 38s 74ms/step - loss: 2.5620 - acc: 0.1705 - mean_absolute_error: 0.3309 - val_loss: 2.6542 - val_acc: 0.1087 - val_mean_absolute_error: 0.3491\n",
      "Epoch 21/100\n",
      "516/516 [==============================] - 41s 79ms/step - loss: 2.5082 - acc: 0.1589 - mean_absolute_error: 0.3244 - val_loss: 2.6832 - val_acc: 0.1196 - val_mean_absolute_error: 0.3332\n",
      "Epoch 22/100\n",
      "516/516 [==============================] - 39s 75ms/step - loss: 2.5113 - acc: 0.1686 - mean_absolute_error: 0.3101 - val_loss: 2.7256 - val_acc: 0.1196 - val_mean_absolute_error: 0.3238\n",
      "Epoch 23/100\n",
      "516/516 [==============================] - 38s 73ms/step - loss: 2.4788 - acc: 0.1938 - mean_absolute_error: 0.3033 - val_loss: 2.6900 - val_acc: 0.0978 - val_mean_absolute_error: 0.3167\n",
      "Epoch 24/100\n",
      "516/516 [==============================] - 39s 75ms/step - loss: 2.4630 - acc: 0.2074 - mean_absolute_error: 0.2961 - val_loss: 2.7873 - val_acc: 0.0543 - val_mean_absolute_error: 0.3105\n",
      "Epoch 25/100\n",
      "516/516 [==============================] - 38s 74ms/step - loss: 2.4038 - acc: 0.1802 - mean_absolute_error: 0.2866 - val_loss: 2.6592 - val_acc: 0.0978 - val_mean_absolute_error: 0.3028\n",
      "Epoch 26/100\n",
      "516/516 [==============================] - 40s 77ms/step - loss: 2.4163 - acc: 0.2112 - mean_absolute_error: 0.2760 - val_loss: 2.5756 - val_acc: 0.0761 - val_mean_absolute_error: 0.2923\n",
      "Epoch 27/100\n",
      "516/516 [==============================] - 39s 76ms/step - loss: 2.4227 - acc: 0.1919 - mean_absolute_error: 0.2706 - val_loss: 2.6720 - val_acc: 0.1087 - val_mean_absolute_error: 0.2832\n",
      "Epoch 28/100\n",
      "516/516 [==============================] - 39s 75ms/step - loss: 2.3769 - acc: 0.1938 - mean_absolute_error: 0.2626 - val_loss: 2.7369 - val_acc: 0.1304 - val_mean_absolute_error: 0.2805\n",
      "Epoch 29/100\n",
      "516/516 [==============================] - 38s 74ms/step - loss: 2.3109 - acc: 0.2364 - mean_absolute_error: 0.2584 - val_loss: 2.5607 - val_acc: 0.1630 - val_mean_absolute_error: 0.2720\n",
      "Epoch 30/100\n",
      "516/516 [==============================] - 40s 78ms/step - loss: 2.3489 - acc: 0.2694 - mean_absolute_error: 0.2508 - val_loss: 2.4729 - val_acc: 0.2283 - val_mean_absolute_error: 0.2634\n",
      "Epoch 31/100\n",
      "516/516 [==============================] - 37s 72ms/step - loss: 2.2673 - acc: 0.2461 - mean_absolute_error: 0.2440 - val_loss: 2.5621 - val_acc: 0.2391 - val_mean_absolute_error: 0.2578\n",
      "Epoch 32/100\n",
      "516/516 [==============================] - 40s 77ms/step - loss: 2.2907 - acc: 0.2481 - mean_absolute_error: 0.2389 - val_loss: 2.5485 - val_acc: 0.2283 - val_mean_absolute_error: 0.2471\n"
     ]
    },
    {
     "name": "stdout",
     "output_type": "stream",
     "text": [
      "Epoch 33/100\n",
      "516/516 [==============================] - 38s 74ms/step - loss: 2.2462 - acc: 0.2849 - mean_absolute_error: 0.2300 - val_loss: 2.5405 - val_acc: 0.2391 - val_mean_absolute_error: 0.2404\n",
      "Epoch 34/100\n",
      "516/516 [==============================] - 41s 79ms/step - loss: 2.2000 - acc: 0.2829 - mean_absolute_error: 0.2242 - val_loss: 2.5540 - val_acc: 0.2500 - val_mean_absolute_error: 0.2373\n",
      "Epoch 35/100\n",
      "516/516 [==============================] - 40s 78ms/step - loss: 2.2006 - acc: 0.2752 - mean_absolute_error: 0.2208 - val_loss: 2.5852 - val_acc: 0.2283 - val_mean_absolute_error: 0.2395\n",
      "Epoch 36/100\n",
      "516/516 [==============================] - 39s 76ms/step - loss: 2.1738 - acc: 0.2965 - mean_absolute_error: 0.2174 - val_loss: 2.4736 - val_acc: 0.2174 - val_mean_absolute_error: 0.2381\n",
      "Epoch 37/100\n",
      "516/516 [==============================] - 38s 74ms/step - loss: 2.2133 - acc: 0.2868 - mean_absolute_error: 0.2194 - val_loss: 2.6149 - val_acc: 0.2391 - val_mean_absolute_error: 0.2376\n",
      "Epoch 38/100\n",
      "516/516 [==============================] - 41s 80ms/step - loss: 2.2464 - acc: 0.2597 - mean_absolute_error: 0.2220 - val_loss: 2.8608 - val_acc: 0.2065 - val_mean_absolute_error: 0.2352\n",
      "Epoch 39/100\n",
      "516/516 [==============================] - 40s 78ms/step - loss: 2.3001 - acc: 0.2752 - mean_absolute_error: 0.2181 - val_loss: 2.5559 - val_acc: 0.2609 - val_mean_absolute_error: 0.2338\n",
      "Epoch 40/100\n",
      "516/516 [==============================] - 39s 75ms/step - loss: 2.1540 - acc: 0.2771 - mean_absolute_error: 0.2136 - val_loss: 2.4470 - val_acc: 0.2065 - val_mean_absolute_error: 0.2283\n",
      "Epoch 41/100\n",
      "516/516 [==============================] - 39s 76ms/step - loss: 2.1327 - acc: 0.3140 - mean_absolute_error: 0.2074 - val_loss: 2.6179 - val_acc: 0.2391 - val_mean_absolute_error: 0.2225\n",
      "Epoch 42/100\n",
      "516/516 [==============================] - 38s 75ms/step - loss: 2.0807 - acc: 0.3101 - mean_absolute_error: 0.2055 - val_loss: 2.7391 - val_acc: 0.2283 - val_mean_absolute_error: 0.2224\n",
      "Epoch 43/100\n",
      "516/516 [==============================] - 41s 79ms/step - loss: 2.0980 - acc: 0.3062 - mean_absolute_error: 0.2085 - val_loss: 2.5653 - val_acc: 0.2609 - val_mean_absolute_error: 0.2260\n",
      "Epoch 44/100\n",
      "516/516 [==============================] - 39s 75ms/step - loss: 2.0002 - acc: 0.3275 - mean_absolute_error: 0.2063 - val_loss: 2.4887 - val_acc: 0.2826 - val_mean_absolute_error: 0.2205\n",
      "Epoch 45/100\n",
      "516/516 [==============================] - 38s 74ms/step - loss: 2.0255 - acc: 0.3353 - mean_absolute_error: 0.2006 - val_loss: 2.5031 - val_acc: 0.2935 - val_mean_absolute_error: 0.2084\n",
      "Epoch 46/100\n",
      "516/516 [==============================] - 39s 76ms/step - loss: 1.9968 - acc: 0.3624 - mean_absolute_error: 0.1893 - val_loss: 2.5517 - val_acc: 0.2826 - val_mean_absolute_error: 0.1982\n",
      "Epoch 47/100\n",
      "516/516 [==============================] - 39s 76ms/step - loss: 1.9652 - acc: 0.3702 - mean_absolute_error: 0.1801 - val_loss: 2.6130 - val_acc: 0.2935 - val_mean_absolute_error: 0.1872\n",
      "Epoch 48/100\n",
      "516/516 [==============================] - 38s 74ms/step - loss: 1.9584 - acc: 0.3876 - mean_absolute_error: 0.1695 - val_loss: 2.6347 - val_acc: 0.2826 - val_mean_absolute_error: 0.1806\n",
      "Epoch 49/100\n",
      "516/516 [==============================] - 39s 75ms/step - loss: 1.9548 - acc: 0.3721 - mean_absolute_error: 0.1650 - val_loss: 2.6075 - val_acc: 0.2717 - val_mean_absolute_error: 0.1798\n",
      "Epoch 50/100\n",
      "516/516 [==============================] - 41s 79ms/step - loss: 1.9013 - acc: 0.3760 - mean_absolute_error: 0.1656 - val_loss: 2.5903 - val_acc: 0.2500 - val_mean_absolute_error: 0.1802\n",
      "Epoch 51/100\n",
      "516/516 [==============================] - 42s 81ms/step - loss: 1.9083 - acc: 0.3585 - mean_absolute_error: 0.1636 - val_loss: 2.7080 - val_acc: 0.2717 - val_mean_absolute_error: 0.1728\n",
      "Epoch 52/100\n",
      "516/516 [==============================] - 39s 75ms/step - loss: 1.8844 - acc: 0.3643 - mean_absolute_error: 0.1591 - val_loss: 2.6296 - val_acc: 0.2717 - val_mean_absolute_error: 0.1714\n",
      "Epoch 53/100\n",
      "516/516 [==============================] - 39s 76ms/step - loss: 2.0601 - acc: 0.3488 - mean_absolute_error: 0.1598 - val_loss: 2.5892 - val_acc: 0.2065 - val_mean_absolute_error: 0.1801\n",
      "Epoch 54/100\n",
      "516/516 [==============================] - 38s 74ms/step - loss: 2.2186 - acc: 0.3004 - mean_absolute_error: 0.1658 - val_loss: 2.5054 - val_acc: 0.3370 - val_mean_absolute_error: 0.1773\n",
      "Epoch 55/100\n",
      "516/516 [==============================] - 39s 75ms/step - loss: 1.9996 - acc: 0.3178 - mean_absolute_error: 0.1658 - val_loss: 2.7842 - val_acc: 0.2500 - val_mean_absolute_error: 0.1768\n",
      "Epoch 56/100\n",
      "516/516 [==============================] - 39s 76ms/step - loss: 2.0580 - acc: 0.3140 - mean_absolute_error: 0.1690 - val_loss: 2.5397 - val_acc: 0.2283 - val_mean_absolute_error: 0.1881\n",
      "Epoch 57/100\n",
      "516/516 [==============================] - 39s 76ms/step - loss: 2.0014 - acc: 0.3198 - mean_absolute_error: 0.1795 - val_loss: 2.3887 - val_acc: 0.2609 - val_mean_absolute_error: 0.1925\n",
      "Epoch 58/100\n",
      "516/516 [==============================] - 39s 76ms/step - loss: 2.0211 - acc: 0.3275 - mean_absolute_error: 0.1802 - val_loss: 2.4279 - val_acc: 0.2609 - val_mean_absolute_error: 0.1877\n",
      "Epoch 59/100\n",
      "516/516 [==============================] - 38s 75ms/step - loss: 1.9227 - acc: 0.3372 - mean_absolute_error: 0.1736 - val_loss: 2.5013 - val_acc: 0.2935 - val_mean_absolute_error: 0.1796\n",
      "Epoch 60/100\n",
      "516/516 [==============================] - 39s 76ms/step - loss: 1.9254 - acc: 0.3702 - mean_absolute_error: 0.1676 - val_loss: 2.4950 - val_acc: 0.3261 - val_mean_absolute_error: 0.1734\n",
      "Epoch 61/100\n",
      "516/516 [==============================] - 38s 73ms/step - loss: 1.9076 - acc: 0.3973 - mean_absolute_error: 0.1645 - val_loss: 2.4354 - val_acc: 0.3043 - val_mean_absolute_error: 0.1706\n",
      "Epoch 62/100\n",
      "516/516 [==============================] - 39s 75ms/step - loss: 1.9142 - acc: 0.3702 - mean_absolute_error: 0.1557 - val_loss: 2.4375 - val_acc: 0.2717 - val_mean_absolute_error: 0.1633\n",
      "Epoch 63/100\n",
      "516/516 [==============================] - 38s 74ms/step - loss: 1.8643 - acc: 0.3973 - mean_absolute_error: 0.1470 - val_loss: 2.4505 - val_acc: 0.3152 - val_mean_absolute_error: 0.1549\n",
      "Epoch 64/100\n",
      "516/516 [==============================] - 40s 78ms/step - loss: 1.8018 - acc: 0.3760 - mean_absolute_error: 0.1402 - val_loss: 2.5185 - val_acc: 0.3261 - val_mean_absolute_error: 0.1474\n",
      "Epoch 65/100\n",
      "516/516 [==============================] - 40s 77ms/step - loss: 1.7342 - acc: 0.4089 - mean_absolute_error: 0.1341 - val_loss: 2.5366 - val_acc: 0.3370 - val_mean_absolute_error: 0.1461\n",
      "Epoch 66/100\n",
      "516/516 [==============================] - 40s 77ms/step - loss: 1.8441 - acc: 0.3837 - mean_absolute_error: 0.1369 - val_loss: 2.5676 - val_acc: 0.3152 - val_mean_absolute_error: 0.1506\n",
      "Epoch 67/100\n",
      "516/516 [==============================] - 39s 75ms/step - loss: 1.7581 - acc: 0.3818 - mean_absolute_error: 0.1392 - val_loss: 2.6534 - val_acc: 0.2609 - val_mean_absolute_error: 0.1484\n",
      "Epoch 68/100\n",
      "516/516 [==============================] - 39s 75ms/step - loss: 1.7956 - acc: 0.3934 - mean_absolute_error: 0.1334 - val_loss: 2.7322 - val_acc: 0.2717 - val_mean_absolute_error: 0.1425\n",
      "Epoch 69/100\n",
      "516/516 [==============================] - 38s 74ms/step - loss: 1.6903 - acc: 0.4186 - mean_absolute_error: 0.1283 - val_loss: 2.7204 - val_acc: 0.2826 - val_mean_absolute_error: 0.1402\n",
      "Epoch 70/100\n",
      "516/516 [==============================] - 38s 73ms/step - loss: 1.6979 - acc: 0.3973 - mean_absolute_error: 0.1240 - val_loss: 2.7743 - val_acc: 0.2935 - val_mean_absolute_error: 0.1366\n",
      "Epoch 71/100\n",
      "516/516 [==============================] - 40s 77ms/step - loss: 1.6656 - acc: 0.4341 - mean_absolute_error: 0.1201 - val_loss: 2.8229 - val_acc: 0.2826 - val_mean_absolute_error: 0.1323\n",
      "Epoch 72/100\n",
      "516/516 [==============================] - 40s 77ms/step - loss: 1.7091 - acc: 0.4380 - mean_absolute_error: 0.1166 - val_loss: 2.8179 - val_acc: 0.3261 - val_mean_absolute_error: 0.1286\n",
      "Epoch 73/100\n",
      "516/516 [==============================] - 39s 75ms/step - loss: 1.7081 - acc: 0.4070 - mean_absolute_error: 0.1161 - val_loss: 2.7162 - val_acc: 0.2826 - val_mean_absolute_error: 0.1287\n"
     ]
    },
    {
     "name": "stdout",
     "output_type": "stream",
     "text": [
      "Epoch 74/100\n",
      "516/516 [==============================] - 38s 74ms/step - loss: 1.6755 - acc: 0.4593 - mean_absolute_error: 0.1198 - val_loss: 2.6674 - val_acc: 0.3152 - val_mean_absolute_error: 0.1330\n",
      "Epoch 75/100\n",
      "516/516 [==============================] - 39s 75ms/step - loss: 1.5861 - acc: 0.4419 - mean_absolute_error: 0.1174 - val_loss: 2.9128 - val_acc: 0.3261 - val_mean_absolute_error: 0.1308\n",
      "Epoch 76/100\n",
      "516/516 [==============================] - 38s 73ms/step - loss: 1.7200 - acc: 0.3857 - mean_absolute_error: 0.1161 - val_loss: 2.9796 - val_acc: 0.3152 - val_mean_absolute_error: 0.1268\n",
      "Epoch 77/100\n",
      "516/516 [==============================] - 38s 74ms/step - loss: 1.6329 - acc: 0.4457 - mean_absolute_error: 0.1141 - val_loss: 2.9297 - val_acc: 0.3152 - val_mean_absolute_error: 0.1287\n",
      "Epoch 78/100\n",
      "516/516 [==============================] - 39s 75ms/step - loss: 1.6225 - acc: 0.4341 - mean_absolute_error: 0.1169 - val_loss: 2.9236 - val_acc: 0.3152 - val_mean_absolute_error: 0.1279\n",
      "Epoch 79/100\n",
      "516/516 [==============================] - 40s 78ms/step - loss: 1.5817 - acc: 0.4457 - mean_absolute_error: 0.1151 - val_loss: 2.9205 - val_acc: 0.3152 - val_mean_absolute_error: 0.1230\n",
      "Epoch 80/100\n",
      "516/516 [==============================] - 41s 79ms/step - loss: 1.6676 - acc: 0.4516 - mean_absolute_error: 0.1126 - val_loss: 2.9835 - val_acc: 0.3043 - val_mean_absolute_error: 0.1186\n",
      "Epoch 81/100\n",
      "516/516 [==============================] - 39s 77ms/step - loss: 1.5575 - acc: 0.4651 - mean_absolute_error: 0.1075 - val_loss: 2.7884 - val_acc: 0.2935 - val_mean_absolute_error: 0.1216\n",
      "Epoch 82/100\n",
      "516/516 [==============================] - 40s 78ms/step - loss: 1.5802 - acc: 0.4574 - mean_absolute_error: 0.1117 - val_loss: 2.6476 - val_acc: 0.3043 - val_mean_absolute_error: 0.1260\n",
      "Epoch 83/100\n",
      "516/516 [==============================] - 38s 74ms/step - loss: 1.5035 - acc: 0.4729 - mean_absolute_error: 0.1094 - val_loss: 2.6676 - val_acc: 0.3152 - val_mean_absolute_error: 0.1223\n",
      "Epoch 84/100\n",
      "516/516 [==============================] - 38s 74ms/step - loss: 1.5288 - acc: 0.4457 - mean_absolute_error: 0.1085 - val_loss: 2.7290 - val_acc: 0.3152 - val_mean_absolute_error: 0.1154\n",
      "Epoch 85/100\n",
      "516/516 [==============================] - 39s 76ms/step - loss: 1.5624 - acc: 0.4826 - mean_absolute_error: 0.1008 - val_loss: 2.9244 - val_acc: 0.3043 - val_mean_absolute_error: 0.1090\n",
      "Epoch 86/100\n",
      "516/516 [==============================] - 39s 75ms/step - loss: 1.4978 - acc: 0.4554 - mean_absolute_error: 0.0974 - val_loss: 2.8996 - val_acc: 0.3261 - val_mean_absolute_error: 0.1096\n",
      "Epoch 87/100\n",
      "516/516 [==============================] - 39s 75ms/step - loss: 1.3896 - acc: 0.4961 - mean_absolute_error: 0.0960 - val_loss: 2.7795 - val_acc: 0.3152 - val_mean_absolute_error: 0.1092\n",
      "Epoch 88/100\n",
      "516/516 [==============================] - 39s 76ms/step - loss: 1.5749 - acc: 0.4535 - mean_absolute_error: 0.0975 - val_loss: 2.7958 - val_acc: 0.3261 - val_mean_absolute_error: 0.1079\n",
      "Epoch 89/100\n",
      "516/516 [==============================] - 39s 77ms/step - loss: 1.5059 - acc: 0.4593 - mean_absolute_error: 0.0981 - val_loss: 2.7618 - val_acc: 0.3478 - val_mean_absolute_error: 0.1114\n",
      "Epoch 90/100\n",
      "516/516 [==============================] - 40s 77ms/step - loss: 1.5767 - acc: 0.4729 - mean_absolute_error: 0.1031 - val_loss: 2.6761 - val_acc: 0.2826 - val_mean_absolute_error: 0.1185\n",
      "Epoch 91/100\n",
      "516/516 [==============================] - 39s 76ms/step - loss: 1.5086 - acc: 0.4671 - mean_absolute_error: 0.1032 - val_loss: 2.8026 - val_acc: 0.2609 - val_mean_absolute_error: 0.1193\n",
      "Epoch 92/100\n",
      "516/516 [==============================] - 39s 76ms/step - loss: 1.5219 - acc: 0.4748 - mean_absolute_error: 0.1035 - val_loss: 2.8199 - val_acc: 0.2717 - val_mean_absolute_error: 0.1209\n",
      "Epoch 93/100\n",
      "516/516 [==============================] - 40s 77ms/step - loss: 1.5246 - acc: 0.4632 - mean_absolute_error: 0.1030 - val_loss: 2.8822 - val_acc: 0.2935 - val_mean_absolute_error: 0.1180\n",
      "Epoch 94/100\n",
      "516/516 [==============================] - 39s 75ms/step - loss: 1.4166 - acc: 0.4748 - mean_absolute_error: 0.0976 - val_loss: 2.9717 - val_acc: 0.3043 - val_mean_absolute_error: 0.1128\n",
      "Epoch 95/100\n",
      "516/516 [==============================] - 37s 72ms/step - loss: 1.5246 - acc: 0.4535 - mean_absolute_error: 0.0962 - val_loss: 2.9208 - val_acc: 0.2826 - val_mean_absolute_error: 0.1152\n",
      "Epoch 96/100\n",
      "516/516 [==============================] - 39s 76ms/step - loss: 1.7186 - acc: 0.4244 - mean_absolute_error: 0.1030 - val_loss: 2.9183 - val_acc: 0.2935 - val_mean_absolute_error: 0.1170\n",
      "Epoch 97/100\n",
      "516/516 [==============================] - 39s 75ms/step - loss: 1.4835 - acc: 0.4612 - mean_absolute_error: 0.0991 - val_loss: 2.9260 - val_acc: 0.3478 - val_mean_absolute_error: 0.1104\n",
      "Epoch 98/100\n",
      "516/516 [==============================] - 38s 74ms/step - loss: 1.4534 - acc: 0.4845 - mean_absolute_error: 0.0952 - val_loss: 2.8337 - val_acc: 0.3261 - val_mean_absolute_error: 0.1155\n",
      "Epoch 99/100\n",
      "516/516 [==============================] - 39s 76ms/step - loss: 1.3772 - acc: 0.5116 - mean_absolute_error: 0.0995 - val_loss: 2.7124 - val_acc: 0.2826 - val_mean_absolute_error: 0.1223\n",
      "Epoch 100/100\n",
      "516/516 [==============================] - 40s 77ms/step - loss: 1.4854 - acc: 0.5000 - mean_absolute_error: 0.1030 - val_loss: 2.7405 - val_acc: 0.2935 - val_mean_absolute_error: 0.1175\n"
     ]
    }
   ],
   "source": [
    "clas = KerasClassifier(build_fn=gpu_mfcc_shallow_net, epochs=epochs, batch_size=batch, validation_split=0.15)\n",
    "history = clas.fit(train_X, train_y)"
   ]
  },
  {
   "cell_type": "code",
   "execution_count": 17,
   "metadata": {
    "scrolled": true
   },
   "outputs": [
    {
     "data": {
      "image/png": "[encoded data removed]",
      "text/plain": [
       "<Figure size 720x360 with 1 Axes>"
      ]
     },
     "metadata": {
      "needs_background": "light"
     },
     "output_type": "display_data"
    }
   ],
   "source": [
    "plt.figure(figsize=(10, 5))\n",
    "# plt.ylim([0,9])\n",
    "plt.plot(history.history['loss'])\n",
    "plt.plot(history.history['val_loss'])\n",
    "plt.show()"
   ]
  },
  {
   "cell_type": "code",
   "execution_count": 18,
   "metadata": {},
   "outputs": [
    {
     "data": {
      "image/png": "[encoded data removed]",
      "text/plain": [
       "<Figure size 720x360 with 1 Axes>"
      ]
     },
     "metadata": {
      "needs_background": "light"
     },
     "output_type": "display_data"
    }
   ],
   "source": [
    "plt.figure(figsize=(10, 5))\n",
    "# plt.ylim([0,9])\n",
    "plt.plot(history.history['acc'])\n",
    "plt.plot(history.history['val_acc'])\n",
    "plt.show()"
   ]
  },
  {
   "cell_type": "code",
   "execution_count": 19,
   "metadata": {
    "scrolled": false
   },
   "outputs": [
    {
     "name": "stdout",
     "output_type": "stream",
     "text": [
      "0.3223684210526316\n",
      "Confusion matrix, without normalization\n",
      "[[0 1 0 2 0 1 1 0 0 0 0 0 0 0 0 0 2 1 0]\n",
      " [0 6 0 1 0 1 0 0 0 0 0 0 0 0 0 0 0 0 0]\n",
      " [0 0 4 0 0 0 0 0 0 0 0 0 2 0 2 0 0 0 0]\n",
      " [1 2 0 2 0 0 1 1 0 0 0 0 0 0 1 0 0 0 0]\n",
      " [0 1 0 0 3 0 0 0 1 1 0 0 0 0 2 0 0 0 0]\n",
      " [0 0 0 0 0 1 1 0 0 0 1 0 0 2 0 0 0 1 2]\n",
      " [0 0 1 1 0 0 3 2 0 0 0 0 0 0 0 0 0 1 0]\n",
      " [0 0 0 0 0 0 2 2 0 0 0 1 1 1 0 1 0 0 0]\n",
      " [0 0 0 0 0 0 0 0 4 1 2 0 0 0 1 0 0 0 0]\n",
      " [0 2 0 0 0 1 0 0 0 3 0 0 0 1 0 0 1 0 0]\n",
      " [0 0 0 0 0 0 0 1 0 0 3 4 0 0 0 0 0 0 0]\n",
      " [0 0 0 0 2 0 0 0 0 0 2 4 0 0 0 0 0 0 0]\n",
      " [0 0 1 0 0 0 2 0 1 0 0 0 2 0 1 0 1 0 0]\n",
      " [0 0 1 0 0 0 0 0 1 0 1 0 0 5 0 0 0 0 0]\n",
      " [0 1 0 0 0 0 0 0 1 0 1 0 0 0 5 0 0 0 0]\n",
      " [0 0 0 0 0 0 2 0 0 1 3 0 1 0 0 0 0 0 1]\n",
      " [0 1 0 0 0 1 0 1 0 0 2 0 0 1 0 0 2 0 0]\n",
      " [1 2 0 1 0 0 1 0 0 0 1 0 0 0 0 0 2 0 0]\n",
      " [0 0 1 0 0 0 0 1 0 0 4 2 0 0 0 0 0 0 0]]\n"
     ]
    },
    {
     "data": {
      "image/png": "[encoded data removed]",
      "text/plain": [
       "<Figure size 720x720 with 2 Axes>"
      ]
     },
     "metadata": {
      "needs_background": "light"
     },
     "output_type": "display_data"
    }
   ],
   "source": [
    "pred = clas.predict(test_X)\n",
    "print(metrics.accuracy_score(test_y, pred))\n",
    "cm = metrics.confusion_matrix(test_y, pred)\n",
    "plt.figure(figsize=(10,10))\n",
    "plot_confusion_matrix(cm, h_classes)\n",
    "plt.show()"
   ]
  },
  {
   "cell_type": "markdown",
   "metadata": {},
   "source": [
    "# All Data"
   ]
  },
  {
   "cell_type": "code",
   "execution_count": null,
   "metadata": {},
   "outputs": [],
   "source": [
    "import seaborn as sns\n",
    "misclassified = {\n",
    "    'Predicted target': [],\n",
    "    'Anim_prob': [],\n",
    "    'Interact_prob': []\n",
    "}\n",
    "\n",
    "correctly_classified = {\n",
    "    'Predicted h_target': [],\n",
    "    'Anim_prob': [],\n",
    "    'Interact_prob': []\n",
    "}\n",
    "\n",
    "for p, prob, Y in zip(pred, pred_prob, y):\n",
    "    Y = int(Y)\n",
    "    p = int(p)\n",
    "    if p!=Y:\n",
    "        misclassified['Predicted h_target'].append(h_classes[p])\n",
    "        misclassified['Anim_prob'].append(prob[0])\n",
    "        misclassified['Interact_prob'].append(prob[1])\n",
    "    else:\n",
    "        correctly_classified['Predicted h_target'].append(h_classes[p])\n",
    "        correctly_classified['Anim_prob'].append(prob[0])\n",
    "        correctly_classified['Interact_prob'].append(prob[1])\n",
    "\n",
    "misclassified = pd.DataFrame.from_dict(misclassified)\n",
    "correctly_classified = pd.DataFrame.from_dict(correctly_classified)"
   ]
  },
  {
   "cell_type": "code",
   "execution_count": null,
   "metadata": {},
   "outputs": [],
   "source": [
    "average_prob = misclassified.groupby('Predicted h_target').mean()\n",
    "average_prob.head()"
   ]
  },
  {
   "cell_type": "code",
   "execution_count": null,
   "metadata": {},
   "outputs": [],
   "source": [
    "average_prob = correctly_classified.groupby('Predicted h_target').mean()\n",
    "average_prob.head()"
   ]
  }
 ],
 "metadata": {
  "kernelspec": {
   "display_name": "Python 3",
   "language": "python",
   "name": "python3"
  },
  "language_info": {
   "codemirror_mode": {
    "name": "ipython",
    "version": 3
   },
   "file_extension": ".py",
   "mimetype": "text/x-python",
   "name": "python",
   "nbconvert_exporter": "python",
   "pygments_lexer": "ipython3",
   "version": "3.5.2"
  }
 },
 "nbformat": 4,
 "nbformat_minor": 2
}
