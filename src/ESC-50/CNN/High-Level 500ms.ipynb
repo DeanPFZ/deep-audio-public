{
 "cells": [
  {
   "cell_type": "code",
   "execution_count": 1,
   "metadata": {},
   "outputs": [
    {
     "name": "stderr",
     "output_type": "stream",
     "text": [
      "Using TensorFlow backend.\n"
     ]
    }
   ],
   "source": [
    "import sys\n",
    "sys.path.insert(0, '../../')\n",
    "\n",
    "import pandas as pd\n",
    "from sklearn import metrics\n",
    "from keras.wrappers.scikit_learn import KerasClassifier\n",
    "from classification_plots import plot_confusion_matrix\n",
    "import matplotlib.pyplot as plt\n",
    "import os"
   ]
  },
  {
   "cell_type": "code",
   "execution_count": 2,
   "metadata": {},
   "outputs": [],
   "source": [
    "# Able to specify which GPU to use\n",
    "os.environ[\"CUDA_VISIBLE_DEVICES\"]=\"0\"\n",
    "\n",
    "orig_SR = 44100\n",
    "orig_blocksize = orig_SR \n",
    "orig_overlap = 0 #int(orig_SR/4)\n",
    "\n",
    "#human perception of audio is predominant in 1-4kHz range\n",
    "SR = 8000\n",
    "blocksize = SR\n",
    "overlap = 0 #int(SR/4)"
   ]
  },
  {
   "cell_type": "code",
   "execution_count": 3,
   "metadata": {},
   "outputs": [],
   "source": [
    "import warnings\n",
    "warnings.filterwarnings('ignore')"
   ]
  },
  {
   "cell_type": "markdown",
   "metadata": {},
   "source": [
    "# Setup"
   ]
  },
  {
   "cell_type": "code",
   "execution_count": 4,
   "metadata": {},
   "outputs": [],
   "source": [
    "audio_dir = '../../../ESC-50/audio/'"
   ]
  },
  {
   "cell_type": "code",
   "execution_count": 5,
   "metadata": {},
   "outputs": [],
   "source": [
    "path_to_db='../../../ESC-50/'"
   ]
  },
  {
   "cell_type": "markdown",
   "metadata": {},
   "source": [
    "# Load Dataset\n",
    "Here we load the csv that describes each file in the dataset. We add a high level category that is defined in the ESC-50 documentation. This we realize is anthetical to true training, it is a stopgap for when we use NLP to classify tags into these categories."
   ]
  },
  {
   "cell_type": "code",
   "execution_count": 6,
   "metadata": {},
   "outputs": [],
   "source": [
    "dataset = pd.read_csv(path_to_db + 'meta/esc50.csv')\n",
    "classes = [None] * 50\n",
    "h_classes = ['Human & Animal', 'Interacting Materials']"
   ]
  },
  {
   "cell_type": "code",
   "execution_count": 7,
   "metadata": {},
   "outputs": [],
   "source": [
    "mapping = {\n",
    "    'dog': 0,\n",
    "    'rooster': 0,\n",
    "    'pig': 0,\n",
    "    'cow': 0,\n",
    "    'frog': 0,\n",
    "    'cat': 0,\n",
    "    'hen': 0,\n",
    "    'insects': 0,\n",
    "    'sheep': 0,\n",
    "    'crow': 0,\n",
    "    'rain': 1,\n",
    "    'sea_waves': 1,\n",
    "    'crackling_fire': 1,\n",
    "    'crickets': 0,\n",
    "    'chirping_birds': 0,\n",
    "    'water_drops': 1,\n",
    "    'wind': 1,\n",
    "    'pouring_water': 1,\n",
    "    'toilet_flush': 1,\n",
    "    'thunderstorm': 1,\n",
    "    'crying_baby': 0,\n",
    "    'sneezing': 0,\n",
    "    'clapping': 0,\n",
    "    'breathing': 0,\n",
    "    'coughing': 0,\n",
    "    'footsteps': 1,\n",
    "    'laughing': 0,\n",
    "    'brushing_teeth': 1,\n",
    "    'snoring': 0,\n",
    "    'drinking_sipping': 1,\n",
    "    'door_wood_knock': 1,\n",
    "    'mouse_click': 1,\n",
    "    'keyboard_typing': 1,\n",
    "    'door_wood_creaks': 1,\n",
    "    'can_opening': 1,\n",
    "    'washing_machine': 1,\n",
    "    'vacuum_cleaner': 1,\n",
    "    'clock_alarm': 1,\n",
    "    'clock_tick': 1,\n",
    "    'glass_breaking':1 ,\n",
    "    'helicopter': 1,\n",
    "    'chainsaw': 1,\n",
    "    'siren': 1,\n",
    "    'car_horn': 1,\n",
    "    'engine': 1,\n",
    "    'train': 1,\n",
    "    'church_bells': 1,\n",
    "    'airplane': 1,\n",
    "    'fireworks': 1,\n",
    "    'hand_saw': 1,\n",
    "}"
   ]
  },
  {
   "cell_type": "code",
   "execution_count": 10,
   "metadata": {},
   "outputs": [],
   "source": [
    "dataset['h_category'] = None\n",
    "for index, row in dataset.iterrows():\n",
    "    target = row['target']\n",
    "    classes[target] = row['category']\n",
    "    dataset.loc[index, 'h_category'] = mapping[row['category']]"
   ]
  },
  {
   "cell_type": "code",
   "execution_count": 11,
   "metadata": {},
   "outputs": [
    {
     "data": {
      "text/html": [
       "<div>\n",
       "<style scoped>\n",
       "    .dataframe tbody tr th:only-of-type {\n",
       "        vertical-align: middle;\n",
       "    }\n",
       "\n",
       "    .dataframe tbody tr th {\n",
       "        vertical-align: top;\n",
       "    }\n",
       "\n",
       "    .dataframe thead th {\n",
       "        text-align: right;\n",
       "    }\n",
       "</style>\n",
       "<table border=\"1\" class=\"dataframe\">\n",
       "  <thead>\n",
       "    <tr style=\"text-align: right;\">\n",
       "      <th></th>\n",
       "      <th>filename</th>\n",
       "      <th>fold</th>\n",
       "      <th>target</th>\n",
       "      <th>category</th>\n",
       "      <th>esc10</th>\n",
       "      <th>src_file</th>\n",
       "      <th>take</th>\n",
       "      <th>h_category</th>\n",
       "    </tr>\n",
       "  </thead>\n",
       "  <tbody>\n",
       "    <tr>\n",
       "      <th>0</th>\n",
       "      <td>1-100032-A-0.wav</td>\n",
       "      <td>1</td>\n",
       "      <td>0</td>\n",
       "      <td>dog</td>\n",
       "      <td>True</td>\n",
       "      <td>100032</td>\n",
       "      <td>A</td>\n",
       "      <td>0</td>\n",
       "    </tr>\n",
       "    <tr>\n",
       "      <th>1</th>\n",
       "      <td>1-100038-A-14.wav</td>\n",
       "      <td>1</td>\n",
       "      <td>14</td>\n",
       "      <td>chirping_birds</td>\n",
       "      <td>False</td>\n",
       "      <td>100038</td>\n",
       "      <td>A</td>\n",
       "      <td>0</td>\n",
       "    </tr>\n",
       "    <tr>\n",
       "      <th>2</th>\n",
       "      <td>1-100210-A-36.wav</td>\n",
       "      <td>1</td>\n",
       "      <td>36</td>\n",
       "      <td>vacuum_cleaner</td>\n",
       "      <td>False</td>\n",
       "      <td>100210</td>\n",
       "      <td>A</td>\n",
       "      <td>1</td>\n",
       "    </tr>\n",
       "    <tr>\n",
       "      <th>3</th>\n",
       "      <td>1-100210-B-36.wav</td>\n",
       "      <td>1</td>\n",
       "      <td>36</td>\n",
       "      <td>vacuum_cleaner</td>\n",
       "      <td>False</td>\n",
       "      <td>100210</td>\n",
       "      <td>B</td>\n",
       "      <td>1</td>\n",
       "    </tr>\n",
       "    <tr>\n",
       "      <th>4</th>\n",
       "      <td>1-101296-A-19.wav</td>\n",
       "      <td>1</td>\n",
       "      <td>19</td>\n",
       "      <td>thunderstorm</td>\n",
       "      <td>False</td>\n",
       "      <td>101296</td>\n",
       "      <td>A</td>\n",
       "      <td>1</td>\n",
       "    </tr>\n",
       "  </tbody>\n",
       "</table>\n",
       "</div>"
      ],
      "text/plain": [
       "            filename  fold  target        category  esc10  src_file take  \\\n",
       "0   1-100032-A-0.wav     1       0             dog   True    100032    A   \n",
       "1  1-100038-A-14.wav     1      14  chirping_birds  False    100038    A   \n",
       "2  1-100210-A-36.wav     1      36  vacuum_cleaner  False    100210    A   \n",
       "3  1-100210-B-36.wav     1      36  vacuum_cleaner  False    100210    B   \n",
       "4  1-101296-A-19.wav     1      19    thunderstorm  False    101296    A   \n",
       "\n",
       "   h_category  \n",
       "0           0  \n",
       "1           0  \n",
       "2           1  \n",
       "3           1  \n",
       "4           1  "
      ]
     },
     "execution_count": 11,
     "metadata": {},
     "output_type": "execute_result"
    }
   ],
   "source": [
    "dataset.head()"
   ]
  },
  {
   "cell_type": "markdown",
   "metadata": {},
   "source": [
    "## Getting Preprocessed Data\n",
    "We allow for previously preprocessed data to be retrieved for faster training turnaround. If the fold has been preprocessed, it is loaded but if not it is processed and saved."
   ]
  },
  {
   "cell_type": "code",
   "execution_count": 12,
   "metadata": {},
   "outputs": [],
   "source": [
    "import time\n",
    "import librosa\n",
    "import numpy as np\n",
    "import soundfile as sf\n",
    "\n",
    "def load_audio_blockwise(data, blocksize, overlap, debug=False):\n",
    "    start_time = time.time()\n",
    "    items = []\n",
    "    target = []\n",
    "    for i, sample in data.iterrows():\n",
    "        if debug:\n",
    "            print(\"File Processing\", end=\"\", flush=True)\n",
    "        blockgen = sf.blocks(audio_dir + sample['filename'], \n",
    "                             blocksize=blocksize, \n",
    "                             overlap=overlap, \n",
    "                             always_2d=True,\n",
    "                             fill_value=0.0)\n",
    "        sr = sf.info(audio_dir + sample['filename']).samplerate\n",
    "        for bl in blockgen:\n",
    "            if not np.any(bl):\n",
    "                continue\n",
    "            if debug:\n",
    "                print(\".\", end=\"\", flush=True)\n",
    "            y = bl.transpose()\n",
    "            y = librosa.resample(y, sr, SR)\n",
    "            y = y[:int(blocksize)]\n",
    "            y = y[np.newaxis, :]\n",
    "            items.append(y)\n",
    "            target.append(sample.h_category)\n",
    "        if debug:\n",
    "            print(\"Done\")\n",
    "    print(\"\\tProcessing Time: \" + str(time.time() - start_time))\n",
    "    return np.vstack(items), np.array(target)"
   ]
  },
  {
   "cell_type": "code",
   "execution_count": 13,
   "metadata": {},
   "outputs": [
    {
     "name": "stdout",
     "output_type": "stream",
     "text": [
      "\tProcessing Time: 225.1174201965332\n",
      "(7400, 1, 8000)\n"
     ]
    }
   ],
   "source": [
    "train_X, train_y = load_audio_blockwise(dataset[dataset.fold != 1], orig_blocksize, orig_overlap)\n",
    "print(train_X.shape)"
   ]
  },
  {
   "cell_type": "code",
   "execution_count": 12,
   "metadata": {},
   "outputs": [
    {
     "name": "stdout",
     "output_type": "stream",
     "text": [
      "\tProcessing Time: 66.81805610656738\n",
      "(400, 1, 80000)\n"
     ]
    }
   ],
   "source": [
    "test_X, test_y = load_audio_blockwise(dataset[dataset.fold == 1], orig_blocksize, orig_overlap)\n",
    "print(test_X.shape)"
   ]
  },
  {
   "cell_type": "markdown",
   "metadata": {},
   "source": [
    "## High-Level Shallow Nets\n",
    "Train binary shallow nets for high level categories(animals, natural, human, domestic, urban)"
   ]
  },
  {
   "cell_type": "code",
   "execution_count": 13,
   "metadata": {},
   "outputs": [],
   "source": [
    "from keras.models import Sequential\n",
    "from keras.layers import Dense, Dropout, Convolution2D, MaxPooling2D, Flatten, InputLayer\n",
    "import keras.metrics as kmet\n",
    "from kapre.time_frequency import Melspectrogram, Spectrogram\n",
    "from kapre.utils import Normalization2D\n",
    "from kapre.augmentation import AdditiveNoise\n",
    "\n",
    "ensemble_num = 10\n",
    "num_hidden_neurons = 10\n",
    "dropout = 0.25\n",
    "\n",
    "epochs = 100\n",
    "batch = 128\n",
    "\n",
    "def gpu_mfcc_shallow_net():\n",
    "    # Create Model\n",
    "    # Create Model\n",
    "    model = Sequential()\n",
    "    model.add(Melspectrogram(\n",
    "        sr=SR,\n",
    "        n_mels=128,\n",
    "        power_melgram=1.0,\n",
    "        input_shape=(1, blocksize),\n",
    "        trainable_fb=False,\n",
    "        fmin = 800,\n",
    "        fmax = 8000\n",
    "    ))\n",
    "    model.add(Convolution2D(32, 9, 9, name='conv1', activation='relu'))\n",
    "    model.add(MaxPooling2D((25, 17)))\n",
    "    model.add(Flatten())\n",
    "    model.add(Dense(32, activation='relu'))\n",
    "    model.add(Dense(32, activation='relu'))\n",
    "    model.add(Dropout(0.2))\n",
    "    model.add(Dense(32, activation='relu'))\n",
    "    model.add(Dense(32, activation='relu'))\n",
    "    model.add(Dropout(0.2))\n",
    "    model.add(Dense(1, kernel_initializer='normal', activation='sigmoid'))\n",
    "    \n",
    "    # Compile model\n",
    "    model.compile(loss='binary_crossentropy',\n",
    "                  optimizer='adam',\n",
    "                  metrics=['accuracy', kmet.mae])\n",
    "    \n",
    "    model.summary()\n",
    "\n",
    "    \n",
    "    return model"
   ]
  },
  {
   "cell_type": "code",
   "execution_count": 14,
   "metadata": {
    "scrolled": true
   },
   "outputs": [
    {
     "name": "stdout",
     "output_type": "stream",
     "text": [
      "_________________________________________________________________\n",
      "Layer (type)                 Output Shape              Param #   \n",
      "=================================================================\n",
      "melspectrogram_1 (Melspectro (None, 128, 313, 1)       296064    \n",
      "_________________________________________________________________\n",
      "conv1 (Conv2D)               (None, 120, 305, 32)      2624      \n",
      "_________________________________________________________________\n",
      "max_pooling2d_1 (MaxPooling2 (None, 4, 17, 32)         0         \n",
      "_________________________________________________________________\n",
      "flatten_1 (Flatten)          (None, 2176)              0         \n",
      "_________________________________________________________________\n",
      "dense_1 (Dense)              (None, 32)                69664     \n",
      "_________________________________________________________________\n",
      "dense_2 (Dense)              (None, 32)                1056      \n",
      "_________________________________________________________________\n",
      "dropout_1 (Dropout)          (None, 32)                0         \n",
      "_________________________________________________________________\n",
      "dense_3 (Dense)              (None, 32)                1056      \n",
      "_________________________________________________________________\n",
      "dense_4 (Dense)              (None, 32)                1056      \n",
      "_________________________________________________________________\n",
      "dropout_2 (Dropout)          (None, 32)                0         \n",
      "_________________________________________________________________\n",
      "dense_5 (Dense)              (None, 1)                 33        \n",
      "=================================================================\n",
      "Total params: 371,553\n",
      "Trainable params: 75,489\n",
      "Non-trainable params: 296,064\n",
      "_________________________________________________________________\n",
      "Train on 1360 samples, validate on 240 samples\n",
      "Epoch 1/100\n",
      "1360/1360 [==============================] - 41s 30ms/step - loss: 0.6873 - acc: 0.6412 - mean_absolute_error: 0.4967 - val_loss: 0.6808 - val_acc: 0.6458 - val_mean_absolute_error: 0.4925\n",
      "Epoch 2/100\n",
      "1360/1360 [==============================] - 39s 29ms/step - loss: 0.6661 - acc: 0.6934 - mean_absolute_error: 0.4801 - val_loss: 0.6607 - val_acc: 0.6625 - val_mean_absolute_error: 0.4729\n",
      "Epoch 3/100\n",
      "1360/1360 [==============================] - 40s 29ms/step - loss: 0.6372 - acc: 0.6971 - mean_absolute_error: 0.4533 - val_loss: 0.6260 - val_acc: 0.6958 - val_mean_absolute_error: 0.4477\n",
      "Epoch 4/100\n",
      "1360/1360 [==============================] - 40s 29ms/step - loss: 0.5918 - acc: 0.7404 - mean_absolute_error: 0.4187 - val_loss: 0.6115 - val_acc: 0.6958 - val_mean_absolute_error: 0.4180\n",
      "Epoch 5/100\n",
      "1360/1360 [==============================] - 38s 28ms/step - loss: 0.5763 - acc: 0.7419 - mean_absolute_error: 0.4009 - val_loss: 0.6104 - val_acc: 0.7000 - val_mean_absolute_error: 0.4115\n",
      "Epoch 6/100\n",
      "1360/1360 [==============================] - 38s 28ms/step - loss: 0.5598 - acc: 0.7493 - mean_absolute_error: 0.3858 - val_loss: 0.5677 - val_acc: 0.7375 - val_mean_absolute_error: 0.3922\n",
      "Epoch 7/100\n",
      "1360/1360 [==============================] - 38s 28ms/step - loss: 0.5359 - acc: 0.7581 - mean_absolute_error: 0.3668 - val_loss: 0.5861 - val_acc: 0.7250 - val_mean_absolute_error: 0.3868\n",
      "Epoch 8/100\n",
      "1360/1360 [==============================] - 39s 29ms/step - loss: 0.5259 - acc: 0.7640 - mean_absolute_error: 0.3604 - val_loss: 0.5995 - val_acc: 0.7208 - val_mean_absolute_error: 0.3764\n",
      "Epoch 9/100\n",
      "1360/1360 [==============================] - 38s 28ms/step - loss: 0.5043 - acc: 0.7713 - mean_absolute_error: 0.3378 - val_loss: 0.5691 - val_acc: 0.7333 - val_mean_absolute_error: 0.3585\n",
      "Epoch 10/100\n",
      "1360/1360 [==============================] - 39s 29ms/step - loss: 0.4665 - acc: 0.7897 - mean_absolute_error: 0.3151 - val_loss: 0.5545 - val_acc: 0.7458 - val_mean_absolute_error: 0.3480\n",
      "Epoch 11/100\n",
      "1360/1360 [==============================] - 38s 28ms/step - loss: 0.4641 - acc: 0.7934 - mean_absolute_error: 0.3101 - val_loss: 0.5447 - val_acc: 0.7375 - val_mean_absolute_error: 0.3551\n",
      "Epoch 12/100\n",
      "1360/1360 [==============================] - 41s 30ms/step - loss: 0.4642 - acc: 0.7868 - mean_absolute_error: 0.3047 - val_loss: 0.5462 - val_acc: 0.7458 - val_mean_absolute_error: 0.3428\n",
      "Epoch 13/100\n",
      "1360/1360 [==============================] - 39s 29ms/step - loss: 0.4498 - acc: 0.8037 - mean_absolute_error: 0.2962 - val_loss: 0.5263 - val_acc: 0.7500 - val_mean_absolute_error: 0.3408\n",
      "Epoch 14/100\n",
      "1360/1360 [==============================] - 40s 30ms/step - loss: 0.4362 - acc: 0.8162 - mean_absolute_error: 0.2932 - val_loss: 0.5359 - val_acc: 0.7542 - val_mean_absolute_error: 0.3330\n",
      "Epoch 15/100\n",
      "1360/1360 [==============================] - 38s 28ms/step - loss: 0.4139 - acc: 0.8191 - mean_absolute_error: 0.2787 - val_loss: 0.5357 - val_acc: 0.7417 - val_mean_absolute_error: 0.3208\n",
      "Epoch 16/100\n",
      "1360/1360 [==============================] - 39s 29ms/step - loss: 0.4037 - acc: 0.8184 - mean_absolute_error: 0.2691 - val_loss: 0.5454 - val_acc: 0.7500 - val_mean_absolute_error: 0.3233\n",
      "Epoch 17/100\n",
      "1360/1360 [==============================] - 39s 29ms/step - loss: 0.4079 - acc: 0.8243 - mean_absolute_error: 0.2694 - val_loss: 0.5451 - val_acc: 0.7417 - val_mean_absolute_error: 0.3220\n",
      "Epoch 18/100\n",
      "1360/1360 [==============================] - 39s 29ms/step - loss: 0.3848 - acc: 0.8426 - mean_absolute_error: 0.2527 - val_loss: 0.5455 - val_acc: 0.7542 - val_mean_absolute_error: 0.3113\n",
      "Epoch 19/100\n",
      "1360/1360 [==============================] - 39s 29ms/step - loss: 0.3694 - acc: 0.8419 - mean_absolute_error: 0.2422 - val_loss: 0.5523 - val_acc: 0.7458 - val_mean_absolute_error: 0.3073\n",
      "Epoch 20/100\n",
      "1360/1360 [==============================] - 38s 28ms/step - loss: 0.3598 - acc: 0.8507 - mean_absolute_error: 0.2316 - val_loss: 0.5627 - val_acc: 0.7500 - val_mean_absolute_error: 0.3020\n",
      "Epoch 21/100\n",
      "1360/1360 [==============================] - 38s 28ms/step - loss: 0.3580 - acc: 0.8522 - mean_absolute_error: 0.2323 - val_loss: 0.6813 - val_acc: 0.7292 - val_mean_absolute_error: 0.3196\n",
      "Epoch 22/100\n",
      "1360/1360 [==============================] - 39s 29ms/step - loss: 0.3666 - acc: 0.8426 - mean_absolute_error: 0.2422 - val_loss: 0.5121 - val_acc: 0.7708 - val_mean_absolute_error: 0.3060\n",
      "Epoch 23/100\n",
      "1360/1360 [==============================] - 39s 28ms/step - loss: 0.3277 - acc: 0.8625 - mean_absolute_error: 0.2205 - val_loss: 0.5835 - val_acc: 0.7375 - val_mean_absolute_error: 0.3009\n",
      "Epoch 24/100\n",
      "1360/1360 [==============================] - 38s 28ms/step - loss: 0.3236 - acc: 0.8662 - mean_absolute_error: 0.2088 - val_loss: 0.6357 - val_acc: 0.7417 - val_mean_absolute_error: 0.2926\n",
      "Epoch 25/100\n",
      "1360/1360 [==============================] - 40s 29ms/step - loss: 0.3086 - acc: 0.8618 - mean_absolute_error: 0.2051 - val_loss: 0.5445 - val_acc: 0.7542 - val_mean_absolute_error: 0.2870\n",
      "Epoch 26/100\n",
      "1360/1360 [==============================] - 38s 28ms/step - loss: 0.3066 - acc: 0.8676 - mean_absolute_error: 0.1982 - val_loss: 0.5571 - val_acc: 0.7708 - val_mean_absolute_error: 0.2934\n",
      "Epoch 27/100\n",
      "1360/1360 [==============================] - 38s 28ms/step - loss: 0.3259 - acc: 0.8647 - mean_absolute_error: 0.2131 - val_loss: 0.5851 - val_acc: 0.7333 - val_mean_absolute_error: 0.3110\n",
      "Epoch 28/100\n",
      "1360/1360 [==============================] - 40s 29ms/step - loss: 0.2952 - acc: 0.8779 - mean_absolute_error: 0.1983 - val_loss: 0.8370 - val_acc: 0.7417 - val_mean_absolute_error: 0.2852\n",
      "Epoch 29/100\n",
      "1360/1360 [==============================] - 39s 29ms/step - loss: 0.2732 - acc: 0.8846 - mean_absolute_error: 0.1744 - val_loss: 0.6078 - val_acc: 0.7708 - val_mean_absolute_error: 0.2848\n",
      "Epoch 30/100\n",
      "1360/1360 [==============================] - 39s 29ms/step - loss: 0.2540 - acc: 0.8963 - mean_absolute_error: 0.1730 - val_loss: 0.6089 - val_acc: 0.7625 - val_mean_absolute_error: 0.2689\n",
      "Epoch 31/100\n",
      "1360/1360 [==============================] - 39s 29ms/step - loss: 0.2547 - acc: 0.8912 - mean_absolute_error: 0.1675 - val_loss: 0.6210 - val_acc: 0.7917 - val_mean_absolute_error: 0.2598\n",
      "Epoch 32/100\n",
      "1360/1360 [==============================] - 39s 29ms/step - loss: 0.2395 - acc: 0.9059 - mean_absolute_error: 0.1583 - val_loss: 0.7595 - val_acc: 0.7542 - val_mean_absolute_error: 0.2659\n",
      "Epoch 33/100\n",
      "1360/1360 [==============================] - 38s 28ms/step - loss: 0.2122 - acc: 0.9206 - mean_absolute_error: 0.1446 - val_loss: 1.0172 - val_acc: 0.7500 - val_mean_absolute_error: 0.2637\n",
      "Epoch 34/100\n",
      "1360/1360 [==============================] - 38s 28ms/step - loss: 0.2140 - acc: 0.9191 - mean_absolute_error: 0.1357 - val_loss: 0.9421 - val_acc: 0.7583 - val_mean_absolute_error: 0.2579\n",
      "Epoch 35/100\n",
      "1360/1360 [==============================] - 38s 28ms/step - loss: 0.1883 - acc: 0.9272 - mean_absolute_error: 0.1242 - val_loss: 0.9257 - val_acc: 0.7375 - val_mean_absolute_error: 0.2653\n",
      "Epoch 36/100\n",
      "1360/1360 [==============================] - 39s 29ms/step - loss: 0.1923 - acc: 0.9213 - mean_absolute_error: 0.1255 - val_loss: 0.7055 - val_acc: 0.8000 - val_mean_absolute_error: 0.2469\n",
      "Epoch 37/100\n",
      "1360/1360 [==============================] - 40s 30ms/step - loss: 0.2272 - acc: 0.9110 - mean_absolute_error: 0.1355 - val_loss: 0.6777 - val_acc: 0.8042 - val_mean_absolute_error: 0.2339\n",
      "Epoch 38/100\n",
      "1360/1360 [==============================] - 39s 28ms/step - loss: 0.1849 - acc: 0.9309 - mean_absolute_error: 0.1238 - val_loss: 1.0005 - val_acc: 0.7625 - val_mean_absolute_error: 0.2483\n",
      "Epoch 39/100\n",
      "1360/1360 [==============================] - 38s 28ms/step - loss: 0.1960 - acc: 0.9147 - mean_absolute_error: 0.1190 - val_loss: 0.9392 - val_acc: 0.7833 - val_mean_absolute_error: 0.2498\n",
      "Epoch 40/100\n",
      "1360/1360 [==============================] - 40s 30ms/step - loss: 0.1738 - acc: 0.9375 - mean_absolute_error: 0.1136 - val_loss: 0.6898 - val_acc: 0.8125 - val_mean_absolute_error: 0.2498\n",
      "Epoch 41/100\n",
      "1360/1360 [==============================] - 40s 29ms/step - loss: 0.1849 - acc: 0.9412 - mean_absolute_error: 0.1126 - val_loss: 0.6765 - val_acc: 0.8000 - val_mean_absolute_error: 0.2259\n",
      "Epoch 42/100\n",
      "1360/1360 [==============================] - 39s 29ms/step - loss: 0.1972 - acc: 0.9206 - mean_absolute_error: 0.1191 - val_loss: 0.9134 - val_acc: 0.7833 - val_mean_absolute_error: 0.2360\n",
      "Epoch 43/100\n",
      "1360/1360 [==============================] - 39s 29ms/step - loss: 0.1806 - acc: 0.9272 - mean_absolute_error: 0.1142 - val_loss: 0.9752 - val_acc: 0.7750 - val_mean_absolute_error: 0.2527\n",
      "Epoch 44/100\n",
      "1360/1360 [==============================] - 40s 29ms/step - loss: 0.1837 - acc: 0.9257 - mean_absolute_error: 0.1134 - val_loss: 0.9272 - val_acc: 0.7667 - val_mean_absolute_error: 0.2376\n",
      "Epoch 45/100\n",
      "1360/1360 [==============================] - 40s 30ms/step - loss: 0.1372 - acc: 0.9493 - mean_absolute_error: 0.0937 - val_loss: 0.9394 - val_acc: 0.7958 - val_mean_absolute_error: 0.2359\n",
      "Epoch 46/100\n",
      "1360/1360 [==============================] - 40s 29ms/step - loss: 0.1152 - acc: 0.9625 - mean_absolute_error: 0.0803 - val_loss: 0.9904 - val_acc: 0.7833 - val_mean_absolute_error: 0.2252\n",
      "Epoch 47/100\n",
      "1360/1360 [==============================] - 39s 29ms/step - loss: 0.1093 - acc: 0.9603 - mean_absolute_error: 0.0741 - val_loss: 0.8786 - val_acc: 0.8208 - val_mean_absolute_error: 0.2037\n",
      "Epoch 48/100\n",
      "1360/1360 [==============================] - 39s 29ms/step - loss: 0.1128 - acc: 0.9618 - mean_absolute_error: 0.0757 - val_loss: 1.0364 - val_acc: 0.7708 - val_mean_absolute_error: 0.2361\n",
      "Epoch 49/100\n",
      "1360/1360 [==============================] - 39s 29ms/step - loss: 0.1104 - acc: 0.9537 - mean_absolute_error: 0.0714 - val_loss: 1.0489 - val_acc: 0.7750 - val_mean_absolute_error: 0.2362\n",
      "Epoch 50/100\n",
      "1360/1360 [==============================] - 39s 29ms/step - loss: 0.0979 - acc: 0.9603 - mean_absolute_error: 0.0651 - val_loss: 1.0337 - val_acc: 0.7792 - val_mean_absolute_error: 0.2236\n",
      "Epoch 51/100\n",
      "1360/1360 [==============================] - 40s 29ms/step - loss: 0.0848 - acc: 0.9691 - mean_absolute_error: 0.0575 - val_loss: 0.9774 - val_acc: 0.7917 - val_mean_absolute_error: 0.2168\n",
      "Epoch 52/100\n",
      "1360/1360 [==============================] - 39s 29ms/step - loss: 0.0801 - acc: 0.9706 - mean_absolute_error: 0.0551 - val_loss: 1.0026 - val_acc: 0.8000 - val_mean_absolute_error: 0.2054\n",
      "Epoch 53/100\n",
      "1360/1360 [==============================] - 39s 28ms/step - loss: 0.1037 - acc: 0.9647 - mean_absolute_error: 0.0598 - val_loss: 1.5059 - val_acc: 0.7750 - val_mean_absolute_error: 0.2272\n",
      "Epoch 54/100\n",
      "1360/1360 [==============================] - 39s 29ms/step - loss: 0.1976 - acc: 0.9147 - mean_absolute_error: 0.1031 - val_loss: 1.1978 - val_acc: 0.7542 - val_mean_absolute_error: 0.2428\n",
      "Epoch 55/100\n",
      "1360/1360 [==============================] - 39s 29ms/step - loss: 0.1669 - acc: 0.9404 - mean_absolute_error: 0.0929 - val_loss: 1.0391 - val_acc: 0.7958 - val_mean_absolute_error: 0.2153\n",
      "Epoch 56/100\n",
      "1360/1360 [==============================] - 39s 29ms/step - loss: 0.1382 - acc: 0.9426 - mean_absolute_error: 0.0856 - val_loss: 0.7824 - val_acc: 0.8125 - val_mean_absolute_error: 0.2080\n",
      "Epoch 57/100\n",
      "1360/1360 [==============================] - 39s 29ms/step - loss: 0.1117 - acc: 0.9588 - mean_absolute_error: 0.0771 - val_loss: 0.8910 - val_acc: 0.8083 - val_mean_absolute_error: 0.2063\n",
      "Epoch 58/100\n",
      "1360/1360 [==============================] - 38s 28ms/step - loss: 0.0927 - acc: 0.9662 - mean_absolute_error: 0.0634 - val_loss: 1.1366 - val_acc: 0.7958 - val_mean_absolute_error: 0.2180\n",
      "Epoch 59/100\n",
      "1360/1360 [==============================] - 36s 27ms/step - loss: 0.0781 - acc: 0.9684 - mean_absolute_error: 0.0547 - val_loss: 1.0688 - val_acc: 0.7917 - val_mean_absolute_error: 0.2160\n",
      "Epoch 60/100\n",
      "1360/1360 [==============================] - 36s 27ms/step - loss: 0.0916 - acc: 0.9676 - mean_absolute_error: 0.0561 - val_loss: 0.9978 - val_acc: 0.8167 - val_mean_absolute_error: 0.2069\n",
      "Epoch 61/100\n",
      "1360/1360 [==============================] - 35s 26ms/step - loss: 0.0862 - acc: 0.9640 - mean_absolute_error: 0.0586 - val_loss: 1.0177 - val_acc: 0.8000 - val_mean_absolute_error: 0.2063\n",
      "Epoch 62/100\n",
      "1360/1360 [==============================] - 35s 26ms/step - loss: 0.0826 - acc: 0.9743 - mean_absolute_error: 0.0506 - val_loss: 0.9916 - val_acc: 0.8167 - val_mean_absolute_error: 0.1952\n",
      "Epoch 63/100\n",
      "1360/1360 [==============================] - 36s 26ms/step - loss: 0.0654 - acc: 0.9765 - mean_absolute_error: 0.0456 - val_loss: 1.0593 - val_acc: 0.7958 - val_mean_absolute_error: 0.2085\n",
      "Epoch 64/100\n",
      "1360/1360 [==============================] - 35s 26ms/step - loss: 0.0537 - acc: 0.9794 - mean_absolute_error: 0.0390 - val_loss: 1.1717 - val_acc: 0.7917 - val_mean_absolute_error: 0.2202\n",
      "Epoch 65/100\n",
      "1360/1360 [==============================] - 35s 26ms/step - loss: 0.0548 - acc: 0.9772 - mean_absolute_error: 0.0388 - val_loss: 1.2520 - val_acc: 0.7958 - val_mean_absolute_error: 0.2141\n",
      "Epoch 66/100\n",
      "1360/1360 [==============================] - 36s 26ms/step - loss: 0.0523 - acc: 0.9801 - mean_absolute_error: 0.0356 - val_loss: 1.1137 - val_acc: 0.8167 - val_mean_absolute_error: 0.2000\n",
      "Epoch 67/100\n",
      "1360/1360 [==============================] - 37s 27ms/step - loss: 0.0445 - acc: 0.9846 - mean_absolute_error: 0.0314 - val_loss: 1.1141 - val_acc: 0.8208 - val_mean_absolute_error: 0.1970\n",
      "Epoch 68/100\n",
      "1360/1360 [==============================] - 38s 28ms/step - loss: 0.0405 - acc: 0.9860 - mean_absolute_error: 0.0295 - val_loss: 1.1426 - val_acc: 0.8042 - val_mean_absolute_error: 0.2005\n",
      "Epoch 69/100\n",
      "1360/1360 [==============================] - 38s 28ms/step - loss: 0.0356 - acc: 0.9875 - mean_absolute_error: 0.0265 - val_loss: 1.2011 - val_acc: 0.8042 - val_mean_absolute_error: 0.2012\n",
      "Epoch 70/100\n",
      "1360/1360 [==============================] - 38s 28ms/step - loss: 0.0383 - acc: 0.9882 - mean_absolute_error: 0.0280 - val_loss: 1.2889 - val_acc: 0.8042 - val_mean_absolute_error: 0.2014\n",
      "Epoch 71/100\n",
      "1360/1360 [==============================] - 37s 27ms/step - loss: 0.0509 - acc: 0.9750 - mean_absolute_error: 0.0324 - val_loss: 1.2529 - val_acc: 0.8042 - val_mean_absolute_error: 0.2035\n",
      "Epoch 72/100\n",
      "1360/1360 [==============================] - 39s 28ms/step - loss: 0.0547 - acc: 0.9772 - mean_absolute_error: 0.0350 - val_loss: 1.2073 - val_acc: 0.8375 - val_mean_absolute_error: 0.1786\n"
     ]
    },
    {
     "name": "stdout",
     "output_type": "stream",
     "text": [
      "Epoch 73/100\n",
      "1360/1360 [==============================] - 39s 29ms/step - loss: 0.0769 - acc: 0.9794 - mean_absolute_error: 0.0352 - val_loss: 1.8312 - val_acc: 0.7542 - val_mean_absolute_error: 0.2418\n",
      "Epoch 74/100\n",
      "1360/1360 [==============================] - 38s 28ms/step - loss: 0.1075 - acc: 0.9691 - mean_absolute_error: 0.0450 - val_loss: 1.3780 - val_acc: 0.7958 - val_mean_absolute_error: 0.2135\n",
      "Epoch 75/100\n",
      "1360/1360 [==============================] - 39s 28ms/step - loss: 0.0574 - acc: 0.9838 - mean_absolute_error: 0.0371 - val_loss: 1.1983 - val_acc: 0.8083 - val_mean_absolute_error: 0.1971\n",
      "Epoch 76/100\n",
      "1360/1360 [==============================] - 38s 28ms/step - loss: 0.0546 - acc: 0.9824 - mean_absolute_error: 0.0339 - val_loss: 1.0857 - val_acc: 0.8292 - val_mean_absolute_error: 0.1835\n",
      "Epoch 77/100\n",
      "1360/1360 [==============================] - 39s 28ms/step - loss: 0.0501 - acc: 0.9801 - mean_absolute_error: 0.0332 - val_loss: 1.5504 - val_acc: 0.8000 - val_mean_absolute_error: 0.2105\n",
      "Epoch 78/100\n",
      "1360/1360 [==============================] - 38s 28ms/step - loss: 0.0724 - acc: 0.9713 - mean_absolute_error: 0.0430 - val_loss: 1.5148 - val_acc: 0.7875 - val_mean_absolute_error: 0.2194\n",
      "Epoch 79/100\n",
      "1360/1360 [==============================] - 39s 28ms/step - loss: 0.0401 - acc: 0.9868 - mean_absolute_error: 0.0285 - val_loss: 1.7248 - val_acc: 0.7917 - val_mean_absolute_error: 0.2190\n",
      "Epoch 80/100\n",
      "1360/1360 [==============================] - 38s 28ms/step - loss: 0.0465 - acc: 0.9838 - mean_absolute_error: 0.0309 - val_loss: 1.3585 - val_acc: 0.7958 - val_mean_absolute_error: 0.2173\n",
      "Epoch 81/100\n",
      "1360/1360 [==============================] - 38s 28ms/step - loss: 0.0395 - acc: 0.9853 - mean_absolute_error: 0.0269 - val_loss: 1.5749 - val_acc: 0.8000 - val_mean_absolute_error: 0.2158\n",
      "Epoch 82/100\n",
      "1360/1360 [==============================] - 38s 28ms/step - loss: 0.0247 - acc: 0.9934 - mean_absolute_error: 0.0198 - val_loss: 1.7114 - val_acc: 0.7708 - val_mean_absolute_error: 0.2267\n",
      "Epoch 83/100\n",
      "1360/1360 [==============================] - 39s 29ms/step - loss: 0.0243 - acc: 0.9919 - mean_absolute_error: 0.0192 - val_loss: 1.6649 - val_acc: 0.7792 - val_mean_absolute_error: 0.2206\n",
      "Epoch 84/100\n",
      "1360/1360 [==============================] - 38s 28ms/step - loss: 0.0207 - acc: 0.9926 - mean_absolute_error: 0.0157 - val_loss: 1.7028 - val_acc: 0.7875 - val_mean_absolute_error: 0.2146\n",
      "Epoch 85/100\n",
      "1360/1360 [==============================] - 37s 27ms/step - loss: 0.0213 - acc: 0.9926 - mean_absolute_error: 0.0154 - val_loss: 1.7383 - val_acc: 0.7833 - val_mean_absolute_error: 0.2198\n",
      "Epoch 86/100\n",
      "1360/1360 [==============================] - 38s 28ms/step - loss: 0.0220 - acc: 0.9912 - mean_absolute_error: 0.0160 - val_loss: 1.7762 - val_acc: 0.7833 - val_mean_absolute_error: 0.2197\n",
      "Epoch 87/100\n",
      "1360/1360 [==============================] - 38s 28ms/step - loss: 0.0221 - acc: 0.9941 - mean_absolute_error: 0.0159 - val_loss: 1.6503 - val_acc: 0.8042 - val_mean_absolute_error: 0.2014\n",
      "Epoch 88/100\n",
      "1360/1360 [==============================] - 38s 28ms/step - loss: 0.0290 - acc: 0.9890 - mean_absolute_error: 0.0191 - val_loss: 1.6277 - val_acc: 0.8000 - val_mean_absolute_error: 0.2006\n",
      "Epoch 89/100\n",
      "1360/1360 [==============================] - 38s 28ms/step - loss: 0.0276 - acc: 0.9860 - mean_absolute_error: 0.0196 - val_loss: 1.8195 - val_acc: 0.7917 - val_mean_absolute_error: 0.2103\n",
      "Epoch 90/100\n",
      "1360/1360 [==============================] - 38s 28ms/step - loss: 0.0243 - acc: 0.9934 - mean_absolute_error: 0.0152 - val_loss: 1.6651 - val_acc: 0.8042 - val_mean_absolute_error: 0.2031\n",
      "Epoch 91/100\n",
      "1360/1360 [==============================] - 39s 29ms/step - loss: 0.0212 - acc: 0.9963 - mean_absolute_error: 0.0154 - val_loss: 1.8109 - val_acc: 0.7917 - val_mean_absolute_error: 0.2081\n",
      "Epoch 92/100\n",
      "1360/1360 [==============================] - 39s 29ms/step - loss: 0.0980 - acc: 0.9772 - mean_absolute_error: 0.0295 - val_loss: 1.8256 - val_acc: 0.8000 - val_mean_absolute_error: 0.2087\n",
      "Epoch 93/100\n",
      "1360/1360 [==============================] - 39s 29ms/step - loss: 0.1068 - acc: 0.9721 - mean_absolute_error: 0.0384 - val_loss: 1.3074 - val_acc: 0.8292 - val_mean_absolute_error: 0.1915\n",
      "Epoch 94/100\n",
      "1360/1360 [==============================] - 39s 28ms/step - loss: 0.0811 - acc: 0.9728 - mean_absolute_error: 0.0429 - val_loss: 1.2435 - val_acc: 0.8250 - val_mean_absolute_error: 0.1820\n",
      "Epoch 95/100\n",
      "1360/1360 [==============================] - 40s 29ms/step - loss: 0.0429 - acc: 0.9853 - mean_absolute_error: 0.0280 - val_loss: 1.2214 - val_acc: 0.8292 - val_mean_absolute_error: 0.1832\n",
      "Epoch 96/100\n",
      "1360/1360 [==============================] - 39s 29ms/step - loss: 0.0301 - acc: 0.9890 - mean_absolute_error: 0.0212 - val_loss: 1.2166 - val_acc: 0.8417 - val_mean_absolute_error: 0.1728\n",
      "Epoch 97/100\n",
      "1360/1360 [==============================] - 39s 29ms/step - loss: 0.0351 - acc: 0.9904 - mean_absolute_error: 0.0227 - val_loss: 1.3430 - val_acc: 0.8292 - val_mean_absolute_error: 0.1781\n",
      "Epoch 98/100\n",
      "1360/1360 [==============================] - 39s 29ms/step - loss: 0.0204 - acc: 0.9949 - mean_absolute_error: 0.0164 - val_loss: 1.3464 - val_acc: 0.8417 - val_mean_absolute_error: 0.1702\n",
      "Epoch 99/100\n",
      "1360/1360 [==============================] - 38s 28ms/step - loss: 0.1020 - acc: 0.9618 - mean_absolute_error: 0.0432 - val_loss: 1.2303 - val_acc: 0.8542 - val_mean_absolute_error: 0.1641\n",
      "Epoch 100/100\n",
      "1360/1360 [==============================] - 40s 29ms/step - loss: 0.1081 - acc: 0.9728 - mean_absolute_error: 0.0382 - val_loss: 1.1287 - val_acc: 0.8292 - val_mean_absolute_error: 0.1795\n"
     ]
    }
   ],
   "source": [
    "clas = KerasClassifier(build_fn=gpu_mfcc_shallow_net,\n",
    "                       epochs=epochs, \n",
    "                       batch_size=batch, \n",
    "                       validation_split=0.15)\n",
    "\n",
    "history = clas.fit(train_X, train_y)"
   ]
  },
  {
   "cell_type": "code",
   "execution_count": 23,
   "metadata": {
    "scrolled": true
   },
   "outputs": [
    {
     "data": {
      "image/png": "[encoded data removed]",
      "text/plain": [
       "<Figure size 720x360 with 1 Axes>"
      ]
     },
     "metadata": {
      "needs_background": "light"
     },
     "output_type": "display_data"
    }
   ],
   "source": [
    "plt.figure(figsize=(10, 5))\n",
    "# plt.ylim([0,9])\n",
    "plt.plot(history.history['loss'])\n",
    "plt.plot(history.history['val_loss'])\n",
    "plt.show()"
   ]
  },
  {
   "cell_type": "code",
   "execution_count": 24,
   "metadata": {},
   "outputs": [
    {
     "data": {
      "image/png": "[encoded data removed]",
      "text/plain": [
       "<Figure size 720x360 with 1 Axes>"
      ]
     },
     "metadata": {
      "needs_background": "light"
     },
     "output_type": "display_data"
    }
   ],
   "source": [
    "plt.figure(figsize=(10, 5))\n",
    "# plt.ylim([0,9])\n",
    "plt.plot(history.history['acc'])\n",
    "plt.plot(history.history['val_acc'])\n",
    "plt.show()"
   ]
  },
  {
   "cell_type": "code",
   "execution_count": 25,
   "metadata": {
    "scrolled": false
   },
   "outputs": [
    {
     "name": "stdout",
     "output_type": "stream",
     "text": [
      "0.7725\n",
      "Confusion matrix, without normalization\n",
      "[[105  47]\n",
      " [ 44 204]]\n"
     ]
    },
    {
     "data": {
      "image/png": "[encoded data removed]",
      "text/plain": [
       "<Figure size 720x720 with 2 Axes>"
      ]
     },
     "metadata": {
      "needs_background": "light"
     },
     "output_type": "display_data"
    }
   ],
   "source": [
    "pred = clas.predict(test_X)\n",
    "print(metrics.accuracy_score(test_y, pred))\n",
    "cm = metrics.confusion_matrix(test_y, pred)\n",
    "plt.figure(figsize=(10,10))\n",
    "plot_confusion_matrix(cm, h_classes)\n",
    "plt.show()"
   ]
  },
  {
   "cell_type": "markdown",
   "metadata": {},
   "source": [
    "# All Data"
   ]
  },
  {
   "cell_type": "code",
   "execution_count": 18,
   "metadata": {},
   "outputs": [
    {
     "name": "stdout",
     "output_type": "stream",
     "text": [
      "\tProcessing Time: 63.62871074676514\n"
     ]
    }
   ],
   "source": [
    "X, y = load_audio_blockwise(dataset[dataset.fold == 1], orig_blocksize, orig_overlap)"
   ]
  },
  {
   "cell_type": "code",
   "execution_count": 19,
   "metadata": {},
   "outputs": [
    {
     "name": "stdout",
     "output_type": "stream",
     "text": [
      "0.7725\n",
      "Confusion matrix, without normalization\n",
      "[[105  47]\n",
      " [ 44 204]]\n"
     ]
    },
    {
     "data": {
      "image/png": "[encoded data removed]",
      "text/plain": [
       "<Figure size 720x720 with 2 Axes>"
      ]
     },
     "metadata": {
      "needs_background": "light"
     },
     "output_type": "display_data"
    }
   ],
   "source": [
    "pred = clas.predict(X)\n",
    "pred_prob = clas.predict_proba(X)\n",
    "print(metrics.accuracy_score(y, pred))\n",
    "cm = metrics.confusion_matrix(y, pred)\n",
    "plt.figure(figsize=(10,10))\n",
    "plot_confusion_matrix(cm, h_classes)\n",
    "plt.show()"
   ]
  },
  {
   "cell_type": "code",
   "execution_count": 20,
   "metadata": {},
   "outputs": [],
   "source": [
    "import seaborn as sns\n",
    "misclassified = {\n",
    "    'Predicted h_target': [],\n",
    "    'Anim_prob': [],\n",
    "    'Interact_prob': []\n",
    "}\n",
    "\n",
    "correctly_classified = {\n",
    "    'Predicted h_target': [],\n",
    "    'Anim_prob': [],\n",
    "    'Interact_prob': []\n",
    "}\n",
    "\n",
    "for p, prob, Y in zip(pred, pred_prob, y):\n",
    "    Y = int(Y)\n",
    "    p = int(p)\n",
    "    if p!=Y:\n",
    "        misclassified['Predicted h_target'].append(h_classes[p])\n",
    "        misclassified['Anim_prob'].append(prob[0])\n",
    "        misclassified['Interact_prob'].append(prob[1])\n",
    "    else:\n",
    "        correctly_classified['Predicted h_target'].append(h_classes[p])\n",
    "        correctly_classified['Anim_prob'].append(prob[0])\n",
    "        correctly_classified['Interact_prob'].append(prob[1])\n",
    "\n",
    "misclassified = pd.DataFrame.from_dict(misclassified)\n",
    "correctly_classified = pd.DataFrame.from_dict(correctly_classified)"
   ]
  },
  {
   "cell_type": "code",
   "execution_count": 21,
   "metadata": {},
   "outputs": [
    {
     "data": {
      "text/html": [
       "<div>\n",
       "<style scoped>\n",
       "    .dataframe tbody tr th:only-of-type {\n",
       "        vertical-align: middle;\n",
       "    }\n",
       "\n",
       "    .dataframe tbody tr th {\n",
       "        vertical-align: top;\n",
       "    }\n",
       "\n",
       "    .dataframe thead th {\n",
       "        text-align: right;\n",
       "    }\n",
       "</style>\n",
       "<table border=\"1\" class=\"dataframe\">\n",
       "  <thead>\n",
       "    <tr style=\"text-align: right;\">\n",
       "      <th></th>\n",
       "      <th>Anim_prob</th>\n",
       "      <th>Interact_prob</th>\n",
       "    </tr>\n",
       "    <tr>\n",
       "      <th>Predicted h_target</th>\n",
       "      <th></th>\n",
       "      <th></th>\n",
       "    </tr>\n",
       "  </thead>\n",
       "  <tbody>\n",
       "    <tr>\n",
       "      <th>Human &amp; Animal</th>\n",
       "      <td>0.929008</td>\n",
       "      <td>0.070992</td>\n",
       "    </tr>\n",
       "    <tr>\n",
       "      <th>Interacting Materials</th>\n",
       "      <td>0.059374</td>\n",
       "      <td>0.940626</td>\n",
       "    </tr>\n",
       "  </tbody>\n",
       "</table>\n",
       "</div>"
      ],
      "text/plain": [
       "                       Anim_prob  Interact_prob\n",
       "Predicted h_target                             \n",
       "Human & Animal          0.929008       0.070992\n",
       "Interacting Materials   0.059374       0.940626"
      ]
     },
     "execution_count": 21,
     "metadata": {},
     "output_type": "execute_result"
    }
   ],
   "source": [
    "average_prob = misclassified.groupby('Predicted h_target').mean()\n",
    "average_prob.head()"
   ]
  },
  {
   "cell_type": "code",
   "execution_count": 22,
   "metadata": {},
   "outputs": [
    {
     "data": {
      "text/html": [
       "<div>\n",
       "<style scoped>\n",
       "    .dataframe tbody tr th:only-of-type {\n",
       "        vertical-align: middle;\n",
       "    }\n",
       "\n",
       "    .dataframe tbody tr th {\n",
       "        vertical-align: top;\n",
       "    }\n",
       "\n",
       "    .dataframe thead th {\n",
       "        text-align: right;\n",
       "    }\n",
       "</style>\n",
       "<table border=\"1\" class=\"dataframe\">\n",
       "  <thead>\n",
       "    <tr style=\"text-align: right;\">\n",
       "      <th></th>\n",
       "      <th>Anim_prob</th>\n",
       "      <th>Interact_prob</th>\n",
       "    </tr>\n",
       "    <tr>\n",
       "      <th>Predicted h_target</th>\n",
       "      <th></th>\n",
       "      <th></th>\n",
       "    </tr>\n",
       "  </thead>\n",
       "  <tbody>\n",
       "    <tr>\n",
       "      <th>Human &amp; Animal</th>\n",
       "      <td>0.959241</td>\n",
       "      <td>0.040759</td>\n",
       "    </tr>\n",
       "    <tr>\n",
       "      <th>Interacting Materials</th>\n",
       "      <td>0.022084</td>\n",
       "      <td>0.977916</td>\n",
       "    </tr>\n",
       "  </tbody>\n",
       "</table>\n",
       "</div>"
      ],
      "text/plain": [
       "                       Anim_prob  Interact_prob\n",
       "Predicted h_target                             \n",
       "Human & Animal          0.959241       0.040759\n",
       "Interacting Materials   0.022084       0.977916"
      ]
     },
     "execution_count": 22,
     "metadata": {},
     "output_type": "execute_result"
    }
   ],
   "source": [
    "average_prob = correctly_classified.groupby('Predicted h_target').mean()\n",
    "average_prob.head()"
   ]
  }
 ],
 "metadata": {
  "kernelspec": {
   "display_name": "Python 3",
   "language": "python",
   "name": "python3"
  },
  "language_info": {
   "codemirror_mode": {
    "name": "ipython",
    "version": 3
   },
   "file_extension": ".py",
   "mimetype": "text/x-python",
   "name": "python",
   "nbconvert_exporter": "python",
   "pygments_lexer": "ipython3",
   "version": "3.5.2"
  }
 },
 "nbformat": 4,
 "nbformat_minor": 2
}
