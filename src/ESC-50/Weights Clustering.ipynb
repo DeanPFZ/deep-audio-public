{
 "cells": [
  {
   "cell_type": "code",
   "execution_count": 1,
   "metadata": {},
   "outputs": [],
   "source": [
    "import pandas as pd\n",
    "import numpy as np\n",
    "import sklearn as skl\n",
    "from sklearn.cluster import KMeans"
   ]
  },
  {
   "cell_type": "code",
   "execution_count": 2,
   "metadata": {},
   "outputs": [
    {
     "data": {
      "text/html": [
       "<div>\n",
       "<style scoped>\n",
       "    .dataframe tbody tr th:only-of-type {\n",
       "        vertical-align: middle;\n",
       "    }\n",
       "\n",
       "    .dataframe tbody tr th {\n",
       "        vertical-align: top;\n",
       "    }\n",
       "\n",
       "    .dataframe thead th {\n",
       "        text-align: right;\n",
       "    }\n",
       "</style>\n",
       "<table border=\"1\" class=\"dataframe\">\n",
       "  <thead>\n",
       "    <tr style=\"text-align: right;\">\n",
       "      <th></th>\n",
       "      <th>0</th>\n",
       "      <th>1</th>\n",
       "      <th>2</th>\n",
       "      <th>3</th>\n",
       "      <th>4</th>\n",
       "      <th>5</th>\n",
       "      <th>6</th>\n",
       "      <th>7</th>\n",
       "      <th>8</th>\n",
       "      <th>9</th>\n",
       "      <th>10</th>\n",
       "    </tr>\n",
       "  </thead>\n",
       "  <tbody>\n",
       "    <tr>\n",
       "      <th>0</th>\n",
       "      <td>-0.036948</td>\n",
       "      <td>-1.539553</td>\n",
       "      <td>-0.002873</td>\n",
       "      <td>0.096048</td>\n",
       "      <td>-0.005966</td>\n",
       "      <td>1.483581</td>\n",
       "      <td>0.053715</td>\n",
       "      <td>0.588397</td>\n",
       "      <td>-0.057952</td>\n",
       "      <td>0.110433</td>\n",
       "      <td>0.008588</td>\n",
       "    </tr>\n",
       "    <tr>\n",
       "      <th>1</th>\n",
       "      <td>-0.056765</td>\n",
       "      <td>0.186956</td>\n",
       "      <td>-0.002075</td>\n",
       "      <td>-0.032511</td>\n",
       "      <td>-0.081422</td>\n",
       "      <td>-1.338555</td>\n",
       "      <td>-0.014176</td>\n",
       "      <td>-0.632347</td>\n",
       "      <td>0.097677</td>\n",
       "      <td>-0.074786</td>\n",
       "      <td>0.011453</td>\n",
       "    </tr>\n",
       "    <tr>\n",
       "      <th>2</th>\n",
       "      <td>-0.057001</td>\n",
       "      <td>0.680765</td>\n",
       "      <td>-0.048339</td>\n",
       "      <td>-0.062672</td>\n",
       "      <td>0.043167</td>\n",
       "      <td>-0.090985</td>\n",
       "      <td>-0.019762</td>\n",
       "      <td>-0.366712</td>\n",
       "      <td>-0.031498</td>\n",
       "      <td>0.025538</td>\n",
       "      <td>0.002573</td>\n",
       "    </tr>\n",
       "    <tr>\n",
       "      <th>3</th>\n",
       "      <td>-0.052874</td>\n",
       "      <td>3.101260</td>\n",
       "      <td>-0.016633</td>\n",
       "      <td>-0.529174</td>\n",
       "      <td>-0.008358</td>\n",
       "      <td>1.015768</td>\n",
       "      <td>0.039767</td>\n",
       "      <td>0.926681</td>\n",
       "      <td>-0.017043</td>\n",
       "      <td>0.054034</td>\n",
       "      <td>0.001690</td>\n",
       "    </tr>\n",
       "    <tr>\n",
       "      <th>4</th>\n",
       "      <td>-0.066046</td>\n",
       "      <td>-1.527839</td>\n",
       "      <td>-0.021227</td>\n",
       "      <td>0.431604</td>\n",
       "      <td>0.049310</td>\n",
       "      <td>-1.762325</td>\n",
       "      <td>0.072918</td>\n",
       "      <td>-1.714220</td>\n",
       "      <td>-0.031217</td>\n",
       "      <td>-0.108248</td>\n",
       "      <td>0.004973</td>\n",
       "    </tr>\n",
       "  </tbody>\n",
       "</table>\n",
       "</div>"
      ],
      "text/plain": [
       "          0         1         2         3         4         5         6  \\\n",
       "0 -0.036948 -1.539553 -0.002873  0.096048 -0.005966  1.483581  0.053715   \n",
       "1 -0.056765  0.186956 -0.002075 -0.032511 -0.081422 -1.338555 -0.014176   \n",
       "2 -0.057001  0.680765 -0.048339 -0.062672  0.043167 -0.090985 -0.019762   \n",
       "3 -0.052874  3.101260 -0.016633 -0.529174 -0.008358  1.015768  0.039767   \n",
       "4 -0.066046 -1.527839 -0.021227  0.431604  0.049310 -1.762325  0.072918   \n",
       "\n",
       "          7         8         9        10  \n",
       "0  0.588397 -0.057952  0.110433  0.008588  \n",
       "1 -0.632347  0.097677 -0.074786  0.011453  \n",
       "2 -0.366712 -0.031498  0.025538  0.002573  \n",
       "3  0.926681 -0.017043  0.054034  0.001690  \n",
       "4 -1.714220 -0.031217 -0.108248  0.004973  "
      ]
     },
     "execution_count": 2,
     "metadata": {},
     "output_type": "execute_result"
    }
   ],
   "source": [
    "df = pd.read_csv(\"transformed_weights.csv\")\n",
    "df.head()"
   ]
  },
  {
   "cell_type": "code",
   "execution_count": 3,
   "metadata": {},
   "outputs": [],
   "source": [
    "kmeans = KMeans(n_clusters=2)"
   ]
  },
  {
   "cell_type": "code",
   "execution_count": 4,
   "metadata": {},
   "outputs": [
    {
     "data": {
      "text/plain": [
       "KMeans(algorithm='auto', copy_x=True, init='k-means++', max_iter=300,\n",
       "    n_clusters=2, n_init=10, n_jobs=None, precompute_distances='auto',\n",
       "    random_state=None, tol=0.0001, verbose=0)"
      ]
     },
     "execution_count": 4,
     "metadata": {},
     "output_type": "execute_result"
    }
   ],
   "source": [
    "kmeans.fit(df)"
   ]
  },
  {
   "cell_type": "code",
   "execution_count": 7,
   "metadata": {},
   "outputs": [
    {
     "name": "stdout",
     "output_type": "stream",
     "text": [
      "0: 0\n",
      "1: 1\n",
      "2: 1\n",
      "3: 1\n",
      "4: 0\n",
      "5: 1\n",
      "6: 1\n",
      "7: 1\n",
      "8: 0\n",
      "9: 0\n",
      "10: 0\n",
      "11: 1\n",
      "12: 0\n",
      "13: 1\n",
      "14: 0\n",
      "15: 0\n",
      "16: 1\n",
      "17: 1\n",
      "18: 0\n",
      "19: 0\n",
      "20: 0\n",
      "21: 1\n",
      "22: 1\n",
      "23: 0\n",
      "24: 0\n",
      "25: 0\n",
      "26: 1\n",
      "27: 1\n",
      "28: 1\n",
      "29: 0\n",
      "30: 0\n",
      "31: 1\n",
      "32: 1\n",
      "33: 0\n",
      "34: 1\n",
      "35: 0\n",
      "36: 0\n",
      "37: 0\n",
      "38: 0\n",
      "39: 0\n",
      "40: 0\n",
      "41: 1\n",
      "42: 1\n",
      "43: 1\n",
      "44: 1\n",
      "45: 1\n",
      "46: 0\n",
      "47: 0\n",
      "48: 1\n",
      "49: 1\n"
     ]
    }
   ],
   "source": [
    "for i, k in enumerate(kmeans.predict(df)):\n",
    "    print(str(i) + \": \" + str(k))"
   ]
  },
  {
   "cell_type": "code",
   "execution_count": null,
   "metadata": {},
   "outputs": [],
   "source": []
  }
 ],
 "metadata": {
  "kernelspec": {
   "display_name": "Python 3",
   "language": "python",
   "name": "python3"
  },
  "language_info": {
   "codemirror_mode": {
    "name": "ipython",
    "version": 3
   },
   "file_extension": ".py",
   "mimetype": "text/x-python",
   "name": "python",
   "nbconvert_exporter": "python",
   "pygments_lexer": "ipython3",
   "version": "3.5.2"
  }
 },
 "nbformat": 4,
 "nbformat_minor": 2
}
