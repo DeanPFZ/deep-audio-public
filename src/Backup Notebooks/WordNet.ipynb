{
 "cells": [
  {
   "cell_type": "code",
   "execution_count": 2,
   "metadata": {},
   "outputs": [],
   "source": [
    "import pandas as pd\n",
    "import seaborn as sns\n",
    "import numpy as np\n",
    "import matplotlib.pyplot as plt\n",
    "import time\n",
    "from nltk.corpus import wordnet"
   ]
  },
  {
   "cell_type": "code",
   "execution_count": 3,
   "metadata": {},
   "outputs": [],
   "source": [
    "import warnings\n",
    "warnings.filterwarnings('ignore')"
   ]
  },
  {
   "cell_type": "markdown",
   "metadata": {},
   "source": [
    "# Setup"
   ]
  },
  {
   "cell_type": "code",
   "execution_count": 4,
   "metadata": {},
   "outputs": [],
   "source": [
    "path_to_db='../ESC-50/'"
   ]
  },
  {
   "cell_type": "markdown",
   "metadata": {},
   "source": [
    "# Load Dataset\n",
    "Here we load the csv that describes each file in the dataset."
   ]
  },
  {
   "cell_type": "code",
   "execution_count": 5,
   "metadata": {},
   "outputs": [],
   "source": [
    "dataset = pd.read_csv(path_to_db + 'meta/esc50.csv')"
   ]
  },
  {
   "cell_type": "code",
   "execution_count": 6,
   "metadata": {},
   "outputs": [
    {
     "data": {
      "text/html": [
       "<div>\n",
       "<style scoped>\n",
       "    .dataframe tbody tr th:only-of-type {\n",
       "        vertical-align: middle;\n",
       "    }\n",
       "\n",
       "    .dataframe tbody tr th {\n",
       "        vertical-align: top;\n",
       "    }\n",
       "\n",
       "    .dataframe thead th {\n",
       "        text-align: right;\n",
       "    }\n",
       "</style>\n",
       "<table border=\"1\" class=\"dataframe\">\n",
       "  <thead>\n",
       "    <tr style=\"text-align: right;\">\n",
       "      <th></th>\n",
       "      <th>filename</th>\n",
       "      <th>fold</th>\n",
       "      <th>target</th>\n",
       "      <th>category</th>\n",
       "      <th>esc10</th>\n",
       "      <th>src_file</th>\n",
       "      <th>take</th>\n",
       "    </tr>\n",
       "  </thead>\n",
       "  <tbody>\n",
       "    <tr>\n",
       "      <th>0</th>\n",
       "      <td>1-100032-A-0.wav</td>\n",
       "      <td>1</td>\n",
       "      <td>0</td>\n",
       "      <td>dog</td>\n",
       "      <td>True</td>\n",
       "      <td>100032</td>\n",
       "      <td>A</td>\n",
       "    </tr>\n",
       "    <tr>\n",
       "      <th>1</th>\n",
       "      <td>1-100038-A-14.wav</td>\n",
       "      <td>1</td>\n",
       "      <td>14</td>\n",
       "      <td>chirping_birds</td>\n",
       "      <td>False</td>\n",
       "      <td>100038</td>\n",
       "      <td>A</td>\n",
       "    </tr>\n",
       "    <tr>\n",
       "      <th>2</th>\n",
       "      <td>1-100210-A-36.wav</td>\n",
       "      <td>1</td>\n",
       "      <td>36</td>\n",
       "      <td>vacuum_cleaner</td>\n",
       "      <td>False</td>\n",
       "      <td>100210</td>\n",
       "      <td>A</td>\n",
       "    </tr>\n",
       "    <tr>\n",
       "      <th>3</th>\n",
       "      <td>1-100210-B-36.wav</td>\n",
       "      <td>1</td>\n",
       "      <td>36</td>\n",
       "      <td>vacuum_cleaner</td>\n",
       "      <td>False</td>\n",
       "      <td>100210</td>\n",
       "      <td>B</td>\n",
       "    </tr>\n",
       "    <tr>\n",
       "      <th>4</th>\n",
       "      <td>1-101296-A-19.wav</td>\n",
       "      <td>1</td>\n",
       "      <td>19</td>\n",
       "      <td>thunderstorm</td>\n",
       "      <td>False</td>\n",
       "      <td>101296</td>\n",
       "      <td>A</td>\n",
       "    </tr>\n",
       "  </tbody>\n",
       "</table>\n",
       "</div>"
      ],
      "text/plain": [
       "            filename  fold  target        category  esc10  src_file take\n",
       "0   1-100032-A-0.wav     1       0             dog   True    100032    A\n",
       "1  1-100038-A-14.wav     1      14  chirping_birds  False    100038    A\n",
       "2  1-100210-A-36.wav     1      36  vacuum_cleaner  False    100210    A\n",
       "3  1-100210-B-36.wav     1      36  vacuum_cleaner  False    100210    B\n",
       "4  1-101296-A-19.wav     1      19    thunderstorm  False    101296    A"
      ]
     },
     "execution_count": 6,
     "metadata": {},
     "output_type": "execute_result"
    }
   ],
   "source": [
    "dataset.head()"
   ]
  },
  {
   "cell_type": "code",
   "execution_count": 7,
   "metadata": {},
   "outputs": [
    {
     "data": {
      "text/plain": [
       "<matplotlib.axes._subplots.AxesSubplot at 0x7fcf7d4ae940>"
      ]
     },
     "execution_count": 7,
     "metadata": {},
     "output_type": "execute_result"
    },
    {
     "data": {
      "image/png": "[encoded data removed]",
      "text/plain": [
       "<Figure size 432x288 with 1 Axes>"
      ]
     },
     "metadata": {
      "needs_background": "light"
     },
     "output_type": "display_data"
    }
   ],
   "source": [
    "sns.countplot(dataset['category'])"
   ]
  },
  {
   "cell_type": "code",
   "execution_count": 11,
   "metadata": {},
   "outputs": [
    {
     "name": "stdout",
     "output_type": "stream",
     "text": [
      "{'dog': [Synset('organism.n.01')], 'insects': [Synset('organism.n.01')], 'cat': [Synset('organism.n.01')], 'rooster': [Synset('organism.n.01')], 'crickets': [Synset('organism.n.01')], 'crow': [Synset('organism.n.01')], 'sheep': [Synset('organism.n.01')], 'cow': [Synset('organism.n.01')], 'pig': [Synset('organism.n.01')], 'hen': [Synset('organism.n.01')], 'frog': [Synset('organism.n.01')]}\n"
     ]
    }
   ],
   "source": [
    "common_set = {}\n",
    "organism_synset = wordnet.synset('organism.n.01')\n",
    "for category in dataset['category'].unique():\n",
    "    temp = wordnet.synsets(category)\n",
    "    if temp == []:\n",
    "        continue\n",
    "    res = temp[0].lowest_common_hypernyms(organism_synset)\n",
    "    if res == []:\n",
    "        continue\n",
    "    elif res[0] == organism_synset:\n",
    "        common_set[category] = res\n",
    "    \n",
    "print(common_set)"
   ]
  },
  {
   "cell_type": "code",
   "execution_count": 10,
   "metadata": {},
   "outputs": [
    {
     "name": "stdout",
     "output_type": "stream",
     "text": [
      "dog\n",
      "[Synset('canine.n.02'), Synset('domestic_animal.n.01')]\n",
      "[Synset('unpleasant_woman.n.01')]\n",
      "[Synset('chap.n.01')]\n",
      "[Synset('villain.n.01')]\n",
      "[Synset('sausage.n.01')]\n",
      "[Synset('catch.n.06')]\n",
      "[Synset('support.n.10')]\n",
      "[Synset('pursue.v.02')]\n",
      "chirping_birds\n",
      "vacuum_cleaner\n",
      "[Synset('home_appliance.n.01')]\n",
      "thunderstorm\n",
      "[Synset('storm.n.01')]\n",
      "door_wood_knock\n",
      "can_opening\n",
      "crow\n",
      "[Synset('corvine_bird.n.01')]\n",
      "[Synset('cry.n.05')]\n",
      "[Synset('sioux.n.01')]\n",
      "[]\n",
      "[Synset('boast.n.01')]\n",
      "[Synset('siouan.n.02')]\n",
      "[Synset('boast.v.01')]\n",
      "[Synset('utter.v.02')]\n",
      "[Synset('utter.v.02')]\n",
      "clapping\n",
      "[Synset('approval.n.04')]\n",
      "[Synset('put.v.01')]\n",
      "[Synset('beat.v.08')]\n",
      "[Synset('gesticulate.v.01')]\n",
      "[Synset('gesticulate.v.01')]\n",
      "[Synset('beat.v.15')]\n",
      "[Synset('hit.v.03')]\n",
      "[Synset('hit.v.01')]\n",
      "fireworks\n",
      "[Synset('low_explosive.n.01')]\n",
      "chainsaw\n",
      "[Synset('power_saw.n.01')]\n",
      "airplane\n",
      "[Synset('heavier-than-air_craft.n.01')]\n",
      "mouse_click\n",
      "[Synset('depression.n.10')]\n",
      "pouring_water\n",
      "train\n",
      "[Synset('public_transport.n.01')]\n",
      "[Synset('series.n.01')]\n",
      "[Synset('procession.n.02')]\n",
      "[Synset('consequence.n.02')]\n",
      "[Synset('piece_of_cloth.n.01')]\n",
      "[Synset('wheelwork.n.01')]\n",
      "[Synset('teach.v.01')]\n",
      "[Synset('learn.v.04')]\n",
      "[Synset('develop.v.12')]\n",
      "[Synset('educate.v.01')]\n",
      "[Synset('polish.v.02')]\n",
      "[Synset('position.v.01')]\n",
      "[Synset('teach.v.01')]\n",
      "[Synset('exercise.v.04')]\n",
      "[Synset('control.v.02')]\n",
      "[Synset('ride.v.02')]\n",
      "[Synset('drag.v.01')]\n",
      "sheep\n",
      "[Synset('bovid.n.01')]\n",
      "[Synset('simpleton.n.01')]\n",
      "[Synset('follower.n.01')]\n",
      "water_drops\n",
      "church_bells\n",
      "[Synset('bell.n.01')]\n",
      "clock_alarm\n",
      "keyboard_typing\n",
      "wind\n",
      "[Synset('weather.n.01')]\n",
      "[Synset('influence.n.04')]\n",
      "[Synset('exhalation.n.02')]\n",
      "[Synset('talk.n.01')]\n",
      "[Synset('guidance.n.01')]\n",
      "[Synset('musical_instrument.n.01')]\n",
      "[Synset('reflex.n.01')]\n",
      "[Synset('rotation.n.01')]\n",
      "[Synset('travel.v.01')]\n",
      "[Synset('be.v.01')]\n",
      "[Synset('move.v.02')]\n",
      "[Synset('smell.v.01')]\n",
      "[Synset('tighten.v.01')]\n",
      "[Synset('intertwine.v.01')]\n",
      "[Synset('raise.v.02')]\n",
      "footsteps\n",
      "[Synset('sound.n.04')]\n",
      "[Synset('step.n.03')]\n",
      "[Synset('indefinite_quantity.n.01')]\n",
      "frog\n",
      "[Synset('amphibian.n.03')]\n",
      "[Synset('frenchman.n.01')]\n",
      "[Synset('adornment.n.01')]\n",
      "[Synset('capture.v.06')]\n",
      "cow\n",
      "[Synset('cattle.n.01')]\n",
      "[Synset('placental.n.01')]\n",
      "[Synset('unpleasant_woman.n.01')]\n",
      "[Synset('awe.v.01')]\n",
      "brushing_teeth\n",
      "car_horn\n",
      "[Synset('alarm.n.02')]\n",
      "crackling_fire\n",
      "helicopter\n",
      "[Synset('heavier-than-air_craft.n.01')]\n",
      "drinking_sipping\n",
      "rain\n",
      "[Synset('precipitation.n.03')]\n",
      "[Synset('fresh_water.n.01')]\n",
      "[Synset('sequence.n.02')]\n",
      "[Synset('precipitate.v.03')]\n",
      "insects\n",
      "[Synset('arthropod.n.01')]\n",
      "[Synset('unpleasant_person.n.01')]\n",
      "laughing\n",
      "[Synset('express_emotion.v.01')]\n",
      "[]\n",
      "hen\n",
      "[Synset('chicken.n.02')]\n",
      "[Synset('bird.n.01')]\n",
      "[Synset('chicken.n.01')]\n",
      "[Synset('female.n.01')]\n",
      "engine\n",
      "[Synset('motor.n.01')]\n",
      "[Synset('causal_agent.n.01')]\n",
      "[Synset('self-propelled_vehicle.n.01')]\n",
      "[Synset('instrument.n.01')]\n",
      "breathing\n",
      "[Synset('bodily_process.n.01')]\n",
      "[]\n",
      "[Synset('exist.v.02')]\n",
      "[Synset('instill.v.01')]\n",
      "[Synset('be.v.01')]\n",
      "[Synset('express.v.02')]\n",
      "[Synset('convey.v.01')]\n",
      "[Synset('pause.v.02')]\n",
      "[Synset('oxidize.v.02')]\n",
      "[Synset('exhaust.v.05')]\n",
      "[]\n",
      "crying_baby\n",
      "hand_saw\n",
      "[Synset('saw.n.02')]\n",
      "coughing\n",
      "[Synset('symptom.n.01')]\n",
      "[Synset('expectorate.v.02')]\n",
      "glass_breaking\n",
      "snoring\n",
      "[Synset('breathing.n.01')]\n",
      "[Synset('breathe.v.01')]\n",
      "toilet_flush\n",
      "pig\n",
      "[Synset('swine.n.01')]\n",
      "[Synset('vulgarian.n.01')]\n",
      "[Synset('selfish_person.n.01')]\n",
      "[Synset('policeman.n.01')]\n",
      "[Synset('mold.n.02')]\n",
      "[Synset('ingot.n.01')]\n",
      "[Synset('live.v.02')]\n",
      "[Synset('eat.v.01')]\n",
      "[Synset('give_birth.v.01')]\n",
      "washing_machine\n",
      "[Synset('white_goods.n.01')]\n",
      "clock_tick\n",
      "sneezing\n",
      "[Synset('reflex.n.01'), Synset('symptom.n.01')]\n",
      "[Synset('act_involuntarily.v.01')]\n",
      "rooster\n",
      "[Synset('chicken.n.02')]\n",
      "sea_waves\n",
      "siren\n",
      "[Synset('sea_nymph.n.01')]\n",
      "[Synset('woman.n.01')]\n",
      "[Synset('alarm.n.03')]\n",
      "[Synset('acoustic_device.n.01'), Synset('alarm.n.02')]\n",
      "[Synset('salamander.n.01')]\n",
      "cat\n",
      "[Synset('feline.n.01')]\n",
      "[Synset('man.n.01')]\n",
      "[Synset('gossip.n.03'), Synset('woman.n.01')]\n",
      "[Synset('stimulant.n.02')]\n",
      "[Synset('whip.n.01')]\n",
      "[Synset('tracked_vehicle.n.01')]\n",
      "[Synset('feline.n.01')]\n",
      "[Synset('x-raying.n.01')]\n",
      "[Synset('flog.v.01')]\n",
      "[Synset('excrete.v.01')]\n",
      "door_wood_creaks\n",
      "crickets\n",
      "[Synset('orthopterous_insect.n.01')]\n",
      "[Synset('field_game.n.01')]\n",
      "[Synset('play.v.01')]\n"
     ]
    }
   ],
   "source": [
    "for category in dataset['category'].unique():\n",
    "    print(category)\n",
    "    temp = wordnet.synsets(category)\n",
    "    for synset in temp:\n",
    "        print(synset.hypernyms())"
   ]
  },
  {
   "cell_type": "code",
   "execution_count": 17,
   "metadata": {},
   "outputs": [
    {
     "data": {
      "text/plain": [
       "[Synset('happening.n.01')]"
      ]
     },
     "execution_count": 17,
     "metadata": {},
     "output_type": "execute_result"
    }
   ],
   "source": [
    "wordnet.synsets('knock')[0].hypernyms()[0].hypernyms()"
   ]
  },
  {
   "cell_type": "code",
   "execution_count": 36,
   "metadata": {},
   "outputs": [
    {
     "name": "stdout",
     "output_type": "stream",
     "text": [
      "dog         [Synset('organism.n.01')]\n",
      "crow        [Synset('organism.n.01')]\n",
      "sheep       [Synset('organism.n.01')]\n",
      "frog        [Synset('organism.n.01')]\n",
      "cow         [Synset('organism.n.01')]\n",
      "insects     [Synset('organism.n.01')]\n",
      "hen         [Synset('organism.n.01')]\n",
      "pig         [Synset('organism.n.01')]\n",
      "rooster     [Synset('organism.n.01')]\n",
      "cat         [Synset('organism.n.01')]\n",
      "crickets    [Synset('organism.n.01')]\n",
      "dtype: object\n"
     ]
    }
   ],
   "source": [
    "print(pd.Series(common_set))"
   ]
  },
  {
   "cell_type": "code",
   "execution_count": 47,
   "metadata": {},
   "outputs": [
    {
     "data": {
      "text/plain": [
       "[Synset('bark.n.01'),\n",
       " Synset('bark.n.02'),\n",
       " Synset('bark.n.03'),\n",
       " Synset('bark.n.04'),\n",
       " Synset('bark.v.01'),\n",
       " Synset('bark.v.02'),\n",
       " Synset('bark.v.03'),\n",
       " Synset('bark.v.04'),\n",
       " Synset('bark.v.05')]"
      ]
     },
     "execution_count": 47,
     "metadata": {},
     "output_type": "execute_result"
    }
   ],
   "source": [
    "wordnet.synsets('bark')"
   ]
  },
  {
   "cell_type": "code",
   "execution_count": null,
   "metadata": {},
   "outputs": [],
   "source": [
    "for category in dataset['category'].unique():\n",
    "    temp = wordnet.synsets(category)\n",
    "    if temp == []:\n",
    "        continue\n",
    "    res = temp[0].lowest_common_hypernyms(organism_synset)\n",
    "    if res == []:\n",
    "        continue\n",
    "    elif res[0] == organism_synset:\n",
    "        common_set[category] = res"
   ]
  }
 ],
 "metadata": {
  "kernelspec": {
   "display_name": "Python 3",
   "language": "python",
   "name": "python3"
  },
  "language_info": {
   "codemirror_mode": {
    "name": "ipython",
    "version": 3
   },
   "file_extension": ".py",
   "mimetype": "text/x-python",
   "name": "python",
   "nbconvert_exporter": "python",
   "pygments_lexer": "ipython3",
   "version": "3.5.2"
  }
 },
 "nbformat": 4,
 "nbformat_minor": 2
}
