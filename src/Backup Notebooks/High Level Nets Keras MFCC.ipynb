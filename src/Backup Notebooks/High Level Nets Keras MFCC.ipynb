{
 "cells": [
  {
   "cell_type": "code",
   "execution_count": 1,
   "metadata": {},
   "outputs": [
    {
     "name": "stderr",
     "output_type": "stream",
     "text": [
      "Using TensorFlow backend.\n"
     ]
    }
   ],
   "source": [
    "import pandas as pd\n",
    "from preprocess import Audio_Processor\n",
    "import data_utils as du\n",
    "from sklearn import metrics\n",
    "from keras.wrappers.scikit_learn import KerasClassifier\n",
    "from classification_plots import plot_confusion_matrix\n",
    "import matplotlib.pyplot as plt\n",
    "import os\n",
    "import mdn"
   ]
  },
  {
   "cell_type": "code",
   "execution_count": 2,
   "metadata": {},
   "outputs": [],
   "source": [
    "# Able to specify which GPU to use\n",
    "os.environ[\"CUDA_VISIBLE_DEVICES\"]=\"1\""
   ]
  },
  {
   "cell_type": "code",
   "execution_count": 3,
   "metadata": {},
   "outputs": [],
   "source": [
    "import warnings\n",
    "warnings.filterwarnings('ignore')"
   ]
  },
  {
   "cell_type": "markdown",
   "metadata": {},
   "source": [
    "# Setup"
   ]
  },
  {
   "cell_type": "code",
   "execution_count": 4,
   "metadata": {},
   "outputs": [],
   "source": [
    "audio_dir = '../ESC-50/audio/'"
   ]
  },
  {
   "cell_type": "code",
   "execution_count": 5,
   "metadata": {},
   "outputs": [],
   "source": [
    "path_to_db='../ESC-50/'\n",
    "ps = Audio_Processor(path_to_db + 'audio/')"
   ]
  },
  {
   "cell_type": "markdown",
   "metadata": {},
   "source": [
    "# Load Dataset\n",
    "Here we load the csv that describes each file in the dataset. We add a high level category that is defined in the ESC-50 documentation. This we realize is anthetical to true training, it is a stopgap for when we use NLP to classify tags into these categories."
   ]
  },
  {
   "cell_type": "code",
   "execution_count": 6,
   "metadata": {},
   "outputs": [],
   "source": [
    "dataset = pd.read_csv(path_to_db + 'meta/esc50.csv')\n",
    "classes = [None] * 50\n",
    "h_classes = ['Human & Animal', 'Interacting Materials']"
   ]
  },
  {
   "cell_type": "code",
   "execution_count": 7,
   "metadata": {},
   "outputs": [],
   "source": [
    "mapping = {\n",
    "    'dog': 0,\n",
    "    'rooster': 0,\n",
    "    'pig': 0,\n",
    "    'cow': 0,\n",
    "    'frog': 0,\n",
    "    'cat': 0,\n",
    "    'hen': 0,\n",
    "    'insects': 0,\n",
    "    'sheep': 0,\n",
    "    'crow': 0,\n",
    "    'rain': 1,\n",
    "    'sea_waves': 1,\n",
    "    'crackling_fire': 1,\n",
    "    'crickets': 0,\n",
    "    'chirping_birds': 0,\n",
    "    'water_drops': 1,\n",
    "    'wind': 1,\n",
    "    'pouring_water': 1,\n",
    "    'toilet_flush': 1,\n",
    "    'thunderstorm': 1,\n",
    "    'crying_baby': 0,\n",
    "    'sneezing': 0,\n",
    "    'clapping': 0,\n",
    "    'breathing': 0,\n",
    "    'coughing': 0,\n",
    "    'footsteps': 1,\n",
    "    'laughing': 0,\n",
    "    'brushing_teeth': 1,\n",
    "    'snoring': 0,\n",
    "    'drinking_sipping': 1,\n",
    "    'door_wood_knock': 1,\n",
    "    'mouse_click': 1,\n",
    "    'keyboard_typing': 1,\n",
    "    'door_wood_creaks': 1,\n",
    "    'can_opening': 1,\n",
    "    'washing_machine': 1,\n",
    "    'vacuum_cleaner': 1,\n",
    "    'clock_alarm': 1,\n",
    "    'clock_tick': 1,\n",
    "    'glass_breaking':1 ,\n",
    "    'helicopter': 1,\n",
    "    'chainsaw': 1,\n",
    "    'siren': 1,\n",
    "    'car_horn': 1,\n",
    "    'engine': 1,\n",
    "    'train': 1,\n",
    "    'church_bells': 1,\n",
    "    'airplane': 1,\n",
    "    'fireworks': 1,\n",
    "    'hand_saw': 1,\n",
    "}"
   ]
  },
  {
   "cell_type": "code",
   "execution_count": 8,
   "metadata": {},
   "outputs": [],
   "source": [
    "dataset['h_category'] = None\n",
    "for index, row in dataset.iterrows():\n",
    "    target = row['target']\n",
    "    classes[target] = row['category']\n",
    "    dataset.loc[index, 'h_category'] = mapping[row['category']]"
   ]
  },
  {
   "cell_type": "code",
   "execution_count": 9,
   "metadata": {},
   "outputs": [
    {
     "data": {
      "text/html": [
       "<div>\n",
       "<style scoped>\n",
       "    .dataframe tbody tr th:only-of-type {\n",
       "        vertical-align: middle;\n",
       "    }\n",
       "\n",
       "    .dataframe tbody tr th {\n",
       "        vertical-align: top;\n",
       "    }\n",
       "\n",
       "    .dataframe thead th {\n",
       "        text-align: right;\n",
       "    }\n",
       "</style>\n",
       "<table border=\"1\" class=\"dataframe\">\n",
       "  <thead>\n",
       "    <tr style=\"text-align: right;\">\n",
       "      <th></th>\n",
       "      <th>filename</th>\n",
       "      <th>fold</th>\n",
       "      <th>target</th>\n",
       "      <th>category</th>\n",
       "      <th>esc10</th>\n",
       "      <th>src_file</th>\n",
       "      <th>take</th>\n",
       "      <th>h_category</th>\n",
       "    </tr>\n",
       "  </thead>\n",
       "  <tbody>\n",
       "    <tr>\n",
       "      <th>0</th>\n",
       "      <td>1-100032-A-0.wav</td>\n",
       "      <td>1</td>\n",
       "      <td>0</td>\n",
       "      <td>dog</td>\n",
       "      <td>True</td>\n",
       "      <td>100032</td>\n",
       "      <td>A</td>\n",
       "      <td>0</td>\n",
       "    </tr>\n",
       "    <tr>\n",
       "      <th>1</th>\n",
       "      <td>1-100038-A-14.wav</td>\n",
       "      <td>1</td>\n",
       "      <td>14</td>\n",
       "      <td>chirping_birds</td>\n",
       "      <td>False</td>\n",
       "      <td>100038</td>\n",
       "      <td>A</td>\n",
       "      <td>0</td>\n",
       "    </tr>\n",
       "    <tr>\n",
       "      <th>2</th>\n",
       "      <td>1-100210-A-36.wav</td>\n",
       "      <td>1</td>\n",
       "      <td>36</td>\n",
       "      <td>vacuum_cleaner</td>\n",
       "      <td>False</td>\n",
       "      <td>100210</td>\n",
       "      <td>A</td>\n",
       "      <td>1</td>\n",
       "    </tr>\n",
       "    <tr>\n",
       "      <th>3</th>\n",
       "      <td>1-100210-B-36.wav</td>\n",
       "      <td>1</td>\n",
       "      <td>36</td>\n",
       "      <td>vacuum_cleaner</td>\n",
       "      <td>False</td>\n",
       "      <td>100210</td>\n",
       "      <td>B</td>\n",
       "      <td>1</td>\n",
       "    </tr>\n",
       "    <tr>\n",
       "      <th>4</th>\n",
       "      <td>1-101296-A-19.wav</td>\n",
       "      <td>1</td>\n",
       "      <td>19</td>\n",
       "      <td>thunderstorm</td>\n",
       "      <td>False</td>\n",
       "      <td>101296</td>\n",
       "      <td>A</td>\n",
       "      <td>1</td>\n",
       "    </tr>\n",
       "  </tbody>\n",
       "</table>\n",
       "</div>"
      ],
      "text/plain": [
       "            filename  fold  target        category  esc10  src_file take  \\\n",
       "0   1-100032-A-0.wav     1       0             dog   True    100032    A   \n",
       "1  1-100038-A-14.wav     1      14  chirping_birds  False    100038    A   \n",
       "2  1-100210-A-36.wav     1      36  vacuum_cleaner  False    100210    A   \n",
       "3  1-100210-B-36.wav     1      36  vacuum_cleaner  False    100210    B   \n",
       "4  1-101296-A-19.wav     1      19    thunderstorm  False    101296    A   \n",
       "\n",
       "   h_category  \n",
       "0           0  \n",
       "1           0  \n",
       "2           1  \n",
       "3           1  \n",
       "4           1  "
      ]
     },
     "execution_count": 9,
     "metadata": {},
     "output_type": "execute_result"
    }
   ],
   "source": [
    "dataset.head()"
   ]
  },
  {
   "cell_type": "markdown",
   "metadata": {},
   "source": [
    "## Getting Preprocessed Data\n",
    "We allow for previously preprocessed data to be retrieved for faster training turnaround. If the fold has been preprocessed, it is loaded but if not it is processed and saved."
   ]
  },
  {
   "cell_type": "code",
   "execution_count": 10,
   "metadata": {},
   "outputs": [],
   "source": [
    "import time\n",
    "import librosa\n",
    "import numpy as np\n",
    "import soundfile as sf\n",
    "\n",
    "def load_fold_audio_blockwise(fld, data, blocksize=1024, overlap=512, debug=False):\n",
    "    start_time = time.time()\n",
    "    f_df = data[data['fold'] == fld]\n",
    "    items = []\n",
    "    h_cat = []\n",
    "    cat = []\n",
    "    for i, sample in f_df.iterrows():\n",
    "        if debug:\n",
    "            print(\"File Processing\", end=\"\", flush=True)\n",
    "        blockgen = sf.blocks(audio_dir + sample['filename'], \n",
    "                             blocksize=blocksize, \n",
    "                             overlap=overlap, \n",
    "                             always_2d=True, \n",
    "                             fill_value=0.0)\n",
    "        SR = sf.info(audio_dir + sample['filename']).samplerate\n",
    "        for bl in blockgen:\n",
    "            if not np.any(bl):\n",
    "                continue\n",
    "            if debug:\n",
    "                print(\".\", end=\"\", flush=True)\n",
    "            y = bl.transpose()\n",
    "            y = y[:int(blocksize)]\n",
    "            y = y[np.newaxis, :]\n",
    "            items.append(y)\n",
    "            h_cat.append(sample.h_category)\n",
    "            cat.append(sample.target)\n",
    "        if debug:\n",
    "            print(\"Done\")\n",
    "\n",
    "    print(\"\\tProcessing Time: \" + str(time.time() - start_time))\n",
    "    return np.vstack(items), np.array(h_cat), np.array(cat)\n",
    "\n",
    "def load_audio_blockwise(data, blocksize=1024, overlap=512, debug=False):\n",
    "    start_time = time.time()\n",
    "    items = []\n",
    "    target = []\n",
    "    for i, sample in data.iterrows():\n",
    "        if debug:\n",
    "            print(\"File Processing\", end=\"\", flush=True)\n",
    "        blockgen = sf.blocks(audio_dir + sample['filename'], \n",
    "                             blocksize=blocksize, \n",
    "                             overlap=overlap, \n",
    "                             always_2d=True, \n",
    "                             fill_value=0.0)\n",
    "        sr = sf.info(audio_dir + sample['filename']).samplerate\n",
    "        for bl in blockgen:\n",
    "            if not np.any(bl):\n",
    "                continue\n",
    "            if debug:\n",
    "                print(\".\", end=\"\", flush=True)\n",
    "            y = bl.transpose()\n",
    "            y = y[:int(blocksize)]\n",
    "            y = y[np.newaxis, :]\n",
    "            items.append(y)\n",
    "            target.append(sample.h_category)\n",
    "        if debug:\n",
    "            print(\"Done\")\n",
    "    print(\"\\tProcessing Time: \" + str(time.time() - start_time))\n",
    "    return np.vstack(items), np.array(target)"
   ]
  },
  {
   "cell_type": "code",
   "execution_count": 11,
   "metadata": {},
   "outputs": [
    {
     "name": "stdout",
     "output_type": "stream",
     "text": [
      "\tProcessing Time: 5.807661056518555\n",
      "(14019, 1, 11025)\n"
     ]
    }
   ],
   "source": [
    "c_data, targets, c_targets = load_fold_audio_blockwise(1, dataset, blocksize, overlap)\n",
    "# c_data, targets = load_fold_audio(1, dataset)\n",
    "print(c_data.shape)"
   ]
  },
  {
   "cell_type": "markdown",
   "metadata": {},
   "source": [
    "## High-Level Shallow Nets\n",
    "Train binary shallow nets for high level categories(animals, natural, human, domestic, urban)"
   ]
  },
  {
   "cell_type": "code",
   "execution_count": 88,
   "metadata": {},
   "outputs": [],
   "source": [
    "from keras.models import Sequential\n",
    "from keras.layers import Dense, Dropout, Convolution2D, MaxPooling2D, Flatten\n",
    "import keras.metrics as kmet\n",
    "from kapre.time_frequency import Melspectrogram, Spectrogram\n",
    "from kapre.utils import Normalization2D\n",
    "from kapre.augmentation import AdditiveNoise\n",
    "\n",
    "ensemble_num = 10\n",
    "num_hidden_neurons = 10\n",
    "dropout = 0.25\n",
    "\n",
    "epochs = 40\n",
    "batch = 128\n",
    "\n",
    "def gpu_mfcc_shallow_net():\n",
    "    # Create Model\n",
    "    model = Sequential()\n",
    "    model.add(Melspectrogram(\n",
    "        sr=44100,\n",
    "        n_mels=128,\n",
    "        power_melgram=1.0,\n",
    "        input_shape=(1, 11025),\n",
    "        trainable_fb=False,\n",
    "        fmin = 800,\n",
    "        fmax = 8000\n",
    "    ))\n",
    "    model.add(Convolution2D(32, 9, 9, name='conv1', activation='relu'))\n",
    "    model.add(MaxPooling2D((25, 17)))\n",
    "    model.add(Flatten())\n",
    "    model.add(Dense(32, activation='relu', input_shape=(128,)))\n",
    "    model.add(Dropout(0.2))\n",
    "    model.add(Dense(1, kernel_initializer='normal', activation='sigmoid'))\n",
    "    \n",
    "    # Compile model\n",
    "    model.compile(loss='binary_crossentropy',\n",
    "                  optimizer='adam',\n",
    "                  metrics=['accuracy', kmet.mae])\n",
    "    \n",
    "    model.summary()\n",
    "\n",
    "    \n",
    "    return model"
   ]
  },
  {
   "cell_type": "code",
   "execution_count": 89,
   "metadata": {
    "scrolled": false
   },
   "outputs": [
    {
     "name": "stdout",
     "output_type": "stream",
     "text": [
      "_________________________________________________________________\n",
      "Layer (type)                 Output Shape              Param #   \n",
      "=================================================================\n",
      "melspectrogram_16 (Melspectr (None, 128, 44, 1)        296064    \n",
      "_________________________________________________________________\n",
      "conv1 (Conv2D)               (None, 120, 36, 32)       2624      \n",
      "_________________________________________________________________\n",
      "max_pooling2d_13 (MaxPooling (None, 4, 2, 32)          0         \n",
      "_________________________________________________________________\n",
      "flatten_16 (Flatten)         (None, 256)               0         \n",
      "_________________________________________________________________\n",
      "dense_26 (Dense)             (None, 32)                8224      \n",
      "_________________________________________________________________\n",
      "dropout_13 (Dropout)         (None, 32)                0         \n",
      "_________________________________________________________________\n",
      "dense_27 (Dense)             (None, 1)                 33        \n",
      "=================================================================\n",
      "Total params: 306,945\n",
      "Trainable params: 10,881\n",
      "Non-trainable params: 296,064\n",
      "_________________________________________________________________\n",
      "Train on 9532 samples, validate on 1683 samples\n",
      "Epoch 1/40\n",
      "9532/9532 [==============================] - 7s 751us/step - loss: 0.6692 - acc: 0.6327 - mean_absolute_error: 0.4817 - val_loss: 0.6479 - val_acc: 0.6447 - val_mean_absolute_error: 0.4630\n",
      "Epoch 2/40\n",
      "9532/9532 [==============================] - 4s 454us/step - loss: 0.6341 - acc: 0.6522 - mean_absolute_error: 0.4463 - val_loss: 0.6346 - val_acc: 0.6518 - val_mean_absolute_error: 0.4484\n",
      "Epoch 3/40\n",
      "9532/9532 [==============================] - 4s 451us/step - loss: 0.6192 - acc: 0.6670 - mean_absolute_error: 0.4362 - val_loss: 0.6265 - val_acc: 0.6465 - val_mean_absolute_error: 0.4297\n",
      "Epoch 4/40\n",
      "9532/9532 [==============================] - 5s 481us/step - loss: 0.6028 - acc: 0.6766 - mean_absolute_error: 0.4245 - val_loss: 0.6087 - val_acc: 0.6655 - val_mean_absolute_error: 0.4255\n",
      "Epoch 5/40\n",
      "9532/9532 [==============================] - 5s 481us/step - loss: 0.5886 - acc: 0.6850 - mean_absolute_error: 0.4136 - val_loss: 0.5933 - val_acc: 0.6809 - val_mean_absolute_error: 0.4149\n",
      "Epoch 6/40\n",
      "9532/9532 [==============================] - 4s 448us/step - loss: 0.5738 - acc: 0.6961 - mean_absolute_error: 0.4030 - val_loss: 0.5780 - val_acc: 0.6863 - val_mean_absolute_error: 0.4054\n",
      "Epoch 7/40\n",
      "9532/9532 [==============================] - 5s 481us/step - loss: 0.5617 - acc: 0.7037 - mean_absolute_error: 0.3929 - val_loss: 0.5748 - val_acc: 0.6928 - val_mean_absolute_error: 0.4090\n",
      "Epoch 8/40\n",
      "9532/9532 [==============================] - 4s 441us/step - loss: 0.5491 - acc: 0.7146 - mean_absolute_error: 0.3845 - val_loss: 0.5607 - val_acc: 0.6922 - val_mean_absolute_error: 0.3913\n",
      "Epoch 9/40\n",
      "9532/9532 [==============================] - 4s 443us/step - loss: 0.5389 - acc: 0.7176 - mean_absolute_error: 0.3777 - val_loss: 0.5542 - val_acc: 0.7023 - val_mean_absolute_error: 0.3902\n",
      "Epoch 10/40\n",
      "9532/9532 [==============================] - 5s 481us/step - loss: 0.5350 - acc: 0.7242 - mean_absolute_error: 0.3722 - val_loss: 0.5710 - val_acc: 0.6821 - val_mean_absolute_error: 0.3738\n",
      "Epoch 11/40\n",
      "9532/9532 [==============================] - 4s 452us/step - loss: 0.5262 - acc: 0.7273 - mean_absolute_error: 0.3661 - val_loss: 0.5523 - val_acc: 0.6952 - val_mean_absolute_error: 0.3699\n",
      "Epoch 12/40\n",
      "9532/9532 [==============================] - 4s 472us/step - loss: 0.5211 - acc: 0.7279 - mean_absolute_error: 0.3618 - val_loss: 0.5495 - val_acc: 0.7118 - val_mean_absolute_error: 0.3859\n",
      "Epoch 13/40\n",
      "9532/9532 [==============================] - 4s 440us/step - loss: 0.5122 - acc: 0.7331 - mean_absolute_error: 0.3566 - val_loss: 0.5363 - val_acc: 0.7023 - val_mean_absolute_error: 0.3630\n",
      "Epoch 14/40\n",
      "9532/9532 [==============================] - 5s 484us/step - loss: 0.5030 - acc: 0.7426 - mean_absolute_error: 0.3509 - val_loss: 0.5260 - val_acc: 0.7178 - val_mean_absolute_error: 0.3673\n",
      "Epoch 15/40\n",
      "9532/9532 [==============================] - 4s 435us/step - loss: 0.5016 - acc: 0.7421 - mean_absolute_error: 0.3488 - val_loss: 0.5289 - val_acc: 0.7267 - val_mean_absolute_error: 0.3708\n",
      "Epoch 16/40\n",
      "9532/9532 [==============================] - 4s 463us/step - loss: 0.4978 - acc: 0.7432 - mean_absolute_error: 0.3457 - val_loss: 0.5219 - val_acc: 0.7130 - val_mean_absolute_error: 0.3567\n",
      "Epoch 17/40\n",
      "9532/9532 [==============================] - 4s 472us/step - loss: 0.4880 - acc: 0.7493 - mean_absolute_error: 0.3397 - val_loss: 0.5204 - val_acc: 0.7243 - val_mean_absolute_error: 0.3636\n",
      "Epoch 18/40\n",
      "9532/9532 [==============================] - 4s 449us/step - loss: 0.4879 - acc: 0.7476 - mean_absolute_error: 0.3396 - val_loss: 0.5206 - val_acc: 0.7237 - val_mean_absolute_error: 0.3592\n",
      "Epoch 19/40\n",
      "9532/9532 [==============================] - 5s 478us/step - loss: 0.4766 - acc: 0.7517 - mean_absolute_error: 0.3328 - val_loss: 0.5114 - val_acc: 0.7237 - val_mean_absolute_error: 0.3516\n",
      "Epoch 20/40\n",
      "9532/9532 [==============================] - 4s 446us/step - loss: 0.4789 - acc: 0.7581 - mean_absolute_error: 0.3334 - val_loss: 0.5053 - val_acc: 0.7308 - val_mean_absolute_error: 0.3457\n",
      "Epoch 21/40\n",
      "9532/9532 [==============================] - 5s 480us/step - loss: 0.4673 - acc: 0.7611 - mean_absolute_error: 0.3257 - val_loss: 0.5133 - val_acc: 0.7267 - val_mean_absolute_error: 0.3441\n",
      "Epoch 22/40\n",
      "9532/9532 [==============================] - 4s 446us/step - loss: 0.4626 - acc: 0.7681 - mean_absolute_error: 0.3225 - val_loss: 0.5061 - val_acc: 0.7415 - val_mean_absolute_error: 0.3481\n",
      "Epoch 23/40\n",
      "9532/9532 [==============================] - 5s 478us/step - loss: 0.4543 - acc: 0.7720 - mean_absolute_error: 0.3177 - val_loss: 0.4957 - val_acc: 0.7368 - val_mean_absolute_error: 0.3379\n",
      "Epoch 24/40\n",
      "9532/9532 [==============================] - 4s 445us/step - loss: 0.4560 - acc: 0.7721 - mean_absolute_error: 0.3163 - val_loss: 0.4963 - val_acc: 0.7296 - val_mean_absolute_error: 0.3348\n",
      "Epoch 25/40\n",
      "9532/9532 [==============================] - 4s 436us/step - loss: 0.4431 - acc: 0.7813 - mean_absolute_error: 0.3090 - val_loss: 0.4911 - val_acc: 0.7392 - val_mean_absolute_error: 0.3288\n",
      "Epoch 26/40\n",
      "9532/9532 [==============================] - 5s 479us/step - loss: 0.4415 - acc: 0.7825 - mean_absolute_error: 0.3080 - val_loss: 0.5004 - val_acc: 0.7338 - val_mean_absolute_error: 0.3226\n",
      "Epoch 27/40\n",
      "9532/9532 [==============================] - 4s 452us/step - loss: 0.4358 - acc: 0.7847 - mean_absolute_error: 0.3025 - val_loss: 0.4852 - val_acc: 0.7611 - val_mean_absolute_error: 0.3375\n",
      "Epoch 28/40\n",
      "9532/9532 [==============================] - 4s 468us/step - loss: 0.4319 - acc: 0.7903 - mean_absolute_error: 0.3022 - val_loss: 0.4998 - val_acc: 0.7463 - val_mean_absolute_error: 0.3184\n",
      "Epoch 29/40\n",
      "9532/9532 [==============================] - 4s 427us/step - loss: 0.4271 - acc: 0.7946 - mean_absolute_error: 0.2967 - val_loss: 0.5037 - val_acc: 0.7386 - val_mean_absolute_error: 0.3161\n",
      "Epoch 30/40\n",
      "9532/9532 [==============================] - 4s 447us/step - loss: 0.4246 - acc: 0.7945 - mean_absolute_error: 0.2952 - val_loss: 0.4845 - val_acc: 0.7641 - val_mean_absolute_error: 0.3276\n",
      "Epoch 31/40\n",
      "9532/9532 [==============================] - 5s 473us/step - loss: 0.4143 - acc: 0.8033 - mean_absolute_error: 0.2888 - val_loss: 0.4818 - val_acc: 0.7629 - val_mean_absolute_error: 0.3166\n",
      "Epoch 32/40\n",
      "9532/9532 [==============================] - 4s 436us/step - loss: 0.4150 - acc: 0.7975 - mean_absolute_error: 0.2873 - val_loss: 0.4797 - val_acc: 0.7605 - val_mean_absolute_error: 0.3127\n",
      "Epoch 33/40\n",
      "9532/9532 [==============================] - 5s 488us/step - loss: 0.4159 - acc: 0.8012 - mean_absolute_error: 0.2882 - val_loss: 0.4925 - val_acc: 0.7421 - val_mean_absolute_error: 0.3066\n",
      "Epoch 34/40\n",
      "9532/9532 [==============================] - 4s 435us/step - loss: 0.4004 - acc: 0.8085 - mean_absolute_error: 0.2791 - val_loss: 0.4737 - val_acc: 0.7706 - val_mean_absolute_error: 0.3113\n",
      "Epoch 35/40\n",
      "9532/9532 [==============================] - 4s 435us/step - loss: 0.4011 - acc: 0.8095 - mean_absolute_error: 0.2777 - val_loss: 0.4754 - val_acc: 0.7653 - val_mean_absolute_error: 0.3151\n",
      "Epoch 36/40\n",
      "9532/9532 [==============================] - 5s 485us/step - loss: 0.4018 - acc: 0.8076 - mean_absolute_error: 0.2779 - val_loss: 0.4742 - val_acc: 0.7635 - val_mean_absolute_error: 0.3114\n",
      "Epoch 37/40\n",
      "9532/9532 [==============================] - 4s 440us/step - loss: 0.3918 - acc: 0.8143 - mean_absolute_error: 0.2721 - val_loss: 0.4773 - val_acc: 0.7665 - val_mean_absolute_error: 0.3066\n",
      "Epoch 38/40\n",
      "9532/9532 [==============================] - 4s 435us/step - loss: 0.3926 - acc: 0.8121 - mean_absolute_error: 0.2716 - val_loss: 0.4789 - val_acc: 0.7629 - val_mean_absolute_error: 0.3057\n",
      "Epoch 39/40\n",
      "9532/9532 [==============================] - 4s 462us/step - loss: 0.3837 - acc: 0.8168 - mean_absolute_error: 0.2660 - val_loss: 0.4823 - val_acc: 0.7683 - val_mean_absolute_error: 0.3081\n",
      "Epoch 40/40\n",
      "9532/9532 [==============================] - 4s 432us/step - loss: 0.3833 - acc: 0.8208 - mean_absolute_error: 0.2649 - val_loss: 0.4689 - val_acc: 0.7665 - val_mean_absolute_error: 0.2978\n"
     ]
    }
   ],
   "source": [
    "clas = KerasClassifier(build_fn=gpu_mfcc_shallow_net, epochs=epochs, batch_size=batch, validation_split=0.15)\n",
    "history = clas.fit(train_X, train_y)"
   ]
  },
  {
   "cell_type": "code",
   "execution_count": 90,
   "metadata": {
    "scrolled": true
   },
   "outputs": [
    {
     "data": {
      "image/png": "[encoded data removed]",
      "text/plain": [
       "<Figure size 720x360 with 1 Axes>"
      ]
     },
     "metadata": {
      "needs_background": "light"
     },
     "output_type": "display_data"
    }
   ],
   "source": [
    "plt.figure(figsize=(10, 5))\n",
    "# plt.ylim([0,9])\n",
    "plt.plot(history.history['loss'])\n",
    "plt.plot(history.history['val_loss'])\n",
    "plt.show()"
   ]
  },
  {
   "cell_type": "code",
   "execution_count": 91,
   "metadata": {},
   "outputs": [
    {
     "name": "stdout",
     "output_type": "stream",
     "text": [
      "0.7817403708987162\n",
      "Confusion matrix, without normalization\n",
      "[[ 567  476]\n",
      " [ 136 1625]]\n"
     ]
    },
    {
     "data": {
      "image/png": "[encoded data removed]",
      "text/plain": [
       "<Figure size 720x720 with 2 Axes>"
      ]
     },
     "metadata": {
      "needs_background": "light"
     },
     "output_type": "display_data"
    }
   ],
   "source": [
    "pred = clas.predict(test_X)\n",
    "print(metrics.accuracy_score(test_y, pred))\n",
    "cm = metrics.confusion_matrix(test_y, pred)\n",
    "plt.figure(figsize=(10,10))\n",
    "plot_confusion_matrix(cm, h_classes)\n",
    "plt.show()"
   ]
  },
  {
   "cell_type": "code",
   "execution_count": 86,
   "metadata": {},
   "outputs": [
    {
     "name": "stdout",
     "output_type": "stream",
     "text": [
      "\tProcessing Time: 6.096108675003052\n"
     ]
    },
    {
     "ename": "KeyboardInterrupt",
     "evalue": "",
     "output_type": "error",
     "traceback": [
      "\u001b[0;31m---------------------------------------------------------------------------\u001b[0m",
      "\u001b[0;31mKeyboardInterrupt\u001b[0m                         Traceback (most recent call last)",
      "\u001b[0;32m<ipython-input-86-d5685693adbc>\u001b[0m in \u001b[0;36m<module>\u001b[0;34m\u001b[0m\n\u001b[0;32m----> 1\u001b[0;31m \u001b[0mX2\u001b[0m\u001b[0;34m,\u001b[0m \u001b[0my2\u001b[0m \u001b[0;34m=\u001b[0m \u001b[0mload_fold_audio_blockwise\u001b[0m\u001b[0;34m(\u001b[0m\u001b[0;36m2\u001b[0m\u001b[0;34m,\u001b[0m \u001b[0mdataset\u001b[0m\u001b[0;34m,\u001b[0m \u001b[0;36m11025\u001b[0m\u001b[0;34m,\u001b[0m \u001b[0;36m5512\u001b[0m\u001b[0;34m)\u001b[0m\u001b[0;34m\u001b[0m\u001b[0m\n\u001b[0m\u001b[1;32m      2\u001b[0m \u001b[0mX3\u001b[0m\u001b[0;34m,\u001b[0m \u001b[0my3\u001b[0m \u001b[0;34m=\u001b[0m \u001b[0mload_fold_audio_blockwise\u001b[0m\u001b[0;34m(\u001b[0m\u001b[0;36m3\u001b[0m\u001b[0;34m,\u001b[0m \u001b[0mdataset\u001b[0m\u001b[0;34m,\u001b[0m \u001b[0;36m11025\u001b[0m\u001b[0;34m,\u001b[0m \u001b[0;36m5512\u001b[0m\u001b[0;34m)\u001b[0m\u001b[0;34m\u001b[0m\u001b[0m\n\u001b[1;32m      3\u001b[0m \u001b[0mX4\u001b[0m\u001b[0;34m,\u001b[0m \u001b[0my4\u001b[0m \u001b[0;34m=\u001b[0m \u001b[0mload_fold_audio_blockwise\u001b[0m\u001b[0;34m(\u001b[0m\u001b[0;36m4\u001b[0m\u001b[0;34m,\u001b[0m \u001b[0mdataset\u001b[0m\u001b[0;34m,\u001b[0m \u001b[0;36m11025\u001b[0m\u001b[0;34m,\u001b[0m \u001b[0;36m5512\u001b[0m\u001b[0;34m)\u001b[0m\u001b[0;34m\u001b[0m\u001b[0m\n\u001b[1;32m      4\u001b[0m \u001b[0mX5\u001b[0m\u001b[0;34m,\u001b[0m \u001b[0my5\u001b[0m \u001b[0;34m=\u001b[0m \u001b[0mload_fold_audio_blockwise\u001b[0m\u001b[0;34m(\u001b[0m\u001b[0;36m5\u001b[0m\u001b[0;34m,\u001b[0m \u001b[0mdataset\u001b[0m\u001b[0;34m,\u001b[0m \u001b[0;36m11025\u001b[0m\u001b[0;34m,\u001b[0m \u001b[0;36m5512\u001b[0m\u001b[0;34m)\u001b[0m\u001b[0;34m\u001b[0m\u001b[0m\n",
      "\u001b[0;31mKeyboardInterrupt\u001b[0m: "
     ]
    }
   ],
   "source": [
    "X2, y2 = load_fold_audio_blockwise(2, dataset, 11025, 5512)\n",
    "X3, y3 = load_fold_audio_blockwise(3, dataset, 11025, 5512)\n",
    "X4, y4 = load_fold_audio_blockwise(4, dataset, 11025, 5512)\n",
    "X5, y5 = load_fold_audio_blockwise(5, dataset, 11025, 5512)"
   ]
  },
  {
   "cell_type": "code",
   "execution_count": 56,
   "metadata": {},
   "outputs": [
    {
     "name": "stdout",
     "output_type": "stream",
     "text": [
      "(56774, 1, 11025)\n"
     ]
    }
   ],
   "source": [
    "X = np.vstack((X2, X3, X4, X5))\n",
    "print(X.shape)"
   ]
  },
  {
   "cell_type": "code",
   "execution_count": 57,
   "metadata": {},
   "outputs": [
    {
     "name": "stdout",
     "output_type": "stream",
     "text": [
      "(56774,)\n"
     ]
    }
   ],
   "source": [
    "y = np.concatenate((y2, y3, y4, y5))\n",
    "print(y.shape)"
   ]
  },
  {
   "cell_type": "code",
   "execution_count": 92,
   "metadata": {},
   "outputs": [
    {
     "name": "stdout",
     "output_type": "stream",
     "text": [
      "0.7201359777362878\n",
      "Confusion matrix, without normalization\n",
      "[[ 9732 11372]\n",
      " [ 4517 31153]]\n"
     ]
    },
    {
     "data": {
      "image/png": "[encoded data removed]",
      "text/plain": [
       "<Figure size 720x720 with 2 Axes>"
      ]
     },
     "metadata": {
      "needs_background": "light"
     },
     "output_type": "display_data"
    }
   ],
   "source": [
    "pred = clas.predict(X)\n",
    "print(metrics.accuracy_score(y, pred))\n",
    "cm = metrics.confusion_matrix(y, pred)\n",
    "plt.figure(figsize=(10,10))\n",
    "plot_confusion_matrix(cm, h_classes)\n",
    "plt.show()"
   ]
  },
  {
   "cell_type": "code",
   "execution_count": 22,
   "metadata": {},
   "outputs": [],
   "source": [
    "clas.model.save('mfcc_model.h5')"
   ]
  },
  {
   "cell_type": "code",
   "execution_count": null,
   "metadata": {},
   "outputs": [],
   "source": []
  }
 ],
 "metadata": {
  "kernelspec": {
   "display_name": "Python 3",
   "language": "python",
   "name": "python3"
  },
  "language_info": {
   "codemirror_mode": {
    "name": "ipython",
    "version": 3
   },
   "file_extension": ".py",
   "mimetype": "text/x-python",
   "name": "python",
   "nbconvert_exporter": "python",
   "pygments_lexer": "ipython3",
   "version": "3.5.2"
  }
 },
 "nbformat": 4,
 "nbformat_minor": 2
}
