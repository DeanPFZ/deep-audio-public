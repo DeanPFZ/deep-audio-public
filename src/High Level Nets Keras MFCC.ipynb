{
 "cells": [
  {
   "cell_type": "code",
   "execution_count": 1,
   "metadata": {},
   "outputs": [
    {
     "name": "stderr",
     "output_type": "stream",
     "text": [
      "Using TensorFlow backend.\n"
     ]
    }
   ],
   "source": [
    "import pandas as pd\n",
    "from preprocess import Audio_Processor\n",
    "import data_utils as du\n",
    "from sklearn import metrics\n",
    "from keras.wrappers.scikit_learn import KerasClassifier\n",
    "from classification_plots import plot_confusion_matrix\n",
    "import matplotlib.pyplot as plt"
   ]
  },
  {
   "cell_type": "code",
   "execution_count": 2,
   "metadata": {},
   "outputs": [],
   "source": [
    "import warnings\n",
    "warnings.filterwarnings('ignore')"
   ]
  },
  {
   "cell_type": "markdown",
   "metadata": {},
   "source": [
    "# Setup"
   ]
  },
  {
   "cell_type": "code",
   "execution_count": 3,
   "metadata": {},
   "outputs": [],
   "source": [
    "audio_dir = '../ESC-50/audio/'"
   ]
  },
  {
   "cell_type": "code",
   "execution_count": 4,
   "metadata": {},
   "outputs": [],
   "source": [
    "path_to_db='../ESC-50/'\n",
    "ps = Audio_Processor(path_to_db + 'audio/')"
   ]
  },
  {
   "cell_type": "markdown",
   "metadata": {},
   "source": [
    "# Load Dataset\n",
    "Here we load the csv that describes each file in the dataset. We add a high level category that is defined in the ESC-50 documentation. This we realize is anthetical to true training, it is a stopgap for when we use NLP to classify tags into these categories."
   ]
  },
  {
   "cell_type": "code",
   "execution_count": 5,
   "metadata": {},
   "outputs": [],
   "source": [
    "dataset = pd.read_csv(path_to_db + 'meta/esc50.csv')\n",
    "classes = [None] * 50\n",
    "h_classes = ['animal', 'nature', 'human', 'domestic', 'urban']"
   ]
  },
  {
   "cell_type": "code",
   "execution_count": 6,
   "metadata": {},
   "outputs": [],
   "source": [
    "dataset['h_category'] = None\n",
    "for index, row in dataset.iterrows():\n",
    "    target = row['target']\n",
    "    classes[target] = row['category']\n",
    "    if target < 10:\n",
    "        dataset.loc[index, 'h_category'] = 0\n",
    "    elif target < 20:\n",
    "        dataset.loc[index, 'h_category'] = 1\n",
    "    elif target < 30:\n",
    "        dataset.loc[index, 'h_category'] = 2\n",
    "    elif target < 40:\n",
    "        dataset.loc[index, 'h_category'] = 3\n",
    "    elif target < 50:\n",
    "        dataset.loc[index, 'h_category'] = 4"
   ]
  },
  {
   "cell_type": "code",
   "execution_count": 7,
   "metadata": {},
   "outputs": [
    {
     "data": {
      "text/html": [
       "<div>\n",
       "<style scoped>\n",
       "    .dataframe tbody tr th:only-of-type {\n",
       "        vertical-align: middle;\n",
       "    }\n",
       "\n",
       "    .dataframe tbody tr th {\n",
       "        vertical-align: top;\n",
       "    }\n",
       "\n",
       "    .dataframe thead th {\n",
       "        text-align: right;\n",
       "    }\n",
       "</style>\n",
       "<table border=\"1\" class=\"dataframe\">\n",
       "  <thead>\n",
       "    <tr style=\"text-align: right;\">\n",
       "      <th></th>\n",
       "      <th>filename</th>\n",
       "      <th>fold</th>\n",
       "      <th>target</th>\n",
       "      <th>category</th>\n",
       "      <th>esc10</th>\n",
       "      <th>src_file</th>\n",
       "      <th>take</th>\n",
       "      <th>h_category</th>\n",
       "    </tr>\n",
       "  </thead>\n",
       "  <tbody>\n",
       "    <tr>\n",
       "      <th>0</th>\n",
       "      <td>1-100032-A-0.wav</td>\n",
       "      <td>1</td>\n",
       "      <td>0</td>\n",
       "      <td>dog</td>\n",
       "      <td>True</td>\n",
       "      <td>100032</td>\n",
       "      <td>A</td>\n",
       "      <td>0</td>\n",
       "    </tr>\n",
       "    <tr>\n",
       "      <th>1</th>\n",
       "      <td>1-100038-A-14.wav</td>\n",
       "      <td>1</td>\n",
       "      <td>14</td>\n",
       "      <td>chirping_birds</td>\n",
       "      <td>False</td>\n",
       "      <td>100038</td>\n",
       "      <td>A</td>\n",
       "      <td>1</td>\n",
       "    </tr>\n",
       "    <tr>\n",
       "      <th>2</th>\n",
       "      <td>1-100210-A-36.wav</td>\n",
       "      <td>1</td>\n",
       "      <td>36</td>\n",
       "      <td>vacuum_cleaner</td>\n",
       "      <td>False</td>\n",
       "      <td>100210</td>\n",
       "      <td>A</td>\n",
       "      <td>3</td>\n",
       "    </tr>\n",
       "    <tr>\n",
       "      <th>3</th>\n",
       "      <td>1-100210-B-36.wav</td>\n",
       "      <td>1</td>\n",
       "      <td>36</td>\n",
       "      <td>vacuum_cleaner</td>\n",
       "      <td>False</td>\n",
       "      <td>100210</td>\n",
       "      <td>B</td>\n",
       "      <td>3</td>\n",
       "    </tr>\n",
       "    <tr>\n",
       "      <th>4</th>\n",
       "      <td>1-101296-A-19.wav</td>\n",
       "      <td>1</td>\n",
       "      <td>19</td>\n",
       "      <td>thunderstorm</td>\n",
       "      <td>False</td>\n",
       "      <td>101296</td>\n",
       "      <td>A</td>\n",
       "      <td>1</td>\n",
       "    </tr>\n",
       "  </tbody>\n",
       "</table>\n",
       "</div>"
      ],
      "text/plain": [
       "            filename  fold  target        category  esc10  src_file take  \\\n",
       "0   1-100032-A-0.wav     1       0             dog   True    100032    A   \n",
       "1  1-100038-A-14.wav     1      14  chirping_birds  False    100038    A   \n",
       "2  1-100210-A-36.wav     1      36  vacuum_cleaner  False    100210    A   \n",
       "3  1-100210-B-36.wav     1      36  vacuum_cleaner  False    100210    B   \n",
       "4  1-101296-A-19.wav     1      19    thunderstorm  False    101296    A   \n",
       "\n",
       "   h_category  \n",
       "0           0  \n",
       "1           1  \n",
       "2           3  \n",
       "3           3  \n",
       "4           1  "
      ]
     },
     "execution_count": 7,
     "metadata": {},
     "output_type": "execute_result"
    }
   ],
   "source": [
    "dataset.head()"
   ]
  },
  {
   "cell_type": "markdown",
   "metadata": {},
   "source": [
    "## Getting Preprocessed Data\n",
    "We allow for previously preprocessed data to be retrieved for faster training turnaround. If the fold has been preprocessed, it is loaded but if not it is processed and saved."
   ]
  },
  {
   "cell_type": "code",
   "execution_count": 8,
   "metadata": {},
   "outputs": [],
   "source": [
    "import time\n",
    "import librosa\n",
    "import numpy as np\n",
    "def load_fold_audio(fld, data):\n",
    "    start_time = time.time()\n",
    "    f_df = data[data['fold'] == fld]\n",
    "    items = []\n",
    "    target = []\n",
    "    for i, sample in f_df.iterrows():\n",
    "        y, sr = librosa.load(audio_dir + sample['filename'], sr=44100, mono=True)\n",
    "        len_second = 5.0\n",
    "        y = y[:int(sr*len_second)]\n",
    "        y = y[np.newaxis, :]\n",
    "        items.append(y)\n",
    "        target.append(sample.h_category)\n",
    "    print(\"\\tProcessing Time: \" + str(time.time() - start_time))\n",
    "    return np.array(items), np.array(target)\n",
    "\n",
    "def load_all_audio(data):\n",
    "    start_time = time.time()\n",
    "    items = []\n",
    "    target = []\n",
    "    for i, sample in data.iterrows():\n",
    "        y, sr = librosa.load(audio_dir + sample['filename'], sr=44100, mono=True)\n",
    "        len_second = 5.0\n",
    "        y = y[:int(sr*len_second)]\n",
    "        y = y[np.newaxis, :]\n",
    "        items.append(y)\n",
    "        target.append(sample.h_category)\n",
    "    print(\"\\tProcessing Time: \" + str(time.time() - start_time))\n",
    "    return np.array(items), np.array(target)"
   ]
  },
  {
   "cell_type": "code",
   "execution_count": 9,
   "metadata": {},
   "outputs": [
    {
     "name": "stdout",
     "output_type": "stream",
     "text": [
      "\tProcessing Time: 19.856475114822388\n"
     ]
    }
   ],
   "source": [
    "c_data, targets = load_all_audio(dataset)"
   ]
  },
  {
   "cell_type": "code",
   "execution_count": 10,
   "metadata": {},
   "outputs": [],
   "source": [
    "from sklearn.model_selection import train_test_split\n",
    "train_X, test_X, train_y, test_y = train_test_split(\n",
    "                        c_data, targets, test_size=0.33, random_state=42)"
   ]
  },
  {
   "cell_type": "markdown",
   "metadata": {},
   "source": [
    "## High-Level Shallow Nets\n",
    "Train binary shallow nets for high level categories(animals, natural, human, domestic, urban)"
   ]
  },
  {
   "cell_type": "code",
   "execution_count": 11,
   "metadata": {},
   "outputs": [],
   "source": [
    "from keras.models import Sequential\n",
    "from keras.layers import Dense, Dropout, Convolution2D, MaxPooling2D, Flatten\n",
    "import keras.metrics as kmet\n",
    "from kapre.time_frequency import Melspectrogram, Spectrogram\n",
    "from kapre.utils import Normalization2D\n",
    "from kapre.augmentation import AdditiveNoise\n",
    "\n",
    "def gpu_mfcc_shallow_net():\n",
    "    # Create Model\n",
    "    model = Sequential()\n",
    "    model.add(Melspectrogram(sr=44100, input_shape=(1, 220500)))\n",
    "    model.add(Convolution2D(32, 3, 3, name='conv1', activation='relu'))\n",
    "    model.add(MaxPooling2D((25, 17)))\n",
    "    model.add(Flatten())\n",
    "    model.add(Dense(38, activation='relu', input_shape=(128,)))\n",
    "    model.add(Dropout(0.2))\n",
    "    model.add(Dense(5, kernel_initializer='normal', activation='sigmoid'))\n",
    "    \n",
    "    model.summary()\n",
    "    \n",
    "    # Compile model\n",
    "    model.compile(loss='categorical_crossentropy',\n",
    "                  optimizer='rmsprop',\n",
    "                  metrics=[kmet.mae, kmet.categorical_accuracy])\n",
    "    return model"
   ]
  },
  {
   "cell_type": "code",
   "execution_count": 12,
   "metadata": {
    "scrolled": true
   },
   "outputs": [
    {
     "name": "stdout",
     "output_type": "stream",
     "text": [
      "WARNING:tensorflow:From /usr/local/lib/python3.5/dist-packages/tensorflow/python/framework/op_def_library.py:263: colocate_with (from tensorflow.python.framework.ops) is deprecated and will be removed in a future version.\n",
      "Instructions for updating:\n",
      "Colocations handled automatically by placer.\n",
      "_________________________________________________________________\n",
      "Layer (type)                 Output Shape              Param #   \n",
      "=================================================================\n",
      "melspectrogram_1 (Melspectro (None, 128, 862, 1)       296064    \n",
      "_________________________________________________________________\n",
      "conv1 (Conv2D)               (None, 126, 860, 32)      320       \n",
      "_________________________________________________________________\n",
      "max_pooling2d_1 (MaxPooling2 (None, 5, 50, 32)         0         \n",
      "_________________________________________________________________\n",
      "flatten_1 (Flatten)          (None, 8000)              0         \n",
      "_________________________________________________________________\n",
      "dense_1 (Dense)              (None, 38)                304038    \n",
      "_________________________________________________________________\n",
      "dropout_1 (Dropout)          (None, 38)                0         \n",
      "_________________________________________________________________\n",
      "dense_2 (Dense)              (None, 5)                 195       \n",
      "=================================================================\n",
      "Total params: 600,617\n",
      "Trainable params: 304,553\n",
      "Non-trainable params: 296,064\n",
      "_________________________________________________________________\n",
      "Epoch 1/20\n",
      "1340/1340 [==============================] - 18s 14ms/step - loss: 1.5158 - mean_absolute_error: 0.4468 - categorical_accuracy: 0.3418\n",
      "Epoch 2/20\n",
      "1340/1340 [==============================] - 10s 8ms/step - loss: 1.4252 - mean_absolute_error: 0.3853 - categorical_accuracy: 0.3985\n",
      "Epoch 3/20\n",
      "1340/1340 [==============================] - 10s 7ms/step - loss: 1.3679 - mean_absolute_error: 0.3577 - categorical_accuracy: 0.4052\n",
      "Epoch 4/20\n",
      "1340/1340 [==============================] - 10s 7ms/step - loss: 1.2990 - mean_absolute_error: 0.3204 - categorical_accuracy: 0.4410\n",
      "Epoch 5/20\n",
      "1340/1340 [==============================] - 10s 8ms/step - loss: 1.2470 - mean_absolute_error: 0.2909 - categorical_accuracy: 0.4716\n",
      "Epoch 6/20\n",
      "1340/1340 [==============================] - 10s 8ms/step - loss: 1.2115 - mean_absolute_error: 0.2832 - categorical_accuracy: 0.4813\n",
      "Epoch 7/20\n",
      "1340/1340 [==============================] - 10s 7ms/step - loss: 1.1679 - mean_absolute_error: 0.2680 - categorical_accuracy: 0.5149\n",
      "Epoch 8/20\n",
      "1340/1340 [==============================] - 10s 7ms/step - loss: 1.1244 - mean_absolute_error: 0.2537 - categorical_accuracy: 0.5142\n",
      "Epoch 9/20\n",
      "1340/1340 [==============================] - 10s 7ms/step - loss: 1.0974 - mean_absolute_error: 0.2508 - categorical_accuracy: 0.5246\n",
      "Epoch 10/20\n",
      "1340/1340 [==============================] - 10s 7ms/step - loss: 1.0696 - mean_absolute_error: 0.2377 - categorical_accuracy: 0.5575\n",
      "Epoch 11/20\n",
      "1340/1340 [==============================] - 10s 7ms/step - loss: 1.0201 - mean_absolute_error: 0.2281 - categorical_accuracy: 0.5828\n",
      "Epoch 12/20\n",
      "1340/1340 [==============================] - 10s 7ms/step - loss: 1.0066 - mean_absolute_error: 0.2243 - categorical_accuracy: 0.5985\n",
      "Epoch 13/20\n",
      "1340/1340 [==============================] - 10s 7ms/step - loss: 0.9759 - mean_absolute_error: 0.2153 - categorical_accuracy: 0.6104\n",
      "Epoch 14/20\n",
      "1340/1340 [==============================] - 10s 7ms/step - loss: 0.9418 - mean_absolute_error: 0.2100 - categorical_accuracy: 0.6201\n",
      "Epoch 15/20\n",
      "1340/1340 [==============================] - 10s 7ms/step - loss: 0.9151 - mean_absolute_error: 0.2084 - categorical_accuracy: 0.6291\n",
      "Epoch 16/20\n",
      "1340/1340 [==============================] - 10s 7ms/step - loss: 0.8928 - mean_absolute_error: 0.2034 - categorical_accuracy: 0.6403\n",
      "Epoch 17/20\n",
      "1340/1340 [==============================] - 10s 8ms/step - loss: 0.8608 - mean_absolute_error: 0.1995 - categorical_accuracy: 0.6530\n",
      "Epoch 18/20\n",
      "1340/1340 [==============================] - 10s 7ms/step - loss: 0.8459 - mean_absolute_error: 0.1977 - categorical_accuracy: 0.6507\n",
      "Epoch 19/20\n",
      "1340/1340 [==============================] - 10s 7ms/step - loss: 0.7971 - mean_absolute_error: 0.1933 - categorical_accuracy: 0.6813\n",
      "Epoch 20/20\n",
      "1340/1340 [==============================] - 10s 7ms/step - loss: 0.8053 - mean_absolute_error: 0.1911 - categorical_accuracy: 0.6672\n"
     ]
    },
    {
     "data": {
      "text/plain": [
       "<keras.callbacks.History at 0x7fc07fa85908>"
      ]
     },
     "execution_count": 12,
     "metadata": {},
     "output_type": "execute_result"
    }
   ],
   "source": [
    "clas = KerasClassifier(build_fn=gpu_mfcc_shallow_net, epochs=20, batch_size=20, verbose=1)\n",
    "clas.fit(train_X, train_y)"
   ]
  },
  {
   "cell_type": "code",
   "execution_count": 13,
   "metadata": {},
   "outputs": [
    {
     "name": "stdout",
     "output_type": "stream",
     "text": [
      "660/660 [==============================] - 5s 7ms/step\n",
      "0.48484848484848486\n",
      "Confusion matrix, without normalization\n",
      "[[73  4 12  7 39]\n",
      " [ 3 39 10 45 34]\n",
      " [18 19 42 34 18]\n",
      " [ 6 15 10 91 23]\n",
      " [16 11  4 12 75]]\n"
     ]
    },
    {
     "data": {
      "image/png": "[encoded data removed]",
      "text/plain": [
       "<Figure size 720x720 with 2 Axes>"
      ]
     },
     "metadata": {
      "needs_background": "light"
     },
     "output_type": "display_data"
    }
   ],
   "source": [
    "pred = clas.predict(test_X)\n",
    "print(metrics.accuracy_score(test_y, pred))\n",
    "cm = metrics.confusion_matrix(test_y, pred)\n",
    "plt.figure(figsize=(10,10))\n",
    "plot_confusion_matrix(cm, h_classes)\n",
    "plt.show()"
   ]
  },
  {
   "cell_type": "code",
   "execution_count": null,
   "metadata": {},
   "outputs": [],
   "source": []
  }
 ],
 "metadata": {
  "kernelspec": {
   "display_name": "Python 3",
   "language": "python",
   "name": "python3"
  },
  "language_info": {
   "codemirror_mode": {
    "name": "ipython",
    "version": 3
   },
   "file_extension": ".py",
   "mimetype": "text/x-python",
   "name": "python",
   "nbconvert_exporter": "python",
   "pygments_lexer": "ipython3",
   "version": "3.5.2"
  }
 },
 "nbformat": 4,
 "nbformat_minor": 2
}
