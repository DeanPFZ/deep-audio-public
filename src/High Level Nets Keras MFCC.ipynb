{
 "cells": [
  {
   "cell_type": "code",
   "execution_count": 1,
   "metadata": {},
   "outputs": [
    {
     "name": "stderr",
     "output_type": "stream",
     "text": [
      "Using TensorFlow backend.\n"
     ]
    }
   ],
   "source": [
    "import pandas as pd\n",
    "from preprocess import Audio_Processor\n",
    "import data_utils as du\n",
    "from sklearn import metrics\n",
    "from keras.wrappers.scikit_learn import KerasClassifier\n",
    "from classification_plots import plot_confusion_matrix\n",
    "import matplotlib.pyplot as plt"
   ]
  },
  {
   "cell_type": "code",
   "execution_count": 2,
   "metadata": {},
   "outputs": [],
   "source": [
    "import warnings\n",
    "warnings.filterwarnings('ignore')"
   ]
  },
  {
   "cell_type": "markdown",
   "metadata": {},
   "source": [
    "# Setup"
   ]
  },
  {
   "cell_type": "code",
   "execution_count": 3,
   "metadata": {},
   "outputs": [],
   "source": [
    "audio_dir = '../ESC-50/audio/'"
   ]
  },
  {
   "cell_type": "code",
   "execution_count": 4,
   "metadata": {},
   "outputs": [],
   "source": [
    "path_to_db='../ESC-50/'\n",
    "ps = Audio_Processor(path_to_db + 'audio/')"
   ]
  },
  {
   "cell_type": "markdown",
   "metadata": {},
   "source": [
    "# Load Dataset\n",
    "Here we load the csv that describes each file in the dataset. We add a high level category that is defined in the ESC-50 documentation. This we realize is anthetical to true training, it is a stopgap for when we use NLP to classify tags into these categories."
   ]
  },
  {
   "cell_type": "code",
   "execution_count": 5,
   "metadata": {},
   "outputs": [],
   "source": [
    "dataset = pd.read_csv(path_to_db + 'meta/esc50.csv')\n",
    "classes = [None] * 50\n",
    "h_classes = ['animal', 'nature', 'human', 'domestic', 'urban']"
   ]
  },
  {
   "cell_type": "code",
   "execution_count": 6,
   "metadata": {},
   "outputs": [],
   "source": [
    "dataset['h_category'] = None\n",
    "for index, row in dataset.iterrows():\n",
    "    target = row['target']\n",
    "    classes[target] = row['category']\n",
    "    if target < 10:\n",
    "        dataset.loc[index, 'h_category'] = 0\n",
    "    elif target < 20:\n",
    "        dataset.loc[index, 'h_category'] = 1\n",
    "    elif target < 30:\n",
    "        dataset.loc[index, 'h_category'] = 2\n",
    "    elif target < 40:\n",
    "        dataset.loc[index, 'h_category'] = 3\n",
    "    elif target < 50:\n",
    "        dataset.loc[index, 'h_category'] = 4"
   ]
  },
  {
   "cell_type": "code",
   "execution_count": 7,
   "metadata": {},
   "outputs": [
    {
     "data": {
      "text/html": [
       "<div>\n",
       "<style scoped>\n",
       "    .dataframe tbody tr th:only-of-type {\n",
       "        vertical-align: middle;\n",
       "    }\n",
       "\n",
       "    .dataframe tbody tr th {\n",
       "        vertical-align: top;\n",
       "    }\n",
       "\n",
       "    .dataframe thead th {\n",
       "        text-align: right;\n",
       "    }\n",
       "</style>\n",
       "<table border=\"1\" class=\"dataframe\">\n",
       "  <thead>\n",
       "    <tr style=\"text-align: right;\">\n",
       "      <th></th>\n",
       "      <th>filename</th>\n",
       "      <th>fold</th>\n",
       "      <th>target</th>\n",
       "      <th>category</th>\n",
       "      <th>esc10</th>\n",
       "      <th>src_file</th>\n",
       "      <th>take</th>\n",
       "      <th>h_category</th>\n",
       "    </tr>\n",
       "  </thead>\n",
       "  <tbody>\n",
       "    <tr>\n",
       "      <th>0</th>\n",
       "      <td>1-100032-A-0.wav</td>\n",
       "      <td>1</td>\n",
       "      <td>0</td>\n",
       "      <td>dog</td>\n",
       "      <td>True</td>\n",
       "      <td>100032</td>\n",
       "      <td>A</td>\n",
       "      <td>0</td>\n",
       "    </tr>\n",
       "    <tr>\n",
       "      <th>1</th>\n",
       "      <td>1-100038-A-14.wav</td>\n",
       "      <td>1</td>\n",
       "      <td>14</td>\n",
       "      <td>chirping_birds</td>\n",
       "      <td>False</td>\n",
       "      <td>100038</td>\n",
       "      <td>A</td>\n",
       "      <td>1</td>\n",
       "    </tr>\n",
       "    <tr>\n",
       "      <th>2</th>\n",
       "      <td>1-100210-A-36.wav</td>\n",
       "      <td>1</td>\n",
       "      <td>36</td>\n",
       "      <td>vacuum_cleaner</td>\n",
       "      <td>False</td>\n",
       "      <td>100210</td>\n",
       "      <td>A</td>\n",
       "      <td>3</td>\n",
       "    </tr>\n",
       "    <tr>\n",
       "      <th>3</th>\n",
       "      <td>1-100210-B-36.wav</td>\n",
       "      <td>1</td>\n",
       "      <td>36</td>\n",
       "      <td>vacuum_cleaner</td>\n",
       "      <td>False</td>\n",
       "      <td>100210</td>\n",
       "      <td>B</td>\n",
       "      <td>3</td>\n",
       "    </tr>\n",
       "    <tr>\n",
       "      <th>4</th>\n",
       "      <td>1-101296-A-19.wav</td>\n",
       "      <td>1</td>\n",
       "      <td>19</td>\n",
       "      <td>thunderstorm</td>\n",
       "      <td>False</td>\n",
       "      <td>101296</td>\n",
       "      <td>A</td>\n",
       "      <td>1</td>\n",
       "    </tr>\n",
       "  </tbody>\n",
       "</table>\n",
       "</div>"
      ],
      "text/plain": [
       "            filename  fold  target        category  esc10  src_file take  \\\n",
       "0   1-100032-A-0.wav     1       0             dog   True    100032    A   \n",
       "1  1-100038-A-14.wav     1      14  chirping_birds  False    100038    A   \n",
       "2  1-100210-A-36.wav     1      36  vacuum_cleaner  False    100210    A   \n",
       "3  1-100210-B-36.wav     1      36  vacuum_cleaner  False    100210    B   \n",
       "4  1-101296-A-19.wav     1      19    thunderstorm  False    101296    A   \n",
       "\n",
       "   h_category  \n",
       "0           0  \n",
       "1           1  \n",
       "2           3  \n",
       "3           3  \n",
       "4           1  "
      ]
     },
     "execution_count": 7,
     "metadata": {},
     "output_type": "execute_result"
    }
   ],
   "source": [
    "dataset.head()"
   ]
  },
  {
   "cell_type": "markdown",
   "metadata": {},
   "source": [
    "## Getting Preprocessed Data\n",
    "We allow for previously preprocessed data to be retrieved for faster training turnaround. If the fold has been preprocessed, it is loaded but if not it is processed and saved."
   ]
  },
  {
   "cell_type": "code",
   "execution_count": 8,
   "metadata": {},
   "outputs": [],
   "source": [
    "import time\n",
    "import librosa\n",
    "import numpy as np\n",
    "def load_fold_audio(fld, data):\n",
    "    start_time = time.time()\n",
    "    f_df = data[data['fold'] == fld]\n",
    "    items = []\n",
    "    target = []\n",
    "    for i, sample in f_df.iterrows():\n",
    "        y, sr = librosa.load(audio_dir + sample['filename'], sr=44100, mono=True)\n",
    "        len_second = 1.0\n",
    "        y = y[:int(sr*len_second)]\n",
    "        y = y[np.newaxis, :]\n",
    "        items.append(y)\n",
    "        target.append(sample.h_category)\n",
    "    print(\"\\tProcessing Time: \" + str(time.time() - start_time))\n",
    "    return np.array(items), np.array(target)\n",
    "\n",
    "def load_all_audio(data):\n",
    "    start_time = time.time()\n",
    "    items = []\n",
    "    target = []\n",
    "    for i, sample in data.iterrows():\n",
    "        y, sr = librosa.load(audio_dir + sample['filename'], sr=44100, mono=True)\n",
    "        len_second = 1.0\n",
    "        y = y[:int(sr*len_second)]\n",
    "        y = y[np.newaxis, :]\n",
    "        items.append(y)\n",
    "        target.append(sample.h_category)\n",
    "    print(\"\\tProcessing Time: \" + str(time.time() - start_time))\n",
    "    return np.array(items), np.array(target)"
   ]
  },
  {
   "cell_type": "code",
   "execution_count": 9,
   "metadata": {},
   "outputs": [
    {
     "name": "stdout",
     "output_type": "stream",
     "text": [
      "\tProcessing Time: 18.885201454162598\n"
     ]
    }
   ],
   "source": [
    "c_data, targets = load_all_audio(dataset)"
   ]
  },
  {
   "cell_type": "code",
   "execution_count": 10,
   "metadata": {},
   "outputs": [],
   "source": [
    "from sklearn.model_selection import train_test_split\n",
    "train_X, test_X, train_y, test_y = train_test_split(\n",
    "                        c_data, targets, test_size=0.33, random_state=42)"
   ]
  },
  {
   "cell_type": "markdown",
   "metadata": {},
   "source": [
    "## High-Level Shallow Nets\n",
    "Train binary shallow nets for high level categories(animals, natural, human, domestic, urban)"
   ]
  },
  {
   "cell_type": "code",
   "execution_count": 11,
   "metadata": {},
   "outputs": [],
   "source": [
    "from keras.models import Sequential\n",
    "from keras.layers import Dense, Dropout, Convolution2D, MaxPooling2D, Flatten\n",
    "from kapre.time_frequency import Melspectrogram, Spectrogram\n",
    "from kapre.utils import Normalization2D\n",
    "from kapre.augmentation import AdditiveNoise\n",
    "\n",
    "def gpu_mfcc_shallow_net():\n",
    "    # Create Model\n",
    "    model = Sequential()\n",
    "    model.add(Melspectrogram(input_shape=(1, 44100)))\n",
    "    model.add(Convolution2D(32, (3,3), name='conv1', activation='relu'))\n",
    "    model.add(MaxPooling2D((25, 17)))\n",
    "    model.add(Flatten())\n",
    "    model.add(Dense(38, activation='relu', input_shape=(128,)))\n",
    "    model.add(Dropout(0.2))\n",
    "    model.add(Dense(5, kernel_initializer='normal', activation='softmax'))\n",
    "    \n",
    "    model.summary()\n",
    "    \n",
    "    # Compile model\n",
    "    model.compile(loss='categorical_crossentropy',\n",
    "                  optimizer='adam')\n",
    "    return model"
   ]
  },
  {
   "cell_type": "code",
   "execution_count": 12,
   "metadata": {
    "scrolled": false
   },
   "outputs": [
    {
     "name": "stdout",
     "output_type": "stream",
     "text": [
      "WARNING:tensorflow:From /usr/local/lib/python3.5/dist-packages/tensorflow/python/framework/op_def_library.py:263: colocate_with (from tensorflow.python.framework.ops) is deprecated and will be removed in a future version.\n",
      "Instructions for updating:\n",
      "Colocations handled automatically by placer.\n",
      "_________________________________________________________________\n",
      "Layer (type)                 Output Shape              Param #   \n",
      "=================================================================\n",
      "melspectrogram_1 (Melspectro (None, 128, 173, 1)       296064    \n",
      "_________________________________________________________________\n",
      "conv1 (Conv2D)               (None, 126, 171, 32)      320       \n",
      "_________________________________________________________________\n",
      "max_pooling2d_1 (MaxPooling2 (None, 5, 10, 32)         0         \n",
      "_________________________________________________________________\n",
      "flatten_1 (Flatten)          (None, 1600)              0         \n",
      "_________________________________________________________________\n",
      "dense_1 (Dense)              (None, 38)                60838     \n",
      "_________________________________________________________________\n",
      "dropout_1 (Dropout)          (None, 38)                0         \n",
      "_________________________________________________________________\n",
      "dense_2 (Dense)              (None, 5)                 195       \n",
      "=================================================================\n",
      "Total params: 357,417\n",
      "Trainable params: 61,353\n",
      "Non-trainable params: 296,064\n",
      "_________________________________________________________________\n",
      "Epoch 1/100\n",
      "1340/1340 [==============================] - 9s 7ms/step - loss: 1.5577\n",
      "Epoch 2/100\n",
      "1340/1340 [==============================] - 2s 1ms/step - loss: 1.4702\n",
      "Epoch 3/100\n",
      "1340/1340 [==============================] - 2s 1ms/step - loss: 1.4207\n",
      "Epoch 4/100\n",
      "1340/1340 [==============================] - 2s 1ms/step - loss: 1.3831\n",
      "Epoch 5/100\n",
      "1340/1340 [==============================] - 2s 1ms/step - loss: 1.3445\n",
      "Epoch 6/100\n",
      "1340/1340 [==============================] - 2s 1ms/step - loss: 1.3273\n",
      "Epoch 7/100\n",
      "1340/1340 [==============================] - 2s 1ms/step - loss: 1.2882\n",
      "Epoch 8/100\n",
      "1340/1340 [==============================] - 2s 1ms/step - loss: 1.2653\n",
      "Epoch 9/100\n",
      "1340/1340 [==============================] - 2s 1ms/step - loss: 1.2412\n",
      "Epoch 10/100\n",
      "1340/1340 [==============================] - 2s 1ms/step - loss: 1.2158\n",
      "Epoch 11/100\n",
      "1340/1340 [==============================] - 2s 1ms/step - loss: 1.2094\n",
      "Epoch 12/100\n",
      "1340/1340 [==============================] - 2s 1ms/step - loss: 1.1831\n",
      "Epoch 13/100\n",
      "1340/1340 [==============================] - 2s 1ms/step - loss: 1.1763\n",
      "Epoch 14/100\n",
      "1340/1340 [==============================] - 2s 1ms/step - loss: 1.1523\n",
      "Epoch 15/100\n",
      "1340/1340 [==============================] - 2s 1ms/step - loss: 1.1205\n",
      "Epoch 16/100\n",
      "1340/1340 [==============================] - 2s 1ms/step - loss: 1.1201\n",
      "Epoch 17/100\n",
      "1340/1340 [==============================] - 2s 1ms/step - loss: 1.0786\n",
      "Epoch 18/100\n",
      "1340/1340 [==============================] - 2s 1ms/step - loss: 1.0578\n",
      "Epoch 19/100\n",
      "1340/1340 [==============================] - 2s 1ms/step - loss: 1.0585\n",
      "Epoch 20/100\n",
      "1340/1340 [==============================] - 2s 1ms/step - loss: 1.0257\n",
      "Epoch 21/100\n",
      "1340/1340 [==============================] - 2s 1ms/step - loss: 1.0349\n",
      "Epoch 22/100\n",
      "1340/1340 [==============================] - 2s 1ms/step - loss: 1.0084\n",
      "Epoch 23/100\n",
      "1340/1340 [==============================] - 2s 1ms/step - loss: 0.9829\n",
      "Epoch 24/100\n",
      "1340/1340 [==============================] - 2s 1ms/step - loss: 0.9478\n",
      "Epoch 25/100\n",
      "1340/1340 [==============================] - 2s 1ms/step - loss: 0.9527\n",
      "Epoch 26/100\n",
      "1340/1340 [==============================] - 2s 1ms/step - loss: 0.9328\n",
      "Epoch 27/100\n",
      "1340/1340 [==============================] - 2s 1ms/step - loss: 0.9197\n",
      "Epoch 28/100\n",
      "1340/1340 [==============================] - 2s 1ms/step - loss: 0.9092\n",
      "Epoch 29/100\n",
      "1340/1340 [==============================] - 2s 1ms/step - loss: 0.8887\n",
      "Epoch 30/100\n",
      "1340/1340 [==============================] - 2s 1ms/step - loss: 0.8728\n",
      "Epoch 31/100\n",
      "1340/1340 [==============================] - 2s 1ms/step - loss: 0.8688\n",
      "Epoch 32/100\n",
      "1340/1340 [==============================] - 2s 1ms/step - loss: 0.8625\n",
      "Epoch 33/100\n",
      "1340/1340 [==============================] - 2s 1ms/step - loss: 0.8793\n",
      "Epoch 34/100\n",
      "1340/1340 [==============================] - 2s 1ms/step - loss: 0.8529\n",
      "Epoch 35/100\n",
      "1340/1340 [==============================] - 2s 1ms/step - loss: 0.8293\n",
      "Epoch 36/100\n",
      "1340/1340 [==============================] - 2s 1ms/step - loss: 0.8116\n",
      "Epoch 37/100\n",
      "1340/1340 [==============================] - 2s 1ms/step - loss: 0.7882\n",
      "Epoch 38/100\n",
      "1340/1340 [==============================] - 2s 1ms/step - loss: 0.7759\n",
      "Epoch 39/100\n",
      "1340/1340 [==============================] - 2s 1ms/step - loss: 0.7983\n",
      "Epoch 40/100\n",
      "1340/1340 [==============================] - 2s 1ms/step - loss: 0.7713\n",
      "Epoch 41/100\n",
      "1340/1340 [==============================] - 2s 1ms/step - loss: 0.7456\n",
      "Epoch 42/100\n",
      "1340/1340 [==============================] - 2s 1ms/step - loss: 0.7605\n",
      "Epoch 43/100\n",
      "1340/1340 [==============================] - 2s 1ms/step - loss: 0.7377\n",
      "Epoch 44/100\n",
      "1340/1340 [==============================] - 2s 1ms/step - loss: 0.7341\n",
      "Epoch 45/100\n",
      "1340/1340 [==============================] - 2s 1ms/step - loss: 0.7328\n",
      "Epoch 46/100\n",
      "1340/1340 [==============================] - 2s 1ms/step - loss: 0.7234\n",
      "Epoch 47/100\n",
      "1340/1340 [==============================] - 2s 1ms/step - loss: 0.6795\n",
      "Epoch 48/100\n",
      "1340/1340 [==============================] - 2s 1ms/step - loss: 0.6817\n",
      "Epoch 49/100\n",
      "1340/1340 [==============================] - 2s 1ms/step - loss: 0.6752\n",
      "Epoch 50/100\n",
      "1340/1340 [==============================] - 2s 1ms/step - loss: 0.6981\n",
      "Epoch 51/100\n",
      "1340/1340 [==============================] - 2s 1ms/step - loss: 0.6772\n",
      "Epoch 52/100\n",
      "1340/1340 [==============================] - 2s 1ms/step - loss: 0.6417\n",
      "Epoch 53/100\n",
      "1340/1340 [==============================] - 2s 1ms/step - loss: 0.6539\n",
      "Epoch 54/100\n",
      "1340/1340 [==============================] - 2s 1ms/step - loss: 0.6406\n",
      "Epoch 55/100\n",
      "1340/1340 [==============================] - 2s 1ms/step - loss: 0.6214\n",
      "Epoch 56/100\n",
      "1340/1340 [==============================] - 2s 1ms/step - loss: 0.6177\n",
      "Epoch 57/100\n",
      "1340/1340 [==============================] - 2s 1ms/step - loss: 0.5978\n",
      "Epoch 58/100\n",
      "1340/1340 [==============================] - 2s 1ms/step - loss: 0.6228\n",
      "Epoch 59/100\n",
      "1340/1340 [==============================] - 2s 1ms/step - loss: 0.6242\n",
      "Epoch 60/100\n",
      "1340/1340 [==============================] - 2s 1ms/step - loss: 0.6325\n",
      "Epoch 61/100\n",
      "1340/1340 [==============================] - 2s 1ms/step - loss: 0.6076\n",
      "Epoch 62/100\n",
      "1340/1340 [==============================] - 2s 1ms/step - loss: 0.5920\n",
      "Epoch 63/100\n",
      "1340/1340 [==============================] - 2s 1ms/step - loss: 0.5722\n",
      "Epoch 64/100\n",
      "1340/1340 [==============================] - 2s 1ms/step - loss: 0.5753\n",
      "Epoch 65/100\n",
      "1340/1340 [==============================] - 2s 1ms/step - loss: 0.5618\n",
      "Epoch 66/100\n",
      "1340/1340 [==============================] - 2s 1ms/step - loss: 0.5624\n",
      "Epoch 67/100\n",
      "1340/1340 [==============================] - 2s 1ms/step - loss: 0.5671\n",
      "Epoch 68/100\n",
      "1340/1340 [==============================] - 2s 1ms/step - loss: 0.5675\n",
      "Epoch 69/100\n",
      "1340/1340 [==============================] - 2s 1ms/step - loss: 0.5363\n",
      "Epoch 70/100\n",
      "1340/1340 [==============================] - 2s 1ms/step - loss: 0.5335\n",
      "Epoch 71/100\n",
      "1340/1340 [==============================] - 2s 1ms/step - loss: 0.5379\n",
      "Epoch 72/100\n",
      "1340/1340 [==============================] - 2s 1ms/step - loss: 0.5292\n",
      "Epoch 73/100\n",
      "1340/1340 [==============================] - 2s 1ms/step - loss: 0.5254\n",
      "Epoch 74/100\n",
      "1340/1340 [==============================] - 2s 1ms/step - loss: 0.5652\n",
      "Epoch 75/100\n",
      "1340/1340 [==============================] - 2s 1ms/step - loss: 0.5006\n",
      "Epoch 76/100\n",
      "1340/1340 [==============================] - 2s 1ms/step - loss: 0.5127\n",
      "Epoch 77/100\n",
      "1340/1340 [==============================] - 2s 1ms/step - loss: 0.5231\n",
      "Epoch 78/100\n",
      "1340/1340 [==============================] - 2s 1ms/step - loss: 0.5091\n",
      "Epoch 79/100\n"
     ]
    },
    {
     "name": "stdout",
     "output_type": "stream",
     "text": [
      "1340/1340 [==============================] - 2s 1ms/step - loss: 0.4771\n",
      "Epoch 80/100\n",
      "1340/1340 [==============================] - 2s 1ms/step - loss: 0.4733\n",
      "Epoch 81/100\n",
      "1340/1340 [==============================] - 2s 1ms/step - loss: 0.5033\n",
      "Epoch 82/100\n",
      "1340/1340 [==============================] - 2s 1ms/step - loss: 0.4707\n",
      "Epoch 83/100\n",
      "1340/1340 [==============================] - 2s 1ms/step - loss: 0.4802\n",
      "Epoch 84/100\n",
      "1340/1340 [==============================] - 2s 1ms/step - loss: 0.4809\n",
      "Epoch 85/100\n",
      "1340/1340 [==============================] - 2s 1ms/step - loss: 0.4684\n",
      "Epoch 86/100\n",
      "1340/1340 [==============================] - 2s 1ms/step - loss: 0.4998\n",
      "Epoch 87/100\n",
      "1340/1340 [==============================] - 2s 1ms/step - loss: 0.4655\n",
      "Epoch 88/100\n",
      "1340/1340 [==============================] - 2s 1ms/step - loss: 0.4632\n",
      "Epoch 89/100\n",
      "1340/1340 [==============================] - 2s 1ms/step - loss: 0.4626\n",
      "Epoch 90/100\n",
      "1340/1340 [==============================] - 2s 1ms/step - loss: 0.4531\n",
      "Epoch 91/100\n",
      "1340/1340 [==============================] - 2s 1ms/step - loss: 0.4278\n",
      "Epoch 92/100\n",
      "1340/1340 [==============================] - 2s 1ms/step - loss: 0.4527\n",
      "Epoch 93/100\n",
      "1340/1340 [==============================] - 2s 1ms/step - loss: 0.4375\n",
      "Epoch 94/100\n",
      "1340/1340 [==============================] - 2s 1ms/step - loss: 0.4469\n",
      "Epoch 95/100\n",
      "1340/1340 [==============================] - 2s 1ms/step - loss: 0.4357\n",
      "Epoch 96/100\n",
      "1340/1340 [==============================] - 2s 1ms/step - loss: 0.4309\n",
      "Epoch 97/100\n",
      "1340/1340 [==============================] - 2s 1ms/step - loss: 0.4459\n",
      "Epoch 98/100\n",
      "1340/1340 [==============================] - 2s 1ms/step - loss: 0.4143\n",
      "Epoch 99/100\n",
      "1340/1340 [==============================] - 2s 1ms/step - loss: 0.4396\n",
      "Epoch 100/100\n",
      "1340/1340 [==============================] - 2s 1ms/step - loss: 0.4015\n"
     ]
    },
    {
     "data": {
      "text/plain": [
       "<keras.callbacks.History at 0x7fa417dcfb00>"
      ]
     },
     "execution_count": 12,
     "metadata": {},
     "output_type": "execute_result"
    }
   ],
   "source": [
    "hl_shallow = {}\n",
    "#     Get equally distributed set of positive and negative instances\n",
    "clas = KerasClassifier(build_fn=gpu_mfcc_shallow_net, epochs=100, batch_size=20, verbose=1)\n",
    "clas.fit(train_X, train_y)"
   ]
  },
  {
   "cell_type": "code",
   "execution_count": 13,
   "metadata": {},
   "outputs": [
    {
     "name": "stdout",
     "output_type": "stream",
     "text": [
      "660/660 [==============================] - 1s 2ms/step\n",
      "0.509090909090909\n",
      "Confusion matrix, without normalization\n",
      "[[78 12 15  5 25]\n",
      " [ 7 70 14 27 13]\n",
      " [25 23 51 20 12]\n",
      " [ 8 34  9 76 18]\n",
      " [14 27  7  9 61]]\n"
     ]
    },
    {
     "data": {
      "image/png": "[encoded data removed]",
      "text/plain": [
       "<Figure size 720x720 with 2 Axes>"
      ]
     },
     "metadata": {
      "needs_background": "light"
     },
     "output_type": "display_data"
    }
   ],
   "source": [
    "pred = clas.predict(test_X)\n",
    "print(metrics.accuracy_score(test_y, pred))\n",
    "cm = metrics.confusion_matrix(test_y, pred)\n",
    "plt.figure(figsize=(10,10))\n",
    "plot_confusion_matrix(cm, h_classes)\n",
    "plt.show()"
   ]
  },
  {
   "cell_type": "code",
   "execution_count": null,
   "metadata": {},
   "outputs": [],
   "source": []
  }
 ],
 "metadata": {
  "kernelspec": {
   "display_name": "Python 3",
   "language": "python",
   "name": "python3"
  },
  "language_info": {
   "codemirror_mode": {
    "name": "ipython",
    "version": 3
   },
   "file_extension": ".py",
   "mimetype": "text/x-python",
   "name": "python",
   "nbconvert_exporter": "python",
   "pygments_lexer": "ipython3",
   "version": "3.5.2"
  }
 },
 "nbformat": 4,
 "nbformat_minor": 2
}
