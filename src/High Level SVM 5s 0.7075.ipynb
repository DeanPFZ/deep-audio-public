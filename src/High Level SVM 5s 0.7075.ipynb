{
 "cells": [
  {
   "cell_type": "code",
   "execution_count": 1,
   "metadata": {},
   "outputs": [
    {
     "name": "stderr",
     "output_type": "stream",
     "text": [
      "Using TensorFlow backend.\n"
     ]
    },
    {
     "name": "stdout",
     "output_type": "stream",
     "text": [
      "WARNING:tensorflow:From /usr/local/lib/python3.5/dist-packages/magenta/models/nsynth/wavenet/masked.py:116: UniformUnitScaling.__init__ (from tensorflow.python.ops.init_ops) is deprecated and will be removed in a future version.\n",
      "Instructions for updating:\n",
      "Use tf.initializers.variance_scaling instead with distribution=uniform to get equivalent behavior.\n"
     ]
    }
   ],
   "source": [
    "import pandas as pd\n",
    "from preprocess import Audio_Processor\n",
    "from sklearn import metrics\n",
    "from classification_plots import plot_confusion_matrix, plot_learning_curve\n",
    "import matplotlib.pyplot as plt\n",
    "import os\n",
    "from sklearn.svm import SVC"
   ]
  },
  {
   "cell_type": "code",
   "execution_count": 2,
   "metadata": {},
   "outputs": [],
   "source": [
    "# Able to specify which GPU to use\n",
    "os.environ[\"CUDA_VISIBLE_DEVICES\"]=\"2\"\n",
    "\n",
    "SR = 44100\n",
    "blocksize = 220500\n",
    "overlap = 0"
   ]
  },
  {
   "cell_type": "code",
   "execution_count": 3,
   "metadata": {},
   "outputs": [],
   "source": [
    "import warnings\n",
    "warnings.filterwarnings('ignore')"
   ]
  },
  {
   "cell_type": "markdown",
   "metadata": {},
   "source": [
    "# Setup"
   ]
  },
  {
   "cell_type": "code",
   "execution_count": 4,
   "metadata": {},
   "outputs": [],
   "source": [
    "audio_dir = '../ESC-50/audio/'"
   ]
  },
  {
   "cell_type": "code",
   "execution_count": 5,
   "metadata": {},
   "outputs": [],
   "source": [
    "path_to_db='../ESC-50/'\n",
    "ps = Audio_Processor(path_to_db + 'audio/')"
   ]
  },
  {
   "cell_type": "markdown",
   "metadata": {},
   "source": [
    "# Load Dataset\n",
    "Here we load the csv that describes each file in the dataset. We add a high level category that is defined in the ESC-50 documentation. This we realize is anthetical to true training, it is a stopgap for when we use NLP to classify tags into these categories."
   ]
  },
  {
   "cell_type": "code",
   "execution_count": 6,
   "metadata": {},
   "outputs": [],
   "source": [
    "dataset = pd.read_csv(path_to_db + 'meta/esc50.csv')\n",
    "classes = [None] * 50"
   ]
  },
  {
   "cell_type": "code",
   "execution_count": 7,
   "metadata": {},
   "outputs": [],
   "source": [
    "h_classes = ['Human & Animal', 'Interacting Materials']\n",
    "mapping = {'dog': 0,'rooster': 0,'pig': 0,'cow': 0,'frog': 0,'cat': 0,'hen': 0,\n",
    "            'insects': 0,'sheep': 0,'crow': 0,'rain': 1,'sea_waves': 1,'crackling_fire': 1,\n",
    "            'crickets': 0,'chirping_birds': 0,'water_drops': 1,'wind': 1,'pouring_water': 1,\n",
    "            'toilet_flush': 1,'thunderstorm': 1,'crying_baby': 0,'sneezing': 0,'clapping': 0,\n",
    "            'breathing': 0,'coughing': 0,'footsteps': 1,'laughing': 0,'brushing_teeth': 1,\n",
    "            'snoring': 0,'drinking_sipping': 1,'door_wood_knock': 1,'mouse_click': 1,\n",
    "            'keyboard_typing': 1,'door_wood_creaks': 1,'can_opening': 1,'washing_machine': 1,\n",
    "            'vacuum_cleaner': 1,'clock_alarm': 1,'clock_tick': 1,'glass_breaking':1,'helicopter': 1,\n",
    "            'chainsaw': 1,'siren': 1,'car_horn': 1,'engine': 1,'train': 1,'church_bells': 1,\n",
    "            'airplane': 1,'fireworks': 1,'hand_saw': 1,\n",
    "            }"
   ]
  },
  {
   "cell_type": "code",
   "execution_count": 8,
   "metadata": {},
   "outputs": [],
   "source": [
    "dataset['h_category'] = None\n",
    "for index, row in dataset.iterrows():\n",
    "    target = row['target']\n",
    "    classes[target] = row['category']\n",
    "    dataset.loc[index, 'h_category'] = mapping[row['category']]"
   ]
  },
  {
   "cell_type": "code",
   "execution_count": 9,
   "metadata": {},
   "outputs": [
    {
     "data": {
      "text/html": [
       "<div>\n",
       "<style scoped>\n",
       "    .dataframe tbody tr th:only-of-type {\n",
       "        vertical-align: middle;\n",
       "    }\n",
       "\n",
       "    .dataframe tbody tr th {\n",
       "        vertical-align: top;\n",
       "    }\n",
       "\n",
       "    .dataframe thead th {\n",
       "        text-align: right;\n",
       "    }\n",
       "</style>\n",
       "<table border=\"1\" class=\"dataframe\">\n",
       "  <thead>\n",
       "    <tr style=\"text-align: right;\">\n",
       "      <th></th>\n",
       "      <th>filename</th>\n",
       "      <th>fold</th>\n",
       "      <th>target</th>\n",
       "      <th>category</th>\n",
       "      <th>esc10</th>\n",
       "      <th>src_file</th>\n",
       "      <th>take</th>\n",
       "      <th>h_category</th>\n",
       "    </tr>\n",
       "  </thead>\n",
       "  <tbody>\n",
       "    <tr>\n",
       "      <th>0</th>\n",
       "      <td>1-100032-A-0.wav</td>\n",
       "      <td>1</td>\n",
       "      <td>0</td>\n",
       "      <td>dog</td>\n",
       "      <td>True</td>\n",
       "      <td>100032</td>\n",
       "      <td>A</td>\n",
       "      <td>0</td>\n",
       "    </tr>\n",
       "    <tr>\n",
       "      <th>1</th>\n",
       "      <td>1-100038-A-14.wav</td>\n",
       "      <td>1</td>\n",
       "      <td>14</td>\n",
       "      <td>chirping_birds</td>\n",
       "      <td>False</td>\n",
       "      <td>100038</td>\n",
       "      <td>A</td>\n",
       "      <td>0</td>\n",
       "    </tr>\n",
       "    <tr>\n",
       "      <th>2</th>\n",
       "      <td>1-100210-A-36.wav</td>\n",
       "      <td>1</td>\n",
       "      <td>36</td>\n",
       "      <td>vacuum_cleaner</td>\n",
       "      <td>False</td>\n",
       "      <td>100210</td>\n",
       "      <td>A</td>\n",
       "      <td>1</td>\n",
       "    </tr>\n",
       "    <tr>\n",
       "      <th>3</th>\n",
       "      <td>1-100210-B-36.wav</td>\n",
       "      <td>1</td>\n",
       "      <td>36</td>\n",
       "      <td>vacuum_cleaner</td>\n",
       "      <td>False</td>\n",
       "      <td>100210</td>\n",
       "      <td>B</td>\n",
       "      <td>1</td>\n",
       "    </tr>\n",
       "    <tr>\n",
       "      <th>4</th>\n",
       "      <td>1-101296-A-19.wav</td>\n",
       "      <td>1</td>\n",
       "      <td>19</td>\n",
       "      <td>thunderstorm</td>\n",
       "      <td>False</td>\n",
       "      <td>101296</td>\n",
       "      <td>A</td>\n",
       "      <td>1</td>\n",
       "    </tr>\n",
       "  </tbody>\n",
       "</table>\n",
       "</div>"
      ],
      "text/plain": [
       "            filename  fold  target        category  esc10  src_file take  \\\n",
       "0   1-100032-A-0.wav     1       0             dog   True    100032    A   \n",
       "1  1-100038-A-14.wav     1      14  chirping_birds  False    100038    A   \n",
       "2  1-100210-A-36.wav     1      36  vacuum_cleaner  False    100210    A   \n",
       "3  1-100210-B-36.wav     1      36  vacuum_cleaner  False    100210    B   \n",
       "4  1-101296-A-19.wav     1      19    thunderstorm  False    101296    A   \n",
       "\n",
       "   h_category  \n",
       "0           0  \n",
       "1           0  \n",
       "2           1  \n",
       "3           1  \n",
       "4           1  "
      ]
     },
     "execution_count": 9,
     "metadata": {},
     "output_type": "execute_result"
    }
   ],
   "source": [
    "dataset.head()"
   ]
  },
  {
   "cell_type": "markdown",
   "metadata": {},
   "source": [
    "## Getting Preprocessed Data\n",
    "We allow for previously preprocessed data to be retrieved for faster training turnaround. If the fold has been preprocessed, it is loaded but if not it is processed and saved."
   ]
  },
  {
   "cell_type": "code",
   "execution_count": 10,
   "metadata": {},
   "outputs": [],
   "source": [
    "df = ps.preprocess_fold(dataset, \n",
    "                        kind='mfcc', \n",
    "                        fld=range(2,6), \n",
    "                        blocksize=blocksize, \n",
    "                        overlap=overlap)"
   ]
  },
  {
   "cell_type": "code",
   "execution_count": 11,
   "metadata": {},
   "outputs": [
    {
     "data": {
      "text/html": [
       "<div>\n",
       "<style scoped>\n",
       "    .dataframe tbody tr th:only-of-type {\n",
       "        vertical-align: middle;\n",
       "    }\n",
       "\n",
       "    .dataframe tbody tr th {\n",
       "        vertical-align: top;\n",
       "    }\n",
       "\n",
       "    .dataframe thead th {\n",
       "        text-align: right;\n",
       "    }\n",
       "</style>\n",
       "<table border=\"1\" class=\"dataframe\">\n",
       "  <thead>\n",
       "    <tr style=\"text-align: right;\">\n",
       "      <th></th>\n",
       "      <th>0</th>\n",
       "      <th>1</th>\n",
       "      <th>2</th>\n",
       "      <th>3</th>\n",
       "      <th>4</th>\n",
       "      <th>5</th>\n",
       "      <th>6</th>\n",
       "      <th>7</th>\n",
       "      <th>8</th>\n",
       "      <th>9</th>\n",
       "      <th>...</th>\n",
       "      <th>106</th>\n",
       "      <th>107</th>\n",
       "      <th>108</th>\n",
       "      <th>109</th>\n",
       "      <th>110</th>\n",
       "      <th>111</th>\n",
       "      <th>112</th>\n",
       "      <th>113</th>\n",
       "      <th>l_target</th>\n",
       "      <th>h_target</th>\n",
       "    </tr>\n",
       "  </thead>\n",
       "  <tbody>\n",
       "    <tr>\n",
       "      <th>count</th>\n",
       "      <td>1600.000000</td>\n",
       "      <td>1600.000000</td>\n",
       "      <td>1600.000000</td>\n",
       "      <td>1600.000000</td>\n",
       "      <td>1600.000000</td>\n",
       "      <td>1600.000000</td>\n",
       "      <td>1600.000000</td>\n",
       "      <td>1600.000000</td>\n",
       "      <td>1600.000000</td>\n",
       "      <td>1600.000000</td>\n",
       "      <td>...</td>\n",
       "      <td>1600.000000</td>\n",
       "      <td>1600.000000</td>\n",
       "      <td>1600.000000</td>\n",
       "      <td>1600.000000</td>\n",
       "      <td>1600.000000</td>\n",
       "      <td>1.600000e+03</td>\n",
       "      <td>1600.000000</td>\n",
       "      <td>1.600000e+03</td>\n",
       "      <td>1600.000000</td>\n",
       "      <td>1600.000000</td>\n",
       "    </tr>\n",
       "    <tr>\n",
       "      <th>mean</th>\n",
       "      <td>0.300031</td>\n",
       "      <td>0.316513</td>\n",
       "      <td>0.206045</td>\n",
       "      <td>0.181380</td>\n",
       "      <td>0.162474</td>\n",
       "      <td>0.150669</td>\n",
       "      <td>0.138716</td>\n",
       "      <td>0.139915</td>\n",
       "      <td>0.127567</td>\n",
       "      <td>0.126222</td>\n",
       "      <td>...</td>\n",
       "      <td>-0.000022</td>\n",
       "      <td>0.000015</td>\n",
       "      <td>-0.000017</td>\n",
       "      <td>0.000012</td>\n",
       "      <td>-0.000014</td>\n",
       "      <td>8.080026e-06</td>\n",
       "      <td>-0.000010</td>\n",
       "      <td>4.992963e-06</td>\n",
       "      <td>0.620000</td>\n",
       "      <td>24.500000</td>\n",
       "    </tr>\n",
       "    <tr>\n",
       "      <th>std</th>\n",
       "      <td>0.160251</td>\n",
       "      <td>0.163239</td>\n",
       "      <td>0.081945</td>\n",
       "      <td>0.070053</td>\n",
       "      <td>0.062193</td>\n",
       "      <td>0.054907</td>\n",
       "      <td>0.048420</td>\n",
       "      <td>0.053103</td>\n",
       "      <td>0.044096</td>\n",
       "      <td>0.044731</td>\n",
       "      <td>...</td>\n",
       "      <td>0.000082</td>\n",
       "      <td>0.000083</td>\n",
       "      <td>0.000075</td>\n",
       "      <td>0.000077</td>\n",
       "      <td>0.000072</td>\n",
       "      <td>7.098327e-05</td>\n",
       "      <td>0.000076</td>\n",
       "      <td>7.599991e-05</td>\n",
       "      <td>0.485538</td>\n",
       "      <td>14.435381</td>\n",
       "    </tr>\n",
       "    <tr>\n",
       "      <th>min</th>\n",
       "      <td>0.012239</td>\n",
       "      <td>0.010367</td>\n",
       "      <td>0.011314</td>\n",
       "      <td>0.010782</td>\n",
       "      <td>0.010068</td>\n",
       "      <td>0.009765</td>\n",
       "      <td>0.009837</td>\n",
       "      <td>0.010637</td>\n",
       "      <td>0.010411</td>\n",
       "      <td>0.008912</td>\n",
       "      <td>...</td>\n",
       "      <td>-0.000857</td>\n",
       "      <td>-0.000587</td>\n",
       "      <td>-0.000745</td>\n",
       "      <td>-0.000786</td>\n",
       "      <td>-0.000834</td>\n",
       "      <td>-6.863484e-04</td>\n",
       "      <td>-0.000644</td>\n",
       "      <td>-6.525283e-04</td>\n",
       "      <td>0.000000</td>\n",
       "      <td>0.000000</td>\n",
       "    </tr>\n",
       "    <tr>\n",
       "      <th>25%</th>\n",
       "      <td>0.172853</td>\n",
       "      <td>0.174074</td>\n",
       "      <td>0.151419</td>\n",
       "      <td>0.134857</td>\n",
       "      <td>0.119520</td>\n",
       "      <td>0.113566</td>\n",
       "      <td>0.104660</td>\n",
       "      <td>0.102782</td>\n",
       "      <td>0.097242</td>\n",
       "      <td>0.095592</td>\n",
       "      <td>...</td>\n",
       "      <td>-0.000046</td>\n",
       "      <td>-0.000015</td>\n",
       "      <td>-0.000041</td>\n",
       "      <td>-0.000016</td>\n",
       "      <td>-0.000038</td>\n",
       "      <td>-1.835106e-05</td>\n",
       "      <td>-0.000035</td>\n",
       "      <td>-2.266308e-05</td>\n",
       "      <td>0.000000</td>\n",
       "      <td>12.000000</td>\n",
       "    </tr>\n",
       "    <tr>\n",
       "      <th>50%</th>\n",
       "      <td>0.286105</td>\n",
       "      <td>0.317374</td>\n",
       "      <td>0.209654</td>\n",
       "      <td>0.181195</td>\n",
       "      <td>0.160488</td>\n",
       "      <td>0.150433</td>\n",
       "      <td>0.139300</td>\n",
       "      <td>0.138657</td>\n",
       "      <td>0.127433</td>\n",
       "      <td>0.125597</td>\n",
       "      <td>...</td>\n",
       "      <td>-0.000009</td>\n",
       "      <td>0.000004</td>\n",
       "      <td>-0.000006</td>\n",
       "      <td>0.000004</td>\n",
       "      <td>-0.000006</td>\n",
       "      <td>9.105624e-07</td>\n",
       "      <td>-0.000002</td>\n",
       "      <td>8.554438e-12</td>\n",
       "      <td>1.000000</td>\n",
       "      <td>24.500000</td>\n",
       "    </tr>\n",
       "    <tr>\n",
       "      <th>75%</th>\n",
       "      <td>0.408069</td>\n",
       "      <td>0.434471</td>\n",
       "      <td>0.259584</td>\n",
       "      <td>0.226909</td>\n",
       "      <td>0.202338</td>\n",
       "      <td>0.183085</td>\n",
       "      <td>0.168926</td>\n",
       "      <td>0.172515</td>\n",
       "      <td>0.155189</td>\n",
       "      <td>0.154256</td>\n",
       "      <td>...</td>\n",
       "      <td>0.000011</td>\n",
       "      <td>0.000040</td>\n",
       "      <td>0.000013</td>\n",
       "      <td>0.000036</td>\n",
       "      <td>0.000014</td>\n",
       "      <td>3.104670e-05</td>\n",
       "      <td>0.000019</td>\n",
       "      <td>2.842639e-05</td>\n",
       "      <td>1.000000</td>\n",
       "      <td>37.000000</td>\n",
       "    </tr>\n",
       "    <tr>\n",
       "      <th>max</th>\n",
       "      <td>0.780672</td>\n",
       "      <td>0.764119</td>\n",
       "      <td>0.553002</td>\n",
       "      <td>0.478724</td>\n",
       "      <td>0.487913</td>\n",
       "      <td>0.363521</td>\n",
       "      <td>0.376641</td>\n",
       "      <td>0.395013</td>\n",
       "      <td>0.354657</td>\n",
       "      <td>0.334939</td>\n",
       "      <td>...</td>\n",
       "      <td>0.000743</td>\n",
       "      <td>0.000903</td>\n",
       "      <td>0.000517</td>\n",
       "      <td>0.000846</td>\n",
       "      <td>0.000563</td>\n",
       "      <td>5.893038e-04</td>\n",
       "      <td>0.001426</td>\n",
       "      <td>9.492884e-04</td>\n",
       "      <td>1.000000</td>\n",
       "      <td>49.000000</td>\n",
       "    </tr>\n",
       "  </tbody>\n",
       "</table>\n",
       "<p>8 rows × 116 columns</p>\n",
       "</div>"
      ],
      "text/plain": [
       "                 0            1            2            3            4  \\\n",
       "count  1600.000000  1600.000000  1600.000000  1600.000000  1600.000000   \n",
       "mean      0.300031     0.316513     0.206045     0.181380     0.162474   \n",
       "std       0.160251     0.163239     0.081945     0.070053     0.062193   \n",
       "min       0.012239     0.010367     0.011314     0.010782     0.010068   \n",
       "25%       0.172853     0.174074     0.151419     0.134857     0.119520   \n",
       "50%       0.286105     0.317374     0.209654     0.181195     0.160488   \n",
       "75%       0.408069     0.434471     0.259584     0.226909     0.202338   \n",
       "max       0.780672     0.764119     0.553002     0.478724     0.487913   \n",
       "\n",
       "                 5            6            7            8            9  \\\n",
       "count  1600.000000  1600.000000  1600.000000  1600.000000  1600.000000   \n",
       "mean      0.150669     0.138716     0.139915     0.127567     0.126222   \n",
       "std       0.054907     0.048420     0.053103     0.044096     0.044731   \n",
       "min       0.009765     0.009837     0.010637     0.010411     0.008912   \n",
       "25%       0.113566     0.104660     0.102782     0.097242     0.095592   \n",
       "50%       0.150433     0.139300     0.138657     0.127433     0.125597   \n",
       "75%       0.183085     0.168926     0.172515     0.155189     0.154256   \n",
       "max       0.363521     0.376641     0.395013     0.354657     0.334939   \n",
       "\n",
       "          ...               106          107          108          109  \\\n",
       "count     ...       1600.000000  1600.000000  1600.000000  1600.000000   \n",
       "mean      ...         -0.000022     0.000015    -0.000017     0.000012   \n",
       "std       ...          0.000082     0.000083     0.000075     0.000077   \n",
       "min       ...         -0.000857    -0.000587    -0.000745    -0.000786   \n",
       "25%       ...         -0.000046    -0.000015    -0.000041    -0.000016   \n",
       "50%       ...         -0.000009     0.000004    -0.000006     0.000004   \n",
       "75%       ...          0.000011     0.000040     0.000013     0.000036   \n",
       "max       ...          0.000743     0.000903     0.000517     0.000846   \n",
       "\n",
       "               110           111          112           113     l_target  \\\n",
       "count  1600.000000  1.600000e+03  1600.000000  1.600000e+03  1600.000000   \n",
       "mean     -0.000014  8.080026e-06    -0.000010  4.992963e-06     0.620000   \n",
       "std       0.000072  7.098327e-05     0.000076  7.599991e-05     0.485538   \n",
       "min      -0.000834 -6.863484e-04    -0.000644 -6.525283e-04     0.000000   \n",
       "25%      -0.000038 -1.835106e-05    -0.000035 -2.266308e-05     0.000000   \n",
       "50%      -0.000006  9.105624e-07    -0.000002  8.554438e-12     1.000000   \n",
       "75%       0.000014  3.104670e-05     0.000019  2.842639e-05     1.000000   \n",
       "max       0.000563  5.893038e-04     0.001426  9.492884e-04     1.000000   \n",
       "\n",
       "          h_target  \n",
       "count  1600.000000  \n",
       "mean     24.500000  \n",
       "std      14.435381  \n",
       "min       0.000000  \n",
       "25%      12.000000  \n",
       "50%      24.500000  \n",
       "75%      37.000000  \n",
       "max      49.000000  \n",
       "\n",
       "[8 rows x 116 columns]"
      ]
     },
     "execution_count": 11,
     "metadata": {},
     "output_type": "execute_result"
    }
   ],
   "source": [
    "df.describe()"
   ]
  },
  {
   "cell_type": "code",
   "execution_count": 12,
   "metadata": {},
   "outputs": [],
   "source": [
    "from sklearn.model_selection import train_test_split\n",
    "train, test, = train_test_split(\n",
    "                        df, test_size=0.20, random_state=42)"
   ]
  },
  {
   "cell_type": "code",
   "execution_count": 13,
   "metadata": {},
   "outputs": [],
   "source": [
    "train_X = train.drop(['l_target', 'h_target'], axis=1)\n",
    "train_y = train['l_target']\n",
    "test_X = test.drop(['l_target', 'h_target'], axis=1)\n",
    "test_y = test['l_target']"
   ]
  },
  {
   "cell_type": "markdown",
   "metadata": {},
   "source": [
    "# Shallow Net\n",
    "Separate into classes"
   ]
  },
  {
   "cell_type": "code",
   "execution_count": 14,
   "metadata": {},
   "outputs": [
    {
     "data": {
      "text/plain": [
       "GridSearchCV(cv=5, error_score='raise-deprecating',\n",
       "       estimator=SVC(C=1.0, cache_size=200, class_weight=None, coef0=0.0,\n",
       "  decision_function_shape='ovr', degree=3, gamma='auto_deprecated',\n",
       "  kernel='rbf', max_iter=-1, probability=True, random_state=None,\n",
       "  shrinking=True, tol=0.001, verbose=False),\n",
       "       fit_params=None, iid='warn', n_jobs=None,\n",
       "       param_grid={'gamma': ('auto', 'scale'), 'kernel': ('linear', 'poly', 'rbf', 'sigmoid'), 'decision_function_shape': ('ovo', 'ovr')},\n",
       "       pre_dispatch='2*n_jobs', refit=True, return_train_score='warn',\n",
       "       scoring=None, verbose=0)"
      ]
     },
     "execution_count": 14,
     "metadata": {},
     "output_type": "execute_result"
    }
   ],
   "source": [
    "from sklearn.model_selection import GridSearchCV\n",
    "params = {\n",
    "          'kernel': ('linear', 'poly', 'rbf', 'sigmoid'),\n",
    "          'gamma': ('auto', 'scale'),\n",
    "          'decision_function_shape': ('ovo', 'ovr')\n",
    "         }\n",
    "\n",
    "svm = SVC(probability=True)\n",
    "\n",
    "clf = GridSearchCV(svm, params, cv=5)\n",
    "\n",
    "clf.fit(train_X, train_y)"
   ]
  },
  {
   "cell_type": "code",
   "execution_count": 15,
   "metadata": {},
   "outputs": [
    {
     "name": "stdout",
     "output_type": "stream",
     "text": [
      "0.703125\n",
      "Confusion matrix, without normalization\n",
      "[[ 52  74]\n",
      " [ 21 173]]\n"
     ]
    },
    {
     "data": {
      "image/png": "[encoded data removed]",
      "text/plain": [
       "<Figure size 720x720 with 2 Axes>"
      ]
     },
     "metadata": {
      "needs_background": "light"
     },
     "output_type": "display_data"
    }
   ],
   "source": [
    "pred = clf.predict(test_X)\n",
    "print(metrics.accuracy_score(test_y, pred))\n",
    "cm = metrics.confusion_matrix(test_y, pred)\n",
    "plt.figure(figsize=(10,10))\n",
    "plot_confusion_matrix(cm, h_classes)\n",
    "plt.show()"
   ]
  },
  {
   "cell_type": "markdown",
   "metadata": {},
   "source": [
    "# All Data"
   ]
  },
  {
   "cell_type": "code",
   "execution_count": 16,
   "metadata": {},
   "outputs": [],
   "source": [
    "all_df = ps.preprocess_fold(dataset, \n",
    "                        kind='mfcc', \n",
    "                        fld=1, \n",
    "                        blocksize=blocksize, \n",
    "                        overlap=overlap)"
   ]
  },
  {
   "cell_type": "code",
   "execution_count": 17,
   "metadata": {},
   "outputs": [],
   "source": [
    "X = all_df.drop(['l_target', 'h_target'], axis=1)\n",
    "y = all_df['l_target']"
   ]
  },
  {
   "cell_type": "code",
   "execution_count": 18,
   "metadata": {},
   "outputs": [
    {
     "name": "stdout",
     "output_type": "stream",
     "text": [
      "0.7075\n",
      "Confusion matrix, without normalization\n",
      "[[ 62  90]\n",
      " [ 27 221]]\n"
     ]
    },
    {
     "data": {
      "image/png": "[encoded data removed]",
      "text/plain": [
       "<Figure size 1440x1440 with 2 Axes>"
      ]
     },
     "metadata": {
      "needs_background": "light"
     },
     "output_type": "display_data"
    }
   ],
   "source": [
    "pred = clf.predict(X)\n",
    "print(metrics.accuracy_score(y, pred))\n",
    "cm = metrics.confusion_matrix(y, pred)\n",
    "plt.figure(figsize=(20,20))\n",
    "plot_confusion_matrix(cm, h_classes)\n",
    "plt.show()"
   ]
  },
  {
   "cell_type": "code",
   "execution_count": 19,
   "metadata": {},
   "outputs": [
    {
     "data": {
      "text/html": [
       "<div>\n",
       "<style scoped>\n",
       "    .dataframe tbody tr th:only-of-type {\n",
       "        vertical-align: middle;\n",
       "    }\n",
       "\n",
       "    .dataframe tbody tr th {\n",
       "        vertical-align: top;\n",
       "    }\n",
       "\n",
       "    .dataframe thead th {\n",
       "        text-align: right;\n",
       "    }\n",
       "</style>\n",
       "<table border=\"1\" class=\"dataframe\">\n",
       "  <thead>\n",
       "    <tr style=\"text-align: right;\">\n",
       "      <th></th>\n",
       "      <th>h_target</th>\n",
       "      <th>l_target</th>\n",
       "    </tr>\n",
       "  </thead>\n",
       "  <tbody>\n",
       "    <tr>\n",
       "      <th>0</th>\n",
       "      <td>chirping_birds</td>\n",
       "      <td>Human &amp; Animal</td>\n",
       "    </tr>\n",
       "    <tr>\n",
       "      <th>1</th>\n",
       "      <td>crow</td>\n",
       "      <td>Human &amp; Animal</td>\n",
       "    </tr>\n",
       "    <tr>\n",
       "      <th>2</th>\n",
       "      <td>clapping</td>\n",
       "      <td>Human &amp; Animal</td>\n",
       "    </tr>\n",
       "    <tr>\n",
       "      <th>3</th>\n",
       "      <td>clapping</td>\n",
       "      <td>Human &amp; Animal</td>\n",
       "    </tr>\n",
       "    <tr>\n",
       "      <th>4</th>\n",
       "      <td>clapping</td>\n",
       "      <td>Human &amp; Animal</td>\n",
       "    </tr>\n",
       "  </tbody>\n",
       "</table>\n",
       "</div>"
      ],
      "text/plain": [
       "         h_target        l_target\n",
       "0  chirping_birds  Human & Animal\n",
       "1            crow  Human & Animal\n",
       "2        clapping  Human & Animal\n",
       "3        clapping  Human & Animal\n",
       "4        clapping  Human & Animal"
      ]
     },
     "execution_count": 19,
     "metadata": {},
     "output_type": "execute_result"
    }
   ],
   "source": [
    "import seaborn as sns\n",
    "misclassified = {\n",
    "    'h_target': [],\n",
    "    'l_target': []\n",
    "}\n",
    "for row, p, Y in zip(all_df.iterrows(), pred, y):\n",
    "    if p != Y:\n",
    "        misclassified['h_target'].append(classes[int(row[1]['h_target'])])\n",
    "        misclassified['l_target'].append(h_classes[Y])\n",
    "\n",
    "misclassified = pd.DataFrame.from_dict(misclassified)\n",
    "misclassified.head()"
   ]
  },
  {
   "cell_type": "code",
   "execution_count": 20,
   "metadata": {},
   "outputs": [
    {
     "data": {
      "text/plain": [
       "<matplotlib.axes._subplots.AxesSubplot at 0x7fb1119548d0>"
      ]
     },
     "execution_count": 20,
     "metadata": {},
     "output_type": "execute_result"
    },
    {
     "data": {
      "image/png": "[encoded data removed]",
      "text/plain": [
       "<Figure size 3600x720 with 1 Axes>"
      ]
     },
     "metadata": {
      "needs_background": "light"
     },
     "output_type": "display_data"
    }
   ],
   "source": [
    "from matplotlib import pyplot as plt\n",
    "fig, ax = plt.subplots(figsize=(50,10))\n",
    "sns.countplot(x='h_target', hue='l_target',data=misclassified)"
   ]
  },
  {
   "cell_type": "code",
   "execution_count": null,
   "metadata": {},
   "outputs": [],
   "source": []
  }
 ],
 "metadata": {
  "kernelspec": {
   "display_name": "Python 3",
   "language": "python",
   "name": "python3"
  },
  "language_info": {
   "codemirror_mode": {
    "name": "ipython",
    "version": 3
   },
   "file_extension": ".py",
   "mimetype": "text/x-python",
   "name": "python",
   "nbconvert_exporter": "python",
   "pygments_lexer": "ipython3",
   "version": "3.5.2"
  }
 },
 "nbformat": 4,
 "nbformat_minor": 2
}
