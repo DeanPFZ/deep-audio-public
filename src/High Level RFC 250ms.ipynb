{
 "cells": [
  {
   "cell_type": "code",
   "execution_count": 1,
   "metadata": {},
   "outputs": [
    {
     "name": "stderr",
     "output_type": "stream",
     "text": [
      "Using TensorFlow backend.\n"
     ]
    },
    {
     "name": "stdout",
     "output_type": "stream",
     "text": [
      "WARNING:tensorflow:From /usr/local/lib/python3.5/dist-packages/magenta/models/nsynth/wavenet/masked.py:115: UniformUnitScaling.__init__ (from tensorflow.python.ops.init_ops) is deprecated and will be removed in a future version.\n",
      "Instructions for updating:\n",
      "Use tf.initializers.variance_scaling instead with distribution=uniform to get equivalent behavior.\n"
     ]
    },
    {
     "name": "stderr",
     "output_type": "stream",
     "text": [
      "/usr/lib/python3.5/importlib/_bootstrap.py:222: RuntimeWarning: numpy.dtype size changed, may indicate binary incompatibility. Expected 96, got 88\n",
      "  return f(*args, **kwds)\n"
     ]
    }
   ],
   "source": [
    "import pandas as pd\n",
    "from preprocess import Audio_Processor\n",
    "from sklearn import metrics\n",
    "from classification_plots import plot_confusion_matrix, plot_learning_curve\n",
    "import matplotlib.pyplot as plt\n",
    "import os\n",
    "from sklearn.ensemble import RandomForestClassifier\n",
    "from sklearn.pipeline import Pipeline"
   ]
  },
  {
   "cell_type": "code",
   "execution_count": 2,
   "metadata": {},
   "outputs": [],
   "source": [
    "# Able to specify which GPU to use\n",
    "os.environ[\"CUDA_VISIBLE_DEVICES\"]=\"1\"\n",
    "\n",
    "SR = 16000\n",
    "blocksize = int(SR/4)\n",
    "overlap = int(SR/8)"
   ]
  },
  {
   "cell_type": "code",
   "execution_count": 3,
   "metadata": {},
   "outputs": [],
   "source": [
    "import warnings\n",
    "warnings.filterwarnings('ignore')"
   ]
  },
  {
   "cell_type": "markdown",
   "metadata": {},
   "source": [
    "# Setup"
   ]
  },
  {
   "cell_type": "code",
   "execution_count": 4,
   "metadata": {},
   "outputs": [],
   "source": [
    "path_to_db='../ESC-50/'\n",
    "ps = Audio_Processor(path_to_db + 'audio/')\n",
    "dataset = pd.read_csv(path_to_db + 'meta/esc50.csv')"
   ]
  },
  {
   "cell_type": "code",
   "execution_count": 5,
   "metadata": {},
   "outputs": [],
   "source": [
    "mapping = {'dog': 0,'rooster': 0,'pig': 0,'cow': 0,'frog': 0,'cat': 0,'hen': 0,\n",
    "            'insects': 0,'sheep': 0,'crow': 0,'rain': 1,'sea_waves': 1,'crackling_fire': 1,\n",
    "            'crickets': 0,'chirping_birds': 0,'water_drops': 1,'wind': 1,'pouring_water': 1,\n",
    "            'toilet_flush': 1,'thunderstorm': 1,'crying_baby': 0,'sneezing': 0,'clapping': 1,\n",
    "            'breathing': 0,'coughing': 0,'footsteps': 1,'laughing': 0,'brushing_teeth': 1,\n",
    "            'snoring': 0,'drinking_sipping': 1,'door_wood_knock': 1,'mouse_click': 1,\n",
    "            'keyboard_typing': 1,'door_wood_creaks': 1,'can_opening': 1,'washing_machine': 1,\n",
    "            'vacuum_cleaner': 1,'clock_alarm': 1,'clock_tick': 1,'glass_breaking':1,'helicopter': 1,\n",
    "            'chainsaw': 1,'siren': 1,'car_horn': 1,'engine': 1,'train': 1,'church_bells': 1,\n",
    "            'airplane': 1,'fireworks': 1,'hand_saw': 1,\n",
    "            }\n",
    "dataset['h_target'] = None\n",
    "classes = [None] * 50\n",
    "for index, row in dataset.iterrows():\n",
    "    target = row['target']\n",
    "    classes[target] = row['category']\n",
    "    dataset.loc[index, 'h_target'] = mapping[row['category']]"
   ]
  },
  {
   "cell_type": "code",
   "execution_count": 6,
   "metadata": {},
   "outputs": [],
   "source": [
    "h_classes = ['Human & Animal', 'Interacting Materials']"
   ]
  },
  {
   "cell_type": "markdown",
   "metadata": {},
   "source": [
    "## Getting Preprocessed Data\n",
    "We allow for previously preprocessed data to be retrieved for faster training turnaround. If the fold has been preprocessed, it is loaded but if not it is processed and saved."
   ]
  },
  {
   "cell_type": "code",
   "execution_count": 7,
   "metadata": {},
   "outputs": [],
   "source": [
    "df = ps.preprocess_fold(dataset, \n",
    "                        kind='mfcc', \n",
    "                        fld=None,\n",
    "                        blocksize=blocksize, \n",
    "                        overlap=overlap)"
   ]
  },
  {
   "cell_type": "code",
   "execution_count": 8,
   "metadata": {},
   "outputs": [
    {
     "data": {
      "text/html": [
       "<div>\n",
       "<style scoped>\n",
       "    .dataframe tbody tr th:only-of-type {\n",
       "        vertical-align: middle;\n",
       "    }\n",
       "\n",
       "    .dataframe tbody tr th {\n",
       "        vertical-align: top;\n",
       "    }\n",
       "\n",
       "    .dataframe thead th {\n",
       "        text-align: right;\n",
       "    }\n",
       "</style>\n",
       "<table border=\"1\" class=\"dataframe\">\n",
       "  <thead>\n",
       "    <tr style=\"text-align: right;\">\n",
       "      <th></th>\n",
       "      <th>mfcc_2_std</th>\n",
       "      <th>mfcc_2_mean</th>\n",
       "      <th>mfcc_2_noise</th>\n",
       "      <th>mfcc_3_std</th>\n",
       "      <th>mfcc_3_mean</th>\n",
       "      <th>mfcc_3_noise</th>\n",
       "      <th>mfcc_4_std</th>\n",
       "      <th>mfcc_4_mean</th>\n",
       "      <th>mfcc_4_noise</th>\n",
       "      <th>mfcc_5_std</th>\n",
       "      <th>...</th>\n",
       "      <th>sflat_noise</th>\n",
       "      <th>sroll_std</th>\n",
       "      <th>sroll_mean</th>\n",
       "      <th>sroll_noise</th>\n",
       "      <th>rmse_std</th>\n",
       "      <th>rmse_mean</th>\n",
       "      <th>rmse_noise</th>\n",
       "      <th>h_target</th>\n",
       "      <th>target</th>\n",
       "      <th>fold</th>\n",
       "    </tr>\n",
       "  </thead>\n",
       "  <tbody>\n",
       "    <tr>\n",
       "      <th>count</th>\n",
       "      <td>2000.000000</td>\n",
       "      <td>2000.000000</td>\n",
       "      <td>2000.000000</td>\n",
       "      <td>2000.000000</td>\n",
       "      <td>2000.000000</td>\n",
       "      <td>2000.000000</td>\n",
       "      <td>2000.000000</td>\n",
       "      <td>2000.000000</td>\n",
       "      <td>2000.000000</td>\n",
       "      <td>2000.000000</td>\n",
       "      <td>...</td>\n",
       "      <td>2000.000000</td>\n",
       "      <td>2000.000000</td>\n",
       "      <td>2000.000000</td>\n",
       "      <td>2000.000000</td>\n",
       "      <td>2000.000000</td>\n",
       "      <td>2000.000000</td>\n",
       "      <td>2000.000000</td>\n",
       "      <td>2000.00000</td>\n",
       "      <td>2000.000000</td>\n",
       "      <td>2000.000000</td>\n",
       "    </tr>\n",
       "    <tr>\n",
       "      <th>mean</th>\n",
       "      <td>72.864867</td>\n",
       "      <td>46.555438</td>\n",
       "      <td>39.303472</td>\n",
       "      <td>34.357633</td>\n",
       "      <td>31.580748</td>\n",
       "      <td>31.534475</td>\n",
       "      <td>31.198025</td>\n",
       "      <td>31.341147</td>\n",
       "      <td>30.897054</td>\n",
       "      <td>30.280411</td>\n",
       "      <td>...</td>\n",
       "      <td>0.007040</td>\n",
       "      <td>0.009648</td>\n",
       "      <td>13.515125</td>\n",
       "      <td>24.481013</td>\n",
       "      <td>4.827707</td>\n",
       "      <td>22.530463</td>\n",
       "      <td>5.285919</td>\n",
       "      <td>0.64000</td>\n",
       "      <td>24.500000</td>\n",
       "      <td>3.000000</td>\n",
       "    </tr>\n",
       "    <tr>\n",
       "      <th>std</th>\n",
       "      <td>20.686417</td>\n",
       "      <td>12.839961</td>\n",
       "      <td>12.632800</td>\n",
       "      <td>10.463501</td>\n",
       "      <td>10.494278</td>\n",
       "      <td>10.720429</td>\n",
       "      <td>10.602236</td>\n",
       "      <td>11.118253</td>\n",
       "      <td>11.124000</td>\n",
       "      <td>10.783517</td>\n",
       "      <td>...</td>\n",
       "      <td>0.158591</td>\n",
       "      <td>0.156010</td>\n",
       "      <td>11.572505</td>\n",
       "      <td>14.782931</td>\n",
       "      <td>5.143978</td>\n",
       "      <td>8.605834</td>\n",
       "      <td>2.296010</td>\n",
       "      <td>0.48012</td>\n",
       "      <td>14.434479</td>\n",
       "      <td>1.414567</td>\n",
       "    </tr>\n",
       "    <tr>\n",
       "      <th>min</th>\n",
       "      <td>1.023857</td>\n",
       "      <td>1.390291</td>\n",
       "      <td>2.463784</td>\n",
       "      <td>2.217799</td>\n",
       "      <td>1.468053</td>\n",
       "      <td>2.356047</td>\n",
       "      <td>1.082973</td>\n",
       "      <td>0.667087</td>\n",
       "      <td>1.524121</td>\n",
       "      <td>1.350411</td>\n",
       "      <td>...</td>\n",
       "      <td>-0.841209</td>\n",
       "      <td>-1.047266</td>\n",
       "      <td>6.145738</td>\n",
       "      <td>10.621702</td>\n",
       "      <td>2.054451</td>\n",
       "      <td>10.441863</td>\n",
       "      <td>0.843697</td>\n",
       "      <td>0.00000</td>\n",
       "      <td>0.000000</td>\n",
       "      <td>1.000000</td>\n",
       "    </tr>\n",
       "    <tr>\n",
       "      <th>25%</th>\n",
       "      <td>58.401021</td>\n",
       "      <td>37.259355</td>\n",
       "      <td>29.535553</td>\n",
       "      <td>26.185062</td>\n",
       "      <td>23.092788</td>\n",
       "      <td>22.500621</td>\n",
       "      <td>22.227644</td>\n",
       "      <td>22.170130</td>\n",
       "      <td>22.189913</td>\n",
       "      <td>21.535122</td>\n",
       "      <td>...</td>\n",
       "      <td>-0.073462</td>\n",
       "      <td>-0.069485</td>\n",
       "      <td>10.483121</td>\n",
       "      <td>20.119718</td>\n",
       "      <td>3.742620</td>\n",
       "      <td>17.424135</td>\n",
       "      <td>3.403414</td>\n",
       "      <td>0.00000</td>\n",
       "      <td>12.000000</td>\n",
       "      <td>2.000000</td>\n",
       "    </tr>\n",
       "    <tr>\n",
       "      <th>50%</th>\n",
       "      <td>72.067949</td>\n",
       "      <td>45.530706</td>\n",
       "      <td>37.705584</td>\n",
       "      <td>33.644909</td>\n",
       "      <td>30.861021</td>\n",
       "      <td>31.213859</td>\n",
       "      <td>31.296936</td>\n",
       "      <td>31.504400</td>\n",
       "      <td>31.393603</td>\n",
       "      <td>31.241432</td>\n",
       "      <td>...</td>\n",
       "      <td>0.009400</td>\n",
       "      <td>0.018312</td>\n",
       "      <td>12.590953</td>\n",
       "      <td>23.350114</td>\n",
       "      <td>4.553567</td>\n",
       "      <td>20.781431</td>\n",
       "      <td>4.865013</td>\n",
       "      <td>1.00000</td>\n",
       "      <td>24.500000</td>\n",
       "      <td>3.000000</td>\n",
       "    </tr>\n",
       "    <tr>\n",
       "      <th>75%</th>\n",
       "      <td>86.848214</td>\n",
       "      <td>54.964281</td>\n",
       "      <td>47.292583</td>\n",
       "      <td>41.779940</td>\n",
       "      <td>39.835966</td>\n",
       "      <td>39.837809</td>\n",
       "      <td>39.539145</td>\n",
       "      <td>39.920004</td>\n",
       "      <td>39.259747</td>\n",
       "      <td>38.505474</td>\n",
       "      <td>...</td>\n",
       "      <td>0.090130</td>\n",
       "      <td>0.094727</td>\n",
       "      <td>15.309424</td>\n",
       "      <td>26.943112</td>\n",
       "      <td>5.400495</td>\n",
       "      <td>25.663909</td>\n",
       "      <td>6.937377</td>\n",
       "      <td>1.00000</td>\n",
       "      <td>37.000000</td>\n",
       "      <td>4.000000</td>\n",
       "    </tr>\n",
       "    <tr>\n",
       "      <th>max</th>\n",
       "      <td>210.860506</td>\n",
       "      <td>94.641428</td>\n",
       "      <td>87.565995</td>\n",
       "      <td>74.447375</td>\n",
       "      <td>67.522471</td>\n",
       "      <td>72.120633</td>\n",
       "      <td>83.856240</td>\n",
       "      <td>92.764368</td>\n",
       "      <td>100.907831</td>\n",
       "      <td>98.163545</td>\n",
       "      <td>...</td>\n",
       "      <td>0.708718</td>\n",
       "      <td>0.771758</td>\n",
       "      <td>500.861016</td>\n",
       "      <td>589.306962</td>\n",
       "      <td>221.594445</td>\n",
       "      <td>235.207972</td>\n",
       "      <td>15.894835</td>\n",
       "      <td>1.00000</td>\n",
       "      <td>49.000000</td>\n",
       "      <td>5.000000</td>\n",
       "    </tr>\n",
       "  </tbody>\n",
       "</table>\n",
       "<p>8 rows × 132 columns</p>\n",
       "</div>"
      ],
      "text/plain": [
       "        mfcc_2_std  mfcc_2_mean  mfcc_2_noise   mfcc_3_std  mfcc_3_mean  \\\n",
       "count  2000.000000  2000.000000   2000.000000  2000.000000  2000.000000   \n",
       "mean     72.864867    46.555438     39.303472    34.357633    31.580748   \n",
       "std      20.686417    12.839961     12.632800    10.463501    10.494278   \n",
       "min       1.023857     1.390291      2.463784     2.217799     1.468053   \n",
       "25%      58.401021    37.259355     29.535553    26.185062    23.092788   \n",
       "50%      72.067949    45.530706     37.705584    33.644909    30.861021   \n",
       "75%      86.848214    54.964281     47.292583    41.779940    39.835966   \n",
       "max     210.860506    94.641428     87.565995    74.447375    67.522471   \n",
       "\n",
       "       mfcc_3_noise   mfcc_4_std  mfcc_4_mean  mfcc_4_noise   mfcc_5_std  \\\n",
       "count   2000.000000  2000.000000  2000.000000   2000.000000  2000.000000   \n",
       "mean      31.534475    31.198025    31.341147     30.897054    30.280411   \n",
       "std       10.720429    10.602236    11.118253     11.124000    10.783517   \n",
       "min        2.356047     1.082973     0.667087      1.524121     1.350411   \n",
       "25%       22.500621    22.227644    22.170130     22.189913    21.535122   \n",
       "50%       31.213859    31.296936    31.504400     31.393603    31.241432   \n",
       "75%       39.837809    39.539145    39.920004     39.259747    38.505474   \n",
       "max       72.120633    83.856240    92.764368    100.907831    98.163545   \n",
       "\n",
       "          ...       sflat_noise    sroll_std   sroll_mean  sroll_noise  \\\n",
       "count     ...       2000.000000  2000.000000  2000.000000  2000.000000   \n",
       "mean      ...          0.007040     0.009648    13.515125    24.481013   \n",
       "std       ...          0.158591     0.156010    11.572505    14.782931   \n",
       "min       ...         -0.841209    -1.047266     6.145738    10.621702   \n",
       "25%       ...         -0.073462    -0.069485    10.483121    20.119718   \n",
       "50%       ...          0.009400     0.018312    12.590953    23.350114   \n",
       "75%       ...          0.090130     0.094727    15.309424    26.943112   \n",
       "max       ...          0.708718     0.771758   500.861016   589.306962   \n",
       "\n",
       "          rmse_std    rmse_mean   rmse_noise    h_target       target  \\\n",
       "count  2000.000000  2000.000000  2000.000000  2000.00000  2000.000000   \n",
       "mean      4.827707    22.530463     5.285919     0.64000    24.500000   \n",
       "std       5.143978     8.605834     2.296010     0.48012    14.434479   \n",
       "min       2.054451    10.441863     0.843697     0.00000     0.000000   \n",
       "25%       3.742620    17.424135     3.403414     0.00000    12.000000   \n",
       "50%       4.553567    20.781431     4.865013     1.00000    24.500000   \n",
       "75%       5.400495    25.663909     6.937377     1.00000    37.000000   \n",
       "max     221.594445   235.207972    15.894835     1.00000    49.000000   \n",
       "\n",
       "              fold  \n",
       "count  2000.000000  \n",
       "mean      3.000000  \n",
       "std       1.414567  \n",
       "min       1.000000  \n",
       "25%       2.000000  \n",
       "50%       3.000000  \n",
       "75%       4.000000  \n",
       "max       5.000000  \n",
       "\n",
       "[8 rows x 132 columns]"
      ]
     },
     "execution_count": 8,
     "metadata": {},
     "output_type": "execute_result"
    }
   ],
   "source": [
    "df.describe()"
   ]
  },
  {
   "cell_type": "code",
   "execution_count": 9,
   "metadata": {},
   "outputs": [],
   "source": [
    "from sklearn.model_selection import train_test_split\n",
    "train, test, = train_test_split(\n",
    "                        df[df.fold != 1], test_size=0.20, random_state=42)"
   ]
  },
  {
   "cell_type": "code",
   "execution_count": 10,
   "metadata": {},
   "outputs": [],
   "source": [
    "train_X = train.drop(['target', 'h_target', 'fold'], axis=1)\n",
    "train_y = train['h_target']\n",
    "test_X = test.drop(['target', 'h_target', 'fold'], axis=1)\n",
    "test_y = test['h_target']"
   ]
  },
  {
   "cell_type": "markdown",
   "metadata": {},
   "source": [
    "# Training"
   ]
  },
  {
   "cell_type": "code",
   "execution_count": 11,
   "metadata": {},
   "outputs": [
    {
     "data": {
      "text/plain": [
       "GridSearchCV(cv=5, error_score='raise-deprecating',\n",
       "       estimator=RandomForestClassifier(bootstrap=True, class_weight=None, criterion='gini',\n",
       "            max_depth=None, max_features='auto', max_leaf_nodes=None,\n",
       "            min_impurity_decrease=0.0, min_impurity_split=None,\n",
       "            min_samples_leaf=1, min_samples_split=2,\n",
       "            min_weight_fraction_leaf=0.0, n_estimators='warn', n_jobs=None,\n",
       "            oob_score=False, random_state=None, verbose=0,\n",
       "            warm_start=False),\n",
       "       fit_params=None, iid='warn', n_jobs=None,\n",
       "       param_grid={'criterion': ('gini', 'entropy'), 'n_estimators': range(5, 25)},\n",
       "       pre_dispatch='2*n_jobs', refit=True, return_train_score='warn',\n",
       "       scoring=None, verbose=0)"
      ]
     },
     "execution_count": 11,
     "metadata": {},
     "output_type": "execute_result"
    }
   ],
   "source": [
    "from sklearn.model_selection import GridSearchCV\n",
    "from sklearn.decomposition import PCA\n",
    "from sklearn.discriminant_analysis import LinearDiscriminantAnalysis\n",
    "from sklearn.feature_selection import SelectKBest, chi2, mutual_info_regression\n",
    "from sklearn.preprocessing import MinMaxScaler\n",
    "\n",
    "scaler = MinMaxScaler()\n",
    "train_X = scaler.fit_transform(train_X)\n",
    "feat_red = PCA(n_components=30)\n",
    "feat_red.fit(train_X,y=train_y)\n",
    "train_X = feat_red.transform(train_X)\n",
    "\n",
    "params = {\n",
    "          'n_estimators': range(5,25,1),\n",
    "          'criterion': ('gini', 'entropy')\n",
    "         }\n",
    "\n",
    "rfc = RandomForestClassifier()\n",
    "\n",
    "clf = GridSearchCV(rfc, params, cv=5)\n",
    "\n",
    "clf.fit(train_X, train_y)"
   ]
  },
  {
   "cell_type": "code",
   "execution_count": 12,
   "metadata": {},
   "outputs": [
    {
     "data": {
      "text/plain": [
       "['mean_fit_time',\n",
       " 'mean_score_time',\n",
       " 'mean_test_score',\n",
       " 'mean_train_score',\n",
       " 'param_criterion',\n",
       " 'param_n_estimators',\n",
       " 'params',\n",
       " 'rank_test_score',\n",
       " 'split0_test_score',\n",
       " 'split0_train_score',\n",
       " 'split1_test_score',\n",
       " 'split1_train_score',\n",
       " 'split2_test_score',\n",
       " 'split2_train_score',\n",
       " 'split3_test_score',\n",
       " 'split3_train_score',\n",
       " 'split4_test_score',\n",
       " 'split4_train_score',\n",
       " 'std_fit_time',\n",
       " 'std_score_time',\n",
       " 'std_test_score',\n",
       " 'std_train_score']"
      ]
     },
     "execution_count": 12,
     "metadata": {},
     "output_type": "execute_result"
    }
   ],
   "source": [
    "sorted(clf.cv_results_.keys())"
   ]
  },
  {
   "cell_type": "code",
   "execution_count": 13,
   "metadata": {},
   "outputs": [
    {
     "name": "stdout",
     "output_type": "stream",
     "text": [
      "0.76875\n",
      "Confusion matrix, without normalization\n",
      "[[ 56  60]\n",
      " [ 14 190]]\n"
     ]
    },
    {
     "data": {
      "image/png": "[encoded data removed]",
      "text/plain": [
       "<Figure size 720x720 with 2 Axes>"
      ]
     },
     "metadata": {
      "needs_background": "light"
     },
     "output_type": "display_data"
    }
   ],
   "source": [
    "test_X = scaler.transform(test_X)\n",
    "test_X = feat_red.transform(test_X)\n",
    "pred = clf.predict(test_X)\n",
    "print(metrics.accuracy_score(test_y, pred))\n",
    "cm = metrics.confusion_matrix(test_y, pred)\n",
    "plt.figure(figsize=(10,10))\n",
    "plot_confusion_matrix(cm, h_classes)\n",
    "plt.show()"
   ]
  },
  {
   "cell_type": "markdown",
   "metadata": {},
   "source": [
    "# All Data"
   ]
  },
  {
   "cell_type": "code",
   "execution_count": 14,
   "metadata": {},
   "outputs": [],
   "source": [
    "all_df = df[df.fold == 1]"
   ]
  },
  {
   "cell_type": "code",
   "execution_count": 15,
   "metadata": {},
   "outputs": [
    {
     "data": {
      "text/html": [
       "<div>\n",
       "<style scoped>\n",
       "    .dataframe tbody tr th:only-of-type {\n",
       "        vertical-align: middle;\n",
       "    }\n",
       "\n",
       "    .dataframe tbody tr th {\n",
       "        vertical-align: top;\n",
       "    }\n",
       "\n",
       "    .dataframe thead th {\n",
       "        text-align: right;\n",
       "    }\n",
       "</style>\n",
       "<table border=\"1\" class=\"dataframe\">\n",
       "  <thead>\n",
       "    <tr style=\"text-align: right;\">\n",
       "      <th></th>\n",
       "      <th>mfcc_2_std</th>\n",
       "      <th>mfcc_2_mean</th>\n",
       "      <th>mfcc_2_noise</th>\n",
       "      <th>mfcc_3_std</th>\n",
       "      <th>mfcc_3_mean</th>\n",
       "      <th>mfcc_3_noise</th>\n",
       "      <th>mfcc_4_std</th>\n",
       "      <th>mfcc_4_mean</th>\n",
       "      <th>mfcc_4_noise</th>\n",
       "      <th>mfcc_5_std</th>\n",
       "      <th>...</th>\n",
       "      <th>sflat_noise</th>\n",
       "      <th>sroll_std</th>\n",
       "      <th>sroll_mean</th>\n",
       "      <th>sroll_noise</th>\n",
       "      <th>rmse_std</th>\n",
       "      <th>rmse_mean</th>\n",
       "      <th>rmse_noise</th>\n",
       "      <th>h_target</th>\n",
       "      <th>target</th>\n",
       "      <th>fold</th>\n",
       "    </tr>\n",
       "  </thead>\n",
       "  <tbody>\n",
       "    <tr>\n",
       "      <th>0</th>\n",
       "      <td>35.667364</td>\n",
       "      <td>14.740245</td>\n",
       "      <td>16.602951</td>\n",
       "      <td>15.005460</td>\n",
       "      <td>16.179240</td>\n",
       "      <td>16.828098</td>\n",
       "      <td>32.462874</td>\n",
       "      <td>45.787937</td>\n",
       "      <td>28.678806</td>\n",
       "      <td>23.643274</td>\n",
       "      <td>...</td>\n",
       "      <td>-0.105465</td>\n",
       "      <td>0.168453</td>\n",
       "      <td>15.864316</td>\n",
       "      <td>28.057951</td>\n",
       "      <td>2.639015</td>\n",
       "      <td>23.832897</td>\n",
       "      <td>2.536619</td>\n",
       "      <td>0</td>\n",
       "      <td>0</td>\n",
       "      <td>1</td>\n",
       "    </tr>\n",
       "    <tr>\n",
       "      <th>1</th>\n",
       "      <td>51.734874</td>\n",
       "      <td>59.876712</td>\n",
       "      <td>43.340168</td>\n",
       "      <td>40.958814</td>\n",
       "      <td>42.690160</td>\n",
       "      <td>46.955925</td>\n",
       "      <td>47.402382</td>\n",
       "      <td>42.427015</td>\n",
       "      <td>47.718854</td>\n",
       "      <td>47.280539</td>\n",
       "      <td>...</td>\n",
       "      <td>0.130978</td>\n",
       "      <td>0.058634</td>\n",
       "      <td>18.333741</td>\n",
       "      <td>21.473678</td>\n",
       "      <td>5.970508</td>\n",
       "      <td>25.577867</td>\n",
       "      <td>8.273541</td>\n",
       "      <td>0</td>\n",
       "      <td>14</td>\n",
       "      <td>1</td>\n",
       "    </tr>\n",
       "    <tr>\n",
       "      <th>2</th>\n",
       "      <td>73.293082</td>\n",
       "      <td>51.260114</td>\n",
       "      <td>56.771102</td>\n",
       "      <td>46.585414</td>\n",
       "      <td>43.532728</td>\n",
       "      <td>44.083583</td>\n",
       "      <td>43.157130</td>\n",
       "      <td>39.906951</td>\n",
       "      <td>41.545332</td>\n",
       "      <td>44.470480</td>\n",
       "      <td>...</td>\n",
       "      <td>-0.193474</td>\n",
       "      <td>0.098370</td>\n",
       "      <td>16.710057</td>\n",
       "      <td>23.708848</td>\n",
       "      <td>4.871175</td>\n",
       "      <td>23.395992</td>\n",
       "      <td>5.818160</td>\n",
       "      <td>1</td>\n",
       "      <td>36</td>\n",
       "      <td>1</td>\n",
       "    </tr>\n",
       "    <tr>\n",
       "      <th>3</th>\n",
       "      <td>72.188714</td>\n",
       "      <td>53.494965</td>\n",
       "      <td>53.541272</td>\n",
       "      <td>46.128433</td>\n",
       "      <td>46.508483</td>\n",
       "      <td>46.338971</td>\n",
       "      <td>40.724094</td>\n",
       "      <td>42.056591</td>\n",
       "      <td>42.841345</td>\n",
       "      <td>45.893745</td>\n",
       "      <td>...</td>\n",
       "      <td>-0.063818</td>\n",
       "      <td>0.039127</td>\n",
       "      <td>15.443094</td>\n",
       "      <td>23.017032</td>\n",
       "      <td>5.280117</td>\n",
       "      <td>22.211582</td>\n",
       "      <td>6.298222</td>\n",
       "      <td>1</td>\n",
       "      <td>36</td>\n",
       "      <td>1</td>\n",
       "    </tr>\n",
       "    <tr>\n",
       "      <th>4</th>\n",
       "      <td>71.817087</td>\n",
       "      <td>54.003432</td>\n",
       "      <td>51.592964</td>\n",
       "      <td>46.246747</td>\n",
       "      <td>40.952082</td>\n",
       "      <td>40.668618</td>\n",
       "      <td>37.987653</td>\n",
       "      <td>37.161147</td>\n",
       "      <td>38.580692</td>\n",
       "      <td>38.386492</td>\n",
       "      <td>...</td>\n",
       "      <td>0.171314</td>\n",
       "      <td>-0.145659</td>\n",
       "      <td>13.280313</td>\n",
       "      <td>19.996978</td>\n",
       "      <td>4.810976</td>\n",
       "      <td>19.583407</td>\n",
       "      <td>5.920528</td>\n",
       "      <td>1</td>\n",
       "      <td>19</td>\n",
       "      <td>1</td>\n",
       "    </tr>\n",
       "  </tbody>\n",
       "</table>\n",
       "<p>5 rows × 132 columns</p>\n",
       "</div>"
      ],
      "text/plain": [
       "   mfcc_2_std  mfcc_2_mean  mfcc_2_noise  mfcc_3_std  mfcc_3_mean  \\\n",
       "0   35.667364    14.740245     16.602951   15.005460    16.179240   \n",
       "1   51.734874    59.876712     43.340168   40.958814    42.690160   \n",
       "2   73.293082    51.260114     56.771102   46.585414    43.532728   \n",
       "3   72.188714    53.494965     53.541272   46.128433    46.508483   \n",
       "4   71.817087    54.003432     51.592964   46.246747    40.952082   \n",
       "\n",
       "   mfcc_3_noise  mfcc_4_std  mfcc_4_mean  mfcc_4_noise  mfcc_5_std  ...   \\\n",
       "0     16.828098   32.462874    45.787937     28.678806   23.643274  ...    \n",
       "1     46.955925   47.402382    42.427015     47.718854   47.280539  ...    \n",
       "2     44.083583   43.157130    39.906951     41.545332   44.470480  ...    \n",
       "3     46.338971   40.724094    42.056591     42.841345   45.893745  ...    \n",
       "4     40.668618   37.987653    37.161147     38.580692   38.386492  ...    \n",
       "\n",
       "   sflat_noise  sroll_std  sroll_mean  sroll_noise  rmse_std  rmse_mean  \\\n",
       "0    -0.105465   0.168453   15.864316    28.057951  2.639015  23.832897   \n",
       "1     0.130978   0.058634   18.333741    21.473678  5.970508  25.577867   \n",
       "2    -0.193474   0.098370   16.710057    23.708848  4.871175  23.395992   \n",
       "3    -0.063818   0.039127   15.443094    23.017032  5.280117  22.211582   \n",
       "4     0.171314  -0.145659   13.280313    19.996978  4.810976  19.583407   \n",
       "\n",
       "   rmse_noise  h_target  target  fold  \n",
       "0    2.536619         0       0     1  \n",
       "1    8.273541         0      14     1  \n",
       "2    5.818160         1      36     1  \n",
       "3    6.298222         1      36     1  \n",
       "4    5.920528         1      19     1  \n",
       "\n",
       "[5 rows x 132 columns]"
      ]
     },
     "execution_count": 15,
     "metadata": {},
     "output_type": "execute_result"
    }
   ],
   "source": [
    "all_df.head()"
   ]
  },
  {
   "cell_type": "code",
   "execution_count": 16,
   "metadata": {},
   "outputs": [],
   "source": [
    "X = all_df.drop(['target', 'h_target', 'fold'], axis=1)\n",
    "y = all_df['h_target']\n",
    "X = scaler.transform(X)\n",
    "X = feat_red.transform(X)"
   ]
  },
  {
   "cell_type": "code",
   "execution_count": 17,
   "metadata": {},
   "outputs": [
    {
     "name": "stdout",
     "output_type": "stream",
     "text": [
      "0.6775\n",
      "Confusion matrix, without normalization\n",
      "[[ 52  92]\n",
      " [ 37 219]]\n"
     ]
    },
    {
     "data": {
      "image/png": "[encoded data removed]",
      "text/plain": [
       "<Figure size 720x720 with 2 Axes>"
      ]
     },
     "metadata": {
      "needs_background": "light"
     },
     "output_type": "display_data"
    }
   ],
   "source": [
    "pred = clf.predict(X)\n",
    "pred_prob = clf.predict_proba(X)\n",
    "print(metrics.accuracy_score(y, pred))\n",
    "cm = metrics.confusion_matrix(y, pred)\n",
    "plt.figure(figsize=(10,10))\n",
    "plot_confusion_matrix(cm, h_classes)\n",
    "plt.show()"
   ]
  },
  {
   "cell_type": "code",
   "execution_count": 18,
   "metadata": {},
   "outputs": [
    {
     "data": {
      "text/plain": [
       "RandomForestClassifier(bootstrap=True, class_weight=None, criterion='entropy',\n",
       "            max_depth=None, max_features='auto', max_leaf_nodes=None,\n",
       "            min_impurity_decrease=0.0, min_impurity_split=None,\n",
       "            min_samples_leaf=1, min_samples_split=2,\n",
       "            min_weight_fraction_leaf=0.0, n_estimators=23, n_jobs=None,\n",
       "            oob_score=False, random_state=None, verbose=0,\n",
       "            warm_start=False)"
      ]
     },
     "execution_count": 18,
     "metadata": {},
     "output_type": "execute_result"
    }
   ],
   "source": [
    "clf.best_estimator_ "
   ]
  },
  {
   "cell_type": "code",
   "execution_count": 19,
   "metadata": {},
   "outputs": [
    {
     "data": {
      "text/html": [
       "<div>\n",
       "<style scoped>\n",
       "    .dataframe tbody tr th:only-of-type {\n",
       "        vertical-align: middle;\n",
       "    }\n",
       "\n",
       "    .dataframe tbody tr th {\n",
       "        vertical-align: top;\n",
       "    }\n",
       "\n",
       "    .dataframe thead th {\n",
       "        text-align: right;\n",
       "    }\n",
       "</style>\n",
       "<table border=\"1\" class=\"dataframe\">\n",
       "  <thead>\n",
       "    <tr style=\"text-align: right;\">\n",
       "      <th></th>\n",
       "      <th>h_target</th>\n",
       "      <th>prob_0</th>\n",
       "      <th>prob_1</th>\n",
       "      <th>target</th>\n",
       "    </tr>\n",
       "  </thead>\n",
       "  <tbody>\n",
       "    <tr>\n",
       "      <th>0</th>\n",
       "      <td>Interacting Materials</td>\n",
       "      <td>0.304348</td>\n",
       "      <td>0.695652</td>\n",
       "      <td>chirping_birds</td>\n",
       "    </tr>\n",
       "    <tr>\n",
       "      <th>1</th>\n",
       "      <td>Interacting Materials</td>\n",
       "      <td>0.130435</td>\n",
       "      <td>0.869565</td>\n",
       "      <td>crow</td>\n",
       "    </tr>\n",
       "    <tr>\n",
       "      <th>2</th>\n",
       "      <td>Interacting Materials</td>\n",
       "      <td>0.391304</td>\n",
       "      <td>0.608696</td>\n",
       "      <td>dog</td>\n",
       "    </tr>\n",
       "    <tr>\n",
       "      <th>3</th>\n",
       "      <td>Human &amp; Animal</td>\n",
       "      <td>0.565217</td>\n",
       "      <td>0.434783</td>\n",
       "      <td>fireworks</td>\n",
       "    </tr>\n",
       "    <tr>\n",
       "      <th>4</th>\n",
       "      <td>Human &amp; Animal</td>\n",
       "      <td>0.565217</td>\n",
       "      <td>0.434783</td>\n",
       "      <td>mouse_click</td>\n",
       "    </tr>\n",
       "  </tbody>\n",
       "</table>\n",
       "</div>"
      ],
      "text/plain": [
       "                h_target    prob_0    prob_1          target\n",
       "0  Interacting Materials  0.304348  0.695652  chirping_birds\n",
       "1  Interacting Materials  0.130435  0.869565            crow\n",
       "2  Interacting Materials  0.391304  0.608696             dog\n",
       "3         Human & Animal  0.565217  0.434783       fireworks\n",
       "4         Human & Animal  0.565217  0.434783     mouse_click"
      ]
     },
     "execution_count": 19,
     "metadata": {},
     "output_type": "execute_result"
    }
   ],
   "source": [
    "import seaborn as sns\n",
    "misclassified = {\n",
    "    'h_target': [],\n",
    "    'target': [],\n",
    "    'prob_0': [],\n",
    "    'prob_1': []\n",
    "}\n",
    "for row, p, prob, Y in zip(all_df.iterrows(), pred, pred_prob, y):\n",
    "    Y = int(Y)\n",
    "    p = int(p)\n",
    "    if p!=Y:\n",
    "        misclassified['target'].append(classes[int(row[1]['target'])])\n",
    "        misclassified['h_target'].append(h_classes[p])\n",
    "        misclassified['prob_0'].append(prob[0])\n",
    "        misclassified['prob_1'].append(prob[1])\n",
    "\n",
    "misclassified = pd.DataFrame.from_dict(misclassified)\n",
    "misclassified.head()"
   ]
  },
  {
   "cell_type": "code",
   "execution_count": 20,
   "metadata": {},
   "outputs": [
    {
     "data": {
      "text/html": [
       "<div>\n",
       "<style scoped>\n",
       "    .dataframe tbody tr th:only-of-type {\n",
       "        vertical-align: middle;\n",
       "    }\n",
       "\n",
       "    .dataframe tbody tr th {\n",
       "        vertical-align: top;\n",
       "    }\n",
       "\n",
       "    .dataframe thead th {\n",
       "        text-align: right;\n",
       "    }\n",
       "</style>\n",
       "<table border=\"1\" class=\"dataframe\">\n",
       "  <thead>\n",
       "    <tr style=\"text-align: right;\">\n",
       "      <th></th>\n",
       "      <th>prob_0</th>\n",
       "      <th>prob_1</th>\n",
       "    </tr>\n",
       "    <tr>\n",
       "      <th>h_target</th>\n",
       "      <th></th>\n",
       "      <th></th>\n",
       "    </tr>\n",
       "  </thead>\n",
       "  <tbody>\n",
       "    <tr>\n",
       "      <th>Human &amp; Animal</th>\n",
       "      <td>0.594595</td>\n",
       "      <td>0.405405</td>\n",
       "    </tr>\n",
       "    <tr>\n",
       "      <th>Interacting Materials</th>\n",
       "      <td>0.326087</td>\n",
       "      <td>0.673913</td>\n",
       "    </tr>\n",
       "  </tbody>\n",
       "</table>\n",
       "</div>"
      ],
      "text/plain": [
       "                         prob_0    prob_1\n",
       "h_target                                 \n",
       "Human & Animal         0.594595  0.405405\n",
       "Interacting Materials  0.326087  0.673913"
      ]
     },
     "execution_count": 20,
     "metadata": {},
     "output_type": "execute_result"
    }
   ],
   "source": [
    "average_prob = misclassified.groupby('h_target').mean()\n",
    "average_prob.head()"
   ]
  },
  {
   "cell_type": "code",
   "execution_count": 21,
   "metadata": {},
   "outputs": [
    {
     "data": {
      "text/plain": [
       "<matplotlib.axes._subplots.AxesSubplot at 0x7f6f9ad03b70>"
      ]
     },
     "execution_count": 21,
     "metadata": {},
     "output_type": "execute_result"
    },
    {
     "data": {
      "image/png": "[encoded data removed]",
      "text/plain": [
       "<Figure size 3600x720 with 1 Axes>"
      ]
     },
     "metadata": {
      "needs_background": "light"
     },
     "output_type": "display_data"
    }
   ],
   "source": [
    "from matplotlib import pyplot as plt\n",
    "fig, ax = plt.subplots(figsize=(50,10))\n",
    "sns.countplot(x='target', hue='h_target',data=misclassified)"
   ]
  },
  {
   "cell_type": "code",
   "execution_count": null,
   "metadata": {},
   "outputs": [],
   "source": []
  }
 ],
 "metadata": {
  "kernelspec": {
   "display_name": "Python 3",
   "language": "python",
   "name": "python3"
  },
  "language_info": {
   "codemirror_mode": {
    "name": "ipython",
    "version": 3
   },
   "file_extension": ".py",
   "mimetype": "text/x-python",
   "name": "python",
   "nbconvert_exporter": "python",
   "pygments_lexer": "ipython3",
   "version": "3.5.2"
  }
 },
 "nbformat": 4,
 "nbformat_minor": 2
}
