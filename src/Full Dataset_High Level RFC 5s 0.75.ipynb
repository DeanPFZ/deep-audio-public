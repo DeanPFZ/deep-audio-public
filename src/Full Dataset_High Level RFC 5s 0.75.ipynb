{
 "cells": [
  {
   "cell_type": "code",
   "execution_count": 1,
   "metadata": {},
   "outputs": [
    {
     "name": "stderr",
     "output_type": "stream",
     "text": [
      "Using TensorFlow backend.\n"
     ]
    },
    {
     "name": "stdout",
     "output_type": "stream",
     "text": [
      "WARNING:tensorflow:From /usr/local/lib/python3.5/dist-packages/magenta/models/nsynth/wavenet/masked.py:116: UniformUnitScaling.__init__ (from tensorflow.python.ops.init_ops) is deprecated and will be removed in a future version.\n",
      "Instructions for updating:\n",
      "Use tf.initializers.variance_scaling instead with distribution=uniform to get equivalent behavior.\n"
     ]
    },
    {
     "name": "stderr",
     "output_type": "stream",
     "text": [
      "/usr/lib/python3.5/importlib/_bootstrap.py:222: RuntimeWarning: numpy.dtype size changed, may indicate binary incompatibility. Expected 96, got 88\n",
      "  return f(*args, **kwds)\n"
     ]
    }
   ],
   "source": [
    "import pandas as pd\n",
    "from preprocess import Audio_Processor\n",
    "from sklearn import metrics\n",
    "from classification_plots import plot_confusion_matrix, plot_learning_curve\n",
    "import matplotlib.pyplot as plt\n",
    "import os\n",
    "import numpy as np\n",
    "from sklearn.ensemble import RandomForestClassifier"
   ]
  },
  {
   "cell_type": "code",
   "execution_count": 2,
   "metadata": {},
   "outputs": [],
   "source": [
    "# Able to specify which GPU to use\n",
    "os.environ[\"CUDA_VISIBLE_DEVICES\"]=\"1\"\n",
    "\n",
    "SR = 44100\n",
    "blocksize = 220500\n",
    "overlap = 0"
   ]
  },
  {
   "cell_type": "code",
   "execution_count": 3,
   "metadata": {},
   "outputs": [],
   "source": [
    "import warnings\n",
    "warnings.filterwarnings('ignore')"
   ]
  },
  {
   "cell_type": "markdown",
   "metadata": {},
   "source": [
    "# Setup"
   ]
  },
  {
   "cell_type": "code",
   "execution_count": 4,
   "metadata": {},
   "outputs": [],
   "source": [
    "path_to_db = '../../FSDKaggle2018/'"
   ]
  },
  {
   "cell_type": "code",
   "execution_count": 5,
   "metadata": {},
   "outputs": [],
   "source": [
    "ps = Audio_Processor(path_to_db + 'train/')"
   ]
  },
  {
   "cell_type": "markdown",
   "metadata": {},
   "source": [
    "# Load Dataset\n",
    "Here we load the csv that describes each file in the dataset. We add a high level category that is defined in the ESC-50 documentation. This we realize is anthetical to true training, it is a stopgap for when we use NLP to classify tags into these categories."
   ]
  },
  {
   "cell_type": "code",
   "execution_count": 6,
   "metadata": {
    "scrolled": true
   },
   "outputs": [
    {
     "name": "stdout",
     "output_type": "stream",
     "text": [
      "          fname         label\n",
      "0  00044347.wav        Hi-hat\n",
      "1  001ca53d.wav     Saxophone\n",
      "2  002d256b.wav       Trumpet\n",
      "3  0033e230.wav  Glockenspiel\n",
      "4  00353774.wav         Cello\n"
     ]
    }
   ],
   "source": [
    "dataset = pd.read_csv(path_to_db + 'meta/train.csv')\n",
    "classes = dataset.label.unique()\n",
    "dataset = dataset.drop(['manually_verified', 'freesound_id', 'license'], axis=1)\n",
    "print(dataset.head())"
   ]
  },
  {
   "cell_type": "code",
   "execution_count": 7,
   "metadata": {},
   "outputs": [],
   "source": [
    "h_classes = ['Human & Animal', 'Interacting Materials', 'Musical Instruments']\n",
    "mapping = {'Hi-hat': h_classes[2],'Saxophone': h_classes[2],'Trumpet': h_classes[2],\n",
    "           'Glockenspiel': h_classes[2],'Cello': h_classes[2],'Knock': h_classes[1],\n",
    "           'Gunshot_or_gunfire': h_classes[1],'Clarinet': h_classes[2],'Computer_keyboard': h_classes[1],\n",
    "           'Keys_jangling': h_classes[1],'Snare_drum': h_classes[2],'Writing': h_classes[1],\n",
    "           'Laughter': h_classes[0],'Tearing': h_classes[1],'Fart': h_classes[1],'Oboe': h_classes[2],\n",
    "           'Flute': h_classes[2],'Cough': h_classes[0], 'Telephone': h_classes[1], 'Bark': h_classes[0],\n",
    "           'Chime': h_classes[2],'Bass_drum': h_classes[2],'Bus': h_classes[1], 'Squeak': h_classes[0],\n",
    "           'Scissors': h_classes[1],'Harmonica': h_classes[2],'Gong': h_classes[2],'Microwave_oven': h_classes[1],\n",
    "           'Burping_or_eructation': h_classes[0],'Double_bass': h_classes[2],'Shatter': h_classes[1],\n",
    "           'Fireworks': h_classes[1], 'Tambourine': h_classes[2], 'Cowbell': h_classes[2], 'Electric_piano': h_classes[2],\n",
    "           'Meow': h_classes[0], 'Drawer_open_or_close': h_classes[1], 'Applause': h_classes[1], 'Acoustic_guitar': h_classes[2],\n",
    "           'Violin_or_fiddle': h_classes[2], 'Finger_snapping': h_classes[1]\n",
    "            }"
   ]
  },
  {
   "cell_type": "code",
   "execution_count": 8,
   "metadata": {},
   "outputs": [],
   "source": [
    "from data_utils import enumerate_strings\n",
    "dataset['h_category'] = None\n",
    "for index, row in dataset.iterrows():\n",
    "    row['target'] = np.where(classes == row['label'])\n",
    "    dataset.loc[index, 'h_category'] = mapping[row['label']]\n",
    "dataset.columns = ['filename', 'target', 'h_category']"
   ]
  },
  {
   "cell_type": "code",
   "execution_count": 9,
   "metadata": {},
   "outputs": [],
   "source": [
    "enum_map = enumerate_strings(dataset, ['filename'])"
   ]
  },
  {
   "cell_type": "code",
   "execution_count": 10,
   "metadata": {},
   "outputs": [
    {
     "data": {
      "text/html": [
       "<div>\n",
       "<style scoped>\n",
       "    .dataframe tbody tr th:only-of-type {\n",
       "        vertical-align: middle;\n",
       "    }\n",
       "\n",
       "    .dataframe tbody tr th {\n",
       "        vertical-align: top;\n",
       "    }\n",
       "\n",
       "    .dataframe thead th {\n",
       "        text-align: right;\n",
       "    }\n",
       "</style>\n",
       "<table border=\"1\" class=\"dataframe\">\n",
       "  <thead>\n",
       "    <tr style=\"text-align: right;\">\n",
       "      <th></th>\n",
       "      <th>filename</th>\n",
       "      <th>target</th>\n",
       "      <th>h_category</th>\n",
       "    </tr>\n",
       "  </thead>\n",
       "  <tbody>\n",
       "    <tr>\n",
       "      <th>0</th>\n",
       "      <td>00044347.wav</td>\n",
       "      <td>23</td>\n",
       "      <td>2</td>\n",
       "    </tr>\n",
       "    <tr>\n",
       "      <th>1</th>\n",
       "      <td>001ca53d.wav</td>\n",
       "      <td>30</td>\n",
       "      <td>2</td>\n",
       "    </tr>\n",
       "    <tr>\n",
       "      <th>2</th>\n",
       "      <td>002d256b.wav</td>\n",
       "      <td>38</td>\n",
       "      <td>2</td>\n",
       "    </tr>\n",
       "    <tr>\n",
       "      <th>3</th>\n",
       "      <td>0033e230.wav</td>\n",
       "      <td>19</td>\n",
       "      <td>2</td>\n",
       "    </tr>\n",
       "    <tr>\n",
       "      <th>4</th>\n",
       "      <td>00353774.wav</td>\n",
       "      <td>6</td>\n",
       "      <td>2</td>\n",
       "    </tr>\n",
       "  </tbody>\n",
       "</table>\n",
       "</div>"
      ],
      "text/plain": [
       "       filename  target  h_category\n",
       "0  00044347.wav      23           2\n",
       "1  001ca53d.wav      30           2\n",
       "2  002d256b.wav      38           2\n",
       "3  0033e230.wav      19           2\n",
       "4  00353774.wav       6           2"
      ]
     },
     "execution_count": 10,
     "metadata": {},
     "output_type": "execute_result"
    }
   ],
   "source": [
    "dataset.head()"
   ]
  },
  {
   "cell_type": "markdown",
   "metadata": {},
   "source": [
    "## Getting Preprocessed Data\n",
    "We allow for previously preprocessed data to be retrieved for faster training turnaround. If the fold has been preprocessed, it is loaded but if not it is processed and saved."
   ]
  },
  {
   "cell_type": "code",
   "execution_count": 11,
   "metadata": {},
   "outputs": [
    {
     "name": "stdout",
     "output_type": "stream",
     "text": [
      "Preprocess file not found, building new one\n",
      "Epoch 1/1\n",
      "2/2 [==============================] - 0s 77ms/step - loss: 1.2490\n",
      "Epoch 1/1\n",
      "2/2 [==============================] - 0s 61ms/step - loss: 1.3341\n",
      "\tBytes: 16910096\n",
      "\tProcessing Time: 332.36981225013733\n"
     ]
    }
   ],
   "source": [
    "df = ps.preprocess_fold(dataset, \n",
    "                        kind='mfcc', \n",
    "                        fld=None, \n",
    "                        blocksize=blocksize, \n",
    "                        overlap=overlap)"
   ]
  },
  {
   "cell_type": "code",
   "execution_count": 12,
   "metadata": {},
   "outputs": [
    {
     "data": {
      "text/html": [
       "<div>\n",
       "<style scoped>\n",
       "    .dataframe tbody tr th:only-of-type {\n",
       "        vertical-align: middle;\n",
       "    }\n",
       "\n",
       "    .dataframe tbody tr th {\n",
       "        vertical-align: top;\n",
       "    }\n",
       "\n",
       "    .dataframe thead th {\n",
       "        text-align: right;\n",
       "    }\n",
       "</style>\n",
       "<table border=\"1\" class=\"dataframe\">\n",
       "  <thead>\n",
       "    <tr style=\"text-align: right;\">\n",
       "      <th></th>\n",
       "      <th>0</th>\n",
       "      <th>1</th>\n",
       "      <th>2</th>\n",
       "      <th>3</th>\n",
       "      <th>4</th>\n",
       "      <th>5</th>\n",
       "      <th>6</th>\n",
       "      <th>7</th>\n",
       "      <th>8</th>\n",
       "      <th>9</th>\n",
       "      <th>...</th>\n",
       "      <th>106</th>\n",
       "      <th>107</th>\n",
       "      <th>108</th>\n",
       "      <th>109</th>\n",
       "      <th>110</th>\n",
       "      <th>111</th>\n",
       "      <th>112</th>\n",
       "      <th>113</th>\n",
       "      <th>l_target</th>\n",
       "      <th>h_target</th>\n",
       "    </tr>\n",
       "  </thead>\n",
       "  <tbody>\n",
       "    <tr>\n",
       "      <th>count</th>\n",
       "      <td>18222.000000</td>\n",
       "      <td>18222.000000</td>\n",
       "      <td>18222.000000</td>\n",
       "      <td>18222.000000</td>\n",
       "      <td>18222.000000</td>\n",
       "      <td>18222.000000</td>\n",
       "      <td>18222.000000</td>\n",
       "      <td>18222.000000</td>\n",
       "      <td>18222.000000</td>\n",
       "      <td>18222.000000</td>\n",
       "      <td>...</td>\n",
       "      <td>1.822200e+04</td>\n",
       "      <td>1.822200e+04</td>\n",
       "      <td>1.822200e+04</td>\n",
       "      <td>18222.000000</td>\n",
       "      <td>1.822200e+04</td>\n",
       "      <td>18222.000000</td>\n",
       "      <td>18222.000000</td>\n",
       "      <td>18222.000000</td>\n",
       "      <td>18222.000000</td>\n",
       "      <td>18222.000000</td>\n",
       "    </tr>\n",
       "    <tr>\n",
       "      <th>mean</th>\n",
       "      <td>0.375053</td>\n",
       "      <td>0.347806</td>\n",
       "      <td>0.224131</td>\n",
       "      <td>0.182045</td>\n",
       "      <td>0.160871</td>\n",
       "      <td>0.142232</td>\n",
       "      <td>0.132101</td>\n",
       "      <td>0.131963</td>\n",
       "      <td>0.123560</td>\n",
       "      <td>0.118974</td>\n",
       "      <td>...</td>\n",
       "      <td>7.735157e-06</td>\n",
       "      <td>4.717090e-06</td>\n",
       "      <td>-1.100088e-05</td>\n",
       "      <td>-0.000009</td>\n",
       "      <td>-4.992756e-06</td>\n",
       "      <td>0.000009</td>\n",
       "      <td>0.000016</td>\n",
       "      <td>0.000017</td>\n",
       "      <td>1.308912</td>\n",
       "      <td>19.675612</td>\n",
       "    </tr>\n",
       "    <tr>\n",
       "      <th>std</th>\n",
       "      <td>0.187704</td>\n",
       "      <td>0.164944</td>\n",
       "      <td>0.093299</td>\n",
       "      <td>0.074428</td>\n",
       "      <td>0.068584</td>\n",
       "      <td>0.059889</td>\n",
       "      <td>0.056583</td>\n",
       "      <td>0.056911</td>\n",
       "      <td>0.053612</td>\n",
       "      <td>0.054338</td>\n",
       "      <td>...</td>\n",
       "      <td>1.708941e-03</td>\n",
       "      <td>1.689558e-03</td>\n",
       "      <td>1.701211e-03</td>\n",
       "      <td>0.001699</td>\n",
       "      <td>1.691888e-03</td>\n",
       "      <td>0.001686</td>\n",
       "      <td>0.001693</td>\n",
       "      <td>0.001700</td>\n",
       "      <td>0.728652</td>\n",
       "      <td>12.664897</td>\n",
       "    </tr>\n",
       "    <tr>\n",
       "      <th>min</th>\n",
       "      <td>0.000000</td>\n",
       "      <td>0.000000</td>\n",
       "      <td>0.000000</td>\n",
       "      <td>0.000000</td>\n",
       "      <td>0.000000</td>\n",
       "      <td>0.000000</td>\n",
       "      <td>0.000000</td>\n",
       "      <td>0.000000</td>\n",
       "      <td>0.000000</td>\n",
       "      <td>0.000000</td>\n",
       "      <td>...</td>\n",
       "      <td>-4.825422e-02</td>\n",
       "      <td>-6.926859e-02</td>\n",
       "      <td>-6.926861e-02</td>\n",
       "      <td>-0.081712</td>\n",
       "      <td>-8.171195e-02</td>\n",
       "      <td>-0.059185</td>\n",
       "      <td>-0.048254</td>\n",
       "      <td>-0.069269</td>\n",
       "      <td>0.000000</td>\n",
       "      <td>0.000000</td>\n",
       "    </tr>\n",
       "    <tr>\n",
       "      <th>25%</th>\n",
       "      <td>0.237022</td>\n",
       "      <td>0.230735</td>\n",
       "      <td>0.170046</td>\n",
       "      <td>0.136809</td>\n",
       "      <td>0.118877</td>\n",
       "      <td>0.105949</td>\n",
       "      <td>0.097490</td>\n",
       "      <td>0.094810</td>\n",
       "      <td>0.090518</td>\n",
       "      <td>0.084657</td>\n",
       "      <td>...</td>\n",
       "      <td>-4.627338e-05</td>\n",
       "      <td>-2.918305e-05</td>\n",
       "      <td>-4.025673e-05</td>\n",
       "      <td>-0.000030</td>\n",
       "      <td>-3.659044e-05</td>\n",
       "      <td>-0.000030</td>\n",
       "      <td>-0.000033</td>\n",
       "      <td>-0.000031</td>\n",
       "      <td>1.000000</td>\n",
       "      <td>8.000000</td>\n",
       "    </tr>\n",
       "    <tr>\n",
       "      <th>50%</th>\n",
       "      <td>0.371514</td>\n",
       "      <td>0.350901</td>\n",
       "      <td>0.226289</td>\n",
       "      <td>0.182683</td>\n",
       "      <td>0.156328</td>\n",
       "      <td>0.138778</td>\n",
       "      <td>0.127950</td>\n",
       "      <td>0.127679</td>\n",
       "      <td>0.118707</td>\n",
       "      <td>0.112826</td>\n",
       "      <td>...</td>\n",
       "      <td>-4.471541e-11</td>\n",
       "      <td>1.315517e-11</td>\n",
       "      <td>-1.924679e-11</td>\n",
       "      <td>0.000000</td>\n",
       "      <td>-8.023243e-12</td>\n",
       "      <td>0.000000</td>\n",
       "      <td>0.000000</td>\n",
       "      <td>0.000000</td>\n",
       "      <td>1.000000</td>\n",
       "      <td>20.000000</td>\n",
       "    </tr>\n",
       "    <tr>\n",
       "      <th>75%</th>\n",
       "      <td>0.511437</td>\n",
       "      <td>0.465834</td>\n",
       "      <td>0.279160</td>\n",
       "      <td>0.225749</td>\n",
       "      <td>0.199854</td>\n",
       "      <td>0.174745</td>\n",
       "      <td>0.161177</td>\n",
       "      <td>0.164637</td>\n",
       "      <td>0.150517</td>\n",
       "      <td>0.145909</td>\n",
       "      <td>...</td>\n",
       "      <td>2.691637e-05</td>\n",
       "      <td>4.045536e-05</td>\n",
       "      <td>2.665303e-05</td>\n",
       "      <td>0.000035</td>\n",
       "      <td>2.795723e-05</td>\n",
       "      <td>0.000034</td>\n",
       "      <td>0.000028</td>\n",
       "      <td>0.000030</td>\n",
       "      <td>2.000000</td>\n",
       "      <td>31.000000</td>\n",
       "    </tr>\n",
       "    <tr>\n",
       "      <th>max</th>\n",
       "      <td>0.907319</td>\n",
       "      <td>0.855296</td>\n",
       "      <td>0.750474</td>\n",
       "      <td>0.575756</td>\n",
       "      <td>0.533589</td>\n",
       "      <td>0.483655</td>\n",
       "      <td>0.486102</td>\n",
       "      <td>0.436268</td>\n",
       "      <td>0.435759</td>\n",
       "      <td>0.490008</td>\n",
       "      <td>...</td>\n",
       "      <td>8.171196e-02</td>\n",
       "      <td>8.171195e-02</td>\n",
       "      <td>8.171193e-02</td>\n",
       "      <td>0.065644</td>\n",
       "      <td>6.926860e-02</td>\n",
       "      <td>0.081712</td>\n",
       "      <td>0.081712</td>\n",
       "      <td>0.081712</td>\n",
       "      <td>2.000000</td>\n",
       "      <td>40.000000</td>\n",
       "    </tr>\n",
       "  </tbody>\n",
       "</table>\n",
       "<p>8 rows × 116 columns</p>\n",
       "</div>"
      ],
      "text/plain": [
       "                  0             1             2             3             4  \\\n",
       "count  18222.000000  18222.000000  18222.000000  18222.000000  18222.000000   \n",
       "mean       0.375053      0.347806      0.224131      0.182045      0.160871   \n",
       "std        0.187704      0.164944      0.093299      0.074428      0.068584   \n",
       "min        0.000000      0.000000      0.000000      0.000000      0.000000   \n",
       "25%        0.237022      0.230735      0.170046      0.136809      0.118877   \n",
       "50%        0.371514      0.350901      0.226289      0.182683      0.156328   \n",
       "75%        0.511437      0.465834      0.279160      0.225749      0.199854   \n",
       "max        0.907319      0.855296      0.750474      0.575756      0.533589   \n",
       "\n",
       "                  5             6             7             8             9  \\\n",
       "count  18222.000000  18222.000000  18222.000000  18222.000000  18222.000000   \n",
       "mean       0.142232      0.132101      0.131963      0.123560      0.118974   \n",
       "std        0.059889      0.056583      0.056911      0.053612      0.054338   \n",
       "min        0.000000      0.000000      0.000000      0.000000      0.000000   \n",
       "25%        0.105949      0.097490      0.094810      0.090518      0.084657   \n",
       "50%        0.138778      0.127950      0.127679      0.118707      0.112826   \n",
       "75%        0.174745      0.161177      0.164637      0.150517      0.145909   \n",
       "max        0.483655      0.486102      0.436268      0.435759      0.490008   \n",
       "\n",
       "           ...                106           107           108           109  \\\n",
       "count      ...       1.822200e+04  1.822200e+04  1.822200e+04  18222.000000   \n",
       "mean       ...       7.735157e-06  4.717090e-06 -1.100088e-05     -0.000009   \n",
       "std        ...       1.708941e-03  1.689558e-03  1.701211e-03      0.001699   \n",
       "min        ...      -4.825422e-02 -6.926859e-02 -6.926861e-02     -0.081712   \n",
       "25%        ...      -4.627338e-05 -2.918305e-05 -4.025673e-05     -0.000030   \n",
       "50%        ...      -4.471541e-11  1.315517e-11 -1.924679e-11      0.000000   \n",
       "75%        ...       2.691637e-05  4.045536e-05  2.665303e-05      0.000035   \n",
       "max        ...       8.171196e-02  8.171195e-02  8.171193e-02      0.065644   \n",
       "\n",
       "                110           111           112           113      l_target  \\\n",
       "count  1.822200e+04  18222.000000  18222.000000  18222.000000  18222.000000   \n",
       "mean  -4.992756e-06      0.000009      0.000016      0.000017      1.308912   \n",
       "std    1.691888e-03      0.001686      0.001693      0.001700      0.728652   \n",
       "min   -8.171195e-02     -0.059185     -0.048254     -0.069269      0.000000   \n",
       "25%   -3.659044e-05     -0.000030     -0.000033     -0.000031      1.000000   \n",
       "50%   -8.023243e-12      0.000000      0.000000      0.000000      1.000000   \n",
       "75%    2.795723e-05      0.000034      0.000028      0.000030      2.000000   \n",
       "max    6.926860e-02      0.081712      0.081712      0.081712      2.000000   \n",
       "\n",
       "           h_target  \n",
       "count  18222.000000  \n",
       "mean      19.675612  \n",
       "std       12.664897  \n",
       "min        0.000000  \n",
       "25%        8.000000  \n",
       "50%       20.000000  \n",
       "75%       31.000000  \n",
       "max       40.000000  \n",
       "\n",
       "[8 rows x 116 columns]"
      ]
     },
     "execution_count": 12,
     "metadata": {},
     "output_type": "execute_result"
    }
   ],
   "source": [
    "df.describe()"
   ]
  },
  {
   "cell_type": "code",
   "execution_count": 13,
   "metadata": {},
   "outputs": [],
   "source": [
    "from sklearn.model_selection import train_test_split\n",
    "train, test, = train_test_split(\n",
    "                        df, test_size=0.20, random_state=125)"
   ]
  },
  {
   "cell_type": "code",
   "execution_count": 14,
   "metadata": {},
   "outputs": [],
   "source": [
    "train_X = train.drop(['l_target', 'h_target'], axis=1)\n",
    "train_y = train['l_target']\n",
    "test_X = test.drop(['l_target', 'h_target'], axis=1)\n",
    "test_y = test['l_target']"
   ]
  },
  {
   "cell_type": "markdown",
   "metadata": {},
   "source": [
    "# Shallow Net\n",
    "Separate into classes"
   ]
  },
  {
   "cell_type": "code",
   "execution_count": 15,
   "metadata": {},
   "outputs": [
    {
     "data": {
      "text/plain": [
       "GridSearchCV(cv=5, error_score='raise-deprecating',\n",
       "       estimator=RandomForestClassifier(bootstrap=True, class_weight=None, criterion='gini',\n",
       "            max_depth=None, max_features='auto', max_leaf_nodes=None,\n",
       "            min_impurity_decrease=0.0, min_impurity_split=None,\n",
       "            min_samples_leaf=1, min_samples_split=2,\n",
       "            min_weight_fraction_leaf=0.0, n_estimators='warn', n_jobs=None,\n",
       "            oob_score=False, random_state=None, verbose=0,\n",
       "            warm_start=False),\n",
       "       fit_params=None, iid='warn', n_jobs=None,\n",
       "       param_grid={'criterion': ('gini', 'entropy'), 'n_estimators': range(5, 25)},\n",
       "       pre_dispatch='2*n_jobs', refit=True, return_train_score='warn',\n",
       "       scoring=None, verbose=0)"
      ]
     },
     "execution_count": 15,
     "metadata": {},
     "output_type": "execute_result"
    }
   ],
   "source": [
    "from sklearn.model_selection import GridSearchCV\n",
    "params = {\n",
    "          'n_estimators': range(5,25,1),\n",
    "          'criterion': ('gini', 'entropy')\n",
    "         }\n",
    "\n",
    "rfc = RandomForestClassifier()\n",
    "\n",
    "clf = GridSearchCV(rfc, params, cv=5)\n",
    "\n",
    "clf.fit(train_X, train_y)"
   ]
  },
  {
   "cell_type": "code",
   "execution_count": 16,
   "metadata": {},
   "outputs": [
    {
     "name": "stdout",
     "output_type": "stream",
     "text": [
      "0.7519890260631001\n",
      "Confusion matrix, without normalization\n",
      "[[ 223  194  139]\n",
      " [  57 1057  269]\n",
      " [  52  193 1461]]\n"
     ]
    },
    {
     "data": {
      "image/png": "[encoded data removed]",
      "text/plain": [
       "<Figure size 720x720 with 2 Axes>"
      ]
     },
     "metadata": {
      "needs_background": "light"
     },
     "output_type": "display_data"
    }
   ],
   "source": [
    "pred = clf.predict(test_X)\n",
    "print(metrics.accuracy_score(test_y, pred))\n",
    "cm = metrics.confusion_matrix(test_y, pred)\n",
    "plt.figure(figsize=(10,10))\n",
    "plot_confusion_matrix(cm, h_classes)\n",
    "plt.show()"
   ]
  },
  {
   "cell_type": "markdown",
   "metadata": {},
   "source": [
    "# All Data"
   ]
  },
  {
   "cell_type": "code",
   "execution_count": 17,
   "metadata": {},
   "outputs": [
    {
     "name": "stdout",
     "output_type": "stream",
     "text": [
      "{'target': LabelEncoder(), 'h_category': LabelEncoder()}\n"
     ]
    }
   ],
   "source": [
    "print(enum_map)"
   ]
  },
  {
   "cell_type": "code",
   "execution_count": 18,
   "metadata": {},
   "outputs": [
    {
     "name": "stdout",
     "output_type": "stream",
     "text": [
      "['Acoustic_guitar' 'Applause' 'Bark' 'Bass_drum' 'Burping_or_eructation'\n",
      " 'Bus' 'Cello' 'Chime' 'Clarinet' 'Computer_keyboard' 'Cough' 'Cowbell'\n",
      " 'Double_bass' 'Drawer_open_or_close' 'Electric_piano' 'Fart'\n",
      " 'Finger_snapping' 'Fireworks' 'Flute' 'Glockenspiel' 'Gong'\n",
      " 'Gunshot_or_gunfire' 'Harmonica' 'Hi-hat' 'Keys_jangling' 'Knock'\n",
      " 'Laughter' 'Meow' 'Microwave_oven' 'Oboe' 'Saxophone' 'Scissors'\n",
      " 'Shatter' 'Snare_drum' 'Squeak' 'Tambourine' 'Tearing' 'Telephone'\n",
      " 'Trumpet' 'Violin_or_fiddle' 'Writing']\n"
     ]
    },
    {
     "data": {
      "text/html": [
       "<div>\n",
       "<style scoped>\n",
       "    .dataframe tbody tr th:only-of-type {\n",
       "        vertical-align: middle;\n",
       "    }\n",
       "\n",
       "    .dataframe tbody tr th {\n",
       "        vertical-align: top;\n",
       "    }\n",
       "\n",
       "    .dataframe thead th {\n",
       "        text-align: right;\n",
       "    }\n",
       "</style>\n",
       "<table border=\"1\" class=\"dataframe\">\n",
       "  <thead>\n",
       "    <tr style=\"text-align: right;\">\n",
       "      <th></th>\n",
       "      <th>h_target</th>\n",
       "      <th>l_target</th>\n",
       "    </tr>\n",
       "  </thead>\n",
       "  <tbody>\n",
       "    <tr>\n",
       "      <th>0</th>\n",
       "      <td>Bark</td>\n",
       "      <td>Human &amp; Animal</td>\n",
       "    </tr>\n",
       "    <tr>\n",
       "      <th>1</th>\n",
       "      <td>Snare_drum</td>\n",
       "      <td>Musical Instruments</td>\n",
       "    </tr>\n",
       "    <tr>\n",
       "      <th>2</th>\n",
       "      <td>Snare_drum</td>\n",
       "      <td>Musical Instruments</td>\n",
       "    </tr>\n",
       "    <tr>\n",
       "      <th>3</th>\n",
       "      <td>Writing</td>\n",
       "      <td>Interacting Materials</td>\n",
       "    </tr>\n",
       "    <tr>\n",
       "      <th>4</th>\n",
       "      <td>Applause</td>\n",
       "      <td>Interacting Materials</td>\n",
       "    </tr>\n",
       "  </tbody>\n",
       "</table>\n",
       "</div>"
      ],
      "text/plain": [
       "     h_target               l_target\n",
       "0        Bark         Human & Animal\n",
       "1  Snare_drum    Musical Instruments\n",
       "2  Snare_drum    Musical Instruments\n",
       "3     Writing  Interacting Materials\n",
       "4    Applause  Interacting Materials"
      ]
     },
     "execution_count": 18,
     "metadata": {},
     "output_type": "execute_result"
    }
   ],
   "source": [
    "import seaborn as sns\n",
    "misclassified = {\n",
    "    'h_target': [],\n",
    "    'l_target': []\n",
    "}\n",
    "\n",
    "classes = enum_map['target'].inverse_transform(range(0,41))\n",
    "print(classes)\n",
    "\n",
    "for row, p, Y in zip(test.iterrows(), pred, test_y):\n",
    "    if p != Y:\n",
    "        misclassified['h_target'].append(classes[int(row[1]['h_target'])])\n",
    "        misclassified['l_target'].append(h_classes[Y])\n",
    "\n",
    "misclassified = pd.DataFrame.from_dict(misclassified)\n",
    "misclassified.head()"
   ]
  },
  {
   "cell_type": "code",
   "execution_count": 19,
   "metadata": {},
   "outputs": [
    {
     "data": {
      "text/plain": [
       "<matplotlib.axes._subplots.AxesSubplot at 0x7f7a0c2c0438>"
      ]
     },
     "execution_count": 19,
     "metadata": {},
     "output_type": "execute_result"
    },
    {
     "data": {
      "image/png": "[encoded data removed]",
      "text/plain": [
       "<Figure size 3600x720 with 1 Axes>"
      ]
     },
     "metadata": {
      "needs_background": "light"
     },
     "output_type": "display_data"
    }
   ],
   "source": [
    "from matplotlib import pyplot as plt\n",
    "fig, ax = plt.subplots(figsize=(50,10))\n",
    "sns.countplot(x='h_target', hue='l_target',data=misclassified)"
   ]
  },
  {
   "cell_type": "code",
   "execution_count": null,
   "metadata": {},
   "outputs": [],
   "source": []
  }
 ],
 "metadata": {
  "kernelspec": {
   "display_name": "Python 3",
   "language": "python",
   "name": "python3"
  },
  "language_info": {
   "codemirror_mode": {
    "name": "ipython",
    "version": 3
   },
   "file_extension": ".py",
   "mimetype": "text/x-python",
   "name": "python",
   "nbconvert_exporter": "python",
   "pygments_lexer": "ipython3",
   "version": "3.5.2"
  }
 },
 "nbformat": 4,
 "nbformat_minor": 2
}
