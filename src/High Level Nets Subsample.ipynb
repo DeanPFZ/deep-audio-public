{
 "cells": [
  {
   "cell_type": "code",
   "execution_count": 1,
   "metadata": {},
   "outputs": [
    {
     "name": "stderr",
     "output_type": "stream",
     "text": [
      "Using TensorFlow backend.\n"
     ]
    }
   ],
   "source": [
    "import pandas as pd\n",
    "from preprocess import Audio_Processor\n",
    "import data_utils as du\n",
    "from sklearn import metrics\n",
    "from keras.wrappers.scikit_learn import KerasClassifier\n",
    "from classification_plots import plot_confusion_matrix\n",
    "import matplotlib.pyplot as plt\n",
    "import snn_classifier as snn_clas"
   ]
  },
  {
   "cell_type": "code",
   "execution_count": 2,
   "metadata": {},
   "outputs": [],
   "source": [
    "import warnings\n",
    "warnings.filterwarnings('ignore')"
   ]
  },
  {
   "cell_type": "markdown",
   "metadata": {},
   "source": [
    "# Setup"
   ]
  },
  {
   "cell_type": "code",
   "execution_count": 3,
   "metadata": {},
   "outputs": [],
   "source": [
    "path_to_db='../ESC-50/'\n",
    "ps = Audio_Processor(path_to_db + 'audio/')"
   ]
  },
  {
   "cell_type": "markdown",
   "metadata": {},
   "source": [
    "# Load Dataset\n",
    "Here we load the csv that describes each file in the dataset. We add a high level category that is defined in the ESC-50 documentation. This we realize is anthetical to true training, it is a stopgap for when we use NLP to classify tags into these categories."
   ]
  },
  {
   "cell_type": "code",
   "execution_count": 4,
   "metadata": {},
   "outputs": [],
   "source": [
    "dataset = pd.read_csv(path_to_db + 'meta/esc50.csv')\n",
    "classes = [None] * 50\n",
    "h_classes = ['animal', 'nature', 'human', 'domestic', 'urban']"
   ]
  },
  {
   "cell_type": "code",
   "execution_count": 5,
   "metadata": {},
   "outputs": [],
   "source": [
    "dataset['h_category'] = None\n",
    "for index, row in dataset.iterrows():\n",
    "    target = row['target']\n",
    "    classes[target] = row['category']\n",
    "    if target < 10:\n",
    "        dataset.loc[index, 'h_category'] = 0\n",
    "    elif target < 20:\n",
    "        dataset.loc[index, 'h_category'] = 1\n",
    "    elif target < 30:\n",
    "        dataset.loc[index, 'h_category'] = 2\n",
    "    elif target < 40:\n",
    "        dataset.loc[index, 'h_category'] = 3\n",
    "    elif target < 50:\n",
    "        dataset.loc[index, 'h_category'] = 4"
   ]
  },
  {
   "cell_type": "code",
   "execution_count": 6,
   "metadata": {},
   "outputs": [
    {
     "data": {
      "text/html": [
       "<div>\n",
       "<style scoped>\n",
       "    .dataframe tbody tr th:only-of-type {\n",
       "        vertical-align: middle;\n",
       "    }\n",
       "\n",
       "    .dataframe tbody tr th {\n",
       "        vertical-align: top;\n",
       "    }\n",
       "\n",
       "    .dataframe thead th {\n",
       "        text-align: right;\n",
       "    }\n",
       "</style>\n",
       "<table border=\"1\" class=\"dataframe\">\n",
       "  <thead>\n",
       "    <tr style=\"text-align: right;\">\n",
       "      <th></th>\n",
       "      <th>filename</th>\n",
       "      <th>fold</th>\n",
       "      <th>target</th>\n",
       "      <th>category</th>\n",
       "      <th>esc10</th>\n",
       "      <th>src_file</th>\n",
       "      <th>take</th>\n",
       "      <th>h_category</th>\n",
       "    </tr>\n",
       "  </thead>\n",
       "  <tbody>\n",
       "    <tr>\n",
       "      <th>0</th>\n",
       "      <td>1-100032-A-0.wav</td>\n",
       "      <td>1</td>\n",
       "      <td>0</td>\n",
       "      <td>dog</td>\n",
       "      <td>True</td>\n",
       "      <td>100032</td>\n",
       "      <td>A</td>\n",
       "      <td>0</td>\n",
       "    </tr>\n",
       "    <tr>\n",
       "      <th>1</th>\n",
       "      <td>1-100038-A-14.wav</td>\n",
       "      <td>1</td>\n",
       "      <td>14</td>\n",
       "      <td>chirping_birds</td>\n",
       "      <td>False</td>\n",
       "      <td>100038</td>\n",
       "      <td>A</td>\n",
       "      <td>1</td>\n",
       "    </tr>\n",
       "    <tr>\n",
       "      <th>2</th>\n",
       "      <td>1-100210-A-36.wav</td>\n",
       "      <td>1</td>\n",
       "      <td>36</td>\n",
       "      <td>vacuum_cleaner</td>\n",
       "      <td>False</td>\n",
       "      <td>100210</td>\n",
       "      <td>A</td>\n",
       "      <td>3</td>\n",
       "    </tr>\n",
       "    <tr>\n",
       "      <th>3</th>\n",
       "      <td>1-100210-B-36.wav</td>\n",
       "      <td>1</td>\n",
       "      <td>36</td>\n",
       "      <td>vacuum_cleaner</td>\n",
       "      <td>False</td>\n",
       "      <td>100210</td>\n",
       "      <td>B</td>\n",
       "      <td>3</td>\n",
       "    </tr>\n",
       "    <tr>\n",
       "      <th>4</th>\n",
       "      <td>1-101296-A-19.wav</td>\n",
       "      <td>1</td>\n",
       "      <td>19</td>\n",
       "      <td>thunderstorm</td>\n",
       "      <td>False</td>\n",
       "      <td>101296</td>\n",
       "      <td>A</td>\n",
       "      <td>1</td>\n",
       "    </tr>\n",
       "  </tbody>\n",
       "</table>\n",
       "</div>"
      ],
      "text/plain": [
       "            filename  fold  target        category  esc10  src_file take  \\\n",
       "0   1-100032-A-0.wav     1       0             dog   True    100032    A   \n",
       "1  1-100038-A-14.wav     1      14  chirping_birds  False    100038    A   \n",
       "2  1-100210-A-36.wav     1      36  vacuum_cleaner  False    100210    A   \n",
       "3  1-100210-B-36.wav     1      36  vacuum_cleaner  False    100210    B   \n",
       "4  1-101296-A-19.wav     1      19    thunderstorm  False    101296    A   \n",
       "\n",
       "   h_category  \n",
       "0           0  \n",
       "1           1  \n",
       "2           3  \n",
       "3           3  \n",
       "4           1  "
      ]
     },
     "execution_count": 6,
     "metadata": {},
     "output_type": "execute_result"
    }
   ],
   "source": [
    "dataset.head()"
   ]
  },
  {
   "cell_type": "markdown",
   "metadata": {},
   "source": [
    "## Getting Preprocessed Data\n",
    "We allow for previously preprocessed data to be retrieved for faster training turnaround. If the fold has been preprocessed, it is loaded but if not it is processed and saved."
   ]
  },
  {
   "cell_type": "code",
   "execution_count": 7,
   "metadata": {},
   "outputs": [],
   "source": [
    "c_data = pd.concat([ps.preprocess_fold(fld, dataset) for fld in range(1,6)], ignore_index=True)"
   ]
  },
  {
   "cell_type": "code",
   "execution_count": 8,
   "metadata": {},
   "outputs": [],
   "source": [
    "n_categories = c_data.target.unique().size"
   ]
  },
  {
   "cell_type": "code",
   "execution_count": 9,
   "metadata": {},
   "outputs": [],
   "source": [
    "c_data, scalar = du.normalize_data(c_data, 'target')\n",
    "train, test = du.split_training_test(c_data, 0.2)\n",
    "train_X = train.drop(columns=['target'])\n",
    "train_y = train.target\n",
    "test_X = test.drop(columns=['target'])\n",
    "test_y = test.target"
   ]
  },
  {
   "cell_type": "code",
   "execution_count": 10,
   "metadata": {},
   "outputs": [
    {
     "data": {
      "text/plain": [
       "<matplotlib.axes._subplots.AxesSubplot at 0x7fb6d64c2ac8>"
      ]
     },
     "execution_count": 10,
     "metadata": {},
     "output_type": "execute_result"
    },
    {
     "data": {
      "image/png": "[encoded data removed]",
      "text/plain": [
       "<Figure size 432x288 with 1 Axes>"
      ]
     },
     "metadata": {
      "needs_background": "light"
     },
     "output_type": "display_data"
    }
   ],
   "source": [
    "import seaborn as sns\n",
    "xx, yy = du.balanced_subsample(train_X, train_y.between(0,10))\n",
    "sns.countplot(yy[0])"
   ]
  },
  {
   "cell_type": "markdown",
   "metadata": {},
   "source": [
    "## High-Level Shallow Nets\n",
    "Train binary shallow nets for high level categories(animals, natural, human, domestic, urban)"
   ]
  },
  {
   "cell_type": "code",
   "execution_count": 11,
   "metadata": {
    "scrolled": true
   },
   "outputs": [
    {
     "name": "stdout",
     "output_type": "stream",
     "text": [
      "_________________________________________________________________\n",
      "Layer (type)                 Output Shape              Param #   \n",
      "=================================================================\n",
      "dense_1 (Dense)              (None, 12)                468       \n",
      "_________________________________________________________________\n",
      "dropout_1 (Dropout)          (None, 12)                0         \n",
      "_________________________________________________________________\n",
      "dense_2 (Dense)              (None, 1)                 13        \n",
      "=================================================================\n",
      "Total params: 481\n",
      "Trainable params: 481\n",
      "Non-trainable params: 0\n",
      "_________________________________________________________________\n",
      "Epoch 1/20\n",
      "122300/122300 [==============================] - 14s 115us/step - loss: 0.6359 - acc: 0.6220\n",
      "Epoch 2/20\n",
      "122300/122300 [==============================] - 5s 39us/step - loss: 0.5934 - acc: 0.6717\n",
      "Epoch 3/20\n",
      "122300/122300 [==============================] - 5s 42us/step - loss: 0.5781 - acc: 0.6880\n",
      "Epoch 4/20\n",
      "122300/122300 [==============================] - 5s 41us/step - loss: 0.5691 - acc: 0.6982\n",
      "Epoch 5/20\n",
      "122300/122300 [==============================] - 5s 41us/step - loss: 0.5634 - acc: 0.7006\n",
      "Epoch 6/20\n",
      "122300/122300 [==============================] - 5s 40us/step - loss: 0.5596 - acc: 0.7049\n",
      "Epoch 7/20\n",
      "122300/122300 [==============================] - 5s 40us/step - loss: 0.5550 - acc: 0.7094\n",
      "Epoch 8/20\n",
      "122300/122300 [==============================] - 5s 39us/step - loss: 0.5536 - acc: 0.7083\n",
      "Epoch 9/20\n",
      "122300/122300 [==============================] - 5s 39us/step - loss: 0.5516 - acc: 0.7105\n",
      "Epoch 10/20\n",
      "122300/122300 [==============================] - 5s 40us/step - loss: 0.5475 - acc: 0.7128\n",
      "Epoch 11/20\n",
      "122300/122300 [==============================] - 5s 39us/step - loss: 0.5461 - acc: 0.7138\n",
      "Epoch 12/20\n",
      "122300/122300 [==============================] - 5s 39us/step - loss: 0.5459 - acc: 0.7147\n",
      "Epoch 13/20\n",
      "122300/122300 [==============================] - 5s 39us/step - loss: 0.5447 - acc: 0.7150\n",
      "Epoch 14/20\n",
      "122300/122300 [==============================] - 5s 39us/step - loss: 0.5437 - acc: 0.7166\n",
      "Epoch 15/20\n",
      "122300/122300 [==============================] - 5s 39us/step - loss: 0.5437 - acc: 0.7161\n",
      "Epoch 16/20\n",
      "122300/122300 [==============================] - 5s 39us/step - loss: 0.5422 - acc: 0.7175\n",
      "Epoch 17/20\n",
      "122300/122300 [==============================] - 5s 39us/step - loss: 0.5418 - acc: 0.7173\n",
      "Epoch 18/20\n",
      "122300/122300 [==============================] - 5s 39us/step - loss: 0.5436 - acc: 0.7155\n",
      "Epoch 19/20\n",
      "122300/122300 [==============================] - 5s 39us/step - loss: 0.5427 - acc: 0.7167\n",
      "Epoch 20/20\n",
      "122300/122300 [==============================] - 5s 39us/step - loss: 0.5414 - acc: 0.7170\n",
      "77749/77749 [==============================] - 1s 10us/step\n",
      "animal: 0.7714954533177275\n",
      "Confusion matrix, without normalization\n",
      "[[49373 13041]\n",
      " [ 4725 10610]]\n"
     ]
    },
    {
     "data": {
      "image/png": "[encoded data removed]",
      "text/plain": [
       "<Figure size 432x288 with 2 Axes>"
      ]
     },
     "metadata": {
      "needs_background": "light"
     },
     "output_type": "display_data"
    },
    {
     "name": "stdout",
     "output_type": "stream",
     "text": [
      "_________________________________________________________________\n",
      "Layer (type)                 Output Shape              Param #   \n",
      "=================================================================\n",
      "dense_3 (Dense)              (None, 12)                468       \n",
      "_________________________________________________________________\n",
      "dropout_2 (Dropout)          (None, 12)                0         \n",
      "_________________________________________________________________\n",
      "dense_4 (Dense)              (None, 1)                 13        \n",
      "=================================================================\n",
      "Total params: 481\n",
      "Trainable params: 481\n",
      "Non-trainable params: 0\n",
      "_________________________________________________________________\n",
      "Epoch 1/20\n",
      "133986/133986 [==============================] - 6s 44us/step - loss: 0.6467 - acc: 0.6117\n",
      "Epoch 2/20\n",
      "133986/133986 [==============================] - 5s 39us/step - loss: 0.6093 - acc: 0.6583\n",
      "Epoch 3/20\n",
      "133986/133986 [==============================] - 5s 40us/step - loss: 0.5976 - acc: 0.6718\n",
      "Epoch 4/20\n",
      "133986/133986 [==============================] - 5s 39us/step - loss: 0.5917 - acc: 0.6776\n",
      "Epoch 5/20\n",
      "133986/133986 [==============================] - 5s 40us/step - loss: 0.5896 - acc: 0.6809\n",
      "Epoch 6/20\n",
      "133986/133986 [==============================] - 5s 39us/step - loss: 0.5863 - acc: 0.6822\n",
      "Epoch 7/20\n",
      "133986/133986 [==============================] - 5s 39us/step - loss: 0.5843 - acc: 0.6851\n",
      "Epoch 8/20\n",
      "133986/133986 [==============================] - 5s 40us/step - loss: 0.5847 - acc: 0.6852\n",
      "Epoch 9/20\n",
      "133986/133986 [==============================] - 5s 39us/step - loss: 0.5838 - acc: 0.6862\n",
      "Epoch 10/20\n",
      "133986/133986 [==============================] - 5s 39us/step - loss: 0.5831 - acc: 0.6868\n",
      "Epoch 11/20\n",
      "133986/133986 [==============================] - 5s 40us/step - loss: 0.5820 - acc: 0.6879\n",
      "Epoch 12/20\n",
      "133986/133986 [==============================] - 5s 39us/step - loss: 0.5825 - acc: 0.6873\n",
      "Epoch 13/20\n",
      "133986/133986 [==============================] - 5s 39us/step - loss: 0.5810 - acc: 0.6881\n",
      "Epoch 14/20\n",
      "133986/133986 [==============================] - 5s 40us/step - loss: 0.5810 - acc: 0.6876\n",
      "Epoch 15/20\n",
      "133986/133986 [==============================] - 5s 40us/step - loss: 0.5818 - acc: 0.6880\n",
      "Epoch 16/20\n",
      "133986/133986 [==============================] - 5s 39us/step - loss: 0.5809 - acc: 0.6893\n",
      "Epoch 17/20\n",
      "133986/133986 [==============================] - 5s 40us/step - loss: 0.5809 - acc: 0.6901\n",
      "Epoch 18/20\n",
      "133986/133986 [==============================] - 5s 39us/step - loss: 0.5809 - acc: 0.6887\n",
      "Epoch 19/20\n",
      "133986/133986 [==============================] - 5s 39us/step - loss: 0.5810 - acc: 0.6889\n",
      "Epoch 20/20\n",
      "133986/133986 [==============================] - 5s 39us/step - loss: 0.5810 - acc: 0.6895\n",
      "77749/77749 [==============================] - 1s 10us/step\n",
      "nature: 0.6585936796614748\n",
      "Confusion matrix, without normalization\n",
      "[[37992 23090]\n",
      " [ 3454 13213]]\n"
     ]
    },
    {
     "data": {
      "image/png": "[encoded data removed]",
      "text/plain": [
       "<Figure size 432x288 with 2 Axes>"
      ]
     },
     "metadata": {
      "needs_background": "light"
     },
     "output_type": "display_data"
    },
    {
     "name": "stdout",
     "output_type": "stream",
     "text": [
      "_________________________________________________________________\n",
      "Layer (type)                 Output Shape              Param #   \n",
      "=================================================================\n",
      "dense_5 (Dense)              (None, 12)                468       \n",
      "_________________________________________________________________\n",
      "dropout_3 (Dropout)          (None, 12)                0         \n",
      "_________________________________________________________________\n",
      "dense_6 (Dense)              (None, 1)                 13        \n",
      "=================================================================\n",
      "Total params: 481\n",
      "Trainable params: 481\n",
      "Non-trainable params: 0\n",
      "_________________________________________________________________\n",
      "Epoch 1/20\n",
      "117438/117438 [==============================] - 5s 45us/step - loss: 0.6669 - acc: 0.5983\n",
      "Epoch 2/20\n",
      "117438/117438 [==============================] - 5s 39us/step - loss: 0.6332 - acc: 0.6481\n",
      "Epoch 3/20\n",
      "117438/117438 [==============================] - 5s 40us/step - loss: 0.6223 - acc: 0.6601\n",
      "Epoch 4/20\n",
      "117438/117438 [==============================] - 5s 39us/step - loss: 0.6177 - acc: 0.6639\n",
      "Epoch 5/20\n",
      "117438/117438 [==============================] - 5s 39us/step - loss: 0.6145 - acc: 0.6679\n",
      "Epoch 6/20\n",
      "117438/117438 [==============================] - 5s 40us/step - loss: 0.6116 - acc: 0.6714\n",
      "Epoch 7/20\n",
      "117438/117438 [==============================] - 5s 39us/step - loss: 0.6102 - acc: 0.6740\n",
      "Epoch 8/20\n",
      "117438/117438 [==============================] - 5s 39us/step - loss: 0.6089 - acc: 0.6724\n",
      "Epoch 9/20\n",
      "117438/117438 [==============================] - 5s 39us/step - loss: 0.6082 - acc: 0.6730\n",
      "Epoch 10/20\n",
      "117438/117438 [==============================] - 5s 39us/step - loss: 0.6075 - acc: 0.6740\n",
      "Epoch 11/20\n",
      "117438/117438 [==============================] - 5s 40us/step - loss: 0.6073 - acc: 0.6744\n",
      "Epoch 12/20\n",
      "117438/117438 [==============================] - 5s 39us/step - loss: 0.6060 - acc: 0.6747\n",
      "Epoch 13/20\n",
      "117438/117438 [==============================] - 5s 39us/step - loss: 0.6049 - acc: 0.6754\n",
      "Epoch 14/20\n",
      "117438/117438 [==============================] - 5s 39us/step - loss: 0.6044 - acc: 0.6765\n",
      "Epoch 15/20\n",
      "117438/117438 [==============================] - 5s 39us/step - loss: 0.6047 - acc: 0.6745\n",
      "Epoch 16/20\n",
      "117438/117438 [==============================] - 5s 39us/step - loss: 0.6029 - acc: 0.6769\n",
      "Epoch 17/20\n",
      "117438/117438 [==============================] - 5s 39us/step - loss: 0.6030 - acc: 0.6762\n",
      "Epoch 18/20\n",
      "117438/117438 [==============================] - 5s 40us/step - loss: 0.6021 - acc: 0.6766\n",
      "Epoch 19/20\n",
      "117438/117438 [==============================] - 5s 39us/step - loss: 0.6017 - acc: 0.6765\n",
      "Epoch 20/20\n",
      "117438/117438 [==============================] - 5s 40us/step - loss: 0.6020 - acc: 0.6761\n",
      "77749/77749 [==============================] - 1s 11us/step\n",
      "human: 0.6691275772035653\n",
      "Confusion matrix, without normalization\n",
      "[[40819 22362]\n",
      " [ 3363 11205]]\n"
     ]
    },
    {
     "data": {
      "image/png": "[encoded data removed]",
      "text/plain": [
       "<Figure size 432x288 with 2 Axes>"
      ]
     },
     "metadata": {
      "needs_background": "light"
     },
     "output_type": "display_data"
    },
    {
     "name": "stdout",
     "output_type": "stream",
     "text": [
      "_________________________________________________________________\n",
      "Layer (type)                 Output Shape              Param #   \n",
      "=================================================================\n",
      "dense_7 (Dense)              (None, 12)                468       \n",
      "_________________________________________________________________\n",
      "dropout_4 (Dropout)          (None, 12)                0         \n",
      "_________________________________________________________________\n",
      "dense_8 (Dense)              (None, 1)                 13        \n",
      "=================================================================\n",
      "Total params: 481\n",
      "Trainable params: 481\n",
      "Non-trainable params: 0\n",
      "_________________________________________________________________\n",
      "Epoch 1/20\n",
      "115728/115728 [==============================] - 5s 46us/step - loss: 0.6347 - acc: 0.6347\n",
      "Epoch 2/20\n",
      "115728/115728 [==============================] - 5s 40us/step - loss: 0.6044 - acc: 0.6687\n",
      "Epoch 3/20\n",
      "115728/115728 [==============================] - 5s 40us/step - loss: 0.5941 - acc: 0.6776\n",
      "Epoch 4/20\n",
      "115728/115728 [==============================] - 5s 40us/step - loss: 0.5891 - acc: 0.6817\n",
      "Epoch 5/20\n",
      "115728/115728 [==============================] - 5s 40us/step - loss: 0.5860 - acc: 0.6836\n",
      "Epoch 6/20\n",
      "115728/115728 [==============================] - 5s 39us/step - loss: 0.5825 - acc: 0.6868\n",
      "Epoch 7/20\n",
      "115728/115728 [==============================] - 5s 40us/step - loss: 0.5815 - acc: 0.6880\n",
      "Epoch 8/20\n",
      "115728/115728 [==============================] - 5s 40us/step - loss: 0.5794 - acc: 0.6889\n",
      "Epoch 9/20\n",
      "115728/115728 [==============================] - 5s 39us/step - loss: 0.5798 - acc: 0.6896\n",
      "Epoch 10/20\n",
      "115728/115728 [==============================] - 5s 40us/step - loss: 0.5772 - acc: 0.6908\n",
      "Epoch 11/20\n",
      "115728/115728 [==============================] - 5s 40us/step - loss: 0.5768 - acc: 0.6919\n",
      "Epoch 12/20\n",
      "115728/115728 [==============================] - 5s 39us/step - loss: 0.5763 - acc: 0.6917\n",
      "Epoch 13/20\n",
      "115728/115728 [==============================] - 5s 40us/step - loss: 0.5767 - acc: 0.6914\n",
      "Epoch 14/20\n",
      "115728/115728 [==============================] - 5s 40us/step - loss: 0.5760 - acc: 0.6929\n",
      "Epoch 15/20\n",
      "115728/115728 [==============================] - 5s 40us/step - loss: 0.5762 - acc: 0.6925\n",
      "Epoch 16/20\n",
      "115728/115728 [==============================] - 5s 39us/step - loss: 0.5760 - acc: 0.6924\n",
      "Epoch 17/20\n",
      "115728/115728 [==============================] - 5s 39us/step - loss: 0.5758 - acc: 0.6942\n",
      "Epoch 18/20\n",
      "115728/115728 [==============================] - 5s 40us/step - loss: 0.5757 - acc: 0.6921\n",
      "Epoch 19/20\n",
      "115728/115728 [==============================] - 5s 40us/step - loss: 0.5753 - acc: 0.6951\n",
      "Epoch 20/20\n",
      "115728/115728 [==============================] - 5s 41us/step - loss: 0.5759 - acc: 0.6936\n",
      "77749/77749 [==============================] - 1s 11us/step\n",
      "domestic: 0.6760086946455903\n",
      "Confusion matrix, without normalization\n",
      "[[41623 21735]\n",
      " [ 3455 10936]]\n"
     ]
    },
    {
     "data": {
      "image/png": "[encoded data removed]",
      "text/plain": [
       "<Figure size 432x288 with 2 Axes>"
      ]
     },
     "metadata": {
      "needs_background": "light"
     },
     "output_type": "display_data"
    },
    {
     "name": "stdout",
     "output_type": "stream",
     "text": [
      "_________________________________________________________________\n",
      "Layer (type)                 Output Shape              Param #   \n",
      "=================================================================\n",
      "dense_9 (Dense)              (None, 12)                468       \n",
      "_________________________________________________________________\n",
      "dropout_5 (Dropout)          (None, 12)                0         \n",
      "_________________________________________________________________\n",
      "dense_10 (Dense)             (None, 1)                 13        \n",
      "=================================================================\n",
      "Total params: 481\n",
      "Trainable params: 481\n",
      "Non-trainable params: 0\n",
      "_________________________________________________________________\n",
      "Epoch 1/20\n",
      "132536/132536 [==============================] - 6s 46us/step - loss: 0.6008 - acc: 0.6700\n",
      "Epoch 2/20\n",
      "132536/132536 [==============================] - 5s 40us/step - loss: 0.5498 - acc: 0.7126\n",
      "Epoch 3/20\n",
      "132536/132536 [==============================] - 5s 40us/step - loss: 0.5362 - acc: 0.7218\n",
      "Epoch 4/20\n",
      "132536/132536 [==============================] - 5s 39us/step - loss: 0.5298 - acc: 0.7270\n",
      "Epoch 5/20\n",
      "132536/132536 [==============================] - 5s 40us/step - loss: 0.5254 - acc: 0.7309\n",
      "Epoch 6/20\n",
      "132536/132536 [==============================] - 5s 40us/step - loss: 0.5223 - acc: 0.7319\n",
      "Epoch 7/20\n",
      "132536/132536 [==============================] - 5s 40us/step - loss: 0.5195 - acc: 0.7347\n",
      "Epoch 8/20\n",
      "132536/132536 [==============================] - 5s 39us/step - loss: 0.5173 - acc: 0.7351\n",
      "Epoch 9/20\n",
      "132536/132536 [==============================] - 5s 40us/step - loss: 0.5159 - acc: 0.7378\n",
      "Epoch 10/20\n",
      "132536/132536 [==============================] - 5s 41us/step - loss: 0.5148 - acc: 0.7378\n",
      "Epoch 11/20\n",
      "132536/132536 [==============================] - 5s 40us/step - loss: 0.5135 - acc: 0.7380\n",
      "Epoch 12/20\n",
      "132536/132536 [==============================] - 5s 40us/step - loss: 0.5132 - acc: 0.7382\n",
      "Epoch 13/20\n",
      "132536/132536 [==============================] - 5s 40us/step - loss: 0.5126 - acc: 0.7377\n",
      "Epoch 14/20\n",
      "132536/132536 [==============================] - 5s 41us/step - loss: 0.5113 - acc: 0.7380\n",
      "Epoch 15/20\n",
      "132536/132536 [==============================] - 5s 40us/step - loss: 0.5118 - acc: 0.7381\n",
      "Epoch 16/20\n",
      "132536/132536 [==============================] - 5s 40us/step - loss: 0.5116 - acc: 0.7390\n",
      "Epoch 17/20\n",
      "132536/132536 [==============================] - 5s 40us/step - loss: 0.5112 - acc: 0.7383\n",
      "Epoch 18/20\n",
      "132536/132536 [==============================] - 5s 40us/step - loss: 0.5107 - acc: 0.7387\n",
      "Epoch 19/20\n",
      "132536/132536 [==============================] - 5s 40us/step - loss: 0.5104 - acc: 0.7402\n",
      "Epoch 20/20\n",
      "132536/132536 [==============================] - 5s 40us/step - loss: 0.5094 - acc: 0.7401\n",
      "77749/77749 [==============================] - 1s 12us/step\n",
      "urban: 0.7318293482874377\n",
      "Confusion matrix, without normalization\n",
      "[[43688 17273]\n",
      " [ 3577 13211]]\n"
     ]
    },
    {
     "data": {
      "image/png": "[encoded data removed]",
      "text/plain": [
       "<Figure size 432x288 with 2 Axes>"
      ]
     },
     "metadata": {
      "needs_background": "light"
     },
     "output_type": "display_data"
    }
   ],
   "source": [
    "hl_shallow = {}\n",
    "for i in range(0,5):\n",
    "    start_i = i * 10\n",
    "    end_i = ((i + 1) * 10) - 1\n",
    "#     Get equally distributed set of positive and negative instances\n",
    "    xx, yy = du.balanced_subsample(train_X, train_y.between(start_i, end_i))\n",
    "    clas = KerasClassifier(build_fn=snn_clas.create_baseline, epochs=20, batch_size=128, verbose=1)\n",
    "    clas.fit(xx, yy)\n",
    "    pred = clas.predict(test_X)\n",
    "    pred = [item[0] for item in pred]\n",
    "    print(str(h_classes[i]) + \": \" + \n",
    "      str(metrics.accuracy_score(test_y.between(start_i, end_i), pred)))\n",
    "    cm = metrics.confusion_matrix(test_y.between(start_i, end_i), pred)\n",
    "    plot_confusion_matrix(cm, ['False', 'True'])\n",
    "    plt.show()\n",
    "    hl_shallow[h_classes[i]] = clas"
   ]
  },
  {
   "cell_type": "code",
   "execution_count": null,
   "metadata": {},
   "outputs": [],
   "source": []
  }
 ],
 "metadata": {
  "kernelspec": {
   "display_name": "Python 3",
   "language": "python",
   "name": "python3"
  },
  "language_info": {
   "codemirror_mode": {
    "name": "ipython",
    "version": 3
   },
   "file_extension": ".py",
   "mimetype": "text/x-python",
   "name": "python",
   "nbconvert_exporter": "python",
   "pygments_lexer": "ipython3",
   "version": "3.6.6"
  }
 },
 "nbformat": 4,
 "nbformat_minor": 2
}
