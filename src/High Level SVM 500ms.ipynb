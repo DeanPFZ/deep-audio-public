{
 "cells": [
  {
   "cell_type": "code",
   "execution_count": 1,
   "metadata": {},
   "outputs": [
    {
     "name": "stderr",
     "output_type": "stream",
     "text": [
      "Using TensorFlow backend.\n"
     ]
    },
    {
     "name": "stdout",
     "output_type": "stream",
     "text": [
      "WARNING:tensorflow:From /usr/local/lib/python3.5/dist-packages/magenta/models/nsynth/wavenet/masked.py:115: UniformUnitScaling.__init__ (from tensorflow.python.ops.init_ops) is deprecated and will be removed in a future version.\n",
      "Instructions for updating:\n",
      "Use tf.initializers.variance_scaling instead with distribution=uniform to get equivalent behavior.\n"
     ]
    }
   ],
   "source": [
    "import pandas as pd\n",
    "from preprocess import Audio_Processor\n",
    "from sklearn import metrics\n",
    "from classification_plots import plot_confusion_matrix, plot_learning_curve\n",
    "import matplotlib.pyplot as plt\n",
    "import os\n",
    "from sklearn.svm import SVC"
   ]
  },
  {
   "cell_type": "code",
   "execution_count": 2,
   "metadata": {},
   "outputs": [],
   "source": [
    "# Able to specify which GPU to use\n",
    "os.environ[\"CUDA_VISIBLE_DEVICES\"]=\"2\"\n",
    "\n",
    "SR = 16000\n",
    "blocksize = int(SR/2)\n",
    "overlap = int(SR/4)"
   ]
  },
  {
   "cell_type": "code",
   "execution_count": 3,
   "metadata": {},
   "outputs": [],
   "source": [
    "import warnings\n",
    "warnings.filterwarnings('ignore')"
   ]
  },
  {
   "cell_type": "markdown",
   "metadata": {},
   "source": [
    "# Setup"
   ]
  },
  {
   "cell_type": "code",
   "execution_count": 4,
   "metadata": {},
   "outputs": [],
   "source": [
    "path_to_db='../ESC-50/'\n",
    "ps = Audio_Processor(path_to_db + 'audio/')\n",
    "dataset = pd.read_csv(path_to_db + 'meta/esc50.csv')"
   ]
  },
  {
   "cell_type": "code",
   "execution_count": 5,
   "metadata": {},
   "outputs": [],
   "source": [
    "mapping = {'dog': 0,'rooster': 0,'pig': 0,'cow': 0,'frog': 0,'cat': 0,'hen': 0,\n",
    "            'insects': 0,'sheep': 0,'crow': 0,'rain': 1,'sea_waves': 1,'crackling_fire': 1,\n",
    "            'crickets': 0,'chirping_birds': 0,'water_drops': 1,'wind': 1,'pouring_water': 1,\n",
    "            'toilet_flush': 1,'thunderstorm': 1,'crying_baby': 0,'sneezing': 0,'clapping': 0,\n",
    "            'breathing': 0,'coughing': 0,'footsteps': 1,'laughing': 0,'brushing_teeth': 1,\n",
    "            'snoring': 0,'drinking_sipping': 1,'door_wood_knock': 1,'mouse_click': 1,\n",
    "            'keyboard_typing': 1,'door_wood_creaks': 1,'can_opening': 1,'washing_machine': 1,\n",
    "            'vacuum_cleaner': 1,'clock_alarm': 1,'clock_tick': 1,'glass_breaking':1,'helicopter': 1,\n",
    "            'chainsaw': 1,'siren': 1,'car_horn': 1,'engine': 1,'train': 1,'church_bells': 1,\n",
    "            'airplane': 1,'fireworks': 1,'hand_saw': 1,\n",
    "            }\n",
    "dataset['h_target'] = None\n",
    "classes = [None] * 50\n",
    "for index, row in dataset.iterrows():\n",
    "    target = row['target']\n",
    "    classes[target] = row['category']\n",
    "    dataset.loc[index, 'h_target'] = mapping[row['category']]"
   ]
  },
  {
   "cell_type": "code",
   "execution_count": 6,
   "metadata": {},
   "outputs": [],
   "source": [
    "h_classes = ['Human & Animal', 'Interacting Materials']"
   ]
  },
  {
   "cell_type": "markdown",
   "metadata": {},
   "source": [
    "## Getting Preprocessed Data\n",
    "We allow for previously preprocessed data to be retrieved for faster training turnaround. If the fold has been preprocessed, it is loaded but if not it is processed and saved."
   ]
  },
  {
   "cell_type": "code",
   "execution_count": 7,
   "metadata": {},
   "outputs": [],
   "source": [
    "df = ps.preprocess_fold(dataset, \n",
    "                        kind='mfcc', \n",
    "                        fld=None, \n",
    "                        blocksize=blocksize, \n",
    "                        overlap=overlap)"
   ]
  },
  {
   "cell_type": "code",
   "execution_count": 8,
   "metadata": {},
   "outputs": [
    {
     "data": {
      "text/html": [
       "<div>\n",
       "<style scoped>\n",
       "    .dataframe tbody tr th:only-of-type {\n",
       "        vertical-align: middle;\n",
       "    }\n",
       "\n",
       "    .dataframe tbody tr th {\n",
       "        vertical-align: top;\n",
       "    }\n",
       "\n",
       "    .dataframe thead th {\n",
       "        text-align: right;\n",
       "    }\n",
       "</style>\n",
       "<table border=\"1\" class=\"dataframe\">\n",
       "  <thead>\n",
       "    <tr style=\"text-align: right;\">\n",
       "      <th></th>\n",
       "      <th>mfcc_2_std</th>\n",
       "      <th>mfcc_2_mean</th>\n",
       "      <th>mfcc_2_noise</th>\n",
       "      <th>mfcc_3_std</th>\n",
       "      <th>mfcc_3_mean</th>\n",
       "      <th>mfcc_3_noise</th>\n",
       "      <th>mfcc_4_std</th>\n",
       "      <th>mfcc_4_mean</th>\n",
       "      <th>mfcc_4_noise</th>\n",
       "      <th>mfcc_5_std</th>\n",
       "      <th>...</th>\n",
       "      <th>sflat_noise</th>\n",
       "      <th>sroll_std</th>\n",
       "      <th>sroll_mean</th>\n",
       "      <th>sroll_noise</th>\n",
       "      <th>rmse_std</th>\n",
       "      <th>rmse_mean</th>\n",
       "      <th>rmse_noise</th>\n",
       "      <th>h_target</th>\n",
       "      <th>target</th>\n",
       "      <th>fold</th>\n",
       "    </tr>\n",
       "  </thead>\n",
       "  <tbody>\n",
       "    <tr>\n",
       "      <th>count</th>\n",
       "      <td>2000.000000</td>\n",
       "      <td>2000.000000</td>\n",
       "      <td>2000.000000</td>\n",
       "      <td>2000.000000</td>\n",
       "      <td>2000.000000</td>\n",
       "      <td>2000.000000</td>\n",
       "      <td>2000.000000</td>\n",
       "      <td>2000.000000</td>\n",
       "      <td>2000.000000</td>\n",
       "      <td>2000.000000</td>\n",
       "      <td>...</td>\n",
       "      <td>2000.000000</td>\n",
       "      <td>2000.000000</td>\n",
       "      <td>2000.000000</td>\n",
       "      <td>2000.000000</td>\n",
       "      <td>2000.000000</td>\n",
       "      <td>2000.000000</td>\n",
       "      <td>2000.000000</td>\n",
       "      <td>2000.000000</td>\n",
       "      <td>2000.000000</td>\n",
       "      <td>2000.000000</td>\n",
       "    </tr>\n",
       "    <tr>\n",
       "      <th>mean</th>\n",
       "      <td>72.507501</td>\n",
       "      <td>45.017416</td>\n",
       "      <td>37.385395</td>\n",
       "      <td>32.282586</td>\n",
       "      <td>29.288099</td>\n",
       "      <td>29.037299</td>\n",
       "      <td>28.624832</td>\n",
       "      <td>28.652316</td>\n",
       "      <td>28.255287</td>\n",
       "      <td>27.680432</td>\n",
       "      <td>...</td>\n",
       "      <td>-0.019696</td>\n",
       "      <td>-0.020280</td>\n",
       "      <td>14.121078</td>\n",
       "      <td>25.642969</td>\n",
       "      <td>5.110945</td>\n",
       "      <td>22.803641</td>\n",
       "      <td>4.728321</td>\n",
       "      <td>0.620000</td>\n",
       "      <td>24.500000</td>\n",
       "      <td>3.000000</td>\n",
       "    </tr>\n",
       "    <tr>\n",
       "      <th>std</th>\n",
       "      <td>22.429185</td>\n",
       "      <td>13.749270</td>\n",
       "      <td>13.990447</td>\n",
       "      <td>12.482451</td>\n",
       "      <td>12.844946</td>\n",
       "      <td>13.193927</td>\n",
       "      <td>13.244052</td>\n",
       "      <td>13.745964</td>\n",
       "      <td>13.744182</td>\n",
       "      <td>13.444088</td>\n",
       "      <td>...</td>\n",
       "      <td>0.089549</td>\n",
       "      <td>0.087767</td>\n",
       "      <td>17.305620</td>\n",
       "      <td>21.175693</td>\n",
       "      <td>8.236620</td>\n",
       "      <td>11.064539</td>\n",
       "      <td>2.151362</td>\n",
       "      <td>0.485508</td>\n",
       "      <td>14.434479</td>\n",
       "      <td>1.414567</td>\n",
       "    </tr>\n",
       "    <tr>\n",
       "      <th>min</th>\n",
       "      <td>0.467220</td>\n",
       "      <td>0.753611</td>\n",
       "      <td>1.282752</td>\n",
       "      <td>1.074155</td>\n",
       "      <td>0.907809</td>\n",
       "      <td>1.276880</td>\n",
       "      <td>0.428470</td>\n",
       "      <td>0.633548</td>\n",
       "      <td>0.846962</td>\n",
       "      <td>0.617773</td>\n",
       "      <td>...</td>\n",
       "      <td>-0.519763</td>\n",
       "      <td>-0.484627</td>\n",
       "      <td>4.764953</td>\n",
       "      <td>11.652139</td>\n",
       "      <td>1.998343</td>\n",
       "      <td>7.152852</td>\n",
       "      <td>0.541668</td>\n",
       "      <td>0.000000</td>\n",
       "      <td>0.000000</td>\n",
       "      <td>1.000000</td>\n",
       "    </tr>\n",
       "    <tr>\n",
       "      <th>25%</th>\n",
       "      <td>56.616318</td>\n",
       "      <td>35.282913</td>\n",
       "      <td>26.778110</td>\n",
       "      <td>21.631800</td>\n",
       "      <td>17.349314</td>\n",
       "      <td>16.378429</td>\n",
       "      <td>15.822052</td>\n",
       "      <td>14.926780</td>\n",
       "      <td>14.737826</td>\n",
       "      <td>13.820180</td>\n",
       "      <td>...</td>\n",
       "      <td>-0.071463</td>\n",
       "      <td>-0.073589</td>\n",
       "      <td>10.407418</td>\n",
       "      <td>19.937195</td>\n",
       "      <td>3.772418</td>\n",
       "      <td>17.130730</td>\n",
       "      <td>3.134890</td>\n",
       "      <td>0.000000</td>\n",
       "      <td>12.000000</td>\n",
       "      <td>2.000000</td>\n",
       "    </tr>\n",
       "    <tr>\n",
       "      <th>50%</th>\n",
       "      <td>72.159225</td>\n",
       "      <td>44.696267</td>\n",
       "      <td>35.244943</td>\n",
       "      <td>31.169037</td>\n",
       "      <td>29.073932</td>\n",
       "      <td>28.958849</td>\n",
       "      <td>29.090751</td>\n",
       "      <td>29.458454</td>\n",
       "      <td>29.727010</td>\n",
       "      <td>29.389315</td>\n",
       "      <td>...</td>\n",
       "      <td>-0.014375</td>\n",
       "      <td>-0.014034</td>\n",
       "      <td>12.773370</td>\n",
       "      <td>23.508346</td>\n",
       "      <td>4.645349</td>\n",
       "      <td>20.725994</td>\n",
       "      <td>4.524411</td>\n",
       "      <td>1.000000</td>\n",
       "      <td>24.500000</td>\n",
       "      <td>3.000000</td>\n",
       "    </tr>\n",
       "    <tr>\n",
       "      <th>75%</th>\n",
       "      <td>87.413906</td>\n",
       "      <td>54.137569</td>\n",
       "      <td>46.248867</td>\n",
       "      <td>41.829136</td>\n",
       "      <td>39.997071</td>\n",
       "      <td>40.208394</td>\n",
       "      <td>39.942740</td>\n",
       "      <td>39.787000</td>\n",
       "      <td>39.563445</td>\n",
       "      <td>39.231914</td>\n",
       "      <td>...</td>\n",
       "      <td>0.034963</td>\n",
       "      <td>0.034582</td>\n",
       "      <td>15.856162</td>\n",
       "      <td>28.285405</td>\n",
       "      <td>5.564719</td>\n",
       "      <td>25.669332</td>\n",
       "      <td>6.069126</td>\n",
       "      <td>1.000000</td>\n",
       "      <td>37.000000</td>\n",
       "      <td>4.000000</td>\n",
       "    </tr>\n",
       "    <tr>\n",
       "      <th>max</th>\n",
       "      <td>199.820669</td>\n",
       "      <td>106.418461</td>\n",
       "      <td>91.874706</td>\n",
       "      <td>75.098603</td>\n",
       "      <td>72.087316</td>\n",
       "      <td>74.091721</td>\n",
       "      <td>83.406522</td>\n",
       "      <td>92.924575</td>\n",
       "      <td>103.945276</td>\n",
       "      <td>102.208297</td>\n",
       "      <td>...</td>\n",
       "      <td>0.456353</td>\n",
       "      <td>0.419580</td>\n",
       "      <td>753.679121</td>\n",
       "      <td>897.018995</td>\n",
       "      <td>361.159924</td>\n",
       "      <td>337.308704</td>\n",
       "      <td>17.336297</td>\n",
       "      <td>1.000000</td>\n",
       "      <td>49.000000</td>\n",
       "      <td>5.000000</td>\n",
       "    </tr>\n",
       "  </tbody>\n",
       "</table>\n",
       "<p>8 rows × 132 columns</p>\n",
       "</div>"
      ],
      "text/plain": [
       "        mfcc_2_std  mfcc_2_mean  mfcc_2_noise   mfcc_3_std  mfcc_3_mean  \\\n",
       "count  2000.000000  2000.000000   2000.000000  2000.000000  2000.000000   \n",
       "mean     72.507501    45.017416     37.385395    32.282586    29.288099   \n",
       "std      22.429185    13.749270     13.990447    12.482451    12.844946   \n",
       "min       0.467220     0.753611      1.282752     1.074155     0.907809   \n",
       "25%      56.616318    35.282913     26.778110    21.631800    17.349314   \n",
       "50%      72.159225    44.696267     35.244943    31.169037    29.073932   \n",
       "75%      87.413906    54.137569     46.248867    41.829136    39.997071   \n",
       "max     199.820669   106.418461     91.874706    75.098603    72.087316   \n",
       "\n",
       "       mfcc_3_noise   mfcc_4_std  mfcc_4_mean  mfcc_4_noise   mfcc_5_std  \\\n",
       "count   2000.000000  2000.000000  2000.000000   2000.000000  2000.000000   \n",
       "mean      29.037299    28.624832    28.652316     28.255287    27.680432   \n",
       "std       13.193927    13.244052    13.745964     13.744182    13.444088   \n",
       "min        1.276880     0.428470     0.633548      0.846962     0.617773   \n",
       "25%       16.378429    15.822052    14.926780     14.737826    13.820180   \n",
       "50%       28.958849    29.090751    29.458454     29.727010    29.389315   \n",
       "75%       40.208394    39.942740    39.787000     39.563445    39.231914   \n",
       "max       74.091721    83.406522    92.924575    103.945276   102.208297   \n",
       "\n",
       "          ...       sflat_noise    sroll_std   sroll_mean  sroll_noise  \\\n",
       "count     ...       2000.000000  2000.000000  2000.000000  2000.000000   \n",
       "mean      ...         -0.019696    -0.020280    14.121078    25.642969   \n",
       "std       ...          0.089549     0.087767    17.305620    21.175693   \n",
       "min       ...         -0.519763    -0.484627     4.764953    11.652139   \n",
       "25%       ...         -0.071463    -0.073589    10.407418    19.937195   \n",
       "50%       ...         -0.014375    -0.014034    12.773370    23.508346   \n",
       "75%       ...          0.034963     0.034582    15.856162    28.285405   \n",
       "max       ...          0.456353     0.419580   753.679121   897.018995   \n",
       "\n",
       "          rmse_std    rmse_mean   rmse_noise     h_target       target  \\\n",
       "count  2000.000000  2000.000000  2000.000000  2000.000000  2000.000000   \n",
       "mean      5.110945    22.803641     4.728321     0.620000    24.500000   \n",
       "std       8.236620    11.064539     2.151362     0.485508    14.434479   \n",
       "min       1.998343     7.152852     0.541668     0.000000     0.000000   \n",
       "25%       3.772418    17.130730     3.134890     0.000000    12.000000   \n",
       "50%       4.645349    20.725994     4.524411     1.000000    24.500000   \n",
       "75%       5.564719    25.669332     6.069126     1.000000    37.000000   \n",
       "max     361.159924   337.308704    17.336297     1.000000    49.000000   \n",
       "\n",
       "              fold  \n",
       "count  2000.000000  \n",
       "mean      3.000000  \n",
       "std       1.414567  \n",
       "min       1.000000  \n",
       "25%       2.000000  \n",
       "50%       3.000000  \n",
       "75%       4.000000  \n",
       "max       5.000000  \n",
       "\n",
       "[8 rows x 132 columns]"
      ]
     },
     "execution_count": 8,
     "metadata": {},
     "output_type": "execute_result"
    }
   ],
   "source": [
    "df.describe()"
   ]
  },
  {
   "cell_type": "code",
   "execution_count": 9,
   "metadata": {},
   "outputs": [],
   "source": [
    "from sklearn.model_selection import train_test_split\n",
    "train, test, = train_test_split(\n",
    "                        df[df.fold != 1], test_size=0.20, random_state=42)"
   ]
  },
  {
   "cell_type": "code",
   "execution_count": 10,
   "metadata": {},
   "outputs": [],
   "source": [
    "train_X = train.drop(['target', 'h_target', 'fold'], axis=1)\n",
    "train_y = train['h_target']\n",
    "test_X = test.drop(['target', 'h_target', 'fold'], axis=1)\n",
    "test_y = test['h_target']"
   ]
  },
  {
   "cell_type": "markdown",
   "metadata": {},
   "source": [
    "# Training"
   ]
  },
  {
   "cell_type": "code",
   "execution_count": 11,
   "metadata": {
    "scrolled": true
   },
   "outputs": [
    {
     "data": {
      "text/plain": [
       "GridSearchCV(cv=5, error_score='raise-deprecating',\n",
       "       estimator=SVC(C=1.0, cache_size=200, class_weight=None, coef0=0.0,\n",
       "  decision_function_shape='ovr', degree=3, gamma='auto_deprecated',\n",
       "  kernel='rbf', max_iter=1000, probability=True, random_state=None,\n",
       "  shrinking=True, tol=0.001, verbose=False),\n",
       "       fit_params=None, iid='warn', n_jobs=None,\n",
       "       param_grid={'decision_function_shape': ('ovo', 'ovr'), 'gamma': ('auto', 'scale'), 'kernel': ('linear', 'poly', 'rbf', 'sigmoid')},\n",
       "       pre_dispatch='2*n_jobs', refit=True, return_train_score='warn',\n",
       "       scoring=None, verbose=0)"
      ]
     },
     "execution_count": 11,
     "metadata": {},
     "output_type": "execute_result"
    }
   ],
   "source": [
    "from sklearn.model_selection import GridSearchCV\n",
    "params = {\n",
    "          'kernel': ('linear', 'poly', 'rbf', 'sigmoid'),\n",
    "          'gamma': ('auto', 'scale'),\n",
    "          'decision_function_shape': ('ovo', 'ovr')\n",
    "         }\n",
    "\n",
    "svm = SVC(probability=True, max_iter=1000)\n",
    "\n",
    "clf = GridSearchCV(svm, params, cv=5)\n",
    "\n",
    "clf.fit(train_X, train_y)"
   ]
  },
  {
   "cell_type": "code",
   "execution_count": 12,
   "metadata": {},
   "outputs": [
    {
     "name": "stdout",
     "output_type": "stream",
     "text": [
      "0.653125\n",
      "Confusion matrix, without normalization\n",
      "[[ 26 100]\n",
      " [ 11 183]]\n"
     ]
    },
    {
     "data": {
      "image/png": "[encoded data removed]",
      "text/plain": [
       "<Figure size 720x720 with 2 Axes>"
      ]
     },
     "metadata": {
      "needs_background": "light"
     },
     "output_type": "display_data"
    }
   ],
   "source": [
    "pred = clf.predict(test_X)\n",
    "print(metrics.accuracy_score(test_y, pred))\n",
    "cm = metrics.confusion_matrix(test_y, pred)\n",
    "plt.figure(figsize=(10,10))\n",
    "plot_confusion_matrix(cm, h_classes)\n",
    "plt.show()"
   ]
  },
  {
   "cell_type": "markdown",
   "metadata": {},
   "source": [
    "# All Data"
   ]
  },
  {
   "cell_type": "code",
   "execution_count": 13,
   "metadata": {},
   "outputs": [],
   "source": [
    "all_df = df[df.fold == 1]"
   ]
  },
  {
   "cell_type": "code",
   "execution_count": 14,
   "metadata": {},
   "outputs": [
    {
     "data": {
      "text/html": [
       "<div>\n",
       "<style scoped>\n",
       "    .dataframe tbody tr th:only-of-type {\n",
       "        vertical-align: middle;\n",
       "    }\n",
       "\n",
       "    .dataframe tbody tr th {\n",
       "        vertical-align: top;\n",
       "    }\n",
       "\n",
       "    .dataframe thead th {\n",
       "        text-align: right;\n",
       "    }\n",
       "</style>\n",
       "<table border=\"1\" class=\"dataframe\">\n",
       "  <thead>\n",
       "    <tr style=\"text-align: right;\">\n",
       "      <th></th>\n",
       "      <th>mfcc_2_std</th>\n",
       "      <th>mfcc_2_mean</th>\n",
       "      <th>mfcc_2_noise</th>\n",
       "      <th>mfcc_3_std</th>\n",
       "      <th>mfcc_3_mean</th>\n",
       "      <th>mfcc_3_noise</th>\n",
       "      <th>mfcc_4_std</th>\n",
       "      <th>mfcc_4_mean</th>\n",
       "      <th>mfcc_4_noise</th>\n",
       "      <th>mfcc_5_std</th>\n",
       "      <th>...</th>\n",
       "      <th>sflat_noise</th>\n",
       "      <th>sroll_std</th>\n",
       "      <th>sroll_mean</th>\n",
       "      <th>sroll_noise</th>\n",
       "      <th>rmse_std</th>\n",
       "      <th>rmse_mean</th>\n",
       "      <th>rmse_noise</th>\n",
       "      <th>h_target</th>\n",
       "      <th>target</th>\n",
       "      <th>fold</th>\n",
       "    </tr>\n",
       "  </thead>\n",
       "  <tbody>\n",
       "    <tr>\n",
       "      <th>0</th>\n",
       "      <td>29.566979</td>\n",
       "      <td>38.581673</td>\n",
       "      <td>23.175071</td>\n",
       "      <td>24.097116</td>\n",
       "      <td>14.293689</td>\n",
       "      <td>13.274004</td>\n",
       "      <td>9.751989</td>\n",
       "      <td>10.407591</td>\n",
       "      <td>10.445341</td>\n",
       "      <td>14.507037</td>\n",
       "      <td>...</td>\n",
       "      <td>0.093688</td>\n",
       "      <td>-0.244597</td>\n",
       "      <td>10.601514</td>\n",
       "      <td>20.214723</td>\n",
       "      <td>3.363856</td>\n",
       "      <td>18.003823</td>\n",
       "      <td>2.721278</td>\n",
       "      <td>0</td>\n",
       "      <td>0</td>\n",
       "      <td>1</td>\n",
       "    </tr>\n",
       "    <tr>\n",
       "      <th>1</th>\n",
       "      <td>54.957324</td>\n",
       "      <td>62.890686</td>\n",
       "      <td>43.263494</td>\n",
       "      <td>41.343408</td>\n",
       "      <td>45.308727</td>\n",
       "      <td>47.697157</td>\n",
       "      <td>50.929756</td>\n",
       "      <td>44.604884</td>\n",
       "      <td>51.330579</td>\n",
       "      <td>49.473455</td>\n",
       "      <td>...</td>\n",
       "      <td>0.035302</td>\n",
       "      <td>0.039697</td>\n",
       "      <td>16.326505</td>\n",
       "      <td>19.737506</td>\n",
       "      <td>5.318969</td>\n",
       "      <td>23.638774</td>\n",
       "      <td>7.329558</td>\n",
       "      <td>0</td>\n",
       "      <td>14</td>\n",
       "      <td>1</td>\n",
       "    </tr>\n",
       "    <tr>\n",
       "      <th>2</th>\n",
       "      <td>80.456788</td>\n",
       "      <td>54.643933</td>\n",
       "      <td>57.854350</td>\n",
       "      <td>47.446376</td>\n",
       "      <td>43.896662</td>\n",
       "      <td>45.451149</td>\n",
       "      <td>43.903884</td>\n",
       "      <td>40.614732</td>\n",
       "      <td>41.041225</td>\n",
       "      <td>43.733979</td>\n",
       "      <td>...</td>\n",
       "      <td>-0.016308</td>\n",
       "      <td>0.117662</td>\n",
       "      <td>16.205885</td>\n",
       "      <td>22.370373</td>\n",
       "      <td>4.550994</td>\n",
       "      <td>21.428553</td>\n",
       "      <td>4.986183</td>\n",
       "      <td>1</td>\n",
       "      <td>36</td>\n",
       "      <td>1</td>\n",
       "    </tr>\n",
       "    <tr>\n",
       "      <th>3</th>\n",
       "      <td>74.267615</td>\n",
       "      <td>57.097960</td>\n",
       "      <td>54.050520</td>\n",
       "      <td>45.873878</td>\n",
       "      <td>44.644734</td>\n",
       "      <td>46.209410</td>\n",
       "      <td>40.178316</td>\n",
       "      <td>41.505149</td>\n",
       "      <td>42.517100</td>\n",
       "      <td>45.790646</td>\n",
       "      <td>...</td>\n",
       "      <td>-0.018797</td>\n",
       "      <td>0.016322</td>\n",
       "      <td>14.439448</td>\n",
       "      <td>23.331056</td>\n",
       "      <td>4.652364</td>\n",
       "      <td>19.832936</td>\n",
       "      <td>5.539375</td>\n",
       "      <td>1</td>\n",
       "      <td>36</td>\n",
       "      <td>1</td>\n",
       "    </tr>\n",
       "    <tr>\n",
       "      <th>4</th>\n",
       "      <td>73.044731</td>\n",
       "      <td>55.294146</td>\n",
       "      <td>54.512756</td>\n",
       "      <td>45.188700</td>\n",
       "      <td>41.608682</td>\n",
       "      <td>40.398257</td>\n",
       "      <td>39.125218</td>\n",
       "      <td>37.622879</td>\n",
       "      <td>39.426863</td>\n",
       "      <td>38.913859</td>\n",
       "      <td>...</td>\n",
       "      <td>0.094060</td>\n",
       "      <td>-0.043183</td>\n",
       "      <td>12.675518</td>\n",
       "      <td>19.265351</td>\n",
       "      <td>4.408170</td>\n",
       "      <td>19.337850</td>\n",
       "      <td>4.805436</td>\n",
       "      <td>1</td>\n",
       "      <td>19</td>\n",
       "      <td>1</td>\n",
       "    </tr>\n",
       "  </tbody>\n",
       "</table>\n",
       "<p>5 rows × 132 columns</p>\n",
       "</div>"
      ],
      "text/plain": [
       "   mfcc_2_std  mfcc_2_mean  mfcc_2_noise  mfcc_3_std  mfcc_3_mean  \\\n",
       "0   29.566979    38.581673     23.175071   24.097116    14.293689   \n",
       "1   54.957324    62.890686     43.263494   41.343408    45.308727   \n",
       "2   80.456788    54.643933     57.854350   47.446376    43.896662   \n",
       "3   74.267615    57.097960     54.050520   45.873878    44.644734   \n",
       "4   73.044731    55.294146     54.512756   45.188700    41.608682   \n",
       "\n",
       "   mfcc_3_noise  mfcc_4_std  mfcc_4_mean  mfcc_4_noise  mfcc_5_std  ...   \\\n",
       "0     13.274004    9.751989    10.407591     10.445341   14.507037  ...    \n",
       "1     47.697157   50.929756    44.604884     51.330579   49.473455  ...    \n",
       "2     45.451149   43.903884    40.614732     41.041225   43.733979  ...    \n",
       "3     46.209410   40.178316    41.505149     42.517100   45.790646  ...    \n",
       "4     40.398257   39.125218    37.622879     39.426863   38.913859  ...    \n",
       "\n",
       "   sflat_noise  sroll_std  sroll_mean  sroll_noise  rmse_std  rmse_mean  \\\n",
       "0     0.093688  -0.244597   10.601514    20.214723  3.363856  18.003823   \n",
       "1     0.035302   0.039697   16.326505    19.737506  5.318969  23.638774   \n",
       "2    -0.016308   0.117662   16.205885    22.370373  4.550994  21.428553   \n",
       "3    -0.018797   0.016322   14.439448    23.331056  4.652364  19.832936   \n",
       "4     0.094060  -0.043183   12.675518    19.265351  4.408170  19.337850   \n",
       "\n",
       "   rmse_noise  h_target  target  fold  \n",
       "0    2.721278         0       0     1  \n",
       "1    7.329558         0      14     1  \n",
       "2    4.986183         1      36     1  \n",
       "3    5.539375         1      36     1  \n",
       "4    4.805436         1      19     1  \n",
       "\n",
       "[5 rows x 132 columns]"
      ]
     },
     "execution_count": 14,
     "metadata": {},
     "output_type": "execute_result"
    }
   ],
   "source": [
    "all_df.head()"
   ]
  },
  {
   "cell_type": "code",
   "execution_count": 15,
   "metadata": {},
   "outputs": [],
   "source": [
    "X = all_df.drop(['target', 'h_target', 'fold'], axis=1)\n",
    "y = all_df['h_target']"
   ]
  },
  {
   "cell_type": "code",
   "execution_count": 16,
   "metadata": {},
   "outputs": [
    {
     "name": "stdout",
     "output_type": "stream",
     "text": [
      "0.635\n",
      "Confusion matrix, without normalization\n",
      "[[ 29 123]\n",
      " [ 23 225]]\n"
     ]
    },
    {
     "data": {
      "image/png": "[encoded data removed]",
      "text/plain": [
       "<Figure size 1440x1440 with 2 Axes>"
      ]
     },
     "metadata": {
      "needs_background": "light"
     },
     "output_type": "display_data"
    }
   ],
   "source": [
    "pred = clf.predict(X)\n",
    "pred_prob = clf.predict_proba(X)\n",
    "print(metrics.accuracy_score(y, pred))\n",
    "cm = metrics.confusion_matrix(y, pred)\n",
    "plt.figure(figsize=(20,20))\n",
    "plot_confusion_matrix(cm, h_classes)\n",
    "plt.show()"
   ]
  },
  {
   "cell_type": "code",
   "execution_count": 17,
   "metadata": {},
   "outputs": [
    {
     "data": {
      "text/plain": [
       "SVC(C=1.0, cache_size=200, class_weight=None, coef0=0.0,\n",
       "  decision_function_shape='ovo', degree=3, gamma='scale', kernel='rbf',\n",
       "  max_iter=1000, probability=True, random_state=None, shrinking=True,\n",
       "  tol=0.001, verbose=False)"
      ]
     },
     "execution_count": 17,
     "metadata": {},
     "output_type": "execute_result"
    }
   ],
   "source": [
    "clf.best_estimator_ "
   ]
  },
  {
   "cell_type": "code",
   "execution_count": 18,
   "metadata": {},
   "outputs": [
    {
     "data": {
      "text/html": [
       "<div>\n",
       "<style scoped>\n",
       "    .dataframe tbody tr th:only-of-type {\n",
       "        vertical-align: middle;\n",
       "    }\n",
       "\n",
       "    .dataframe tbody tr th {\n",
       "        vertical-align: top;\n",
       "    }\n",
       "\n",
       "    .dataframe thead th {\n",
       "        text-align: right;\n",
       "    }\n",
       "</style>\n",
       "<table border=\"1\" class=\"dataframe\">\n",
       "  <thead>\n",
       "    <tr style=\"text-align: right;\">\n",
       "      <th></th>\n",
       "      <th>h_target</th>\n",
       "      <th>prob_0</th>\n",
       "      <th>prob_1</th>\n",
       "      <th>target</th>\n",
       "    </tr>\n",
       "  </thead>\n",
       "  <tbody>\n",
       "    <tr>\n",
       "      <th>0</th>\n",
       "      <td>Interacting Materials</td>\n",
       "      <td>0.361828</td>\n",
       "      <td>0.638172</td>\n",
       "      <td>chirping_birds</td>\n",
       "    </tr>\n",
       "    <tr>\n",
       "      <th>1</th>\n",
       "      <td>Interacting Materials</td>\n",
       "      <td>0.251386</td>\n",
       "      <td>0.748614</td>\n",
       "      <td>crow</td>\n",
       "    </tr>\n",
       "    <tr>\n",
       "      <th>2</th>\n",
       "      <td>Interacting Materials</td>\n",
       "      <td>0.409778</td>\n",
       "      <td>0.590222</td>\n",
       "      <td>clapping</td>\n",
       "    </tr>\n",
       "    <tr>\n",
       "      <th>3</th>\n",
       "      <td>Interacting Materials</td>\n",
       "      <td>0.298095</td>\n",
       "      <td>0.701905</td>\n",
       "      <td>clapping</td>\n",
       "    </tr>\n",
       "    <tr>\n",
       "      <th>4</th>\n",
       "      <td>Interacting Materials</td>\n",
       "      <td>0.324980</td>\n",
       "      <td>0.675020</td>\n",
       "      <td>dog</td>\n",
       "    </tr>\n",
       "  </tbody>\n",
       "</table>\n",
       "</div>"
      ],
      "text/plain": [
       "                h_target    prob_0    prob_1          target\n",
       "0  Interacting Materials  0.361828  0.638172  chirping_birds\n",
       "1  Interacting Materials  0.251386  0.748614            crow\n",
       "2  Interacting Materials  0.409778  0.590222        clapping\n",
       "3  Interacting Materials  0.298095  0.701905        clapping\n",
       "4  Interacting Materials  0.324980  0.675020             dog"
      ]
     },
     "execution_count": 18,
     "metadata": {},
     "output_type": "execute_result"
    }
   ],
   "source": [
    "import seaborn as sns\n",
    "misclassified = {\n",
    "    'h_target': [],\n",
    "    'target': [],\n",
    "    'prob_0': [],\n",
    "    'prob_1': []\n",
    "}\n",
    "for row, p, prob, Y in zip(all_df.iterrows(), pred, pred_prob, y):\n",
    "    Y = int(Y)\n",
    "    p = int(p)\n",
    "    if p!=Y:\n",
    "        misclassified['target'].append(classes[int(row[1]['target'])])\n",
    "        misclassified['h_target'].append(h_classes[p])\n",
    "        misclassified['prob_0'].append(prob[0])\n",
    "        misclassified['prob_1'].append(prob[1])\n",
    "\n",
    "misclassified = pd.DataFrame.from_dict(misclassified)\n",
    "misclassified.head()"
   ]
  },
  {
   "cell_type": "code",
   "execution_count": 19,
   "metadata": {},
   "outputs": [
    {
     "data": {
      "text/html": [
       "<div>\n",
       "<style scoped>\n",
       "    .dataframe tbody tr th:only-of-type {\n",
       "        vertical-align: middle;\n",
       "    }\n",
       "\n",
       "    .dataframe tbody tr th {\n",
       "        vertical-align: top;\n",
       "    }\n",
       "\n",
       "    .dataframe thead th {\n",
       "        text-align: right;\n",
       "    }\n",
       "</style>\n",
       "<table border=\"1\" class=\"dataframe\">\n",
       "  <thead>\n",
       "    <tr style=\"text-align: right;\">\n",
       "      <th></th>\n",
       "      <th>prob_0</th>\n",
       "      <th>prob_1</th>\n",
       "    </tr>\n",
       "    <tr>\n",
       "      <th>h_target</th>\n",
       "      <th></th>\n",
       "      <th></th>\n",
       "    </tr>\n",
       "  </thead>\n",
       "  <tbody>\n",
       "    <tr>\n",
       "      <th>Human &amp; Animal</th>\n",
       "      <td>0.666364</td>\n",
       "      <td>0.333636</td>\n",
       "    </tr>\n",
       "    <tr>\n",
       "      <th>Interacting Materials</th>\n",
       "      <td>0.352754</td>\n",
       "      <td>0.647246</td>\n",
       "    </tr>\n",
       "  </tbody>\n",
       "</table>\n",
       "</div>"
      ],
      "text/plain": [
       "                         prob_0    prob_1\n",
       "h_target                                 \n",
       "Human & Animal         0.666364  0.333636\n",
       "Interacting Materials  0.352754  0.647246"
      ]
     },
     "execution_count": 19,
     "metadata": {},
     "output_type": "execute_result"
    }
   ],
   "source": [
    "average_prob = misclassified.groupby('h_target').mean()\n",
    "average_prob.head()"
   ]
  },
  {
   "cell_type": "code",
   "execution_count": 21,
   "metadata": {},
   "outputs": [
    {
     "data": {
      "text/plain": [
       "<matplotlib.axes._subplots.AxesSubplot at 0x7fef06309cf8>"
      ]
     },
     "execution_count": 21,
     "metadata": {},
     "output_type": "execute_result"
    },
    {
     "data": {
      "image/png": "[encoded data removed]",
      "text/plain": [
       "<Figure size 3600x720 with 1 Axes>"
      ]
     },
     "metadata": {
      "needs_background": "light"
     },
     "output_type": "display_data"
    }
   ],
   "source": [
    "from matplotlib import pyplot as plt\n",
    "fig, ax = plt.subplots(figsize=(50,10))\n",
    "sns.countplot(x='h_target', hue='target',data=misclassified)"
   ]
  },
  {
   "cell_type": "code",
   "execution_count": null,
   "metadata": {},
   "outputs": [],
   "source": []
  }
 ],
 "metadata": {
  "kernelspec": {
   "display_name": "Python 3",
   "language": "python",
   "name": "python3"
  },
  "language_info": {
   "codemirror_mode": {
    "name": "ipython",
    "version": 3
   },
   "file_extension": ".py",
   "mimetype": "text/x-python",
   "name": "python",
   "nbconvert_exporter": "python",
   "pygments_lexer": "ipython3",
   "version": "3.5.2"
  }
 },
 "nbformat": 4,
 "nbformat_minor": 2
}
