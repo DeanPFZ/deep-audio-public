{
 "cells": [
  {
   "cell_type": "code",
   "execution_count": 1,
   "metadata": {},
   "outputs": [
    {
     "name": "stderr",
     "output_type": "stream",
     "text": [
      "Using TensorFlow backend.\n"
     ]
    },
    {
     "name": "stdout",
     "output_type": "stream",
     "text": [
      "WARNING:tensorflow:From /usr/local/lib/python3.5/dist-packages/magenta/models/nsynth/wavenet/masked.py:115: UniformUnitScaling.__init__ (from tensorflow.python.ops.init_ops) is deprecated and will be removed in a future version.\n",
      "Instructions for updating:\n",
      "Use tf.initializers.variance_scaling instead with distribution=uniform to get equivalent behavior.\n"
     ]
    }
   ],
   "source": [
    "import pandas as pd\n",
    "from preprocess import Audio_Processor\n",
    "from sklearn import metrics\n",
    "from classification_plots import plot_confusion_matrix, plot_learning_curve\n",
    "import matplotlib.pyplot as plt\n",
    "import os\n",
    "from sklearn.mixture import GaussianMixture as GMM"
   ]
  },
  {
   "cell_type": "code",
   "execution_count": 2,
   "metadata": {},
   "outputs": [],
   "source": [
    "# Able to specify which GPU to use\n",
    "os.environ[\"CUDA_VISIBLE_DEVICES\"]=\"2\"\n",
    "\n",
    "SR = 44100\n",
    "blocksize = 88200\n",
    "overlap = 22050"
   ]
  },
  {
   "cell_type": "code",
   "execution_count": 3,
   "metadata": {},
   "outputs": [],
   "source": [
    "import warnings\n",
    "warnings.filterwarnings('ignore')"
   ]
  },
  {
   "cell_type": "markdown",
   "metadata": {},
   "source": [
    "# Setup"
   ]
  },
  {
   "cell_type": "code",
   "execution_count": 4,
   "metadata": {},
   "outputs": [],
   "source": [
    "audio_dir = '../ESC-50/audio/'"
   ]
  },
  {
   "cell_type": "code",
   "execution_count": 5,
   "metadata": {},
   "outputs": [],
   "source": [
    "path_to_db='../ESC-50/'\n",
    "ps = Audio_Processor(path_to_db + 'audio/')"
   ]
  },
  {
   "cell_type": "markdown",
   "metadata": {},
   "source": [
    "# Load Dataset\n",
    "Here we load the csv that describes each file in the dataset. We add a high level category that is defined in the ESC-50 documentation. This we realize is anthetical to true training, it is a stopgap for when we use NLP to classify tags into these categories."
   ]
  },
  {
   "cell_type": "code",
   "execution_count": 6,
   "metadata": {},
   "outputs": [],
   "source": [
    "dataset = pd.read_csv(path_to_db + 'meta/esc50.csv')\n",
    "classes = [None] * 50"
   ]
  },
  {
   "cell_type": "code",
   "execution_count": 7,
   "metadata": {},
   "outputs": [],
   "source": [
    "h_classes = ['Human & Animal', 'Interacting Materials']\n",
    "mapping = {'dog': 0,'rooster': 0,'pig': 0,'cow': 0,'frog': 0,'cat': 0,'hen': 0,\n",
    "            'insects': 0,'sheep': 0,'crow': 0,'rain': 1,'sea_waves': 1,'crackling_fire': 1,\n",
    "            'crickets': 0,'chirping_birds': 0,'water_drops': 1,'wind': 1,'pouring_water': 1,\n",
    "            'toilet_flush': 1,'thunderstorm': 1,'crying_baby': 0,'sneezing': 0,'clapping': 0,\n",
    "            'breathing': 0,'coughing': 0,'footsteps': 1,'laughing': 0,'brushing_teeth': 1,\n",
    "            'snoring': 0,'drinking_sipping': 1,'door_wood_knock': 1,'mouse_click': 1,\n",
    "            'keyboard_typing': 1,'door_wood_creaks': 1,'can_opening': 1,'washing_machine': 1,\n",
    "            'vacuum_cleaner': 1,'clock_alarm': 1,'clock_tick': 1,'glass_breaking':1,'helicopter': 1,\n",
    "            'chainsaw': 1,'siren': 1,'car_horn': 1,'engine': 1,'train': 1,'church_bells': 1,\n",
    "            'airplane': 1,'fireworks': 1,'hand_saw': 1,\n",
    "            }"
   ]
  },
  {
   "cell_type": "code",
   "execution_count": 8,
   "metadata": {},
   "outputs": [],
   "source": [
    "dataset['h_category'] = None\n",
    "for index, row in dataset.iterrows():\n",
    "    target = row['target']\n",
    "    classes[target] = row['category']\n",
    "    dataset.loc[index, 'h_category'] = mapping[row['category']]"
   ]
  },
  {
   "cell_type": "code",
   "execution_count": 9,
   "metadata": {},
   "outputs": [
    {
     "data": {
      "text/html": [
       "<div>\n",
       "<style scoped>\n",
       "    .dataframe tbody tr th:only-of-type {\n",
       "        vertical-align: middle;\n",
       "    }\n",
       "\n",
       "    .dataframe tbody tr th {\n",
       "        vertical-align: top;\n",
       "    }\n",
       "\n",
       "    .dataframe thead th {\n",
       "        text-align: right;\n",
       "    }\n",
       "</style>\n",
       "<table border=\"1\" class=\"dataframe\">\n",
       "  <thead>\n",
       "    <tr style=\"text-align: right;\">\n",
       "      <th></th>\n",
       "      <th>filename</th>\n",
       "      <th>fold</th>\n",
       "      <th>target</th>\n",
       "      <th>category</th>\n",
       "      <th>esc10</th>\n",
       "      <th>src_file</th>\n",
       "      <th>take</th>\n",
       "      <th>h_category</th>\n",
       "    </tr>\n",
       "  </thead>\n",
       "  <tbody>\n",
       "    <tr>\n",
       "      <th>0</th>\n",
       "      <td>1-100032-A-0.wav</td>\n",
       "      <td>1</td>\n",
       "      <td>0</td>\n",
       "      <td>dog</td>\n",
       "      <td>True</td>\n",
       "      <td>100032</td>\n",
       "      <td>A</td>\n",
       "      <td>0</td>\n",
       "    </tr>\n",
       "    <tr>\n",
       "      <th>1</th>\n",
       "      <td>1-100038-A-14.wav</td>\n",
       "      <td>1</td>\n",
       "      <td>14</td>\n",
       "      <td>chirping_birds</td>\n",
       "      <td>False</td>\n",
       "      <td>100038</td>\n",
       "      <td>A</td>\n",
       "      <td>0</td>\n",
       "    </tr>\n",
       "    <tr>\n",
       "      <th>2</th>\n",
       "      <td>1-100210-A-36.wav</td>\n",
       "      <td>1</td>\n",
       "      <td>36</td>\n",
       "      <td>vacuum_cleaner</td>\n",
       "      <td>False</td>\n",
       "      <td>100210</td>\n",
       "      <td>A</td>\n",
       "      <td>1</td>\n",
       "    </tr>\n",
       "    <tr>\n",
       "      <th>3</th>\n",
       "      <td>1-100210-B-36.wav</td>\n",
       "      <td>1</td>\n",
       "      <td>36</td>\n",
       "      <td>vacuum_cleaner</td>\n",
       "      <td>False</td>\n",
       "      <td>100210</td>\n",
       "      <td>B</td>\n",
       "      <td>1</td>\n",
       "    </tr>\n",
       "    <tr>\n",
       "      <th>4</th>\n",
       "      <td>1-101296-A-19.wav</td>\n",
       "      <td>1</td>\n",
       "      <td>19</td>\n",
       "      <td>thunderstorm</td>\n",
       "      <td>False</td>\n",
       "      <td>101296</td>\n",
       "      <td>A</td>\n",
       "      <td>1</td>\n",
       "    </tr>\n",
       "  </tbody>\n",
       "</table>\n",
       "</div>"
      ],
      "text/plain": [
       "            filename  fold  target        category  esc10  src_file take  \\\n",
       "0   1-100032-A-0.wav     1       0             dog   True    100032    A   \n",
       "1  1-100038-A-14.wav     1      14  chirping_birds  False    100038    A   \n",
       "2  1-100210-A-36.wav     1      36  vacuum_cleaner  False    100210    A   \n",
       "3  1-100210-B-36.wav     1      36  vacuum_cleaner  False    100210    B   \n",
       "4  1-101296-A-19.wav     1      19    thunderstorm  False    101296    A   \n",
       "\n",
       "   h_category  \n",
       "0           0  \n",
       "1           0  \n",
       "2           1  \n",
       "3           1  \n",
       "4           1  "
      ]
     },
     "execution_count": 9,
     "metadata": {},
     "output_type": "execute_result"
    }
   ],
   "source": [
    "dataset.head()"
   ]
  },
  {
   "cell_type": "markdown",
   "metadata": {},
   "source": [
    "## Getting Preprocessed Data\n",
    "We allow for previously preprocessed data to be retrieved for faster training turnaround. If the fold has been preprocessed, it is loaded but if not it is processed and saved."
   ]
  },
  {
   "cell_type": "code",
   "execution_count": 10,
   "metadata": {},
   "outputs": [],
   "source": [
    "df = ps.preprocess_fold(dataset, \n",
    "                        kind='mfcc', \n",
    "                        fld=1, \n",
    "                        blocksize=blocksize, \n",
    "                        overlap=overlap)"
   ]
  },
  {
   "cell_type": "code",
   "execution_count": 11,
   "metadata": {},
   "outputs": [
    {
     "data": {
      "text/html": [
       "<div>\n",
       "<style scoped>\n",
       "    .dataframe tbody tr th:only-of-type {\n",
       "        vertical-align: middle;\n",
       "    }\n",
       "\n",
       "    .dataframe tbody tr th {\n",
       "        vertical-align: top;\n",
       "    }\n",
       "\n",
       "    .dataframe thead th {\n",
       "        text-align: right;\n",
       "    }\n",
       "</style>\n",
       "<table border=\"1\" class=\"dataframe\">\n",
       "  <thead>\n",
       "    <tr style=\"text-align: right;\">\n",
       "      <th></th>\n",
       "      <th>0</th>\n",
       "      <th>1</th>\n",
       "      <th>2</th>\n",
       "      <th>3</th>\n",
       "      <th>4</th>\n",
       "      <th>5</th>\n",
       "      <th>6</th>\n",
       "      <th>7</th>\n",
       "      <th>8</th>\n",
       "      <th>9</th>\n",
       "      <th>...</th>\n",
       "      <th>106</th>\n",
       "      <th>107</th>\n",
       "      <th>108</th>\n",
       "      <th>109</th>\n",
       "      <th>110</th>\n",
       "      <th>111</th>\n",
       "      <th>112</th>\n",
       "      <th>113</th>\n",
       "      <th>l_target</th>\n",
       "      <th>h_target</th>\n",
       "    </tr>\n",
       "  </thead>\n",
       "  <tbody>\n",
       "    <tr>\n",
       "      <th>count</th>\n",
       "      <td>1126.000000</td>\n",
       "      <td>1126.000000</td>\n",
       "      <td>1126.000000</td>\n",
       "      <td>1126.000000</td>\n",
       "      <td>1126.000000</td>\n",
       "      <td>1126.000000</td>\n",
       "      <td>1126.000000</td>\n",
       "      <td>1126.000000</td>\n",
       "      <td>1126.000000</td>\n",
       "      <td>1126.000000</td>\n",
       "      <td>...</td>\n",
       "      <td>1126.000000</td>\n",
       "      <td>1126.000000</td>\n",
       "      <td>1126.000000</td>\n",
       "      <td>1126.000000</td>\n",
       "      <td>1126.000000</td>\n",
       "      <td>1126.000000</td>\n",
       "      <td>1126.000000</td>\n",
       "      <td>1126.000000</td>\n",
       "      <td>1126.000000</td>\n",
       "      <td>1126.000000</td>\n",
       "    </tr>\n",
       "    <tr>\n",
       "      <th>mean</th>\n",
       "      <td>46.399255</td>\n",
       "      <td>47.481091</td>\n",
       "      <td>33.223811</td>\n",
       "      <td>29.509507</td>\n",
       "      <td>27.443117</td>\n",
       "      <td>26.244452</td>\n",
       "      <td>23.810670</td>\n",
       "      <td>23.809013</td>\n",
       "      <td>22.558772</td>\n",
       "      <td>22.094493</td>\n",
       "      <td>...</td>\n",
       "      <td>-0.010395</td>\n",
       "      <td>0.011152</td>\n",
       "      <td>-0.010438</td>\n",
       "      <td>0.007996</td>\n",
       "      <td>-0.007660</td>\n",
       "      <td>0.006362</td>\n",
       "      <td>-0.006018</td>\n",
       "      <td>0.003365</td>\n",
       "      <td>0.625222</td>\n",
       "      <td>24.504440</td>\n",
       "    </tr>\n",
       "    <tr>\n",
       "      <th>std</th>\n",
       "      <td>25.505648</td>\n",
       "      <td>27.862436</td>\n",
       "      <td>15.859885</td>\n",
       "      <td>13.373549</td>\n",
       "      <td>12.124446</td>\n",
       "      <td>11.438281</td>\n",
       "      <td>10.071876</td>\n",
       "      <td>10.328908</td>\n",
       "      <td>9.705747</td>\n",
       "      <td>9.681488</td>\n",
       "      <td>...</td>\n",
       "      <td>0.031721</td>\n",
       "      <td>0.028980</td>\n",
       "      <td>0.027594</td>\n",
       "      <td>0.026553</td>\n",
       "      <td>0.026074</td>\n",
       "      <td>0.025936</td>\n",
       "      <td>0.023690</td>\n",
       "      <td>0.022442</td>\n",
       "      <td>0.484281</td>\n",
       "      <td>14.487864</td>\n",
       "    </tr>\n",
       "    <tr>\n",
       "      <th>min</th>\n",
       "      <td>0.000000</td>\n",
       "      <td>0.000000</td>\n",
       "      <td>0.000000</td>\n",
       "      <td>0.000000</td>\n",
       "      <td>0.000000</td>\n",
       "      <td>0.000000</td>\n",
       "      <td>0.000000</td>\n",
       "      <td>0.000000</td>\n",
       "      <td>0.000000</td>\n",
       "      <td>0.000000</td>\n",
       "      <td>...</td>\n",
       "      <td>-0.157675</td>\n",
       "      <td>-0.106583</td>\n",
       "      <td>-0.125704</td>\n",
       "      <td>-0.075512</td>\n",
       "      <td>-0.110739</td>\n",
       "      <td>-0.109556</td>\n",
       "      <td>-0.108841</td>\n",
       "      <td>-0.086237</td>\n",
       "      <td>0.000000</td>\n",
       "      <td>0.000000</td>\n",
       "    </tr>\n",
       "    <tr>\n",
       "      <th>25%</th>\n",
       "      <td>27.178284</td>\n",
       "      <td>25.795751</td>\n",
       "      <td>21.857434</td>\n",
       "      <td>19.354777</td>\n",
       "      <td>19.300802</td>\n",
       "      <td>18.732965</td>\n",
       "      <td>16.995968</td>\n",
       "      <td>16.954051</td>\n",
       "      <td>16.210191</td>\n",
       "      <td>15.282154</td>\n",
       "      <td>...</td>\n",
       "      <td>-0.024681</td>\n",
       "      <td>-0.005575</td>\n",
       "      <td>-0.024791</td>\n",
       "      <td>-0.005670</td>\n",
       "      <td>-0.021191</td>\n",
       "      <td>-0.007326</td>\n",
       "      <td>-0.019023</td>\n",
       "      <td>-0.009467</td>\n",
       "      <td>0.000000</td>\n",
       "      <td>12.000000</td>\n",
       "    </tr>\n",
       "    <tr>\n",
       "      <th>50%</th>\n",
       "      <td>42.537642</td>\n",
       "      <td>44.042091</td>\n",
       "      <td>33.627569</td>\n",
       "      <td>29.919353</td>\n",
       "      <td>27.838444</td>\n",
       "      <td>26.491824</td>\n",
       "      <td>24.006821</td>\n",
       "      <td>24.214844</td>\n",
       "      <td>22.861795</td>\n",
       "      <td>22.496799</td>\n",
       "      <td>...</td>\n",
       "      <td>-0.004506</td>\n",
       "      <td>0.005206</td>\n",
       "      <td>-0.005752</td>\n",
       "      <td>0.004833</td>\n",
       "      <td>-0.003598</td>\n",
       "      <td>0.004021</td>\n",
       "      <td>-0.002838</td>\n",
       "      <td>0.000666</td>\n",
       "      <td>1.000000</td>\n",
       "      <td>25.000000</td>\n",
       "    </tr>\n",
       "    <tr>\n",
       "      <th>75%</th>\n",
       "      <td>65.394316</td>\n",
       "      <td>64.837833</td>\n",
       "      <td>43.205715</td>\n",
       "      <td>39.400712</td>\n",
       "      <td>35.563508</td>\n",
       "      <td>33.969391</td>\n",
       "      <td>31.051972</td>\n",
       "      <td>30.809504</td>\n",
       "      <td>28.784276</td>\n",
       "      <td>28.695025</td>\n",
       "      <td>...</td>\n",
       "      <td>0.006832</td>\n",
       "      <td>0.025501</td>\n",
       "      <td>0.006079</td>\n",
       "      <td>0.020366</td>\n",
       "      <td>0.006075</td>\n",
       "      <td>0.020025</td>\n",
       "      <td>0.006931</td>\n",
       "      <td>0.016730</td>\n",
       "      <td>1.000000</td>\n",
       "      <td>37.000000</td>\n",
       "    </tr>\n",
       "    <tr>\n",
       "      <th>max</th>\n",
       "      <td>134.123703</td>\n",
       "      <td>137.514175</td>\n",
       "      <td>112.408134</td>\n",
       "      <td>76.668762</td>\n",
       "      <td>74.285004</td>\n",
       "      <td>66.499321</td>\n",
       "      <td>60.113098</td>\n",
       "      <td>68.008316</td>\n",
       "      <td>54.163288</td>\n",
       "      <td>60.835384</td>\n",
       "      <td>...</td>\n",
       "      <td>0.116896</td>\n",
       "      <td>0.149008</td>\n",
       "      <td>0.074334</td>\n",
       "      <td>0.124392</td>\n",
       "      <td>0.090059</td>\n",
       "      <td>0.112636</td>\n",
       "      <td>0.111708</td>\n",
       "      <td>0.115039</td>\n",
       "      <td>1.000000</td>\n",
       "      <td>49.000000</td>\n",
       "    </tr>\n",
       "  </tbody>\n",
       "</table>\n",
       "<p>8 rows × 116 columns</p>\n",
       "</div>"
      ],
      "text/plain": [
       "                 0            1            2            3            4  \\\n",
       "count  1126.000000  1126.000000  1126.000000  1126.000000  1126.000000   \n",
       "mean     46.399255    47.481091    33.223811    29.509507    27.443117   \n",
       "std      25.505648    27.862436    15.859885    13.373549    12.124446   \n",
       "min       0.000000     0.000000     0.000000     0.000000     0.000000   \n",
       "25%      27.178284    25.795751    21.857434    19.354777    19.300802   \n",
       "50%      42.537642    44.042091    33.627569    29.919353    27.838444   \n",
       "75%      65.394316    64.837833    43.205715    39.400712    35.563508   \n",
       "max     134.123703   137.514175   112.408134    76.668762    74.285004   \n",
       "\n",
       "                 5            6            7            8            9  \\\n",
       "count  1126.000000  1126.000000  1126.000000  1126.000000  1126.000000   \n",
       "mean     26.244452    23.810670    23.809013    22.558772    22.094493   \n",
       "std      11.438281    10.071876    10.328908     9.705747     9.681488   \n",
       "min       0.000000     0.000000     0.000000     0.000000     0.000000   \n",
       "25%      18.732965    16.995968    16.954051    16.210191    15.282154   \n",
       "50%      26.491824    24.006821    24.214844    22.861795    22.496799   \n",
       "75%      33.969391    31.051972    30.809504    28.784276    28.695025   \n",
       "max      66.499321    60.113098    68.008316    54.163288    60.835384   \n",
       "\n",
       "          ...               106          107          108          109  \\\n",
       "count     ...       1126.000000  1126.000000  1126.000000  1126.000000   \n",
       "mean      ...         -0.010395     0.011152    -0.010438     0.007996   \n",
       "std       ...          0.031721     0.028980     0.027594     0.026553   \n",
       "min       ...         -0.157675    -0.106583    -0.125704    -0.075512   \n",
       "25%       ...         -0.024681    -0.005575    -0.024791    -0.005670   \n",
       "50%       ...         -0.004506     0.005206    -0.005752     0.004833   \n",
       "75%       ...          0.006832     0.025501     0.006079     0.020366   \n",
       "max       ...          0.116896     0.149008     0.074334     0.124392   \n",
       "\n",
       "               110          111          112          113     l_target  \\\n",
       "count  1126.000000  1126.000000  1126.000000  1126.000000  1126.000000   \n",
       "mean     -0.007660     0.006362    -0.006018     0.003365     0.625222   \n",
       "std       0.026074     0.025936     0.023690     0.022442     0.484281   \n",
       "min      -0.110739    -0.109556    -0.108841    -0.086237     0.000000   \n",
       "25%      -0.021191    -0.007326    -0.019023    -0.009467     0.000000   \n",
       "50%      -0.003598     0.004021    -0.002838     0.000666     1.000000   \n",
       "75%       0.006075     0.020025     0.006931     0.016730     1.000000   \n",
       "max       0.090059     0.112636     0.111708     0.115039     1.000000   \n",
       "\n",
       "          h_target  \n",
       "count  1126.000000  \n",
       "mean     24.504440  \n",
       "std      14.487864  \n",
       "min       0.000000  \n",
       "25%      12.000000  \n",
       "50%      25.000000  \n",
       "75%      37.000000  \n",
       "max      49.000000  \n",
       "\n",
       "[8 rows x 116 columns]"
      ]
     },
     "execution_count": 11,
     "metadata": {},
     "output_type": "execute_result"
    }
   ],
   "source": [
    "df.describe()"
   ]
  },
  {
   "cell_type": "code",
   "execution_count": 12,
   "metadata": {},
   "outputs": [],
   "source": [
    "from sklearn.model_selection import train_test_split\n",
    "train, test, = train_test_split(\n",
    "                        df, test_size=0.20, random_state=42)"
   ]
  },
  {
   "cell_type": "code",
   "execution_count": 13,
   "metadata": {},
   "outputs": [],
   "source": [
    "train_X = train.drop(['l_target', 'h_target'], axis=1)\n",
    "train_y = train['l_target']\n",
    "test_X = test.drop(['l_target', 'h_target'], axis=1)\n",
    "test_y = test['l_target']"
   ]
  },
  {
   "cell_type": "markdown",
   "metadata": {},
   "source": [
    "# Shallow Net\n",
    "Separate into classes"
   ]
  },
  {
   "cell_type": "code",
   "execution_count": 14,
   "metadata": {},
   "outputs": [
    {
     "data": {
      "image/png": "[encoded data removed]",
      "text/plain": [
       "<Figure size 432x288 with 1 Axes>"
      ]
     },
     "metadata": {
      "needs_background": "light"
     },
     "output_type": "display_data"
    }
   ],
   "source": [
    "anim = GMM(n_components=1, max_iter=100)\n",
    "plot_learning_curve(anim, 'GMM Learning Curve', train_X, train_y).show()"
   ]
  },
  {
   "cell_type": "code",
   "execution_count": 15,
   "metadata": {},
   "outputs": [
    {
     "data": {
      "text/plain": [
       "GaussianMixture(covariance_type='full', init_params='kmeans', max_iter=100,\n",
       "        means_init=None, n_components=1, n_init=1, precisions_init=None,\n",
       "        random_state=None, reg_covar=1e-06, tol=0.001, verbose=0,\n",
       "        verbose_interval=10, warm_start=False, weights_init=None)"
      ]
     },
     "execution_count": 15,
     "metadata": {},
     "output_type": "execute_result"
    }
   ],
   "source": [
    "anim.fit(train_X, train_y)"
   ]
  },
  {
   "cell_type": "code",
   "execution_count": 16,
   "metadata": {},
   "outputs": [
    {
     "name": "stdout",
     "output_type": "stream",
     "text": [
      "0.415929203539823\n",
      "Confusion matrix, without normalization\n",
      "[[ 94   0]\n",
      " [132   0]]\n"
     ]
    },
    {
     "data": {
      "image/png": "[encoded data removed]",
      "text/plain": [
       "<Figure size 720x720 with 2 Axes>"
      ]
     },
     "metadata": {
      "needs_background": "light"
     },
     "output_type": "display_data"
    }
   ],
   "source": [
    "pred = anim.predict(test_X)\n",
    "print(metrics.accuracy_score(test_y, pred))\n",
    "cm = metrics.confusion_matrix(test_y, pred)\n",
    "plt.figure(figsize=(10,10))\n",
    "plot_confusion_matrix(cm, h_classes)\n",
    "plt.show()"
   ]
  },
  {
   "cell_type": "markdown",
   "metadata": {},
   "source": [
    "# All Data"
   ]
  },
  {
   "cell_type": "code",
   "execution_count": 17,
   "metadata": {},
   "outputs": [],
   "source": [
    "all_df = ps.preprocess_fold(dataset, \n",
    "                        kind='mfcc', \n",
    "                        fld=range(2,6), \n",
    "                        blocksize=blocksize, \n",
    "                        overlap=overlap)"
   ]
  },
  {
   "cell_type": "code",
   "execution_count": 18,
   "metadata": {},
   "outputs": [],
   "source": [
    "X = all_df.drop(['l_target', 'h_target'], axis=1)\n",
    "y = all_df['l_target']"
   ]
  },
  {
   "cell_type": "code",
   "execution_count": 19,
   "metadata": {},
   "outputs": [
    {
     "name": "stdout",
     "output_type": "stream",
     "text": [
      "0.376597620096959\n",
      "Confusion matrix, without normalization\n",
      "[[1709    0]\n",
      " [2829    0]]\n"
     ]
    },
    {
     "data": {
      "image/png": "[encoded data removed]",
      "text/plain": [
       "<Figure size 1440x1440 with 2 Axes>"
      ]
     },
     "metadata": {
      "needs_background": "light"
     },
     "output_type": "display_data"
    }
   ],
   "source": [
    "pred = anim.predict(X)\n",
    "print(metrics.accuracy_score(y, pred))\n",
    "cm = metrics.confusion_matrix(y, pred)\n",
    "plt.figure(figsize=(20,20))\n",
    "plot_confusion_matrix(cm, h_classes)\n",
    "plt.show()"
   ]
  },
  {
   "cell_type": "code",
   "execution_count": null,
   "metadata": {},
   "outputs": [],
   "source": []
  }
 ],
 "metadata": {
  "kernelspec": {
   "display_name": "Python 3",
   "language": "python",
   "name": "python3"
  },
  "language_info": {
   "codemirror_mode": {
    "name": "ipython",
    "version": 3
   },
   "file_extension": ".py",
   "mimetype": "text/x-python",
   "name": "python",
   "nbconvert_exporter": "python",
   "pygments_lexer": "ipython3",
   "version": "3.5.2"
  }
 },
 "nbformat": 4,
 "nbformat_minor": 2
}
