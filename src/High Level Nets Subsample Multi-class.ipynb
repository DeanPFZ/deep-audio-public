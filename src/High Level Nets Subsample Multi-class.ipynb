{
 "cells": [
  {
   "cell_type": "code",
   "execution_count": 1,
   "metadata": {},
   "outputs": [
    {
     "name": "stderr",
     "output_type": "stream",
     "text": [
      "Using TensorFlow backend.\n"
     ]
    }
   ],
   "source": [
    "import pandas as pd\n",
    "from preprocess import Audio_Processor\n",
    "import data_utils as du\n",
    "from sklearn import metrics\n",
    "from keras.wrappers.scikit_learn import KerasClassifier\n",
    "from classification_plots import plot_confusion_matrix\n",
    "import matplotlib.pyplot as plt\n",
    "import snn_classifier as snn_clas"
   ]
  },
  {
   "cell_type": "code",
   "execution_count": 2,
   "metadata": {},
   "outputs": [],
   "source": [
    "import warnings\n",
    "warnings.filterwarnings('ignore')"
   ]
  },
  {
   "cell_type": "markdown",
   "metadata": {},
   "source": [
    "# Setup"
   ]
  },
  {
   "cell_type": "code",
   "execution_count": 3,
   "metadata": {},
   "outputs": [],
   "source": [
    "path_to_db='../ESC-50/'\n",
    "ps = Audio_Processor(path_to_db + 'audio/')"
   ]
  },
  {
   "cell_type": "markdown",
   "metadata": {},
   "source": [
    "# Load Dataset\n",
    "Here we load the csv that describes each file in the dataset. We add a high level category that is defined in the ESC-50 documentation. This we realize is anthetical to true training, it is a stopgap for when we use NLP to classify tags into these categories."
   ]
  },
  {
   "cell_type": "code",
   "execution_count": 4,
   "metadata": {},
   "outputs": [],
   "source": [
    "dataset = pd.read_csv(path_to_db + 'meta/esc50.csv')\n",
    "classes = [None] * 50\n",
    "h_classes = ['animal', 'nature', 'human', 'domestic', 'urban']"
   ]
  },
  {
   "cell_type": "code",
   "execution_count": 5,
   "metadata": {},
   "outputs": [],
   "source": [
    "dataset['h_category'] = None\n",
    "for index, row in dataset.iterrows():\n",
    "    target = row['target']\n",
    "    classes[target] = row['category']\n",
    "    if target < 10:\n",
    "        dataset.loc[index, 'h_category'] = 0\n",
    "    elif target < 20:\n",
    "        dataset.loc[index, 'h_category'] = 1\n",
    "    elif target < 30:\n",
    "        dataset.loc[index, 'h_category'] = 2\n",
    "    elif target < 40:\n",
    "        dataset.loc[index, 'h_category'] = 3\n",
    "    elif target < 50:\n",
    "        dataset.loc[index, 'h_category'] = 4"
   ]
  },
  {
   "cell_type": "code",
   "execution_count": 6,
   "metadata": {},
   "outputs": [
    {
     "data": {
      "text/html": [
       "<div>\n",
       "<style scoped>\n",
       "    .dataframe tbody tr th:only-of-type {\n",
       "        vertical-align: middle;\n",
       "    }\n",
       "\n",
       "    .dataframe tbody tr th {\n",
       "        vertical-align: top;\n",
       "    }\n",
       "\n",
       "    .dataframe thead th {\n",
       "        text-align: right;\n",
       "    }\n",
       "</style>\n",
       "<table border=\"1\" class=\"dataframe\">\n",
       "  <thead>\n",
       "    <tr style=\"text-align: right;\">\n",
       "      <th></th>\n",
       "      <th>filename</th>\n",
       "      <th>fold</th>\n",
       "      <th>target</th>\n",
       "      <th>category</th>\n",
       "      <th>esc10</th>\n",
       "      <th>src_file</th>\n",
       "      <th>take</th>\n",
       "      <th>h_category</th>\n",
       "    </tr>\n",
       "  </thead>\n",
       "  <tbody>\n",
       "    <tr>\n",
       "      <th>0</th>\n",
       "      <td>1-100032-A-0.wav</td>\n",
       "      <td>1</td>\n",
       "      <td>0</td>\n",
       "      <td>dog</td>\n",
       "      <td>True</td>\n",
       "      <td>100032</td>\n",
       "      <td>A</td>\n",
       "      <td>0</td>\n",
       "    </tr>\n",
       "    <tr>\n",
       "      <th>1</th>\n",
       "      <td>1-100038-A-14.wav</td>\n",
       "      <td>1</td>\n",
       "      <td>14</td>\n",
       "      <td>chirping_birds</td>\n",
       "      <td>False</td>\n",
       "      <td>100038</td>\n",
       "      <td>A</td>\n",
       "      <td>1</td>\n",
       "    </tr>\n",
       "    <tr>\n",
       "      <th>2</th>\n",
       "      <td>1-100210-A-36.wav</td>\n",
       "      <td>1</td>\n",
       "      <td>36</td>\n",
       "      <td>vacuum_cleaner</td>\n",
       "      <td>False</td>\n",
       "      <td>100210</td>\n",
       "      <td>A</td>\n",
       "      <td>3</td>\n",
       "    </tr>\n",
       "    <tr>\n",
       "      <th>3</th>\n",
       "      <td>1-100210-B-36.wav</td>\n",
       "      <td>1</td>\n",
       "      <td>36</td>\n",
       "      <td>vacuum_cleaner</td>\n",
       "      <td>False</td>\n",
       "      <td>100210</td>\n",
       "      <td>B</td>\n",
       "      <td>3</td>\n",
       "    </tr>\n",
       "    <tr>\n",
       "      <th>4</th>\n",
       "      <td>1-101296-A-19.wav</td>\n",
       "      <td>1</td>\n",
       "      <td>19</td>\n",
       "      <td>thunderstorm</td>\n",
       "      <td>False</td>\n",
       "      <td>101296</td>\n",
       "      <td>A</td>\n",
       "      <td>1</td>\n",
       "    </tr>\n",
       "  </tbody>\n",
       "</table>\n",
       "</div>"
      ],
      "text/plain": [
       "            filename  fold  target        category  esc10  src_file take  \\\n",
       "0   1-100032-A-0.wav     1       0             dog   True    100032    A   \n",
       "1  1-100038-A-14.wav     1      14  chirping_birds  False    100038    A   \n",
       "2  1-100210-A-36.wav     1      36  vacuum_cleaner  False    100210    A   \n",
       "3  1-100210-B-36.wav     1      36  vacuum_cleaner  False    100210    B   \n",
       "4  1-101296-A-19.wav     1      19    thunderstorm  False    101296    A   \n",
       "\n",
       "   h_category  \n",
       "0           0  \n",
       "1           1  \n",
       "2           3  \n",
       "3           3  \n",
       "4           1  "
      ]
     },
     "execution_count": 6,
     "metadata": {},
     "output_type": "execute_result"
    }
   ],
   "source": [
    "dataset.head()"
   ]
  },
  {
   "cell_type": "markdown",
   "metadata": {},
   "source": [
    "## Getting Preprocessed Data\n",
    "We allow for previously preprocessed data to be retrieved for faster training turnaround. If the fold has been preprocessed, it is loaded but if not it is processed and saved."
   ]
  },
  {
   "cell_type": "code",
   "execution_count": 7,
   "metadata": {},
   "outputs": [],
   "source": [
    "c_data = pd.concat([ps.preprocess_fold(fld, dataset) for fld in range(1,6)], ignore_index=True)"
   ]
  },
  {
   "cell_type": "code",
   "execution_count": 8,
   "metadata": {},
   "outputs": [],
   "source": [
    "c_data['h_category'] = 4\n",
    "c_data.loc[c_data['target'] < 40, 'h_category'] = 3\n",
    "c_data.loc[c_data['target'] < 30, 'h_category'] = 2\n",
    "c_data.loc[c_data['target'] < 20, 'h_category'] = 1\n",
    "c_data.loc[c_data['target'] < 10, 'h_category'] = 0"
   ]
  },
  {
   "cell_type": "code",
   "execution_count": 9,
   "metadata": {},
   "outputs": [
    {
     "data": {
      "text/html": [
       "<div>\n",
       "<style scoped>\n",
       "    .dataframe tbody tr th:only-of-type {\n",
       "        vertical-align: middle;\n",
       "    }\n",
       "\n",
       "    .dataframe tbody tr th {\n",
       "        vertical-align: top;\n",
       "    }\n",
       "\n",
       "    .dataframe thead th {\n",
       "        text-align: right;\n",
       "    }\n",
       "</style>\n",
       "<table border=\"1\" class=\"dataframe\">\n",
       "  <thead>\n",
       "    <tr style=\"text-align: right;\">\n",
       "      <th></th>\n",
       "      <th>0</th>\n",
       "      <th>1</th>\n",
       "      <th>2</th>\n",
       "      <th>3</th>\n",
       "      <th>4</th>\n",
       "      <th>5</th>\n",
       "      <th>6</th>\n",
       "      <th>7</th>\n",
       "      <th>8</th>\n",
       "      <th>9</th>\n",
       "      <th>...</th>\n",
       "      <th>30</th>\n",
       "      <th>31</th>\n",
       "      <th>32</th>\n",
       "      <th>33</th>\n",
       "      <th>34</th>\n",
       "      <th>35</th>\n",
       "      <th>36</th>\n",
       "      <th>37</th>\n",
       "      <th>target</th>\n",
       "      <th>h_category</th>\n",
       "    </tr>\n",
       "  </thead>\n",
       "  <tbody>\n",
       "    <tr>\n",
       "      <th>0</th>\n",
       "      <td>0.000000</td>\n",
       "      <td>0.000000</td>\n",
       "      <td>0.000000</td>\n",
       "      <td>0.000000</td>\n",
       "      <td>0.000000</td>\n",
       "      <td>0.000000</td>\n",
       "      <td>0.000000</td>\n",
       "      <td>0.000000</td>\n",
       "      <td>0.000000</td>\n",
       "      <td>0.000000</td>\n",
       "      <td>...</td>\n",
       "      <td>5.238711</td>\n",
       "      <td>0.887285</td>\n",
       "      <td>-0.479714</td>\n",
       "      <td>-2.101468</td>\n",
       "      <td>-2.279721</td>\n",
       "      <td>-0.546664</td>\n",
       "      <td>0.781288</td>\n",
       "      <td>2.636188</td>\n",
       "      <td>0</td>\n",
       "      <td>0</td>\n",
       "    </tr>\n",
       "    <tr>\n",
       "      <th>1</th>\n",
       "      <td>83.621621</td>\n",
       "      <td>-50.483010</td>\n",
       "      <td>-31.115186</td>\n",
       "      <td>-3.566867</td>\n",
       "      <td>-19.398316</td>\n",
       "      <td>-14.354486</td>\n",
       "      <td>-4.658161</td>\n",
       "      <td>-14.146847</td>\n",
       "      <td>-16.949019</td>\n",
       "      <td>-1.723476</td>\n",
       "      <td>...</td>\n",
       "      <td>5.238711</td>\n",
       "      <td>0.887285</td>\n",
       "      <td>-0.479714</td>\n",
       "      <td>-2.101468</td>\n",
       "      <td>-2.279721</td>\n",
       "      <td>-0.546664</td>\n",
       "      <td>0.781288</td>\n",
       "      <td>2.636188</td>\n",
       "      <td>0</td>\n",
       "      <td>0</td>\n",
       "    </tr>\n",
       "    <tr>\n",
       "      <th>2</th>\n",
       "      <td>109.848331</td>\n",
       "      <td>-110.083820</td>\n",
       "      <td>-54.568920</td>\n",
       "      <td>-30.153585</td>\n",
       "      <td>-58.985460</td>\n",
       "      <td>-5.598281</td>\n",
       "      <td>-5.862913</td>\n",
       "      <td>17.490401</td>\n",
       "      <td>12.544187</td>\n",
       "      <td>13.053928</td>\n",
       "      <td>...</td>\n",
       "      <td>5.238711</td>\n",
       "      <td>0.887285</td>\n",
       "      <td>-0.479714</td>\n",
       "      <td>-2.101468</td>\n",
       "      <td>-2.279721</td>\n",
       "      <td>-0.546664</td>\n",
       "      <td>0.781288</td>\n",
       "      <td>2.636188</td>\n",
       "      <td>0</td>\n",
       "      <td>0</td>\n",
       "    </tr>\n",
       "    <tr>\n",
       "      <th>3</th>\n",
       "      <td>77.698670</td>\n",
       "      <td>-123.925469</td>\n",
       "      <td>-64.058169</td>\n",
       "      <td>-27.170063</td>\n",
       "      <td>-57.606930</td>\n",
       "      <td>-9.980594</td>\n",
       "      <td>6.718248</td>\n",
       "      <td>21.293678</td>\n",
       "      <td>15.173490</td>\n",
       "      <td>-1.113725</td>\n",
       "      <td>...</td>\n",
       "      <td>5.238711</td>\n",
       "      <td>0.887285</td>\n",
       "      <td>-0.479714</td>\n",
       "      <td>-2.101468</td>\n",
       "      <td>-2.279721</td>\n",
       "      <td>-0.546664</td>\n",
       "      <td>0.781288</td>\n",
       "      <td>2.636188</td>\n",
       "      <td>0</td>\n",
       "      <td>0</td>\n",
       "    </tr>\n",
       "    <tr>\n",
       "      <th>4</th>\n",
       "      <td>58.790968</td>\n",
       "      <td>-133.719666</td>\n",
       "      <td>-76.282456</td>\n",
       "      <td>-25.140746</td>\n",
       "      <td>-54.371150</td>\n",
       "      <td>-13.053846</td>\n",
       "      <td>14.737484</td>\n",
       "      <td>17.361937</td>\n",
       "      <td>12.619366</td>\n",
       "      <td>-8.285872</td>\n",
       "      <td>...</td>\n",
       "      <td>5.238711</td>\n",
       "      <td>0.887285</td>\n",
       "      <td>-0.479714</td>\n",
       "      <td>-2.101468</td>\n",
       "      <td>-2.279721</td>\n",
       "      <td>-0.546664</td>\n",
       "      <td>0.781288</td>\n",
       "      <td>2.636188</td>\n",
       "      <td>0</td>\n",
       "      <td>0</td>\n",
       "    </tr>\n",
       "  </tbody>\n",
       "</table>\n",
       "<p>5 rows × 40 columns</p>\n",
       "</div>"
      ],
      "text/plain": [
       "            0           1          2          3          4          5  \\\n",
       "0    0.000000    0.000000   0.000000   0.000000   0.000000   0.000000   \n",
       "1   83.621621  -50.483010 -31.115186  -3.566867 -19.398316 -14.354486   \n",
       "2  109.848331 -110.083820 -54.568920 -30.153585 -58.985460  -5.598281   \n",
       "3   77.698670 -123.925469 -64.058169 -27.170063 -57.606930  -9.980594   \n",
       "4   58.790968 -133.719666 -76.282456 -25.140746 -54.371150 -13.053846   \n",
       "\n",
       "           6          7          8          9     ...            30        31  \\\n",
       "0   0.000000   0.000000   0.000000   0.000000     ...      5.238711  0.887285   \n",
       "1  -4.658161 -14.146847 -16.949019  -1.723476     ...      5.238711  0.887285   \n",
       "2  -5.862913  17.490401  12.544187  13.053928     ...      5.238711  0.887285   \n",
       "3   6.718248  21.293678  15.173490  -1.113725     ...      5.238711  0.887285   \n",
       "4  14.737484  17.361937  12.619366  -8.285872     ...      5.238711  0.887285   \n",
       "\n",
       "         32        33        34        35        36        37  target  \\\n",
       "0 -0.479714 -2.101468 -2.279721 -0.546664  0.781288  2.636188       0   \n",
       "1 -0.479714 -2.101468 -2.279721 -0.546664  0.781288  2.636188       0   \n",
       "2 -0.479714 -2.101468 -2.279721 -0.546664  0.781288  2.636188       0   \n",
       "3 -0.479714 -2.101468 -2.279721 -0.546664  0.781288  2.636188       0   \n",
       "4 -0.479714 -2.101468 -2.279721 -0.546664  0.781288  2.636188       0   \n",
       "\n",
       "   h_category  \n",
       "0           0  \n",
       "1           0  \n",
       "2           0  \n",
       "3           0  \n",
       "4           0  \n",
       "\n",
       "[5 rows x 40 columns]"
      ]
     },
     "execution_count": 9,
     "metadata": {},
     "output_type": "execute_result"
    }
   ],
   "source": [
    "c_data.head()"
   ]
  },
  {
   "cell_type": "code",
   "execution_count": 10,
   "metadata": {},
   "outputs": [],
   "source": [
    "c_data, scalar = du.normalize_data(c_data, 'h_category')"
   ]
  },
  {
   "cell_type": "code",
   "execution_count": 11,
   "metadata": {},
   "outputs": [],
   "source": [
    "train, test = du.split_training_test(c_data, 0.2)\n",
    "train_X = train.drop(columns=['target', 'h_category'])\n",
    "train_y = train.h_category\n",
    "test_X = test.drop(columns=['target', 'h_category'])\n",
    "test_y = test.h_category"
   ]
  },
  {
   "cell_type": "markdown",
   "metadata": {},
   "source": [
    "## High-Level Shallow Nets\n",
    "Train binary shallow nets for high level categories(animals, natural, human, domestic, urban)"
   ]
  },
  {
   "cell_type": "code",
   "execution_count": 12,
   "metadata": {},
   "outputs": [],
   "source": [
    "from keras.models import Sequential\n",
    "from keras.layers import Dense, Dropout, Convolution2D, MaxPooling2D, Flatten\n",
    "from kapre.time_frequency import Melspectrogram, Spectrogram\n",
    "from kapre.utils import Normalization2D\n",
    "from kapre.augmentation import AdditiveNoise\n",
    "\n",
    "def multiclass_shallow_net():\n",
    "    # Create Model\n",
    "    model = Sequential()\n",
    "    model.add(Dense(38, activation='relu', input_shape=(38,)))\n",
    "    model.add(Dropout(0.2))\n",
    "    model.add(Dense(5, kernel_initializer='normal', activation='softmax'))\n",
    "    \n",
    "    model.summary()\n",
    "    \n",
    "    # Compile model\n",
    "    model.compile(loss='categorical_crossentropy',\n",
    "                  optimizer='adam')\n",
    "    return model"
   ]
  },
  {
   "cell_type": "code",
   "execution_count": 13,
   "metadata": {},
   "outputs": [
    {
     "name": "stdout",
     "output_type": "stream",
     "text": [
      "_________________________________________________________________\n",
      "Layer (type)                 Output Shape              Param #   \n",
      "=================================================================\n",
      "dense_1 (Dense)              (None, 38)                1482      \n",
      "_________________________________________________________________\n",
      "dropout_1 (Dropout)          (None, 38)                0         \n",
      "_________________________________________________________________\n",
      "dense_2 (Dense)              (None, 5)                 195       \n",
      "=================================================================\n",
      "Total params: 1,677\n",
      "Trainable params: 1,677\n",
      "Non-trainable params: 0\n",
      "_________________________________________________________________\n",
      "Epoch 1/20\n",
      "310994/310994 [==============================] - 18s 57us/step - loss: 1.3879\n",
      "Epoch 2/20\n",
      "310994/310994 [==============================] - 12s 38us/step - loss: 1.3054\n",
      "Epoch 3/20\n",
      "310994/310994 [==============================] - 11s 37us/step - loss: 1.2846\n",
      "Epoch 4/20\n",
      "310994/310994 [==============================] - 11s 37us/step - loss: 1.2740\n",
      "Epoch 5/20\n",
      "310994/310994 [==============================] - 11s 36us/step - loss: 1.2660\n",
      "Epoch 6/20\n",
      "310994/310994 [==============================] - 11s 36us/step - loss: 1.2623\n",
      "Epoch 7/20\n",
      "310994/310994 [==============================] - 11s 36us/step - loss: 1.2584\n",
      "Epoch 8/20\n",
      "310994/310994 [==============================] - 11s 36us/step - loss: 1.2567\n",
      "Epoch 9/20\n",
      "310994/310994 [==============================] - 11s 36us/step - loss: 1.2539\n",
      "Epoch 10/20\n",
      "310994/310994 [==============================] - 11s 36us/step - loss: 1.2548\n",
      "Epoch 11/20\n",
      "310994/310994 [==============================] - 11s 36us/step - loss: 1.2528\n",
      "Epoch 12/20\n",
      "310994/310994 [==============================] - 11s 36us/step - loss: 1.2517\n",
      "Epoch 13/20\n",
      "310994/310994 [==============================] - 11s 37us/step - loss: 1.2507\n",
      "Epoch 14/20\n",
      "310994/310994 [==============================] - 11s 36us/step - loss: 1.2508\n",
      "Epoch 15/20\n",
      "310994/310994 [==============================] - 11s 36us/step - loss: 1.2515\n",
      "Epoch 16/20\n",
      "310994/310994 [==============================] - 11s 36us/step - loss: 1.2487\n",
      "Epoch 17/20\n",
      "310994/310994 [==============================] - 11s 36us/step - loss: 1.2484\n",
      "Epoch 18/20\n",
      "310994/310994 [==============================] - 11s 36us/step - loss: 1.2490\n",
      "Epoch 19/20\n",
      "310994/310994 [==============================] - 11s 36us/step - loss: 1.2492\n",
      "Epoch 20/20\n",
      "310994/310994 [==============================] - 11s 36us/step - loss: 1.2485\n"
     ]
    },
    {
     "data": {
      "text/plain": [
       "<keras.callbacks.History at 0x7f775c16cd30>"
      ]
     },
     "execution_count": 13,
     "metadata": {},
     "output_type": "execute_result"
    }
   ],
   "source": [
    "clas = KerasClassifier(build_fn=multiclass_shallow_net, epochs=20, batch_size=128, verbose=1)\n",
    "clas.fit(train_X, train_y)"
   ]
  },
  {
   "cell_type": "code",
   "execution_count": 14,
   "metadata": {
    "scrolled": false
   },
   "outputs": [
    {
     "name": "stdout",
     "output_type": "stream",
     "text": [
      "77749/77749 [==============================] - 1s 10us/step\n",
      "0.5078393291232042\n",
      "Confusion matrix, without normalization\n",
      "[[ 7469  2089  1848  1004  2961]\n",
      " [  805  8571  1521  1945  3782]\n",
      " [ 1889  2377  6128  2416  1697]\n",
      " [  785  3209  1992  5928  2664]\n",
      " [ 1193  1810  1028  1250 11388]]\n"
     ]
    },
    {
     "data": {
      "image/png": "[encoded data removed]",
      "text/plain": [
       "<Figure size 432x288 with 2 Axes>"
      ]
     },
     "metadata": {
      "needs_background": "light"
     },
     "output_type": "display_data"
    }
   ],
   "source": [
    "pred = clas.predict(test_X)\n",
    "print(metrics.accuracy_score(test_y, pred))\n",
    "cm = metrics.confusion_matrix(test_y, pred)\n",
    "plot_confusion_matrix(cm, h_classes)\n",
    "plt.show()"
   ]
  },
  {
   "cell_type": "code",
   "execution_count": null,
   "metadata": {},
   "outputs": [],
   "source": []
  }
 ],
 "metadata": {
  "kernelspec": {
   "display_name": "Python 3",
   "language": "python",
   "name": "python3"
  },
  "language_info": {
   "codemirror_mode": {
    "name": "ipython",
    "version": 3
   },
   "file_extension": ".py",
   "mimetype": "text/x-python",
   "name": "python",
   "nbconvert_exporter": "python",
   "pygments_lexer": "ipython3",
   "version": "3.6.6"
  }
 },
 "nbformat": 4,
 "nbformat_minor": 2
}
