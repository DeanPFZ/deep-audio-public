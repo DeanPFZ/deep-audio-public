{
 "cells": [
  {
   "cell_type": "code",
   "execution_count": 1,
   "metadata": {},
   "outputs": [
    {
     "name": "stderr",
     "output_type": "stream",
     "text": [
      "Using TensorFlow backend.\n"
     ]
    },
    {
     "name": "stdout",
     "output_type": "stream",
     "text": [
      "WARNING:tensorflow:From /usr/local/lib/python3.5/dist-packages/magenta/models/nsynth/wavenet/masked.py:116: UniformUnitScaling.__init__ (from tensorflow.python.ops.init_ops) is deprecated and will be removed in a future version.\n",
      "Instructions for updating:\n",
      "Use tf.initializers.variance_scaling instead with distribution=uniform to get equivalent behavior.\n"
     ]
    }
   ],
   "source": [
    "import pandas as pd\n",
    "from preprocess import Audio_Processor\n",
    "from sklearn import metrics\n",
    "from classification_plots import plot_confusion_matrix, plot_learning_curve\n",
    "import matplotlib.pyplot as plt\n",
    "import os\n",
    "from sklearn.mixture import GaussianMixture as GMM"
   ]
  },
  {
   "cell_type": "code",
   "execution_count": 2,
   "metadata": {},
   "outputs": [],
   "source": [
    "# Able to specify which GPU to use\n",
    "os.environ[\"CUDA_VISIBLE_DEVICES\"]=\"2\"\n",
    "\n",
    "SR = 44100\n",
    "blocksize = 11025\n",
    "overlap = 5512"
   ]
  },
  {
   "cell_type": "code",
   "execution_count": 3,
   "metadata": {},
   "outputs": [],
   "source": [
    "import warnings\n",
    "warnings.filterwarnings('ignore')"
   ]
  },
  {
   "cell_type": "markdown",
   "metadata": {},
   "source": [
    "# Setup"
   ]
  },
  {
   "cell_type": "code",
   "execution_count": 4,
   "metadata": {},
   "outputs": [],
   "source": [
    "audio_dir = '../ESC-50/audio/'"
   ]
  },
  {
   "cell_type": "code",
   "execution_count": 5,
   "metadata": {},
   "outputs": [],
   "source": [
    "path_to_db='../ESC-50/'\n",
    "ps = Audio_Processor(path_to_db + 'audio/')"
   ]
  },
  {
   "cell_type": "markdown",
   "metadata": {},
   "source": [
    "# Load Dataset\n",
    "Here we load the csv that describes each file in the dataset. We add a high level category that is defined in the ESC-50 documentation. This we realize is anthetical to true training, it is a stopgap for when we use NLP to classify tags into these categories."
   ]
  },
  {
   "cell_type": "code",
   "execution_count": 6,
   "metadata": {},
   "outputs": [],
   "source": [
    "dataset = pd.read_csv(path_to_db + 'meta/esc50.csv')\n",
    "classes = [None] * 50"
   ]
  },
  {
   "cell_type": "code",
   "execution_count": 7,
   "metadata": {},
   "outputs": [],
   "source": [
    "h_classes = ['Human & Animal', 'Interacting Materials']\n",
    "mapping = {'dog': 0,'rooster': 0,'pig': 0,'cow': 0,'frog': 0,'cat': 0,'hen': 0,\n",
    "            'insects': 0,'sheep': 0,'crow': 0,'rain': 1,'sea_waves': 1,'crackling_fire': 1,\n",
    "            'crickets': 0,'chirping_birds': 0,'water_drops': 1,'wind': 1,'pouring_water': 1,\n",
    "            'toilet_flush': 1,'thunderstorm': 1,'crying_baby': 0,'sneezing': 0,'clapping': 0,\n",
    "            'breathing': 0,'coughing': 0,'footsteps': 1,'laughing': 0,'brushing_teeth': 1,\n",
    "            'snoring': 0,'drinking_sipping': 1,'door_wood_knock': 1,'mouse_click': 1,\n",
    "            'keyboard_typing': 1,'door_wood_creaks': 1,'can_opening': 1,'washing_machine': 1,\n",
    "            'vacuum_cleaner': 1,'clock_alarm': 1,'clock_tick': 1,'glass_breaking':1,'helicopter': 1,\n",
    "            'chainsaw': 1,'siren': 1,'car_horn': 1,'engine': 1,'train': 1,'church_bells': 1,\n",
    "            'airplane': 1,'fireworks': 1,'hand_saw': 1,\n",
    "            }"
   ]
  },
  {
   "cell_type": "code",
   "execution_count": 8,
   "metadata": {},
   "outputs": [],
   "source": [
    "dataset['h_category'] = None\n",
    "for index, row in dataset.iterrows():\n",
    "    target = row['target']\n",
    "    classes[target] = row['category']\n",
    "    dataset.loc[index, 'h_category'] = mapping[row['category']]"
   ]
  },
  {
   "cell_type": "code",
   "execution_count": 9,
   "metadata": {},
   "outputs": [
    {
     "data": {
      "text/html": [
       "<div>\n",
       "<style scoped>\n",
       "    .dataframe tbody tr th:only-of-type {\n",
       "        vertical-align: middle;\n",
       "    }\n",
       "\n",
       "    .dataframe tbody tr th {\n",
       "        vertical-align: top;\n",
       "    }\n",
       "\n",
       "    .dataframe thead th {\n",
       "        text-align: right;\n",
       "    }\n",
       "</style>\n",
       "<table border=\"1\" class=\"dataframe\">\n",
       "  <thead>\n",
       "    <tr style=\"text-align: right;\">\n",
       "      <th></th>\n",
       "      <th>filename</th>\n",
       "      <th>fold</th>\n",
       "      <th>target</th>\n",
       "      <th>category</th>\n",
       "      <th>esc10</th>\n",
       "      <th>src_file</th>\n",
       "      <th>take</th>\n",
       "      <th>h_category</th>\n",
       "    </tr>\n",
       "  </thead>\n",
       "  <tbody>\n",
       "    <tr>\n",
       "      <th>0</th>\n",
       "      <td>1-100032-A-0.wav</td>\n",
       "      <td>1</td>\n",
       "      <td>0</td>\n",
       "      <td>dog</td>\n",
       "      <td>True</td>\n",
       "      <td>100032</td>\n",
       "      <td>A</td>\n",
       "      <td>0</td>\n",
       "    </tr>\n",
       "    <tr>\n",
       "      <th>1</th>\n",
       "      <td>1-100038-A-14.wav</td>\n",
       "      <td>1</td>\n",
       "      <td>14</td>\n",
       "      <td>chirping_birds</td>\n",
       "      <td>False</td>\n",
       "      <td>100038</td>\n",
       "      <td>A</td>\n",
       "      <td>0</td>\n",
       "    </tr>\n",
       "    <tr>\n",
       "      <th>2</th>\n",
       "      <td>1-100210-A-36.wav</td>\n",
       "      <td>1</td>\n",
       "      <td>36</td>\n",
       "      <td>vacuum_cleaner</td>\n",
       "      <td>False</td>\n",
       "      <td>100210</td>\n",
       "      <td>A</td>\n",
       "      <td>1</td>\n",
       "    </tr>\n",
       "    <tr>\n",
       "      <th>3</th>\n",
       "      <td>1-100210-B-36.wav</td>\n",
       "      <td>1</td>\n",
       "      <td>36</td>\n",
       "      <td>vacuum_cleaner</td>\n",
       "      <td>False</td>\n",
       "      <td>100210</td>\n",
       "      <td>B</td>\n",
       "      <td>1</td>\n",
       "    </tr>\n",
       "    <tr>\n",
       "      <th>4</th>\n",
       "      <td>1-101296-A-19.wav</td>\n",
       "      <td>1</td>\n",
       "      <td>19</td>\n",
       "      <td>thunderstorm</td>\n",
       "      <td>False</td>\n",
       "      <td>101296</td>\n",
       "      <td>A</td>\n",
       "      <td>1</td>\n",
       "    </tr>\n",
       "  </tbody>\n",
       "</table>\n",
       "</div>"
      ],
      "text/plain": [
       "            filename  fold  target        category  esc10  src_file take  \\\n",
       "0   1-100032-A-0.wav     1       0             dog   True    100032    A   \n",
       "1  1-100038-A-14.wav     1      14  chirping_birds  False    100038    A   \n",
       "2  1-100210-A-36.wav     1      36  vacuum_cleaner  False    100210    A   \n",
       "3  1-100210-B-36.wav     1      36  vacuum_cleaner  False    100210    B   \n",
       "4  1-101296-A-19.wav     1      19    thunderstorm  False    101296    A   \n",
       "\n",
       "   h_category  \n",
       "0           0  \n",
       "1           0  \n",
       "2           1  \n",
       "3           1  \n",
       "4           1  "
      ]
     },
     "execution_count": 9,
     "metadata": {},
     "output_type": "execute_result"
    }
   ],
   "source": [
    "dataset.head()"
   ]
  },
  {
   "cell_type": "markdown",
   "metadata": {},
   "source": [
    "## Getting Preprocessed Data\n",
    "We allow for previously preprocessed data to be retrieved for faster training turnaround. If the fold has been preprocessed, it is loaded but if not it is processed and saved."
   ]
  },
  {
   "cell_type": "code",
   "execution_count": 10,
   "metadata": {},
   "outputs": [],
   "source": [
    "df = ps.preprocess_fold(dataset, \n",
    "                        kind='mfcc', \n",
    "                        fld=1, \n",
    "                        blocksize=blocksize, \n",
    "                        overlap=overlap)"
   ]
  },
  {
   "cell_type": "code",
   "execution_count": 11,
   "metadata": {},
   "outputs": [
    {
     "data": {
      "text/html": [
       "<div>\n",
       "<style scoped>\n",
       "    .dataframe tbody tr th:only-of-type {\n",
       "        vertical-align: middle;\n",
       "    }\n",
       "\n",
       "    .dataframe tbody tr th {\n",
       "        vertical-align: top;\n",
       "    }\n",
       "\n",
       "    .dataframe thead th {\n",
       "        text-align: right;\n",
       "    }\n",
       "</style>\n",
       "<table border=\"1\" class=\"dataframe\">\n",
       "  <thead>\n",
       "    <tr style=\"text-align: right;\">\n",
       "      <th></th>\n",
       "      <th>0</th>\n",
       "      <th>1</th>\n",
       "      <th>2</th>\n",
       "      <th>3</th>\n",
       "      <th>4</th>\n",
       "      <th>5</th>\n",
       "      <th>6</th>\n",
       "      <th>7</th>\n",
       "      <th>8</th>\n",
       "      <th>9</th>\n",
       "      <th>...</th>\n",
       "      <th>106</th>\n",
       "      <th>107</th>\n",
       "      <th>108</th>\n",
       "      <th>109</th>\n",
       "      <th>110</th>\n",
       "      <th>111</th>\n",
       "      <th>112</th>\n",
       "      <th>113</th>\n",
       "      <th>l_target</th>\n",
       "      <th>h_target</th>\n",
       "    </tr>\n",
       "  </thead>\n",
       "  <tbody>\n",
       "    <tr>\n",
       "      <th>count</th>\n",
       "      <td>14019.000000</td>\n",
       "      <td>14019.000000</td>\n",
       "      <td>14019.000000</td>\n",
       "      <td>14019.000000</td>\n",
       "      <td>14019.000000</td>\n",
       "      <td>14019.000000</td>\n",
       "      <td>14019.000000</td>\n",
       "      <td>14019.000000</td>\n",
       "      <td>14019.000000</td>\n",
       "      <td>14019.000000</td>\n",
       "      <td>...</td>\n",
       "      <td>14019.000000</td>\n",
       "      <td>14019.000000</td>\n",
       "      <td>14019.000000</td>\n",
       "      <td>14019.000000</td>\n",
       "      <td>14019.000000</td>\n",
       "      <td>14019.000000</td>\n",
       "      <td>14019.000000</td>\n",
       "      <td>14019.000000</td>\n",
       "      <td>14019.000000</td>\n",
       "      <td>14019.000000</td>\n",
       "    </tr>\n",
       "    <tr>\n",
       "      <th>mean</th>\n",
       "      <td>53.508956</td>\n",
       "      <td>48.304978</td>\n",
       "      <td>39.143467</td>\n",
       "      <td>35.864142</td>\n",
       "      <td>33.853582</td>\n",
       "      <td>32.708766</td>\n",
       "      <td>31.009252</td>\n",
       "      <td>30.532134</td>\n",
       "      <td>29.889138</td>\n",
       "      <td>29.160472</td>\n",
       "      <td>...</td>\n",
       "      <td>-0.090844</td>\n",
       "      <td>0.072819</td>\n",
       "      <td>-0.077106</td>\n",
       "      <td>0.055085</td>\n",
       "      <td>-0.060978</td>\n",
       "      <td>0.036545</td>\n",
       "      <td>-0.051914</td>\n",
       "      <td>0.026218</td>\n",
       "      <td>0.631143</td>\n",
       "      <td>24.580783</td>\n",
       "    </tr>\n",
       "    <tr>\n",
       "      <th>std</th>\n",
       "      <td>25.265697</td>\n",
       "      <td>23.647203</td>\n",
       "      <td>15.790348</td>\n",
       "      <td>14.114633</td>\n",
       "      <td>13.635226</td>\n",
       "      <td>13.107436</td>\n",
       "      <td>12.420995</td>\n",
       "      <td>12.327251</td>\n",
       "      <td>12.303024</td>\n",
       "      <td>11.835478</td>\n",
       "      <td>...</td>\n",
       "      <td>0.187875</td>\n",
       "      <td>0.186975</td>\n",
       "      <td>0.177108</td>\n",
       "      <td>0.178257</td>\n",
       "      <td>0.173116</td>\n",
       "      <td>0.171906</td>\n",
       "      <td>0.169026</td>\n",
       "      <td>0.166759</td>\n",
       "      <td>0.482512</td>\n",
       "      <td>14.504488</td>\n",
       "    </tr>\n",
       "    <tr>\n",
       "      <th>min</th>\n",
       "      <td>0.000000</td>\n",
       "      <td>0.000000</td>\n",
       "      <td>0.000000</td>\n",
       "      <td>0.000000</td>\n",
       "      <td>0.000000</td>\n",
       "      <td>0.000000</td>\n",
       "      <td>0.000000</td>\n",
       "      <td>0.000000</td>\n",
       "      <td>0.000000</td>\n",
       "      <td>0.000000</td>\n",
       "      <td>...</td>\n",
       "      <td>-0.608988</td>\n",
       "      <td>-0.549936</td>\n",
       "      <td>-0.600307</td>\n",
       "      <td>-0.541945</td>\n",
       "      <td>-0.571735</td>\n",
       "      <td>-0.567479</td>\n",
       "      <td>-0.657158</td>\n",
       "      <td>-0.652748</td>\n",
       "      <td>0.000000</td>\n",
       "      <td>0.000000</td>\n",
       "    </tr>\n",
       "    <tr>\n",
       "      <th>25%</th>\n",
       "      <td>36.699715</td>\n",
       "      <td>32.942266</td>\n",
       "      <td>29.300557</td>\n",
       "      <td>26.795949</td>\n",
       "      <td>25.189006</td>\n",
       "      <td>24.263592</td>\n",
       "      <td>22.967298</td>\n",
       "      <td>22.581471</td>\n",
       "      <td>21.864301</td>\n",
       "      <td>21.577288</td>\n",
       "      <td>...</td>\n",
       "      <td>-0.228436</td>\n",
       "      <td>-0.051829</td>\n",
       "      <td>-0.206126</td>\n",
       "      <td>-0.066705</td>\n",
       "      <td>-0.187531</td>\n",
       "      <td>-0.083388</td>\n",
       "      <td>-0.173806</td>\n",
       "      <td>-0.089127</td>\n",
       "      <td>0.000000</td>\n",
       "      <td>12.000000</td>\n",
       "    </tr>\n",
       "    <tr>\n",
       "      <th>50%</th>\n",
       "      <td>52.504467</td>\n",
       "      <td>46.275288</td>\n",
       "      <td>40.232948</td>\n",
       "      <td>37.269062</td>\n",
       "      <td>34.792385</td>\n",
       "      <td>33.761940</td>\n",
       "      <td>32.032204</td>\n",
       "      <td>31.681557</td>\n",
       "      <td>30.886330</td>\n",
       "      <td>30.283770</td>\n",
       "      <td>...</td>\n",
       "      <td>-0.098217</td>\n",
       "      <td>0.073805</td>\n",
       "      <td>-0.080750</td>\n",
       "      <td>0.052019</td>\n",
       "      <td>-0.059712</td>\n",
       "      <td>0.032450</td>\n",
       "      <td>-0.052382</td>\n",
       "      <td>0.021335</td>\n",
       "      <td>1.000000</td>\n",
       "      <td>25.000000</td>\n",
       "    </tr>\n",
       "    <tr>\n",
       "      <th>75%</th>\n",
       "      <td>69.931293</td>\n",
       "      <td>61.654675</td>\n",
       "      <td>49.519983</td>\n",
       "      <td>45.619434</td>\n",
       "      <td>43.156816</td>\n",
       "      <td>41.639572</td>\n",
       "      <td>39.837561</td>\n",
       "      <td>39.272337</td>\n",
       "      <td>38.593704</td>\n",
       "      <td>37.789133</td>\n",
       "      <td>...</td>\n",
       "      <td>0.034678</td>\n",
       "      <td>0.208973</td>\n",
       "      <td>0.043096</td>\n",
       "      <td>0.184355</td>\n",
       "      <td>0.056283</td>\n",
       "      <td>0.159392</td>\n",
       "      <td>0.065436</td>\n",
       "      <td>0.145170</td>\n",
       "      <td>1.000000</td>\n",
       "      <td>37.000000</td>\n",
       "    </tr>\n",
       "    <tr>\n",
       "      <th>max</th>\n",
       "      <td>185.616364</td>\n",
       "      <td>166.130890</td>\n",
       "      <td>108.506081</td>\n",
       "      <td>90.964890</td>\n",
       "      <td>90.135765</td>\n",
       "      <td>97.072968</td>\n",
       "      <td>70.160568</td>\n",
       "      <td>76.352196</td>\n",
       "      <td>74.793617</td>\n",
       "      <td>80.134895</td>\n",
       "      <td>...</td>\n",
       "      <td>0.558040</td>\n",
       "      <td>0.640284</td>\n",
       "      <td>0.536997</td>\n",
       "      <td>0.585758</td>\n",
       "      <td>0.516501</td>\n",
       "      <td>0.569030</td>\n",
       "      <td>0.544415</td>\n",
       "      <td>0.522034</td>\n",
       "      <td>1.000000</td>\n",
       "      <td>49.000000</td>\n",
       "    </tr>\n",
       "  </tbody>\n",
       "</table>\n",
       "<p>8 rows × 116 columns</p>\n",
       "</div>"
      ],
      "text/plain": [
       "                  0             1             2             3             4  \\\n",
       "count  14019.000000  14019.000000  14019.000000  14019.000000  14019.000000   \n",
       "mean      53.508956     48.304978     39.143467     35.864142     33.853582   \n",
       "std       25.265697     23.647203     15.790348     14.114633     13.635226   \n",
       "min        0.000000      0.000000      0.000000      0.000000      0.000000   \n",
       "25%       36.699715     32.942266     29.300557     26.795949     25.189006   \n",
       "50%       52.504467     46.275288     40.232948     37.269062     34.792385   \n",
       "75%       69.931293     61.654675     49.519983     45.619434     43.156816   \n",
       "max      185.616364    166.130890    108.506081     90.964890     90.135765   \n",
       "\n",
       "                  5             6             7             8             9  \\\n",
       "count  14019.000000  14019.000000  14019.000000  14019.000000  14019.000000   \n",
       "mean      32.708766     31.009252     30.532134     29.889138     29.160472   \n",
       "std       13.107436     12.420995     12.327251     12.303024     11.835478   \n",
       "min        0.000000      0.000000      0.000000      0.000000      0.000000   \n",
       "25%       24.263592     22.967298     22.581471     21.864301     21.577288   \n",
       "50%       33.761940     32.032204     31.681557     30.886330     30.283770   \n",
       "75%       41.639572     39.837561     39.272337     38.593704     37.789133   \n",
       "max       97.072968     70.160568     76.352196     74.793617     80.134895   \n",
       "\n",
       "           ...                106           107           108           109  \\\n",
       "count      ...       14019.000000  14019.000000  14019.000000  14019.000000   \n",
       "mean       ...          -0.090844      0.072819     -0.077106      0.055085   \n",
       "std        ...           0.187875      0.186975      0.177108      0.178257   \n",
       "min        ...          -0.608988     -0.549936     -0.600307     -0.541945   \n",
       "25%        ...          -0.228436     -0.051829     -0.206126     -0.066705   \n",
       "50%        ...          -0.098217      0.073805     -0.080750      0.052019   \n",
       "75%        ...           0.034678      0.208973      0.043096      0.184355   \n",
       "max        ...           0.558040      0.640284      0.536997      0.585758   \n",
       "\n",
       "                110           111           112           113      l_target  \\\n",
       "count  14019.000000  14019.000000  14019.000000  14019.000000  14019.000000   \n",
       "mean      -0.060978      0.036545     -0.051914      0.026218      0.631143   \n",
       "std        0.173116      0.171906      0.169026      0.166759      0.482512   \n",
       "min       -0.571735     -0.567479     -0.657158     -0.652748      0.000000   \n",
       "25%       -0.187531     -0.083388     -0.173806     -0.089127      0.000000   \n",
       "50%       -0.059712      0.032450     -0.052382      0.021335      1.000000   \n",
       "75%        0.056283      0.159392      0.065436      0.145170      1.000000   \n",
       "max        0.516501      0.569030      0.544415      0.522034      1.000000   \n",
       "\n",
       "           h_target  \n",
       "count  14019.000000  \n",
       "mean      24.580783  \n",
       "std       14.504488  \n",
       "min        0.000000  \n",
       "25%       12.000000  \n",
       "50%       25.000000  \n",
       "75%       37.000000  \n",
       "max       49.000000  \n",
       "\n",
       "[8 rows x 116 columns]"
      ]
     },
     "execution_count": 11,
     "metadata": {},
     "output_type": "execute_result"
    }
   ],
   "source": [
    "df.describe()"
   ]
  },
  {
   "cell_type": "code",
   "execution_count": 12,
   "metadata": {},
   "outputs": [],
   "source": [
    "from sklearn.model_selection import train_test_split\n",
    "train, test, = train_test_split(\n",
    "                        df, test_size=0.20, random_state=42)"
   ]
  },
  {
   "cell_type": "code",
   "execution_count": 13,
   "metadata": {},
   "outputs": [],
   "source": [
    "from sklearn.preprocessing import normalize\n",
    "\n",
    "train_X = normalize(train.drop(['l_target', 'h_target'], axis=1))\n",
    "train_y = train['l_target']\n",
    "test_X = normalize(test.drop(['l_target', 'h_target'], axis=1))\n",
    "test_y = test['l_target']"
   ]
  },
  {
   "cell_type": "markdown",
   "metadata": {},
   "source": [
    "# Shallow Net\n",
    "Separate into classes"
   ]
  },
  {
   "cell_type": "code",
   "execution_count": 14,
   "metadata": {},
   "outputs": [
    {
     "data": {
      "image/png": "[encoded data removed]",
      "text/plain": [
       "<Figure size 432x288 with 1 Axes>"
      ]
     },
     "metadata": {
      "needs_background": "light"
     },
     "output_type": "display_data"
    }
   ],
   "source": [
    "anim = GMM(n_components=2, max_iter=100)\n",
    "plot_learning_curve(anim, 'SVM Learning Curve', train_X, train_y).show()"
   ]
  },
  {
   "cell_type": "code",
   "execution_count": 15,
   "metadata": {},
   "outputs": [
    {
     "data": {
      "text/plain": [
       "GaussianMixture(covariance_type='full', init_params='kmeans', max_iter=100,\n",
       "        means_init=None, n_components=2, n_init=1, precisions_init=None,\n",
       "        random_state=None, reg_covar=1e-06, tol=0.001, verbose=0,\n",
       "        verbose_interval=10, warm_start=False, weights_init=None)"
      ]
     },
     "execution_count": 15,
     "metadata": {},
     "output_type": "execute_result"
    }
   ],
   "source": [
    "anim.fit(train_X, train_y)"
   ]
  },
  {
   "cell_type": "code",
   "execution_count": 16,
   "metadata": {},
   "outputs": [
    {
     "name": "stdout",
     "output_type": "stream",
     "text": [
      "0.38159771754636235\n",
      "Confusion matrix, without normalization\n",
      "[[ 950   93]\n",
      " [1641  120]]\n"
     ]
    },
    {
     "data": {
      "image/png": "[encoded data removed]",
      "text/plain": [
       "<Figure size 720x720 with 2 Axes>"
      ]
     },
     "metadata": {
      "needs_background": "light"
     },
     "output_type": "display_data"
    }
   ],
   "source": [
    "pred = anim.predict(test_X)\n",
    "print(metrics.accuracy_score(test_y, pred))\n",
    "cm = metrics.confusion_matrix(test_y, pred)\n",
    "plt.figure(figsize=(10,10))\n",
    "plot_confusion_matrix(cm, h_classes)\n",
    "plt.show()"
   ]
  },
  {
   "cell_type": "markdown",
   "metadata": {},
   "source": [
    "# All Data"
   ]
  },
  {
   "cell_type": "code",
   "execution_count": 17,
   "metadata": {},
   "outputs": [],
   "source": [
    "all_df = ps.preprocess_fold(dataset, \n",
    "                        kind='mfcc', \n",
    "                        fld=range(2,6), \n",
    "                        blocksize=blocksize, \n",
    "                        overlap=overlap)"
   ]
  },
  {
   "cell_type": "code",
   "execution_count": 18,
   "metadata": {},
   "outputs": [],
   "source": [
    "X = all_df.drop(['l_target', 'h_target'], axis=1)\n",
    "y = all_df['l_target']"
   ]
  },
  {
   "cell_type": "code",
   "execution_count": 19,
   "metadata": {},
   "outputs": [
    {
     "name": "stdout",
     "output_type": "stream",
     "text": [
      "0.3761757142353894\n",
      "Confusion matrix, without normalization\n",
      "[[18937  2167]\n",
      " [33250  2420]]\n"
     ]
    },
    {
     "data": {
      "image/png": "[encoded data removed]",
      "text/plain": [
       "<Figure size 1440x1440 with 2 Axes>"
      ]
     },
     "metadata": {
      "needs_background": "light"
     },
     "output_type": "display_data"
    }
   ],
   "source": [
    "pred = anim.predict(X)\n",
    "print(metrics.accuracy_score(y, pred))\n",
    "cm = metrics.confusion_matrix(y, pred)\n",
    "plt.figure(figsize=(20,20))\n",
    "plot_confusion_matrix(cm, h_classes)\n",
    "plt.show()"
   ]
  },
  {
   "cell_type": "code",
   "execution_count": null,
   "metadata": {},
   "outputs": [],
   "source": []
  }
 ],
 "metadata": {
  "kernelspec": {
   "display_name": "Python 3",
   "language": "python",
   "name": "python3"
  },
  "language_info": {
   "codemirror_mode": {
    "name": "ipython",
    "version": 3
   },
   "file_extension": ".py",
   "mimetype": "text/x-python",
   "name": "python",
   "nbconvert_exporter": "python",
   "pygments_lexer": "ipython3",
   "version": "3.5.2"
  }
 },
 "nbformat": 4,
 "nbformat_minor": 2
}
